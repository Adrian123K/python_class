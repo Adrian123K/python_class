{
 "cells": [
  {
   "cell_type": "markdown",
   "metadata": {},
   "source": [
    "### ■ 예제41. 지역변수와 전역변수 이해하기\n",
    "#### 변수는 자신이 생성된 범위(코드블럭) 안에서만 유효하다\n",
    "#### 함수 안에서 만든 변수는 함수 안에서만 살아있다가 함수 코드의 실행이 종료되면 그 생명을 다한다 : 지역변수"
   ]
  },
  {
   "cell_type": "markdown",
   "metadata": {},
   "source": [
    "#### 이와는 반대로 함수 외부에서 만든 변수는 프로그램이 살아있는 동안에 함께 살아있다가 프로그램이 종료되면 같이 소멸된다.\n",
    "#### 이렇게 프로그램 전체를 유효범위로 가지는 변수 : 전역변수 "
   ]
  },
  {
   "cell_type": "code",
   "execution_count": 1,
   "metadata": {
    "ExecuteTime": {
     "end_time": "2020-05-15T06:10:29.688050Z",
     "start_time": "2020-05-15T06:10:29.681055Z"
    }
   },
   "outputs": [
    {
     "name": "stdout",
     "output_type": "stream",
     "text": [
      "지역변수\n",
      "전역변수\n"
     ]
    }
   ],
   "source": [
    "# 예제1\n",
    "strdata = '전역변수'\n",
    "\n",
    "def func1():\n",
    "    strdata='지역변수'\n",
    "    return strdata\n",
    "\n",
    "print(func1())\n",
    "print(strdata)"
   ]
  },
  {
   "cell_type": "markdown",
   "metadata": {},
   "source": [
    "#### 대부분 많은 코드들이 지역변수를 사용한다\n",
    "#### 전역변수를 사용하는 경우는\n",
    "    프로그램 전체에서 공통적으로 사용되고 잘 변하지 않는 데이터는 전역변수로 사용함"
   ]
  },
  {
   "cell_type": "code",
   "execution_count": 2,
   "metadata": {
    "ExecuteTime": {
     "end_time": "2020-05-15T06:10:29.756009Z",
     "start_time": "2020-05-15T06:10:29.690048Z"
    }
   },
   "outputs": [
    {
     "data": {
      "text/plain": [
       "78.53981633974483"
      ]
     },
     "execution_count": 2,
     "metadata": {},
     "output_type": "execute_result"
    }
   ],
   "source": [
    "# 예제2\n",
    "pi=3.141592653589793\n",
    "\n",
    "def cycle_func1(v_r):\n",
    "    global pi\n",
    "    return (pi*v_r*v_r)\n",
    "\n",
    "def cycle_func2(v_r):\n",
    "    global pi\n",
    "    return (1/4*(pi*v_r*v_r))\n",
    "\n",
    "cycle_func1(5)\n"
   ]
  },
  {
   "cell_type": "markdown",
   "metadata": {},
   "source": [
    "### ■ 예제42. 리턴 값 이해하기(return)\n",
    "#### 모든 함수는 이름을 갖고 있다. 이 이름을 불러주면 파이썬은 그 이름 아래에 정의 되어있는 코드를 실행한다. 이 때 함수를 부르는 코드를 호출자라 한다.\n",
    "#### 함수가 호출자에게 결과를 돌려주는 것을 반환(return)이라 한다"
   ]
  },
  {
   "cell_type": "code",
   "execution_count": 3,
   "metadata": {
    "ExecuteTime": {
     "end_time": "2020-05-15T06:10:29.821652Z",
     "start_time": "2020-05-15T06:10:29.758007Z"
    }
   },
   "outputs": [
    {
     "name": "stdout",
     "output_type": "stream",
     "text": [
      "9\n",
      "9\n"
     ]
    }
   ],
   "source": [
    "# 절댓값을 출력하는 함수\n",
    "print(abs(-9))\n",
    "print(abs(9))"
   ]
  },
  {
   "cell_type": "markdown",
   "metadata": {},
   "source": [
    "### ※ 문제90. abs 함수를 사용하지 말고 if문을 이용해서 절댓값을 출력하는 my_abs라는 함수를 생성하시오"
   ]
  },
  {
   "cell_type": "code",
   "execution_count": 4,
   "metadata": {
    "ExecuteTime": {
     "end_time": "2020-05-15T06:10:29.886294Z",
     "start_time": "2020-05-15T06:10:29.824648Z"
    }
   },
   "outputs": [
    {
     "name": "stdout",
     "output_type": "stream",
     "text": [
      "9\n"
     ]
    }
   ],
   "source": [
    "def my_abs(n):\n",
    "    if n>=0:\n",
    "        n=n\n",
    "    else:\n",
    "        n=-n\n",
    "    return n\n",
    "\n",
    "print(my_abs(-9))"
   ]
  },
  {
   "cell_type": "markdown",
   "metadata": {},
   "source": [
    "### ※ 문제91. (파이썬 알고리즘 문제 17번) 오라클의 instr 함수를 파이썬으로 생성하시오"
   ]
  },
  {
   "cell_type": "code",
   "execution_count": 5,
   "metadata": {
    "ExecuteTime": {
     "end_time": "2020-05-15T06:10:29.949287Z",
     "start_time": "2020-05-15T06:10:29.889293Z"
    }
   },
   "outputs": [
    {
     "name": "stdout",
     "output_type": "stream",
     "text": [
      "1\n",
      "2\n",
      "0\n"
     ]
    }
   ],
   "source": [
    "def instr(a,b):\n",
    "    ls=[]\n",
    "    for i in range(len(a)):\n",
    "        ls.append(a[i])\n",
    "        if ls[i]==b:\n",
    "            return i+1\n",
    "    return 0    \n",
    "print(instr('smith','s'))\n",
    "print(instr('smith','m'))\n",
    "print(instr('smith','k'))"
   ]
  },
  {
   "cell_type": "code",
   "execution_count": 6,
   "metadata": {
    "ExecuteTime": {
     "end_time": "2020-05-15T06:10:30.013857Z",
     "start_time": "2020-05-15T06:10:29.953282Z"
    }
   },
   "outputs": [
    {
     "data": {
      "text/plain": [
       "3"
      ]
     },
     "execution_count": 6,
     "metadata": {},
     "output_type": "execute_result"
    }
   ],
   "source": [
    "def instr2(a,n):\n",
    "    for i in range(len(a)):\n",
    "        if a[i]==n:\n",
    "            return i+1\n",
    "            break\n",
    "\n",
    "instr2('smith','i')"
   ]
  },
  {
   "cell_type": "markdown",
   "metadata": {},
   "source": [
    "### ※ 문제92. 오라클 개발자가 만든 것 처럼 아래의 결과가 0이 나오게 함수를 만드시오"
   ]
  },
  {
   "cell_type": "code",
   "execution_count": 7,
   "metadata": {
    "ExecuteTime": {
     "end_time": "2020-05-15T06:10:30.068653Z",
     "start_time": "2020-05-15T06:10:30.016857Z"
    }
   },
   "outputs": [
    {
     "name": "stdout",
     "output_type": "stream",
     "text": [
      "0\n",
      "2\n"
     ]
    }
   ],
   "source": [
    "def instr(a,b):\n",
    "    for i in range(len(a)):\n",
    "            if a[i]==b:\n",
    "                return i+1\n",
    "    return 0\n",
    "            \n",
    "print(instr('smith','k'))\n",
    "print(instr('smith','m'))"
   ]
  },
  {
   "cell_type": "markdown",
   "metadata": {},
   "source": [
    "### ■ 예제43. 파이썬 모듈 이해하기\n",
    "#### 파이썬에서는 각각의 소스 파일을 일컬어 모듈이라고 한다.\n",
    "#### 이미 만들어져 있고 안정성이 검증된 함수들을 성격에 맞게 하나의 파일로 묶어 놓은 것을 모듈이라고 한다.\n",
    "#### 외부의 모듈에 있는 함수를 사용하려면 이 모듈을 먼저 우리 코드로 가져와서 자유롭게 사용할 수 있도록 해야하는데\n",
    "#### 파이썬에서는 모듈을 import 한다고 한다"
   ]
  },
  {
   "cell_type": "code",
   "execution_count": 8,
   "metadata": {
    "ExecuteTime": {
     "end_time": "2020-05-15T06:10:35.131824Z",
     "start_time": "2020-05-15T06:10:30.070652Z"
    }
   },
   "outputs": [
    {
     "name": "stdout",
     "output_type": "stream",
     "text": [
      "5초간 프로그램을 정지합니다.\n",
      "5초가 지났습니다.\n"
     ]
    }
   ],
   "source": [
    "import time\n",
    "\n",
    "print('5초간 프로그램을 정지합니다.')\n",
    "time.sleep(5)\n",
    "print('5초가 지났습니다.')"
   ]
  },
  {
   "cell_type": "markdown",
   "metadata": {},
   "source": [
    "### ※ 문제93. 메모장을 열고 instr 함수와 initcap 함수를 붙여넣고 oracle.py라는 이름으로 저장"
   ]
  },
  {
   "cell_type": "code",
   "execution_count": 9,
   "metadata": {
    "ExecuteTime": {
     "end_time": "2020-05-15T06:10:35.206774Z",
     "start_time": "2020-05-15T06:10:35.134820Z"
    }
   },
   "outputs": [
    {
     "ename": "ModuleNotFoundError",
     "evalue": "No module named 'oracle'",
     "output_type": "error",
     "traceback": [
      "\u001b[1;31m---------------------------------------------------------------------------\u001b[0m",
      "\u001b[1;31mModuleNotFoundError\u001b[0m                       Traceback (most recent call last)",
      "\u001b[1;32m<ipython-input-9-9dc9af7014c3>\u001b[0m in \u001b[0;36m<module>\u001b[1;34m\u001b[0m\n\u001b[1;32m----> 1\u001b[1;33m \u001b[1;32mimport\u001b[0m \u001b[0moracle\u001b[0m\u001b[1;33m\u001b[0m\u001b[1;33m\u001b[0m\u001b[0m\n\u001b[0m\u001b[0;32m      2\u001b[0m \u001b[1;33m\u001b[0m\u001b[0m\n\u001b[0;32m      3\u001b[0m \u001b[0mprint\u001b[0m\u001b[1;33m(\u001b[0m\u001b[0moracle\u001b[0m\u001b[1;33m.\u001b[0m\u001b[0minstr\u001b[0m\u001b[1;33m(\u001b[0m\u001b[1;34m'smith'\u001b[0m\u001b[1;33m,\u001b[0m\u001b[1;34m'm'\u001b[0m\u001b[1;33m)\u001b[0m\u001b[1;33m)\u001b[0m\u001b[1;33m\u001b[0m\u001b[1;33m\u001b[0m\u001b[0m\n",
      "\u001b[1;31mModuleNotFoundError\u001b[0m: No module named 'oracle'"
     ]
    }
   ],
   "source": [
    "import oracle\n",
    "\n",
    "print(oracle.instr('smith','m'))"
   ]
  },
  {
   "cell_type": "markdown",
   "metadata": {},
   "source": [
    "### ■ 예제44. 파이썬 패키지 이해하기\n",
    "#### 우리가 음악파일을 저장할 때도 장르별로 폴더를 만들어서 별도로 저장하듯 파이썬 모듈도 음악처럼 갯수가 많아지면 폴더(모듈 꾸러미)별로 별도 관리를 해야 관리가 편함\n",
    "#### 이 폴더가 바로 '패키지'"
   ]
  },
  {
   "cell_type": "markdown",
   "metadata": {},
   "source": [
    "#### 파이썬 패키지 만드는 단계\n",
    "1. 패키지 저장할 폴더(my_loc)를 working directory 안에 생성\n",
    "2. module 파일을 해당 폴더에 추가\n",
    "3. 이 폴더가 패키지로 인정을 받으려면 반드시 갖고있어야 하는 파일이 있다.   \n",
    "``` __init__.py```\n",
    "4. 아래의 코드를 실행한다  \n",
    "```python\n",
    "from my_loc import oracle\n",
    "print (oracle.instr('smith','m')```"
   ]
  },
  {
   "cell_type": "code",
   "execution_count": 10,
   "metadata": {
    "ExecuteTime": {
     "end_time": "2020-05-15T06:10:39.832780Z",
     "start_time": "2020-05-15T06:10:39.790366Z"
    }
   },
   "outputs": [
    {
     "name": "stdout",
     "output_type": "stream",
     "text": [
      "2\n"
     ]
    }
   ],
   "source": [
    "from my_loc import oracle\n",
    "\n",
    "print(oracle.instr('smith','m'))"
   ]
  },
  {
   "cell_type": "markdown",
   "metadata": {},
   "source": [
    "### ※ 문제94. 패키지 안에 `__init__.py`를 비워두는게 보통인데 이 파일의 내용을 채워넣는 경우는 언제인가?\n",
    "#### 답: `__init__.py`에 아래의 내용을 적고 저장한다\n",
    "```python\n",
    "__all__=['oracle','machine_learn','deep_learn']\n",
    "```\n",
    "위와 같이 작성하면 아래와 같이 코드를 작성할 수 있게 된다\n",
    "```python\n",
    "from my_loc import *\n",
    "```"
   ]
  },
  {
   "cell_type": "markdown",
   "metadata": {},
   "source": [
    "### ■ 예제45. 파이썬 모듈 import 이해하기 (import)\n",
    "#### 이미 만들어져 있는 어떤 함수를 우리가 작성하는 코드에서 자유롭게 활용할 수 있으려면 해당 함수가 포함된 모듈을 import 해야 한다.\n",
    "#### import 하는 방법은 다음과 같다\n",
    "```python\n",
    "import 모듈이름\n",
    "from 패키지명 import 모듈이름\n",
    "import 패키지명.모듈이름\n",
    "```\n"
   ]
  },
  {
   "cell_type": "code",
   "execution_count": 11,
   "metadata": {
    "ExecuteTime": {
     "end_time": "2020-05-15T06:47:00.111057Z",
     "start_time": "2020-05-15T06:46:56.641779Z"
    }
   },
   "outputs": [],
   "source": [
    "# 예제\n",
    "import pandas as pd\n",
    "import numpy as np\n",
    "import time"
   ]
  },
  {
   "cell_type": "markdown",
   "metadata": {},
   "source": [
    "#### 패키지 이름을 안주고 모듈만 import 했는데 잘 실행이 되는 이유\n",
    "1. 파이썬 내장 모듈\n",
    "2. sys.path에 정의되어 있는 모듈    \n",
    "\n",
    "```      \n",
    "※ import를 만나면 파이썬 모듈을 찾는 순서\n",
    "1. 파이썬 내장 모듈 검색\n",
    "2. sys.path 에 정의되어 있는 디렉토리 검색\n",
    "```"
   ]
  },
  {
   "cell_type": "code",
   "execution_count": 12,
   "metadata": {
    "ExecuteTime": {
     "end_time": "2020-05-15T06:49:52.253166Z",
     "start_time": "2020-05-15T06:49:52.249167Z"
    }
   },
   "outputs": [
    {
     "name": "stdout",
     "output_type": "stream",
     "text": [
      "('_abc', '_ast', '_bisect', '_blake2', '_codecs', '_codecs_cn', '_codecs_hk', '_codecs_iso2022', '_codecs_jp', '_codecs_kr', '_codecs_tw', '_collections', '_contextvars', '_csv', '_datetime', '_functools', '_heapq', '_imp', '_io', '_json', '_locale', '_lsprof', '_md5', '_multibytecodec', '_opcode', '_operator', '_pickle', '_random', '_sha1', '_sha256', '_sha3', '_sha512', '_signal', '_sre', '_stat', '_string', '_struct', '_symtable', '_thread', '_tracemalloc', '_warnings', '_weakref', '_winapi', 'array', 'atexit', 'audioop', 'binascii', 'builtins', 'cmath', 'errno', 'faulthandler', 'gc', 'itertools', 'marshal', 'math', 'mmap', 'msvcrt', 'nt', 'parser', 'sys', 'time', 'winreg', 'xxsubtype', 'zipimport', 'zlib')\n"
     ]
    }
   ],
   "source": [
    "# 파이썬 내장 모듈이 무엇이 있는지 확인하는 방법\n",
    "import sys\n",
    "print(sys.builtin_module_names)"
   ]
  },
  {
   "cell_type": "code",
   "execution_count": 13,
   "metadata": {
    "ExecuteTime": {
     "end_time": "2020-05-15T06:51:17.263040Z",
     "start_time": "2020-05-15T06:51:17.258044Z"
    }
   },
   "outputs": [
    {
     "name": "stdout",
     "output_type": "stream",
     "text": [
      "K:\\Itwill\\2. Python\n",
      "C:\\Users\\knitwill\\anaconda3\\python37.zip\n",
      "C:\\Users\\knitwill\\anaconda3\\DLLs\n",
      "C:\\Users\\knitwill\\anaconda3\\lib\n",
      "C:\\Users\\knitwill\\anaconda3\n",
      "\n",
      "C:\\Users\\knitwill\\anaconda3\\lib\\site-packages\n",
      "C:\\Users\\knitwill\\anaconda3\\lib\\site-packages\\win32\n",
      "C:\\Users\\knitwill\\anaconda3\\lib\\site-packages\\win32\\lib\n",
      "C:\\Users\\knitwill\\anaconda3\\lib\\site-packages\\Pythonwin\n",
      "C:\\Users\\knitwill\\anaconda3\\lib\\site-packages\\IPython\\extensions\n",
      "C:\\Users\\knitwill\\.ipython\n"
     ]
    }
   ],
   "source": [
    "# sys.path에 정의된 디렉토리가 무엇인지 확인하는 방법\n",
    "import sys\n",
    "for path in sys.path:\n",
    "    print(path)"
   ]
  },
  {
   "cell_type": "markdown",
   "metadata": {},
   "source": [
    "#### □ site-package\n",
    "#### 파이썬의 기본 라이브러리 패키지 외에 추가적인 패키지를 설치하는 디렉토리\n",
    "#### site-packages 디렉토리에 여러가지 소프트웨어가 사용할 공통 모듈을 넣어두면 물리적인 장소에 구애받지 않고 모듈에 접근하여 반입할 수 있다."
   ]
  },
  {
   "cell_type": "markdown",
   "metadata": {},
   "source": [
    "### ※ 문제95. my_loc 폴더를 site-packages 디렉토리에 복사"
   ]
  },
  {
   "cell_type": "code",
   "execution_count": 14,
   "metadata": {
    "ExecuteTime": {
     "end_time": "2020-05-15T06:58:23.647877Z",
     "start_time": "2020-05-15T06:58:23.642880Z"
    }
   },
   "outputs": [
    {
     "data": {
      "text/plain": [
       "'Seojun'"
      ]
     },
     "execution_count": 14,
     "metadata": {},
     "output_type": "execute_result"
    }
   ],
   "source": [
    "from my_loc import oracle\n",
    "\n",
    "oracle.initcap('seojun')"
   ]
  },
  {
   "cell_type": "markdown",
   "metadata": {},
   "source": [
    "### ■ 예제46. numpy 모듈 사용하기\n",
    "#### numpy : python 언어에서 기본적으로 지원하지 않는 배열(array) 또는 행렬(matrix)의 계산을 숩기 해주는 라이브러리\n",
    "#### ML에서 많이 사용하는 선형대수학에 관련된 수식들을 python에서 쉽게 프로그래밍 할 수 있게 해준다."
   ]
  },
  {
   "cell_type": "markdown",
   "metadata": {},
   "source": [
    "### ※ 문제96. 아래의 행렬을 numpy array로 생성하시오\n",
    "$$\n",
    "    \\begin{pmatrix}\n",
    "    1 & 2 \\\\\n",
    "    4 & 7 \\\\\n",
    "    \\end{pmatrix}\n",
    "    +\n",
    "    \\begin{pmatrix}\n",
    "    \\end{pmatrix}\n",
    "$$"
   ]
  },
  {
   "cell_type": "code",
   "execution_count": 17,
   "metadata": {
    "ExecuteTime": {
     "end_time": "2020-05-15T07:06:42.065491Z",
     "start_time": "2020-05-15T07:06:42.061492Z"
    }
   },
   "outputs": [
    {
     "data": {
      "text/plain": [
       "[[1, 2], [4, 7]]"
      ]
     },
     "execution_count": 17,
     "metadata": {},
     "output_type": "execute_result"
    }
   ],
   "source": [
    "# 1. list로만 했을 때\n",
    "a=[[1,2],[4,7]]\n",
    "a"
   ]
  },
  {
   "cell_type": "code",
   "execution_count": 16,
   "metadata": {
    "ExecuteTime": {
     "end_time": "2020-05-15T07:06:38.430853Z",
     "start_time": "2020-05-15T07:06:38.424857Z"
    }
   },
   "outputs": [
    {
     "data": {
      "text/plain": [
       "array([[1, 2],\n",
       "       [4, 7]])"
      ]
     },
     "execution_count": 16,
     "metadata": {},
     "output_type": "execute_result"
    }
   ],
   "source": [
    "# 2. numpy array로 했을 때\n",
    "import numpy as np\n",
    "b=np.array([[1,2],[4,7]])\n",
    "b"
   ]
  },
  {
   "cell_type": "markdown",
   "metadata": {},
   "source": [
    "### ※ 문제97. 아래의 행렬의 합을 numpy로 구현하시오\n",
    "$$\n",
    "\\begin{pmatrix}\n",
    "1 & 2 \\\\\n",
    "4 & 5 \\\\\n",
    "\\end{pmatrix}\n",
    "+\n",
    "\\begin{pmatrix}\n",
    "3 & 1 \\\\\n",
    "6 & 2 \\\\\n",
    "\\end{pmatrix}\n",
    "$$"
   ]
  },
  {
   "cell_type": "code",
   "execution_count": 18,
   "metadata": {
    "ExecuteTime": {
     "end_time": "2020-05-15T07:09:17.640668Z",
     "start_time": "2020-05-15T07:09:17.633674Z"
    }
   },
   "outputs": [
    {
     "data": {
      "text/plain": [
       "array([[ 4,  3],\n",
       "       [10,  7]])"
      ]
     },
     "execution_count": 18,
     "metadata": {},
     "output_type": "execute_result"
    }
   ],
   "source": [
    "a=np.array([[1,2],[4,5]])\n",
    "b=np.array([[3,1],[6,2]])\n",
    "a+b"
   ]
  },
  {
   "cell_type": "markdown",
   "metadata": {},
   "source": [
    "### ※ 문제98. 아래의 행렬의 곱을 먼저 손으로 구하시오\n",
    "$$\n",
    "\\begin{pmatrix}\n",
    "1&2 \\\\\n",
    "3&4 \\\\\n",
    "\\end{pmatrix}\n",
    "*\n",
    "\\begin{pmatrix}\n",
    "2&3\\\\\n",
    "1&4\\\\\n",
    "\\end{pmatrix}\n",
    "$$"
   ]
  },
  {
   "cell_type": "markdown",
   "metadata": {},
   "source": [
    "$$\n",
    "\\begin{pmatrix}\n",
    "4&11\\\\\n",
    "10&25\\\\\n",
    "\\end{pmatrix}\n",
    "$$"
   ]
  },
  {
   "cell_type": "code",
   "execution_count": 20,
   "metadata": {
    "ExecuteTime": {
     "end_time": "2020-05-15T07:16:49.007153Z",
     "start_time": "2020-05-15T07:16:48.990164Z"
    }
   },
   "outputs": [
    {
     "data": {
      "text/plain": [
       "array([[ 4, 11],\n",
       "       [10, 25]])"
      ]
     },
     "execution_count": 20,
     "metadata": {},
     "output_type": "execute_result"
    }
   ],
   "source": [
    "a=np.array([[1,2],[3,4]])\n",
    "b=np.array([[2,3],[1,4]])\n",
    "np.dot(a,b)"
   ]
  },
  {
   "cell_type": "markdown",
   "metadata": {},
   "source": [
    "### ※ 문제99. 아래의 행렬의 곱을 numpy로 구현하시오\n",
    "$$\n",
    "\\begin{pmatrix}\n",
    "1&2&3\\\\\n",
    "4&5&6\\\\\n",
    "\\end{pmatrix}\n",
    "*\n",
    "\\begin{pmatrix}\n",
    "5&6\\\\\n",
    "7&8\\\\\n",
    "9&10\\\\\n",
    "\\end{pmatrix}\n",
    "$$"
   ]
  },
  {
   "cell_type": "code",
   "execution_count": 21,
   "metadata": {
    "ExecuteTime": {
     "end_time": "2020-05-15T07:19:08.640592Z",
     "start_time": "2020-05-15T07:19:08.633595Z"
    }
   },
   "outputs": [
    {
     "data": {
      "text/plain": [
       "array([[ 46,  52],\n",
       "       [109, 124]])"
      ]
     },
     "execution_count": 21,
     "metadata": {},
     "output_type": "execute_result"
    }
   ],
   "source": [
    "a=np.array([[1,2,3],[4,5,6]])\n",
    "b=np.array([[5,6],[7,8],[9,10]])\n",
    "np.dot(a,b)"
   ]
  },
  {
   "cell_type": "markdown",
   "metadata": {},
   "source": [
    "### ※ 문제100. 아래의 행렬의 3제곱을 출력하시오\n",
    "$$\n",
    "\\begin{pmatrix}\n",
    "1&2\\\\\n",
    "3&4\\\\\n",
    "\\end{pmatrix}\n",
    "$$"
   ]
  },
  {
   "cell_type": "code",
   "execution_count": 25,
   "metadata": {
    "ExecuteTime": {
     "end_time": "2020-05-15T07:45:02.981028Z",
     "start_time": "2020-05-15T07:45:02.975031Z"
    }
   },
   "outputs": [
    {
     "name": "stdout",
     "output_type": "stream",
     "text": [
      "[[ 37  54]\n",
      " [ 81 118]]\n"
     ]
    }
   ],
   "source": [
    "import numpy as np\n",
    "\n",
    "a=np.array([[1,2],[3,4]])\n",
    "print(np.dot(a,a).dot(a))            "
   ]
  },
  {
   "cell_type": "markdown",
   "metadata": {},
   "source": [
    "### ※(생각해야할 문제) 문제98번을 for loop문으로 구현하시오"
   ]
  },
  {
   "cell_type": "code",
   "execution_count": 70,
   "metadata": {
    "ExecuteTime": {
     "end_time": "2020-05-15T08:42:54.100749Z",
     "start_time": "2020-05-15T08:42:54.091754Z"
    }
   },
   "outputs": [
    {
     "data": {
      "text/plain": [
       "array([[ 4., 11.],\n",
       "       [10., 25.]])"
      ]
     },
     "execution_count": 70,
     "metadata": {},
     "output_type": "execute_result"
    }
   ],
   "source": [
    "a=np.array([[1,2],[3,4]])\n",
    "b=np.array([[2,3],[1,4]])\n",
    "rs=np.zeros((2,2))\n",
    "for i in range(len(a)):      \n",
    "    for j in range(len(b)):  \n",
    "        for k in range(len(a)):\n",
    "            rs[i][j]+=a[i][k]*b[k][j]\n",
    "rs        "
   ]
  },
  {
   "cell_type": "markdown",
   "metadata": {},
   "source": [
    "### ※(오늘의 마지막 문제)(파이썬 알고리즘 문제 18번) 탐욕 알고리즘을 파이썬으로 구현하시오\n",
    "#### 금액을 입력하세요 ~ 14\n",
    "#### 10원 1개, 7원 0개, 1원 4개"
   ]
  },
  {
   "cell_type": "code",
   "execution_count": 27,
   "metadata": {
    "ExecuteTime": {
     "end_time": "2020-05-15T07:59:28.207070Z",
     "start_time": "2020-05-15T07:59:26.430010Z"
    }
   },
   "outputs": [
    {
     "name": "stdout",
     "output_type": "stream",
     "text": [
      "금액을 입력하세요 ~14\n",
      "10원 1개 7원 0개 1원 4개\n"
     ]
    }
   ],
   "source": [
    "a=int(input('금액을 입력하세요 ~'))\n",
    "b, q, r= 0,0,0\n",
    "if a/10 != 0:\n",
    "    q=int(a/10)\n",
    "    r=a%10\n",
    "if r/7 !=0:\n",
    "    b=int(r/7)\n",
    "    r=r-b*7\n",
    "print('10원 %d개 7원 %d개 1원 %d개' %(q,b,r))"
   ]
  },
  {
   "cell_type": "code",
   "execution_count": 91,
   "metadata": {
    "ExecuteTime": {
     "end_time": "2020-05-15T09:19:15.097875Z",
     "start_time": "2020-05-15T09:19:15.092878Z"
    }
   },
   "outputs": [
    {
     "data": {
      "text/plain": [
       "1"
      ]
     },
     "execution_count": 91,
     "metadata": {},
     "output_type": "execute_result"
    }
   ],
   "source": [
    "len(a)"
   ]
  },
  {
   "cell_type": "code",
   "execution_count": null,
   "metadata": {},
   "outputs": [],
   "source": []
  },
  {
   "cell_type": "code",
   "execution_count": null,
   "metadata": {},
   "outputs": [],
   "source": []
  }
 ],
 "metadata": {
  "kernelspec": {
   "display_name": "Python 3",
   "language": "python",
   "name": "python3"
  },
  "language_info": {
   "codemirror_mode": {
    "name": "ipython",
    "version": 3
   },
   "file_extension": ".py",
   "mimetype": "text/x-python",
   "name": "python",
   "nbconvert_exporter": "python",
   "pygments_lexer": "ipython3",
   "version": "3.7.6"
  },
  "varInspector": {
   "cols": {
    "lenName": 16,
    "lenType": 16,
    "lenVar": 40
   },
   "kernels_config": {
    "python": {
     "delete_cmd_postfix": "",
     "delete_cmd_prefix": "del ",
     "library": "var_list.py",
     "varRefreshCmd": "print(var_dic_list())"
    },
    "r": {
     "delete_cmd_postfix": ") ",
     "delete_cmd_prefix": "rm(",
     "library": "var_list.r",
     "varRefreshCmd": "cat(var_dic_list()) "
    }
   },
   "types_to_exclude": [
    "module",
    "function",
    "builtin_function_or_method",
    "instance",
    "_Feature"
   ],
   "window_display": false
  }
 },
 "nbformat": 4,
 "nbformat_minor": 4
}
