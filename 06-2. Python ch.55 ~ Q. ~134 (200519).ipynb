{
 "cells": [
  {
   "cell_type": "markdown",
   "metadata": {},
   "source": [
    "### ■ 예제55. 예외처리 이해하기 (try ~ except)\n",
    "#### 프로그램을 작성하다 보면 뜻하지 않은 오류가 발생하는 코드가 있을 수 있다. 프로그램이 실행되는 동안 오류가 발생하면\n",
    "#### 프로그램이 더이상 진행될 수 없는 상태가 되는데 이를 예외상황\n",
    "#### 프로그램 예외가 발생하더라도 프로그램을 중단 시키지 않고 예외에 대한 적절한 처리를 하여 프로그램을 계속 진행시킬 수 있도록 하는 구문 try ~ except\n"
   ]
  },
  {
   "cell_type": "markdown",
   "metadata": {},
   "source": [
    "```python\n",
    "try:\n",
    "    문제가 없을 경우 실행할 코드\n",
    "except:\n",
    "    문제가 생겼을 경우 실행할 코드\n",
    "    ```"
   ]
  },
  {
   "cell_type": "code",
   "execution_count": 2,
   "metadata": {
    "ExecuteTime": {
     "end_time": "2020-05-19T04:52:20.858578Z",
     "start_time": "2020-05-19T04:52:19.570624Z"
    }
   },
   "outputs": [
    {
     "name": "stdout",
     "output_type": "stream",
     "text": [
      "분자의 숫자를 입력하세요 ~10\n",
      "분모의 숫자를 입력하세요 ~0\n"
     ]
    },
    {
     "ename": "ZeroDivisionError",
     "evalue": "division by zero",
     "output_type": "error",
     "traceback": [
      "\u001b[1;31m---------------------------------------------------------------------------\u001b[0m",
      "\u001b[1;31mZeroDivisionError\u001b[0m                         Traceback (most recent call last)",
      "\u001b[1;32m<ipython-input-2-99eda936c640>\u001b[0m in \u001b[0;36m<module>\u001b[1;34m\u001b[0m\n\u001b[0;32m      5\u001b[0m     \u001b[1;32mreturn\u001b[0m \u001b[0mint\u001b[0m\u001b[1;33m(\u001b[0m\u001b[0mx\u001b[0m\u001b[1;33m)\u001b[0m\u001b[1;33m/\u001b[0m\u001b[0mint\u001b[0m\u001b[1;33m(\u001b[0m\u001b[0my\u001b[0m\u001b[1;33m)\u001b[0m\u001b[1;33m\u001b[0m\u001b[1;33m\u001b[0m\u001b[0m\n\u001b[0;32m      6\u001b[0m \u001b[1;33m\u001b[0m\u001b[0m\n\u001b[1;32m----> 7\u001b[1;33m \u001b[0mprint\u001b[0m\u001b[1;33m(\u001b[0m\u001b[0mmy_divide\u001b[0m\u001b[1;33m(\u001b[0m\u001b[1;33m)\u001b[0m\u001b[1;33m)\u001b[0m\u001b[1;33m\u001b[0m\u001b[1;33m\u001b[0m\u001b[0m\n\u001b[0m",
      "\u001b[1;32m<ipython-input-2-99eda936c640>\u001b[0m in \u001b[0;36mmy_divide\u001b[1;34m()\u001b[0m\n\u001b[0;32m      3\u001b[0m     \u001b[0mx\u001b[0m\u001b[1;33m=\u001b[0m\u001b[0minput\u001b[0m\u001b[1;33m(\u001b[0m\u001b[1;34m'분자의 숫자를 입력하세요 ~'\u001b[0m\u001b[1;33m)\u001b[0m\u001b[1;33m\u001b[0m\u001b[1;33m\u001b[0m\u001b[0m\n\u001b[0;32m      4\u001b[0m     \u001b[0my\u001b[0m\u001b[1;33m=\u001b[0m\u001b[0minput\u001b[0m\u001b[1;33m(\u001b[0m\u001b[1;34m'분모의 숫자를 입력하세요 ~'\u001b[0m\u001b[1;33m)\u001b[0m\u001b[1;33m\u001b[0m\u001b[1;33m\u001b[0m\u001b[0m\n\u001b[1;32m----> 5\u001b[1;33m     \u001b[1;32mreturn\u001b[0m \u001b[0mint\u001b[0m\u001b[1;33m(\u001b[0m\u001b[0mx\u001b[0m\u001b[1;33m)\u001b[0m\u001b[1;33m/\u001b[0m\u001b[0mint\u001b[0m\u001b[1;33m(\u001b[0m\u001b[0my\u001b[0m\u001b[1;33m)\u001b[0m\u001b[1;33m\u001b[0m\u001b[1;33m\u001b[0m\u001b[0m\n\u001b[0m\u001b[0;32m      6\u001b[0m \u001b[1;33m\u001b[0m\u001b[0m\n\u001b[0;32m      7\u001b[0m \u001b[0mprint\u001b[0m\u001b[1;33m(\u001b[0m\u001b[0mmy_divide\u001b[0m\u001b[1;33m(\u001b[0m\u001b[1;33m)\u001b[0m\u001b[1;33m)\u001b[0m\u001b[1;33m\u001b[0m\u001b[1;33m\u001b[0m\u001b[0m\n",
      "\u001b[1;31mZeroDivisionError\u001b[0m: division by zero"
     ]
    }
   ],
   "source": [
    "# 예제1. try ~ except를 사용 안했을 때 예제\n",
    "def my_divide():\n",
    "    x=input('분자의 숫자를 입력하세요 ~')\n",
    "    y=input('분모의 숫자를 입력하세요 ~')\n",
    "    return int(x)/int(y)\n",
    "\n",
    "print(my_divide())"
   ]
  },
  {
   "cell_type": "code",
   "execution_count": 69,
   "metadata": {
    "ExecuteTime": {
     "end_time": "2020-05-19T06:08:16.450875Z",
     "start_time": "2020-05-19T06:08:14.317272Z"
    }
   },
   "outputs": [
    {
     "name": "stdout",
     "output_type": "stream",
     "text": [
      "분자의 숫자를 입력하세요 ~\n",
      "분모의 숫자를 입력하세요 ~\n",
      "나누기를 할 수 없습니다\n"
     ]
    }
   ],
   "source": [
    "# 예제2. try ~ except를 사용했을 때의 예제\n",
    "def my_divide():\n",
    "    try:\n",
    "        x=input('분자의 숫자를 입력하세요 ~')\n",
    "        y=input('분모의 숫자를 입력하세요 ~')\n",
    "        return int(x)/int(y)\n",
    "    except:\n",
    "        return '나누기를 할 수 없습니다'    \n",
    "\n",
    "print(my_divide())"
   ]
  },
  {
   "cell_type": "code",
   "execution_count": 9,
   "metadata": {
    "ExecuteTime": {
     "end_time": "2020-05-19T05:03:11.335794Z",
     "start_time": "2020-05-19T05:03:11.224013Z"
    }
   },
   "outputs": [
    {
     "data": {
      "text/html": [
       "<div>\n",
       "<style scoped>\n",
       "    .dataframe tbody tr th:only-of-type {\n",
       "        vertical-align: middle;\n",
       "    }\n",
       "\n",
       "    .dataframe tbody tr th {\n",
       "        vertical-align: top;\n",
       "    }\n",
       "\n",
       "    .dataframe thead th {\n",
       "        text-align: right;\n",
       "    }\n",
       "</style>\n",
       "<table border=\"1\" class=\"dataframe\">\n",
       "  <thead>\n",
       "    <tr style=\"text-align: right;\">\n",
       "      <th></th>\n",
       "      <th>EMPNO</th>\n",
       "      <th>ENAME</th>\n",
       "      <th>JOB</th>\n",
       "      <th>MGR</th>\n",
       "      <th>HIREDATE</th>\n",
       "      <th>SAL</th>\n",
       "      <th>COMM</th>\n",
       "      <th>DEPTNO</th>\n",
       "    </tr>\n",
       "  </thead>\n",
       "  <tbody>\n",
       "    <tr>\n",
       "      <th>0</th>\n",
       "      <td>7839</td>\n",
       "      <td>KING</td>\n",
       "      <td>PRESIDENT</td>\n",
       "      <td>NaN</td>\n",
       "      <td>1981-11-17</td>\n",
       "      <td>5000.0</td>\n",
       "      <td>NaN</td>\n",
       "      <td>10</td>\n",
       "    </tr>\n",
       "    <tr>\n",
       "      <th>1</th>\n",
       "      <td>7698</td>\n",
       "      <td>BLAKE</td>\n",
       "      <td>MANAGER</td>\n",
       "      <td>7839.0</td>\n",
       "      <td>1981-05-01</td>\n",
       "      <td>2850.0</td>\n",
       "      <td>NaN</td>\n",
       "      <td>30</td>\n",
       "    </tr>\n",
       "    <tr>\n",
       "      <th>2</th>\n",
       "      <td>7782</td>\n",
       "      <td>CLARK</td>\n",
       "      <td>MANAGER</td>\n",
       "      <td>7839.0</td>\n",
       "      <td>1981-05-09</td>\n",
       "      <td>2450.0</td>\n",
       "      <td>NaN</td>\n",
       "      <td>10</td>\n",
       "    </tr>\n",
       "    <tr>\n",
       "      <th>3</th>\n",
       "      <td>7566</td>\n",
       "      <td>JONES</td>\n",
       "      <td>MANAGER</td>\n",
       "      <td>7839.0</td>\n",
       "      <td>1981-04-01</td>\n",
       "      <td>2975.0</td>\n",
       "      <td>NaN</td>\n",
       "      <td>20</td>\n",
       "    </tr>\n",
       "    <tr>\n",
       "      <th>4</th>\n",
       "      <td>7654</td>\n",
       "      <td>MARTIN</td>\n",
       "      <td>SALESMAN</td>\n",
       "      <td>7698.0</td>\n",
       "      <td>1981-09-10</td>\n",
       "      <td>1250.0</td>\n",
       "      <td>1400.0</td>\n",
       "      <td>30</td>\n",
       "    </tr>\n",
       "    <tr>\n",
       "      <th>5</th>\n",
       "      <td>7499</td>\n",
       "      <td>ALLEN</td>\n",
       "      <td>SALESMAN</td>\n",
       "      <td>7698.0</td>\n",
       "      <td>1981-02-11</td>\n",
       "      <td>1600.0</td>\n",
       "      <td>300.0</td>\n",
       "      <td>30</td>\n",
       "    </tr>\n",
       "    <tr>\n",
       "      <th>6</th>\n",
       "      <td>7844</td>\n",
       "      <td>TURNER</td>\n",
       "      <td>SALESMAN</td>\n",
       "      <td>7698.0</td>\n",
       "      <td>1981-08-21</td>\n",
       "      <td>1500.0</td>\n",
       "      <td>0.0</td>\n",
       "      <td>30</td>\n",
       "    </tr>\n",
       "    <tr>\n",
       "      <th>7</th>\n",
       "      <td>7900</td>\n",
       "      <td>JAMES</td>\n",
       "      <td>CLERK</td>\n",
       "      <td>7698.0</td>\n",
       "      <td>1981-12-11</td>\n",
       "      <td>950.0</td>\n",
       "      <td>NaN</td>\n",
       "      <td>30</td>\n",
       "    </tr>\n",
       "    <tr>\n",
       "      <th>8</th>\n",
       "      <td>7521</td>\n",
       "      <td>WARD</td>\n",
       "      <td>SALESMAN</td>\n",
       "      <td>7698.0</td>\n",
       "      <td>1981-02-23</td>\n",
       "      <td>1250.0</td>\n",
       "      <td>500.0</td>\n",
       "      <td>30</td>\n",
       "    </tr>\n",
       "    <tr>\n",
       "      <th>9</th>\n",
       "      <td>7902</td>\n",
       "      <td>FORD</td>\n",
       "      <td>ANALYST</td>\n",
       "      <td>7566.0</td>\n",
       "      <td>1981-12-11</td>\n",
       "      <td>3000.0</td>\n",
       "      <td>NaN</td>\n",
       "      <td>20</td>\n",
       "    </tr>\n",
       "    <tr>\n",
       "      <th>10</th>\n",
       "      <td>7369</td>\n",
       "      <td>SMITH</td>\n",
       "      <td>CLERK</td>\n",
       "      <td>7902.0</td>\n",
       "      <td>1980-12-09</td>\n",
       "      <td>800.0</td>\n",
       "      <td>NaN</td>\n",
       "      <td>20</td>\n",
       "    </tr>\n",
       "    <tr>\n",
       "      <th>11</th>\n",
       "      <td>7788</td>\n",
       "      <td>SCOTT</td>\n",
       "      <td>ANALYST</td>\n",
       "      <td>7566.0</td>\n",
       "      <td>1982-12-22</td>\n",
       "      <td>3000.0</td>\n",
       "      <td>NaN</td>\n",
       "      <td>20</td>\n",
       "    </tr>\n",
       "    <tr>\n",
       "      <th>12</th>\n",
       "      <td>7876</td>\n",
       "      <td>ADAMS</td>\n",
       "      <td>CLERK</td>\n",
       "      <td>7788.0</td>\n",
       "      <td>1983-01-15</td>\n",
       "      <td>1100.0</td>\n",
       "      <td>NaN</td>\n",
       "      <td>20</td>\n",
       "    </tr>\n",
       "    <tr>\n",
       "      <th>13</th>\n",
       "      <td>7934</td>\n",
       "      <td>MILLER</td>\n",
       "      <td>CLERK</td>\n",
       "      <td>7782.0</td>\n",
       "      <td>1982-01-11</td>\n",
       "      <td>1300.0</td>\n",
       "      <td>NaN</td>\n",
       "      <td>10</td>\n",
       "    </tr>\n",
       "  </tbody>\n",
       "</table>\n",
       "</div>"
      ],
      "text/plain": [
       "    EMPNO   ENAME        JOB     MGR   HIREDATE     SAL    COMM  DEPTNO\n",
       "0    7839    KING  PRESIDENT     NaN 1981-11-17  5000.0     NaN      10\n",
       "1    7698   BLAKE    MANAGER  7839.0 1981-05-01  2850.0     NaN      30\n",
       "2    7782   CLARK    MANAGER  7839.0 1981-05-09  2450.0     NaN      10\n",
       "3    7566   JONES    MANAGER  7839.0 1981-04-01  2975.0     NaN      20\n",
       "4    7654  MARTIN   SALESMAN  7698.0 1981-09-10  1250.0  1400.0      30\n",
       "5    7499   ALLEN   SALESMAN  7698.0 1981-02-11  1600.0   300.0      30\n",
       "6    7844  TURNER   SALESMAN  7698.0 1981-08-21  1500.0     0.0      30\n",
       "7    7900   JAMES      CLERK  7698.0 1981-12-11   950.0     NaN      30\n",
       "8    7521    WARD   SALESMAN  7698.0 1981-02-23  1250.0   500.0      30\n",
       "9    7902    FORD    ANALYST  7566.0 1981-12-11  3000.0     NaN      20\n",
       "10   7369   SMITH      CLERK  7902.0 1980-12-09   800.0     NaN      20\n",
       "11   7788   SCOTT    ANALYST  7566.0 1982-12-22  3000.0     NaN      20\n",
       "12   7876   ADAMS      CLERK  7788.0 1983-01-15  1100.0     NaN      20\n",
       "13   7934  MILLER      CLERK  7782.0 1982-01-11  1300.0     NaN      10"
      ]
     },
     "execution_count": 9,
     "metadata": {},
     "output_type": "execute_result"
    }
   ],
   "source": [
    "import cx_Oracle\n",
    "import pandas as pd\n",
    "\n",
    "dsn=cx_Oracle.makedsn('localhost',1521,'orcl')\n",
    "db=cx_Oracle.connect('scott','tiger',dsn)\n",
    "cursor=db.cursor()\n",
    "cursor.execute(\"\"\"select * from emp\"\"\")\n",
    "row=cursor.fetchall()\n",
    "colname=cursor.description # 위에서 select 한 테이블의 column명 가져오기\n",
    "cursor.close()  # cursor 메모리를 닫는다\n",
    "col=[] # col 이라는 이름의 비어있는 리스트를 생성\n",
    "for i in colname:  # loop문이 돌면서 비어있는 col 리스트에 dept테이블의 column명을 채워 넣는다\n",
    "    col.append(i[0])\n",
    "emp=pd.DataFrame(row, columns=col)\n",
    "emp"
   ]
  },
  {
   "cell_type": "markdown",
   "metadata": {},
   "source": [
    "### ※ 문제124. 위의 코드를 수정해서 이름을 물어보게 하고 이름을 입력하면 해당 사원의 이름과 월급이 출력되게 하시오"
   ]
  },
  {
   "cell_type": "code",
   "execution_count": 15,
   "metadata": {
    "ExecuteTime": {
     "end_time": "2020-05-19T05:06:28.874840Z",
     "start_time": "2020-05-19T05:06:27.151242Z"
    }
   },
   "outputs": [
    {
     "name": "stdout",
     "output_type": "stream",
     "text": [
      "이름을 입력하세요 ~SCOTT\n",
      "    ENAME     SAL\n",
      "11  SCOTT  3000.0\n"
     ]
    }
   ],
   "source": [
    "import cx_Oracle\n",
    "import pandas as pd\n",
    "\n",
    "cursor=db.cursor()\n",
    "cursor.execute(\"\"\"select * from emp\"\"\")\n",
    "row=cursor.fetchall()\n",
    "colname=cursor.description # 위에서 select 한 테이블의 column명 가져오기\n",
    "cursor.close()  # cursor 메모리를 닫는다\n",
    "col=[] # col 이라는 이름의 비어있는 리스트를 생성\n",
    "for i in colname:  # loop문이 돌면서 비어있는 col 리스트에 dept테이블의 column명을 채워 넣는다\n",
    "    col.append(i[0])\n",
    "emp=pd.DataFrame(row, columns=col)\n",
    "name=input('이름을 입력하세요 ~')\n",
    "print(emp[['ENAME','SAL']][emp['ENAME']==name.upper()])"
   ]
  },
  {
   "cell_type": "markdown",
   "metadata": {},
   "source": [
    "### ※ 문제125. 위의 코드에 예외처리를 해서 없는 사원 이름을 넣게 되면 에러가 나지 않고 '해당 사원은 없습니다.' 라는 메세지가 출력되게 하시오"
   ]
  },
  {
   "cell_type": "code",
   "execution_count": 25,
   "metadata": {
    "ExecuteTime": {
     "end_time": "2020-05-19T05:10:28.840361Z",
     "start_time": "2020-05-19T05:10:26.813781Z"
    }
   },
   "outputs": [
    {
     "name": "stdout",
     "output_type": "stream",
     "text": [
      "이름을 입력하세요 ~scott\n",
      "['SCOTT' 3000.0]\n"
     ]
    }
   ],
   "source": [
    "\n",
    "cursor=db.cursor()\n",
    "cursor.execute(\"\"\"select * from emp\"\"\")\n",
    "row=cursor.fetchall()\n",
    "colname=cursor.description # 위에서 select 한 테이블의 column명 가져오기\n",
    "cursor.close()  # cursor 메모리를 닫는다\n",
    "col=[] # col 이라는 이름의 비어있는 리스트를 생성\n",
    "for i in colname:  # loop문이 돌면서 비어있는 col 리스트에 dept테이블의 column명을 채워 넣는다\n",
    "    col.append(i[0])\n",
    "emp=pd.DataFrame(row, columns=col)\n",
    "try:\n",
    "    name=input('이름을 입력하세요 ~')\n",
    "    print(emp[['ENAME','SAL']][emp['ENAME']==name.upper()].values[0])\n",
    "except:\n",
    "    print('해당사원은 없습니다.')"
   ]
  },
  {
   "cell_type": "markdown",
   "metadata": {},
   "source": [
    "### ■ 예제56. 예외처리 이해하기 (try ~ except ~ else)\n",
    "#### 어떤 로직을 수행할 때 오류 상황이 아닐 경우에만 어떤 작업을 수행하는 코드를 작성해야 할 때 가 있다. \n",
    "#### 이런 경우에  try ~ except ~ else 구문을 활용"
   ]
  },
  {
   "cell_type": "markdown",
   "metadata": {
    "ExecuteTime": {
     "end_time": "2020-05-19T05:12:25.139693Z",
     "start_time": "2020-05-19T05:12:25.133696Z"
    }
   },
   "source": [
    "```python\n",
    "try:\n",
    "    실행할 코드 블럭\n",
    "except:\n",
    "    예외 처리할 코드 블럭\n",
    "else:\n",
    "    except 절을 만나지 않았을 때 실행하는 코드 블럭\n",
    "```"
   ]
  },
  {
   "cell_type": "code",
   "execution_count": 28,
   "metadata": {
    "ExecuteTime": {
     "end_time": "2020-05-19T05:14:05.658709Z",
     "start_time": "2020-05-19T05:14:00.551993Z"
    }
   },
   "outputs": [
    {
     "name": "stdout",
     "output_type": "stream",
     "text": [
      "이름을 입력하세요 ~king\n",
      "['KING' 5000.0]\n",
      "데이터 추출에 성공했습니다.\n"
     ]
    }
   ],
   "source": [
    "# 예제. \n",
    "cursor=db.cursor()\n",
    "cursor.execute(\"\"\"select * from emp\"\"\")\n",
    "row=cursor.fetchall()\n",
    "colname=cursor.description # 위에서 select 한 테이블의 column명 가져오기\n",
    "cursor.close()  # cursor 메모리를 닫는다\n",
    "col=[] # col 이라는 이름의 비어있는 리스트를 생성\n",
    "for i in colname:  # loop문이 돌면서 비어있는 col 리스트에 dept테이블의 column명을 채워 넣는다\n",
    "    col.append(i[0])\n",
    "emp=pd.DataFrame(row, columns=col)\n",
    "try:\n",
    "    name=input('이름을 입력하세요 ~')\n",
    "    print(emp[['ENAME','SAL']][emp['ENAME']==name.upper()].values[0])\n",
    "except:\n",
    "    print('해당사원은 없습니다.')\n",
    "else:\n",
    "    print('데이터 추출에 성공했습니다.')"
   ]
  },
  {
   "cell_type": "code",
   "execution_count": 30,
   "metadata": {
    "ExecuteTime": {
     "end_time": "2020-05-19T05:17:13.120939Z",
     "start_time": "2020-05-19T05:17:11.635875Z"
    }
   },
   "outputs": [
    {
     "name": "stdout",
     "output_type": "stream",
     "text": [
      "이름을 입력하세요 scott\n",
      "데이터 추출에 성공했습니다.\n"
     ]
    },
    {
     "data": {
      "text/plain": [
       "array(['SCOTT', 3000.0], dtype=object)"
      ]
     },
     "execution_count": 30,
     "metadata": {},
     "output_type": "execute_result"
    }
   ],
   "source": [
    "\n",
    "def emp():\n",
    "    import cx_Oracle\n",
    "    import pandas as pd\n",
    "    dsn = cx_Oracle.makedsn('localhost', 1521, 'orcl')\n",
    "    db = cx_Oracle.connect('scott','tiger',dsn)\n",
    "    cursor = db.cursor()\n",
    "    cursor.execute(\"\"\" select * from emp \"\"\")\n",
    "    row = cursor.fetchall()\n",
    "    colname = cursor.description\n",
    "    cursor.close()\n",
    "    col = []          \n",
    "    for i in colname:       \n",
    "        col.append(i[0])  \n",
    "    emp = pd.DataFrame(row, columns = col )\n",
    "    try:\n",
    "        name = input('이름을 입력하세요 ')\n",
    "        result = emp[['ENAME','SAL']][emp['ENAME']==name.upper()].values[0]\n",
    "    except:\n",
    "        print('해당 사원은 없습니다.')\n",
    "    else:\n",
    "        print('데이터 추출에 성공했습니다.')\n",
    "        return print(result)\n",
    "emp()"
   ]
  },
  {
   "cell_type": "markdown",
   "metadata": {},
   "source": [
    "#### ※ 설명: \n",
    "```python\n",
    "try:\n",
    "    반드시 수행이 되어야 하는 중요한 코드를 여기서 처리해야 else 이후의 다른 코드들이 돌게 하고 싶을 때 사용\n",
    "except:\n",
    "    \n",
    "else:\n",
    "    try와 except사이의 코드가 문제가 없다는 것을 확실히 눈으로 확인하고 넘어갈 수 있다는 장점이 있다.\n",
    "    ```"
   ]
  },
  {
   "cell_type": "markdown",
   "metadata": {},
   "source": [
    "### ※ 문제126. 동전을 10번 던져서 앞면이 2번 나올 확률을 출력하는 코드를 가져다가 함수를 생성하고 앞면이 나오는 횟수를 직접 입력할 수 있도록 하시오\n",
    "```python\n",
    "print(coin_prob(2))\n",
    "```\n"
   ]
  },
  {
   "cell_type": "code",
   "execution_count": 34,
   "metadata": {
    "ExecuteTime": {
     "end_time": "2020-05-19T05:24:43.618364Z",
     "start_time": "2020-05-19T05:24:42.192242Z"
    }
   },
   "outputs": [
    {
     "name": "stdout",
     "output_type": "stream",
     "text": [
      "앞면이 3회 나올 확률\n",
      "0.11655\n"
     ]
    }
   ],
   "source": [
    "def coin_prob(num):\n",
    "    import random\n",
    "    ccnt=0\n",
    "    for i in range(100000):\n",
    "        cnt=0\n",
    "        for j in range(10):\n",
    "            if random.randint(0,1)==1:\n",
    "                cnt += 1\n",
    "        if cnt == num:\n",
    "            ccnt += 1\n",
    "    print(f'앞면이 {num}회 나올 확률')\n",
    "    return print(ccnt/100000)\n",
    "\n",
    "coin_prob(3)"
   ]
  },
  {
   "cell_type": "markdown",
   "metadata": {},
   "source": [
    "### ※ 문제127. 위의 함수를 실행할 때 숫자를 넣어야 하는데 문자를 넣고 실행하면 '숫자가 아니어서 실행 할 수 없습니다.' 라는 메세지가 출력되게 하시오"
   ]
  },
  {
   "cell_type": "code",
   "execution_count": 68,
   "metadata": {
    "ExecuteTime": {
     "end_time": "2020-05-19T06:03:16.246549Z",
     "start_time": "2020-05-19T06:03:16.239554Z"
    }
   },
   "outputs": [],
   "source": [
    "def coin_prob(num):\n",
    "    import random\n",
    "    ccnt=0\n",
    "    try:\n",
    "        num=int(num)\n",
    "        for i in range(100000):\n",
    "            cnt=0\n",
    "            for j in range(10):\n",
    "                if random.randint(0,1)==1:\n",
    "                    cnt += 1\n",
    "            if cnt == num:\n",
    "                ccnt += 1\n",
    "    except:\n",
    "        return '숫자가 아니어서 실행할 수 없습니다.'\n",
    "    else:\n",
    "        return f'{num}회 시행한 결과 \\t {ccnt/100000}'"
   ]
  },
  {
   "cell_type": "code",
   "execution_count": 67,
   "metadata": {
    "ExecuteTime": {
     "end_time": "2020-05-19T06:03:12.881116Z",
     "start_time": "2020-05-19T06:03:11.441136Z"
    }
   },
   "outputs": [
    {
     "name": "stdout",
     "output_type": "stream",
     "text": [
      "숫자가 아니어서 실행할 수 없습니다.\n",
      "3회 시행한 결과 \n",
      " 0.11518\n"
     ]
    }
   ],
   "source": [
    "print(coin_prob('a'))\n",
    "print(coin_prob(3))"
   ]
  },
  {
   "cell_type": "markdown",
   "metadata": {},
   "source": [
    "### ■ 예제57. 예외처리하기3 (try ~ except ~ finally)\n",
    "#### 오류 발생 유무와 상관없이 어떤 코드를 무조건 실행시키려면 try~except~finally 구문을 활용\n",
    "#### 무조건 실행시키려는 코드는 finally 부분에 작성\n",
    "```python\n",
    "try:\n",
    "    print('hello')\n",
    "except:\n",
    "    print('예외가 발생했습니다.')\n",
    "finally:\n",
    "    print('excute')\n",
    "    ```"
   ]
  },
  {
   "cell_type": "markdown",
   "metadata": {},
   "source": [
    "### ※ 문제118. 두 숫자를 물어보게하고 두 숫자를 나누는 함수를 생성하는데 성공하든 실패하든 상관없이 아래의 메세지가 무조건 출력되게 하시오\n",
    "```python\n",
    "print(my_divide())\n",
    "분자 숫자를 입력하세요 ~ 10       10\n",
    "분모 숫자를 입력하세요 ~ 2         0\n",
    "```\n",
    "```\n",
    "5.0                             나누기를 할 수 없습니다.  \n",
    "***가 만든 프로그램 입니다.        ***가 만든 프로그램 입니다.\n",
    "```\n"
   ]
  },
  {
   "cell_type": "code",
   "execution_count": 84,
   "metadata": {
    "ExecuteTime": {
     "end_time": "2020-05-19T06:11:56.705128Z",
     "start_time": "2020-05-19T06:11:56.700131Z"
    }
   },
   "outputs": [],
   "source": [
    "def my_divide():\n",
    "    try:\n",
    "        x=input('분자의 숫자를 입력하세요 ~')\n",
    "        y=input('분모의 숫자를 입력하세요 ~')\n",
    "        print(int(x)/int(y))\n",
    "    except:\n",
    "        print('나누기를 할 수 없습니다')\n",
    "    finally:\n",
    "        return 'made by Adrian'"
   ]
  },
  {
   "cell_type": "code",
   "execution_count": 85,
   "metadata": {
    "ExecuteTime": {
     "end_time": "2020-05-19T06:11:59.033694Z",
     "start_time": "2020-05-19T06:11:57.916799Z"
    }
   },
   "outputs": [
    {
     "name": "stdout",
     "output_type": "stream",
     "text": [
      "분자의 숫자를 입력하세요 ~10\n",
      "분모의 숫자를 입력하세요 ~2\n",
      "5.0\n",
      "made by Adrian\n"
     ]
    }
   ],
   "source": [
    "print(my_divide())"
   ]
  },
  {
   "cell_type": "code",
   "execution_count": 86,
   "metadata": {
    "ExecuteTime": {
     "end_time": "2020-05-19T06:12:01.717963Z",
     "start_time": "2020-05-19T06:12:00.222666Z"
    }
   },
   "outputs": [
    {
     "name": "stdout",
     "output_type": "stream",
     "text": [
      "분자의 숫자를 입력하세요 ~10\n",
      "분모의 숫자를 입력하세요 ~0\n",
      "나누기를 할 수 없습니다\n",
      "made by Adrian\n"
     ]
    }
   ],
   "source": [
    "print(my_divide())"
   ]
  },
  {
   "cell_type": "markdown",
   "metadata": {},
   "source": [
    "### ■ 예제58. 예외처리 이해하기 4(try ~ except Exception as e)\n",
    "#### 코드에서 예외가 발생하면 이에 대한 자세한 내용을 파악하는 것이 중요.\n",
    "#### 파이썬은 발생 가능한 예외에 대해 exception 객체로 미리 정의해두고 있는데 이에 대한 내용은 다음 링크에서 확인할 수 있다.\n",
    "#### [링크](http://docs.python.org/3/library/exceptions.html)"
   ]
  },
  {
   "cell_type": "code",
   "execution_count": 87,
   "metadata": {
    "ExecuteTime": {
     "end_time": "2020-05-19T06:22:31.634470Z",
     "start_time": "2020-05-19T06:22:31.628475Z"
    }
   },
   "outputs": [],
   "source": [
    "def my_divide():\n",
    "    try:\n",
    "        x=input('분자의 숫자를 입력하세요 ~')\n",
    "        y=input('분모의 숫자를 입력하세요 ~')\n",
    "        return int(x/y)\n",
    "    except ZeroDivisionError: #파이썬에서 미리 정의한 예외\n",
    "        return '0으로 나눌 수 없습니다'\n",
    "    except KeyboardInterrupt: # 파이썬에서 미리 정의한 예외\n",
    "        return '사용자에 의해서 프로그램이 종료됩니다.'\n",
    "    except:\n",
    "        return '나누기를 할 수 없습니다.'"
   ]
  },
  {
   "cell_type": "code",
   "execution_count": 88,
   "metadata": {
    "ExecuteTime": {
     "end_time": "2020-05-19T06:22:41.412518Z",
     "start_time": "2020-05-19T06:22:39.643906Z"
    }
   },
   "outputs": [
    {
     "name": "stdout",
     "output_type": "stream",
     "text": [
      "분자의 숫자를 입력하세요 ~10\n",
      "분모의 숫자를 입력하세요 ~0\n"
     ]
    },
    {
     "data": {
      "text/plain": [
       "'나누기를 할 수 없습니다.'"
      ]
     },
     "execution_count": 88,
     "metadata": {},
     "output_type": "execute_result"
    }
   ],
   "source": [
    "my_divide()"
   ]
  },
  {
   "cell_type": "markdown",
   "metadata": {},
   "source": [
    "#### ※ 설명: 함수가 수행되는 도중에 ctrl+c를 누르면 아래의 메세지가 출력\n",
    "```python\n",
    "except KeyboardInterrupt: # 파이썬에서 미리 정의한 예외\n",
    "        return '사용자에 의해서 프로그램이 종료됩니다.'\n",
    "    ```"
   ]
  },
  {
   "cell_type": "code",
   "execution_count": 89,
   "metadata": {
    "ExecuteTime": {
     "end_time": "2020-05-19T06:46:12.516951Z",
     "start_time": "2020-05-19T06:46:12.511956Z"
    }
   },
   "outputs": [
    {
     "name": "stdout",
     "output_type": "stream",
     "text": [
      "name 'param' is not defined\n"
     ]
    }
   ],
   "source": [
    "# 예외로 코드상의 오류를 확인하는 방법\n",
    "try:\n",
    "    print(param)\n",
    "except Exception as e:\n",
    "    print(e)"
   ]
  },
  {
   "cell_type": "markdown",
   "metadata": {},
   "source": [
    "### ■ 예제59. 사용자 정의 예외처리\n",
    "#### 파이썬 입장에서 봤을 때는 오류가 아닌데 프로그래머가 이건 오류다 라고 일부러 프로그램이 안돌게 오류 메세지를 출력하는 경우에 사용"
   ]
  },
  {
   "cell_type": "markdown",
   "metadata": {},
   "source": [
    "#### 금융권 프로그램에서 금액이 안맞는 프로그램이 있다면 사고로 이어지게 되므로 금액이 안맞으면 프로그램 종료해라 라고 예외처리를 할 수 있다."
   ]
  },
  {
   "cell_type": "markdown",
   "metadata": {},
   "source": [
    "#### 예제1.\n",
    "```python\n",
    "def 함수명:\n",
    "    실행코드\n",
    "    if 조건문:\n",
    "        raise Exception ('예외가 발생했습니다.')\n",
    "    else:\n",
    "        return 변수명\n",
    "    ```\n"
   ]
  },
  {
   "cell_type": "markdown",
   "metadata": {},
   "source": [
    "### ※ 문제129. 이름을 물어보게 하고 이름을 입력하면 해당 사원의 월급이 출력되는 파이썬 코드를 작성하시오"
   ]
  },
  {
   "cell_type": "code",
   "execution_count": 91,
   "metadata": {
    "ExecuteTime": {
     "end_time": "2020-05-19T06:56:33.175335Z",
     "start_time": "2020-05-19T06:56:31.205818Z"
    }
   },
   "outputs": [
    {
     "name": "stdout",
     "output_type": "stream",
     "text": [
      "사원 이름을 입력하세요 ~scott\n",
      "3000\n"
     ]
    }
   ],
   "source": [
    "def find_sal():\n",
    "    import pandas as pd\n",
    "    emp = pd.read_csv(\"K:\\\\Itwill\\\\2. Python\\\\자료\\\\emp3.csv\")\n",
    "    name=input('사원 이름을 입력하세요 ~')\n",
    "    sal = emp[['sal']][emp['ename']==name.upper()].values[0][0]\n",
    "    return sal\n",
    "\n",
    "print(find_sal())"
   ]
  },
  {
   "cell_type": "markdown",
   "metadata": {},
   "source": [
    "### ※ 문제130. 위의 코드에 사용자 정의 예외처리를 이용해서 월급이 고소득자는 해당 사원의 월급을 볼 수 없습니다. 라는 메세지가 출력되게 하시오"
   ]
  },
  {
   "cell_type": "code",
   "execution_count": 92,
   "metadata": {
    "ExecuteTime": {
     "end_time": "2020-05-19T06:58:38.128474Z",
     "start_time": "2020-05-19T06:58:38.122478Z"
    }
   },
   "outputs": [],
   "source": [
    "def find_sal():\n",
    "    import pandas as pd\n",
    "    emp = pd.read_csv(\"K:\\\\Itwill\\\\2. Python\\\\자료\\\\emp3.csv\")\n",
    "    name=input('사원 이름을 입력하세요 ~')\n",
    "    sal = emp[['sal']][emp['ename']==name.upper()].values[0][0]\n",
    "    if sal>=3000:\n",
    "        raise Exception ('고소득자는 해당 사원의 월급을 볼 수 없습니다.')\n",
    "    else:\n",
    "        return sal"
   ]
  },
  {
   "cell_type": "code",
   "execution_count": 95,
   "metadata": {
    "ExecuteTime": {
     "end_time": "2020-05-19T07:04:12.873273Z",
     "start_time": "2020-05-19T07:04:10.771910Z"
    }
   },
   "outputs": [
    {
     "name": "stdout",
     "output_type": "stream",
     "text": [
      "사원 이름을 입력하세요 ~smith\n"
     ]
    },
    {
     "data": {
      "text/plain": [
       "800"
      ]
     },
     "execution_count": 95,
     "metadata": {},
     "output_type": "execute_result"
    }
   ],
   "source": [
    "find_sal()"
   ]
  },
  {
   "cell_type": "markdown",
   "metadata": {},
   "source": [
    "### ■ 예제60. 사용자 (값) 입력받기 (input)\n",
    "#### 파이썬 내장 함수 input은 사용자가 키보드로 입력한 값을 문자열로 return\n",
    "#### input()의 인자는 사용자 입력을 돕기 위한 안내 문구나 힌트 등을 표시하는 문자열"
   ]
  },
  {
   "cell_type": "code",
   "execution_count": 97,
   "metadata": {
    "ExecuteTime": {
     "end_time": "2020-05-19T07:08:30.857672Z",
     "start_time": "2020-05-19T07:08:25.340202Z"
    }
   },
   "outputs": [
    {
     "name": "stdout",
     "output_type": "stream",
     "text": [
      "<값>을 입력하세요 ~^ㅗ^\n",
      "당신이 입력한 값은 <^ㅗ^> 입니다.\n"
     ]
    }
   ],
   "source": [
    "# 예제\n",
    "k=input('<값>을 입력하세요 ~')\n",
    "print('당신이 입력한 값은 <'+k+'> 입니다.')"
   ]
  },
  {
   "cell_type": "markdown",
   "metadata": {},
   "source": [
    "### ※ 문제131. 위의 코드를 다시 실행하는데 아무것도 입력하지 않으면 입력할 때 까지 계속 물어보게 하시오"
   ]
  },
  {
   "cell_type": "code",
   "execution_count": 99,
   "metadata": {
    "ExecuteTime": {
     "end_time": "2020-05-19T07:10:40.721033Z",
     "start_time": "2020-05-19T07:10:30.529692Z"
    }
   },
   "outputs": [
    {
     "name": "stdout",
     "output_type": "stream",
     "text": [
      "<값>을 입력하세요 ~\n",
      "<값>을 입력하세요 ~\n",
      "<값>을 입력하세요 ~\n",
      "<값>을 입력하세요 ~\n",
      "<값>을 입력하세요 ~\n",
      "<값>을 입력하세요 ~\n",
      "<값>을 입력하세요 ~\n",
      "<값>을 입력하세요 ~\n",
      "<값>을 입력하세요 ~\n",
      "<값>을 입력하세요 ~\n",
      "<값>을 입력하세요 ~\n",
      "<값>을 입력하세요 ~\n",
      "<값>을 입력하세요 ~\n",
      "<값>을 입력하세요 ~\n",
      "<값>을 입력하세요 ~\n",
      "<값>을 입력하세요 ~\n",
      "<값>을 입력하세요 ~\n",
      "<값>을 입력하세요 ~\n",
      "<값>을 입력하세요 ~\n",
      "<값>을 입력하세요 ~\n",
      "<값>을 입력하세요 ~\n",
      "<값>을 입력하세요 ~\n",
      "<값>을 입력하세요 ~\n",
      "<값>을 입력하세요 ~\n",
      "<값>을 입력하세요 ~\n",
      "<값>을 입력하세요 ~\n",
      "<값>을 입력하세요 ~\n",
      "<값>을 입력하세요 ~\n",
      "<값>을 입력하세요 ~h\n",
      "당신이 입력한 값은 <h> 입니다.\n"
     ]
    }
   ],
   "source": [
    "while k=='':\n",
    "    k=input('<값>을 입력하세요 ~')\n",
    "    \n",
    "print('당신이 입력한 값은 <'+k+'> 입니다.')"
   ]
  },
  {
   "cell_type": "markdown",
   "metadata": {},
   "source": [
    "### ※ 문제132. 문제130번 함수를 수정해서 아래와 같이 함수를 실행할 때 아무것도 넣지 않으면 계속 물어보게 하시오"
   ]
  },
  {
   "cell_type": "code",
   "execution_count": 102,
   "metadata": {
    "ExecuteTime": {
     "end_time": "2020-05-19T07:13:11.864373Z",
     "start_time": "2020-05-19T07:13:11.858378Z"
    }
   },
   "outputs": [],
   "source": [
    "def find_sal():\n",
    "    import pandas as pd\n",
    "    emp = pd.read_csv(\"K:\\\\Itwill\\\\2. Python\\\\자료\\\\emp3.csv\")\n",
    "    name=input('사원 이름을 입력하세요 ~')\n",
    "    while not name: name=input('사원 이름을 입력하세요 ~')\n",
    "    sal = emp[['sal']][emp['ename']==name.upper()].values[0][0]\n",
    "    if sal>=3000:\n",
    "        raise Exception ('고소득자는 해당 사원의 월급을 볼 수 없습니다.')\n",
    "    else:\n",
    "        return sal"
   ]
  },
  {
   "cell_type": "code",
   "execution_count": 105,
   "metadata": {
    "ExecuteTime": {
     "end_time": "2020-05-19T07:13:48.476440Z",
     "start_time": "2020-05-19T07:13:44.559902Z"
    }
   },
   "outputs": [
    {
     "name": "stdout",
     "output_type": "stream",
     "text": [
      "사원 이름을 입력하세요 ~\n",
      "사원 이름을 입력하세요 ~\n",
      "사원 이름을 입력하세요 ~\n",
      "사원 이름을 입력하세요 ~\n",
      "사원 이름을 입력하세요 ~\n",
      "사원 이름을 입력하세요 ~smith\n"
     ]
    },
    {
     "data": {
      "text/plain": [
       "800"
      ]
     },
     "execution_count": 105,
     "metadata": {},
     "output_type": "execute_result"
    }
   ],
   "source": [
    "find_sal()"
   ]
  },
  {
   "cell_type": "markdown",
   "metadata": {},
   "source": [
    "### ※ 문제133. 위의 코드를 수정해서 없는 사원이름을 입력하면 \"해당 사원은 없습니다.\" 라는 메세지가 출력되게 하시오"
   ]
  },
  {
   "cell_type": "code",
   "execution_count": 109,
   "metadata": {
    "ExecuteTime": {
     "end_time": "2020-05-19T07:17:52.291125Z",
     "start_time": "2020-05-19T07:17:52.284129Z"
    }
   },
   "outputs": [],
   "source": [
    "def find_sal():\n",
    "    try:\n",
    "        import pandas as pd\n",
    "        emp = pd.read_csv(\"K:\\\\Itwill\\\\2. Python\\\\자료\\\\emp3.csv\")\n",
    "        name=input('사원 이름을 입력하세요 ~')\n",
    "        while not name: name=input('사원 이름을 입력하세요 ~')\n",
    "        sal = emp[['sal']][emp['ename']==name.upper()].values[0][0]\n",
    "        if sal>=3000:\n",
    "            raise Exception ('고소득자는 해당 사원의 월급을 볼 수 없습니다.')\n",
    "        else:\n",
    "            return sal\n",
    "    except LookupError:\n",
    "        return '해당 사원은 없습니다.'"
   ]
  },
  {
   "cell_type": "code",
   "execution_count": 110,
   "metadata": {
    "ExecuteTime": {
     "end_time": "2020-05-19T07:17:55.609060Z",
     "start_time": "2020-05-19T07:17:53.313357Z"
    }
   },
   "outputs": [
    {
     "name": "stdout",
     "output_type": "stream",
     "text": [
      "사원 이름을 입력하세요 ~\n",
      "사원 이름을 입력하세요 ~\n",
      "사원 이름을 입력하세요 ~\n",
      "사원 이름을 입력하세요 ~d\n"
     ]
    },
    {
     "data": {
      "text/plain": [
       "'해당 사원은 없습니다.'"
      ]
     },
     "execution_count": 110,
     "metadata": {},
     "output_type": "execute_result"
    }
   ],
   "source": [
    "find_sal()"
   ]
  },
  {
   "cell_type": "markdown",
   "metadata": {},
   "source": [
    "### ※ 문제134.(파이썬 알고리즘 문제 26번) 아래와 같이 결과를 출력하시오"
   ]
  },
  {
   "cell_type": "code",
   "execution_count": 124,
   "metadata": {
    "ExecuteTime": {
     "end_time": "2020-05-19T07:27:45.363787Z",
     "start_time": "2020-05-19T07:27:31.191444Z"
    }
   },
   "outputs": [
    {
     "name": "stdout",
     "output_type": "stream",
     "text": [
      "동전을 10번 던져서 1개 앞면이 나올 확률 \t 0.01002\n",
      "동전을 10번 던져서 2개 앞면이 나올 확률 \t 0.04274\n",
      "동전을 10번 던져서 3개 앞면이 나올 확률 \t 0.11787\n",
      "동전을 10번 던져서 4개 앞면이 나올 확률 \t 0.20336\n",
      "동전을 10번 던져서 5개 앞면이 나올 확률 \t 0.24583\n",
      "동전을 10번 던져서 6개 앞면이 나올 확률 \t 0.20509\n",
      "동전을 10번 던져서 7개 앞면이 나올 확률 \t 0.11874\n",
      "동전을 10번 던져서 8개 앞면이 나올 확률 \t 0.04323\n",
      "동전을 10번 던져서 9개 앞면이 나올 확률 \t 0.00966\n",
      "동전을 10번 던져서 10개 앞면이 나올 확률 \t 0.0008\n"
     ]
    }
   ],
   "source": [
    "def coin_prob(n1,n2):\n",
    "    import random\n",
    "    ccnt=0\n",
    "    try:\n",
    "        n1=int(n1)\n",
    "        for i in range(100000):\n",
    "            cnt=0\n",
    "            for j in range(n1):\n",
    "                if random.randint(0,1)==1:\n",
    "                    cnt += 1\n",
    "            if cnt == n2:\n",
    "                ccnt += 1\n",
    "    except:\n",
    "        return '숫자가 아니어서 실행할 수 없습니다.'\n",
    "    else:\n",
    "        print(f'동전을 {n1}번 던져서 {n2}개 앞면이 나올 확률 \\t {ccnt/100000}')\n",
    "\n",
    "for i in range(1,11):\n",
    "    coin_prob(10,i) "
   ]
  },
  {
   "cell_type": "markdown",
   "metadata": {},
   "source": [
    "### ※ (파이썬 알고리즘 문제 27번) 동전 던지기의 확률 분포표를 막대 그래프로 시각화 하시오"
   ]
  },
  {
   "cell_type": "code",
   "execution_count": 137,
   "metadata": {
    "ExecuteTime": {
     "end_time": "2020-05-19T07:55:20.673199Z",
     "start_time": "2020-05-19T07:55:19.159475Z"
    }
   },
   "outputs": [
    {
     "name": "stdout",
     "output_type": "stream",
     "text": [
      "[0.0012, 0.00966, 0.0446, 0.1166, 0.20563, 0.24646, 0.20554, 0.11762, 0.04242, 0.00929, 0.00098]\n"
     ]
    },
    {
     "data": {
      "image/png": "[encoded data removed]",
      "text/plain": [
       "<Figure size 432x288 with 1 Axes>"
      ]
     },
     "metadata": {
      "needs_background": "light"
     },
     "output_type": "display_data"
    }
   ],
   "source": [
    "import random\n",
    "import numpy as np\n",
    "import matplotlib.pyplot as plt \n",
    "\n",
    "coin=['0','1']\n",
    "coin10=[0,0,0,0,0,0,0,0,0,0,0]\n",
    "for i in range(100000):\n",
    "    cnt = 0\n",
    "    for j in range(10):\n",
    "        cnt += int(random.choice(coin))\n",
    "    coin10[cnt] += 1\n",
    "result=[i/100000 for i in coin10]\n",
    "y_value = result\n",
    "print(y_value)\n",
    "x_name=('0','1', '2', '3', '4', '5', '6', '7', '8', '9', '10') \n",
    "n_groups = len(x_name) \n",
    "index = np.arange(n_groups) \n",
    "\n",
    "plt.bar(index, y_value, tick_label=x_name, align='center',color='red')\n",
    "plt.xlabel('coin count')\n",
    "plt.ylabel('Probability')\n",
    "plt.title('Coin Head Probability chart')\n",
    "plt.xlim( -1, n_groups) \n",
    "plt.ylim( 0, 0.3,0.05)\n",
    "plt.show()"
   ]
  },
  {
   "cell_type": "code",
   "execution_count": null,
   "metadata": {},
   "outputs": [],
   "source": []
  },
  {
   "cell_type": "code",
   "execution_count": null,
   "metadata": {},
   "outputs": [],
   "source": []
  },
  {
   "cell_type": "code",
   "execution_count": null,
   "metadata": {},
   "outputs": [],
   "source": []
  },
  {
   "cell_type": "code",
   "execution_count": null,
   "metadata": {},
   "outputs": [],
   "source": []
  }
 ],
 "metadata": {
  "kernelspec": {
   "display_name": "Python 3",
   "language": "python",
   "name": "python3"
  },
  "language_info": {
   "codemirror_mode": {
    "name": "ipython",
    "version": 3
   },
   "file_extension": ".py",
   "mimetype": "text/x-python",
   "name": "python",
   "nbconvert_exporter": "python",
   "pygments_lexer": "ipython3",
   "version": "3.7.6"
  },
  "varInspector": {
   "cols": {
    "lenName": 16,
    "lenType": 16,
    "lenVar": 40
   },
   "kernels_config": {
    "python": {
     "delete_cmd_postfix": "",
     "delete_cmd_prefix": "del ",
     "library": "var_list.py",
     "varRefreshCmd": "print(var_dic_list())"
    },
    "r": {
     "delete_cmd_postfix": ") ",
     "delete_cmd_prefix": "rm(",
     "library": "var_list.r",
     "varRefreshCmd": "cat(var_dic_list()) "
    }
   },
   "types_to_exclude": [
    "module",
    "function",
    "builtin_function_or_method",
    "instance",
    "_Feature"
   ],
   "window_display": false
  }
 },
 "nbformat": 4,
 "nbformat_minor": 4
}
