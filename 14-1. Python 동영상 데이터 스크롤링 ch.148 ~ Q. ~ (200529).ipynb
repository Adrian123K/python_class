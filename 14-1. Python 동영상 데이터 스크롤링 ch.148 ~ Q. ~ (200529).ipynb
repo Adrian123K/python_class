{
 "cells": [
  {
   "cell_type": "markdown",
   "metadata": {},
   "source": [
    "### ■ 파이썬 전체 수업 복습\n",
    "    1. 파이썬 기본 문법(파이썬 자료형 5가지, 연산자)\n",
    "    2. 오라클 함수와 파이썬 함수를 비교하면 함수를 생성\n",
    "    3. 문자형 자료형의 메소드들\n",
    "    4. 리스트형 자료형의 메소드들\n",
    "    5. 딕셔너리형 자료형의 메소드들\n",
    "    6. 판다스 사용법 오라클과 비교\n",
    "    7. OS 파일의 오픈과 닫기와 같은 파일 다루는 방법\n",
    "    8. 웹스크롤링\n",
    "        - EBS 레이디버그 시청자 게시판\n",
    "        - 중앙일보\n",
    "        - 동아일보\n",
    "     * 기사를 수집해야하는 이유\n",
    "         \n",
    "        - 구글 이미지 수집\n",
    "        - 네이버 이미지 수집\n",
    "        - Bing 이미지 수집\n",
    "     * 이미지를 수집해야하는 이유\n",
    "         인공신경망의 학습 데이터를 위해서 수집\n",
    "         심평원: 폐사진, 암사진 등을 숫자로 변환해서 오라클 DB에 저장\n",
    "         (신경망의 학습 시킬 데이터들을 수집, 정제하고 숫자로 변환해서 오라클 DB에 저장)"
   ]
  },
  {
   "cell_type": "markdown",
   "metadata": {},
   "source": [
    "### ■ 예제148. 동영상 데이터를 스크롤링 하는 방법\n",
    "```\n",
    "    딥러닝 기술 -----------> 불량품 선별하는 품질 관리 요원의 일을 딥러닝이 대체\n",
    "                           영상의학과에서 하는 질병사진 판독을 딥러닝이 대체\n",
    "                           범인을 cctv에서 찾을 때 딥러닝 기술로 범인의 얼굴 인식\n",
    "                           눈의 홍체를 보고 당뇨인지 판독하는 데 딥러닝 기술 이용\n",
    "```\n",
    "```\n",
    "    1. 유튜브 동영상을 스크롤링 하기위한 패키지 설치\n",
    "    pip install pytube3\n",
    "    2. 패키지가 잘 설치되었는지 확인\n",
    "    pip list pytube3\n",
    "    3. Youtube 접속\n",
    "    4. 원하는 동영상의 playlist url을 검색\n",
    "    https://www.youtube.com/playlist?list=PLGV8NzbOne7jj_DB0vLbtfGwG8QPV5keS\n",
    "```\n",
    "    "
   ]
  },
  {
   "cell_type": "code",
   "execution_count": 12,
   "metadata": {
    "ExecuteTime": {
     "end_time": "2020-05-29T02:18:21.572165Z",
     "start_time": "2020-05-29T02:16:17.613918Z"
    }
   },
   "outputs": [
    {
     "name": "stdout",
     "output_type": "stream",
     "text": [
      "playlist url : https://www.youtube.com/playlist?list=PLt_47Imx98wqc2_lOAg53v8Op-oks9KB5\n",
      "Downloading Tchaikovsky – Swan Lake\n",
      "Completed\n",
      "Downloading Beethoven – Sonata No.21 Waldstein 1st Movement\n",
      "Completed\n",
      "Downloading Chopin - Nocturne Op. 48 No. 1\n",
      "Completed\n",
      "Downloading G Minor Bach (Arr. Luo Ni)\n",
      "Completed\n",
      "Downloading Chopin – \"Revolutionary\" Etude Op.10 No.12\n",
      "Completed\n",
      "Downloading Mozart – Turkish March (Rondo Alla Turca)\n",
      "Completed\n",
      "Downloading Tchaikovsky - Piano Concerto No. 1\n",
      "Completed\n",
      "Downloading Beethoven - Fur Elise\n",
      "Completed\n",
      "알 수 없는 예외 발생\n",
      "Downloading Schubert – Fantasia in F minor, D. 940\n",
      "Completed\n",
      "Downloading Grieg – In the Hall of the Mountain King\n",
      "Completed\n",
      "Downloading Beethoven – Pathetique Sonata 3rd Movement\n",
      "Completed\n",
      "Downloading Brahms - Hungarian Dance No.5\n",
      "Completed\n",
      "Downloading Mozart - Piano Sonata No. 12, K. 332, 2nd Movement\n",
      "Completed\n",
      "Downloading Brahms - Hungarian Dance No.1\n",
      "Completed\n",
      "Downloading Beethoven – Pathetique Sonata 2nd Movement\n",
      "Completed\n",
      "Downloading Chopin – Grande Valse Brillante Op.18 (Waltz in E flat major)\n",
      "Completed\n",
      "Downloading Passacaglia – Handel/Halvorsen (Piano Solo)\n",
      "Completed\n",
      "Downloading Tico-Tico no Fubá (Brazilian Music) (Piano)\n",
      "Completed\n",
      "Downloading Chopin – Etude Op.25 No.11 “Winter Wind”\n",
      "Completed\n",
      "Downloading Vivaldi – Winter / The Four Seasons\n",
      "Completed\n",
      "Downloading Piazzolla - Libertango (Piano Solo)\n",
      "Completed\n",
      "알 수 없는 예외 발생\n",
      "알 수 없는 예외 발생\n",
      "Downloading Beethoven – Sonata No. 23 Appassionata 3rd Movement\n",
      "Completed\n",
      "Downloading Liszt – Liebestraum No.3 \"Love Dream\"\n",
      "Completed\n",
      "Downloading Mozart – Lacrimosa\n",
      "Completed\n",
      "알 수 없는 예외 발생\n",
      "Downloading Glinka/Balakirev – The Lark\n",
      "Completed\n",
      "알 수 없는 예외 발생\n",
      "Downloading Liebesleid (Love's Sorrow) - Kreisler/Rachmaninoff\n",
      "Completed\n",
      "Downloading Paganini/Liszt - La Campanella\n",
      "Completed\n",
      "알 수 없는 예외 발생\n",
      "Downloading Chopin – Etude Op.25 No.5 “Wrong Note”\n",
      "Completed\n",
      "알 수 없는 예외 발생\n",
      "Downloading Debussy: Clair de Lune\n",
      "Completed\n",
      "알 수 없는 예외 발생\n",
      "알 수 없는 예외 발생\n",
      "알 수 없는 예외 발생\n",
      "Downloading YouTube\n",
      "Completed\n",
      "Downloading Chopin - Nocturne Op.9 No.1\n",
      "Completed\n"
     ]
    }
   ],
   "source": [
    "# -*- coding: utf-8 -*-\n",
    "\n",
    "\"\"\"\n",
    "Created on Wed Dec 11 08:34:57 2019\n",
    "@author: wdp\n",
    "\"\"\"\n",
    "############################################## 필요한 패키지 import\n",
    "############################################## pip install pytube3\n",
    "from pytube import YouTube\n",
    "import pytube\n",
    "import requests\n",
    "import os\n",
    "import sys\n",
    "#workdir = os.path.dirname(os.path.realpath(__file__))\n",
    "\n",
    "############################################## 파이썬의 워킹 디렉토리를 지정\n",
    "workdir = os.path.dirname(os.path.abspath(sys.argv[0]))\n",
    "############################################## 플레이리스트 url을 받아서 오른쪽 공백을 제거\n",
    "url = input('playlist url : ').rstrip()\n",
    "\n",
    "############################################## 플레이리스트 url안에 watch가 있다면 다음 작업 시행\n",
    "if 'watch' in url:\n",
    "    url = 'https://youtube.com/playlist?list=' + url.split('list=')[-1].split('&')[0]\n",
    "    \n",
    "############################################## url주소를 파이썬에 인식할 수 있도록 설정    \n",
    "res = requests.get(url)\n",
    "source = res.text #Response의 바디를 source라는 변수에 저장합니다. 이는 Raw Text 입니다.\n",
    "\n",
    "############################################## 해당 동영상의 href(상세 동영상 주소)를 리스트에 저장\n",
    "vid_ids = [x.split('href=\"/watch?v=')[1].split('&amp;')[0] for x in source.split('\\n') if 'pl-video-title-link' in x]\n",
    "\n",
    "############################################## 상세 동영상 주소 리스트를 하나씩 불러와서 전체 유튜브 url을 생성 후 다운\n",
    "for vid in vid_ids:\n",
    "    try:\n",
    "        getStr = 'https://www.youtube.com/watch?v=' + vid\n",
    "        yt = YouTube(getStr)\n",
    "        file_name = yt.title # 제목\n",
    "        print('Downloading %s' % (file_name))\n",
    "\n",
    "        yt.streams.filter(progressive=True, file_extension='mp4').order_by('resolution').desc().first().download('d:\\\\data') # 파일\n",
    "        #file_extension은 재생목록 파일들 중에서 mp4만 추출해서 다운로드 받겠다 는뜻\n",
    "        # progressive는 720p까지만 지원 가능한 다운로드 방식\n",
    "        output = ''\n",
    "        print('Completed')\n",
    "    except:\n",
    "        print('알 수 없는 예외 발생')"
   ]
  },
  {
   "cell_type": "code",
   "execution_count": 9,
   "metadata": {
    "ExecuteTime": {
     "end_time": "2020-05-29T02:09:10.379296Z",
     "start_time": "2020-05-29T02:09:02.804684Z"
    }
   },
   "outputs": [
    {
     "name": "stdout",
     "output_type": "stream",
     "text": [
      "playlist url : https://www.youtube.com/playlist?list=PLy6-lFmnIagjcHviiw1V0DpxOPhQ1TB-F\n",
      "Downloading YouTube\n"
     ]
    },
    {
     "ename": "FileNotFoundError",
     "evalue": "[WinError 2] 지정된 파일을 찾을 수 없습니다",
     "output_type": "error",
     "traceback": [
      "\u001b[1;31m---------------------------------------------------------------------------\u001b[0m",
      "\u001b[1;31mFileNotFoundError\u001b[0m                         Traceback (most recent call last)",
      "\u001b[1;32m<ipython-input-9-ccfffa60bbb9>\u001b[0m in \u001b[0;36m<module>\u001b[1;34m\u001b[0m\n\u001b[0;32m     23\u001b[0m     \u001b[0myt\u001b[0m\u001b[1;33m.\u001b[0m\u001b[0mstreams\u001b[0m\u001b[1;33m.\u001b[0m\u001b[0mfilter\u001b[0m\u001b[1;33m(\u001b[0m\u001b[0madaptive\u001b[0m\u001b[1;33m=\u001b[0m\u001b[1;32mTrue\u001b[0m\u001b[1;33m,\u001b[0m \u001b[0mfile_extension\u001b[0m\u001b[1;33m=\u001b[0m\u001b[1;34m'mp4'\u001b[0m\u001b[1;33m,\u001b[0m \u001b[0monly_audio\u001b[0m\u001b[1;33m=\u001b[0m\u001b[1;32mTrue\u001b[0m\u001b[1;33m)\u001b[0m\u001b[1;33m.\u001b[0m\u001b[0morder_by\u001b[0m\u001b[1;33m(\u001b[0m\u001b[1;34m'abr'\u001b[0m\u001b[1;33m)\u001b[0m\u001b[1;33m.\u001b[0m\u001b[0mdesc\u001b[0m\u001b[1;33m(\u001b[0m\u001b[1;33m)\u001b[0m\u001b[1;33m.\u001b[0m\u001b[0mfirst\u001b[0m\u001b[1;33m(\u001b[0m\u001b[1;33m)\u001b[0m\u001b[1;33m.\u001b[0m\u001b[0mdownload\u001b[0m\u001b[1;33m(\u001b[0m\u001b[1;34m'./'\u001b[0m\u001b[1;33m,\u001b[0m \u001b[1;34m'audio'\u001b[0m\u001b[1;33m)\u001b[0m\u001b[1;33m\u001b[0m\u001b[1;33m\u001b[0m\u001b[0m\n\u001b[0;32m     24\u001b[0m     \u001b[0moutput\u001b[0m \u001b[1;33m=\u001b[0m \u001b[1;34m''\u001b[0m\u001b[1;33m\u001b[0m\u001b[1;33m\u001b[0m\u001b[0m\n\u001b[1;32m---> 25\u001b[1;33m     \u001b[0mresult\u001b[0m \u001b[1;33m=\u001b[0m \u001b[0msubprocess\u001b[0m\u001b[1;33m.\u001b[0m\u001b[0mPopen\u001b[0m\u001b[1;33m(\u001b[0m\u001b[1;33m[\u001b[0m\u001b[1;34m'ffmpeg'\u001b[0m\u001b[1;33m,\u001b[0m \u001b[1;34m'-y'\u001b[0m\u001b[1;33m,\u001b[0m \u001b[1;34m'-i'\u001b[0m\u001b[1;33m,\u001b[0m \u001b[0mworkdir\u001b[0m \u001b[1;33m+\u001b[0m \u001b[1;34m'/video.mp4'\u001b[0m\u001b[1;33m,\u001b[0m \u001b[1;34m'-i'\u001b[0m\u001b[1;33m,\u001b[0m \u001b[0mworkdir\u001b[0m \u001b[1;33m+\u001b[0m \u001b[1;34m'/audio.mp4'\u001b[0m\u001b[1;33m,\u001b[0m \u001b[0mworkdir\u001b[0m \u001b[1;33m+\u001b[0m \u001b[1;34m'/'\u001b[0m \u001b[1;33m+\u001b[0m \u001b[0mfile_name\u001b[0m\u001b[1;33m.\u001b[0m\u001b[0mreplace\u001b[0m\u001b[1;33m(\u001b[0m\u001b[1;34m'/'\u001b[0m\u001b[1;33m,\u001b[0m \u001b[1;34m'-'\u001b[0m\u001b[1;33m)\u001b[0m \u001b[1;33m+\u001b[0m \u001b[1;34m'.mp4'\u001b[0m\u001b[1;33m]\u001b[0m\u001b[1;33m,\u001b[0m \u001b[0mstdout\u001b[0m\u001b[1;33m=\u001b[0m\u001b[0msubprocess\u001b[0m\u001b[1;33m.\u001b[0m\u001b[0mPIPE\u001b[0m\u001b[1;33m,\u001b[0m \u001b[0mstderr\u001b[0m\u001b[1;33m=\u001b[0m\u001b[0msubprocess\u001b[0m\u001b[1;33m.\u001b[0m\u001b[0mPIPE\u001b[0m\u001b[1;33m)\u001b[0m\u001b[1;33m\u001b[0m\u001b[1;33m\u001b[0m\u001b[0m\n\u001b[0m\u001b[0;32m     26\u001b[0m     \u001b[1;31m# Filename에 replace가 들어가는 이유는 \"/\" 문자가 들어갈 경우 파일이름이 아니라 디렉토리로 인식하기 떄문입니다. replace없이 바로 집어넣을 경우 문제가 발생합니다.\u001b[0m\u001b[1;33m\u001b[0m\u001b[1;33m\u001b[0m\u001b[1;33m\u001b[0m\u001b[0m\n\u001b[0;32m     27\u001b[0m     \u001b[0mout\u001b[0m\u001b[1;33m,\u001b[0m \u001b[0merr\u001b[0m \u001b[1;33m=\u001b[0m \u001b[0mresult\u001b[0m\u001b[1;33m.\u001b[0m\u001b[0mcommunicate\u001b[0m\u001b[1;33m(\u001b[0m\u001b[1;33m)\u001b[0m\u001b[1;33m\u001b[0m\u001b[1;33m\u001b[0m\u001b[0m\n",
      "\u001b[1;32m~\\anaconda3\\lib\\subprocess.py\u001b[0m in \u001b[0;36m__init__\u001b[1;34m(self, args, bufsize, executable, stdin, stdout, stderr, preexec_fn, close_fds, shell, cwd, env, universal_newlines, startupinfo, creationflags, restore_signals, start_new_session, pass_fds, encoding, errors, text)\u001b[0m\n\u001b[0;32m    798\u001b[0m                                 \u001b[0mc2pread\u001b[0m\u001b[1;33m,\u001b[0m \u001b[0mc2pwrite\u001b[0m\u001b[1;33m,\u001b[0m\u001b[1;33m\u001b[0m\u001b[1;33m\u001b[0m\u001b[0m\n\u001b[0;32m    799\u001b[0m                                 \u001b[0merrread\u001b[0m\u001b[1;33m,\u001b[0m \u001b[0merrwrite\u001b[0m\u001b[1;33m,\u001b[0m\u001b[1;33m\u001b[0m\u001b[1;33m\u001b[0m\u001b[0m\n\u001b[1;32m--> 800\u001b[1;33m                                 restore_signals, start_new_session)\n\u001b[0m\u001b[0;32m    801\u001b[0m         \u001b[1;32mexcept\u001b[0m\u001b[1;33m:\u001b[0m\u001b[1;33m\u001b[0m\u001b[1;33m\u001b[0m\u001b[0m\n\u001b[0;32m    802\u001b[0m             \u001b[1;31m# Cleanup if the child failed starting.\u001b[0m\u001b[1;33m\u001b[0m\u001b[1;33m\u001b[0m\u001b[1;33m\u001b[0m\u001b[0m\n",
      "\u001b[1;32m~\\anaconda3\\lib\\subprocess.py\u001b[0m in \u001b[0;36m_execute_child\u001b[1;34m(self, args, executable, preexec_fn, close_fds, pass_fds, cwd, env, startupinfo, creationflags, shell, p2cread, p2cwrite, c2pread, c2pwrite, errread, errwrite, unused_restore_signals, unused_start_new_session)\u001b[0m\n\u001b[0;32m   1205\u001b[0m                                          \u001b[0menv\u001b[0m\u001b[1;33m,\u001b[0m\u001b[1;33m\u001b[0m\u001b[1;33m\u001b[0m\u001b[0m\n\u001b[0;32m   1206\u001b[0m                                          \u001b[0mos\u001b[0m\u001b[1;33m.\u001b[0m\u001b[0mfspath\u001b[0m\u001b[1;33m(\u001b[0m\u001b[0mcwd\u001b[0m\u001b[1;33m)\u001b[0m \u001b[1;32mif\u001b[0m \u001b[0mcwd\u001b[0m \u001b[1;32mis\u001b[0m \u001b[1;32mnot\u001b[0m \u001b[1;32mNone\u001b[0m \u001b[1;32melse\u001b[0m \u001b[1;32mNone\u001b[0m\u001b[1;33m,\u001b[0m\u001b[1;33m\u001b[0m\u001b[1;33m\u001b[0m\u001b[0m\n\u001b[1;32m-> 1207\u001b[1;33m                                          startupinfo)\n\u001b[0m\u001b[0;32m   1208\u001b[0m             \u001b[1;32mfinally\u001b[0m\u001b[1;33m:\u001b[0m\u001b[1;33m\u001b[0m\u001b[1;33m\u001b[0m\u001b[0m\n\u001b[0;32m   1209\u001b[0m                 \u001b[1;31m# Child is launched. Close the parent's copy of those pipe\u001b[0m\u001b[1;33m\u001b[0m\u001b[1;33m\u001b[0m\u001b[1;33m\u001b[0m\u001b[0m\n",
      "\u001b[1;31mFileNotFoundError\u001b[0m: [WinError 2] 지정된 파일을 찾을 수 없습니다"
     ]
    }
   ],
   "source": [
    "from pytube import YouTube\n",
    "import requests\n",
    "import subprocess\n",
    "import os\n",
    "import sys\n",
    "\n",
    "#workdir = os.path.dirname(os.path.realpath(__file__))\n",
    "workdir = os.path.dirname(os.path.abspath(sys.argv[0]))\n",
    "url = input('playlist url : ').rstrip()\n",
    "if 'watch' in url:\n",
    "    url = 'https://youtube.com/playlist?list=' + url.split('list=')[-1].split('&')[0]\n",
    "\n",
    "res = requests.get(url)\n",
    "source = res.text #Response의 바디를 source라는 변수에 저장합니다. 이는 Raw Text 입니다.\n",
    "vid_ids = [x.split('href=\"/watch?v=')[1].split('&amp;')[0] for x in source.split('\\n') if 'pl-video-title-link' in x]\n",
    "\n",
    "for vid in vid_ids:\n",
    "    getStr = 'https://www.youtube.com/watch?v=' + vid\n",
    "    yt = YouTube(getStr)\n",
    "    file_name = yt.title\n",
    "    print('Downloading %s' % (file_name))\n",
    "    yt.streams.filter(adaptive=True, file_extension='mp4', only_video=True).order_by('resolution').desc().first().download('./', 'video')\n",
    "    yt.streams.filter(adaptive=True, file_extension='mp4', only_audio=True).order_by('abr').desc().first().download('./', 'audio')\n",
    "    output = ''\n",
    "    result = subprocess.Popen(['ffmpeg', '-y', '-i', workdir + '/video.mp4', '-i', workdir + '/audio.mp4', workdir + '/' + file_name.replace('/', '-') + '.mp4'], stdout=subprocess.PIPE, stderr=subprocess.PIPE)\n",
    "    # Filename에 replace가 들어가는 이유는 \"/\" 문자가 들어갈 경우 파일이름이 아니라 디렉토리로 인식하기 떄문입니다. replace없이 바로 집어넣을 경우 문제가 발생합니다.\n",
    "    out, err = result.communicate()\n",
    "    exitcode = result.returncode\n",
    "    if exitcode != 0:\n",
    "        print(exitcode, out.decode('utf8'), err.decode('utf8'))\n",
    "    else:\n",
    "        print('Completed')"
   ]
  },
  {
   "cell_type": "code",
   "execution_count": null,
   "metadata": {},
   "outputs": [],
   "source": []
  },
  {
   "cell_type": "code",
   "execution_count": null,
   "metadata": {},
   "outputs": [],
   "source": []
  },
  {
   "cell_type": "code",
   "execution_count": null,
   "metadata": {},
   "outputs": [],
   "source": []
  },
  {
   "cell_type": "code",
   "execution_count": 3,
   "metadata": {
    "ExecuteTime": {
     "end_time": "2020-05-29T00:43:14.040220Z",
     "start_time": "2020-05-29T00:43:11.392106Z"
    }
   },
   "outputs": [
    {
     "name": "stderr",
     "output_type": "stream",
     "text": [
      "C:\\Users\\knitwill\\anaconda3\\lib\\site-packages\\matplotlib\\backends\\backend_agg.py:211: RuntimeWarning: Glyph 49707 missing from current font.\n",
      "  font.set_text(s, 0.0, flags=flags)\n",
      "C:\\Users\\knitwill\\anaconda3\\lib\\site-packages\\matplotlib\\backends\\backend_agg.py:211: RuntimeWarning: Glyph 51088 missing from current font.\n",
      "  font.set_text(s, 0.0, flags=flags)\n",
      "C:\\Users\\knitwill\\anaconda3\\lib\\site-packages\\matplotlib\\backends\\backend_agg.py:211: RuntimeWarning: Glyph 44284 missing from current font.\n",
      "  font.set_text(s, 0.0, flags=flags)\n",
      "C:\\Users\\knitwill\\anaconda3\\lib\\site-packages\\matplotlib\\backends\\backend_agg.py:211: RuntimeWarning: Glyph 51032 missing from current font.\n",
      "  font.set_text(s, 0.0, flags=flags)\n",
      "C:\\Users\\knitwill\\anaconda3\\lib\\site-packages\\matplotlib\\backends\\backend_agg.py:211: RuntimeWarning: Glyph 51060 missing from current font.\n",
      "  font.set_text(s, 0.0, flags=flags)\n",
      "C:\\Users\\knitwill\\anaconda3\\lib\\site-packages\\matplotlib\\backends\\backend_agg.py:211: RuntimeWarning: Glyph 48120 missing from current font.\n",
      "  font.set_text(s, 0.0, flags=flags)\n",
      "C:\\Users\\knitwill\\anaconda3\\lib\\site-packages\\matplotlib\\backends\\backend_agg.py:211: RuntimeWarning: Glyph 51648 missing from current font.\n",
      "  font.set_text(s, 0.0, flags=flags)\n",
      "C:\\Users\\knitwill\\anaconda3\\lib\\site-packages\\matplotlib\\backends\\backend_agg.py:180: RuntimeWarning: Glyph 49707 missing from current font.\n",
      "  font.set_text(s, 0, flags=flags)\n",
      "C:\\Users\\knitwill\\anaconda3\\lib\\site-packages\\matplotlib\\backends\\backend_agg.py:180: RuntimeWarning: Glyph 51088 missing from current font.\n",
      "  font.set_text(s, 0, flags=flags)\n",
      "C:\\Users\\knitwill\\anaconda3\\lib\\site-packages\\matplotlib\\backends\\backend_agg.py:180: RuntimeWarning: Glyph 44284 missing from current font.\n",
      "  font.set_text(s, 0, flags=flags)\n",
      "C:\\Users\\knitwill\\anaconda3\\lib\\site-packages\\matplotlib\\backends\\backend_agg.py:180: RuntimeWarning: Glyph 51032 missing from current font.\n",
      "  font.set_text(s, 0, flags=flags)\n",
      "C:\\Users\\knitwill\\anaconda3\\lib\\site-packages\\matplotlib\\backends\\backend_agg.py:180: RuntimeWarning: Glyph 51060 missing from current font.\n",
      "  font.set_text(s, 0, flags=flags)\n",
      "C:\\Users\\knitwill\\anaconda3\\lib\\site-packages\\matplotlib\\backends\\backend_agg.py:180: RuntimeWarning: Glyph 48120 missing from current font.\n",
      "  font.set_text(s, 0, flags=flags)\n",
      "C:\\Users\\knitwill\\anaconda3\\lib\\site-packages\\matplotlib\\backends\\backend_agg.py:180: RuntimeWarning: Glyph 51648 missing from current font.\n",
      "  font.set_text(s, 0, flags=flags)\n"
     ]
    },
    {
     "data": {
      "image/png": "[encoded data removed]",
      "text/plain": [
       "<Figure size 576x144 with 8 Axes>"
      ]
     },
     "metadata": {},
     "output_type": "display_data"
    }
   ],
   "source": [
    "from sklearn.datasets import load_digits\n",
    "import numpy as np\n",
    "import matplotlib.pyplot as plt\n",
    "\n",
    "digits=load_digits()\n",
    "samples=[0,10,20,30,1,11,21,31]\n",
    "d=[]\n",
    "for i in range(8):\n",
    "    d.append(digits.images[samples[i]])\n",
    "    \n",
    "plt.figure(figsize=(8,2))\n",
    "for i in range(8):\n",
    "    plt.subplot(1,8,i+1)\n",
    "    plt.imshow(d[i],interpolation='nearest', cmap=plt.cm.bone_r)\n",
    "    plt.grid(False); plt.xticks([]); plt.yticks([])\n",
    "    plt.title(\"image {}\".format(i+1))\n",
    "plt.suptitle(\"숫자 0과 1의 이미지\")\n",
    "plt.tight_layout()\n",
    "plt.show()"
   ]
  },
  {
   "cell_type": "code",
   "execution_count": 6,
   "metadata": {
    "ExecuteTime": {
     "end_time": "2020-05-29T00:53:06.498158Z",
     "start_time": "2020-05-29T00:53:06.214330Z"
    }
   },
   "outputs": [
    {
     "data": {
      "image/png": "[encoded data removed]",
      "text/plain": [
       "<Figure size 576x216 with 8 Axes>"
      ]
     },
     "metadata": {},
     "output_type": "display_data"
    }
   ],
   "source": [
    "v=[]\n",
    "for i in range(8):\n",
    "    v.append(d[i].reshape(64,1))\n",
    "    \n",
    "plt.figure(figsize=(8,3))\n",
    "for i in range(8):\n",
    "    plt.subplot(1,8,i+1)\n",
    "    plt.imshow(v[i],aspect=0.4, interpolation='nearest', cmap=plt.cm.bone_r)\n",
    "    plt.grid(False); plt.xticks([]); plt.yticks([])\n",
    "    plt.title(\"Vector{}\".format(i+1))\n",
    "plt.suptitle(\"Vectorised Images\", y=1.05)\n",
    "plt.tight_layout(w_pad=7)\n",
    "plt.show()\n",
    "    "
   ]
  },
  {
   "cell_type": "code",
   "execution_count": null,
   "metadata": {},
   "outputs": [],
   "source": []
  },
  {
   "cell_type": "code",
   "execution_count": null,
   "metadata": {},
   "outputs": [],
   "source": []
  }
 ],
 "metadata": {
  "kernelspec": {
   "display_name": "Python 3",
   "language": "python",
   "name": "python3"
  },
  "language_info": {
   "codemirror_mode": {
    "name": "ipython",
    "version": 3
   },
   "file_extension": ".py",
   "mimetype": "text/x-python",
   "name": "python",
   "nbconvert_exporter": "python",
   "pygments_lexer": "ipython3",
   "version": "3.7.6"
  },
  "varInspector": {
   "cols": {
    "lenName": 16,
    "lenType": 16,
    "lenVar": 40
   },
   "kernels_config": {
    "python": {
     "delete_cmd_postfix": "",
     "delete_cmd_prefix": "del ",
     "library": "var_list.py",
     "varRefreshCmd": "print(var_dic_list())"
    },
    "r": {
     "delete_cmd_postfix": ") ",
     "delete_cmd_prefix": "rm(",
     "library": "var_list.r",
     "varRefreshCmd": "cat(var_dic_list()) "
    }
   },
   "types_to_exclude": [
    "module",
    "function",
    "builtin_function_or_method",
    "instance",
    "_Feature"
   ],
   "window_display": false
  }
 },
 "nbformat": 4,
 "nbformat_minor": 4
}
