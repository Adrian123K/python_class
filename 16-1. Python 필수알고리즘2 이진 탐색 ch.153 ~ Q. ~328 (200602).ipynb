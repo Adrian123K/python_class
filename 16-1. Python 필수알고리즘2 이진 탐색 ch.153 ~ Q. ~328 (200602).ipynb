{
 "cells": [
  {
   "cell_type": "markdown",
   "metadata": {},
   "source": [
    "### ※ (점심시간 문제) 다음 리스트의 총 합을 구하시오"
   ]
  },
  {
   "cell_type": "code",
   "execution_count": null,
   "metadata": {},
   "outputs": [],
   "source": [
    "b=[1,2,3,4,5,[8,9],10]\n",
    "sum([sum(i) if type(i)==list else i for i in b])"
   ]
  },
  {
   "cell_type": "markdown",
   "metadata": {},
   "source": [
    "### ■ 예제153. 필수 알고리즘2 (이진 탐색)\n",
    "#### 이진탐색 : 정렬된 데이터를 좌우 둘로 나눠서 원하는 값의 탐색범위를 좁혀가며 찾는 방법"
   ]
  },
  {
   "cell_type": "markdown",
   "metadata": {},
   "source": [
    "### ※ 문제323. 아래의 a 리스트에서 중앙값을 찾으시오\n",
    "```python\n",
    "a=[1,7,11,12,14,23,33,47,51,64,67,77,129,672,871]\n",
    "```"
   ]
  },
  {
   "cell_type": "code",
   "execution_count": 37,
   "metadata": {
    "ExecuteTime": {
     "end_time": "2020-06-02T07:27:47.581898Z",
     "start_time": "2020-06-02T07:27:47.574087Z"
    }
   },
   "outputs": [
    {
     "data": {
      "text/plain": [
       "47"
      ]
     },
     "execution_count": 37,
     "metadata": {},
     "output_type": "execute_result"
    }
   ],
   "source": [
    "a=[1,7,11,12,14,23,33,47,51,64,67,77,129,672,871]\n",
    "a[len(a)//2] if len(a)%2 else (a[(len(a)//2)] + a[(len(a)//2+1)]) / 2"
   ]
  },
  {
   "cell_type": "code",
   "execution_count": 18,
   "metadata": {
    "ExecuteTime": {
     "end_time": "2020-06-02T07:02:08.257512Z",
     "start_time": "2020-06-02T07:02:08.249702Z"
    }
   },
   "outputs": [
    {
     "data": {
      "text/plain": [
       "47.0"
      ]
     },
     "execution_count": 18,
     "metadata": {},
     "output_type": "execute_result"
    }
   ],
   "source": [
    "import numpy as np\n",
    "\n",
    "a=np.array([1,7,11,12,14,23,33,47,51,64,67,77,129,672,871])\n",
    "np.median(a)"
   ]
  },
  {
   "cell_type": "markdown",
   "metadata": {},
   "source": [
    "### ※ 문제324. a 리스트에서 첫번째 숫자부터 중앙값에 해당하는 숫자까지만 검색하시오"
   ]
  },
  {
   "cell_type": "code",
   "execution_count": 40,
   "metadata": {
    "ExecuteTime": {
     "end_time": "2020-06-02T07:30:57.227116Z",
     "start_time": "2020-06-02T07:30:57.217353Z"
    }
   },
   "outputs": [
    {
     "data": {
      "text/plain": [
       "[1, 7, 11, 12, 14, 23, 33, 47]"
      ]
     },
     "execution_count": 40,
     "metadata": {},
     "output_type": "execute_result"
    }
   ],
   "source": [
    "a=[1,7,11,12,14,23,33,47,51,64,67,77,129,672,871]\n",
    "a[len(a)//2] if len(a)%2 else (a[(len(a)//2)] + a[(len(a)//2+1)]) / 2\n",
    "a=[i for i in a if i <= (a[len(a)//2] if len(a)%2 else (a[(len(a)//2)] + a[(len(a)//2+1)]) / 2)]\n",
    "a"
   ]
  },
  {
   "cell_type": "code",
   "execution_count": 25,
   "metadata": {
    "ExecuteTime": {
     "end_time": "2020-06-02T07:06:34.159526Z",
     "start_time": "2020-06-02T07:06:34.150740Z"
    }
   },
   "outputs": [
    {
     "data": {
      "text/plain": [
       "[1, 7, 11, 12, 14, 23, 33, 47]"
      ]
     },
     "execution_count": 25,
     "metadata": {},
     "output_type": "execute_result"
    }
   ],
   "source": [
    "import numpy as np\n",
    "\n",
    "a=[1,7,11,12,14,23,33,47,51,64,67,77,129,672,871]\n",
    "a0=np.array([1,7,11,12,14,23,33,47,51,64,67,77,129,672,871])\n",
    "a1=a[:a.index(int(np.median(a)))+1]\n",
    "a1"
   ]
  },
  {
   "cell_type": "markdown",
   "metadata": {},
   "source": [
    "### ※ 문제325. a 리스트에서 문제 324번에서 선택된 숫자들을 중앙값까지 포함해서 다 지우고 아래의 결과만 출력하시오\n",
    "```python\n",
    "[51,64,67,77,129,672,871]\n",
    "```"
   ]
  },
  {
   "cell_type": "code",
   "execution_count": 43,
   "metadata": {
    "ExecuteTime": {
     "end_time": "2020-06-02T07:34:17.045371Z",
     "start_time": "2020-06-02T07:34:17.035610Z"
    }
   },
   "outputs": [
    {
     "data": {
      "text/plain": [
       "[51, 64, 67, 77, 129, 672, 871]"
      ]
     },
     "execution_count": 43,
     "metadata": {},
     "output_type": "execute_result"
    }
   ],
   "source": [
    "a=[1,7,11,12,14,23,33,47,51,64,67,77,129,672,871]\n",
    "a[len(a)//2] if len(a)%2 else (a[(len(a)//2)] + a[(len(a)//2+1)]) / 2\n",
    "a1=[i for i in a if i <= (a[len(a)//2] if len(a)%2 else (a[(len(a)//2)] + a[(len(a)//2+1)]) / 2)]\n",
    "a2=[i for i in a if i not in a1]\n",
    "a2"
   ]
  },
  {
   "cell_type": "code",
   "execution_count": 24,
   "metadata": {
    "ExecuteTime": {
     "end_time": "2020-06-02T07:05:51.416343Z",
     "start_time": "2020-06-02T07:05:51.404626Z"
    }
   },
   "outputs": [
    {
     "data": {
      "text/plain": [
       "[51, 64, 67, 77, 129, 672, 871]"
      ]
     },
     "execution_count": 24,
     "metadata": {},
     "output_type": "execute_result"
    }
   ],
   "source": [
    "import numpy as np\n",
    "\n",
    "a=[1,7,11,12,14,23,33,47,51,64,67,77,129,672,871]\n",
    "a0=np.array([1,7,11,12,14,23,33,47,51,64,67,77,129,672,871])\n",
    "a1=a[:a.index(int(np.median(a)))+1]\n",
    "a2=a[a.index(int(np.median(a)))+1:]\n",
    "a2"
   ]
  },
  {
   "cell_type": "code",
   "execution_count": 27,
   "metadata": {
    "ExecuteTime": {
     "end_time": "2020-06-02T07:09:40.367464Z",
     "start_time": "2020-06-02T07:09:40.360630Z"
    }
   },
   "outputs": [
    {
     "name": "stdout",
     "output_type": "stream",
     "text": [
      "[51, 64, 67, 77, 129, 672, 871]\n"
     ]
    }
   ],
   "source": [
    "import numpy as np\n",
    "\n",
    "a=[1,7,11,12,14,23,33,47,51,64,67,77,129,672,871]\n",
    "a0=np.array([1,7,11,12,14,23,33,47,51,64,67,77,129,672,871])\n",
    "a_m=np.median(a0)\n",
    "del(a[:a.index(a_m)+1])\n",
    "print(a)"
   ]
  },
  {
   "cell_type": "markdown",
   "metadata": {},
   "source": [
    "### ※ 문제326. 위의 a 리스트에서 중앙값을 출력하시오"
   ]
  },
  {
   "cell_type": "code",
   "execution_count": 45,
   "metadata": {
    "ExecuteTime": {
     "end_time": "2020-06-02T07:34:53.663203Z",
     "start_time": "2020-06-02T07:34:53.651487Z"
    }
   },
   "outputs": [
    {
     "data": {
      "text/plain": [
       "77"
      ]
     },
     "execution_count": 45,
     "metadata": {},
     "output_type": "execute_result"
    }
   ],
   "source": [
    "a=[1,7,11,12,14,23,33,47,51,64,67,77,129,672,871]\n",
    "a[len(a)//2] if len(a)%2 else (a[(len(a)//2)] + a[(len(a)//2+1)]) / 2\n",
    "a1=[i for i in a if i <= (a[len(a)//2] if len(a)%2 else (a[(len(a)//2)] + a[(len(a)//2+1)]) / 2)]\n",
    "a2=[i for i in a if i not in a1]\n",
    "a2[len(a2)//2] if len(a2)%2 else (a2[(len(a2)//2)] + a2[(len(a2)//2+1)]) / 2"
   ]
  },
  {
   "cell_type": "code",
   "execution_count": 31,
   "metadata": {
    "ExecuteTime": {
     "end_time": "2020-06-02T07:13:54.052539Z",
     "start_time": "2020-06-02T07:13:54.039847Z"
    }
   },
   "outputs": [
    {
     "data": {
      "text/plain": [
       "(77, [51, 64, 67, 77, 129, 672, 871])"
      ]
     },
     "execution_count": 31,
     "metadata": {},
     "output_type": "execute_result"
    }
   ],
   "source": [
    "import numpy as np\n",
    "\n",
    "a=[1,7,11,12,14,23,33,47,51,64,67,77,129,672,871]\n",
    "a0=np.array([1,7,11,12,14,23,33,47,51,64,67,77,129,672,871])\n",
    "a_m=np.median(a0)\n",
    "del(a[:a.index(a_m)+1])\n",
    "a_mm=np.median(a)\n",
    "int(a_mm), a"
   ]
  },
  {
   "cell_type": "markdown",
   "metadata": {},
   "source": [
    "### ※ 문제327. 아래의 a 리스트에 중앙값이 내가 찾고자 하는 67보다 크다면 아래의 결과 리스트만 출력되게 하시오\n",
    "```python\n",
    "[51,64,67]\n",
    "```"
   ]
  },
  {
   "cell_type": "code",
   "execution_count": 1,
   "metadata": {
    "ExecuteTime": {
     "end_time": "2020-06-10T11:46:46.646132Z",
     "start_time": "2020-06-10T11:46:46.628143Z"
    }
   },
   "outputs": [
    {
     "data": {
      "text/plain": [
       "([51, 64, 67], 77)"
      ]
     },
     "execution_count": 1,
     "metadata": {},
     "output_type": "execute_result"
    }
   ],
   "source": [
    "a=[1,7,11,12,14,23,33,47,51,64,67,77,129,672,871]\n",
    "a_m=a[len(a)//2] if len(a)%2 else (a[(len(a)//2)] + a[(len(a)//2+1)]) / 2\n",
    "a1=[i for i in a if i <= (a[len(a)//2] if len(a)%2 else (a[(len(a)//2)] + a[(len(a)//2+1)]) / 2)]\n",
    "a2=[i for i in a if i not in a1]\n",
    "a_mm=a2[len(a2)//2] if len(a2)%2 else (a2[(len(a2)//2)] + a2[(len(a2)//2+1)]) / 2\n",
    "rs=[i for i in a2 if i < a_mm]\n",
    "rs, a_mm"
   ]
  },
  {
   "cell_type": "code",
   "execution_count": 35,
   "metadata": {
    "ExecuteTime": {
     "end_time": "2020-06-02T07:18:32.928706Z",
     "start_time": "2020-06-02T07:18:32.917966Z"
    }
   },
   "outputs": [
    {
     "data": {
      "text/plain": [
       "[51, 64, 67]"
      ]
     },
     "execution_count": 35,
     "metadata": {},
     "output_type": "execute_result"
    }
   ],
   "source": [
    "import numpy as np\n",
    "\n",
    "a=[1,7,11,12,14,23,33,47,51,64,67,77,129,672,871]\n",
    "a0=np.array([1,7,11,12,14,23,33,47,51,64,67,77,129,672,871])\n",
    "a_m=np.median(a0) # 47\n",
    "del(a[:a.index(a_m)+1])\n",
    "a_mm=int(np.median(a)) # 77\n",
    "rs=[i for i in a if i < a_mm]\n",
    "rs"
   ]
  },
  {
   "cell_type": "markdown",
   "metadata": {},
   "source": [
    "### ※ 문제328.(파이썬 알고리즘 문제 40번)(오늘의 마지막 문제) 이진탐색을 구현하시오!\n",
    "```python\n",
    "a=[1,7,11,12,14,23,33,47,51,64,67,77,129,672,871]\n",
    "b=int(input('검색할 숫자를 입력하세요~')) - 67\n",
    "\n",
    "67이 리스트에서 검색됩니다\n",
    "67은 a 리스트에서 검색되지 않습니다\n",
    "\n",
    "```"
   ]
  },
  {
   "cell_type": "code",
   "execution_count": 93,
   "metadata": {
    "ExecuteTime": {
     "end_time": "2020-06-02T08:58:48.742540Z",
     "start_time": "2020-06-02T08:58:48.727896Z"
    }
   },
   "outputs": [
    {
     "name": "stdout",
     "output_type": "stream",
     "text": [
      "[1, 7, 11, 12, 14, 23, 33]\n"
     ]
    },
    {
     "data": {
      "text/plain": [
       "'12은 이진탐색 2번 만에 찾았습니다.'"
      ]
     },
     "execution_count": 93,
     "metadata": {},
     "output_type": "execute_result"
    }
   ],
   "source": [
    "def bi_search(a,n,cnt=0):\n",
    "    \"\"\"\n",
    "    a=리스트\n",
    "    n=찾고싶은 숫자\n",
    "    \"\"\"\n",
    "    import numpy as np\n",
    "    \n",
    "    cnt+=1\n",
    "    if len(a)==1:\n",
    "        if a[0]==n:\n",
    "            return f'{n}은 이진탐색 {cnt}번 만에 찾았습니다.'\n",
    "        else:\n",
    "            return f'{n}은 a 리스트에서 검색되지 않습니다.'\n",
    "        \n",
    "    a0=np.array(a)\n",
    "    if np.median(a0)==n:        \n",
    "        return f'{n}은 이진탐색 {cnt}번 만에 찾았습니다.'\n",
    "    \n",
    "    a_m=np.median(a0)\n",
    "    if a_m > n:\n",
    "        a=[i for i in a if i < a_m]\n",
    "    else:\n",
    "        a=[i for i in a if i > a_m]\n",
    "           \n",
    "    return bi_search(a, n, cnt)\n",
    "        \n",
    "a=[1,7,11,12,14,23,33,47,51,64,67,77,129,672,871]\n",
    "bi_search(sorted(a),12)"
   ]
  },
  {
   "cell_type": "code",
   "execution_count": null,
   "metadata": {},
   "outputs": [],
   "source": []
  },
  {
   "cell_type": "code",
   "execution_count": null,
   "metadata": {},
   "outputs": [],
   "source": []
  },
  {
   "cell_type": "code",
   "execution_count": null,
   "metadata": {},
   "outputs": [],
   "source": []
  },
  {
   "cell_type": "code",
   "execution_count": null,
   "metadata": {},
   "outputs": [],
   "source": []
  },
  {
   "cell_type": "code",
   "execution_count": null,
   "metadata": {},
   "outputs": [],
   "source": []
  }
 ],
 "metadata": {
  "kernelspec": {
   "display_name": "Python 3",
   "language": "python",
   "name": "python3"
  },
  "language_info": {
   "codemirror_mode": {
    "name": "ipython",
    "version": 3
   },
   "file_extension": ".py",
   "mimetype": "text/x-python",
   "name": "python",
   "nbconvert_exporter": "python",
   "pygments_lexer": "ipython3",
   "version": "3.7.6"
  },
  "toc": {
   "base_numbering": 1,
   "nav_menu": {},
   "number_sections": true,
   "sideBar": true,
   "skip_h1_title": false,
   "title_cell": "Table of Contents",
   "title_sidebar": "Contents",
   "toc_cell": false,
   "toc_position": {},
   "toc_section_display": true,
   "toc_window_display": false
  },
  "varInspector": {
   "cols": {
    "lenName": 16,
    "lenType": 16,
    "lenVar": 40
   },
   "kernels_config": {
    "python": {
     "delete_cmd_postfix": "",
     "delete_cmd_prefix": "del ",
     "library": "var_list.py",
     "varRefreshCmd": "print(var_dic_list())"
    },
    "r": {
     "delete_cmd_postfix": ") ",
     "delete_cmd_prefix": "rm(",
     "library": "var_list.r",
     "varRefreshCmd": "cat(var_dic_list()) "
    }
   },
   "types_to_exclude": [
    "module",
    "function",
    "builtin_function_or_method",
    "instance",
    "_Feature"
   ],
   "window_display": false
  }
 },
 "nbformat": 4,
 "nbformat_minor": 4
}
