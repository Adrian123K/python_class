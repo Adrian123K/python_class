{
 "cells": [
  {
   "cell_type": "markdown",
   "metadata": {},
   "source": [
    "### ■ 예제. 클래스 메소드(함수) 이해하기\n",
    "#### card 클래스의 consume과 charge가 바로 메소드 (기능)"
   ]
  },
  {
   "cell_type": "markdown",
   "metadata": {},
   "source": [
    "#### 클래스를 사용해서 파이썬 코딩을 해야하는 이유?\n",
    "    1. 객체 지향 언어의 장점(상속)을 활용할 수 있기 때문\n",
    "    2. 클래스는 변수와 기능으로 구성\n",
    "    3. 클래스에서 self는 생성한 객체를 구분하기 위한 키워드\n",
    "        객체 자신을 가리키기 위해 사용하는 키워드로 클래스 생성 시 꼭 필수로 작성해야하는 강제사항\n",
    "    "
   ]
  },
  {
   "cell_type": "markdown",
   "metadata": {},
   "source": [
    "### ■ 예제52. 클래스 생성자 이해하기\n",
    "#### 클래스의 인스턴스 객체가 생성될 때 자동적으로 호출되는 메소드\n",
    "#### 클래스 생성자는 다음과 같은 이름을 가진다\n",
    "```python\n",
    "class Stats:\n",
    "    def __init__(self): # 생성자에 관련한 함수\n",
    "        self.var='hello'\n",
    "        print('통계 객체가 생성되었습니다.')\n",
    "\n",
    "stats1=Stats()\n",
    "\n",
    "stats1.var\n",
    "```"
   ]
  },
  {
   "cell_type": "code",
   "execution_count": 23,
   "metadata": {
    "ExecuteTime": {
     "end_time": "2020-05-19T00:59:21.162445Z",
     "start_time": "2020-05-19T00:59:21.155448Z"
    }
   },
   "outputs": [
    {
     "name": "stdout",
     "output_type": "stream",
     "text": [
      "통계 객체가 생성되었습니다.\n"
     ]
    },
    {
     "data": {
      "text/plain": [
       "'hello'"
      ]
     },
     "execution_count": 23,
     "metadata": {},
     "output_type": "execute_result"
    }
   ],
   "source": [
    "class Stats:\n",
    "    def __init__(self):\n",
    "        self.var='hello'\n",
    "        print('통계 객체가 생성되었습니다.')\n",
    "\n",
    "stats1=Stats()\n",
    "stats1.var"
   ]
  },
  {
   "cell_type": "markdown",
   "metadata": {},
   "source": [
    "### ■ 예제53. 클래스 소멸자\n",
    "#### 객체가 사라질 때 자동으로 호출되는 함수(__del__)"
   ]
  },
  {
   "cell_type": "code",
   "execution_count": 25,
   "metadata": {
    "ExecuteTime": {
     "end_time": "2020-05-19T01:04:15.574070Z",
     "start_time": "2020-05-19T01:04:15.568074Z"
    }
   },
   "outputs": [
    {
     "name": "stdout",
     "output_type": "stream",
     "text": [
      "통계 객체가 생성되었습니다.\n"
     ]
    }
   ],
   "source": [
    "class Stats:\n",
    "    def __init__(self):\n",
    "        self.var='hello'\n",
    "        print('통계 객체가 생성되었습니다.')\n",
    "    \n",
    "    def __del__(self):\n",
    "        print('통계 객체가 메모리에서 삭제되었습니다.')\n",
    "\n",
    "stats1=Stats() # __init__함수 작동"
   ]
  },
  {
   "cell_type": "code",
   "execution_count": 26,
   "metadata": {
    "ExecuteTime": {
     "end_time": "2020-05-19T01:04:30.849708Z",
     "start_time": "2020-05-19T01:04:30.845712Z"
    }
   },
   "outputs": [
    {
     "name": "stdout",
     "output_type": "stream",
     "text": [
      "통계 객체가 메모리에서 삭제되었습니다.\n"
     ]
    }
   ],
   "source": [
    "del stats1 # 객체를 메모리에서 삭제"
   ]
  },
  {
   "cell_type": "markdown",
   "metadata": {},
   "source": [
    "### ■ 예제54. 클래스 상속 이해하기\n",
    "#### 클래스는 상속이라는 특성을 가지는 이름 공간\n",
    "#### 클래스에서 상속이란 어떤 클래스가 가지고 있는 멤버나 메소드를 상속받는 클래스가 모두 사용할 수 있도록 해주는 것\n",
    "- 상속을 해주는 클래스를 부모 클래스 또는 슈퍼 클래스  \n",
    "- 상속을 받는 클래스를 자식 클래스 또는 서브 클래스  "
   ]
  },
  {
   "cell_type": "markdown",
   "metadata": {},
   "source": [
    "#### 부모 클래스로 부터 상속을 받아 자식 클래스를 정의하는 방법\n",
    "```python\n",
    "class 자식클래스(부모클래스):\n",
    "```\n",
    "#### 자식 클래스는 부모 클래스에서 정의된 모든 멤버와 메소드를 그대로 상속 받는다"
   ]
  },
  {
   "cell_type": "code",
   "execution_count": 32,
   "metadata": {
    "ExecuteTime": {
     "end_time": "2020-05-19T01:11:59.482723Z",
     "start_time": "2020-05-19T01:11:59.476727Z"
    }
   },
   "outputs": [],
   "source": [
    "# 예제.\n",
    "class Card():\n",
    "    def __init__(self):\n",
    "        self.cash=0\n",
    "        print('카드가 발급 되었습니다.')\n",
    "        \n",
    "    def charge(self, num):\n",
    "        self.cash += num\n",
    "        print(f'{num}원 충전 되었습니다.\\t 남은 금액: {self.cash}원')\n",
    "                \n",
    "    def consume(self,num):\n",
    "        if self.cash-num<0:\n",
    "            print(f'잔액이 부족합니다.\\t 남은 금액:{self.cash}')\n",
    "        else:\n",
    "            self.cash -= num\n",
    "            print(f'{num}원 사용 되었습니다.\\t 남은 금액: {self.cash}원')"
   ]
  },
  {
   "cell_type": "markdown",
   "metadata": {},
   "source": [
    "#### 영화 할인 클래스 생성"
   ]
  },
  {
   "cell_type": "code",
   "execution_count": 34,
   "metadata": {
    "ExecuteTime": {
     "end_time": "2020-05-19T01:15:09.961933Z",
     "start_time": "2020-05-19T01:15:09.955938Z"
    }
   },
   "outputs": [
    {
     "name": "stdout",
     "output_type": "stream",
     "text": [
      "카드가 발급 되었습니다.\n",
      "20000원 충전 되었습니다.\t 남은 금액: 20000원\n",
      "10000원 사용 되었습니다.\t 남은 금액: 10000원\n"
     ]
    }
   ],
   "source": [
    "class Movie_card(Card):\n",
    "    pass\n",
    "\n",
    "movie_card1=Movie_card()\n",
    "movie_card1.charge(20000)\n",
    "movie_card1.consume(10000)"
   ]
  },
  {
   "cell_type": "markdown",
   "metadata": {},
   "source": [
    "### ※ 문제119. 팀장님이 만들어야 하는 기본 카드 클래스를 수정하는데 consume 메소드를 수정해서 아래와 같이 사용처가 출력되도록 하시오\n",
    "```python\n",
    "card1.Card()\n",
    "card1.charge(100000000)\n",
    "card1.consume(20000,'편의점')\n",
    " 편의점에서 20000원 사용했습니다.\n",
    "```"
   ]
  },
  {
   "cell_type": "code",
   "execution_count": 49,
   "metadata": {
    "ExecuteTime": {
     "end_time": "2020-05-19T01:52:09.662836Z",
     "start_time": "2020-05-19T01:52:09.657839Z"
    }
   },
   "outputs": [],
   "source": [
    "class Movie_card(Card):\n",
    "    def __init__(self):\n",
    "        self.cash=0\n",
    "        print('카드가 발급 되었습니다.')\n",
    "        \n",
    "    def charge(self, num):\n",
    "        self.cash += num\n",
    "        print(f'{num}원 충전 되었습니다.\\t 남은 금액: {self.cash}원')\n",
    "                \n",
    "    def consume(self,num,place):\n",
    "        if self.cash-num<0:\n",
    "            print(f'잔액이 부족합니다.\\t 남은 금액:{int(self.cash)}')\n",
    "        else:\n",
    "            self.cash -= num\n",
    "            print(f'{place}에서 {int(num)}원 사용 되었습니다.\\t 남은 금액: {int(self.cash)}원')"
   ]
  },
  {
   "cell_type": "code",
   "execution_count": 50,
   "metadata": {
    "ExecuteTime": {
     "end_time": "2020-05-19T01:52:10.584321Z",
     "start_time": "2020-05-19T01:52:10.579323Z"
    }
   },
   "outputs": [
    {
     "name": "stdout",
     "output_type": "stream",
     "text": [
      "카드가 발급 되었습니다.\n",
      "100000원 충전 되었습니다.\t 남은 금액: 100000원\n",
      "편의점에서 20000원 사용 되었습니다.\t 남은 금액: 80000원\n"
     ]
    }
   ],
   "source": [
    "card1=Card()\n",
    "card1.charge(100000)\n",
    "card1.consume(20000,'편의점')"
   ]
  },
  {
   "cell_type": "markdown",
   "metadata": {},
   "source": [
    "### ※ 문제120. 영화 카드 클래스를 제대로 생성하는데 카드 사용처가 영화관이면 20% 할인이 되게끔 영화 클래스를 구성하시오"
   ]
  },
  {
   "cell_type": "code",
   "execution_count": 51,
   "metadata": {
    "ExecuteTime": {
     "end_time": "2020-05-19T01:52:33.135778Z",
     "start_time": "2020-05-19T01:52:33.129783Z"
    }
   },
   "outputs": [],
   "source": [
    "class Movie_card(Card):\n",
    "    def consume(self,num,place):\n",
    "        if place=='영화관':\n",
    "            num *= 0.8\n",
    "        if self.cash-num<0:\n",
    "            print(f'잔액이 부족합니다.\\t 남은 금액:{self.cash}')\n",
    "        else:\n",
    "            self.cash -= num\n",
    "            print(f'{place}에서 {int(num)}원 사용 되었습니다.\\t 남은 금액: {int(self.cash)}원')"
   ]
  },
  {
   "cell_type": "code",
   "execution_count": 52,
   "metadata": {
    "ExecuteTime": {
     "end_time": "2020-05-19T01:53:01.512929Z",
     "start_time": "2020-05-19T01:53:01.507932Z"
    }
   },
   "outputs": [
    {
     "name": "stdout",
     "output_type": "stream",
     "text": [
      "카드가 발급 되었습니다.\n",
      "100000원 충전 되었습니다.\t 남은 금액: 100000원\n",
      "영화관에서 16000원 사용 되었습니다.\t 남은 금액: 84000원\n"
     ]
    }
   ],
   "source": [
    "card2=Movie_card()\n",
    "card2.charge(100000)\n",
    "card2.consume(20000,'영화관')"
   ]
  },
  {
   "cell_type": "markdown",
   "metadata": {},
   "source": [
    "#### ※ 부모에게 유산을 다 상속받았지만 특정 기능은 내 힘으로 하겠다는 것을 오버라이딩\n",
    "#### 오버라이딩\n",
    "    상복받는 자식 클래스가 부모 클래스의 특정 기능을 다른 코드로 대체하는 것\n",
    "    부모 클래스(Card) -----------------------> 자식 클래스(Movie_card)\n",
    "       consume                                   consume"
   ]
  },
  {
   "cell_type": "markdown",
   "metadata": {},
   "source": [
    "#### ■ 오버로딩과 오버라이딩의 차이\n",
    "1. 오버로딩 : 함수 실행 시 매개 변수를 1개를 넣든, 여러개를 넣든 관계없이 실행되게 하는 문법\n",
    "```python\n",
    "print(max_yaksu(16,24)) # 가능\n",
    "print(max_yaksu(16,24,128) # 가능\n",
    "```\n",
    "2. 오버라이딩 : 상속 받는 자식 클래스가 부모 클래스의 특정 기능을 다른 코드로 대체하는 것"
   ]
  },
  {
   "cell_type": "markdown",
   "metadata": {},
   "source": [
    "### ※ 문제121. 스타벅스에서 10% 할인되는 카드 클래스를 만들고 카드를 발급해서 스타벅스에서 사용해보시오"
   ]
  },
  {
   "cell_type": "code",
   "execution_count": 53,
   "metadata": {
    "ExecuteTime": {
     "end_time": "2020-05-19T02:02:14.848014Z",
     "start_time": "2020-05-19T02:02:14.843017Z"
    }
   },
   "outputs": [],
   "source": [
    "class StarBucksCard(Card):\n",
    "    def consume(self,num,place):\n",
    "        if place=='스타벅스':\n",
    "            num *= 0.9\n",
    "        if self.cash-num<0:\n",
    "            print(f'잔액이 부족합니다.\\t 남은 금액:{self.cash}')\n",
    "        else:\n",
    "            self.cash -= num\n",
    "            print(f'{place}에서 {int(num)}원 사용 되었습니다.\\t 남은 금액: {int(self.cash)}원')"
   ]
  },
  {
   "cell_type": "code",
   "execution_count": 54,
   "metadata": {
    "ExecuteTime": {
     "end_time": "2020-05-19T02:02:55.015598Z",
     "start_time": "2020-05-19T02:02:55.011600Z"
    }
   },
   "outputs": [
    {
     "name": "stdout",
     "output_type": "stream",
     "text": [
      "카드가 발급 되었습니다.\n",
      "30000원 충전 되었습니다.\t 남은 금액: 30000원\n",
      "스타벅스에서 3870원 사용 되었습니다.\t 남은 금액: 26130원\n"
     ]
    }
   ],
   "source": [
    "card3=StarBucksCard()\n",
    "card3.charge(30000)\n",
    "card3.consume(4300,'스타벅스')"
   ]
  },
  {
   "cell_type": "markdown",
   "metadata": {},
   "source": [
    "### ■ 예제50. 클래스 멤버와 인스턴스 멤버 이해하기\n",
    "#### 클래스에서 선언된 변수는 클래스 멤버와 인스턴스 멤버가 있다.\n",
    "#### 클래스 멤버는 클래스 메소드 바깥에서 선언되고 인스턴스 멤버는 클래스 메소드 안에서 self와 함께 선언되는 변수"
   ]
  },
  {
   "cell_type": "markdown",
   "metadata": {},
   "source": [
    "#### 예제. 사원이 입사하면 입사한 사원에 대해 이메일을 자동으로 생성하고 이름을 출력하는 함수와 월급을 인상하는 함수를 담는 클래스 생성"
   ]
  },
  {
   "cell_type": "code",
   "execution_count": 74,
   "metadata": {
    "ExecuteTime": {
     "end_time": "2020-05-19T02:46:51.464106Z",
     "start_time": "2020-05-19T02:46:51.455109Z"
    }
   },
   "outputs": [
    {
     "name": "stdout",
     "output_type": "stream",
     "text": [
      "5000000\n",
      "5500000\n",
      "5000000\n",
      "5500000\n"
     ]
    }
   ],
   "source": [
    "\n",
    "class  Employees:\n",
    "    raise_amount = 1.1  # 클래스 변수\n",
    "    def __init__(self, first, last, pay): # 객체가 만들어질때\n",
    "        self.first = first               # 바로 작동되는 함수\n",
    "        self.last  = last\n",
    "        self.pay   = pay\n",
    "        self.email = first.lower() + '.' + last.lower() + '@gmail.com'\n",
    "        self.raise_amount = 1.1  # 인스턴스 변수\n",
    "\n",
    "    def  full_name(self): #사원의 전체이름을 출력하는 함수\n",
    "        return  '{} {}'.format(self.first, self.last)\n",
    "\n",
    "    def  apply_raise(self): # 월급을 인상하는 함수\n",
    "        self.pay = int( self.pay * Employees.raise_amount) # 클래스 변수를 사용\n",
    "\n",
    "\n",
    "emp_chulsu = Employees('chulsu', 'kim', 5000000)\n",
    "print(emp_chulsu.pay)   # 5000000\n",
    "emp_chulsu.apply_raise()\n",
    "print(emp_chulsu.pay)  # 5500000\n",
    "\n",
    "emp_chulsu2 = Employees('chulsu2', 'kim', 5000000)\n",
    "emp_chulsu2.raise_amount = 1.2 # 인스턴스 변수만 변경할 수 있고 클래스 변수는 변경할 수 없다\n",
    "print(emp_chulsu2.pay)   # 5000000\n",
    "emp_chulsu2.apply_raise()\n",
    "print(emp_chulsu2.pay)  # 5500000"
   ]
  },
  {
   "cell_type": "markdown",
   "metadata": {},
   "source": [
    "### ■ 클래스를 모듈로 만들어서 활용하는 방법\n",
    "1. 메모장 -> Employees 클래스 전체 코드를 저장\n",
    "    - employee.py로 저장\n",
    "2. 새로운 창을 열고 employee.py 모듈을 import하고 사용한다."
   ]
  },
  {
   "cell_type": "code",
   "execution_count": 12,
   "metadata": {
    "ExecuteTime": {
     "end_time": "2020-05-19T03:07:05.358999Z",
     "start_time": "2020-05-19T03:07:05.355002Z"
    }
   },
   "outputs": [],
   "source": [
    "from my_loc import employee\n",
    "\n",
    "emp_chulsu2 = employee.Employees('adrian','kim',10000000)"
   ]
  },
  {
   "cell_type": "code",
   "execution_count": 10,
   "metadata": {
    "ExecuteTime": {
     "end_time": "2020-05-19T03:02:30.163530Z",
     "start_time": "2020-05-19T03:02:30.005628Z"
    }
   },
   "outputs": [
    {
     "name": "stdout",
     "output_type": "stream",
     "text": [
      "[ 0  1  2  3  4  5  6  7  8  9 10 11]\n"
     ]
    },
    {
     "data": {
      "image/png": "[encoded data removed]",
      "text/plain": [
       "<Figure size 432x288 with 1 Axes>"
      ]
     },
     "metadata": {
      "needs_background": "light"
     },
     "output_type": "display_data"
    }
   ],
   "source": [
    "import numpy as np\n",
    "import matplotlib.pyplot as plt # 그래프 패키지 import\n",
    "\n",
    "y1_value = (21.6, 23.6, 45.8, 77.0, 102.2, 133.3, 327.9, 348.0, 137.6, 49.3, 53.0, 24.9) \n",
    "x_name=('1', '2', '3', '4', '5', '6', '7', '8', '9', '10', '11', '12') # x축 값\n",
    "n_groups = len(x_name) # n_groups에 12 할당\n",
    "index = np.arange(n_groups) # 0~11\n",
    "\n",
    "plt.bar(index, y1_value, tick_label=x_name, align='center')\n",
    "plt.xlabel('month')\n",
    "plt.ylabel('average rainfall (mm)')\n",
    "plt.title('Weather bar chart')\n",
    "plt.xlim( -1, n_groups) # x축 눈금\n",
    "plt.ylim( 0, 400)\n",
    "plt.show()"
   ]
  },
  {
   "cell_type": "markdown",
   "metadata": {},
   "source": [
    "### ※ 문제122. (파이썬 알고리즘 문제 25번) 동전을 10번 던져서 앞면이 2번 나올 확률을 출력하시오\n",
    "#### 동전을 10번 던지는 것을 10만번 시행)"
   ]
  },
  {
   "cell_type": "code",
   "execution_count": 6,
   "metadata": {
    "ExecuteTime": {
     "end_time": "2020-05-19T04:36:32.550296Z",
     "start_time": "2020-05-19T04:36:31.057218Z"
    }
   },
   "outputs": [
    {
     "name": "stdout",
     "output_type": "stream",
     "text": [
      "0.04413\n"
     ]
    }
   ],
   "source": [
    "import random\n",
    "ccnt=0\n",
    "for i in range(100000):\n",
    "    cnt=0\n",
    "    for j in range(10):\n",
    "        if random.randint(0,1)==1:\n",
    "            cnt += 1\n",
    "    if cnt == 2:\n",
    "        ccnt += 1\n",
    "print(ccnt/100000)"
   ]
  },
  {
   "cell_type": "code",
   "execution_count": null,
   "metadata": {},
   "outputs": [],
   "source": []
  },
  {
   "cell_type": "code",
   "execution_count": null,
   "metadata": {},
   "outputs": [],
   "source": []
  },
  {
   "cell_type": "code",
   "execution_count": null,
   "metadata": {},
   "outputs": [],
   "source": []
  },
  {
   "cell_type": "code",
   "execution_count": null,
   "metadata": {},
   "outputs": [],
   "source": []
  },
  {
   "cell_type": "markdown",
   "metadata": {},
   "source": [
    "### ※ (점심시간 문제)(파이썬 알고리즘 문제 24번) 확률 밀도 함수의 확률 문제\n",
    "어느 도시의 초등학생의 수는 전체 10만명. 학생들의 평균키는 140이고 표준편차는 5  \n",
    "이 도시의 10만명의 초등학생 중 무작위로 한 명을 추출했을 때 이 어린이의 키가 145~150 사이에 있을 확률?\n",
    "답: 0.135905121983278"
   ]
  },
  {
   "cell_type": "code",
   "execution_count": 22,
   "metadata": {
    "ExecuteTime": {
     "end_time": "2020-05-19T00:47:47.634713Z",
     "start_time": "2020-05-19T00:47:47.578748Z"
    }
   },
   "outputs": [
    {
     "name": "stdout",
     "output_type": "stream",
     "text": [
      "[143.91143684 140.06403573 141.80290077 ... 140.04042647 151.16063385\n",
      " 137.91217638]\n",
      "0.13642\n"
     ]
    }
   ],
   "source": [
    "import numpy as np\n",
    "\n",
    "s_num = 100000\n",
    "height = np.random.randn(s_num)*5 + 140\n",
    "print(height)\n",
    "pb=[]\n",
    "for i in height:\n",
    "    if 145<=i<=150:\n",
    "        pb.append(i)\n",
    "print(len(pb)/100000)\n",
    "    "
   ]
  },
  {
   "cell_type": "code",
   "execution_count": null,
   "metadata": {},
   "outputs": [],
   "source": []
  },
  {
   "cell_type": "code",
   "execution_count": null,
   "metadata": {},
   "outputs": [],
   "source": []
  }
 ],
 "metadata": {
  "kernelspec": {
   "display_name": "Python 3",
   "language": "python",
   "name": "python3"
  },
  "language_info": {
   "codemirror_mode": {
    "name": "ipython",
    "version": 3
   },
   "file_extension": ".py",
   "mimetype": "text/x-python",
   "name": "python",
   "nbconvert_exporter": "python",
   "pygments_lexer": "ipython3",
   "version": "3.7.6"
  },
  "varInspector": {
   "cols": {
    "lenName": 16,
    "lenType": 16,
    "lenVar": 40
   },
   "kernels_config": {
    "python": {
     "delete_cmd_postfix": "",
     "delete_cmd_prefix": "del ",
     "library": "var_list.py",
     "varRefreshCmd": "print(var_dic_list())"
    },
    "r": {
     "delete_cmd_postfix": ") ",
     "delete_cmd_prefix": "rm(",
     "library": "var_list.r",
     "varRefreshCmd": "cat(var_dic_list()) "
    }
   },
   "types_to_exclude": [
    "module",
    "function",
    "builtin_function_or_method",
    "instance",
    "_Feature"
   ],
   "window_display": false
  }
 },
 "nbformat": 4,
 "nbformat_minor": 4
}
