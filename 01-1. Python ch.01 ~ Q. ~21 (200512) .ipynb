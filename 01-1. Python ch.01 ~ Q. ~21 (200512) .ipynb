{
 "cells": [
  {
   "cell_type": "markdown",
   "metadata": {},
   "source": [
    "#### ■ 파이썬 수업\n",
    "\n",
    "        목표 : 빅데이터를 활용한 데이터 분석가 또는 딥러닝 개발자, ML 엔지니어\n",
    "\n",
    "        갖추어야할 기본적 기술 \n",
    "\n",
    "                1. SQL\n",
    "                2. Python\n",
    "                3. R\n",
    "                4. ML\n",
    "                5. DL\n",
    "                6. 강화학습\n",
    "    \n",
    "        * 파이썬을 통해서 이루고자 하는 목표\n",
    "\n",
    "                1. ML 데이터 분석에 필요한 파이썬 활용능력\n",
    "                2. 데이터 분석을 위한 데이터 수집 (웹 크롤링)\n",
    "                3. DL을 통해 이미지 분류 (불량품 선별,)\n",
    "                4. 강화학습을 통해서 인공지능 게임 개발, 인공지능 주식 트레이딩\n",
    "\n",
    "#### ■ 파이썬 프로그램 실행하는 법\n",
    "\n",
    "        1. spider -> 한 라인씩 드래그해서 ctrl+enter, F9\n",
    "        2. jupyter notebook -> ctrl+enter\n",
    "        3. pycharm -> ctrl+shift+F10 / alt+shift+e (한 라인씩 실행)"
   ]
  },
  {
   "cell_type": "markdown",
   "metadata": {},
   "source": [
    "### ■ 예제 1. 대화식 모드로 프로그래밍 하기\n",
    "\n",
    "* 파이썬을 실행하는 방법 2가지\n",
    "  1. 대화식 모드\n",
    "  2. 배치모드\n",
    "\n",
    "파이썬의 인터프리터가 위의 코드 문법의 오류가 없는지 체크하고 실행    \n",
    "* 아나콘다(Anaconda) :   \n",
    "  기본 python이 내장되어있음  \n",
    "  각종 필요한 패키지들이 다 포함되어 있음"
   ]
  },
  {
   "cell_type": "markdown",
   "metadata": {},
   "source": [
    "### ※ 문제1. 아래의 스크립트를 배치 모드로 실행하시오  \n",
    "2  \n",
    "3  \n",
    "4"
   ]
  },
  {
   "cell_type": "markdown",
   "metadata": {},
   "source": [
    "### ■ 예제 2. 텍스트 에디터로 프로그래밍하기\n",
    "\n",
    "        spyder 프로그램에서 ctrl+enter 로 코드를 실행 또는 F9를 누른다\n",
    "\n",
    "        * #%% : 실행 영역 구분 시 사용"
   ]
  },
  {
   "cell_type": "markdown",
   "metadata": {},
   "source": [
    "### ※ 문제2. 아래의 결과가 나오게 spyder에서 프로그래밍 하시오\n",
    "2  \n",
    "3  \n",
    "4"
   ]
  },
  {
   "cell_type": "code",
   "execution_count": 3,
   "metadata": {},
   "outputs": [
    {
     "name": "stdout",
     "output_type": "stream",
     "text": [
      "2\n",
      "3\n",
      "4\n"
     ]
    }
   ],
   "source": [
    "for i in[2,3,4]:\n",
    "    print(i)"
   ]
  },
  {
   "cell_type": "markdown",
   "metadata": {},
   "source": [
    "### ■ 예제 3. 변수명 만들기\n",
    "\n",
    "        어떤 값을 임시로 저장하는 변수의 이름을 만드는 방법과 규칙을 배운다\n",
    "\n",
    "#### ※ 예시\n",
    "a=1  :  a라는 변수에 1을 할당"
   ]
  },
  {
   "cell_type": "markdown",
   "metadata": {},
   "source": [
    "#### ※ 변수 이름 생성 시 주의 사항\n",
    "        1. 변수 이름에는 다음 문자만 사용할 수 있다.\n",
    "                - 소문자(a~z)\n",
    "                - 대문자(A~Z)\n",
    "                - 숫자 (0~9)\n",
    "                - 언더스코어(_)\n",
    "        2. 변수 이름은 숫자로 시작할 수 없다.\n",
    "        3. 예약어를 사용할 수 없다. (파이썬에서 이미 사용되고 있는 단어들)"
   ]
  },
  {
   "cell_type": "markdown",
   "metadata": {},
   "source": [
    "### ※ 문제3. 파이썬의 예약어가 무엇이 있는지 출력"
   ]
  },
  {
   "cell_type": "code",
   "execution_count": 5,
   "metadata": {},
   "outputs": [
    {
     "name": "stdout",
     "output_type": "stream",
     "text": [
      "['False', 'None', 'True', 'and', 'as', 'assert', 'async', 'await', 'break', 'class', 'continue', 'def', 'del', 'elif', 'else', 'except', 'finally', 'for', 'from', 'global', 'if', 'import', 'in', 'is', 'lambda', 'nonlocal', 'not', 'or', 'pass', 'raise', 'return', 'try', 'while', 'with', 'yield']\n"
     ]
    }
   ],
   "source": [
    "import keyword\n",
    "print(keyword.kwlist)"
   ]
  },
  {
   "cell_type": "markdown",
   "metadata": {},
   "source": [
    "#### ■ 예제4. 변수에 값 대입\n",
    "        - 다양한 값을 변수에 대입하는 방법\n",
    "        - 파이썬은 변수에 값을 대입할 때 = (assignment) 기호를 사용"
   ]
  },
  {
   "cell_type": "markdown",
   "metadata": {},
   "source": [
    "### ※ 문제4. 위의 예약어를 변수로 사용하면 에러가 나는지 직접 테스트"
   ]
  },
  {
   "cell_type": "code",
   "execution_count": 7,
   "metadata": {},
   "outputs": [
    {
     "ename": "SyntaxError",
     "evalue": "invalid syntax (<ipython-input-7-a7469db81a16>, line 1)",
     "output_type": "error",
     "traceback": [
      "\u001b[1;36m  File \u001b[1;32m\"<ipython-input-7-a7469db81a16>\"\u001b[1;36m, line \u001b[1;32m1\u001b[0m\n\u001b[1;33m    and =1\u001b[0m\n\u001b[1;37m      ^\u001b[0m\n\u001b[1;31mSyntaxError\u001b[0m\u001b[1;31m:\u001b[0m invalid syntax\n"
     ]
    }
   ],
   "source": [
    "and =1"
   ]
  },
  {
   "cell_type": "markdown",
   "metadata": {},
   "source": [
    "### ※ 예시"
   ]
  },
  {
   "cell_type": "code",
   "execution_count": 6,
   "metadata": {},
   "outputs": [
    {
     "name": "stdout",
     "output_type": "stream",
     "text": [
      "scott\n"
     ]
    }
   ],
   "source": [
    "a=1\n",
    "b='scott'\n",
    "print(b)"
   ]
  },
  {
   "cell_type": "markdown",
   "metadata": {},
   "source": [
    "파이썬의 코드는 심플함을 철학으로 삼고 있다.  \n",
    "파이썬의 기본 철학을 확인하는 방법"
   ]
  },
  {
   "cell_type": "code",
   "execution_count": 2,
   "metadata": {},
   "outputs": [
    {
     "name": "stdout",
     "output_type": "stream",
     "text": [
      "The Zen of Python, by Tim Peters\n",
      "\n",
      "Beautiful is better than ugly.\n",
      "Explicit is better than implicit.\n",
      "Simple is better than complex.\n",
      "Complex is better than complicated.\n",
      "Flat is better than nested.\n",
      "Sparse is better than dense.\n",
      "Readability counts.\n",
      "Special cases aren't special enough to break the rules.\n",
      "Although practicality beats purity.\n",
      "Errors should never pass silently.\n",
      "Unless explicitly silenced.\n",
      "In the face of ambiguity, refuse the temptation to guess.\n",
      "There should be one-- and preferably only one --obvious way to do it.\n",
      "Although that way may not be obvious at first unless you're Dutch.\n",
      "Now is better than never.\n",
      "Although never is often better than *right* now.\n",
      "If the implementation is hard to explain, it's a bad idea.\n",
      "If the implementation is easy to explain, it may be a good idea.\n",
      "Namespaces are one honking great idea -- let's do more of those!\n"
     ]
    }
   ],
   "source": [
    "import this"
   ]
  },
  {
   "cell_type": "markdown",
   "metadata": {},
   "source": [
    "#### 파이썬은 c/c++, java와는 달리 변수를 선언할 때 숫자형 자료인지 문자형 자료인지 \n",
    "#### 자료형을 명시하지 않아도 된다."
   ]
  },
  {
   "cell_type": "markdown",
   "metadata": {},
   "source": [
    "            PL/SQL                        python  \n",
    "            a number(10) :=2;             a=2"
   ]
  },
  {
   "cell_type": "markdown",
   "metadata": {},
   "source": [
    "### ※ 문제5. 변수의 자료형을 확인하시오\n",
    "b='scott'  \n",
    "print(type(b))"
   ]
  },
  {
   "cell_type": "code",
   "execution_count": 8,
   "metadata": {},
   "outputs": [
    {
     "name": "stdout",
     "output_type": "stream",
     "text": [
      "<class 'str'>\n"
     ]
    }
   ],
   "source": [
    "b='scott'\n",
    "print(type(b))"
   ]
  },
  {
   "cell_type": "markdown",
   "metadata": {},
   "source": [
    "### ※ 문제6. 숫자형 변수의 자료형을 확인하시오"
   ]
  },
  {
   "cell_type": "code",
   "execution_count": 9,
   "metadata": {},
   "outputs": [
    {
     "name": "stdout",
     "output_type": "stream",
     "text": [
      "<class 'int'>\n"
     ]
    }
   ],
   "source": [
    "a=1\n",
    "print(type(a))"
   ]
  },
  {
   "cell_type": "markdown",
   "metadata": {},
   "source": [
    "### ■ 예제5. 주석처리하기(#)  \n",
    "프로그램에서 주석부분은 인터프리터에 의해 무시되는 텍스트의 한 부분이다.  \n",
    "코드를 설명하거나 나중에 어떤 문제를 고치기 위해 표시하는 등 다양항 목적으로 주석을 사용할 수 있다.  \n",
    "코드를 작성할 때 주석을 잘 작성해두면 차후에 코드를 다시 보거나 타인이 코드를 검토할 때 매우 중요한 정보로 활용이 된다.  \n",
    "그래서 주석을 항상 달아주는 습관을 가지고 있는 것이 좋다."
   ]
  },
  {
   "cell_type": "code",
   "execution_count": 12,
   "metadata": {},
   "outputs": [
    {
     "name": "stdout",
     "output_type": "stream",
     "text": [
      "1\n"
     ]
    }
   ],
   "source": [
    "# 한줄 주석\n",
    "a=1 #변수 a에 1을 할당합니다.\n",
    "print(a) # a의 결과를 출력합니다"
   ]
  },
  {
   "cell_type": "code",
   "execution_count": 13,
   "metadata": {},
   "outputs": [
    {
     "data": {
      "text/plain": [
       "' 아래의 프로그램은 a 변수에 1을 할당해서 프린트하는 프로그램 입니다.'"
      ]
     },
     "execution_count": 13,
     "metadata": {},
     "output_type": "execute_result"
    }
   ],
   "source": [
    "# 여러줄 주석\n",
    "\"\"\" 아래의 프로그램은 a 변수에 1을 할당해서 프린트하는 프로그램 입니다.\"\"\""
   ]
  },
  {
   "cell_type": "markdown",
   "metadata": {},
   "source": [
    "### ■ 예제6. 자료형 개념배우기  \n",
    "&nbsp; 자료형이란 프로그래밍을 할 때 쓰이는 숫자, 문자열 등의 자료 형태로 사용되는 모든 것을 뜻한다.  \n",
    "#### - 파이썬에서 자주 다루게 되는 자료형이 5가지가 있다.\n",
    "  #### 1. 숫자형 자료형  \n",
    "        - 숫자를 표현하는 자료형. (예: a=1)\n",
    "  #### 2. 문자형 자료형\n",
    "        - 문자를 표현하는 자료형. (예: b='scott')\n",
    "  #### 3. 리스트 자료형\n",
    "        - []안에 임의 객체를 순서있게 나열한 자료형  \n",
    "            d=[1,2,3]  \n",
    "            print(d)  \n",
    "            print(d[0])\n",
    "  #### 4. 튜플 자료형\n",
    "        - 리스트와 비슷하지만 요소값을 변경할 수 없다는 것이 리스트와 다른 점  \n",
    "          c=(1,2,3) -> 안의 값을 변경할 수 없음  \n",
    "          print(c)\n",
    "  #### 5. 사전 자료형\n",
    "         - {} 안에 키:값으로 된 쌍이 요소로 구성된 순서가 없는 자료형  \n",
    "         m={ 'i':'나는', 'am':'입니다', 'boy':'소년'}  \n",
    "         print(m)"
   ]
  },
  {
   "cell_type": "code",
   "execution_count": 16,
   "metadata": {},
   "outputs": [
    {
     "name": "stdout",
     "output_type": "stream",
     "text": [
      "{'i': '나는', 'am': '입니다', 'boy': '소년'}\n"
     ]
    }
   ],
   "source": [
    "m={'i':'나는','am':'입니다','boy':'소년'}\n",
    "print(m)"
   ]
  },
  {
   "cell_type": "markdown",
   "metadata": {},
   "source": [
    "### ※ 문제7.(점심시간 문제) 아래의 리스트에서 문자 k를 출력하시오  \n",
    "['a','b','d','e','k','m','n','z']"
   ]
  },
  {
   "cell_type": "code",
   "execution_count": null,
   "metadata": {},
   "outputs": [],
   "source": [
    "t=['a','b','d','e','k','m','n','z']\n",
    "print(t[4])"
   ]
  },
  {
   "cell_type": "markdown",
   "metadata": {},
   "source": [
    "### ■ 예제7. 자료형 출력 개념 배우기(print)  \n",
    "print 함수를 이용하면 다양한 자료형을 화면에 출력할 수 있다."
   ]
  },
  {
   "cell_type": "code",
   "execution_count": 18,
   "metadata": {},
   "outputs": [
    {
     "name": "stdout",
     "output_type": "stream",
     "text": [
      "200\n",
      "i love python\n",
      "['a', 'b', 'c']\n"
     ]
    }
   ],
   "source": [
    "# 예시\n",
    "a=200\n",
    "b='i love python'\n",
    "c=['a','b','c']\n",
    "print(a)\n",
    "print(b)\n",
    "print(c)"
   ]
  },
  {
   "cell_type": "markdown",
   "metadata": {},
   "source": [
    "#### ※ 대화식 모드에서는 print 없이 출력이 가능"
   ]
  },
  {
   "cell_type": "markdown",
   "metadata": {},
   "source": [
    "### ■ 예제8. 들여쓰기 개념 배우기  \n",
    "#### 파이썬에는 실행코드 부분을 묶어주는 () 괄호가 없다  \n",
    "-> 들여쓰기로 괄호를 대신  \n",
    "\n",
    "파이썬은 다른 프로그래밍 언어와 달리 if, for, while 등과 같은 제어문이나 루프문의 실행코드 부분을 구분해주는 괄호가 없음  \n",
    "들여쓰기로 괄호를 대신  \n",
    "\n",
    "파이썬에서 제어문이나 함수 이름, 클래스 이름 뒤에 : 콜론 으로 제어문, 함수이름, 클래스 이름의 끝을 표시하며  \n",
    ": 다음에 실행코드를 작성하는 데 이때 들여쓰기를 해야함"
   ]
  },
  {
   "cell_type": "markdown",
   "metadata": {},
   "source": [
    "### 예제:\n",
    "    1. 실행코드를 다음 라인에 작성했을 경우"
   ]
  },
  {
   "cell_type": "code",
   "execution_count": 20,
   "metadata": {},
   "outputs": [
    {
     "name": "stdout",
     "output_type": "stream",
     "text": [
      "a가 listdata에 있습니다.\n"
     ]
    }
   ],
   "source": [
    "listdata=['a','b','c']\n",
    "if 'a' in listdata:\n",
    "    print('a가 listdata에 있습니다.')"
   ]
  },
  {
   "cell_type": "markdown",
   "metadata": {},
   "source": [
    "※ 콜론(:)을 쓴 다음 라인에서는 무조건 들여쓰기 4칸"
   ]
  },
  {
   "cell_type": "markdown",
   "metadata": {},
   "source": [
    "    2. 실행코드를 한 라인에 작성한 경우"
   ]
  },
  {
   "cell_type": "code",
   "execution_count": 21,
   "metadata": {},
   "outputs": [
    {
     "name": "stdout",
     "output_type": "stream",
     "text": [
      "a가 listdata에 있습니다.\n"
     ]
    }
   ],
   "source": [
    "listdata=['a','b','c']\n",
    "if 'a' in listdata: print('a가 listdata에 있습니다.')"
   ]
  },
  {
   "cell_type": "markdown",
   "metadata": {},
   "source": [
    "※ 콜론(:)으로 if문의 끝을 알린다."
   ]
  },
  {
   "cell_type": "markdown",
   "metadata": {},
   "source": [
    "### ■ 예제9. if문 개념 배우기 (if ~ else)   \n",
    "#### 어떤 조건을 참과 거짓으로 판단할 때 if문을 사용   \n",
    "참과 거짓을 구분하여 코드를 실행하면 if~else를 사용  \n",
    "코드를 작성하다보면 조건에 따라 수행하는 일을 달리 해야하는 경우가 있는 데  \n",
    "조건이 참인지 거짓인지를 검사하고, 참인 경우와 거짓인 경우 실행해야 하는 일을 구분하여 처리할 수 있다."
   ]
  },
  {
   "cell_type": "markdown",
   "metadata": {},
   "source": [
    "#### ※ 예시\n",
    "```python \n",
    "if 조건:   \n",
    "    실행코드1  \n",
    "else:  \n",
    "    실행코드2\n",
    "```"
   ]
  },
  {
   "cell_type": "markdown",
   "metadata": {},
   "source": [
    "#### ※ 예제: \n",
    "```python\n",
    "a=int(input('숫자를 입력하세요~'))\n",
    "```"
   ]
  },
  {
   "cell_type": "code",
   "execution_count": 23,
   "metadata": {},
   "outputs": [
    {
     "name": "stdout",
     "output_type": "stream",
     "text": [
      "숫자를 입력하세요~20\n",
      "짝수 입니다\n"
     ]
    }
   ],
   "source": [
    "a=int(input('숫자를 입력하세요~'))\n",
    "if a%2==0:\n",
    "    print('짝수 입니다')\n",
    "else:\n",
    "    print('홀수 입니다')"
   ]
  },
  {
   "cell_type": "markdown",
   "metadata": {},
   "source": [
    "### ※ 문제8. 숫자 두 개를 아래와 같이 각각 물어보게하고 아래처럼 메세지가 출력되게 하시오  \n",
    "첫번째 숫자를 입력하세요 ~ 2  \n",
    "두번째 숫자를 입력하세요 ~ 3  \n",
    "2는 3보다 작습니다."
   ]
  },
  {
   "cell_type": "code",
   "execution_count": 30,
   "metadata": {},
   "outputs": [
    {
     "name": "stdout",
     "output_type": "stream",
     "text": [
      "첫번째 숫자를 입력하세요~ 2\n",
      "두번째 숫자를 입력하세요~ 3\n",
      "2는 3보다 작습니다.\n"
     ]
    }
   ],
   "source": [
    "a=int(input('첫번째 숫자를 입력하세요~ '))\n",
    "b=int(input('두번째 숫자를 입력하세요~ '))\n",
    "if b>a:\n",
    "    print(str(a)+'는 '+str(b)+'보다 작습니다.')\n",
    "else:\n",
    "    print(str(a)+'는(은) '+str(b)+'보다 큽니다')"
   ]
  },
  {
   "cell_type": "markdown",
   "metadata": {},
   "source": [
    "### ■ 예제10. if문 개념 배우기 (if ~elif)  \n",
    "#### 여러 개의 조건을 순차적으로 체크하고 해당 조건이 참이면 특정 로직을 수행하고자 할 때 if~elif 문을 사용  "
   ]
  },
  {
   "cell_type": "markdown",
   "metadata": {},
   "source": [
    "#### ※ 예제:\n",
    "```python\n",
    "if 조건1:\n",
    "    실행코드1\n",
    "elif 조건2:\n",
    "    실행코드2\n",
    "else:\n",
    "    실행코드3        # 위의 조건1과 조건2가 아니라면\n",
    "```"
   ]
  },
  {
   "cell_type": "markdown",
   "metadata": {},
   "source": [
    "### ※ 문제9. 문제 8번을 다시 수행하는데 elif문을 이용해서  \n",
    "### 두 개의 숫자가 같을 때의 메세지도 아래와 같이 출력되게 하시오  \n",
    "첫번째 숫자를 입력하세요 ~ 5  \n",
    "두번째 숫자를 입력하세요 ~ 5  \n",
    "5와 5는 같습니다."
   ]
  },
  {
   "cell_type": "code",
   "execution_count": 31,
   "metadata": {},
   "outputs": [
    {
     "name": "stdout",
     "output_type": "stream",
     "text": [
      "첫번째 숫자를 입력하세요~5\n",
      "두번째 숫자를 입력하세요~5\n",
      "5와 5는 같습니다\n"
     ]
    }
   ],
   "source": [
    "a=int(input('첫번째 숫자를 입력하세요~'))\n",
    "b=int(input('두번째 숫자를 입력하세요~'))\n",
    "if a>b:\n",
    "    print(f'{a}는 {b}보다 작습니다')\n",
    "elif a<b:\n",
    "    print(f'{a}는 {b}보다 큽니다')\n",
    "else:\n",
    "    print(f'{a}와 {b}는 같습니다')"
   ]
  },
  {
   "cell_type": "markdown",
   "metadata": {},
   "source": [
    "### ■ 예제11. for문 개념 배우기  Ⅰ  \n",
    "#### 특정 코드를 반복적으로 수행하기 위해서는 반복문을 사용해야 하는데 파이썬에서는 for문이 반복문을 수행하기 위해  가장 많이 사용되는 문법"
   ]
  },
  {
   "cell_type": "markdown",
   "metadata": {},
   "source": [
    "### ※ 예제1)\n",
    "```python\n",
    "for 변수 in 범위:\n",
    "    반복적으로 실행할 코드\n",
    "```\n",
    "#### 1. 리스트 범위인 경우\n",
    "```python\n",
    "for i in [1,2,3]:\n",
    "    print(i)\n",
    "```\n",
    "#### 2. 튜플 범위인 경우\n",
    "```python\n",
    "for i in (1,2,3):\n",
    "    print(i)\n",
    "```\n",
    "#### 3. range() 범위인 경우\n",
    "```python\n",
    "for i in range(10):\n",
    "    print(i)\n",
    "```\n",
    "#### 4. 사전형 범위인 경우\n",
    "```python\n",
    "m={'i':'나는','am':'입니다','boy':'소년'}\n",
    "for i in m:\n",
    "    print(i)\n",
    "```\n",
    "#### 5. 문자형이 범위인 경우\n",
    "```python\n",
    "for i in 'I am a boy':\n",
    "    print(i)\n",
    "```"
   ]
  },
  {
   "cell_type": "code",
   "execution_count": 32,
   "metadata": {},
   "outputs": [
    {
     "name": "stdout",
     "output_type": "stream",
     "text": [
      "0\n",
      "1\n",
      "2\n",
      "3\n",
      "4\n",
      "5\n",
      "6\n",
      "7\n",
      "8\n",
      "9\n"
     ]
    }
   ],
   "source": [
    "for i in range(10):\n",
    "    print(i)"
   ]
  },
  {
   "cell_type": "code",
   "execution_count": 33,
   "metadata": {},
   "outputs": [
    {
     "name": "stdout",
     "output_type": "stream",
     "text": [
      "i\n",
      "am\n",
      "boy\n"
     ]
    }
   ],
   "source": [
    "m={'i':'나는','am':'입니다','boy':'소년'}\n",
    "for i in m:\n",
    "    print(i)"
   ]
  },
  {
   "cell_type": "markdown",
   "metadata": {},
   "source": [
    "### ■ for 루프문의 range 사용법  "
   ]
  },
  {
   "cell_type": "code",
   "execution_count": 38,
   "metadata": {},
   "outputs": [
    {
     "name": "stdout",
     "output_type": "stream",
     "text": [
      "0\n",
      "1\n",
      "2\n",
      "3\n",
      "4\n",
      "5\n"
     ]
    }
   ],
   "source": [
    "for i in range(6):\n",
    "    print(i)"
   ]
  },
  {
   "cell_type": "code",
   "execution_count": 39,
   "metadata": {},
   "outputs": [
    {
     "name": "stdout",
     "output_type": "stream",
     "text": [
      "1\n",
      "2\n",
      "3\n",
      "4\n",
      "5\n"
     ]
    }
   ],
   "source": [
    "for i in range(1,6):\n",
    "    print(i)"
   ]
  },
  {
   "cell_type": "code",
   "execution_count": 40,
   "metadata": {},
   "outputs": [
    {
     "name": "stdout",
     "output_type": "stream",
     "text": [
      "1\n",
      "3\n",
      "5\n"
     ]
    }
   ],
   "source": [
    "for i in range(1,6,2):\n",
    "    print(i)"
   ]
  },
  {
   "cell_type": "code",
   "execution_count": 42,
   "metadata": {},
   "outputs": [
    {
     "name": "stdout",
     "output_type": "stream",
     "text": [
      "6\n",
      "5\n",
      "4\n",
      "3\n",
      "2\n"
     ]
    }
   ],
   "source": [
    "for i in range(6,1,-1):\n",
    "    print(i)"
   ]
  },
  {
   "cell_type": "markdown",
   "metadata": {},
   "source": [
    "### ※ 문제10. ★ 별을 5개 출력하시오"
   ]
  },
  {
   "cell_type": "code",
   "execution_count": 43,
   "metadata": {},
   "outputs": [
    {
     "name": "stdout",
     "output_type": "stream",
     "text": [
      "★★★★★\n"
     ]
    }
   ],
   "source": [
    "print('★'*5)"
   ]
  },
  {
   "cell_type": "markdown",
   "metadata": {},
   "source": [
    "### ※ 문제11.(파이썬 알고리즘 1번) 아래와 같이 결과가 출력되는 파이썬 코드를 작성하시오  \n",
    "숫자를 입력하세요 ~ 5  \n",
    "★  \n",
    "★★  \n",
    "★★★  \n",
    "★★★★  \n",
    "★★★★★"
   ]
  },
  {
   "cell_type": "code",
   "execution_count": 48,
   "metadata": {},
   "outputs": [
    {
     "name": "stdout",
     "output_type": "stream",
     "text": [
      "숫자를 입력하세요 ~ 10\n",
      "\n",
      "★\n",
      "★★\n",
      "★★★\n",
      "★★★★\n",
      "★★★★★\n",
      "★★★★★★\n",
      "★★★★★★★\n",
      "★★★★★★★★\n",
      "★★★★★★★★★\n",
      "★★★★★★★★★★\n"
     ]
    }
   ],
   "source": [
    "a=int(input('숫자를 입력하세요 ~ '))\n",
    "for i in range(a+1):\n",
    "    print('★'*i)"
   ]
  },
  {
   "cell_type": "markdown",
   "metadata": {},
   "source": [
    "### ※ 문제12.(파이썬 알고리즘 2번) 아래와 같이 결과가 출력되는 파이썬 코드를 작성하시오  \n",
    "가로의 숫자를 입력하세요 ~ 5  \n",
    "세로의 숫자를 입력하세요 ~ 6  \n",
    "★★★★★  \n",
    "★★★★★  \n",
    "★★★★★  \n",
    "★★★★★  \n",
    "★★★★★  \n",
    "★★★★★"
   ]
  },
  {
   "cell_type": "code",
   "execution_count": 52,
   "metadata": {},
   "outputs": [
    {
     "name": "stdout",
     "output_type": "stream",
     "text": [
      "가로의 숫자를 입력하세요 ~ 5\n",
      "세로의 숫자를 입력하세요 ~ 6\n",
      "★★★★★\n",
      "★★★★★\n",
      "★★★★★\n",
      "★★★★★\n",
      "★★★★★\n",
      "★★★★★\n"
     ]
    }
   ],
   "source": [
    "a=int(input('가로의 숫자를 입력하세요 ~ '))\n",
    "b=int(input('세로의 숫자를 입력하세요 ~ '))\n",
    "for i in range(b):\n",
    "    print('★'*a)"
   ]
  },
  {
   "cell_type": "markdown",
   "metadata": {},
   "source": [
    "### ※ 문제13. (파이썬 알고리즘 문제 3번)숫자를 물어보게 하고 숫자를 입력하면 ★가 아래와 같이 출력되게 하시오  \n",
    "숫자를 입력하세요 ~ 7  \n",
    "★★★★★★★  \n",
    "★★★★★★  \n",
    "★★★★★  \n",
    "★★★★  \n",
    "★★★  \n",
    "★★  \n",
    "★"
   ]
  },
  {
   "cell_type": "code",
   "execution_count": 57,
   "metadata": {},
   "outputs": [
    {
     "name": "stdout",
     "output_type": "stream",
     "text": [
      "숫자를 입력하세요 ~ 7\n",
      "★★★★★★★\n",
      "★★★★★★\n",
      "★★★★★\n",
      "★★★★\n",
      "★★★\n",
      "★★\n",
      "★\n"
     ]
    }
   ],
   "source": [
    "a=int(input('숫자를 입력하세요 ~ '))\n",
    "for i in range(a,0,-1):\n",
    "    print('★'*i)"
   ]
  },
  {
   "cell_type": "markdown",
   "metadata": {},
   "source": [
    "### ※ 문제14.(파이썬 알고리즘 문제 4번) 아래와 같이 숫자를 물어보게 하고 ★를 출력하게 하시오  \n",
    "숫자를 입력하세요 ~ 5  \n",
    "    ★  \n",
    "   ★★  \n",
    "  ★★★  \n",
    " ★★★★  \n",
    "★★★★★"
   ]
  },
  {
   "cell_type": "code",
   "execution_count": 62,
   "metadata": {},
   "outputs": [
    {
     "name": "stdout",
     "output_type": "stream",
     "text": [
      "숫자를 입력하세요 ~ 5\n",
      "     \n",
      "    ★\n",
      "   ★★\n",
      "  ★★★\n",
      " ★★★★\n",
      "★★★★★\n"
     ]
    }
   ],
   "source": [
    "a=int(input('숫자를 입력하세요 ~ '))\n",
    "for i in range(a+1):\n",
    "    print(' '*(a-i)+'★'*i)"
   ]
  },
  {
   "cell_type": "markdown",
   "metadata": {},
   "source": [
    "### ※ 문제15.(파이썬 알고리즘 문제 5번) 구구단 2단을 출력하시오  \n",
    "2 x 1 = 2  \n",
    "2 x 2 = 4  \n",
    "..."
   ]
  },
  {
   "cell_type": "code",
   "execution_count": 67,
   "metadata": {},
   "outputs": [
    {
     "name": "stdout",
     "output_type": "stream",
     "text": [
      "2 x 1 = 2\n",
      "2 x 2 = 4\n",
      "2 x 3 = 6\n",
      "2 x 4 = 8\n",
      "2 x 5 = 10\n",
      "2 x 6 = 12\n",
      "2 x 7 = 14\n",
      "2 x 8 = 16\n",
      "2 x 9 = 18\n",
      "----------------\n",
      "2 x 1 = 2\n",
      "2 x 2 = 4\n",
      "2 x 3 = 6\n",
      "2 x 4 = 8\n",
      "2 x 5 = 10\n",
      "2 x 6 = 12\n",
      "2 x 7 = 14\n",
      "2 x 8 = 16\n",
      "2 x 9 = 18\n"
     ]
    }
   ],
   "source": [
    "for i in range(1,10):\n",
    "    print(str(2)+' x '+str(i)+' = '+str(2*i))\n",
    "print('----------------')\n",
    "for i in range(1,10):\n",
    "    print(2,'x',i,'=',2*i)"
   ]
  },
  {
   "cell_type": "markdown",
   "metadata": {},
   "source": [
    "### ■ 중첩 for loop문  "
   ]
  },
  {
   "cell_type": "markdown",
   "metadata": {},
   "source": [
    "### ※ 문제16.(파이썬 알고리즘 문제 6번) 구구단 2단부터 9단까지 출력하시오  \n",
    "2 x 1 = 2  \n",
    "2 x 2 = 4  \n",
    "...  \n",
    "9 x 9 = 81  "
   ]
  },
  {
   "cell_type": "code",
   "execution_count": 71,
   "metadata": {
    "scrolled": false
   },
   "outputs": [
    {
     "name": "stdout",
     "output_type": "stream",
     "text": [
      "2 x 1 = 2\n",
      "2 x 2 = 4\n",
      "2 x 3 = 6\n",
      "2 x 4 = 8\n",
      "2 x 5 = 10\n",
      "2 x 6 = 12\n",
      "2 x 7 = 14\n",
      "2 x 8 = 16\n",
      "2 x 9 = 18\n",
      "3 x 1 = 3\n",
      "3 x 2 = 6\n",
      "3 x 3 = 9\n",
      "3 x 4 = 12\n",
      "3 x 5 = 15\n",
      "3 x 6 = 18\n",
      "3 x 7 = 21\n",
      "3 x 8 = 24\n",
      "3 x 9 = 27\n",
      "4 x 1 = 4\n",
      "4 x 2 = 8\n",
      "4 x 3 = 12\n",
      "4 x 4 = 16\n",
      "4 x 5 = 20\n",
      "4 x 6 = 24\n",
      "4 x 7 = 28\n",
      "4 x 8 = 32\n",
      "4 x 9 = 36\n",
      "5 x 1 = 5\n",
      "5 x 2 = 10\n",
      "5 x 3 = 15\n",
      "5 x 4 = 20\n",
      "5 x 5 = 25\n",
      "5 x 6 = 30\n",
      "5 x 7 = 35\n",
      "5 x 8 = 40\n",
      "5 x 9 = 45\n",
      "6 x 1 = 6\n",
      "6 x 2 = 12\n",
      "6 x 3 = 18\n",
      "6 x 4 = 24\n",
      "6 x 5 = 30\n",
      "6 x 6 = 36\n",
      "6 x 7 = 42\n",
      "6 x 8 = 48\n",
      "6 x 9 = 54\n",
      "7 x 1 = 7\n",
      "7 x 2 = 14\n",
      "7 x 3 = 21\n",
      "7 x 4 = 28\n",
      "7 x 5 = 35\n",
      "7 x 6 = 42\n",
      "7 x 7 = 49\n",
      "7 x 8 = 56\n",
      "7 x 9 = 63\n",
      "8 x 1 = 8\n",
      "8 x 2 = 16\n",
      "8 x 3 = 24\n",
      "8 x 4 = 32\n",
      "8 x 5 = 40\n",
      "8 x 6 = 48\n",
      "8 x 7 = 56\n",
      "8 x 8 = 64\n",
      "8 x 9 = 72\n",
      "9 x 1 = 9\n",
      "9 x 2 = 18\n",
      "9 x 3 = 27\n",
      "9 x 4 = 36\n",
      "9 x 5 = 45\n",
      "9 x 6 = 54\n",
      "9 x 7 = 63\n",
      "9 x 8 = 72\n",
      "9 x 9 = 81\n",
      "---------\n",
      "2 x 1 = 2\n",
      "2 x 2 = 4\n",
      "2 x 3 = 6\n",
      "2 x 4 = 8\n",
      "2 x 5 = 10\n",
      "2 x 6 = 12\n",
      "2 x 7 = 14\n",
      "2 x 8 = 16\n",
      "2 x 9 = 18\n",
      "3 x 1 = 3\n",
      "3 x 2 = 6\n",
      "3 x 3 = 9\n",
      "3 x 4 = 12\n",
      "3 x 5 = 15\n",
      "3 x 6 = 18\n",
      "3 x 7 = 21\n",
      "3 x 8 = 24\n",
      "3 x 9 = 27\n",
      "4 x 1 = 4\n",
      "4 x 2 = 8\n",
      "4 x 3 = 12\n",
      "4 x 4 = 16\n",
      "4 x 5 = 20\n",
      "4 x 6 = 24\n",
      "4 x 7 = 28\n",
      "4 x 8 = 32\n",
      "4 x 9 = 36\n",
      "5 x 1 = 5\n",
      "5 x 2 = 10\n",
      "5 x 3 = 15\n",
      "5 x 4 = 20\n",
      "5 x 5 = 25\n",
      "5 x 6 = 30\n",
      "5 x 7 = 35\n",
      "5 x 8 = 40\n",
      "5 x 9 = 45\n",
      "6 x 1 = 6\n",
      "6 x 2 = 12\n",
      "6 x 3 = 18\n",
      "6 x 4 = 24\n",
      "6 x 5 = 30\n",
      "6 x 6 = 36\n",
      "6 x 7 = 42\n",
      "6 x 8 = 48\n",
      "6 x 9 = 54\n",
      "7 x 1 = 7\n",
      "7 x 2 = 14\n",
      "7 x 3 = 21\n",
      "7 x 4 = 28\n",
      "7 x 5 = 35\n",
      "7 x 6 = 42\n",
      "7 x 7 = 49\n",
      "7 x 8 = 56\n",
      "7 x 9 = 63\n",
      "8 x 1 = 8\n",
      "8 x 2 = 16\n",
      "8 x 3 = 24\n",
      "8 x 4 = 32\n",
      "8 x 5 = 40\n",
      "8 x 6 = 48\n",
      "8 x 7 = 56\n",
      "8 x 8 = 64\n",
      "8 x 9 = 72\n",
      "9 x 1 = 9\n",
      "9 x 2 = 18\n",
      "9 x 3 = 27\n",
      "9 x 4 = 36\n",
      "9 x 5 = 45\n",
      "9 x 6 = 54\n",
      "9 x 7 = 63\n",
      "9 x 8 = 72\n",
      "9 x 9 = 81\n"
     ]
    }
   ],
   "source": [
    "for i in range(2,10):\n",
    "    for j in range(1,10):\n",
    "        print(i,'x',j,'=',i*j)\n",
    "print('----------------------------')\n",
    "print('\\n'.join([f'{i} x {j} = {i*j}' for i in range(2,10) for j in range(1,10)]))"
   ]
  },
  {
   "cell_type": "markdown",
   "metadata": {},
   "source": [
    "### ■ 예제12. for문 개념 배우기 Ⅱ (for ~ continue ~ break)  \n",
    "#### for 반복문 내에서 continue를 만나면 그 다음 반복 실행으로 넘어가며  break를 만나면 for 반복문을 완전히 벗어난다.  "
   ]
  },
  {
   "cell_type": "markdown",
   "metadata": {},
   "source": [
    "### 예제1:  \n",
    "```python\n",
    "for 변수 in 범위:\n",
    "    ....\n",
    "    continue      # 다음 반복문 수행\n",
    "    ....\n",
    "    break         # for 반복문을 탈출\n",
    "```"
   ]
  },
  {
   "cell_type": "markdown",
   "metadata": {},
   "source": [
    "### 문제17. 숫자 1번부터 10번까지 출력하는데 중간에 숫자 5는 출력되지 않게 하시오"
   ]
  },
  {
   "cell_type": "code",
   "execution_count": 73,
   "metadata": {},
   "outputs": [
    {
     "name": "stdout",
     "output_type": "stream",
     "text": [
      "1\n",
      "2\n",
      "3\n",
      "4\n",
      "6\n",
      "7\n",
      "8\n",
      "9\n",
      "10\n"
     ]
    }
   ],
   "source": [
    "for i in range(1,11):\n",
    "    if i==5:\n",
    "        continue\n",
    "    print(i)"
   ]
  },
  {
   "cell_type": "markdown",
   "metadata": {},
   "source": [
    "### ※ 문제18. 숫자 0부터 9까지 출력하는데 홀수는 출력하지 마시오"
   ]
  },
  {
   "cell_type": "code",
   "execution_count": 74,
   "metadata": {},
   "outputs": [
    {
     "name": "stdout",
     "output_type": "stream",
     "text": [
      "0\n",
      "2\n",
      "4\n",
      "6\n",
      "8\n"
     ]
    }
   ],
   "source": [
    "for i in range(10):\n",
    "    if i%2==1: continue\n",
    "    print(i)"
   ]
  },
  {
   "cell_type": "code",
   "execution_count": 77,
   "metadata": {},
   "outputs": [
    {
     "name": "stdout",
     "output_type": "stream",
     "text": [
      "0\n",
      "2\n",
      "4\n",
      "6\n",
      "8\n"
     ]
    }
   ],
   "source": [
    "print('\\n'.join([f'{i}' for i in range(10) if i%2==0]))"
   ]
  },
  {
   "cell_type": "markdown",
   "metadata": {},
   "source": [
    "### ■ for 문에서 사용하는 break 문  \n",
    "#### loop문을 중단시키는 역할하는 키워드"
   ]
  },
  {
   "cell_type": "code",
   "execution_count": 79,
   "metadata": {},
   "outputs": [
    {
     "name": "stdout",
     "output_type": "stream",
     "text": [
      "1\n",
      "2\n",
      "3\n"
     ]
    }
   ],
   "source": [
    "# 예제\n",
    "scope=[1,2,3,4,5,6]\n",
    "for i in scope:\n",
    "    print(i)\n",
    "    if i==3:\n",
    "        break"
   ]
  },
  {
   "cell_type": "code",
   "execution_count": 82,
   "metadata": {},
   "outputs": [
    {
     "name": "stdout",
     "output_type": "stream",
     "text": [
      "1\n",
      "2\n",
      "4\n"
     ]
    }
   ],
   "source": [
    "# 예제\n",
    "scope=[1,2,3,4,5,6]\n",
    "for i in scope:\n",
    "    if i==3:\n",
    "        continue\n",
    "    elif i==5:\n",
    "        break\n",
    "    print(i)"
   ]
  },
  {
   "cell_type": "markdown",
   "metadata": {},
   "source": [
    "### ※ 문제19. 숫자를 1번부터 100번까지 출력하는 for loop문을 작성하는데  \n",
    "### 숫자를 물어보게 하고 입력된 숫자까지 1번부터 출력되게 하시오  \n",
    "숫자를 입력하세요 ~ 7  \n",
    "1  \n",
    "2  \n",
    "3  \n",
    "4  \n",
    "5  \n",
    "6"
   ]
  },
  {
   "cell_type": "code",
   "execution_count": 85,
   "metadata": {},
   "outputs": [
    {
     "name": "stdout",
     "output_type": "stream",
     "text": [
      "숫자를 입력하세요 ~ 7\n",
      "1\n",
      "2\n",
      "3\n",
      "4\n",
      "5\n",
      "6\n"
     ]
    }
   ],
   "source": [
    "a=int(input('숫자를 입력하세요 ~ '))\n",
    "for i in range(1,a):\n",
    "    if i==7:\n",
    "        break\n",
    "    print(i)"
   ]
  },
  {
   "cell_type": "markdown",
   "metadata": {},
   "source": [
    "### ※ 문제20.(파이썬 알고리즘 문제 7번) 아래와 같이 2개의 숫자를 물어보게 하고  \n",
    "### 두 개의 숫자의 최대공약수를 출력하시오  \n",
    "힌트 : 16%i==0 and 24%i==0  "
   ]
  },
  {
   "cell_type": "code",
   "execution_count": 92,
   "metadata": {},
   "outputs": [
    {
     "name": "stdout",
     "output_type": "stream",
     "text": [
      "첫번째 숫자를 입력하세요 ~ 24\n",
      "두번째 숫자를 입력하세요 ~ 16\n",
      "최대공약수는 8 입니다\n"
     ]
    }
   ],
   "source": [
    "a=int(input('첫번째 숫자를 입력하세요 ~ '))\n",
    "b=int(input('두번째 숫자를 입력하세요 ~ '))\n",
    "for i in range(max(a,b),1,-1):\n",
    "    if a%i==0 and b%i==0:\n",
    "        print('최대공약수는',i,'입니다')\n",
    "        break\n",
    "    else:\n",
    "        continue"
   ]
  },
  {
   "cell_type": "markdown",
   "metadata": {},
   "source": [
    "### ※ 문제21.(생각해야할 문제)(파이썬 알고리즘 문제 8번)  \n",
    "두 숫자를 물어보게 하고 최소 공배수를 출력  \n",
    "첫번째 숫자를 입력하세요 ~ 16  \n",
    "두번째 숫자를 입력하세요 ~ 24  \n",
    "최소공배수는 48입니다."
   ]
  },
  {
   "cell_type": "code",
   "execution_count": 96,
   "metadata": {},
   "outputs": [
    {
     "name": "stdout",
     "output_type": "stream",
     "text": [
      "첫번째 숫자를 입력하세요 ~ 16\n",
      "두번째 숫자를 입력하세요 ~ 24\n",
      "최소공배수는 48 입니다\n"
     ]
    }
   ],
   "source": [
    "a=int(input('첫번째 숫자를 입력하세요 ~ '))\n",
    "b=int(input('두번째 숫자를 입력하세요 ~ '))\n",
    "for i in range(max(a,b),1,-1):\n",
    "    if a%i==0 and b%i==0:\n",
    "        print('최소공배수는',int(a*b/i),'입니다')\n",
    "        break\n",
    "    else:\n",
    "        continue"
   ]
  }
 ],
 "metadata": {
  "kernelspec": {
   "display_name": "Python 3",
   "language": "python",
   "name": "python3"
  },
  "language_info": {
   "codemirror_mode": {
    "name": "ipython",
    "version": 3
   },
   "file_extension": ".py",
   "mimetype": "text/x-python",
   "name": "python",
   "nbconvert_exporter": "python",
   "pygments_lexer": "ipython3",
   "version": "3.7.6"
  }
 },
 "nbformat": 4,
 "nbformat_minor": 4
}
