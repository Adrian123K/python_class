{
 "cells": [
  {
   "cell_type": "markdown",
   "metadata": {},
   "source": [
    "### ※ 문제340. 오라클의 power함수를 파이썬으로 구현하시오 (재귀 이용하지 말고 수행)"
   ]
  },
  {
   "cell_type": "code",
   "execution_count": 10,
   "metadata": {
    "ExecuteTime": {
     "end_time": "2020-06-09T06:59:01.517364Z",
     "start_time": "2020-06-09T06:59:01.510531Z"
    }
   },
   "outputs": [
    {
     "data": {
      "text/plain": [
       "8"
      ]
     },
     "execution_count": 10,
     "metadata": {},
     "output_type": "execute_result"
    }
   ],
   "source": [
    "def power(n1, n2):\n",
    "    a = n1\n",
    "    for _ in range(n2-1):\n",
    "        a *= n1\n",
    "    return a\n",
    "\n",
    "\n",
    "power(2, 3)"
   ]
  },
  {
   "cell_type": "markdown",
   "metadata": {},
   "source": [
    "### ※ 문제341. 위의 power함수를 루프문 이용하지 말고 재귀함수로 구현하시오"
   ]
  },
  {
   "cell_type": "code",
   "execution_count": 18,
   "metadata": {
    "ExecuteTime": {
     "end_time": "2020-06-09T07:04:22.385459Z",
     "start_time": "2020-06-09T07:04:22.378627Z"
    }
   },
   "outputs": [
    {
     "data": {
      "text/plain": [
       "1024"
      ]
     },
     "execution_count": 18,
     "metadata": {},
     "output_type": "execute_result"
    }
   ],
   "source": [
    "def power(n1, n2):\n",
    "    if n2 < 1:\n",
    "        return 1\n",
    "    else:        \n",
    "        return n1 * power(n1, n2-1)\n",
    "power(2,10)"
   ]
  },
  {
   "cell_type": "markdown",
   "metadata": {},
   "source": [
    "### ※ 문제342. 재귀함수를 이용하지 않은 상태에서 최대공약수를 구하는 함수를 생성하시오"
   ]
  },
  {
   "cell_type": "code",
   "execution_count": 32,
   "metadata": {
    "ExecuteTime": {
     "end_time": "2020-06-09T07:51:49.760861Z",
     "start_time": "2020-06-09T07:51:49.754865Z"
    }
   },
   "outputs": [
    {
     "data": {
      "text/plain": [
       "12"
      ]
     },
     "execution_count": 32,
     "metadata": {},
     "output_type": "execute_result"
    }
   ],
   "source": [
    "def gcd(n1, n2):\n",
    "    for i in range(min(n1, n2), 0, -1):\n",
    "        if n1 % i == 0 and n2 % i == 0:\n",
    "            return i\n",
    "\n",
    "gcd(48, 60)"
   ]
  },
  {
   "cell_type": "code",
   "execution_count": 37,
   "metadata": {
    "ExecuteTime": {
     "end_time": "2020-06-09T07:55:24.598937Z",
     "start_time": "2020-06-09T07:55:24.592941Z"
    }
   },
   "outputs": [
    {
     "data": {
      "text/plain": [
       "8"
      ]
     },
     "execution_count": 37,
     "metadata": {},
     "output_type": "execute_result"
    }
   ],
   "source": [
    "def gcd(n1, n2):\n",
    "    while n2:\n",
    "        n1, n2 = n2, n1 % n2\n",
    "    return n1\n",
    "\n",
    "gcd(16, 24)"
   ]
  },
  {
   "cell_type": "markdown",
   "metadata": {},
   "source": [
    "### ※ 문제343. (오늘의 마지막 문제) 최대공약수를 재귀함수로 구현하시오"
   ]
  },
  {
   "cell_type": "code",
   "execution_count": 45,
   "metadata": {
    "ExecuteTime": {
     "end_time": "2020-06-09T09:18:41.074851Z",
     "start_time": "2020-06-09T09:18:41.068852Z"
    }
   },
   "outputs": [
    {
     "data": {
      "text/plain": [
       "1"
      ]
     },
     "execution_count": 45,
     "metadata": {},
     "output_type": "execute_result"
    }
   ],
   "source": [
    "def gcd(n1, n2):\n",
    "    if n2 == 0:\n",
    "        return n1\n",
    "    else:\n",
    "        return gcd(n2, n1%n2)\n",
    "\n",
    "gcd(2, 3)"
   ]
  },
  {
   "cell_type": "code",
   "execution_count": null,
   "metadata": {},
   "outputs": [],
   "source": []
  },
  {
   "cell_type": "markdown",
   "metadata": {},
   "source": [
    "### ※ (점심시간 문제) factorial을 재귀함수로 구현하시오"
   ]
  },
  {
   "cell_type": "code",
   "execution_count": 4,
   "metadata": {
    "ExecuteTime": {
     "end_time": "2020-06-09T00:23:16.353597Z",
     "start_time": "2020-06-09T00:23:16.348600Z"
    }
   },
   "outputs": [
    {
     "data": {
      "text/plain": [
       "720"
      ]
     },
     "execution_count": 4,
     "metadata": {},
     "output_type": "execute_result"
    }
   ],
   "source": [
    "def factorial(n):\n",
    "    if n <= 0:\n",
    "        return 1\n",
    "    return n*factorial(n-1)\n",
    "factorial(6)"
   ]
  },
  {
   "cell_type": "markdown",
   "metadata": {},
   "source": [
    "### 인스타 이미지 크롤링"
   ]
  },
  {
   "cell_type": "code",
   "execution_count": null,
   "metadata": {},
   "outputs": [],
   "source": [
    "# -*- coding: utf-8 -*-\n",
    "\"\"\"\n",
    "Created on Mon Dec 16 16:59:33 2019\n",
    "@author: wdp\n",
    "\"\"\"\n",
    "######################################################\n",
    "\n",
    "import urllib.request  # 웹 url을 파이썬이 인식 할 수 있게 하는패키지\n",
    "from bs4 import BeautifulSoup  # html에서 데이터 검색을 용이하게 하는 패키지\n",
    "from selenium import webdriver  # 웹 애플리케이션의 테스트를 자동화하기 위한 프레임 워크\n",
    "# 손으로 클릭하는것을 컴퓨터가 대신하면서 스크롤링 패키지\n",
    "from selenium.webdriver.common.keys import Keys\n",
    "import time                     # 중간중간 sleep 을 걸어야 해서 time 모듈 import\n",
    "\n",
    "########################### url 받아오기 ###########################\n",
    "# 웹브라우져로 크롬을 사용할거라서 크롬 드라이버를 다운받아 위의 위치에 둔다\n",
    "# 팬텀 js로 하면 백그라운드로 실행할 수 있음\n",
    "search = input(\"검색어를 입력하세요 : \")\n",
    "search = urllib.parse.quote(search)\n",
    "binary = 'c:/database/chromedriver/chromedriver.exe'\n",
    "\n",
    "# 브라우져를 인스턴스화\n",
    "browser = webdriver.Chrome(binary)\n",
    "\n",
    "# 구글의 이미지 검색 url 받아옴(아무것도 안 쳤을때의 url)\n",
    "browser.get('https://www.instagram.com/explore/tags/'+str(search)+'/')\n",
    "\n",
    "# 구글의 이미지 검색에 해당하는 input 창의 id 가 '  ?  ' 임(검색창에 해당하는 html코드를 찾아서 elem 사용하도록 설정)\n",
    "# input창 찾는 방법은 원노트에 있음\n",
    "\n",
    "########################### 검색&url저장 ###########################\n",
    "# 스크롤을 내리려면 브라우져 이미지 검색결과 부분(바디부분)에 마우스 클릭 한번 하고 End키를 눌러야함\n",
    "print(\"#크롤링 속도는 컴퓨터 사양에 따라 1.0 ~ 2.5 값으로 설정해주세요.\")\n",
    "scrolltime = float(input(\"크롤링 속도를 입력하세요 : \"))\n",
    "params = []\n",
    "\n",
    "\n",
    "def fetch_list_url():\n",
    "    # 인스타그램 이미지 url 이 있는 img 태그의 _img 클래스에 가서\n",
    "    imgList = soup.find_all(\"img\", class_=\"FFVAD\")\n",
    "    for im in imgList:\n",
    "        try:\n",
    "            params.append(im[\"src\"])  # params 리스트에 image url 을 담음\n",
    "        except KeyError:\n",
    "            params.append(im[\"srcset\"])\n",
    "    return params\n",
    "\n",
    "\n",
    "while True:\n",
    "    html = browser.page_source         # 크롬브라우져에서 현재 불러온 소스 가져옴\n",
    "    soup = BeautifulSoup(html, \"lxml\")\n",
    "    params = fetch_list_url()\n",
    "    last_height = browser.execute_script(\"return document.body.scrollHeight\")\n",
    "    browser.execute_script(\"window.scrollTo(0, document.body.scrollHeight);\")\n",
    "    time.sleep(scrolltime)\n",
    "    new_height = browser.execute_script(\"return document.body.scrollHeight\")\n",
    "    if new_height == last_height:\n",
    "        browser.execute_script(\n",
    "            \"window.scrollTo(0, document.body.scrollHeight);\")\n",
    "        time.sleep(scrolltime)\n",
    "        new_height = browser.execute_script(\n",
    "            \"return document.body.scrollHeight\")\n",
    "    if new_height == last_height:\n",
    "        break\n",
    "    else:\n",
    "        last_height = new_height\n",
    "    continue\n",
    "\n",
    "########################### 그림파일 저장 ###########################\n",
    "\n",
    "\n",
    "def fetch_detail_url():\n",
    "    for idx, p in enumerate(params, 1):\n",
    "        # 다운받을 폴더경로 입력\n",
    "        urllib.request.urlretrieve(\n",
    "            p, \"c://database//insta//\" + str(idx) + \".jpg\")\n",
    "\n",
    "\n",
    "# enumerate 는 리스트의 모든 요소를 인덱스와 쌍으로 추출\n",
    "# 하는 함수 . 숫자 1은 인덱스를 1부터 시작해라 ~\n",
    "fetch_detail_url()\n",
    "# 끝나면 브라우져 닫기\n",
    "\n",
    "browser.quit()\n",
    "\n",
    "# ------------------------------------------------------------------------\n",
    "\n",
    "######################################################\n",
    "\n",
    "# 손으로 클릭하는것을 컴퓨터가 대신하면서 스크롤링 패키지\n",
    "\n",
    "########################### url 받아오기 ###########################\n",
    "\n",
    "# 웹브라우져로 크롬을 사용할거라서 크롬 드라이버를 다운받아 위의 위치에 둔다\n",
    "# 팬텀 js로 하면 백그라운드로 실행할 수 있음\n",
    "search = input(\"검색어를 입력하세요 : \")\n",
    "search = urllib.parse.quote(search)\n",
    "binary = 'c:/database/chromedriver/chromedriver.exe'\n",
    "\n",
    "# 브라우져를 인스턴스화\n",
    "browser = webdriver.Chrome(binary)\n",
    "\n",
    "# 구글의 이미지 검색 url 받아옴(아무것도 안 쳤을때의 url)\n",
    "browser.get('https://www.instagram.com/explore/tags/'+str(search)+'/')\n",
    "\n",
    "# 구글의 이미지 검색에 해당하는 input 창의 id 가 '  ?  ' 임(검색창에 해당하는 html코드를 찾아서 elem 사용하도록 설정)\n",
    "# input창 찾는 방법은 원노트에 있음\n",
    "\n",
    "########################### 검색&url저장 ###########################\n",
    "# 스크롤을 내리려면 브라우져 이미지 검색결과 부분(바디부분)에 마우스 클릭 한번 하고 End키를 눌러야함\n",
    "print(\"#크롤링 속도는 컴퓨터 사양에 따라 1.0 ~ 2.5 값으로 설정해주세요.\")\n",
    "scrolltime = float(input(\"크롤링 속도를 입력하세요 : \"))\n",
    "params = []\n",
    "\n",
    "\n",
    "def fetch_list_url():\n",
    "    # 인스타그램 이미지 url 이 있는 img 태그의 _img 클래스에 가서\n",
    "    imgList = soup.find_all(\"img\", class_=\"FFVAD\")\n",
    "    for im in imgList:\n",
    "        params.append(im[\"src\"])  # params 리스트에 image url 을 담음\n",
    "    return params\n",
    "\n",
    "\n",
    "while True:\n",
    "    html = browser.page_source         # 크롬브라우져에서 현재 불러온 소스 가져옴\n",
    "    soup = BeautifulSoup(html, \"lxml\")\n",
    "    params = fetch_list_url()\n",
    "    last_height = browser.execute_script(\"return document.body.scrollHeight\")\n",
    "    browser.execute_script(\"window.scrollTo(0, document.body.scrollHeight);\")\n",
    "    time.sleep(scrolltime)\n",
    "    new_height = browser.execute_script(\"return document.body.scrollHeight\")\n",
    "    \n",
    "    if new_height == last_height:\n",
    "        browser.execute_script(\n",
    "            \"window.scrollTo(0, document.body.scrollHeight);\")\n",
    "        time.sleep(scrolltime)\n",
    "\n",
    "        new_height = browser.execute_script(\n",
    "            \"return document.body.scrollHeight\")\n",
    "\n",
    "    if new_height == last_height:\n",
    "        break\n",
    "    else:\n",
    "        last_height = new_height\n",
    "    continue\n",
    "print(params)\n",
    "\n",
    "########################### 그림파일 저장 ###########################\n",
    "\n",
    "def fetch_detail_url():\n",
    "    params1 = list(set(params))\n",
    "    for idx, p in enumerate(params1, 1):\n",
    "        # 다운받을 폴더경로 입력\n",
    "        urllib.request.urlretrieve(\n",
    "            p, \"c://database//insta//\" + str(idx) + \".jpg\")\n",
    "\n",
    "# enumerate 는 리스트의 모든 요소를 인덱스와 쌍으로 추출\n",
    "# 하는 함수 . 숫자 1은 인덱스를 1부터 시작해라 ~\n",
    "fetch_detail_url()\n",
    "\n",
    "# 끝나면 브라우져 닫기\n",
    "browser.quit()"
   ]
  },
  {
   "cell_type": "code",
   "execution_count": null,
   "metadata": {},
   "outputs": [],
   "source": []
  }
 ],
 "metadata": {
  "kernelspec": {
   "display_name": "Python 3",
   "language": "python",
   "name": "python3"
  },
  "language_info": {
   "codemirror_mode": {
    "name": "ipython",
    "version": 3
   },
   "file_extension": ".py",
   "mimetype": "text/x-python",
   "name": "python",
   "nbconvert_exporter": "python",
   "pygments_lexer": "ipython3",
   "version": "3.7.6"
  },
  "toc": {
   "base_numbering": 1,
   "nav_menu": {},
   "number_sections": true,
   "sideBar": true,
   "skip_h1_title": false,
   "title_cell": "Table of Contents",
   "title_sidebar": "Contents",
   "toc_cell": false,
   "toc_position": {},
   "toc_section_display": true,
   "toc_window_display": false
  },
  "varInspector": {
   "cols": {
    "lenName": 16,
    "lenType": 16,
    "lenVar": 40
   },
   "kernels_config": {
    "python": {
     "delete_cmd_postfix": "",
     "delete_cmd_prefix": "del ",
     "library": "var_list.py",
     "varRefreshCmd": "print(var_dic_list())"
    },
    "r": {
     "delete_cmd_postfix": ") ",
     "delete_cmd_prefix": "rm(",
     "library": "var_list.r",
     "varRefreshCmd": "cat(var_dic_list()) "
    }
   },
   "types_to_exclude": [
    "module",
    "function",
    "builtin_function_or_method",
    "instance",
    "_Feature"
   ],
   "window_display": false
  }
 },
 "nbformat": 4,
 "nbformat_minor": 4
}
