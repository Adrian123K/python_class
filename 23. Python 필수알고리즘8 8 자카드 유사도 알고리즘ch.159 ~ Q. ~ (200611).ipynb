{
 "cells": [
  {
   "cell_type": "markdown",
   "metadata": {},
   "source": [
    "### ■ 예제159. 자카드 유사도 알고리즘\n",
    "#### 두 문장을 각각의 집합으로 만든 뒤 두 집합을 통해 유사도를 측정하는 알고리즘"
   ]
  },
  {
   "cell_type": "code",
   "execution_count": null,
   "metadata": {},
   "outputs": [],
   "source": [
    "# 예제1\n",
    "A={2,3}\n",
    "B={1,2,3,4}\n",
    "ACB={2,3}\n",
    "AUB={1,2,3,4}"
   ]
  },
  {
   "cell_type": "code",
   "execution_count": null,
   "metadata": {},
   "outputs": [],
   "source": [
    "# 예제2\n",
    "A={'FR','RA','AN','NC','CE'}\n",
    "B={'FR','RE','EN','NC','CH'}"
   ]
  },
  {
   "cell_type": "code",
   "execution_count": null,
   "metadata": {},
   "outputs": [],
   "source": [
    "# 예제3\n",
    "E=M*C^2\n",
    "e=m*c^2"
   ]
  },
  {
   "cell_type": "markdown",
   "metadata": {},
   "source": [
    "### ■ 파이썬으로 합집합과 교집합 구현하기"
   ]
  },
  {
   "cell_type": "code",
   "execution_count": 80,
   "metadata": {
    "ExecuteTime": {
     "end_time": "2020-06-11T08:25:43.777127Z",
     "start_time": "2020-06-11T08:25:43.770131Z"
    }
   },
   "outputs": [
    {
     "data": {
      "text/plain": [
       "([1, 2, 3, 4, 5], [2, 4])"
      ]
     },
     "execution_count": 80,
     "metadata": {},
     "output_type": "execute_result"
    }
   ],
   "source": [
    "a={1,2,2,3,4}\n",
    "b={2,2,2,4,5}\n",
    "rs1=a.union(b)\n",
    "rs2=a.intersection(b)\n",
    "rs1=list(rs1); rs2=list(rs2)\n",
    "rs1, rs2"
   ]
  },
  {
   "cell_type": "markdown",
   "metadata": {},
   "source": [
    "### ■ 리스트로 합집합과 교집합 구현하기"
   ]
  },
  {
   "cell_type": "code",
   "execution_count": 23,
   "metadata": {
    "ExecuteTime": {
     "end_time": "2020-06-11T07:30:56.433622Z",
     "start_time": "2020-06-11T07:30:56.427625Z"
    }
   },
   "outputs": [
    {
     "name": "stdout",
     "output_type": "stream",
     "text": [
      "[1, 2, 3, 4, 5] [2, 4]\n"
     ]
    }
   ],
   "source": [
    "a=[1,2,3,4]\n",
    "b=[2,4,5]\n",
    "rs1=list(set(a+b)) # 합집합\n",
    "rs2=[]\n",
    "for i in a:\n",
    "    if i in b:\n",
    "        rs2.append(i)\n",
    "print(rs1, rs2)"
   ]
  },
  {
   "cell_type": "code",
   "execution_count": null,
   "metadata": {},
   "outputs": [],
   "source": [
    "# 예제3 문자열을 2철자씩 나눠서 리스트에 넣는 코드\n",
    "def str_split(string):\n",
    "    res=[]\n",
    "    for i in range(len(string)-1):\n",
    "        if "
   ]
  },
  {
   "cell_type": "markdown",
   "metadata": {},
   "source": [
    "### ※ 문제351. (오늘의 마지막 문제) 아래의 두 문자열을 각각 받아서 자카드 유사도가 아래처럼 출력되게 하시오"
   ]
  },
  {
   "cell_type": "code",
   "execution_count": 78,
   "metadata": {
    "ExecuteTime": {
     "end_time": "2020-06-11T08:10:50.657063Z",
     "start_time": "2020-06-11T08:10:50.645070Z"
    }
   },
   "outputs": [
    {
     "name": "stdout",
     "output_type": "stream",
     "text": [
      "16384\n",
      "65536\n",
      "43690\n",
      "65536\n"
     ]
    }
   ],
   "source": [
    "def jacade(a,b):\n",
    "    str1=a.lower()\n",
    "    str2=b.lower()\n",
    "    ls1=[]\n",
    "    ls2=[]\n",
    "    for i in range(len(str1)-1):\n",
    "        if str1[i].isalpha() and str1[i+1].isalpha():\n",
    "            ls1.append(str1[i:i+2])\n",
    "    for i in range(len(str2)-1):\n",
    "        if str2[i].isalpha() and str2[i+1].isalpha():\n",
    "            ls2.append(str2[i:i+2])\n",
    "            \n",
    "    union=[]\n",
    "    inter=[]\n",
    "    rs=set(ls1+ls2)\n",
    "    \n",
    "    for i in rs:\n",
    "        for _ in range(min(ls1.count(i),ls2.count(i))):\n",
    "            inter.append(i)\n",
    "        for _ in range(max(ls1.count(i),ls2.count(i))):\n",
    "            union.append(i)\n",
    "    \n",
    "    if len(ls1) == 0 and len(ls2) == 0:\n",
    "        return 65536\n",
    "    else:\n",
    "        return int(len(inter)/len(union)*65536)\n",
    "\n",
    "print(jacade('FRANCE','french'))\n",
    "print(jacade('handshake','shake hands'))\n",
    "print(jacade('aa1+aa2','AAAA12'))\n",
    "print(jacade('E=M*C^2','e=m*c^2'))\n",
    "            \n",
    "    "
   ]
  },
  {
   "cell_type": "code",
   "execution_count": null,
   "metadata": {},
   "outputs": [],
   "source": []
  },
  {
   "cell_type": "code",
   "execution_count": null,
   "metadata": {},
   "outputs": [],
   "source": []
  },
  {
   "cell_type": "markdown",
   "metadata": {},
   "source": [
    "### ※ (점심시간 문제) 사원 테이블의 월급의 분산값을 출력하세요"
   ]
  },
  {
   "cell_type": "code",
   "execution_count": 11,
   "metadata": {
    "ExecuteTime": {
     "end_time": "2020-06-11T00:57:59.046918Z",
     "start_time": "2020-06-11T00:57:58.933942Z"
    }
   },
   "outputs": [
    {
     "data": {
      "text/plain": [
       "1298434.31122449"
      ]
     },
     "execution_count": 11,
     "metadata": {},
     "output_type": "execute_result"
    }
   ],
   "source": [
    "import cx_Oracle\n",
    "import pandas as pd\n",
    "dsn = cx_Oracle.makedsn('localhost', 1521, 'orcl')\n",
    "db = cx_Oracle.connect('scott', 'tiger', dsn)\n",
    "cursor = db.cursor()\n",
    "cursor.execute(f'select * from emp')\n",
    "row = cursor.fetchall()\n",
    "colname = cursor.description\n",
    "cursor.close()\n",
    "col = []\n",
    "for i in colname:\n",
    "    col.append(i[0])\n",
    "data = pd.DataFrame(row)\n",
    "emp = pd.DataFrame(row, columns=col)\n",
    "mean= sum(emp['SAL'])/len(emp['SAL'])\n",
    "sd=[]\n",
    "for i in emp['SAL']:\n",
    "    sd.append((i - mean)**2)\n",
    "sum(sd)/len(sd)"
   ]
  },
  {
   "cell_type": "code",
   "execution_count": null,
   "metadata": {},
   "outputs": [],
   "source": []
  },
  {
   "cell_type": "code",
   "execution_count": null,
   "metadata": {},
   "outputs": [],
   "source": []
  }
 ],
 "metadata": {
  "kernelspec": {
   "display_name": "Python 3",
   "language": "python",
   "name": "python3"
  },
  "language_info": {
   "codemirror_mode": {
    "name": "ipython",
    "version": 3
   },
   "file_extension": ".py",
   "mimetype": "text/x-python",
   "name": "python",
   "nbconvert_exporter": "python",
   "pygments_lexer": "ipython3",
   "version": "3.7.6"
  },
  "toc": {
   "base_numbering": 1,
   "nav_menu": {},
   "number_sections": true,
   "sideBar": true,
   "skip_h1_title": false,
   "title_cell": "Table of Contents",
   "title_sidebar": "Contents",
   "toc_cell": false,
   "toc_position": {},
   "toc_section_display": true,
   "toc_window_display": false
  },
  "varInspector": {
   "cols": {
    "lenName": 16,
    "lenType": 16,
    "lenVar": 40
   },
   "kernels_config": {
    "python": {
     "delete_cmd_postfix": "",
     "delete_cmd_prefix": "del ",
     "library": "var_list.py",
     "varRefreshCmd": "print(var_dic_list())"
    },
    "r": {
     "delete_cmd_postfix": ") ",
     "delete_cmd_prefix": "rm(",
     "library": "var_list.r",
     "varRefreshCmd": "cat(var_dic_list()) "
    }
   },
   "types_to_exclude": [
    "module",
    "function",
    "builtin_function_or_method",
    "instance",
    "_Feature"
   ],
   "window_display": false
  }
 },
 "nbformat": 4,
 "nbformat_minor": 4
}
