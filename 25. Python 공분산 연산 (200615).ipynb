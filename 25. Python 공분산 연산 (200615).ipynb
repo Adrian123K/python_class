{
 "cells": [
  {
   "cell_type": "code",
   "execution_count": null,
   "metadata": {},
   "outputs": [],
   "source": []
  },
  {
   "cell_type": "code",
   "execution_count": null,
   "metadata": {},
   "outputs": [],
   "source": []
  },
  {
   "cell_type": "markdown",
   "metadata": {},
   "source": [
    "### ※ (점심시간 문제) 키와 체중간의 공분산을 출력하는 파이썬 코드로 작성하시오\n",
    "```\n",
    "6월 15일 점심시간 문제 : 키와 체중간의 공분산을 출력하는 파이썬 코드로 작성하시오 !\n",
    "\n",
    " 번호   키     체중 \n",
    "  1   147.9   41.7          \n",
    "  2   163.5   60.2           \n",
    "  3   159.8   47.0             \n",
    "  4   155.1   53.2\n",
    "  5   163.3   48.3\n",
    "  6   158.7   55.2\n",
    "  7   172.0   58.5\n",
    "  8   161.2   49.0\n",
    "  9   153.9   46.7\n",
    " 10   161.6   52.5\n",
    " ```"
   ]
  },
  {
   "cell_type": "code",
   "execution_count": 11,
   "metadata": {
    "ExecuteTime": {
     "end_time": "2020-06-15T00:53:12.235675Z",
     "start_time": "2020-06-15T00:53:12.227680Z"
    }
   },
   "outputs": [
    {
     "data": {
      "text/plain": [
       "(10,\n",
       " 10,\n",
       " [189.60000000000002,\n",
       "  223.7,\n",
       "  206.8,\n",
       "  208.3,\n",
       "  211.60000000000002,\n",
       "  213.89999999999998,\n",
       "  230.5,\n",
       "  210.2,\n",
       "  200.60000000000002,\n",
       "  214.1])"
      ]
     },
     "execution_count": 11,
     "metadata": {},
     "output_type": "execute_result"
    }
   ],
   "source": [
    "height=[147.9,163.5,159.8,155.1,163.3,158.7,172.0,161.2,153.9,161.6]\n",
    "weight=[41.7,60.2,47.0,53.2,48.3,55.2,58.5,49.0,46.7,52.5]\n",
    "h_w=[i+j for i,j in zip(height,weight)] # 키+몸무게\n",
    "len(height), len(weight), h_w"
   ]
  },
  {
   "cell_type": "code",
   "execution_count": 19,
   "metadata": {
    "ExecuteTime": {
     "end_time": "2020-06-15T01:21:00.234352Z",
     "start_time": "2020-06-15T01:21:00.228348Z"
    }
   },
   "outputs": [
    {
     "data": {
      "text/plain": [
       "(159.7, 51.23, 210.93)"
      ]
     },
     "execution_count": 19,
     "metadata": {},
     "output_type": "execute_result"
    }
   ],
   "source": [
    "avg_h=sum(height)/len(height) # 키 평균\n",
    "avg_w=sum(weight)/len(weight) # 몸무게 평균\n",
    "avg_hw=sum(h_w)/len(h_w) # 키+몸무게 평균\n",
    "avg_h, avg_w, avg_hw"
   ]
  },
  {
   "cell_type": "code",
   "execution_count": 20,
   "metadata": {
    "ExecuteTime": {
     "end_time": "2020-06-15T01:21:47.596333Z",
     "start_time": "2020-06-15T01:21:47.589335Z"
    }
   },
   "outputs": [
    {
     "data": {
      "text/plain": [
       "(25542.05, 2654.249, 44606.621)"
      ]
     },
     "execution_count": 20,
     "metadata": {},
     "output_type": "execute_result"
    }
   ],
   "source": [
    "h_sq=sum([i**2 for i in height]); w_sq=sum([i**2 for i in weight]); hw_sq=sum([i**2 for i in h_w]) # 제곱합\n",
    "avg_sqh=h_sq/len(height) # 키 제곱 평균\n",
    "avg_sqw=w_sq/len(weight) # 몸무게 제곱 평균\n",
    "avg_sqhw=hw_sq/len(h_w) # 키+몸무게 제곱 평균\n",
    "avg_sqh, avg_sqw, avg_sqhw"
   ]
  },
  {
   "cell_type": "code",
   "execution_count": 21,
   "metadata": {
    "ExecuteTime": {
     "end_time": "2020-06-15T02:31:27.958331Z",
     "start_time": "2020-06-15T02:31:27.945338Z"
    }
   },
   "outputs": [
    {
     "data": {
      "text/plain": [
       "(37.960000000002765, 29.73610000000008, 115.15609999999288)"
      ]
     },
     "execution_count": 21,
     "metadata": {},
     "output_type": "execute_result"
    }
   ],
   "source": [
    "var_h=avg_sqh - (avg_h**2) # 키 분산\n",
    "var_w=avg_sqw - (avg_w**2) # 몸무게 분산\n",
    "var_hw=avg_sqhw - (avg_hw**2) # 키+몸무게 분산\n",
    "var_h, var_w, var_hw"
   ]
  },
  {
   "cell_type": "code",
   "execution_count": 22,
   "metadata": {
    "ExecuteTime": {
     "end_time": "2020-06-15T02:32:13.310471Z",
     "start_time": "2020-06-15T02:32:13.304474Z"
    }
   },
   "outputs": [
    {
     "data": {
      "text/plain": [
       "23.729999999995016"
      ]
     },
     "execution_count": 22,
     "metadata": {},
     "output_type": "execute_result"
    }
   ],
   "source": [
    "cov_hw=(var_hw-var_h-var_w)/2 # 공분산= (합분산-키분산-몸무게분산)/2\n",
    "cov_hw"
   ]
  },
  {
   "cell_type": "code",
   "execution_count": 18,
   "metadata": {
    "ExecuteTime": {
     "end_time": "2020-06-15T01:05:13.967619Z",
     "start_time": "2020-06-15T01:05:13.960623Z"
    }
   },
   "outputs": [
    {
     "data": {
      "text/plain": [
       "23.729999999999976"
      ]
     },
     "execution_count": 18,
     "metadata": {},
     "output_type": "execute_result"
    }
   ],
   "source": [
    "std_h=[i-avg_h for i in height] # 키 - 키평균\n",
    "std_w=[i-avg_w for i in weight] # 몸무게 - 몸무게평균\n",
    "cov=[i*j for i, j in zip(std_h,std_w)] # (키-키평균)(몸무게-몸무게평균)\n",
    "sum(cov)/len(cov)"
   ]
  },
  {
   "cell_type": "code",
   "execution_count": null,
   "metadata": {},
   "outputs": [],
   "source": []
  },
  {
   "cell_type": "code",
   "execution_count": null,
   "metadata": {},
   "outputs": [],
   "source": []
  }
 ],
 "metadata": {
  "kernelspec": {
   "display_name": "Python 3",
   "language": "python",
   "name": "python3"
  },
  "language_info": {
   "codemirror_mode": {
    "name": "ipython",
    "version": 3
   },
   "file_extension": ".py",
   "mimetype": "text/x-python",
   "name": "python",
   "nbconvert_exporter": "python",
   "pygments_lexer": "ipython3",
   "version": "3.7.6"
  },
  "toc": {
   "base_numbering": 1,
   "nav_menu": {},
   "number_sections": true,
   "sideBar": true,
   "skip_h1_title": false,
   "title_cell": "Table of Contents",
   "title_sidebar": "Contents",
   "toc_cell": false,
   "toc_position": {},
   "toc_section_display": true,
   "toc_window_display": false
  },
  "varInspector": {
   "cols": {
    "lenName": 16,
    "lenType": 16,
    "lenVar": 40
   },
   "kernels_config": {
    "python": {
     "delete_cmd_postfix": "",
     "delete_cmd_prefix": "del ",
     "library": "var_list.py",
     "varRefreshCmd": "print(var_dic_list())"
    },
    "r": {
     "delete_cmd_postfix": ") ",
     "delete_cmd_prefix": "rm(",
     "library": "var_list.r",
     "varRefreshCmd": "cat(var_dic_list()) "
    }
   },
   "types_to_exclude": [
    "module",
    "function",
    "builtin_function_or_method",
    "instance",
    "_Feature"
   ],
   "window_display": false
  }
 },
 "nbformat": 4,
 "nbformat_minor": 4
}
