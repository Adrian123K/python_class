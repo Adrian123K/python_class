{
 "cells": [
  {
   "cell_type": "markdown",
   "metadata": {},
   "source": [
    "### ■ 파이썬 200제 복습\n",
    "    1. 파이썬 설치 \n",
    "        - 파이썬 기본 프로그램\n",
    "        - 아나콘다 (파이썬 기본 프로그램 + 각종 중요 패키지)\n",
    "            ※ 아나콘다 이용 시 장점 \n",
    "                1. 따로 추가적인 패키지를 설치하지 않아도 된다.\n",
    "                2. 가상환경을 구축할 수 있다.\n",
    "                    - 자동 주식 매매 파이썬 프로그램 환경 구축\n",
    "                    - 고흐 미술작품 스타일로 일반 사진을 변환하는 환경 구축\n",
    "                        => 환경 병행이 가능\n",
    "    2. 파이썬 자료형 5가지\n",
    "    3. if문, loop문\n",
    "    4. 연산자 3가지 (산술, 비교, 논리)\n",
    "    5. 파이썬 모듈과 패키지 이해하기\n",
    "    6. 파이썬에서 클래스를 사용하는 방법\n",
    "    7. 예외처리\n",
    "    8. Pandas를 이용한 데이터 검색(기본검색, join, 서브쿼리, 데이터 분석함수)\n",
    "    9. 문자열에 관련한 파이썬 문법\n",
    "    10. 리스트에 관련한 파이썬 문법\n",
    "        "
   ]
  },
  {
   "cell_type": "markdown",
   "metadata": {},
   "source": [
    "### ■ 예제118. 리스트의 모든 요소의 합 구하기 (sum)\n",
    "#### 파이썬 내장함수 sum()을 이용해 list 모든 요소의 합을 출력"
   ]
  },
  {
   "cell_type": "code",
   "execution_count": 17,
   "metadata": {
    "ExecuteTime": {
     "end_time": "2020-05-26T01:04:51.219386Z",
     "start_time": "2020-05-26T01:04:51.213389Z"
    }
   },
   "outputs": [
    {
     "data": {
      "text/plain": [
       "55"
      ]
     },
     "execution_count": 17,
     "metadata": {},
     "output_type": "execute_result"
    }
   ],
   "source": [
    "# 예제\n",
    "ls=[2,2,1,3,8,1,4,3,9,2,20]\n",
    "rs=sum(ls)\n",
    "rs"
   ]
  },
  {
   "cell_type": "markdown",
   "metadata": {},
   "source": [
    "### ※ 문제223. (카카오 추천관리시스템 팀의 면접문제) 1부터 10사이의 숫자 중 하나가 없는 리스트가 있다. 이 중 없는 숫자를 루프문을 쓰지말고 출력하려면 어떻게 해야하는가?"
   ]
  },
  {
   "cell_type": "code",
   "execution_count": 18,
   "metadata": {
    "ExecuteTime": {
     "end_time": "2020-05-26T01:07:23.406987Z",
     "start_time": "2020-05-26T01:07:23.343026Z"
    }
   },
   "outputs": [
    {
     "data": {
      "text/plain": [
       "8"
      ]
     },
     "execution_count": 18,
     "metadata": {},
     "output_type": "execute_result"
    }
   ],
   "source": [
    "a=[2,1,5,4,6,7,9,10,3]\n",
    "sum(range(1,11))-sum(a)"
   ]
  },
  {
   "cell_type": "markdown",
   "metadata": {},
   "source": [
    "### ■ 예제119. 리스트의 요소가 모두 참인지 확인하기(all, any)\n",
    "#### 리스트의 모든 요소가 참인지 또는 모든 요소가 거짓인지 판단해야 하는 경우 파이썬 내장함수 all(), any()를 사용\n",
    "    all() : 인자로 입력되는 리스트의 모든 요소가 참인 경우에만 True, 거짓이 하나라도 포함되어져 있으면 False\n",
    "    any() : 인자로 입력되는 리스트의 모든 요소가 거짓인 경우에만 False, 참이 하나라도 포함되어져 있으면 True"
   ]
  },
  {
   "cell_type": "code",
   "execution_count": 19,
   "metadata": {
    "ExecuteTime": {
     "end_time": "2020-05-26T01:13:39.667274Z",
     "start_time": "2020-05-26T01:13:39.661278Z"
    }
   },
   "outputs": [
    {
     "name": "stdout",
     "output_type": "stream",
     "text": [
      "True\n",
      "False\n",
      "True\n",
      "True\n"
     ]
    }
   ],
   "source": [
    "# 예제\n",
    "ls1=[True, True, True]\n",
    "ls2=[1,0,1]\n",
    "print(all(ls1))\n",
    "print(all(ls2))\n",
    "print(any(ls1))\n",
    "print(any(ls2))"
   ]
  },
  {
   "cell_type": "markdown",
   "metadata": {},
   "source": [
    "### ※ 문제234. 아래의 리스트에서 음수인것은 0이 되게 하시오(딥러닝)"
   ]
  },
  {
   "cell_type": "code",
   "execution_count": 26,
   "metadata": {
    "ExecuteTime": {
     "end_time": "2020-05-26T01:40:51.294238Z",
     "start_time": "2020-05-26T01:40:51.286244Z"
    }
   },
   "outputs": [
    {
     "data": {
      "text/plain": [
       "[[1, 2], [0, 0]]"
      ]
     },
     "execution_count": 26,
     "metadata": {},
     "output_type": "execute_result"
    }
   ],
   "source": [
    "# 1. numpy를 이용하지 않았을 때\n",
    "x=[[1,2],[-3,-4]] # 결과 : [[1,2],[0,0]]\n",
    "for i in range(len(x)):\n",
    "    for j in range(len(x[i])):\n",
    "        if x[i][j]<0:\n",
    "            x[i][j]=0\n",
    "x"
   ]
  },
  {
   "cell_type": "code",
   "execution_count": 29,
   "metadata": {
    "ExecuteTime": {
     "end_time": "2020-05-26T01:45:31.103156Z",
     "start_time": "2020-05-26T01:45:31.096160Z"
    }
   },
   "outputs": [
    {
     "name": "stdout",
     "output_type": "stream",
     "text": [
      "[[False False]\n",
      " [ True  True]]\n"
     ]
    },
    {
     "data": {
      "text/plain": [
       "array([[1, 2],\n",
       "       [0, 0]])"
      ]
     },
     "execution_count": 29,
     "metadata": {},
     "output_type": "execute_result"
    }
   ],
   "source": [
    "# 2. numpy를 이용했을 때\n",
    "import numpy as np\n",
    "\n",
    "x=[[1,2],[-3,-4]] # 결과 : [[1,2],[0,0]]\n",
    "x2=np.array(x)\n",
    "mask=(x2<=0) # 조건에 맞으면 True, 아니면 False\n",
    "print(mask)\n",
    "x2[mask]=0 # True인 자리에 0을 할당\n",
    "x2"
   ]
  },
  {
   "cell_type": "markdown",
   "metadata": {},
   "source": [
    "### ※ 문제235. 아래의 행렬을 만들고 아래의 행렬에 양수인 부분을 0으로 만드시오\n",
    "$$\\begin{pmatrix}\n",
    "        3 & 1 & -4 \\\\\n",
    "        20 & -2 & 3 \\\\\n",
    "        6 & -7 & 10 \\\\\n",
    "    \\end{pmatrix}$$"
   ]
  },
  {
   "cell_type": "code",
   "execution_count": 30,
   "metadata": {
    "ExecuteTime": {
     "end_time": "2020-05-26T01:50:11.858803Z",
     "start_time": "2020-05-26T01:50:11.851807Z"
    }
   },
   "outputs": [
    {
     "data": {
      "text/plain": [
       "array([[ 0,  0, -4],\n",
       "       [ 0, -2,  0],\n",
       "       [ 0, -7,  0]])"
      ]
     },
     "execution_count": 30,
     "metadata": {},
     "output_type": "execute_result"
    }
   ],
   "source": [
    "u=np.array([[3,1,-4],[20,-2,3],[6,-7,10]])\n",
    "con=(u>0)\n",
    "u[con]=0\n",
    "u"
   ]
  },
  {
   "cell_type": "markdown",
   "metadata": {},
   "source": [
    "### ■ 예제120. 사전에 요소 추가하기\n",
    "#### 사전은 키:값 요소인 순서가 없는 자료형\n",
    "#### 사전은 인덱스가 아닌 키로 해당 요소와 값을 접근\n",
    "    사진 dict에서 키가 k1이고 그에 해당하는 값 val → dict[k1] → val"
   ]
  },
  {
   "cell_type": "code",
   "execution_count": 31,
   "metadata": {
    "ExecuteTime": {
     "end_time": "2020-05-26T01:54:25.064676Z",
     "start_time": "2020-05-26T01:54:25.058680Z"
    }
   },
   "outputs": [
    {
     "data": {
      "text/plain": [
       "{'태양': 'sun'}"
      ]
     },
     "execution_count": 31,
     "metadata": {},
     "output_type": "execute_result"
    }
   ],
   "source": [
    "# 예제\n",
    "sol={}\n",
    "sol['태양']='sun'\n",
    "sol"
   ]
  },
  {
   "cell_type": "markdown",
   "metadata": {},
   "source": [
    "### ※ 문제236. 아래의 두 개의 리스트를 만들고 아래와 같이 딕셔너리를 만드시오\n",
    "sol_eng=['sun','mercury','venus','earth','mars']  \n",
    "sol_kor=['태양','수성','금성','지구','화성']"
   ]
  },
  {
   "cell_type": "code",
   "execution_count": 34,
   "metadata": {
    "ExecuteTime": {
     "end_time": "2020-05-26T01:58:13.440577Z",
     "start_time": "2020-05-26T01:58:13.433581Z"
    }
   },
   "outputs": [
    {
     "data": {
      "text/plain": [
       "{'태양': 'sun', '수성': 'mercury', '금성': 'venus', '지구': 'earth', '화성': 'mars'}"
      ]
     },
     "execution_count": 34,
     "metadata": {},
     "output_type": "execute_result"
    }
   ],
   "source": [
    "sol_eng=['sun','mercury','venus','earth','mars']  \n",
    "sol_kor=['태양','수성','금성','지구','화성']\n",
    "sol={}\n",
    "for i in range(len(sol_eng)):\n",
    "    sol[sol_kor[i]]=sol_eng[i]\n",
    "sol"
   ]
  },
  {
   "cell_type": "code",
   "execution_count": 35,
   "metadata": {
    "ExecuteTime": {
     "end_time": "2020-05-26T02:02:51.919089Z",
     "start_time": "2020-05-26T02:02:51.913092Z"
    }
   },
   "outputs": [
    {
     "data": {
      "text/plain": [
       "{'태양': 'sun', '수성': 'mercury', '금성': 'venus', '지구': 'earth', '화성': 'mars'}"
      ]
     },
     "execution_count": 35,
     "metadata": {},
     "output_type": "execute_result"
    }
   ],
   "source": [
    "sol={}\n",
    "for i,j in zip(sol_kor,sol_eng):\n",
    "    sol[i]=j\n",
    "sol"
   ]
  },
  {
   "cell_type": "markdown",
   "metadata": {},
   "source": [
    "### ■ 문제237. 아래의 결과를 출력하시오"
   ]
  },
  {
   "cell_type": "code",
   "execution_count": 39,
   "metadata": {
    "ExecuteTime": {
     "end_time": "2020-05-26T02:07:45.606744Z",
     "start_time": "2020-05-26T02:07:45.599748Z"
    }
   },
   "outputs": [
    {
     "name": "stdout",
     "output_type": "stream",
     "text": [
      "0+0=0\n",
      "1+1=2\n",
      "2+2=4\n",
      "3+3=6\n",
      "4+4=8\n",
      "5+5=10\n",
      "6+6=12\n",
      "7+7=14\n",
      "8+8=16\n",
      "9+9=18\n",
      "10+10=20\n"
     ]
    }
   ],
   "source": [
    "def add(x, y):\n",
    "    return (x+y)\n",
    "for i, j in zip(range(11),range(11)):\n",
    "    print(f'{i}+{j}={add(i,j)}')"
   ]
  },
  {
   "cell_type": "markdown",
   "metadata": {},
   "source": [
    "### ■ 예제121. 사전에 특정 요소값을 변경하기\n",
    "#### 사전 자료형의 특정 요소값을 변경하는 방법은 다음과 같다.\n",
    "```python\n",
    "dict[k]=val2\n",
    "사전 dict의 특정요소  k:val에서 키 k에 해당하는 값이 val의 값을 val2로 변경하는 방법\n",
    "    ```"
   ]
  },
  {
   "cell_type": "code",
   "execution_count": 40,
   "metadata": {
    "ExecuteTime": {
     "end_time": "2020-05-26T02:12:45.364013Z",
     "start_time": "2020-05-26T02:12:45.357017Z"
    }
   },
   "outputs": [
    {
     "data": {
      "text/plain": [
       "{'태양': 'SUUUUUUUUUUUN',\n",
       " '수성': 'mercury',\n",
       " '금성': 'venus',\n",
       " '지구': 'earth',\n",
       " '화성': 'mars'}"
      ]
     },
     "execution_count": 40,
     "metadata": {},
     "output_type": "execute_result"
    }
   ],
   "source": [
    "sol={}\n",
    "for i,j in zip(sol_kor,sol_eng):\n",
    "    sol[i]=j\n",
    "sol['태양']='SUUUUUUUUUUUN'\n",
    "sol"
   ]
  },
  {
   "cell_type": "markdown",
   "metadata": {},
   "source": [
    "### ※ 문제238. 아래의 딕셔너리의 값 중에서 Fire를 피땀눈물로 변경하시오"
   ]
  },
  {
   "cell_type": "code",
   "execution_count": 42,
   "metadata": {
    "ExecuteTime": {
     "end_time": "2020-05-26T02:18:04.372331Z",
     "start_time": "2020-05-26T02:18:04.366334Z"
    }
   },
   "outputs": [
    {
     "data": {
      "text/plain": [
       "{'소녀시대': ['다시만난세계', 'Gee'], 'BTS': ['DNA', '피땀눈물']}"
      ]
     },
     "execution_count": 42,
     "metadata": {},
     "output_type": "execute_result"
    }
   ],
   "source": [
    "dic={'소녀시대':['다시만난세계','Gee'],'BTS':['DNA','Fire']}\n",
    "dic['BTS'][dic['BTS'].index('Fire')]='피땀눈물'\n",
    "dic"
   ]
  },
  {
   "cell_type": "markdown",
   "metadata": {},
   "source": [
    "### ■ 예제122. 사전에 특정 요소 제거하기\n",
    "#### 사전 dict에서 특정 요소 k:val을 제거하는 방법\n",
    "```python\n",
    "del dict[k]\n",
    "```"
   ]
  },
  {
   "cell_type": "code",
   "execution_count": 43,
   "metadata": {
    "ExecuteTime": {
     "end_time": "2020-05-26T02:20:31.843114Z",
     "start_time": "2020-05-26T02:20:31.837118Z"
    }
   },
   "outputs": [
    {
     "data": {
      "text/plain": [
       "{'수성': 'mercury', '금성': 'venus', '지구': 'earth', '화성': 'mars'}"
      ]
     },
     "execution_count": 43,
     "metadata": {},
     "output_type": "execute_result"
    }
   ],
   "source": [
    "# 예제\n",
    "del sol['태양']\n",
    "sol"
   ]
  },
  {
   "cell_type": "markdown",
   "metadata": {},
   "source": [
    "### ※ 문제239. 아래의 딕셔너리에서 다시만난세계를 지우시오"
   ]
  },
  {
   "cell_type": "code",
   "execution_count": 44,
   "metadata": {
    "ExecuteTime": {
     "end_time": "2020-05-26T02:21:24.753626Z",
     "start_time": "2020-05-26T02:21:24.748630Z"
    }
   },
   "outputs": [
    {
     "data": {
      "text/plain": [
       "{'소녀시대': ['Gee'], 'BTS': ['DNA', 'Fire']}"
      ]
     },
     "execution_count": 44,
     "metadata": {},
     "output_type": "execute_result"
    }
   ],
   "source": [
    "dic={'소녀시대':['다시만난세계','Gee'],'BTS':['DNA','Fire']}\n",
    "del dic['소녀시대'][dic['소녀시대'].index('다시만난세계')]\n",
    "dic"
   ]
  },
  {
   "cell_type": "markdown",
   "metadata": {},
   "source": [
    "### ■ 예제123. 사전의 모든 요소 제거하기(clear)\n",
    "#### 사전의 모든 요소를 제거하여 빈 사전으로 만드는 방법은 사전 객체의 clear() 메소드를 이용"
   ]
  },
  {
   "cell_type": "code",
   "execution_count": 46,
   "metadata": {
    "ExecuteTime": {
     "end_time": "2020-05-26T02:44:49.599097Z",
     "start_time": "2020-05-26T02:44:49.594100Z"
    }
   },
   "outputs": [
    {
     "data": {
      "text/plain": [
       "{}"
      ]
     },
     "execution_count": 46,
     "metadata": {},
     "output_type": "execute_result"
    }
   ],
   "source": [
    "# 예제\n",
    "dic={'소녀시대':['다시만난세계','Gee'],'BTS':['DNA','Fire']}\n",
    "dic.clear()\n",
    "dic"
   ]
  },
  {
   "cell_type": "markdown",
   "metadata": {},
   "source": [
    "### ■ 문제240. 딕셔너리의 요소를 지우는게 아니라 메모리에서 dict를 지우려면?"
   ]
  },
  {
   "cell_type": "code",
   "execution_count": 48,
   "metadata": {
    "ExecuteTime": {
     "end_time": "2020-05-26T02:47:34.809926Z",
     "start_time": "2020-05-26T02:47:34.801932Z"
    }
   },
   "outputs": [
    {
     "ename": "NameError",
     "evalue": "name 'dic' is not defined",
     "output_type": "error",
     "traceback": [
      "\u001b[1;31m---------------------------------------------------------------------------\u001b[0m",
      "\u001b[1;31mNameError\u001b[0m                                 Traceback (most recent call last)",
      "\u001b[1;32m<ipython-input-48-a7118ec2fe84>\u001b[0m in \u001b[0;36m<module>\u001b[1;34m\u001b[0m\n\u001b[1;32m----> 1\u001b[1;33m \u001b[1;32mdel\u001b[0m \u001b[0mdic\u001b[0m\u001b[1;33m\u001b[0m\u001b[1;33m\u001b[0m\u001b[0m\n\u001b[0m\u001b[0;32m      2\u001b[0m \u001b[0mdic\u001b[0m\u001b[1;33m\u001b[0m\u001b[1;33m\u001b[0m\u001b[0m\n",
      "\u001b[1;31mNameError\u001b[0m: name 'dic' is not defined"
     ]
    }
   ],
   "source": [
    "del dic\n",
    "dic"
   ]
  },
  {
   "cell_type": "markdown",
   "metadata": {},
   "source": [
    "### ■ 예제124. 사전에서 키만 추출하기(keys)\n",
    "#### 아래의 딕셔너리에서 key에 해당하는 부분만 추출하시오"
   ]
  },
  {
   "cell_type": "code",
   "execution_count": 49,
   "metadata": {
    "ExecuteTime": {
     "end_time": "2020-05-26T02:50:02.832875Z",
     "start_time": "2020-05-26T02:50:02.826881Z"
    }
   },
   "outputs": [
    {
     "data": {
      "text/plain": [
       "dict_keys(['소녀시대', 'BTS'])"
      ]
     },
     "execution_count": 49,
     "metadata": {},
     "output_type": "execute_result"
    }
   ],
   "source": [
    "dic={'소녀시대':['다시만난세계','Gee'],'BTS':['DNA','Fire']}\n",
    "dic.keys()"
   ]
  },
  {
   "cell_type": "markdown",
   "metadata": {},
   "source": [
    "### ■ 문제241. dic에서 키 값만 뽑아서 아래와 같이 출력하시오\n",
    "```\n",
    "소녀시대, 방탄소년단\n",
    "```"
   ]
  },
  {
   "cell_type": "code",
   "execution_count": 58,
   "metadata": {
    "ExecuteTime": {
     "end_time": "2020-05-26T02:55:39.831810Z",
     "start_time": "2020-05-26T02:55:39.826812Z"
    }
   },
   "outputs": [
    {
     "data": {
      "text/plain": [
       "'소녀시대,BTS'"
      ]
     },
     "execution_count": 58,
     "metadata": {},
     "output_type": "execute_result"
    }
   ],
   "source": [
    "','.join(f'{i}' for i in dic.keys())"
   ]
  },
  {
   "cell_type": "markdown",
   "metadata": {},
   "source": [
    "### ■ 예제125. 사전에서 값만 추출하기(values)"
   ]
  },
  {
   "cell_type": "code",
   "execution_count": 63,
   "metadata": {
    "ExecuteTime": {
     "end_time": "2020-05-26T02:56:45.206012Z",
     "start_time": "2020-05-26T02:56:45.202015Z"
    }
   },
   "outputs": [
    {
     "name": "stdout",
     "output_type": "stream",
     "text": [
      "['다시만난세계', 'Gee']\n",
      "['DNA', 'Fire']\n"
     ]
    }
   ],
   "source": [
    "# 예제: dic에서 값만 추출\n",
    "ls=list(dic.values())\n",
    "print('\\n'.join(f'{i}' for i in ls))"
   ]
  },
  {
   "cell_type": "markdown",
   "metadata": {},
   "source": [
    "### ■ 문제242. 위의 결과를 아래와 같이 출력하시오"
   ]
  },
  {
   "cell_type": "code",
   "execution_count": 64,
   "metadata": {
    "ExecuteTime": {
     "end_time": "2020-05-26T02:57:53.761775Z",
     "start_time": "2020-05-26T02:57:53.755779Z"
    }
   },
   "outputs": [
    {
     "data": {
      "text/plain": [
       "[['다시만난세계', 'Gee'], ['DNA', 'Fire']]"
      ]
     },
     "execution_count": 64,
     "metadata": {},
     "output_type": "execute_result"
    }
   ],
   "source": [
    "ls"
   ]
  },
  {
   "cell_type": "markdown",
   "metadata": {},
   "source": [
    "### ※ 문제243. 위의 코드를 수정해서 리스트 안의 요소가 아래와 같이 출력되게 하시오\n",
    "['다시만난세계', 'Gee', 'DNA', 'Fire']"
   ]
  },
  {
   "cell_type": "code",
   "execution_count": 91,
   "metadata": {
    "ExecuteTime": {
     "end_time": "2020-05-26T03:32:02.901989Z",
     "start_time": "2020-05-26T03:32:02.893993Z"
    }
   },
   "outputs": [
    {
     "name": "stdout",
     "output_type": "stream",
     "text": [
      "다시만난세계,Gee,DNA,Fire\n"
     ]
    }
   ],
   "source": [
    "for i in range(len(list(dic.values()))): # i=[a, b], [c, d]\n",
    "    for j in range(len(list(dic.values())[i])): # j = a, b/ c, d\n",
    "        if i == (len(list(dic.values()))-1) and j == (len(list(dic.values())[i])-1):\n",
    "            print(list(dic.values())[i][j])\n",
    "        else:\n",
    "            print(list(dic.values())[i][j],end=',')\n",
    "        \n",
    "    "
   ]
  },
  {
   "cell_type": "markdown",
   "metadata": {},
   "source": [
    "### ※ 문제244.(점심시간 문제) 아래와 같이 shuffle되게 하시오\n",
    "```\n",
    "다시만난세계, Gee, DNA, Fire\n",
    "DNA,Fire,다시만난세계,Fire\n",
    "```"
   ]
  },
  {
   "cell_type": "code",
   "execution_count": 118,
   "metadata": {
    "ExecuteTime": {
     "end_time": "2020-05-26T03:34:40.795676Z",
     "start_time": "2020-05-26T03:34:40.789681Z"
    }
   },
   "outputs": [
    {
     "name": "stdout",
     "output_type": "stream",
     "text": [
      "DNA,Fire,다시만난세계,Gee\n"
     ]
    }
   ],
   "source": [
    "from random import shuffle\n",
    "shuffle(ls)\n",
    "for i in range(len(ls)): # i=[a, b], [c, d]\n",
    "    for j in range(len(ls[i])): # j = a, b/ c, d\n",
    "        if i == (len(ls)-1) and j == (len(ls[i])-1):\n",
    "            print(ls[i][j])\n",
    "        else:\n",
    "            print(ls[i][j],end=',')\n"
   ]
  },
  {
   "cell_type": "markdown",
   "metadata": {},
   "source": [
    "### ※ (점심시간 문제)(파이썬 알고리즘 문제 34번을 다시 하나씩 이해하기 위한 문제 두번째)"
   ]
  },
  {
   "cell_type": "markdown",
   "metadata": {},
   "source": [
    "    2000 년 초등학교 5학년 어린이들의 전국 평균키는 148.5cm , 표준편차는 30 이였습니다.\n",
    "    식생활의 변화로 인해 어린이들의 성장에 변화가 일어났다고 생각됩니다. \n",
    "    그래서 현대의 초등학교 5학년 어린이들을 100명을 무작위로 추출해 평균키를 구하는 작업을 1000000 번 하여 \n",
    "    표본의 평균키 십만개를 a 라는 비어있는 리스트에 넣고 이 데이터를 이용해서 히스토그램 그래프를 그리시오.  \n",
    "    (가로축 간격: 140 ~ 160 ) "
   ]
  },
  {
   "cell_type": "code",
   "execution_count": 16,
   "metadata": {
    "ExecuteTime": {
     "end_time": "2020-05-26T00:45:04.615429Z",
     "start_time": "2020-05-26T00:44:09.570885Z"
    }
   },
   "outputs": [
    {
     "data": {
      "text/plain": [
       "(array([  4051.,   9180.,  18478.,  33819.,  55500.,  81455., 106479.,\n",
       "        125871., 132873., 124904., 105423.,  79894.,  53993.,  33139.,\n",
       "         17871.,   8628.,   3772.,   1591.,    507.]),\n",
       " array([140, 141, 142, 143, 144, 145, 146, 147, 148, 149, 150, 151, 152,\n",
       "        153, 154, 155, 156, 157, 158, 159]),\n",
       " <a list of 19 Patch objects>)"
      ]
     },
     "execution_count": 16,
     "metadata": {},
     "output_type": "execute_result"
    },
    {
     "data": {
      "image/png": "[encoded data removed]",
      "text/plain": [
       "<Figure size 432x288 with 1 Axes>"
      ]
     },
     "metadata": {
      "needs_background": "light"
     },
     "output_type": "display_data"
    }
   ],
   "source": [
    "import matplotlib.pyplot as plt\n",
    "import numpy as np\n",
    "\n",
    "avg=148.5\n",
    "std=30\n",
    "N=1_000_000\n",
    "\n",
    "height=np.random.randn(1_000_100)*std+avg\n",
    "a=[np.random.choice(height,100).mean() for i in range(N)]\n",
    "\n",
    "bins=np.arange(140,160,1) \n",
    "hist, bins=np.histogram(height, bins)\n",
    "\n",
    "plt.xticks(bins, color='red')\n",
    "plt.yticks(color='green')\n",
    "plt.grid() \n",
    "plt.hist(a, bins, rwidth=0.8, color='grey') "
   ]
  },
  {
   "cell_type": "code",
   "execution_count": null,
   "metadata": {},
   "outputs": [],
   "source": []
  }
 ],
 "metadata": {
  "kernelspec": {
   "display_name": "Python 3",
   "language": "python",
   "name": "python3"
  },
  "language_info": {
   "codemirror_mode": {
    "name": "ipython",
    "version": 3
   },
   "file_extension": ".py",
   "mimetype": "text/x-python",
   "name": "python",
   "nbconvert_exporter": "python",
   "pygments_lexer": "ipython3",
   "version": "3.7.6"
  },
  "varInspector": {
   "cols": {
    "lenName": 16,
    "lenType": 16,
    "lenVar": 40
   },
   "kernels_config": {
    "python": {
     "delete_cmd_postfix": "",
     "delete_cmd_prefix": "del ",
     "library": "var_list.py",
     "varRefreshCmd": "print(var_dic_list())"
    },
    "r": {
     "delete_cmd_postfix": ") ",
     "delete_cmd_prefix": "rm(",
     "library": "var_list.r",
     "varRefreshCmd": "cat(var_dic_list()) "
    }
   },
   "types_to_exclude": [
    "module",
    "function",
    "builtin_function_or_method",
    "instance",
    "_Feature"
   ],
   "window_display": false
  }
 },
 "nbformat": 4,
 "nbformat_minor": 4
}
