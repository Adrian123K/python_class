{
 "cells": [
  {
   "cell_type": "markdown",
   "metadata": {},
   "source": [
    "### ■ 예제160. 비밀지도 \n",
    "    네오는 평소 프로도가 비상금을 숨겨놓는 장소를 알려줄 비밀지도를 손에 넣었다. 그런데 이 비밀지도는 숫자로 암호화되어 있어 위치를 확인하기 위해서는 암호를 해독해야 한다. 다행히 지도 암호를 해독할 방법을 적어놓은 메모도 함께 발견했다.\n",
    "    지도는 한 변의 길이가 n인 정사각형 배열 형태로, 각 칸은 “공백”(“ “) 또는 “벽”(“#”) 두 종류로 이루어져 있다.\n",
    "    전체 지도는 두 장의 지도를 겹쳐서 얻을 수 있다. 각각 “지도 1”과 “지도 2”라고 하자. 지도 1 또는 지도 2 중 어느 하나라도 벽인 부분은 전체 지도에서도 벽이다. 지도 1과 지도 2에서 모두 공백인 부분은 전체 지도에서도 공백이다.\n",
    "    “지도 1”과 “지도 2”는 각각 정수 배열로 암호화되어 있다.\n",
    "    암호화된 배열은 지도의 각 가로줄에서 벽 부분을 1, 공백 부분을 0으로 부호화했을 때 얻어지는 이진수에 해당하는 값의 배열이다."
   ]
  },
  {
   "cell_type": "markdown",
   "metadata": {},
   "source": [
    "#### ※ 예제1. 숫자 9를 이진수로 변경하시오\n",
    "    0b1001"
   ]
  },
  {
   "cell_type": "code",
   "execution_count": 23,
   "metadata": {
    "ExecuteTime": {
     "end_time": "2020-06-15T07:46:55.034446Z",
     "start_time": "2020-06-15T07:46:55.024452Z"
    }
   },
   "outputs": [
    {
     "name": "stdout",
     "output_type": "stream",
     "text": [
      "0b1001\n"
     ]
    }
   ],
   "source": [
    "print(bin(9))"
   ]
  },
  {
   "cell_type": "markdown",
   "metadata": {},
   "source": [
    "#### ※ 예제2. 숫자 9를 이진수로 아래와 같이 변경하시오\n",
    "    1001"
   ]
  },
  {
   "cell_type": "code",
   "execution_count": 26,
   "metadata": {
    "ExecuteTime": {
     "end_time": "2020-06-15T07:49:01.284468Z",
     "start_time": "2020-06-15T07:49:01.280471Z"
    }
   },
   "outputs": [
    {
     "name": "stdout",
     "output_type": "stream",
     "text": [
      "1001\n"
     ]
    }
   ],
   "source": [
    "print(bin(9)[2:])"
   ]
  },
  {
   "cell_type": "markdown",
   "metadata": {},
   "source": [
    "#### ※ 예제3. 숫자 30을 이진수로 아래와 같이 출력하시오\n",
    "    11110"
   ]
  },
  {
   "cell_type": "code",
   "execution_count": 28,
   "metadata": {
    "ExecuteTime": {
     "end_time": "2020-06-15T07:49:49.735793Z",
     "start_time": "2020-06-15T07:49:49.730796Z"
    }
   },
   "outputs": [
    {
     "name": "stdout",
     "output_type": "stream",
     "text": [
      "11110\n"
     ]
    }
   ],
   "source": [
    "print(bin(30)[2:])"
   ]
  },
  {
   "cell_type": "markdown",
   "metadata": {},
   "source": [
    "#### ※ 예제4. 아래와 같이 출력되는 change라는 함수를 생성하시오\n",
    "```python\n",
    "n=5\n",
    "a=bin(9)\n",
    "b=bin(30)\n",
    "print(change(a,n), change(b,n)) #01001, 11110\n",
    "```"
   ]
  },
  {
   "cell_type": "code",
   "execution_count": 32,
   "metadata": {
    "ExecuteTime": {
     "end_time": "2020-06-15T07:57:30.847531Z",
     "start_time": "2020-06-15T07:57:30.840534Z"
    }
   },
   "outputs": [
    {
     "data": {
      "text/plain": [
       "('01001', '11110')"
      ]
     },
     "execution_count": 32,
     "metadata": {},
     "output_type": "execute_result"
    }
   ],
   "source": [
    "def change(x,n):\n",
    "    return x[2:].rjust(n,'0') # rjust: 전체 n자리를 잡고 나머지공간에 0을 채워넣기\n",
    "a=bin(9)\n",
    "b=bin(30)\n",
    "change(a,5), change(b,5)"
   ]
  },
  {
   "cell_type": "markdown",
   "metadata": {},
   "source": [
    "#### ※ 예제5. (카카오 비밀지도 문제) 위에 만든 change 함수를 이용해서 아래의 두개의 리스트를 가지고 아래의 결과를 출력하시오!\n",
    "    n = 5\n",
    "    arr1 = [9,20,28,18,11]\n",
    "    arr2 = [30,1,21,17,28]\n",
    "    결과 : \n",
    "       01001  ,  11110\n",
    "       10100  ,  00001\n",
    "       11100  ,  10101\n",
    "       10010  ,  10001\n",
    "       01011  ,  11100"
   ]
  },
  {
   "cell_type": "code",
   "execution_count": 43,
   "metadata": {
    "ExecuteTime": {
     "end_time": "2020-06-15T08:06:12.947840Z",
     "start_time": "2020-06-15T08:06:12.939844Z"
    }
   },
   "outputs": [
    {
     "name": "stdout",
     "output_type": "stream",
     "text": [
      "01001 11110\n",
      "10100 00001\n",
      "11100 10101\n",
      "10010 10001\n",
      "01011 11100\n"
     ]
    }
   ],
   "source": [
    "def change(x,n):\n",
    "    return x[2:].rjust(n,'0')\n",
    "\n",
    "# def change(x,n):\n",
    "#     x=[bin(i)[2:].rjust(n,'0') for i in x]\n",
    "#     return x\n",
    "\n",
    "n = 5\n",
    "arr1 = [9,20,28,18,11]\n",
    "arr2 = [30,1,21,17,28]\n",
    "for i in range(len(arr1)):\n",
    "    a=bin(arr1[i])\n",
    "    b=bin(arr2[i])\n",
    "    print(change(a,n),change(b,n))"
   ]
  },
  {
   "cell_type": "markdown",
   "metadata": {},
   "source": [
    "#### ※ 예제6. 아래의 두개의 결과를 가지고 아래의 결과를 출력하시오!  아래의 a 와 b 의 숫자가 둘다 0 이면 ' ' (공백) 을 출력하고 둘다 1이거나 둘중에 하나라도 1이면 # 을 출력하시오!     \n",
    "             a          b\n",
    "    입력 : 01001  ,  11110\n",
    "           10100  ,  00001\n",
    "           11100  ,  10101\n",
    "           10010  ,  10001\n",
    "           01011  ,  11100\n",
    "    결과 :  #####\n",
    "            # # #\n",
    "            ### #\n",
    "            #  ##\n",
    "            #####"
   ]
  },
  {
   "cell_type": "code",
   "execution_count": 70,
   "metadata": {
    "ExecuteTime": {
     "end_time": "2020-06-15T08:21:48.763394Z",
     "start_time": "2020-06-15T08:21:48.753400Z"
    }
   },
   "outputs": [
    {
     "data": {
      "text/plain": [
       "['#####', '# # #', '### #', '#  ##', '#####']"
      ]
     },
     "execution_count": 70,
     "metadata": {},
     "output_type": "execute_result"
    }
   ],
   "source": [
    "# def change(x,n):\n",
    "#     x=[bin(i)[2:].rjust(n,'0') for i in x]\n",
    "#     return x\n",
    "\n",
    "def change(x,n):\n",
    "    return bin(x)[2:].rjust(n,'0')\n",
    "\n",
    "n = 5\n",
    "arr1 = [9,20,28,18,11]\n",
    "arr2 = [30,1,21,17,28]\n",
    "\n",
    "rs=[]\n",
    "for i,j in zip(arr1,arr2):\n",
    "    a=change(i,n)\n",
    "    b=change(j,n)\n",
    "    f=''\n",
    "    for k in range(n):\n",
    "        if a[k]=='0' and b[k]=='0':\n",
    "            f1=\" \"\n",
    "            f+=f1\n",
    "        else:\n",
    "            f1='#'\n",
    "            f+=f1\n",
    "    rs.append(f)\n",
    "\n",
    "rs"
   ]
  },
  {
   "cell_type": "markdown",
   "metadata": {},
   "source": [
    "#### ※ 예제7. 위의 코드를 수정해서 아래와 같이 결과를 출력하시오 !\n",
    "    n = 6\n",
    "    arr3 = [9, 20, 28, 18, 11]\n",
    "    arr4 = [30, 1, 21, 17, 28]\n",
    "    res = []\n",
    "    arr1=[46, 33, 33 ,22, 31, 50]\n",
    "    arr2=[27 ,56, 19, 14, 14, 10]\n",
    "    결과 :  [ '#####' , '# # #' , '### #' , '#  ##' , '#####' ]"
   ]
  },
  {
   "cell_type": "code",
   "execution_count": 75,
   "metadata": {
    "ExecuteTime": {
     "end_time": "2020-06-15T08:36:42.078336Z",
     "start_time": "2020-06-15T08:36:42.066343Z"
    }
   },
   "outputs": [
    {
     "data": {
      "text/plain": [
       "['######', '###  #', '##  ##', ' #### ', ' #####', '### # ']"
      ]
     },
     "execution_count": 75,
     "metadata": {},
     "output_type": "execute_result"
    }
   ],
   "source": [
    "# def change(x,n):\n",
    "#     return bin(x)[2:].rjust(n,'0')\n",
    "\n",
    "def secret_map(x1,x2,n):\n",
    "    rs=[]\n",
    "    for i,j in zip(x1,x2):\n",
    "        a=bin(i)[2:].rjust(n,'0')\n",
    "        b=bin(j)[2:].rjust(n,'0')\n",
    "        f=''\n",
    "        for k in range(n):\n",
    "            if a[k]=='0' and b[k]=='0':\n",
    "                f+=' '\n",
    "            else:\n",
    "                f+='#'\n",
    "        rs.append(f)\n",
    "    return rs\n",
    "\n",
    "n = 6\n",
    "arr1=[46, 33, 33 ,22, 31, 50]\n",
    "arr2=[27 ,56, 19, 14, 14, 10]\n",
    "secret_map(arr1,arr2,n)"
   ]
  },
  {
   "cell_type": "code",
   "execution_count": null,
   "metadata": {},
   "outputs": [],
   "source": []
  },
  {
   "cell_type": "code",
   "execution_count": null,
   "metadata": {},
   "outputs": [],
   "source": []
  },
  {
   "cell_type": "markdown",
   "metadata": {},
   "source": [
    "### ※ (점심시간 문제) 키와 체중간의 공분산을 출력하는 파이썬 코드로 작성하시오\n",
    "```\n",
    "6월 15일 점심시간 문제 : 키와 체중간의 공분산을 출력하는 파이썬 코드로 작성하시오 !\n",
    "\n",
    " 번호   키     체중 \n",
    "  1   147.9   41.7          \n",
    "  2   163.5   60.2           \n",
    "  3   159.8   47.0             \n",
    "  4   155.1   53.2\n",
    "  5   163.3   48.3\n",
    "  6   158.7   55.2\n",
    "  7   172.0   58.5\n",
    "  8   161.2   49.0\n",
    "  9   153.9   46.7\n",
    " 10   161.6   52.5\n",
    " ```"
   ]
  },
  {
   "cell_type": "code",
   "execution_count": 11,
   "metadata": {
    "ExecuteTime": {
     "end_time": "2020-06-15T00:53:12.235675Z",
     "start_time": "2020-06-15T00:53:12.227680Z"
    }
   },
   "outputs": [
    {
     "data": {
      "text/plain": [
       "(10,\n",
       " 10,\n",
       " [189.60000000000002,\n",
       "  223.7,\n",
       "  206.8,\n",
       "  208.3,\n",
       "  211.60000000000002,\n",
       "  213.89999999999998,\n",
       "  230.5,\n",
       "  210.2,\n",
       "  200.60000000000002,\n",
       "  214.1])"
      ]
     },
     "execution_count": 11,
     "metadata": {},
     "output_type": "execute_result"
    }
   ],
   "source": [
    "height=[147.9,163.5,159.8,155.1,163.3,158.7,172.0,161.2,153.9,161.6]\n",
    "weight=[41.7,60.2,47.0,53.2,48.3,55.2,58.5,49.0,46.7,52.5]\n",
    "h_w=[i+j for i,j in zip(height,weight)] # 키+몸무게\n",
    "len(height), len(weight), h_w"
   ]
  },
  {
   "cell_type": "code",
   "execution_count": 19,
   "metadata": {
    "ExecuteTime": {
     "end_time": "2020-06-15T01:21:00.234352Z",
     "start_time": "2020-06-15T01:21:00.228348Z"
    }
   },
   "outputs": [
    {
     "data": {
      "text/plain": [
       "(159.7, 51.23, 210.93)"
      ]
     },
     "execution_count": 19,
     "metadata": {},
     "output_type": "execute_result"
    }
   ],
   "source": [
    "avg_h=sum(height)/len(height) # 키 평균\n",
    "avg_w=sum(weight)/len(weight) # 몸무게 평균\n",
    "avg_hw=sum(h_w)/len(h_w) # 키+몸무게 평균\n",
    "avg_h, avg_w, avg_hw"
   ]
  },
  {
   "cell_type": "code",
   "execution_count": 20,
   "metadata": {
    "ExecuteTime": {
     "end_time": "2020-06-15T01:21:47.596333Z",
     "start_time": "2020-06-15T01:21:47.589335Z"
    }
   },
   "outputs": [
    {
     "data": {
      "text/plain": [
       "(25542.05, 2654.249, 44606.621)"
      ]
     },
     "execution_count": 20,
     "metadata": {},
     "output_type": "execute_result"
    }
   ],
   "source": [
    "h_sq=sum([i**2 for i in height]); w_sq=sum([i**2 for i in weight]); hw_sq=sum([i**2 for i in h_w]) # 제곱합\n",
    "avg_sqh=h_sq/len(height) # 키 제곱 평균\n",
    "avg_sqw=w_sq/len(weight) # 몸무게 제곱 평균\n",
    "avg_sqhw=hw_sq/len(h_w) # 키+몸무게 제곱 평균\n",
    "avg_sqh, avg_sqw, avg_sqhw"
   ]
  },
  {
   "cell_type": "code",
   "execution_count": 21,
   "metadata": {
    "ExecuteTime": {
     "end_time": "2020-06-15T02:31:27.958331Z",
     "start_time": "2020-06-15T02:31:27.945338Z"
    }
   },
   "outputs": [
    {
     "data": {
      "text/plain": [
       "(37.960000000002765, 29.73610000000008, 115.15609999999288)"
      ]
     },
     "execution_count": 21,
     "metadata": {},
     "output_type": "execute_result"
    }
   ],
   "source": [
    "var_h=avg_sqh - (avg_h**2) # 키 분산\n",
    "var_w=avg_sqw - (avg_w**2) # 몸무게 분산\n",
    "var_hw=avg_sqhw - (avg_hw**2) # 키+몸무게 분산\n",
    "var_h, var_w, var_hw"
   ]
  },
  {
   "cell_type": "code",
   "execution_count": 22,
   "metadata": {
    "ExecuteTime": {
     "end_time": "2020-06-15T02:32:13.310471Z",
     "start_time": "2020-06-15T02:32:13.304474Z"
    }
   },
   "outputs": [
    {
     "data": {
      "text/plain": [
       "23.729999999995016"
      ]
     },
     "execution_count": 22,
     "metadata": {},
     "output_type": "execute_result"
    }
   ],
   "source": [
    "cov_hw=(var_hw-var_h-var_w)/2 # 공분산= (합분산-키분산-몸무게분산)/2\n",
    "cov_hw"
   ]
  },
  {
   "cell_type": "code",
   "execution_count": 18,
   "metadata": {
    "ExecuteTime": {
     "end_time": "2020-06-15T01:05:13.967619Z",
     "start_time": "2020-06-15T01:05:13.960623Z"
    }
   },
   "outputs": [
    {
     "data": {
      "text/plain": [
       "23.729999999999976"
      ]
     },
     "execution_count": 18,
     "metadata": {},
     "output_type": "execute_result"
    }
   ],
   "source": [
    "std_h=[i-avg_h for i in height] # 키 - 키평균\n",
    "std_w=[i-avg_w for i in weight] # 몸무게 - 몸무게평균\n",
    "cov=[i*j for i, j in zip(std_h,std_w)] # (키-키평균)(몸무게-몸무게평균)\n",
    "sum(cov)/len(cov)"
   ]
  },
  {
   "cell_type": "code",
   "execution_count": null,
   "metadata": {},
   "outputs": [],
   "source": []
  },
  {
   "cell_type": "code",
   "execution_count": null,
   "metadata": {},
   "outputs": [],
   "source": []
  }
 ],
 "metadata": {
  "kernelspec": {
   "display_name": "Python 3",
   "language": "python",
   "name": "python3"
  },
  "language_info": {
   "codemirror_mode": {
    "name": "ipython",
    "version": 3
   },
   "file_extension": ".py",
   "mimetype": "text/x-python",
   "name": "python",
   "nbconvert_exporter": "python",
   "pygments_lexer": "ipython3",
   "version": "3.7.6"
  },
  "toc": {
   "base_numbering": 1,
   "nav_menu": {},
   "number_sections": true,
   "sideBar": true,
   "skip_h1_title": false,
   "title_cell": "Table of Contents",
   "title_sidebar": "Contents",
   "toc_cell": false,
   "toc_position": {},
   "toc_section_display": true,
   "toc_window_display": false
  },
  "varInspector": {
   "cols": {
    "lenName": 16,
    "lenType": 16,
    "lenVar": 40
   },
   "kernels_config": {
    "python": {
     "delete_cmd_postfix": "",
     "delete_cmd_prefix": "del ",
     "library": "var_list.py",
     "varRefreshCmd": "print(var_dic_list())"
    },
    "r": {
     "delete_cmd_postfix": ") ",
     "delete_cmd_prefix": "rm(",
     "library": "var_list.r",
     "varRefreshCmd": "cat(var_dic_list()) "
    }
   },
   "types_to_exclude": [
    "module",
    "function",
    "builtin_function_or_method",
    "instance",
    "_Feature"
   ],
   "window_display": false
  }
 },
 "nbformat": 4,
 "nbformat_minor": 4
}
