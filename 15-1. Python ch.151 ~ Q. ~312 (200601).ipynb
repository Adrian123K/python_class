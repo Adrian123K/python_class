{
 "cells": [
  {
   "cell_type": "markdown",
   "metadata": {},
   "source": [
    "### ■ 이미지를 숫자로 변환하는 방법(폐사진)\n",
    "        사진 --------------> 인공신경망 --------------> 판별 (확률: 강아지 95%, 고양이 5%)\n",
    "               (숫자변환)       확률\n",
    "                              <학습>\n",
    "    강아지 사진(500장)\n",
    "    고양이 사진(500장)"
   ]
  },
  {
   "cell_type": "code",
   "execution_count": null,
   "metadata": {
    "ExecuteTime": {
     "end_time": "2020-06-01T01:05:22.749800Z",
     "start_time": "2020-06-01T01:05:20.993215Z"
    }
   },
   "outputs": [],
   "source": [
    "test_img = 'd:/image'\n",
    "\n",
    "def img_load(path):\n",
    "    import os\n",
    "    import re\n",
    "    import cv2 # img를 숫자로 변환하는 모듈\n",
    "    import numpy as np # 신경망에서 행렬연산을 쉽게하기 위해서 필요\n",
    "    \n",
    "    file_list = os.listdir(path)\n",
    "    file_name = [int(re.sub('[^0-9]','',i)) for i in file_list]\n",
    "    file_name.sort()\n",
    "    f2 = [f'{path}/{i}.png' for i in file_name] # 절대경로\n",
    "    \n",
    "    img = [cv2.imread(i) for i in f2] # 파일을 읽어서 숫자 행렬로 변환\n",
    "    \n",
    "    return np.array(img) # 숫자 행렬 리스트를 numpy array로 감싼다\n",
    "\n",
    "img_load(test_img)"
   ]
  },
  {
   "cell_type": "markdown",
   "metadata": {},
   "source": [
    "### ※ 문제309. 위에서 만든 함수를 모듈화해서 아래와 같이 실행되게 하시오\n",
    "```python\n",
    "import lung_loader\n",
    "\n",
    "print(img_load(test_image))\n",
    "```"
   ]
  },
  {
   "cell_type": "code",
   "execution_count": null,
   "metadata": {
    "ExecuteTime": {
     "end_time": "2020-06-01T02:17:14.994605Z",
     "start_time": "2020-06-01T02:00:47.111Z"
    }
   },
   "outputs": [],
   "source": [
    "import lung_loader\n",
    "lung_loader.img_load('d:/image')"
   ]
  },
  {
   "cell_type": "markdown",
   "metadata": {},
   "source": [
    "### ※ 문제310. 폐사진을 32x32사이즈로 일괄 조정하시오"
   ]
  },
  {
   "cell_type": "code",
   "execution_count": null,
   "metadata": {
    "ExecuteTime": {
     "end_time": "2020-06-01T01:44:31.278166Z",
     "start_time": "2020-06-01T01:44:30.870419Z"
    }
   },
   "outputs": [],
   "source": [
    "import  cv2\n",
    "import  os \n",
    "import  numpy  as np\n",
    "\n",
    "path = \"D:/image/\"\n",
    "file_list = os.listdir(path) # 파일명 가져오기\n",
    "for k in file_list:\n",
    "    img = cv2.imread(path + '/' + k) # 사진을 숫자행렬로 변환\n",
    "    width, height = img.shape[:2] # 행렬 shape를 가져온다\n",
    "    resize_img = cv2.resize(img, (32 , 32), interpolation=cv2.INTER_CUBIC) # 리사이징\n",
    "    cv2.imwrite('d:/train_resize/' + k, resize_img)  "
   ]
  },
  {
   "cell_type": "markdown",
   "metadata": {},
   "source": [
    "### ■ 예제151. 이미지를 숫자로 변환하는 방법 (강아지, 고양이)"
   ]
  },
  {
   "cell_type": "markdown",
   "metadata": {},
   "source": [
    "### ※ 문제311. kaggle용 강아지, 고양이 사진을 숫자로 변환하는 img_load 함수를 아래와 같이 생성하시오"
   ]
  },
  {
   "cell_type": "code",
   "execution_count": null,
   "metadata": {
    "ExecuteTime": {
     "end_time": "2020-06-01T02:24:04.284199Z",
     "start_time": "2020-06-01T02:24:02.815010Z"
    }
   },
   "outputs": [],
   "source": [
    "test_img = 'd:/catdog'\n",
    "\n",
    "def img_load(path):\n",
    "    import os\n",
    "    import re\n",
    "    import cv2 # img를 숫자로 변환하는 모듈\n",
    "    import numpy as np # 신경망에서 행렬연산을 쉽게하기 위해서 필요\n",
    "    \n",
    "    file_list = os.listdir(path)\n",
    "    file_name = [int(re.sub('[^0-9]','',i)) for i in file_list]\n",
    "    file_name.sort()\n",
    "    f2 = [f'{test_img}/{i}.jpg' for i in file_name] # 절대경로\n",
    "    \n",
    "    img = [cv2.imread(i) for i in f2] # 파일을 읽어서 숫자 행렬로 변환\n",
    "    \n",
    "    return np.array(img) # 숫자 행렬 리스트를 numpy array로 감싼다\n",
    "\n",
    "img_load(test_img)"
   ]
  },
  {
   "cell_type": "markdown",
   "metadata": {},
   "source": [
    "#### ※ 강아지, 고양이 사진 100장 선택해서 d:/catdog 복사 후 catdog 폴더에 있는 이미지가 숫자로 잘 변환되는지 확인한다"
   ]
  },
  {
   "cell_type": "markdown",
   "metadata": {},
   "source": [
    "### ※ 문제312. 강아지, 고양이 사진을 로드하는 함수를 모듈화 시켜서 아래와 같이 실행되게 하시오\n",
    "```python\n",
    "import catdog_loader\n",
    "test_img='d:/catdog'\n",
    "print(img_load(test_img))\n",
    "```"
   ]
  },
  {
   "cell_type": "code",
   "execution_count": null,
   "metadata": {
    "ExecuteTime": {
     "end_time": "2020-06-01T02:24:48.258507Z",
     "start_time": "2020-06-01T02:24:47.975684Z"
    }
   },
   "outputs": [],
   "source": [
    "import catdog_loader\n",
    "test_img='d:/catdog'\n",
    "print(img_load(test_img))"
   ]
  }
 ],
 "metadata": {
  "kernelspec": {
   "display_name": "Python 3",
   "language": "python",
   "name": "python3"
  },
  "language_info": {
   "codemirror_mode": {
    "name": "ipython",
    "version": 3
   },
   "file_extension": ".py",
   "mimetype": "text/x-python",
   "name": "python",
   "nbconvert_exporter": "python",
   "pygments_lexer": "ipython3",
   "version": "3.7.6"
  },
  "varInspector": {
   "cols": {
    "lenName": 16,
    "lenType": 16,
    "lenVar": 40
   },
   "kernels_config": {
    "python": {
     "delete_cmd_postfix": "",
     "delete_cmd_prefix": "del ",
     "library": "var_list.py",
     "varRefreshCmd": "print(var_dic_list())"
    },
    "r": {
     "delete_cmd_postfix": ") ",
     "delete_cmd_prefix": "rm(",
     "library": "var_list.r",
     "varRefreshCmd": "cat(var_dic_list()) "
    }
   },
   "types_to_exclude": [
    "module",
    "function",
    "builtin_function_or_method",
    "instance",
    "_Feature"
   ],
   "window_display": false
  }
 },
 "nbformat": 4,
 "nbformat_minor": 4
}
