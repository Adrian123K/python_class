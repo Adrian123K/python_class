{
 "cells": [
  {
   "cell_type": "markdown",
   "metadata": {},
   "source": [
    "### 일정\n",
    "1. 파이썬 200제 예제 수업\n",
    "2. SQL 시험 채점 후 개별 면담\n",
    "3. 전체 수업 일정 공지\n",
    "4. SQL 튜닝 노트"
   ]
  },
  {
   "cell_type": "markdown",
   "metadata": {},
   "source": [
    "### ■ 지난주 수업 내용 복습\n",
    "1. 파이썬 자료형 5가지\n",
    "2. 파이썬에서의 if문 사용법\n",
    "3. loop문 사용법 (for loop, while loop)\n",
    "4. 오라클 함수와 파이썬 함수 비교 (파이썬 함수 생성)\n",
    "5. 파이썬 모듈 생성 방법\n",
    "6. 파이썬 패키지 생성 방법\n",
    "7. 파이썬 알고리즘 문제 19개 생성\n",
    "8. 행렬 연산을 파이썬으로 수행하는 방법 (numpy 모듈 사용)\n",
    "    - 행렬 합\n",
    "    - 행렬 곱\n",
    "        - 딥러닝, 서포트 벡터 머신, 회귀분석 식 \n",
    "    - 행렬 세제곱\n"
   ]
  },
  {
   "cell_type": "markdown",
   "metadata": {},
   "source": [
    "### ■ 예제47. numpy 모듈 사용하기 2\n",
    "#### numpy 모듈로 최댓값, 최솟값, 평균값, 중앙값, 최빈값, 분산값, 표준편차, 공분산값, 상관계수의 통계값들을 쉽게 출력할 수 있다."
   ]
  },
  {
   "cell_type": "code",
   "execution_count": 62,
   "metadata": {
    "ExecuteTime": {
     "end_time": "2020-05-18T01:03:50.662570Z",
     "start_time": "2020-05-18T01:03:50.657573Z"
    }
   },
   "outputs": [
    {
     "name": "stdout",
     "output_type": "stream",
     "text": [
      "[28, 23, 21, 29, 30, 40, 23, 21]\n",
      "40\n"
     ]
    }
   ],
   "source": [
    "# 예제1. 아래의 리스트에서 최댓값을 출력하시오\n",
    "import numpy as np\n",
    "\n",
    "a=[28,23,21,29,30,40,23,21]\n",
    "a_np=np.array(a) # 일반 리스트를 넘파이 array로 변환\n",
    "print(a)\n",
    "print(np.max(a_np))"
   ]
  },
  {
   "cell_type": "markdown",
   "metadata": {},
   "source": [
    "### ※ 문제101. 위의 결과를 numpy를 사용하지 않고 최댓값을 출력하시오"
   ]
  },
  {
   "cell_type": "code",
   "execution_count": 65,
   "metadata": {
    "ExecuteTime": {
     "end_time": "2020-05-18T01:04:36.101182Z",
     "start_time": "2020-05-18T01:04:36.097184Z"
    }
   },
   "outputs": [
    {
     "name": "stdout",
     "output_type": "stream",
     "text": [
      "40\n"
     ]
    }
   ],
   "source": [
    "b=[28,23,21,29,30,40,23,21]\n",
    "print(max(b))"
   ]
  },
  {
   "cell_type": "markdown",
   "metadata": {},
   "source": [
    "### ※ 문제102. 아래의 리스트에서 평균값을 출력하시오\n",
    "```python\n",
    "a=[28,23,21,29,30,40,23,21]\n",
    "```"
   ]
  },
  {
   "cell_type": "code",
   "execution_count": 71,
   "metadata": {
    "ExecuteTime": {
     "end_time": "2020-05-18T01:09:30.478580Z",
     "start_time": "2020-05-18T01:09:30.472586Z"
    }
   },
   "outputs": [
    {
     "name": "stdout",
     "output_type": "stream",
     "text": [
      "26.875\n",
      "26.875\n"
     ]
    }
   ],
   "source": [
    "# numpy 사용\n",
    "import numpy as np\n",
    "\n",
    "a=[28,23,21,29,30,40,23,21]\n",
    "a_np=np.array(a)\n",
    "print(np.mean(a))\n",
    "\n",
    "# numpy 사용 X\n",
    "a=[28,23,21,29,30,40,23,21]\n",
    "print(sum(a)/len(a))"
   ]
  },
  {
   "cell_type": "markdown",
   "metadata": {},
   "source": [
    "### ※ 문제103. 점심시간 문제를 numpy를 이용했을 때와 numpy를 이용하지 않았을 때로 수행하는데 아래의 리스트만 먼저 수행하시오\n",
    "```python\n",
    "b=[1,2,3,4,5,6,7,8,9]\n",
    "```"
   ]
  },
  {
   "cell_type": "code",
   "execution_count": 78,
   "metadata": {
    "ExecuteTime": {
     "end_time": "2020-05-18T01:17:34.309131Z",
     "start_time": "2020-05-18T01:17:34.302136Z"
    }
   },
   "outputs": [
    {
     "name": "stdout",
     "output_type": "stream",
     "text": [
      "5.0\n",
      "5\n"
     ]
    }
   ],
   "source": [
    "# numpy 사용\n",
    "import numpy as np\n",
    "b=[1,2,3,4,5,6,7,8,9]\n",
    "b_np=np.array(b)\n",
    "print(np.median(b_np))\n",
    "\n",
    "# numpy 사용 X\n",
    "if len(b)%2!=0:\n",
    "    print(b[int(len(b)/2)]) # 인덱스 번호는 정수"
   ]
  },
  {
   "cell_type": "markdown",
   "metadata": {},
   "source": [
    "### ※ 문제104. 점심시간 문제를 완성하시오 (numpy 이용 X)"
   ]
  },
  {
   "cell_type": "code",
   "execution_count": null,
   "metadata": {},
   "outputs": [],
   "source": []
  },
  {
   "cell_type": "markdown",
   "metadata": {},
   "source": [
    "### ■ list의 append 함수 소개\n",
    "#### list의 method중에 하나로 list의 맨 끝에 새로운 요소를 추가할 때 사용"
   ]
  },
  {
   "cell_type": "code",
   "execution_count": 79,
   "metadata": {
    "ExecuteTime": {
     "end_time": "2020-05-18T01:44:35.387939Z",
     "start_time": "2020-05-18T01:44:35.381943Z"
    }
   },
   "outputs": [
    {
     "data": {
      "text/plain": [
       "[7, 4, 6, 1, 5, 9]"
      ]
     },
     "execution_count": 79,
     "metadata": {},
     "output_type": "execute_result"
    }
   ],
   "source": [
    "a=[7,4,6,1]\n",
    "a.append(5)\n",
    "a.append(9)\n",
    "a"
   ]
  },
  {
   "cell_type": "markdown",
   "metadata": {},
   "source": [
    "### ※ 문제105. 숫자를 물어보게 하고 해당 숫자들의 평균값이 출력되게 하시오\n",
    "```\n",
    "숫자들을 입력하세요 ~ 2, 5, 6, 2, 6, 7\n",
    "평균값은 ? 입니다.\n",
    "```"
   ]
  },
  {
   "cell_type": "code",
   "execution_count": 104,
   "metadata": {
    "ExecuteTime": {
     "end_time": "2020-05-18T02:01:27.011152Z",
     "start_time": "2020-05-18T02:01:23.341423Z"
    }
   },
   "outputs": [
    {
     "name": "stdout",
     "output_type": "stream",
     "text": [
      "숫자들을 입력하세요 ~2,5,6,2,6,7\n",
      "['2', '5', '6', '2', '6', '7']\n",
      "[2, 5, 6, 2, 6, 7]\n",
      "평균값은 4.666666666666667 입니다\n"
     ]
    }
   ],
   "source": [
    "ls=[]\n",
    "a=input('숫자들을 입력하세요 ~').split(',')\n",
    "print(a)\n",
    "for i in a:\n",
    "    ls.append(int(i))\n",
    "print(ls)\n",
    "print('평균값은',sum(ls)/len(ls),'입니다')"
   ]
  },
  {
   "cell_type": "code",
   "execution_count": 105,
   "metadata": {
    "ExecuteTime": {
     "end_time": "2020-05-18T02:03:36.312219Z",
     "start_time": "2020-05-18T02:03:34.000023Z"
    }
   },
   "outputs": [
    {
     "name": "stdout",
     "output_type": "stream",
     "text": [
      "숫자를 입력하세요 ~ 2,3,4\n",
      "[2, 3, 4]\n"
     ]
    }
   ],
   "source": [
    "# split 예제\n",
    "a=input('숫자를 입력하세요 ~ ')\n",
    "b=a.split(',')\n",
    "c=[]\n",
    "for i in b:\n",
    "    c.append(int(i))\n",
    "print(c)"
   ]
  },
  {
   "cell_type": "markdown",
   "metadata": {},
   "source": [
    "### ※ 문제106. 입력되는 값의 평균값과 표준편차를 출력하시오(numpy 배열로 만들어서)\n",
    "```python\n",
    "숫자를 입력하세요 ~ 21,22,25,27,27,28,29,30,32,33\n",
    "평균값은 ~ 이고 표준편차는 ~ 입니다.\n",
    "```"
   ]
  },
  {
   "cell_type": "code",
   "execution_count": 113,
   "metadata": {
    "ExecuteTime": {
     "end_time": "2020-05-18T02:12:34.774223Z",
     "start_time": "2020-05-18T02:12:33.340155Z"
    }
   },
   "outputs": [
    {
     "name": "stdout",
     "output_type": "stream",
     "text": [
      "숫자를 입력하세요 ~ 21,22,25,27,27,28,29,30,32,33\n",
      "3.7202150475476548\n",
      "평균값은 27.4 이고 표준편차는 3.7202150475476548 입니다\n"
     ]
    }
   ],
   "source": [
    "import numpy as np\n",
    "a=input('숫자를 입력하세요 ~ ').split(',')\n",
    "a_ls=[]\n",
    "for i in a:\n",
    "    a_ls.append(int(i))\n",
    "# a_np=np.array(a_ls)\n",
    "print('평균값은',sum(a_np)/len(a_np),'이고 표준편차는',np.std(a_np),'입니다')\n"
   ]
  },
  {
   "cell_type": "markdown",
   "metadata": {},
   "source": [
    "### ※ 문제107. 위의 표준편차를 numpy 이용하지 말고 표준편차 구하는 수학공식을 구현해서 수행하시오\n",
    "```\n",
    "편차=실제값-평균값\n",
    "편차제곱의 합 = \n",
    "[32,30,26,25,34,25,27,31,27,28,32,30,29,27,34,26,31,27,25,27,27,25,32,26,31,24,25,29,40]\n",
    "```"
   ]
  },
  {
   "cell_type": "code",
   "execution_count": 127,
   "metadata": {
    "ExecuteTime": {
     "end_time": "2020-05-18T02:24:20.609448Z",
     "start_time": "2020-05-18T02:24:20.603452Z"
    }
   },
   "outputs": [
    {
     "name": "stdout",
     "output_type": "stream",
     "text": [
      "[40.95999999999998, 29.159999999999986, 5.759999999999994, 0.15999999999999887, 0.15999999999999887, 0.3600000000000017, 2.5600000000000045, 6.760000000000008, 21.160000000000014, 31.360000000000017]\n",
      "3.7202150475476548\n"
     ]
    }
   ],
   "source": [
    "dev=[]\n",
    "for i in a_ls:\n",
    "    dev.append((i-(sum(a_ls)/len(a_ls)))**2)\n",
    "print(dev)\n",
    "var=sum(dev)/len(dev)\n",
    "print(np.sqrt(var))\n",
    "# print(np.sqrt(sum(dev)/len(dev)))"
   ]
  },
  {
   "cell_type": "code",
   "execution_count": 132,
   "metadata": {
    "ExecuteTime": {
     "end_time": "2020-05-18T02:42:17.279395Z",
     "start_time": "2020-05-18T02:42:17.273398Z"
    }
   },
   "outputs": [
    {
     "name": "stdout",
     "output_type": "stream",
     "text": [
      "표준편차는 3.5535649732381387 입니다\n"
     ]
    }
   ],
   "source": [
    "ls=[32,30,26,25,34,25,27,31,27,28,32,30,29,27,34,26,31,27,25,27,27,25,32,26,31,24,25,29,40]\n",
    "avg=sum(ls)/len(ls)\n",
    "dev=list(map(lambda x:(x-avg)**2, ls))\n",
    "var=sum(dev)/len(dev)\n",
    "print('표준편차는',np.sqrt(var),'입니다')"
   ]
  },
  {
   "cell_type": "code",
   "execution_count": 133,
   "metadata": {
    "ExecuteTime": {
     "end_time": "2020-05-18T02:42:19.111003Z",
     "start_time": "2020-05-18T02:42:19.105005Z"
    }
   },
   "outputs": [
    {
     "name": "stdout",
     "output_type": "stream",
     "text": [
      "표준편차는 3.5535649732381387 입니다.\n"
     ]
    }
   ],
   "source": [
    "ls=[32,30,26,25,34,25,27,31,27,28,32,30,29,27,34,26,31,27,25,27,27,25,32,26,31,24,25,29,40]\n",
    "avg=sum(ls)/len(ls) # 평균\n",
    "dev=[] # 편차 리스트 생성\n",
    "for i in ls:\n",
    "    dev.append((i-avg)**2) # 편차값 대입\n",
    "var=sum(dev)/len(dev) # 분산값\n",
    "print('표준편차는',np.sqrt(var),'입니다.')"
   ]
  },
  {
   "cell_type": "code",
   "execution_count": null,
   "metadata": {},
   "outputs": [],
   "source": [
    "import math\n",
    "\n",
    "a = input('').split(',')\n",
    "c = []\n",
    "m = 0\n",
    "ss= 0\n",
    "\n",
    "for i in a:\n",
    "    c.append(int(i))\n",
    "m = sum(c)/len(c)\n",
    "\n",
    "for j in c:\n",
    "    ss += (j-m)**2\n",
    "s = math.sqrt(ss/len(c))\n",
    "\n",
    "print(m, s)"
   ]
  },
  {
   "cell_type": "markdown",
   "metadata": {},
   "source": [
    "### ■ 수학 스터디 통계3-2 자료\n",
    "#### 정규분포에서 68%에 해당하는 1 표준편차 범위 내에 데이터를 출력하는 파이썬 코드를 작성하시오"
   ]
  },
  {
   "cell_type": "markdown",
   "metadata": {},
   "source": [
    "### ※ 문제108.(파이썬 알고리즘 문제 21번) 아래의 나이 데이터에서 정규분포 68%에 해당하는 나이만 출력하시오(1 표준편차)"
   ]
  },
  {
   "cell_type": "code",
   "execution_count": 144,
   "metadata": {
    "ExecuteTime": {
     "end_time": "2020-05-18T03:03:17.265206Z",
     "start_time": "2020-05-18T03:03:17.255211Z"
    }
   },
   "outputs": [
    {
     "name": "stdout",
     "output_type": "stream",
     "text": [
      "표준편차는 3.5535649732381387 입니다.\n",
      "[30, 26, 25, 25, 27, 31, 27, 28, 30, 29, 27, 26, 31, 27, 25, 27, 27, 25, 26, 31, 25, 29]\n"
     ]
    }
   ],
   "source": [
    "ls=[32,30,26,25,34,25,27,31,27,28,32,30,29,27,34,26,31,27,25,27,27,25,32,26,31,24,25,29,40]\n",
    "avg=sum(ls)/len(ls) # 평균\n",
    "dev=[] # 편차 리스트 생성\n",
    "for i in ls:\n",
    "    dev.append((i-avg)**2) # 편차제곱값 대입\n",
    "var=sum(dev)/len(dev) # 분산값\n",
    "stddev=np.sqrt(var) # 표준편차값\n",
    "print('표준편차는',np.sqrt(var),'입니다.')\n",
    "dev1=[] # 1표준편차 범위 리스트 생성\n",
    "for i in ls:\n",
    "    if i in range(int(avg-stddev),int(avg+stddev)): # (평균-1표준편차,평균+1표준편차) 범위\n",
    "        dev1.append(i)\n",
    "print(dev1)"
   ]
  },
  {
   "cell_type": "code",
   "execution_count": 145,
   "metadata": {
    "ExecuteTime": {
     "end_time": "2020-05-18T03:08:13.377571Z",
     "start_time": "2020-05-18T03:08:13.368576Z"
    }
   },
   "outputs": [
    {
     "name": "stdout",
     "output_type": "stream",
     "text": [
      "표준편차는 3.5535649732381387 입니다.\n",
      "[30, 26, 25, 25, 27, 31, 27, 28, 30, 29, 27, 26, 31, 27, 25, 27, 27, 25, 26, 31, 25, 29]\n"
     ]
    }
   ],
   "source": [
    "ls=[32,30,26,25,34,25,27,31,27,28,32,30,29,27,34,26,31,27,25,27,27,25,32,26,31,24,25,29,40]\n",
    "avg=sum(ls)/len(ls) # 평균\n",
    "devexp=list(map(lambda x:(x-avg)**2,ls)) # 편차제곱값 대입\n",
    "var=sum(devexp)/len(devexp) # 분산값\n",
    "stddev=np.sqrt(var) # 표준편차값\n",
    "print('표준편차는',np.sqrt(var),'입니다.')\n",
    "\n",
    "dev1=[i for i in ls if i in range(int(avg-stddev),int(avg+stddev))]\n",
    "print(dev1)"
   ]
  },
  {
   "cell_type": "markdown",
   "metadata": {},
   "source": [
    "### ※ 문제109. 초등학생 키 데이터를 120에서 160사이의 데이터로 아래와 같이 생성하시오\n",
    "```python\n",
    "import numpy as np\n",
    "x=np.arange(120,160,0.001)\n",
    "print(x)\n",
    "```"
   ]
  },
  {
   "cell_type": "code",
   "execution_count": 147,
   "metadata": {
    "ExecuteTime": {
     "end_time": "2020-05-18T04:44:35.826242Z",
     "start_time": "2020-05-18T04:44:35.821245Z"
    }
   },
   "outputs": [
    {
     "name": "stdout",
     "output_type": "stream",
     "text": [
      "[120.    120.001 120.002 ... 159.997 159.998 159.999]\n",
      "40000\n"
     ]
    }
   ],
   "source": [
    "import numpy as np\n",
    "x=np.arange(120,160,0.001)\n",
    "print(x)\n",
    "print(len(x))"
   ]
  },
  {
   "cell_type": "markdown",
   "metadata": {},
   "source": [
    "### ※ 문제110. 위의 x에 대한 확률밀도함수의 y값을 출력하시오"
   ]
  },
  {
   "cell_type": "code",
   "execution_count": 149,
   "metadata": {
    "ExecuteTime": {
     "end_time": "2020-05-18T04:53:29.652445Z",
     "start_time": "2020-05-18T04:53:27.753520Z"
    }
   },
   "outputs": [
    {
     "name": "stdout",
     "output_type": "stream",
     "text": [
      "[2.67660452e-05 2.67874660e-05 2.68089030e-05 ... 2.68303560e-05\n",
      " 2.68089030e-05 2.67874660e-05]\n"
     ]
    },
    {
     "data": {
      "text/plain": [
       "[<matplotlib.lines.Line2D at 0x2b9fd6b27c8>]"
      ]
     },
     "execution_count": 149,
     "metadata": {},
     "output_type": "execute_result"
    },
    {
     "data": {
      "image/png": "[encoded data removed]",
      "text/plain": [
       "<Figure size 432x288 with 1 Axes>"
      ]
     },
     "metadata": {
      "needs_background": "light"
     },
     "output_type": "display_data"
    }
   ],
   "source": [
    "import numpy as np\n",
    "from scipy.stats import norm\n",
    "import matplotlib.pyplot as plt\n",
    "\n",
    "x=np.arange(120,160,0.001)\n",
    "y=norm.pdf(x,140,5) # 평균 140에 표준편차 5에 해당하는 확률밀도함수\n",
    "print(y)\n"
   ]
  },
  {
   "cell_type": "markdown",
   "metadata": {},
   "source": [
    "### ※ 문제111. 위의 x,y축 데이터를 가지고 정규분포 데이터를 그리시오"
   ]
  },
  {
   "cell_type": "code",
   "execution_count": null,
   "metadata": {},
   "outputs": [],
   "source": [
    "plt.plot(x,y,color='red')"
   ]
  },
  {
   "cell_type": "markdown",
   "metadata": {},
   "source": [
    "### ※ 문제112.(생각해야할 문제)(파이썬 알고리즘 문제 22번)신뢰구간 95% 구간을 아래와 같이 시각화하시오"
   ]
  },
  {
   "cell_type": "code",
   "execution_count": 207,
   "metadata": {
    "ExecuteTime": {
     "end_time": "2020-05-18T05:41:06.195464Z",
     "start_time": "2020-05-18T05:41:06.002582Z"
    }
   },
   "outputs": [
    {
     "name": "stdout",
     "output_type": "stream",
     "text": [
      "[2.67660452e-05 2.67874660e-05 2.68089030e-05 ... 2.68303560e-05\n",
      " 2.68089030e-05 2.67874660e-05]\n"
     ]
    },
    {
     "data": {
      "text/plain": [
       "<matplotlib.collections.PolyCollection at 0x2b989c6f088>"
      ]
     },
     "execution_count": 207,
     "metadata": {},
     "output_type": "execute_result"
    },
    {
     "data": {
      "image/png": "[encoded data removed]",
      "text/plain": [
       "<Figure size 432x288 with 1 Axes>"
      ]
     },
     "metadata": {
      "needs_background": "light"
     },
     "output_type": "display_data"
    }
   ],
   "source": [
    "import numpy as np\n",
    "from scipy.stats import norm\n",
    "import matplotlib.pyplot as plt\n",
    "\n",
    "x=np.arange(120,160,0.001)\n",
    "y=norm.pdf(x,140,5) # 평균 140에 표준편차 5에 해당하는 확률밀도함수\n",
    "print(y)\n",
    "\n",
    "plt.plot(x,y,color='red')\n",
    "plt.fill_between(x, y, where=abs(140-x)<1.96*5, interpolate=True, color='green', alpha=0.5)"
   ]
  },
  {
   "cell_type": "markdown",
   "metadata": {},
   "source": [
    "### ■ 예제48. 파일 열고 닫기(open, close)\n",
    "#### 파일은 텍스트 파일과 바이너리 파일 두가지 종류가 있다\n",
    "```\n",
    "텍스트 파일: 사람이 읽을 수 있는 글자로 저장된 파일\n",
    "바이너리 파일: 컴퓨터가 읽고 이해할 수 있는 이진 데이터를 기록한 파일\n",
    "```\n",
    "윈도우에서 제공하는 메모장 프로그램을 이용하여 내용을 적고 저장하면 텍스트 파일로 저장된다\n",
    "이미지 뷰어로 볼 수 있는 jpg 이미지 파일은 이진 데이터를 jpg 형식의 파일로 저장한 바이너리 파일\n",
    "파이썬에서 파일을 다루기 위해서 가장 먼저 해야할 일은 파일을 오픈하는 것. 파일을 오픈하기 위해서는 open() 함수 사용\n",
    "```python\n",
    "open(파일이름, 모드)\n",
    "               r     텍스트 모드로 읽기\n",
    "               w     텍스트 모드로 쓰기\n",
    "               rb    바이너리 모드로 읽기\n",
    "               wb    바이너리 모드로 쓰기\n",
    "                ```"
   ]
  },
  {
   "cell_type": "markdown",
   "metadata": {},
   "source": [
    "### 예제1. 이미지 파일을 파이썬에서 여는 방법\n",
    "1. lena.png 파일 -> 폴더 저장   \n",
    "2. 아래의 코드를 실행   \n",
    "\n",
    "```python\n",
    "import PIL.Image as pilimg\n",
    "import numpy as np\n",
    "import matplotlib.pyplot as plt\n",
    "\n",
    "im=pilimg.open('k:\\\\itwill\\\\python\\\\lena.png')\n",
    "pix=np.array(im)\n",
    "plt.imshow(pix)\n",
    "```\n"
   ]
  },
  {
   "cell_type": "code",
   "execution_count": 170,
   "metadata": {
    "ExecuteTime": {
     "end_time": "2020-05-18T05:17:02.298650Z",
     "start_time": "2020-05-18T05:17:02.103771Z"
    }
   },
   "outputs": [
    {
     "data": {
      "text/plain": [
       "<matplotlib.image.AxesImage at 0x2b98241ac88>"
      ]
     },
     "execution_count": 170,
     "metadata": {},
     "output_type": "execute_result"
    },
    {
     "data": {
      "image/png": "[encoded data removed]",
      "text/plain": [
       "<Figure size 432x288 with 1 Axes>"
      ]
     },
     "metadata": {
      "needs_background": "light"
     },
     "output_type": "display_data"
    }
   ],
   "source": [
    "import PIL.Image as pilimg\n",
    "import numpy as np\n",
    "import matplotlib.pyplot as plt\n",
    "\n",
    "im=pilimg.open('K:\\\\Itwill\\\\2. Python\\\\lena.png') # 이미지를 파이썬에서 open\n",
    "pix=np.array(im) # 넘파이 array로 변환\n",
    "plt.imshow(pix) # 시각화"
   ]
  },
  {
   "cell_type": "markdown",
   "metadata": {},
   "source": [
    "### ※ 문제113. 폐사진을 파이썬에서 시각화 하시오"
   ]
  },
  {
   "cell_type": "code",
   "execution_count": 175,
   "metadata": {
    "ExecuteTime": {
     "end_time": "2020-05-18T05:20:52.583430Z",
     "start_time": "2020-05-18T05:20:52.403542Z"
    }
   },
   "outputs": [
    {
     "data": {
      "text/plain": [
       "<matplotlib.image.AxesImage at 0x2b982721cc8>"
      ]
     },
     "execution_count": 175,
     "metadata": {},
     "output_type": "execute_result"
    },
    {
     "data": {
      "image/png": "[encoded data removed]",
      "text/plain": [
       "<Figure size 432x288 with 1 Axes>"
      ]
     },
     "metadata": {
      "needs_background": "light"
     },
     "output_type": "display_data"
    }
   ],
   "source": [
    "im=pilimg.open('K:\\\\Itwill\\\\2. Python\\\\2.png') # 이미지를 파이썬에서 open\n",
    "pix=np.array(im) # 넘파이 array로 변환\n",
    "plt.imshow(pix) # 시각화"
   ]
  },
  {
   "cell_type": "markdown",
   "metadata": {},
   "source": [
    "### ■ 예제49. 클래스 이해하기 (class)\n",
    "#### 객체 지향 프로그램에서 중요한 단어가 바로 클래스\n",
    "#### 클래스는 프로그래머가 지정한 이름을 만든 하나의 독립된 공간이며, 이름공간(name space)이라 부름\n",
    "#### 클래스를 구성하는 주요 요소는 클래스에서 변수 역할을 하는 클래스 멤버와 함수와 동일한 역할을 하는 클래스 메소드\n",
    "```python\n",
    "   객체 = 클래스\n",
    "    ```"
   ]
  },
  {
   "cell_type": "code",
   "execution_count": 209,
   "metadata": {
    "ExecuteTime": {
     "end_time": "2020-05-18T05:49:32.595647Z",
     "start_time": "2020-05-18T05:49:32.588652Z"
    }
   },
   "outputs": [],
   "source": [
    "# 예제1. 총 클래스(설계도)를 생성하고 객체화 시키시오\n",
    "class Gun(): # 클래스 이름의 첫 철자는 대문자로 권장\n",
    "    def __init__(self): # 클래스를 가지고 객체를 만드는 순간 바로 작동하는 함수\n",
    "        self.bullet = 0\n",
    "        \n",
    "    def charge(self, num): # 총알을 장전하는 함수\n",
    "        self.bullet=num\n",
    "        \n",
    "    def shoot(self, num): # 총을 쏘는 함수\n",
    "        for i in range(num):\n",
    "            if self.bullet>0:\n",
    "                print('Baam')\n",
    "                self.bullet -= 1\n",
    "            elif self.bullet==0:\n",
    "                print('No bullet')\n",
    "                break        "
   ]
  },
  {
   "cell_type": "markdown",
   "metadata": {},
   "source": [
    "총 설계도를 가지고 총 하나를 생산한다\n",
    "```python\n",
    "gun1=Gun()\n",
    "객체  클래스\n",
    "제품  설계도\n",
    "```\n"
   ]
  },
  {
   "cell_type": "code",
   "execution_count": 213,
   "metadata": {
    "ExecuteTime": {
     "end_time": "2020-05-18T06:00:31.630109Z",
     "start_time": "2020-05-18T06:00:31.625113Z"
    }
   },
   "outputs": [
    {
     "name": "stdout",
     "output_type": "stream",
     "text": [
      "Baam\n",
      "Baam\n",
      "Baam\n"
     ]
    }
   ],
   "source": [
    "gun1=Gun()\n",
    "gun1.charge(10) # 총알 3발 충전\n",
    "gun1.shoot(3) # 3발 격발"
   ]
  },
  {
   "cell_type": "code",
   "execution_count": 220,
   "metadata": {
    "ExecuteTime": {
     "end_time": "2020-05-18T06:01:55.242193Z",
     "start_time": "2020-05-18T06:01:55.239188Z"
    }
   },
   "outputs": [
    {
     "name": "stdout",
     "output_type": "stream",
     "text": [
      "No bullet\n"
     ]
    }
   ],
   "source": [
    "gun1.shoot(3)"
   ]
  },
  {
   "cell_type": "markdown",
   "metadata": {},
   "source": [
    "### ※ 문제114. 총 클래스를 가지고 gun2를 생산하고 총알을 충전하는데 총알을 충전했을 때 몇 발 충전했습니다 라는 메세지가 출력되게 하시오"
   ]
  },
  {
   "cell_type": "code",
   "execution_count": 243,
   "metadata": {
    "ExecuteTime": {
     "end_time": "2020-05-18T06:10:30.493475Z",
     "start_time": "2020-05-18T06:10:30.485480Z"
    }
   },
   "outputs": [],
   "source": [
    "class Gun(): # 클래스 이름의 첫 철자는 대문자로 권장\n",
    "    def __init__(self): # 클래스를 가지고 객체를 만드는 순간 바로 작동하는 함수\n",
    "        self.bullet = 0\n",
    "        \n",
    "    def charge(self, num): # 총알을 장전하는 함수\n",
    "        self.bullet += num\n",
    "        print(f'{num}발 충전되었습니다.')\n",
    "        if self.bullet >15:\n",
    "            self.bullet=15\n",
    "            print(f'{self.bullet-num}발 충전되었습니다')\n",
    "            print('최대 장전')\n",
    "            print(f'현재 장전 수 {self.bullet}')\n",
    "        \n",
    "    def shoot(self, num): # 총을 쏘는 함수\n",
    "        for i in range(num):\n",
    "            if self.bullet>0:\n",
    "                print('Baam')\n",
    "                self.bullet -= 1\n",
    "            elif self.bullet==0:\n",
    "                print('No bullet')\n",
    "                break   "
   ]
  },
  {
   "cell_type": "code",
   "execution_count": 244,
   "metadata": {
    "ExecuteTime": {
     "end_time": "2020-05-18T06:10:31.274884Z",
     "start_time": "2020-05-18T06:10:31.269887Z"
    }
   },
   "outputs": [
    {
     "name": "stdout",
     "output_type": "stream",
     "text": [
      "10발 충전되었습니다.\n"
     ]
    }
   ],
   "source": [
    "gun2=Gun()\n",
    "gun2.charge(10)"
   ]
  },
  {
   "cell_type": "code",
   "execution_count": 245,
   "metadata": {
    "ExecuteTime": {
     "end_time": "2020-05-18T06:10:31.676389Z",
     "start_time": "2020-05-18T06:10:31.672391Z"
    }
   },
   "outputs": [
    {
     "name": "stdout",
     "output_type": "stream",
     "text": [
      "10발 충전되었습니다.\n",
      "5발 충전되었습니다\n",
      "최대 장전\n",
      "현재 장전 수 15\n"
     ]
    }
   ],
   "source": [
    "gun2.charge(10)"
   ]
  },
  {
   "cell_type": "markdown",
   "metadata": {},
   "source": [
    "### 문제115. 이번에는 총(제품)이 생산될 때 총이 만들어졌습니다. 라는 메세지가 출력되게 하고 현재 0발이 장전되어있습니다."
   ]
  },
  {
   "cell_type": "code",
   "execution_count": 246,
   "metadata": {
    "ExecuteTime": {
     "end_time": "2020-05-18T06:11:47.712129Z",
     "start_time": "2020-05-18T06:11:47.705132Z"
    }
   },
   "outputs": [],
   "source": [
    "class Gun(): \n",
    "    def __init__(self): \n",
    "        self.bullet = 0\n",
    "        print(f'총이 생산되었습니다. 현재 {self.bullet}발이 장전되어있습니다.')\n",
    "        \n",
    "    def charge(self, num): # 총알을 장전하는 함수\n",
    "        self.bullet += num\n",
    "        print(f'{num}발 충전되었습니다.')\n",
    "        if self.bullet >15:\n",
    "            self.bullet=15\n",
    "            print(f'{self.bullet-num}발 충전되었습니다')\n",
    "            print('최대 장전')\n",
    "            print(f'현재 장전 수 {self.bullet}')\n",
    "        \n",
    "    def shoot(self, num): # 총을 쏘는 함수\n",
    "        for i in range(num):\n",
    "            if self.bullet>0:\n",
    "                print('Baam')\n",
    "                self.bullet -= 1\n",
    "            elif self.bullet==0:\n",
    "                print('No bullet')\n",
    "                break  "
   ]
  },
  {
   "cell_type": "code",
   "execution_count": 247,
   "metadata": {
    "ExecuteTime": {
     "end_time": "2020-05-18T06:11:52.963341Z",
     "start_time": "2020-05-18T06:11:52.960343Z"
    }
   },
   "outputs": [
    {
     "name": "stdout",
     "output_type": "stream",
     "text": [
      "총이 생산되었습니다. 현재 0발이 장전되어있습니다.\n"
     ]
    }
   ],
   "source": [
    "gun4=Gun()"
   ]
  },
  {
   "cell_type": "markdown",
   "metadata": {},
   "source": [
    "### ※ 문제116. Gun 클래스 내에 print 함수를 넣어서 아래와 같이 총알이 몇발 남았는지 출력되게 하시오"
   ]
  },
  {
   "cell_type": "code",
   "execution_count": 249,
   "metadata": {
    "ExecuteTime": {
     "end_time": "2020-05-18T06:17:22.135818Z",
     "start_time": "2020-05-18T06:17:22.127824Z"
    }
   },
   "outputs": [],
   "source": [
    "class Gun(): \n",
    "    def __init__(self): \n",
    "        self.bullet = 0\n",
    "        print(f'총이 생산되었습니다. 현재 {self.bullet}발이 장전되어있습니다.')\n",
    "        \n",
    "    def charge(self, num): # 총알을 장전하는 함수\n",
    "        self.bullet += num\n",
    "        print(f'{num}발 충전되었습니다.')\n",
    "        if self.bullet >15:\n",
    "            self.bullet=15\n",
    "            print(f'{self.bullet-num}발 충전되었습니다')\n",
    "            print('최대 장전')\n",
    "            print(f'현재 장전 수 {self.bullet}')\n",
    "        \n",
    "    def shoot(self, num): # 총을 쏘는 함수\n",
    "        for i in range(num):\n",
    "            if self.bullet>0:\n",
    "                print('Baam')\n",
    "                self.bullet -= 1\n",
    "                print(f'남은 장탄수 {self.bullet}')\n",
    "            elif self.bullet==0:\n",
    "                print('No bullet')\n",
    "                break "
   ]
  },
  {
   "cell_type": "code",
   "execution_count": 250,
   "metadata": {
    "ExecuteTime": {
     "end_time": "2020-05-18T06:17:27.001476Z",
     "start_time": "2020-05-18T06:17:26.997478Z"
    }
   },
   "outputs": [
    {
     "name": "stdout",
     "output_type": "stream",
     "text": [
      "총이 생산되었습니다. 현재 0발이 장전되어있습니다.\n"
     ]
    }
   ],
   "source": [
    "gun5=Gun()"
   ]
  },
  {
   "cell_type": "code",
   "execution_count": 251,
   "metadata": {
    "ExecuteTime": {
     "end_time": "2020-05-18T06:17:48.434986Z",
     "start_time": "2020-05-18T06:17:48.430989Z"
    }
   },
   "outputs": [
    {
     "name": "stdout",
     "output_type": "stream",
     "text": [
      "10발 충전되었습니다.\n",
      "Baam\n",
      "남은 장탄수 9\n",
      "Baam\n",
      "남은 장탄수 8\n",
      "Baam\n",
      "남은 장탄수 7\n",
      "Baam\n",
      "남은 장탄수 6\n",
      "Baam\n",
      "남은 장탄수 5\n"
     ]
    }
   ],
   "source": [
    "gun5.charge(10)\n",
    "gun5.shoot(5)"
   ]
  },
  {
   "cell_type": "code",
   "execution_count": 252,
   "metadata": {
    "ExecuteTime": {
     "end_time": "2020-05-18T06:18:28.036978Z",
     "start_time": "2020-05-18T06:18:28.031983Z"
    }
   },
   "outputs": [
    {
     "name": "stdout",
     "output_type": "stream",
     "text": [
      "Baam\n",
      "남은 장탄수 4\n",
      "Baam\n",
      "남은 장탄수 3\n",
      "Baam\n",
      "남은 장탄수 2\n",
      "Baam\n",
      "남은 장탄수 1\n",
      "Baam\n",
      "남은 장탄수 0\n",
      "No bullet\n"
     ]
    }
   ],
   "source": [
    "gun5.shoot(10)"
   ]
  },
  {
   "cell_type": "markdown",
   "metadata": {},
   "source": [
    "### ※ 객체 지향 언어의 장점? (면접질문)\n",
    "#### 상속이 가능해서 중요하고 기본적인 코드는 상속을 받고 다른 기능만 구현하면 된다.\n",
    "```\n",
    "팀장 → 기본 카드 클래스(기본적인 기능)\n",
    "           팀원1 → 상속 후 영화할인 카드\n",
    "           팀원2 → 상속 후 주유 할인 카드\n",
    "           ``` "
   ]
  },
  {
   "cell_type": "markdown",
   "metadata": {},
   "source": [
    "### ※ 문제117. 위의 총 클래스를 가져다 카드 클래스로 생성하시오"
   ]
  },
  {
   "cell_type": "code",
   "execution_count": 300,
   "metadata": {
    "ExecuteTime": {
     "end_time": "2020-05-18T06:55:29.080137Z",
     "start_time": "2020-05-18T06:55:29.074141Z"
    }
   },
   "outputs": [],
   "source": [
    "class Card():\n",
    "    def __init__(self):\n",
    "        self.cash=0\n",
    "        print('카드가 발급 되었습니다.')\n",
    "        \n",
    "    def charge(self, num):\n",
    "        self.cash += num\n",
    "        print(f'{num}원 충전 되었습니다.\\n남은 잔액: {self.cash}원')\n",
    "                \n",
    "    def consume(self,num):\n",
    "        if self.cash-num<0:\n",
    "            print(f'잔액이 부족합니다.\\n 남은 금액:{self.cash}')\n",
    "        else:\n",
    "            self.cash -= num\n",
    "            print(f'{num}원 사용 되었습니다.\\n 남은 금액: {self.cash}원')\n",
    "            \n",
    "            "
   ]
  },
  {
   "cell_type": "code",
   "execution_count": 308,
   "metadata": {
    "ExecuteTime": {
     "end_time": "2020-05-18T06:57:10.396617Z",
     "start_time": "2020-05-18T06:57:10.391620Z"
    }
   },
   "outputs": [
    {
     "name": "stdout",
     "output_type": "stream",
     "text": [
      "카드가 발급 되었습니다.\n",
      "10000원 충전 되었습니다.\n",
      "남은 잔액: 10000원\n",
      "잔액이 부족합니다.\n",
      " 남은 금액:10000\n"
     ]
    }
   ],
   "source": [
    "card1=Card()\n",
    "card1.charge(10000)\n",
    "card1.consume(11000)"
   ]
  },
  {
   "cell_type": "markdown",
   "metadata": {},
   "source": [
    "### ■ 예제51. 클래스 메소드(함수) 이해하기\n",
    "#### card 클래스의 consume과 charge가 바로 메소드(기능)"
   ]
  },
  {
   "cell_type": "markdown",
   "metadata": {},
   "source": [
    "#### 예제1. 리스트 자료형일때\n",
    "```python\n",
    "a=[7,4,6,1]                    card1=Card()\n",
    "  a.append(9)                 card1.charge(1000)\n",
    "객체.메소드                      객체.메소드\n",
    "```"
   ]
  },
  {
   "cell_type": "markdown",
   "metadata": {},
   "source": [
    "#### ※ 리스트 객체의 유용한 메소드\n",
    "```\n",
    "번호   메소드      설명\n",
    " 1    append()   리스트 맨 끝에 새로운 요소를 추가할 때 사용\n",
    " 2    count()    리스트에서 특정 요소의 갯수를 카운트할 때 사용\n",
    " 3    insert()   리스트의 특정 위치에 요소를 입력할 때 사용\n",
    " 4    remove()   리스트의 특정 요소를 제거할 때 사용\n",
    " 5    sort()     리스트의 요소를 순차적으로 정렬할 때 사용\n",
    " 6    reverse()  리스트의 요소를 역순으로 정렬할 때 사용\n",
    " 7    index()    리스트의 특정 요소의 위치를 출력할 때 사용\n",
    " ```"
   ]
  },
  {
   "cell_type": "markdown",
   "metadata": {},
   "source": [
    "#### 예제2. count test"
   ]
  },
  {
   "cell_type": "code",
   "execution_count": 313,
   "metadata": {
    "ExecuteTime": {
     "end_time": "2020-05-18T07:09:02.127768Z",
     "start_time": "2020-05-18T07:09:02.123770Z"
    }
   },
   "outputs": [
    {
     "name": "stdout",
     "output_type": "stream",
     "text": [
      "2\n"
     ]
    }
   ],
   "source": [
    "a=[7,4,6,1,5,6]\n",
    "print(a.count(6))"
   ]
  },
  {
   "cell_type": "markdown",
   "metadata": {},
   "source": [
    "#### 예제3. sort test"
   ]
  },
  {
   "cell_type": "code",
   "execution_count": 316,
   "metadata": {
    "ExecuteTime": {
     "end_time": "2020-05-18T07:10:05.770962Z",
     "start_time": "2020-05-18T07:10:05.765964Z"
    }
   },
   "outputs": [
    {
     "name": "stdout",
     "output_type": "stream",
     "text": [
      "[1, 4, 5, 6, 6, 7]\n"
     ]
    }
   ],
   "source": [
    "a.sort()\n",
    "print(a)"
   ]
  },
  {
   "cell_type": "markdown",
   "metadata": {},
   "source": [
    "#### 예제4. reverse test"
   ]
  },
  {
   "cell_type": "code",
   "execution_count": 317,
   "metadata": {
    "ExecuteTime": {
     "end_time": "2020-05-18T07:11:23.633195Z",
     "start_time": "2020-05-18T07:11:23.629196Z"
    }
   },
   "outputs": [
    {
     "name": "stdout",
     "output_type": "stream",
     "text": [
      "[7, 6, 6, 5, 4, 1]\n"
     ]
    }
   ],
   "source": [
    "a.reverse()\n",
    "print(a)"
   ]
  },
  {
   "cell_type": "markdown",
   "metadata": {},
   "source": [
    "### ※ 문제118.(파이썬 알고리즘 문제 23번) 아래의 리스트에서 최빈값을 출력하시오"
   ]
  },
  {
   "cell_type": "code",
   "execution_count": 360,
   "metadata": {
    "ExecuteTime": {
     "end_time": "2020-05-18T08:13:10.222073Z",
     "start_time": "2020-05-18T08:13:10.214078Z"
    },
    "hide_input": false
   },
   "outputs": [
    {
     "name": "stdout",
     "output_type": "stream",
     "text": [
      "27 6\n"
     ]
    }
   ],
   "source": [
    "ls=[32,30,26,25,34,25,27,31,27,28,32,30,29,27,34,26,31,27,25,27,27,25,32,26,31,24,25,29,40]\n",
    "b={}\n",
    "for i in ls:\n",
    "    if b.get(i)==None:\n",
    "        b[i]=1\n",
    "    else:\n",
    "        b[i] += 1\n",
    "\n",
    "age=0\n",
    "age_cnt=0\n",
    "\n",
    "for i in b:\n",
    "    if b[i] > age_cnt:\n",
    "        age = i\n",
    "        age_cnt = b[i]\n",
    "        \n",
    "print(f'{age}살, {age_cnt}명')"
   ]
  },
  {
   "cell_type": "code",
   "execution_count": 355,
   "metadata": {
    "ExecuteTime": {
     "end_time": "2020-05-18T07:52:43.875022Z",
     "start_time": "2020-05-18T07:52:43.868026Z"
    }
   },
   "outputs": [
    {
     "name": "stdout",
     "output_type": "stream",
     "text": [
      "27 6\n"
     ]
    }
   ],
   "source": [
    "ls=[32,30,26,25,34,25,27,31,27,28,32,30,29,27,34,26,31,27,25,27,27,25,32,26,31,24,25,29,40]\n",
    "set_ls=set(ls)\n",
    "age=0\n",
    "age_cnt=0\n",
    "\n",
    "for i in set_ls:\n",
    "    if age_cnt < ls.count(i):\n",
    "        age = i\n",
    "        age_cnt = ls.count(i)\n",
    "    elif age_cnt==ls.count(i):\n",
    "        \n",
    "        \n",
    "print(age,age_cnt)"
   ]
  },
  {
   "cell_type": "code",
   "execution_count": 363,
   "metadata": {
    "ExecuteTime": {
     "end_time": "2020-05-18T08:30:42.532111Z",
     "start_time": "2020-05-18T08:30:42.525114Z"
    }
   },
   "outputs": [
    {
     "data": {
      "text/plain": [
       "27"
      ]
     },
     "execution_count": 363,
     "metadata": {},
     "output_type": "execute_result"
    }
   ],
   "source": [
    "import statistics as st\n",
    "\n",
    "a = [32,30,26,25,34,25,27,31,27,28,32,30,29,27,34,26,31,27,25,27,27,25,32,26,31,24,25,29,40]\n",
    "\n",
    "st.mode(a)"
   ]
  },
  {
   "cell_type": "code",
   "execution_count": null,
   "metadata": {},
   "outputs": [],
   "source": []
  },
  {
   "cell_type": "code",
   "execution_count": null,
   "metadata": {},
   "outputs": [],
   "source": []
  },
  {
   "cell_type": "markdown",
   "metadata": {},
   "source": [
    "### ※(점심시간 문제)(파이썬 알고리즘 문제 19번) 숫자를 물어보게 하고 해당 숫자들의 리스트에서 중앙값을 출력하시오\n",
    "#### 숫자를 입력하세요 ~ [1,2,3,4,5,6,7,8,9]\n",
    "#### 중앙값은 5 입니다"
   ]
  },
  {
   "cell_type": "code",
   "execution_count": 58,
   "metadata": {
    "ExecuteTime": {
     "end_time": "2020-05-18T00:55:27.424952Z",
     "start_time": "2020-05-18T00:55:26.346641Z"
    }
   },
   "outputs": [
    {
     "name": "stdout",
     "output_type": "stream",
     "text": [
      "숫자를 입력하세요 ~11\n",
      "중앙값은 6입니다\n"
     ]
    }
   ],
   "source": [
    "a=list(range(1, int(input('숫자를 입력하세요 ~'))))\n",
    "\n",
    "if len(a)%2!=1:\n",
    "    print('중앙값은 '+str(a[int((len(a)/2))])+'입니다')\n",
    "else:\n",
    "    print('중앙값은 '+str((a[int((len(a)-1)/2)]+a[int((len(a)+1)/2)])/2)+'입니다')"
   ]
  },
  {
   "cell_type": "code",
   "execution_count": null,
   "metadata": {},
   "outputs": [],
   "source": []
  }
 ],
 "metadata": {
  "kernelspec": {
   "display_name": "Python 3",
   "language": "python",
   "name": "python3"
  },
  "language_info": {
   "codemirror_mode": {
    "name": "ipython",
    "version": 3
   },
   "file_extension": ".py",
   "mimetype": "text/x-python",
   "name": "python",
   "nbconvert_exporter": "python",
   "pygments_lexer": "ipython3",
   "version": "3.7.6"
  },
  "varInspector": {
   "cols": {
    "lenName": 16,
    "lenType": 16,
    "lenVar": 40
   },
   "kernels_config": {
    "python": {
     "delete_cmd_postfix": "",
     "delete_cmd_prefix": "del ",
     "library": "var_list.py",
     "varRefreshCmd": "print(var_dic_list())"
    },
    "r": {
     "delete_cmd_postfix": ") ",
     "delete_cmd_prefix": "rm(",
     "library": "var_list.r",
     "varRefreshCmd": "cat(var_dic_list()) "
    }
   },
   "position": {
    "height": "505px",
    "left": "1640px",
    "right": "20px",
    "top": "115px",
    "width": "270px"
   },
   "types_to_exclude": [
    "module",
    "function",
    "builtin_function_or_method",
    "instance",
    "_Feature"
   ],
   "window_display": false
  }
 },
 "nbformat": 4,
 "nbformat_minor": 4
}
