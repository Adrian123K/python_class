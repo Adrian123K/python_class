{
 "cells": [
  {
   "cell_type": "markdown",
   "metadata": {},
   "source": [
    "### ■ 예제152. 필수 알고리즘1 (합성곱 연산)"
   ]
  },
  {
   "cell_type": "markdown",
   "metadata": {
    "ExecuteTime": {
     "end_time": "2020-06-01T02:43:04.927806Z",
     "start_time": "2020-06-01T02:43:04.920809Z"
    }
   },
   "source": [
    "### ※ 문제313. 아래의 덧셈 행렬을 numpy를 이용하지 말고 하시오\n",
    "$$\n",
    "    \\begin{pmatrix}\n",
    "        1 & 2 \\\\\n",
    "        3 & 4 \\\\\n",
    "    \\end{pmatrix}\n",
    "+\n",
    "    \\begin{pmatrix}\n",
    "        10 & 20 \\\\\n",
    "        30 & 40 \\\\\n",
    "    \\end{pmatrix}\n",
    "$$"
   ]
  },
  {
   "cell_type": "code",
   "execution_count": 2,
   "metadata": {
    "ExecuteTime": {
     "end_time": "2020-06-01T02:43:14.289142Z",
     "start_time": "2020-06-01T02:43:14.274152Z"
    }
   },
   "outputs": [
    {
     "data": {
      "text/plain": [
       "[[11, 22], [33, 44]]"
      ]
     },
     "execution_count": 2,
     "metadata": {},
     "output_type": "execute_result"
    }
   ],
   "source": [
    "a=[[1,2],[3,4]]\n",
    "b=[[10,20],[30,40]]\n",
    "c=[]\n",
    "for i in range(len(a)):\n",
    "    d=[]\n",
    "    for j in range(len(b)):\n",
    "        d.append(a[i][j]+b[i][j])\n",
    "    c.append(d)\n",
    "c"
   ]
  },
  {
   "cell_type": "markdown",
   "metadata": {
    "ExecuteTime": {
     "end_time": "2020-06-01T02:43:24.556982Z",
     "start_time": "2020-06-01T02:43:24.553986Z"
    }
   },
   "source": [
    "### ※ 문제314. 위의 행렬 연산을 numpy를 이용해서 수행하시오"
   ]
  },
  {
   "cell_type": "code",
   "execution_count": 4,
   "metadata": {
    "ExecuteTime": {
     "end_time": "2020-06-01T02:43:33.233494Z",
     "start_time": "2020-06-01T02:43:33.226500Z"
    }
   },
   "outputs": [
    {
     "data": {
      "text/plain": [
       "array([[11, 22],\n",
       "       [33, 44]])"
      ]
     },
     "execution_count": 4,
     "metadata": {},
     "output_type": "execute_result"
    }
   ],
   "source": [
    "import numpy as np\n",
    "a=np.array([[1,2],[3,4]])\n",
    "b=np.array([[10,20],[30,40]])\n",
    "c=a+b\n",
    "c"
   ]
  },
  {
   "cell_type": "markdown",
   "metadata": {},
   "source": [
    "### ※ Numpy란\n",
    "python 언어에서 기본적으로 지원하지 않는 배열 혹은 행렬의 계산을 쉽게 해주는 라이브러리  \n",
    "ML에서 많이 사용하는 선형대수학에 관련한 수식들을 python에서 쉽게 프로그래밍 할 수 있게 해준다\n"
   ]
  },
  {
   "cell_type": "markdown",
   "metadata": {},
   "source": [
    "### ※ 문제315. 아래의 행렬을 numpy array로 만드시오\n",
    "$$\n",
    "    \\begin{pmatrix}\n",
    "    1 & 6 \\\\\n",
    "    7 & 3 \\\\\n",
    "    \\end{pmatrix}\n",
    "    $$\n",
    "    "
   ]
  },
  {
   "cell_type": "code",
   "execution_count": 10,
   "metadata": {
    "ExecuteTime": {
     "end_time": "2020-06-01T02:47:21.896607Z",
     "start_time": "2020-06-01T02:47:21.889611Z"
    }
   },
   "outputs": [
    {
     "data": {
      "text/plain": [
       "array([[1, 6],\n",
       "       [7, 3]])"
      ]
     },
     "execution_count": 10,
     "metadata": {},
     "output_type": "execute_result"
    }
   ],
   "source": [
    "import numpy as np\n",
    "A = np.array([[1,6],[7,3]])\n",
    "A"
   ]
  },
  {
   "cell_type": "markdown",
   "metadata": {},
   "source": [
    "### ※ 문제316. 아래의 행렬의 각 요소에 숫자 5를 더하시오\n"
   ]
  },
  {
   "cell_type": "code",
   "execution_count": 11,
   "metadata": {
    "ExecuteTime": {
     "end_time": "2020-06-01T02:47:22.527208Z",
     "start_time": "2020-06-01T02:47:22.522210Z"
    }
   },
   "outputs": [
    {
     "data": {
      "text/plain": [
       "array([[ 6, 11],\n",
       "       [12,  8]])"
      ]
     },
     "execution_count": 11,
     "metadata": {},
     "output_type": "execute_result"
    }
   ],
   "source": [
    "A+5"
   ]
  },
  {
   "cell_type": "markdown",
   "metadata": {},
   "source": [
    "### Numpy로 행렬 연산을 했을 때 중요한 기능 \"브로드캐스트\"\n",
    "#### 브로드캐스트(broadcast)\n",
    "    Numpy에서는 형상이 다른 배열끼리도 계산을 할 수 있다.\n",
    "    예를 들면\n",
    "![그림](http://cfile257.uf.daum.net/image/9997013F5ED46A40104E50)  \n",
    "![그림2](http://cfile297.uf.daum.net/image/99E8A43F5ED46A400E5851)  \n",
    "\n",
    "    10이라는 스칼라 값이 2x2 행렬로 확대된 후 연산\n",
    "    Numpy가 제공하는 브로드캐스트 기능 덕분에 형상이 다른 배열끼리 연산을 스마트하게 할 수 있게 됨\n"
   ]
  },
  {
   "cell_type": "markdown",
   "metadata": {},
   "source": [
    "### ※ 문제317. 아래의 행렬이 브로드캐스트 되는지 확인해보시오"
   ]
  },
  {
   "cell_type": "code",
   "execution_count": 12,
   "metadata": {
    "ExecuteTime": {
     "end_time": "2020-06-01T02:54:17.467728Z",
     "start_time": "2020-06-01T02:54:17.444744Z"
    }
   },
   "outputs": [
    {
     "data": {
      "text/plain": [
       "array([[10, 40],\n",
       "       [30, 80]])"
      ]
     },
     "execution_count": 12,
     "metadata": {},
     "output_type": "execute_result"
    }
   ],
   "source": [
    "B=np.array([[1,2,],[3,4]])\n",
    "B*[10,20]"
   ]
  },
  {
   "cell_type": "markdown",
   "metadata": {},
   "source": [
    "### ※ 합성곱(Convolution)\n",
    "#### 이미지의 형상을 무시하지 않고 이미지를 그대로 인공신경망이 학습할 수 있게 해준 수학 행렬 연산"
   ]
  },
  {
   "cell_type": "markdown",
   "metadata": {},
   "source": [
    "합성곱에서 원본이미지는 학습해야 할 데이터(사진)이고 필터(filter)는 원본이미지에서 특징을 잡아내는데 사용되는 행렬  \n",
    "특징을 잡아서 feature map을 생성하여 원본이미지의 형태를 이해하는 것"
   ]
  },
  {
   "cell_type": "markdown",
   "metadata": {},
   "source": [
    "### ※ 문제318. 아래의 두 행렬을 만들고 합성곱 한 결과인 15를 파이썬으로 구현하시오\n",
    "$$ \n",
    "    \\begin{bmatrix}\n",
    "    1 & 2 & 3 & 0 \\\\\n",
    "    0 & 1 & 2 & 3 \\\\\n",
    "    3 & 0 & 1 & 2 \\\\\n",
    "    2 & 3 & 0 & 1 \\\\\n",
    "    \\end{bmatrix}\n",
    "$$\n",
    "<br>\n",
    "$$\n",
    "    \\begin{bmatrix}\n",
    "        2 & 0 & 1 \\\\\n",
    "        0 & 1 & 2 \\\\\n",
    "        1 & 0 & 2 \\\\\n",
    "    \\end{bmatrix}\n",
    "$$"
   ]
  },
  {
   "cell_type": "code",
   "execution_count": 10,
   "metadata": {
    "ExecuteTime": {
     "end_time": "2020-06-01T04:50:31.162992Z",
     "start_time": "2020-06-01T04:50:31.150000Z"
    }
   },
   "outputs": [
    {
     "data": {
      "text/plain": [
       "15"
      ]
     },
     "execution_count": 10,
     "metadata": {},
     "output_type": "execute_result"
    }
   ],
   "source": [
    "x=np.array([[1,2,3],[0,1,2],[3,0,1]])\n",
    "f=np.array([[2,0,1],[0,1,2],[1,0,2]])\n",
    "np.sum(x*f)"
   ]
  },
  {
   "cell_type": "markdown",
   "metadata": {},
   "source": [
    "### ※ 문제319. 아래의 4x4 행렬에서 3x3 행렬 영역만 추출하시오"
   ]
  },
  {
   "cell_type": "code",
   "execution_count": 19,
   "metadata": {
    "ExecuteTime": {
     "end_time": "2020-06-01T05:03:19.505512Z",
     "start_time": "2020-06-01T05:03:19.497516Z"
    }
   },
   "outputs": [
    {
     "data": {
      "text/plain": [
       "15"
      ]
     },
     "execution_count": 19,
     "metadata": {},
     "output_type": "execute_result"
    }
   ],
   "source": [
    "import numpy as np\n",
    "\n",
    "A=np.array([[1,2,3,0],[0,1,2,3],[3,0,1,2],[2,3,0,1]])\n",
    "sub_a1=np.array(A[:3,:3])\n",
    "np.sum(sub_a1*f)"
   ]
  },
  {
   "cell_type": "markdown",
   "metadata": {},
   "source": [
    "### ※ 문제320. 아래의 결과가 나오게 파이썬 코드를 작성하시오"
   ]
  },
  {
   "cell_type": "code",
   "execution_count": 20,
   "metadata": {
    "ExecuteTime": {
     "end_time": "2020-06-01T05:03:35.004919Z",
     "start_time": "2020-06-01T05:03:34.996923Z"
    }
   },
   "outputs": [
    {
     "data": {
      "text/plain": [
       "array([[0, 1, 2],\n",
       "       [3, 0, 1],\n",
       "       [2, 3, 0]])"
      ]
     },
     "execution_count": 20,
     "metadata": {},
     "output_type": "execute_result"
    }
   ],
   "source": [
    "A=np.array([[1,2,3,0],[0,1,2,3],[3,0,1,2],[2,3,0,1]])\n",
    "sub_a3=np.array(A[1:,:3])\n",
    "sub_a3"
   ]
  },
  {
   "cell_type": "markdown",
   "metadata": {},
   "source": [
    "### ※ 문제321. 아래의 리스트를 행렬 shape 2x2로 변경하시오\n",
    "```python\n",
    "rs=[2,3,4,5]\n",
    "```"
   ]
  },
  {
   "cell_type": "code",
   "execution_count": 23,
   "metadata": {
    "ExecuteTime": {
     "end_time": "2020-06-01T05:06:54.696415Z",
     "start_time": "2020-06-01T05:06:54.689419Z"
    }
   },
   "outputs": [
    {
     "data": {
      "text/plain": [
       "(array([[2, 3],\n",
       "        [4, 5]]),\n",
       " array([[2, 3, 4, 5]]),\n",
       " array([[2],\n",
       "        [3],\n",
       "        [4],\n",
       "        [5]]))"
      ]
     },
     "execution_count": 23,
     "metadata": {},
     "output_type": "execute_result"
    }
   ],
   "source": [
    "rs=[2,3,4,5]\n",
    "rs=np.array(rs).reshape(2,2)\n",
    "rs2=np.array(rs).reshape(1,4)\n",
    "rs3=np.array(rs).reshape(4,1)\n",
    "rs, rs2, rs3"
   ]
  },
  {
   "cell_type": "markdown",
   "metadata": {},
   "source": [
    "### ※ 문제322. (파이썬 알고리즘 문제 38)아래의 두 행렬을 합성곱하시오(stride=1)\n",
    "$$ \n",
    "    \\begin{bmatrix}\n",
    "    1 & 2 & 3 & 0 \\\\\n",
    "    0 & 1 & 2 & 3 \\\\\n",
    "    3 & 0 & 1 & 2 \\\\\n",
    "    2 & 3 & 0 & 1 \\\\\n",
    "    \\end{bmatrix} \n",
    "    \\begin{bmatrix}\n",
    "        2 & 0 & 1 \\\\\n",
    "        0 & 1 & 2 \\\\\n",
    "        1 & 0 & 2 \\\\\n",
    "    \\end{bmatrix}\n",
    "$$"
   ]
  },
  {
   "cell_type": "code",
   "execution_count": 62,
   "metadata": {
    "ExecuteTime": {
     "end_time": "2020-06-01T05:36:57.562144Z",
     "start_time": "2020-06-01T05:36:57.550151Z"
    }
   },
   "outputs": [
    {
     "data": {
      "text/plain": [
       "array([[15., 16.],\n",
       "       [ 6., 15.]])"
      ]
     },
     "execution_count": 62,
     "metadata": {},
     "output_type": "execute_result"
    }
   ],
   "source": [
    "A=np.array([[1,2,3,0],[0,1,2,3],[3,0,1,2],[2,3,0,1]])\n",
    "f=np.array([[2,0,1],[0,1,2],[1,0,2]])\n",
    "x=np.zeros([2,2])\n",
    "for i in range(len(A)-len(f)+1):\n",
    "    for j in range(int(len(A[0])-len(f[0])+1)):\n",
    "        x[i][j] = np.sum(A[i:len(f)+i,j:len(f[0])+j]*f)        \n",
    "x"
   ]
  },
  {
   "cell_type": "markdown",
   "metadata": {},
   "source": [
    "### ※ (오늘의 마지막 문제) 오늘 구현한 합성곱 연산을 아래와 같이 함수로 생성해서 구현되게 하시오\n",
    "```python\n",
    "convolution(a,filter)\n",
    "```"
   ]
  },
  {
   "cell_type": "code",
   "execution_count": 5,
   "metadata": {
    "ExecuteTime": {
     "end_time": "2020-06-01T07:50:13.779150Z",
     "start_time": "2020-06-01T07:50:13.766458Z"
    }
   },
   "outputs": [
    {
     "data": {
      "text/plain": [
       "array([[15., 16.],\n",
       "       [ 6., 15.]])"
      ]
     },
     "execution_count": 5,
     "metadata": {},
     "output_type": "execute_result"
    }
   ],
   "source": [
    "def convolution(A,f):\n",
    "    x=np.zeros([int(len(A)-len(f))+1,int(len(A[0])-len(f[0]))+1])\n",
    "    \n",
    "    Ar=int(len(A))\n",
    "    Ac=int(len(A[0]))\n",
    "    fr=int(len(f))\n",
    "    fc=int(len(f[0]))\n",
    "    \n",
    "    for i in range(Ar-fr+1):\n",
    "        for j in range(Ac-fc+1):\n",
    "            x[i][j] = np.sum(A[i:fr+i,j:fc+j]*f)\n",
    "    return x\n",
    "\n",
    "A=np.array([[1,2,3,0],[0,1,2,3],[3,0,1,2],[2,3,0,1]])\n",
    "f=np.array([[2,0,1],[0,1,2],[1,0,2]])\n",
    "convolution(A, f)"
   ]
  },
  {
   "cell_type": "code",
   "execution_count": 21,
   "metadata": {
    "ExecuteTime": {
     "end_time": "2020-06-01T08:32:15.425252Z",
     "start_time": "2020-06-01T08:32:15.412261Z"
    }
   },
   "outputs": [
    {
     "name": "stdout",
     "output_type": "stream",
     "text": [
      "[[ 5  3]\n",
      " [-2 -1]]\n"
     ]
    }
   ],
   "source": [
    "def convolution(A,f):\n",
    "    x=[]\n",
    "    \n",
    "    Ar=int(len(A[0]))\n",
    "    Ac=int(len(A[0][0]))\n",
    "    fr=int(len(f[0]))\n",
    "    fc=int(len(f[0][0]))\n",
    "    \n",
    "    for i in range(Ar-fr+1):\n",
    "        for j in range(Ac-fc+1):\n",
    "            x.append(np.sum(A[:,i:fr+i,j:fc+j]*f))\n",
    "    return np.array(x).reshape(2,2)\n",
    "\n",
    "A=np.array([[[1,2,0,0],[0,1,-2,0],[0,0,1,2],[2,0,0,1]],[[1,0,0,0],[0,0,-2,-1],[3,0,1,0],[2,0,0,1]]])\n",
    "f=np.array([[[-1,0,3],[2,0,-1],[0,2,1]],[[0,0,0],[2,0,-1],[0,-2,1]]])\n",
    "\n",
    "print(convolution(A,f))"
   ]
  },
  {
   "cell_type": "code",
   "execution_count": null,
   "metadata": {},
   "outputs": [],
   "source": []
  },
  {
   "cell_type": "code",
   "execution_count": null,
   "metadata": {},
   "outputs": [],
   "source": []
  }
 ],
 "metadata": {
  "kernelspec": {
   "display_name": "Python 3",
   "language": "python",
   "name": "python3"
  },
  "language_info": {
   "codemirror_mode": {
    "name": "ipython",
    "version": 3
   },
   "file_extension": ".py",
   "mimetype": "text/x-python",
   "name": "python",
   "nbconvert_exporter": "python",
   "pygments_lexer": "ipython3",
   "version": "3.7.6"
  },
  "varInspector": {
   "cols": {
    "lenName": 16,
    "lenType": 16,
    "lenVar": 40
   },
   "kernels_config": {
    "python": {
     "delete_cmd_postfix": "",
     "delete_cmd_prefix": "del ",
     "library": "var_list.py",
     "varRefreshCmd": "print(var_dic_list())"
    },
    "r": {
     "delete_cmd_postfix": ") ",
     "delete_cmd_prefix": "rm(",
     "library": "var_list.r",
     "varRefreshCmd": "cat(var_dic_list()) "
    }
   },
   "types_to_exclude": [
    "module",
    "function",
    "builtin_function_or_method",
    "instance",
    "_Feature"
   ],
   "window_display": false
  }
 },
 "nbformat": 4,
 "nbformat_minor": 4
}
