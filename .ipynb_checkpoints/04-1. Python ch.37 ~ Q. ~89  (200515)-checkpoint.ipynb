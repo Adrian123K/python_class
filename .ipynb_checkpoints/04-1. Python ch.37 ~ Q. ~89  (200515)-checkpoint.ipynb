{
 "cells": [
  {
   "cell_type": "markdown",
   "metadata": {},
   "source": [
    "### ※ (점심시간 문제)(파이썬 알고리즘 문제 16번)\n",
    "#### 동전 한 개와 주사위 한 개를 동시에 던져서 동전 앞면과 주사위의 눈이 5가 나올 확률이 어떻게 되는지 출력(100000번)"
   ]
  },
  {
   "cell_type": "code",
   "execution_count": 2,
   "metadata": {
    "ExecuteTime": {
     "end_time": "2020-05-15T00:44:14.586866Z",
     "start_time": "2020-05-15T00:44:14.463942Z"
    }
   },
   "outputs": [
    {
     "name": "stdout",
     "output_type": "stream",
     "text": [
      "0.08371\n"
     ]
    }
   ],
   "source": [
    "import random\n",
    "\n",
    "dice=[1,2,3,4,5,6]\n",
    "coin=['H','T']\n",
    "cnt=0\n",
    "for i in range(100000):\n",
    "    if random.choice(dice)==5 and random.choice(coin)=='H':\n",
    "        cnt += 1\n",
    "print(cnt/100000)"
   ]
  },
  {
   "cell_type": "markdown",
   "metadata": {},
   "source": [
    "### ■ 예제37. 튜플 이해하기( ( ) )\n",
    "#### 튜플은 리스트와 비슷한 성질을 가지고 있는 자료형이지만 요소의 값을 변경할 수 없다는 특징이 있다\n",
    "#### 리스트는 대괄호 [ ]로 요소들을 감쌌는데 튜플은 소괄호 ( )로 요소를 감싼다.\n",
    "#### 데이터가 변경이 안되므로 튜플로 만든 데이터에 대한 신뢰도가 높아진다."
   ]
  },
  {
   "cell_type": "code",
   "execution_count": 3,
   "metadata": {
    "ExecuteTime": {
     "end_time": "2020-05-15T00:49:12.436313Z",
     "start_time": "2020-05-15T00:49:12.425319Z"
    }
   },
   "outputs": [
    {
     "data": {
      "text/plain": [
       "[1, 2, 7, 4, 5]"
      ]
     },
     "execution_count": 3,
     "metadata": {},
     "output_type": "execute_result"
    }
   ],
   "source": [
    "a=[1,2,3,4,5]\n",
    "a[2]=7\n",
    "a"
   ]
  },
  {
   "cell_type": "code",
   "execution_count": 6,
   "metadata": {
    "ExecuteTime": {
     "end_time": "2020-05-15T00:50:51.960851Z",
     "start_time": "2020-05-15T00:50:51.951857Z"
    }
   },
   "outputs": [
    {
     "ename": "TypeError",
     "evalue": "'tuple' object does not support item assignment",
     "output_type": "error",
     "traceback": [
      "\u001b[1;31m---------------------------------------------------------------------------\u001b[0m",
      "\u001b[1;31mTypeError\u001b[0m                                 Traceback (most recent call last)",
      "\u001b[1;32m<ipython-input-6-054d79cbf9ed>\u001b[0m in \u001b[0;36m<module>\u001b[1;34m\u001b[0m\n\u001b[0;32m      1\u001b[0m \u001b[0mb\u001b[0m\u001b[1;33m=\u001b[0m\u001b[1;33m(\u001b[0m\u001b[1;36m1\u001b[0m\u001b[1;33m,\u001b[0m\u001b[1;36m2\u001b[0m\u001b[1;33m,\u001b[0m\u001b[1;36m3\u001b[0m\u001b[1;33m,\u001b[0m\u001b[1;36m4\u001b[0m\u001b[1;33m,\u001b[0m\u001b[1;36m5\u001b[0m\u001b[1;33m)\u001b[0m\u001b[1;33m\u001b[0m\u001b[1;33m\u001b[0m\u001b[0m\n\u001b[1;32m----> 2\u001b[1;33m \u001b[0mb\u001b[0m\u001b[1;33m[\u001b[0m\u001b[1;36m2\u001b[0m\u001b[1;33m]\u001b[0m\u001b[1;33m=\u001b[0m\u001b[1;36m7\u001b[0m\u001b[1;33m\u001b[0m\u001b[1;33m\u001b[0m\u001b[0m\n\u001b[0m\u001b[0;32m      3\u001b[0m \u001b[0mb\u001b[0m\u001b[1;33m\u001b[0m\u001b[1;33m\u001b[0m\u001b[0m\n",
      "\u001b[1;31mTypeError\u001b[0m: 'tuple' object does not support item assignment"
     ]
    }
   ],
   "source": [
    "b=(1,2,3,4,5)\n",
    "b[2]=7\n",
    "b"
   ]
  },
  {
   "cell_type": "markdown",
   "metadata": {},
   "source": [
    "### ※ 설명: 변경이 되어서는 안되는 회사의 중요한 데이터는 프로그래밍할 때 튜플로 만들어서 관리하면 된다\n",
    "#### 예) 신세계 백화점과 이마트에서 사용하는 신세계 포인트 개발할 때 프로젝트 관리자(PM)이 요청한 것 중 적립율 데이터가 절대로 변경되지 않게 해달라\n",
    "```\n",
    "1000원 * 0.01 적립\n",
    "          ↑ 절대로 임의 변경이 되면 안됨\n",
    "```\n",
    "\n",
    "* data를 변경하지 않게 하는 2가지 방법\n",
    "    1. 파이썬에서는 튜플로 관리\n",
    "    2. Oracle에서는 read only 테이블로 생성\n",
    "```sql \n",
    "alter table emp read only;\n",
    "```\n"
   ]
  },
  {
   "cell_type": "markdown",
   "metadata": {},
   "source": [
    "### ※ 문제77. 아래의 데이터를 튜플로 생성하고 튜플에서 숫자 9를 출력\n",
    "2, 4, 'a', 9, [1,2,3]"
   ]
  },
  {
   "cell_type": "code",
   "execution_count": 8,
   "metadata": {
    "ExecuteTime": {
     "end_time": "2020-05-15T00:58:08.207814Z",
     "start_time": "2020-05-15T00:58:08.202817Z"
    }
   },
   "outputs": [
    {
     "data": {
      "text/plain": [
       "9"
      ]
     },
     "execution_count": 8,
     "metadata": {},
     "output_type": "execute_result"
    }
   ],
   "source": [
    "tp=(2,4,'a',9,[1,2,3])\n",
    "tp[3]"
   ]
  },
  {
   "cell_type": "markdown",
   "metadata": {},
   "source": [
    "### ※ 문제78. 위의 a 튜플에서 숫자 3을 출력하시오"
   ]
  },
  {
   "cell_type": "code",
   "execution_count": 9,
   "metadata": {
    "ExecuteTime": {
     "end_time": "2020-05-15T00:59:13.894143Z",
     "start_time": "2020-05-15T00:59:13.889146Z"
    }
   },
   "outputs": [
    {
     "data": {
      "text/plain": [
       "3"
      ]
     },
     "execution_count": 9,
     "metadata": {},
     "output_type": "execute_result"
    }
   ],
   "source": [
    "tp[4][2]"
   ]
  },
  {
   "cell_type": "markdown",
   "metadata": {},
   "source": [
    "### ■ 예제38. 사전형 이해하기 ( { } )\n",
    "#### 사전은 키와 값을 하나의 요소로 하는 순서가 없는 집합\n",
    "#### 그러므로 사전은 시퀀스 자료형이 아니며 인덱싱으로 값을 접근할 수도 없다\n",
    "#### 사전의 키와 값은 임의의 객체가 될 수 있다\n",
    "#### 사전은 \"키:값\" 쌍이 하나의 요소"
   ]
  },
  {
   "cell_type": "code",
   "execution_count": 12,
   "metadata": {
    "ExecuteTime": {
     "end_time": "2020-05-15T01:06:42.539408Z",
     "start_time": "2020-05-15T01:06:42.533412Z"
    }
   },
   "outputs": [
    {
     "data": {
      "text/plain": [
       "{'파이썬': 'www.python.org', '애플': 'www.apple.com'}"
      ]
     },
     "execution_count": 12,
     "metadata": {},
     "output_type": "execute_result"
    }
   ],
   "source": [
    "dict={}\n",
    "dict['파이썬']='www.python.org'\n",
    "dict['애플']='www.apple.com'\n",
    "     # 키         값\n",
    "dict"
   ]
  },
  {
   "cell_type": "code",
   "execution_count": 18,
   "metadata": {
    "ExecuteTime": {
     "end_time": "2020-05-15T01:08:40.238485Z",
     "start_time": "2020-05-15T01:08:40.235486Z"
    }
   },
   "outputs": [
    {
     "name": "stdout",
     "output_type": "stream",
     "text": [
      "dict_keys(['파이썬', '애플'])\n",
      "dict_values(['www.python.org', 'www.apple.com'])\n",
      "dict_items([('파이썬', 'www.python.org'), ('애플', 'www.apple.com')])\n"
     ]
    }
   ],
   "source": [
    "print(dict.keys())\n",
    "print(dict.values())\n",
    "print(dict.items())"
   ]
  },
  {
   "cell_type": "markdown",
   "metadata": {},
   "source": [
    "### ※ 문제79. 아래의 데이터를 word라는 딕셔너리로 구현하시오\n",
    "```\n",
    "   키     값\n",
    "   I     나는\n",
    "   am    이다\n",
    "   boy   소년\n",
    "   girl  소녀\n",
    "   ```"
   ]
  },
  {
   "cell_type": "code",
   "execution_count": 20,
   "metadata": {
    "ExecuteTime": {
     "end_time": "2020-05-15T01:11:02.266467Z",
     "start_time": "2020-05-15T01:11:02.260470Z"
    }
   },
   "outputs": [
    {
     "data": {
      "text/plain": [
       "{'I': '나는', 'am': '이다', 'boy': '소년', 'girl': '소녀'}"
      ]
     },
     "execution_count": 20,
     "metadata": {},
     "output_type": "execute_result"
    }
   ],
   "source": [
    "word={}\n",
    "word['I']='나는'\n",
    "word['am']='이다'\n",
    "word['boy']='소년'\n",
    "word['girl']='소녀'\n",
    "word"
   ]
  },
  {
   "cell_type": "markdown",
   "metadata": {},
   "source": [
    "### ※ 문제80. 위의 word 딕셔너리에서 키 값들만 추출하시오"
   ]
  },
  {
   "cell_type": "code",
   "execution_count": 22,
   "metadata": {
    "ExecuteTime": {
     "end_time": "2020-05-15T01:13:55.046637Z",
     "start_time": "2020-05-15T01:13:55.042639Z"
    }
   },
   "outputs": [
    {
     "name": "stdout",
     "output_type": "stream",
     "text": [
      "I\n",
      "am\n",
      "boy\n",
      "girl\n"
     ]
    }
   ],
   "source": [
    "for i in word.keys():\n",
    "    print(i)"
   ]
  },
  {
   "cell_type": "markdown",
   "metadata": {},
   "source": [
    "### ※ 문제81. 위의 word 딕셔너리에서 values 값들만 추출하시오"
   ]
  },
  {
   "cell_type": "code",
   "execution_count": 23,
   "metadata": {
    "ExecuteTime": {
     "end_time": "2020-05-15T01:15:00.179959Z",
     "start_time": "2020-05-15T01:15:00.174962Z"
    }
   },
   "outputs": [
    {
     "name": "stdout",
     "output_type": "stream",
     "text": [
      "나는\n",
      "이다\n",
      "소년\n",
      "소녀\n"
     ]
    }
   ],
   "source": [
    "for i in word.values():\n",
    "    print(i)"
   ]
  },
  {
   "cell_type": "markdown",
   "metadata": {},
   "source": [
    "#### 영어 번역 프로그램 개발\n",
    "    1. 부산대학교 한글 맞춤법, 번역 (rule base)\n",
    "    2. 네이버 파파고 (신경망 학습)"
   ]
  },
  {
   "cell_type": "markdown",
   "metadata": {},
   "source": [
    "### ※ 문제82. word 딕셔너리에 있는 내용 중에 boy를 지우시오"
   ]
  },
  {
   "cell_type": "code",
   "execution_count": 24,
   "metadata": {
    "ExecuteTime": {
     "end_time": "2020-05-15T01:19:00.111732Z",
     "start_time": "2020-05-15T01:19:00.107734Z"
    }
   },
   "outputs": [
    {
     "data": {
      "text/plain": [
       "{'I': '나는', 'am': '이다', 'girl': '소녀'}"
      ]
     },
     "execution_count": 24,
     "metadata": {},
     "output_type": "execute_result"
    }
   ],
   "source": [
    "word.pop('boy')\n",
    "word"
   ]
  },
  {
   "cell_type": "markdown",
   "metadata": {},
   "source": [
    "### ※ 문제83. word 딕셔너리에 있는 내용을 모두 지우시오"
   ]
  },
  {
   "cell_type": "code",
   "execution_count": 25,
   "metadata": {
    "ExecuteTime": {
     "end_time": "2020-05-15T01:19:43.192205Z",
     "start_time": "2020-05-15T01:19:43.188209Z"
    }
   },
   "outputs": [
    {
     "data": {
      "text/plain": [
       "{}"
      ]
     },
     "execution_count": 25,
     "metadata": {},
     "output_type": "execute_result"
    }
   ],
   "source": [
    "word.clear()\n",
    "word"
   ]
  },
  {
   "cell_type": "markdown",
   "metadata": {},
   "source": [
    "### ■ 예제39. 함수 이해하기(def)\n",
    "#### 함수란 특정 목적을 가진 코드의 집합이며 독립적으로 호출될 수 있는 것을 말한다\n",
    "※ 함수를 프로그래밍 할 때 꼭 명심해야할 사항(권고사항)\n",
    "    1. 함수는 기능이 가급적 하나이면서 코드를 심플하게 작성해야 한다\n",
    "    2. 함수는 재사용이 가능해야한다\n",
    "```\n",
    "    오라클 내장 함수             파이썬 내장 함수\n",
    "        upper                      upper()\n",
    "        lower                      lower()\n",
    "        initcap                    capitalize()\n",
    "        substr                     직접 생성\n",
    "        replace                    replace()\n",
    "        length                     len()\n",
    "        rtrim                      rstrip()\n",
    "        ltrim                      lstrip()\n",
    "        rpad                       직접 생성\n",
    "        lpad                          \"\n",
    "        instr                         \"\n",
    "        round                      round()\n",
    "        trunc                      trunc()\n",
    "        mod                        %\n",
    "        power                      pow()\n",
    "        to_char                    str\n",
    "        to_number                  int(), float()\n",
    "        to_date                    datetime.strptime()\n",
    "        nvl                        직접생성\n",
    "        decode                     if문\n",
    "        case                       if문\n",
    "        ```"
   ]
  },
  {
   "cell_type": "markdown",
   "metadata": {},
   "source": [
    "### 파이썬 내장 함수 사용하는 방법"
   ]
  },
  {
   "cell_type": "code",
   "execution_count": 26,
   "metadata": {
    "ExecuteTime": {
     "end_time": "2020-05-15T01:49:45.760205Z",
     "start_time": "2020-05-15T01:49:45.756206Z"
    }
   },
   "outputs": [
    {
     "data": {
      "text/plain": [
       "'SCOTT'"
      ]
     },
     "execution_count": 26,
     "metadata": {},
     "output_type": "execute_result"
    }
   ],
   "source": [
    "'scott'.upper()"
   ]
  },
  {
   "cell_type": "markdown",
   "metadata": {},
   "source": [
    "### ※ 문제84. emp2.csv에서 이름을 출력하는데 소문자로 출력하시오"
   ]
  },
  {
   "cell_type": "code",
   "execution_count": 28,
   "metadata": {
    "ExecuteTime": {
     "end_time": "2020-05-15T01:52:05.732478Z",
     "start_time": "2020-05-15T01:52:05.726482Z"
    }
   },
   "outputs": [
    {
     "name": "stdout",
     "output_type": "stream",
     "text": [
      "KING\n",
      "BLAKE\n",
      "CLARK\n",
      "JONES\n",
      "MARTIN\n",
      "ALLEN\n",
      "TURNER\n",
      "JAMES\n",
      "WARD\n",
      "FORD\n",
      "SMITH\n",
      "SCOTT\n",
      "ADAMS\n",
      "MILLER\n"
     ]
    }
   ],
   "source": [
    "import csv\n",
    "\n",
    "file=open('K:\\\\Itwill\\\\2. Python\\\\자료\\\\emp2.csv','r')\n",
    "emp=csv.reader(file)\n",
    "emp_csv=list(emp)\n",
    "\n",
    "for i in emp_csv:\n",
    "    print(i[1].upper())"
   ]
  },
  {
   "cell_type": "markdown",
   "metadata": {},
   "source": [
    "### *파이썬에서 함수 생성하는 방법"
   ]
  },
  {
   "cell_type": "code",
   "execution_count": 31,
   "metadata": {
    "ExecuteTime": {
     "end_time": "2020-05-15T01:56:24.700327Z",
     "start_time": "2020-05-15T01:56:24.694331Z"
    }
   },
   "outputs": [
    {
     "data": {
      "text/plain": [
       "25"
      ]
     },
     "execution_count": 31,
     "metadata": {},
     "output_type": "execute_result"
    }
   ],
   "source": [
    "def add_number(n1, n2): # n1, n2 : 입력 매개변수\n",
    "    result = n1+n2\n",
    "    return result\n",
    "\n",
    "add_number(10,15)"
   ]
  },
  {
   "cell_type": "markdown",
   "metadata": {},
   "source": [
    "### ※ 문제85. 오라클의 initcap 함수를 파이썬으로 직접 생성하시오"
   ]
  },
  {
   "cell_type": "code",
   "execution_count": 36,
   "metadata": {
    "ExecuteTime": {
     "end_time": "2020-05-15T02:02:29.452852Z",
     "start_time": "2020-05-15T02:02:29.446856Z"
    }
   },
   "outputs": [
    {
     "data": {
      "text/plain": [
       "'Smith'"
      ]
     },
     "execution_count": 36,
     "metadata": {},
     "output_type": "execute_result"
    }
   ],
   "source": [
    "def initcap(m):\n",
    "    return m[:1].upper()+m[1:].lower()\n",
    "\n",
    "initcap('smith')"
   ]
  },
  {
   "cell_type": "code",
   "execution_count": 37,
   "metadata": {
    "ExecuteTime": {
     "end_time": "2020-05-15T02:03:03.218176Z",
     "start_time": "2020-05-15T02:03:03.214178Z"
    }
   },
   "outputs": [
    {
     "data": {
      "text/plain": [
       "'Smith'"
      ]
     },
     "execution_count": 37,
     "metadata": {},
     "output_type": "execute_result"
    }
   ],
   "source": [
    "'smith'.capitalize()"
   ]
  },
  {
   "cell_type": "markdown",
   "metadata": {},
   "source": [
    "### ※ 문제86. 오라클의 substr 함수를 파이썬으로 직접 생성하시오\n",
    "```\n",
    "print(substr('smith',1,3))\n",
    "```\n",
    "smi"
   ]
  },
  {
   "cell_type": "code",
   "execution_count": 52,
   "metadata": {
    "ExecuteTime": {
     "end_time": "2020-05-15T02:13:32.028176Z",
     "start_time": "2020-05-15T02:13:32.022179Z"
    }
   },
   "outputs": [
    {
     "data": {
      "text/plain": [
       "'mit'"
      ]
     },
     "execution_count": 52,
     "metadata": {},
     "output_type": "execute_result"
    }
   ],
   "source": [
    "def substr(m,num1,num2):\n",
    "    return m[num1-1:num1+num2-1]\n",
    "\n",
    "substr('smith',2,3)"
   ]
  },
  {
   "cell_type": "code",
   "execution_count": 53,
   "metadata": {
    "ExecuteTime": {
     "end_time": "2020-05-15T02:17:39.916071Z",
     "start_time": "2020-05-15T02:17:38.379642Z"
    }
   },
   "outputs": [
    {
     "name": "stdout",
     "output_type": "stream",
     "text": [
      "숫자를 입력하세요 ~ 5\n",
      "\n",
      "★\n",
      "★★\n",
      "★★★\n",
      "★★★★\n",
      "★★★★★\n"
     ]
    }
   ],
   "source": [
    "a=int(input('숫자를 입력하세요 ~ '))\n",
    "for i in range(a+1):\n",
    "    print('★'*i)"
   ]
  },
  {
   "cell_type": "code",
   "execution_count": 54,
   "metadata": {
    "ExecuteTime": {
     "end_time": "2020-05-15T02:19:12.153251Z",
     "start_time": "2020-05-15T02:19:12.147255Z"
    }
   },
   "outputs": [
    {
     "name": "stdout",
     "output_type": "stream",
     "text": [
      "\n",
      "★\n",
      "★★\n",
      "★★★\n",
      "★★★★\n",
      "★★★★★\n"
     ]
    }
   ],
   "source": [
    "def star_num(num1):\n",
    "    for i in range(num1+1):\n",
    "        print('★'*i)\n",
    "\n",
    "star_num(5)"
   ]
  },
  {
   "cell_type": "markdown",
   "metadata": {},
   "source": [
    "### ■ 예제40. 함수 인자 이해하기\n",
    "#### 인자의 위치에 실제값을 대입하여 함수를 호출하면 인자 순서에 대응되는 값을 함수 코드에 대입하여 실행"
   ]
  },
  {
   "cell_type": "code",
   "execution_count": 55,
   "metadata": {
    "ExecuteTime": {
     "end_time": "2020-05-15T02:42:52.228917Z",
     "start_time": "2020-05-15T02:42:52.222920Z"
    }
   },
   "outputs": [
    {
     "data": {
      "text/plain": [
       "'파이썬 자바'"
      ]
     },
     "execution_count": 55,
     "metadata": {},
     "output_type": "execute_result"
    }
   ],
   "source": [
    "def add_text(t1, t2):\n",
    "    return (t1+' '+t2)\n",
    "\n",
    "add_text('파이썬','자바')"
   ]
  },
  {
   "cell_type": "code",
   "execution_count": 56,
   "metadata": {
    "ExecuteTime": {
     "end_time": "2020-05-15T02:45:00.937016Z",
     "start_time": "2020-05-15T02:45:00.931019Z"
    }
   },
   "outputs": [
    {
     "data": {
      "text/plain": [
       "'파이썬 최고'"
      ]
     },
     "execution_count": 56,
     "metadata": {},
     "output_type": "execute_result"
    }
   ],
   "source": [
    "def add_text(t1, t2='최고'):\n",
    "    return (t1+' '+t2)\n",
    "\n",
    "add_text('파이썬')"
   ]
  },
  {
   "cell_type": "markdown",
   "metadata": {},
   "source": [
    "#### 위와 같이 t2 매개변수에 기본값을 제공하게 되면 t2 매개변수에 아무 것도 넣지 않으면 기본값이 사용"
   ]
  },
  {
   "cell_type": "code",
   "execution_count": 57,
   "metadata": {
    "ExecuteTime": {
     "end_time": "2020-05-15T02:49:26.824410Z",
     "start_time": "2020-05-15T02:49:26.819413Z"
    }
   },
   "outputs": [
    {
     "name": "stdout",
     "output_type": "stream",
     "text": [
      "(2,)\n",
      "(2, 3)\n",
      "(2, 3, 4, 5, 6, 7, 8)\n"
     ]
    }
   ],
   "source": [
    "# 가변 매개변수 사용하는 방법\n",
    "def func1(*args):\n",
    "    return args\n",
    "\n",
    "print(func1(2))\n",
    "print(func1(2,3))\n",
    "print(func1(2,3,4,5,6,7,8))"
   ]
  },
  {
   "cell_type": "markdown",
   "metadata": {},
   "source": [
    "### ※ 문제88. 문제32번 몬테카를로 알고리즘으로 원주율 구하는 코드를 가져와서 아래와 같이 함수를 만들고 실행되게 하시오\n",
    "```\n",
    "print(monteca(10000))\n",
    "        ↑ 정사각형 안에 들어가는 점의 개수\n",
    "        ```"
   ]
  },
  {
   "cell_type": "code",
   "execution_count": 63,
   "metadata": {
    "ExecuteTime": {
     "end_time": "2020-05-15T02:57:14.271413Z",
     "start_time": "2020-05-15T02:57:14.188464Z"
    }
   },
   "outputs": [
    {
     "name": "stdout",
     "output_type": "stream",
     "text": [
      "3.1452\n"
     ]
    }
   ],
   "source": [
    "def monteca(num1):\n",
    "    import random\n",
    "    pi=[]\n",
    "    for i in range(num1):\n",
    "        a=(random.random()**2)+(random.random()**2)\n",
    "        if a<=1:\n",
    "            pi.append(a)\n",
    "    print(len(pi)*4/num1)\n",
    "\n",
    "monteca(100000)\n",
    "    "
   ]
  },
  {
   "cell_type": "code",
   "execution_count": 66,
   "metadata": {
    "ExecuteTime": {
     "end_time": "2020-05-15T03:00:16.431436Z",
     "start_time": "2020-05-15T03:00:16.352484Z"
    }
   },
   "outputs": [
    {
     "name": "stdout",
     "output_type": "stream",
     "text": [
      "3.04\n",
      "3.174\n",
      "3.45988\n"
     ]
    }
   ],
   "source": [
    "def monteca(*args):\n",
    "    import random\n",
    "    pi=[]\n",
    "    for j in args:\n",
    "        for i in range(j):\n",
    "            a=(random.random()**2)+(random.random()**2)\n",
    "            if a<=1:\n",
    "                pi.append(a)\n",
    "        print(len(pi)*4/j)\n",
    "\n",
    "monteca(100,10000,100000)\n",
    "    "
   ]
  },
  {
   "cell_type": "code",
   "execution_count": null,
   "metadata": {},
   "outputs": [],
   "source": [
    "import random\n",
    "import math\n",
    "pi=[]\n",
    "for i in range(100000):\n",
    "    a=(random.random()**2)\n",
    "    b=(random.random()**2)\n",
    "    c=a+b\n",
    "    if c<=1:\n",
    "        pi.append(c)\n",
    "print(len(pi)/100000*4)"
   ]
  },
  {
   "cell_type": "markdown",
   "metadata": {},
   "source": [
    "### ※ 문제89. 파이썬 알고리즘 9번을 함수로 만들어서 수행하시오\n",
    "#### 동전을 십만번 던졌을 때 앞면이 나올 확률을 출력하는데 동전 던지는 횟수를 함수의 매개변수로 제공"
   ]
  },
  {
   "cell_type": "code",
   "execution_count": 67,
   "metadata": {
    "ExecuteTime": {
     "end_time": "2020-05-15T03:04:19.463588Z",
     "start_time": "2020-05-15T03:04:19.349658Z"
    }
   },
   "outputs": [
    {
     "name": "stdout",
     "output_type": "stream",
     "text": [
      "0.0\n"
     ]
    }
   ],
   "source": [
    "\n",
    "a=0\n",
    "for i in range(100000):\n",
    "    if random.choice(coin)=='앞면':\n",
    "        a += 1\n",
    "print(a/100000)   "
   ]
  },
  {
   "cell_type": "code",
   "execution_count": 75,
   "metadata": {
    "ExecuteTime": {
     "end_time": "2020-05-15T03:08:09.966430Z",
     "start_time": "2020-05-15T03:08:09.843507Z"
    }
   },
   "outputs": [
    {
     "name": "stdout",
     "output_type": "stream",
     "text": [
      "0.46\n",
      "0.547\n",
      "0.5559\n",
      "0.55627\n"
     ]
    }
   ],
   "source": [
    "def coin_prob(*args):\n",
    "    cnt=0\n",
    "    coin=['H','T']\n",
    "    for j in args:\n",
    "        for i in range(j):\n",
    "            if random.choice(coin)=='H':\n",
    "                cnt += 1\n",
    "        print(cnt/j)\n",
    "#     return\n",
    "\n",
    "coin_prob(100,1000,10000,100000)"
   ]
  }
 ],
 "metadata": {
  "kernelspec": {
   "display_name": "Python 3",
   "language": "python",
   "name": "python3"
  },
  "language_info": {
   "codemirror_mode": {
    "name": "ipython",
    "version": 3
   },
   "file_extension": ".py",
   "mimetype": "text/x-python",
   "name": "python",
   "nbconvert_exporter": "python",
   "pygments_lexer": "ipython3",
   "version": "3.7.6"
  },
  "varInspector": {
   "cols": {
    "lenName": 16,
    "lenType": 16,
    "lenVar": 40
   },
   "kernels_config": {
    "python": {
     "delete_cmd_postfix": "",
     "delete_cmd_prefix": "del ",
     "library": "var_list.py",
     "varRefreshCmd": "print(var_dic_list())"
    },
    "r": {
     "delete_cmd_postfix": ") ",
     "delete_cmd_prefix": "rm(",
     "library": "var_list.r",
     "varRefreshCmd": "cat(var_dic_list()) "
    }
   },
   "position": {
    "height": "344px",
    "left": "1571px",
    "right": "20px",
    "top": "120px",
    "width": "329px"
   },
   "types_to_exclude": [
    "module",
    "function",
    "builtin_function_or_method",
    "instance",
    "_Feature"
   ],
   "window_display": false
  }
 },
 "nbformat": 4,
 "nbformat_minor": 4
}
