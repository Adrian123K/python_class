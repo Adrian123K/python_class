{
 "cells": [
  {
   "cell_type": "markdown",
   "metadata": {},
   "source": [
    "### ※(점심시간 문제) 동전던지기  도박사의 주장을 반론하기 위한  파이썬 알고리즘 32번을 신뢰구간 68% 에서 신뢰구간 95%로 변경해서 수행하세요 ~"
   ]
  },
  {
   "cell_type": "code",
   "execution_count": 3,
   "metadata": {
    "ExecuteTime": {
     "end_time": "2020-06-04T00:52:29.542563Z",
     "start_time": "2020-06-04T00:52:28.143537Z"
    }
   },
   "outputs": [
    {
     "data": {
      "image/png": "[encoded data removed]",
      "text/plain": [
       "<Figure size 792x576 with 1 Axes>"
      ]
     },
     "metadata": {
      "needs_background": "light"
     },
     "output_type": "display_data"
    },
    {
     "name": "stdout",
     "output_type": "stream",
     "text": [
      "동전을 8 번 던졌을 때 뒷면이 나오는 횟수가 7 번 나올 확률은 신뢰구간 95% 안에 없습니다.\n"
     ]
    }
   ],
   "source": [
    "def coin_hypo(coin, num) : \n",
    "\n",
    "    import random\n",
    "    import numpy as np\n",
    "    import math\n",
    "    from scipy.stats import norm\n",
    "    import matplotlib.pyplot as plt\n",
    "\n",
    "    x = [i for i in range(coin +1)]\n",
    "    y = [0 for i in range(len(x))]\n",
    "\n",
    "    for i in range(100000):\n",
    "        sum=0\n",
    "        for j in range(coin):\n",
    "            sum+=random.randint(0,1)\n",
    "        y[sum]+=1\n",
    "\n",
    "    for i in range(coin+1):\n",
    "        y[i]/=100000\n",
    "\n",
    "    m = []\n",
    "    for k in range(len(x)) :\n",
    "        m.append( x[k] * y[k] )\n",
    "    mu = np.sum(m)\n",
    "    mu\n",
    "    var = []\n",
    "    for k in range(len(x)) :\n",
    "        var.append(((x[k] - mu)**2)*y[k])\n",
    "    var_s = np.sum(var)\n",
    "    sd = math.sqrt(var_s)\n",
    "    sd\n",
    "    x_1 = mu - 1.96 * sd\n",
    "    x_2 = mu + 1.96 * sd\n",
    "\n",
    "    plt.rcParams[\"figure.figsize\"] = (11, 8)\n",
    "    plt.bar(x, y,  align='center', color='red', alpha = 0.7)  # 막대그래프 시각화\n",
    "    plt.fill_between(x , y,  where = (x_1 < x) & (x < x_2) , color = 'blue', alpha = 0.3)\n",
    "    plt.plot(x, y, color = 'blue', alpha = 0.4)\n",
    "    plt.xlabel('# of T', fontsize = 15) # x축 이름\n",
    "    plt.ylabel('Probability', fontsize = 15) # y축 이름\n",
    "    plt.title('Coin Probability', fontsize = 20)  # 그래프 제목\n",
    "    plt.show()\n",
    "    if x_1 <= num <=  x_2 :\n",
    "        return '동전을 {} 번 던졌을 때 뒷면이 나오는 횟수가 {} 번 나올 확률은 신뢰구간 95% 안에 있습니다.'.format(coin, num)\n",
    "    else :\n",
    "        return '동전을 {} 번 던졌을 때 뒷면이 나오는 횟수가 {} 번 나올 확률은 신뢰구간 95% 안에 없습니다.'.format(coin, num)\n",
    "\n",
    "print(coin_hypo(coin = 8, num = 7))"
   ]
  },
  {
   "cell_type": "code",
   "execution_count": null,
   "metadata": {},
   "outputs": [],
   "source": []
  },
  {
   "cell_type": "code",
   "execution_count": null,
   "metadata": {},
   "outputs": [],
   "source": []
  },
  {
   "cell_type": "code",
   "execution_count": null,
   "metadata": {},
   "outputs": [],
   "source": []
  },
  {
   "cell_type": "code",
   "execution_count": null,
   "metadata": {},
   "outputs": [],
   "source": []
  },
  {
   "cell_type": "code",
   "execution_count": null,
   "metadata": {},
   "outputs": [],
   "source": []
  }
 ],
 "metadata": {
  "kernelspec": {
   "display_name": "Python 3",
   "language": "python",
   "name": "python3"
  },
  "language_info": {
   "codemirror_mode": {
    "name": "ipython",
    "version": 3
   },
   "file_extension": ".py",
   "mimetype": "text/x-python",
   "name": "python",
   "nbconvert_exporter": "python",
   "pygments_lexer": "ipython3",
   "version": "3.7.6"
  },
  "varInspector": {
   "cols": {
    "lenName": 16,
    "lenType": 16,
    "lenVar": 40
   },
   "kernels_config": {
    "python": {
     "delete_cmd_postfix": "",
     "delete_cmd_prefix": "del ",
     "library": "var_list.py",
     "varRefreshCmd": "print(var_dic_list())"
    },
    "r": {
     "delete_cmd_postfix": ") ",
     "delete_cmd_prefix": "rm(",
     "library": "var_list.r",
     "varRefreshCmd": "cat(var_dic_list()) "
    }
   },
   "types_to_exclude": [
    "module",
    "function",
    "builtin_function_or_method",
    "instance",
    "_Feature"
   ],
   "window_display": false
  }
 },
 "nbformat": 4,
 "nbformat_minor": 4
}
