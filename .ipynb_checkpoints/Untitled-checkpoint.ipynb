{
 "cells": [
  {
   "cell_type": "code",
   "execution_count": 10,
   "metadata": {
    "ExecuteTime": {
     "end_time": "2020-05-29T09:40:01.617696Z",
     "start_time": "2020-05-29T09:40:01.608701Z"
    }
   },
   "outputs": [
    {
     "data": {
      "text/plain": [
       "(array([[ 1,  1,  2],\n",
       "        [ 2,  4,  5],\n",
       "        [ 5,  4, 11]]),\n",
       " array([[1., 0., 0.],\n",
       "        [0., 1., 0.],\n",
       "        [0., 0., 1.]]),\n",
       " array([[ 8.        , -1.        , -1.        ],\n",
       "        [ 1.        ,  0.33333333, -0.33333333],\n",
       "        [-4.        ,  0.33333333,  0.66666667]]),\n",
       " array([[0., 0., 0.],\n",
       "        [0., 0., 0.],\n",
       "        [0., 0., 0.]]))"
      ]
     },
     "execution_count": 10,
     "metadata": {},
     "output_type": "execute_result"
    }
   ],
   "source": [
    "import numpy as np\n",
    "x=np.array([[1,1,2],[2,4,5],[5,4,11]])\n",
    "i=np.identity(3)\n",
    "x_inv=np.linalg.inv(x)\n",
    "s=np.zeros((3,3))\n",
    "x, i, x_inv,s"
   ]
  },
  {
   "cell_type": "code",
   "execution_count": 14,
   "metadata": {
    "ExecuteTime": {
     "end_time": "2020-05-29T09:45:16.162710Z",
     "start_time": "2020-05-29T09:45:16.152715Z"
    }
   },
   "outputs": [
    {
     "data": {
      "text/plain": [
       "(array([[ 1,  1,  2],\n",
       "        [ 0, -2, -1],\n",
       "        [ 0,  1, -1]]),\n",
       " array([[ 1.,  0.,  0.],\n",
       "        [-2.,  1.,  0.],\n",
       "        [ 0.,  0., -1.]]))"
      ]
     },
     "execution_count": 14,
     "metadata": {},
     "output_type": "execute_result"
    }
   ],
   "source": [
    "# while sum(x)!=3:\n",
    "if x[0][0]<=x[1][0]:\n",
    "    x[1]=x[0]*(x[1][0]//x[0][0])-x[1]\n",
    "    i[1]=i[0]*(x[1][0]//x[0][0])-i[1]\n",
    "if x[0][1]<=x[2][1]:\n",
    "    x[2]=x[0]*(x[2][0]//x[0][0])-x[2]\n",
    "    i[2]=i[0]*(x[2][0]//x[0][0])-i[2]\n",
    "x, i"
   ]
  },
  {
   "cell_type": "code",
   "execution_count": null,
   "metadata": {},
   "outputs": [],
   "source": []
  },
  {
   "cell_type": "code",
   "execution_count": null,
   "metadata": {},
   "outputs": [],
   "source": []
  }
 ],
 "metadata": {
  "kernelspec": {
   "display_name": "Python 3",
   "language": "python",
   "name": "python3"
  },
  "language_info": {
   "codemirror_mode": {
    "name": "ipython",
    "version": 3
   },
   "file_extension": ".py",
   "mimetype": "text/x-python",
   "name": "python",
   "nbconvert_exporter": "python",
   "pygments_lexer": "ipython3",
   "version": "3.7.6"
  },
  "varInspector": {
   "cols": {
    "lenName": 16,
    "lenType": 16,
    "lenVar": 40
   },
   "kernels_config": {
    "python": {
     "delete_cmd_postfix": "",
     "delete_cmd_prefix": "del ",
     "library": "var_list.py",
     "varRefreshCmd": "print(var_dic_list())"
    },
    "r": {
     "delete_cmd_postfix": ") ",
     "delete_cmd_prefix": "rm(",
     "library": "var_list.r",
     "varRefreshCmd": "cat(var_dic_list()) "
    }
   },
   "types_to_exclude": [
    "module",
    "function",
    "builtin_function_or_method",
    "instance",
    "_Feature"
   ],
   "window_display": false
  }
 },
 "nbformat": 4,
 "nbformat_minor": 4
}
