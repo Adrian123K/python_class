{
 "cells": [
  {
   "cell_type": "markdown",
   "metadata": {},
   "source": [
    "### ■ 예제155. 삽입정렬 (insertion sort)\n",
    "#### 정렬되지 않은 숫자들을 하나씩 빼서 정렬되어 있는 숫자 사이의 올바른 위치에 삽입하는 정렬 방법\n",
    "```python\n",
    "a=[5,4,3,2,1,8,9,10]\n",
    "print(insert_sort(a))          bubble_sort와 insert_sort 속도 비교 실험\n",
    "\n",
    "[1,2,3,4,5,6,7,8,9,10]\n",
    "```"
   ]
  },
  {
   "cell_type": "markdown",
   "metadata": {},
   "source": [
    "### ※ 문제333. 삽입정렬의 코드의 기본골격을 짜기 위해서 이중 for문으로 아래의 결과를 출력하시오\n",
    "```python\n",
    "i     j\n",
    "1     0\n",
    "1     1\n",
    "2     0\n",
    "2     1\n",
    "2     2\n",
    "...\n",
    "5     0\n",
    "5     1\n",
    "5     2\n",
    "5     3\n",
    "5     4\n",
    "5     5\n",
    "```"
   ]
  },
  {
   "cell_type": "code",
   "execution_count": 4,
   "metadata": {
    "ExecuteTime": {
     "end_time": "2020-06-04T07:15:58.638714Z",
     "start_time": "2020-06-04T07:15:58.633718Z"
    }
   },
   "outputs": [
    {
     "name": "stdout",
     "output_type": "stream",
     "text": [
      "1   0\n",
      "1   1\n",
      "2   0\n",
      "2   1\n",
      "2   2\n",
      "3   0\n",
      "3   1\n",
      "3   2\n",
      "3   3\n",
      "4   0\n",
      "4   1\n",
      "4   2\n",
      "4   3\n",
      "4   4\n",
      "5   0\n",
      "5   1\n",
      "5   2\n",
      "5   3\n",
      "5   4\n",
      "5   5\n"
     ]
    }
   ],
   "source": [
    "for i in range(1,6):\n",
    "    for j in range(i+1):\n",
    "        print(f'{i}   {j}')"
   ]
  },
  {
   "cell_type": "markdown",
   "metadata": {},
   "source": [
    "### ※ 문제334. 아래의 a리스트의 요소를 위의 for loop문으로 가져오시오"
   ]
  },
  {
   "cell_type": "code",
   "execution_count": 23,
   "metadata": {
    "ExecuteTime": {
     "end_time": "2020-06-04T07:31:57.552502Z",
     "start_time": "2020-06-04T07:31:57.546506Z"
    }
   },
   "outputs": [
    {
     "name": "stdout",
     "output_type": "stream",
     "text": [
      "4   5\n",
      "3   5\n",
      "3   4\n",
      "2   5\n",
      "2   4\n",
      "2   3\n",
      "1   5\n",
      "1   4\n",
      "1   3\n",
      "1   2\n",
      "8   5\n",
      "8   4\n",
      "8   3\n",
      "8   2\n",
      "8   1\n",
      "9   5\n",
      "9   4\n",
      "9   3\n",
      "9   2\n",
      "9   1\n",
      "9   8\n",
      "10   5\n",
      "10   4\n",
      "10   3\n",
      "10   2\n",
      "10   1\n",
      "10   8\n",
      "10   9\n"
     ]
    }
   ],
   "source": [
    "a=[5,4,3,2,1,8,9,10]\n",
    "for i in range(1,len(a)):\n",
    "    for j in range(i):\n",
    "        print(f'{a[i]}   {a[j]}')"
   ]
  },
  {
   "cell_type": "markdown",
   "metadata": {},
   "source": [
    "### ※ 문제335. 아래의 코드를 이용해서 삽입정렬을 완성하시오\n",
    "```python\n",
    "a=[5,4,3,2,1,8,9,10]\n",
    "for i in range(1,len(a)):\n",
    "    for j in range(i):\n",
    "        print(f'{a[i]}   {a[j]}')\n",
    "```"
   ]
  },
  {
   "cell_type": "code",
   "execution_count": 4,
   "metadata": {
    "ExecuteTime": {
     "end_time": "2020-06-12T04:28:25.974321Z",
     "start_time": "2020-06-12T04:28:25.962329Z"
    }
   },
   "outputs": [
    {
     "data": {
      "text/plain": [
       "[1, 2, 3, 4, 5, 8, 9, 10]"
      ]
     },
     "execution_count": 4,
     "metadata": {},
     "output_type": "execute_result"
    }
   ],
   "source": [
    "import random\n",
    "import time\n",
    "def insert_sort(a):\n",
    "    \"\"\"\n",
    "    a=any kind of list\n",
    "    \"\"\"\n",
    "    for i in range(1,len(a)):\n",
    "        for j in range(i):\n",
    "            if a[i]<a[j]:            \n",
    "                a.insert(a.index(a[j]),a.pop(i))                \n",
    "    return a\n",
    "\n",
    "a=[5,4,3,2,1,8,9,10]\n",
    "insert_sort(a)"
   ]
  },
  {
   "cell_type": "code",
   "execution_count": 59,
   "metadata": {
    "ExecuteTime": {
     "end_time": "2020-06-04T08:44:22.324271Z",
     "start_time": "2020-06-04T08:44:22.317275Z"
    }
   },
   "outputs": [
    {
     "data": {
      "text/plain": [
       "[2, 1, 3]"
      ]
     },
     "execution_count": 59,
     "metadata": {},
     "output_type": "execute_result"
    }
   ],
   "source": [
    "ls=[1,2,3]\n",
    "ls.insert(0,ls.pop(1))\n",
    "ls"
   ]
  },
  {
   "cell_type": "code",
   "execution_count": null,
   "metadata": {},
   "outputs": [],
   "source": []
  },
  {
   "cell_type": "markdown",
   "metadata": {},
   "source": [
    "### ※(점심시간 문제) 동전던지기  도박사의 주장을 반론하기 위한  파이썬 알고리즘 32번을 신뢰구간 68% 에서 신뢰구간 95%로 변경해서 수행하세요 ~"
   ]
  },
  {
   "cell_type": "code",
   "execution_count": null,
   "metadata": {},
   "outputs": [],
   "source": [
    "def coin_hypo(coin, num, brief=68) : \n",
    "\n",
    "    import random\n",
    "    import numpy as np\n",
    "    import math\n",
    "    from scipy.stats import norm\n",
    "    import matplotlib.pyplot as plt\n",
    "\n",
    "    x = [i for i in range(coin +1)]\n",
    "    y = [0 for i in range(len(x))]\n",
    "\n",
    "    for i in range(100000):\n",
    "        sum=0\n",
    "        for j in range(coin):\n",
    "            sum+=random.randint(0,1)\n",
    "        y[sum]+=1\n",
    "\n",
    "    for i in range(coin+1):\n",
    "        y[i]/=100000\n",
    "\n",
    "    m = []\n",
    "    for k in range(len(x)) :\n",
    "        m.append( x[k] * y[k] )\n",
    "    mu = np.sum(m)\n",
    "    mu\n",
    "    var = []\n",
    "    for k in range(len(x)) :\n",
    "        var.append(((x[k] - mu)**2)*y[k])\n",
    "    var_s = np.sum(var)\n",
    "    sd = math.sqrt(var_s)\n",
    "    \n",
    "    if brief == 68:\n",
    "        z=1.02\n",
    "    elif brief == 95:\n",
    "        z=1.96\n",
    "    elif brief == 99:\n",
    "        z=2.58\n",
    "    \n",
    "    x_1 = mu - z * sd\n",
    "    x_2 = mu + z * sd\n",
    "\n",
    "    plt.rcParams[\"figure.figsize\"] = (11, 8)\n",
    "    plt.bar(x, y,  align='center', color='red', alpha = 0.7)  # 막대그래프 시각화\n",
    "    plt.fill_between(x , y,  where = (x_1 < x) & (x < x_2) , color = 'blue', alpha = 0.3)\n",
    "    plt.plot(x, y, color = 'blue', alpha = 0.4)\n",
    "    plt.xlabel('# of T', fontsize = 15) # x축 이름\n",
    "    plt.ylabel('Probability', fontsize = 15) # y축 이름\n",
    "    plt.title('Coin Probability', fontsize = 20)  # 그래프 제목\n",
    "    plt.show()\n",
    "    if x_1 <= num <=  x_2 :\n",
    "        return f'동전을 {coin} 번 던졌을 때 뒷면이 나오는 횟수가 {num} 번 나올 확률은 신뢰구간 {brief}% 안에 있습니다.'\n",
    "    else :\n",
    "        return f'동전을 {coin} 번 던졌을 때 뒷면이 나오는 횟수가 {num} 번 나올 확률은 신뢰구간 {brief}% 안에 없습니다.'\n",
    "\n",
    "print(coin_hypo(coin = 8, num = 7))"
   ]
  },
  {
   "cell_type": "code",
   "execution_count": 1,
   "metadata": {
    "ExecuteTime": {
     "end_time": "2020-06-04T02:08:45.586766Z",
     "start_time": "2020-06-04T02:08:40.931467Z"
    }
   },
   "outputs": [
    {
     "name": "stdout",
     "output_type": "stream",
     "text": [
      "8번 던져 7번 나오는 경우는 신뢰구간 95% 안에 없다.\n"
     ]
    },
    {
     "data": {
      "image/png": "[encoded data removed]",
      "text/plain": [
       "<Figure size 432x288 with 1 Axes>"
      ]
     },
     "metadata": {
      "needs_background": "light"
     },
     "output_type": "display_data"
    }
   ],
   "source": [
    "import random\n",
    "import matplotlib.pyplot as plt\n",
    "import numpy as np\n",
    "from scipy.stats import norm\n",
    "import math\n",
    "\n",
    "coin = ['앞면', '뒷면']\n",
    "x = np.arange(0,9)\n",
    "r = math.sqrt(2)\n",
    "o = math.sqrt(8)\n",
    "y = norm.pdf(x, 4, r)\n",
    "\n",
    "plt.bar(x, y, tick_label = x, align='center')\n",
    "\n",
    "if (7 / 8 - 4) / r * o>= -1.96 and (7 / 8 - 4) / r * o <= 1.96:\n",
    "    print('8번 던져 7번 나오는 경우는 신뢰구간 95% 안에 있다')\n",
    "else:\n",
    "    print('8번 던져 7번 나오는 경우는 신뢰구간 95% 안에 없다.')"
   ]
  }
 ],
 "metadata": {
  "kernelspec": {
   "display_name": "Python 3",
   "language": "python",
   "name": "python3"
  },
  "language_info": {
   "codemirror_mode": {
    "name": "ipython",
    "version": 3
   },
   "file_extension": ".py",
   "mimetype": "text/x-python",
   "name": "python",
   "nbconvert_exporter": "python",
   "pygments_lexer": "ipython3",
   "version": "3.7.6"
  },
  "toc": {
   "base_numbering": 1,
   "nav_menu": {},
   "number_sections": true,
   "sideBar": true,
   "skip_h1_title": false,
   "title_cell": "Table of Contents",
   "title_sidebar": "Contents",
   "toc_cell": false,
   "toc_position": {},
   "toc_section_display": true,
   "toc_window_display": false
  },
  "varInspector": {
   "cols": {
    "lenName": 16,
    "lenType": 16,
    "lenVar": 40
   },
   "kernels_config": {
    "python": {
     "delete_cmd_postfix": "",
     "delete_cmd_prefix": "del ",
     "library": "var_list.py",
     "varRefreshCmd": "print(var_dic_list())"
    },
    "r": {
     "delete_cmd_postfix": ") ",
     "delete_cmd_prefix": "rm(",
     "library": "var_list.r",
     "varRefreshCmd": "cat(var_dic_list()) "
    }
   },
   "types_to_exclude": [
    "module",
    "function",
    "builtin_function_or_method",
    "instance",
    "_Feature"
   ],
   "window_display": false
  }
 },
 "nbformat": 4,
 "nbformat_minor": 4
}
