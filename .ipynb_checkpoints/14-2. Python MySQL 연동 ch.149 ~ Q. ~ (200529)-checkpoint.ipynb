{
 "cells": [
  {
   "cell_type": "markdown",
   "metadata": {},
   "source": [
    "### ■ 예제149. 파이썬과 mySQL 연동\n",
    "#### 이미지를 숫자로 변환해서 Oracle 또는 mySQL에 저장하는데 오라클은 비싸서 이미지와 같은 빅데이터는 주로 mySQL에 저장"
   ]
  },
  {
   "cell_type": "markdown",
   "metadata": {},
   "source": [
    "### ※ 문제293. 직업이 salesman인 사원들의 이름과 월급과 직업을 출력하시오"
   ]
  },
  {
   "cell_type": "markdown",
   "metadata": {},
   "source": [
    "```mysql\n",
    "select ename, sal, job\n",
    "    from emp\n",
    "    where job='SALESMAN';\n",
    "    ```\n"
   ]
  },
  {
   "cell_type": "markdown",
   "metadata": {},
   "source": [
    "시퀄서버 -------> MSSQL\n",
    "```\n",
    "    * 현업에서 많이 사용하는 데이터베이스\n",
    "1. Oracle        -> 중요한 데이터\n",
    "2. MySQL         -> 상대적으로 덜 중요한 데이터(빅데이터 로그성, 이미지 등)\n",
    "3. MSSQL         -> 게임회사?\n",
    "```\n",
    "3가지 전부를 파이썬과 연동할 줄 알아야 함\n",
    "```\n",
    "MySQL 접속 할 때마다 use db명 을 해야한다\n",
    "```"
   ]
  },
  {
   "cell_type": "markdown",
   "metadata": {},
   "source": [
    "### ※ 문제294. 직업, 직업별 토탈월급을 출력하는데 직업별 토탈월급이 4000 이상인 것 만 출력하고 직업별 토탈월급이 높은 것부터 출력"
   ]
  },
  {
   "cell_type": "markdown",
   "metadata": {},
   "source": [
    "```mysql\n",
    "select job, sum(sal)\n",
    "    from emp\n",
    "    group by job\n",
    "    having sum(sal)>=4000\n",
    "    order by 2 desc;\n",
    "    ```\n"
   ]
  },
  {
   "cell_type": "markdown",
   "metadata": {},
   "source": [
    "### ■ Oracle과 MySQL의 함수 비교\n",
    "```\n",
    "        (Oracle)             (MySQL)\n",
    "    1.   nvl                 ifnull    \n",
    "    2.   sysdate             sysdate()\n",
    "    3.   months_between      period_add\n",
    "    4.   last_day            last_day\n",
    "    5.   decode              if\n",
    "    6.   case                case\n",
    "    7.   rollup              with rollup\n",
    "    8.   listagg             group_concat\n",
    "    ```"
   ]
  },
  {
   "cell_type": "markdown",
   "metadata": {},
   "source": [
    "### ※ 문제295. 이름, 커미션을 출력하는데 커미션이 null인 사람들은 0으로 출력하시오"
   ]
  },
  {
   "cell_type": "markdown",
   "metadata": {},
   "source": [
    "```mysql\n",
    "select ename, ifnull(comm, 0)\n",
    "\tfrom emp;\n",
    "    ```"
   ]
  },
  {
   "cell_type": "markdown",
   "metadata": {},
   "source": [
    "### ※ 문제296. 오늘 날짜를 출력하시오"
   ]
  },
  {
   "cell_type": "markdown",
   "metadata": {},
   "source": [
    "```mysql\n",
    "select sysdate();\n",
    "    ```"
   ]
  },
  {
   "cell_type": "markdown",
   "metadata": {},
   "source": [
    "### ※ 문제297. 부서번호, 부서번호별 토탈월급을 출력하는데 맨 아래쪽에 전체 토탈월급을 출력하시오"
   ]
  },
  {
   "cell_type": "markdown",
   "metadata": {},
   "source": [
    "```mysql\n",
    "select deptno, sum(sal)\n",
    "    from emp\n",
    "    group by deptno with rollup\n",
    "    ```"
   ]
  },
  {
   "cell_type": "markdown",
   "metadata": {},
   "source": [
    "### ※ 문제298. scott의 월급을 0로 변경하시오"
   ]
  },
  {
   "cell_type": "markdown",
   "metadata": {},
   "source": [
    "```mysql\n",
    "update emp set sal=3000 where ename='scott';\n",
    "```"
   ]
  },
  {
   "cell_type": "markdown",
   "metadata": {},
   "source": [
    "### ※ 문제299. 오라클의 도스창같은 mysql command창에서도 autocommit 옵션을 확인하고 해제하시오"
   ]
  },
  {
   "cell_type": "markdown",
   "metadata": {},
   "source": [
    "```mysql\n",
    "mysql> select @@autocommit;\n",
    "+--------------+\n",
    "| @@autocommit |\n",
    "+--------------+\n",
    "|            1 |\n",
    "+--------------+\n",
    "1 row in set (0.00 sec)\n",
    "\n",
    "mysql> set autocommit=false;\n",
    "Query OK, 0 rows affected (0.00 sec)\n",
    "\n",
    "mysql> select @@autocommit;\n",
    "+--------------+\n",
    "| @@autocommit |\n",
    "+--------------+\n",
    "|            0 |\n",
    "+--------------+\n",
    "1 row in set (0.00 sec)\n",
    "\n",
    "```\n",
    "#### 창을 새롭게 열면 다시 autocommit이 활성화 되어있음"
   ]
  },
  {
   "cell_type": "markdown",
   "metadata": {},
   "source": [
    "### ※ 문제300. 오라클의 listagg 함수와 같은 group_concat을 사용해서 부서번호, 부서번호별로 속한 사원들의 이름을 가로로 출력하시오"
   ]
  },
  {
   "cell_type": "markdown",
   "metadata": {},
   "source": [
    "```mysql\n",
    "select deptno, group_concat(ename separator ',')\n",
    "\tfrom emp\n",
    "    group by deptno;\n",
    "    ```"
   ]
  },
  {
   "cell_type": "markdown",
   "metadata": {},
   "source": [
    "### ※ MySQL과 MSSQL에서 DML 작업을 할 때는 Oracle과 다르게 autocommit 기능이 기본적으로 활성화 되어져있으니 반드시 주의해야 한다"
   ]
  },
  {
   "cell_type": "markdown",
   "metadata": {},
   "source": [
    "### ※ 문제301. 파이썬과 MySQL을 서로 연동하시오"
   ]
  },
  {
   "cell_type": "code",
   "execution_count": 2,
   "metadata": {
    "ExecuteTime": {
     "end_time": "2020-05-29T05:54:03.415811Z",
     "start_time": "2020-05-29T05:54:03.390825Z"
    }
   },
   "outputs": [
    {
     "name": "stdout",
     "output_type": "stream",
     "text": [
      "(7839, 'KING', 'PRESIDENT', None, datetime.date(1981, 11, 17), 5000, None, 10)\n",
      "(7698, 'BLAKE', 'MANAGER', 7839, datetime.date(1981, 5, 1), 2850, None, 30)\n",
      "(7782, 'CLARK', 'MANAGER', 7839, datetime.date(1981, 5, 9), 2450, None, 10)\n",
      "(7566, 'JONES', 'MANAGER', 7839, datetime.date(1981, 4, 1), 2975, None, 20)\n",
      "(7654, 'MARTIN', 'SALESMAN', 7698, datetime.date(1981, 9, 10), 1250, 1400, 30)\n",
      "(7844, 'TURNER', 'SALESMAN', 7698, datetime.date(1981, 8, 21), 1500, 0, 30)\n",
      "(7900, 'JAMES', 'CLERK', 7698, datetime.date(1981, 12, 11), 950, None, 30)\n",
      "(7521, 'WARD', 'SALESMAN', 7698, datetime.date(1981, 2, 23), 1250, 500, 30)\n",
      "(7902, 'FORD', 'ANALYST', 7566, datetime.date(1981, 12, 11), 3000, None, 20)\n",
      "(7369, 'SMITH', 'CLERK', 7902, datetime.date(1980, 12, 9), 800, None, 20)\n",
      "(7788, 'SCOTT', 'ANALYST', 7566, datetime.date(1982, 12, 22), 0, None, 20)\n",
      "(7876, 'ADAMS', 'CLERK', 7788, datetime.date(1983, 1, 15), 1100, None, 20)\n",
      "(7934, 'MILLER', 'CLERK', 7782, datetime.date(1982, 1, 11), 1300, None, 10)\n"
     ]
    }
   ],
   "source": [
    "import pymysql\n",
    "\n",
    "# MySQL Connection 연결\n",
    "conn = pymysql.connect(host='localhost', user='root', password='Adrian30s!', db='orcl', charset='utf8')\n",
    "\n",
    "# Connection 으로부터 Cursor 생성\n",
    "curs = conn.cursor()\n",
    "\n",
    "# SQL문 실행\n",
    "sql = \"select * from emp\"\n",
    "curs.execute(sql)\n",
    "\n",
    "# 데이타 Fetch\n",
    "rows = curs.fetchall()\n",
    "    # 전체 rows\n",
    "\n",
    "for i in rows:\n",
    "    print (i)\n",
    "\n",
    "# Connection 닫기\n",
    "conn.close()"
   ]
  },
  {
   "cell_type": "markdown",
   "metadata": {},
   "source": [
    "### ※ 문제302. 연동한 emp 데이터를 판다스 데이터프레임으로 변환해서 이름, 월급을 출력하시오"
   ]
  },
  {
   "cell_type": "code",
   "execution_count": 6,
   "metadata": {
    "ExecuteTime": {
     "end_time": "2020-05-29T06:06:23.654892Z",
     "start_time": "2020-05-29T06:06:23.637901Z"
    }
   },
   "outputs": [
    {
     "name": "stdout",
     "output_type": "stream",
     "text": [
      "(('ename', 253, None, 10, 10, 0, True), ('sal', 3, None, 7, 7, 0, True))\n"
     ]
    },
    {
     "data": {
      "text/html": [
       "<div>\n",
       "<style scoped>\n",
       "    .dataframe tbody tr th:only-of-type {\n",
       "        vertical-align: middle;\n",
       "    }\n",
       "\n",
       "    .dataframe tbody tr th {\n",
       "        vertical-align: top;\n",
       "    }\n",
       "\n",
       "    .dataframe thead th {\n",
       "        text-align: right;\n",
       "    }\n",
       "</style>\n",
       "<table border=\"1\" class=\"dataframe\">\n",
       "  <thead>\n",
       "    <tr style=\"text-align: right;\">\n",
       "      <th></th>\n",
       "      <th>ENAME</th>\n",
       "      <th>SAL</th>\n",
       "    </tr>\n",
       "  </thead>\n",
       "  <tbody>\n",
       "    <tr>\n",
       "      <th>0</th>\n",
       "      <td>KING</td>\n",
       "      <td>5000</td>\n",
       "    </tr>\n",
       "    <tr>\n",
       "      <th>1</th>\n",
       "      <td>BLAKE</td>\n",
       "      <td>2850</td>\n",
       "    </tr>\n",
       "    <tr>\n",
       "      <th>2</th>\n",
       "      <td>CLARK</td>\n",
       "      <td>2450</td>\n",
       "    </tr>\n",
       "    <tr>\n",
       "      <th>3</th>\n",
       "      <td>JONES</td>\n",
       "      <td>2975</td>\n",
       "    </tr>\n",
       "    <tr>\n",
       "      <th>4</th>\n",
       "      <td>MARTIN</td>\n",
       "      <td>1250</td>\n",
       "    </tr>\n",
       "    <tr>\n",
       "      <th>5</th>\n",
       "      <td>TURNER</td>\n",
       "      <td>1500</td>\n",
       "    </tr>\n",
       "    <tr>\n",
       "      <th>6</th>\n",
       "      <td>JAMES</td>\n",
       "      <td>950</td>\n",
       "    </tr>\n",
       "    <tr>\n",
       "      <th>7</th>\n",
       "      <td>WARD</td>\n",
       "      <td>1250</td>\n",
       "    </tr>\n",
       "    <tr>\n",
       "      <th>8</th>\n",
       "      <td>FORD</td>\n",
       "      <td>3000</td>\n",
       "    </tr>\n",
       "    <tr>\n",
       "      <th>9</th>\n",
       "      <td>SMITH</td>\n",
       "      <td>800</td>\n",
       "    </tr>\n",
       "    <tr>\n",
       "      <th>10</th>\n",
       "      <td>SCOTT</td>\n",
       "      <td>0</td>\n",
       "    </tr>\n",
       "    <tr>\n",
       "      <th>11</th>\n",
       "      <td>ADAMS</td>\n",
       "      <td>1100</td>\n",
       "    </tr>\n",
       "    <tr>\n",
       "      <th>12</th>\n",
       "      <td>MILLER</td>\n",
       "      <td>1300</td>\n",
       "    </tr>\n",
       "  </tbody>\n",
       "</table>\n",
       "</div>"
      ],
      "text/plain": [
       "     ENAME   SAL\n",
       "0     KING  5000\n",
       "1    BLAKE  2850\n",
       "2    CLARK  2450\n",
       "3    JONES  2975\n",
       "4   MARTIN  1250\n",
       "5   TURNER  1500\n",
       "6    JAMES   950\n",
       "7     WARD  1250\n",
       "8     FORD  3000\n",
       "9    SMITH   800\n",
       "10   SCOTT     0\n",
       "11   ADAMS  1100\n",
       "12  MILLER  1300"
      ]
     },
     "execution_count": 6,
     "metadata": {},
     "output_type": "execute_result"
    }
   ],
   "source": [
    "import pymysql,pandas as pd\n",
    "conn = pymysql.connect(host=\"localhost\", user=\"root\",password=\"\",\n",
    "                       db=\"orcl\",charset=\"utf8\")\n",
    "curs = conn.cursor()\n",
    "\n",
    "sql = \"select ename,sal from emp\"\n",
    "curs.execute(sql)\n",
    "\n",
    "rows = curs.fetchall()\n",
    "colname = curs.description\n",
    "print(colname)\n",
    "\n",
    "col = []\n",
    "for i in colname:\n",
    "    col.append(i[0].upper())\n",
    "emp = pd.DataFrame(list(rows),columns=col)\n",
    "emp"
   ]
  },
  {
   "cell_type": "code",
   "execution_count": 4,
   "metadata": {
    "ExecuteTime": {
     "end_time": "2020-05-29T06:03:15.510689Z",
     "start_time": "2020-05-29T06:03:15.440698Z"
    }
   },
   "outputs": [
    {
     "data": {
      "text/html": [
       "<div>\n",
       "<style scoped>\n",
       "    .dataframe tbody tr th:only-of-type {\n",
       "        vertical-align: middle;\n",
       "    }\n",
       "\n",
       "    .dataframe tbody tr th {\n",
       "        vertical-align: top;\n",
       "    }\n",
       "\n",
       "    .dataframe thead th {\n",
       "        text-align: right;\n",
       "    }\n",
       "</style>\n",
       "<table border=\"1\" class=\"dataframe\">\n",
       "  <thead>\n",
       "    <tr style=\"text-align: right;\">\n",
       "      <th></th>\n",
       "      <th>0</th>\n",
       "      <th>1</th>\n",
       "    </tr>\n",
       "  </thead>\n",
       "  <tbody>\n",
       "    <tr>\n",
       "      <th>0</th>\n",
       "      <td>KING</td>\n",
       "      <td>5000</td>\n",
       "    </tr>\n",
       "    <tr>\n",
       "      <th>1</th>\n",
       "      <td>BLAKE</td>\n",
       "      <td>2850</td>\n",
       "    </tr>\n",
       "    <tr>\n",
       "      <th>2</th>\n",
       "      <td>CLARK</td>\n",
       "      <td>2450</td>\n",
       "    </tr>\n",
       "    <tr>\n",
       "      <th>3</th>\n",
       "      <td>JONES</td>\n",
       "      <td>2975</td>\n",
       "    </tr>\n",
       "    <tr>\n",
       "      <th>4</th>\n",
       "      <td>MARTIN</td>\n",
       "      <td>1250</td>\n",
       "    </tr>\n",
       "    <tr>\n",
       "      <th>5</th>\n",
       "      <td>TURNER</td>\n",
       "      <td>1500</td>\n",
       "    </tr>\n",
       "    <tr>\n",
       "      <th>6</th>\n",
       "      <td>JAMES</td>\n",
       "      <td>950</td>\n",
       "    </tr>\n",
       "    <tr>\n",
       "      <th>7</th>\n",
       "      <td>WARD</td>\n",
       "      <td>1250</td>\n",
       "    </tr>\n",
       "    <tr>\n",
       "      <th>8</th>\n",
       "      <td>FORD</td>\n",
       "      <td>3000</td>\n",
       "    </tr>\n",
       "    <tr>\n",
       "      <th>9</th>\n",
       "      <td>SMITH</td>\n",
       "      <td>800</td>\n",
       "    </tr>\n",
       "    <tr>\n",
       "      <th>10</th>\n",
       "      <td>SCOTT</td>\n",
       "      <td>0</td>\n",
       "    </tr>\n",
       "    <tr>\n",
       "      <th>11</th>\n",
       "      <td>ADAMS</td>\n",
       "      <td>1100</td>\n",
       "    </tr>\n",
       "    <tr>\n",
       "      <th>12</th>\n",
       "      <td>MILLER</td>\n",
       "      <td>1300</td>\n",
       "    </tr>\n",
       "  </tbody>\n",
       "</table>\n",
       "</div>"
      ],
      "text/plain": [
       "         0     1\n",
       "0     KING  5000\n",
       "1    BLAKE  2850\n",
       "2    CLARK  2450\n",
       "3    JONES  2975\n",
       "4   MARTIN  1250\n",
       "5   TURNER  1500\n",
       "6    JAMES   950\n",
       "7     WARD  1250\n",
       "8     FORD  3000\n",
       "9    SMITH   800\n",
       "10   SCOTT     0\n",
       "11   ADAMS  1100\n",
       "12  MILLER  1300"
      ]
     },
     "execution_count": 4,
     "metadata": {},
     "output_type": "execute_result"
    }
   ],
   "source": [
    "import pymysql\n",
    "import pandas as pd\n",
    "conn = pymysql.connect(host='localhost', user='root',\\\n",
    "                       password='', db='orcl', charset='utf8')\n",
    "curs = conn.cursor()\n",
    "\n",
    "sql = \"select ename,sal from emp\"\n",
    "curs.execute(sql)\n",
    "\n",
    "rows = curs.fetchall()\n",
    "emp = pd.DataFrame(list(rows))\n",
    "emp"
   ]
  },
  {
   "cell_type": "markdown",
   "metadata": {},
   "source": [
    "### ※ 문제303. import oracle이라고 해서 편하게 오카르과 연동했던 것처럼 import mysql이라고 해서 사용할 수 있도록 모듈화 시키시오"
   ]
  },
  {
   "cell_type": "code",
   "execution_count": 1,
   "metadata": {
    "ExecuteTime": {
     "end_time": "2020-05-29T06:21:53.185529Z",
     "start_time": "2020-05-29T06:21:52.818457Z"
    }
   },
   "outputs": [
    {
     "data": {
      "text/html": [
       "<div>\n",
       "<style scoped>\n",
       "    .dataframe tbody tr th:only-of-type {\n",
       "        vertical-align: middle;\n",
       "    }\n",
       "\n",
       "    .dataframe tbody tr th {\n",
       "        vertical-align: top;\n",
       "    }\n",
       "\n",
       "    .dataframe thead th {\n",
       "        text-align: right;\n",
       "    }\n",
       "</style>\n",
       "<table border=\"1\" class=\"dataframe\">\n",
       "  <thead>\n",
       "    <tr style=\"text-align: right;\">\n",
       "      <th></th>\n",
       "      <th>ename</th>\n",
       "      <th>sal</th>\n",
       "    </tr>\n",
       "  </thead>\n",
       "  <tbody>\n",
       "    <tr>\n",
       "      <th>0</th>\n",
       "      <td>KING</td>\n",
       "      <td>5000</td>\n",
       "    </tr>\n",
       "    <tr>\n",
       "      <th>1</th>\n",
       "      <td>BLAKE</td>\n",
       "      <td>2850</td>\n",
       "    </tr>\n",
       "    <tr>\n",
       "      <th>2</th>\n",
       "      <td>CLARK</td>\n",
       "      <td>2450</td>\n",
       "    </tr>\n",
       "    <tr>\n",
       "      <th>3</th>\n",
       "      <td>JONES</td>\n",
       "      <td>2975</td>\n",
       "    </tr>\n",
       "    <tr>\n",
       "      <th>4</th>\n",
       "      <td>MARTIN</td>\n",
       "      <td>1250</td>\n",
       "    </tr>\n",
       "    <tr>\n",
       "      <th>5</th>\n",
       "      <td>TURNER</td>\n",
       "      <td>1500</td>\n",
       "    </tr>\n",
       "    <tr>\n",
       "      <th>6</th>\n",
       "      <td>JAMES</td>\n",
       "      <td>950</td>\n",
       "    </tr>\n",
       "    <tr>\n",
       "      <th>7</th>\n",
       "      <td>WARD</td>\n",
       "      <td>1250</td>\n",
       "    </tr>\n",
       "    <tr>\n",
       "      <th>8</th>\n",
       "      <td>FORD</td>\n",
       "      <td>3000</td>\n",
       "    </tr>\n",
       "    <tr>\n",
       "      <th>9</th>\n",
       "      <td>SMITH</td>\n",
       "      <td>800</td>\n",
       "    </tr>\n",
       "    <tr>\n",
       "      <th>10</th>\n",
       "      <td>SCOTT</td>\n",
       "      <td>0</td>\n",
       "    </tr>\n",
       "    <tr>\n",
       "      <th>11</th>\n",
       "      <td>ADAMS</td>\n",
       "      <td>1100</td>\n",
       "    </tr>\n",
       "    <tr>\n",
       "      <th>12</th>\n",
       "      <td>MILLER</td>\n",
       "      <td>1300</td>\n",
       "    </tr>\n",
       "  </tbody>\n",
       "</table>\n",
       "</div>"
      ],
      "text/plain": [
       "     ename   sal\n",
       "0     KING  5000\n",
       "1    BLAKE  2850\n",
       "2    CLARK  2450\n",
       "3    JONES  2975\n",
       "4   MARTIN  1250\n",
       "5   TURNER  1500\n",
       "6    JAMES   950\n",
       "7     WARD  1250\n",
       "8     FORD  3000\n",
       "9    SMITH   800\n",
       "10   SCOTT     0\n",
       "11   ADAMS  1100\n",
       "12  MILLER  1300"
      ]
     },
     "execution_count": 1,
     "metadata": {},
     "output_type": "execute_result"
    }
   ],
   "source": [
    "from my_loc import mysql\n",
    "\n",
    "emp=mysql.mysql('emp')\n",
    "emp[['ename','sal']]"
   ]
  },
  {
   "cell_type": "code",
   "execution_count": null,
   "metadata": {},
   "outputs": [],
   "source": []
  },
  {
   "cell_type": "code",
   "execution_count": null,
   "metadata": {},
   "outputs": [],
   "source": []
  },
  {
   "cell_type": "code",
   "execution_count": null,
   "metadata": {},
   "outputs": [],
   "source": []
  },
  {
   "cell_type": "code",
   "execution_count": null,
   "metadata": {},
   "outputs": [],
   "source": []
  }
 ],
 "metadata": {
  "kernelspec": {
   "display_name": "Python 3",
   "language": "python",
   "name": "python3"
  },
  "language_info": {
   "codemirror_mode": {
    "name": "ipython",
    "version": 3
   },
   "file_extension": ".py",
   "mimetype": "text/x-python",
   "name": "python",
   "nbconvert_exporter": "python",
   "pygments_lexer": "ipython3",
   "version": "3.7.6"
  },
  "varInspector": {
   "cols": {
    "lenName": 16,
    "lenType": 16,
    "lenVar": 40
   },
   "kernels_config": {
    "python": {
     "delete_cmd_postfix": "",
     "delete_cmd_prefix": "del ",
     "library": "var_list.py",
     "varRefreshCmd": "print(var_dic_list())"
    },
    "r": {
     "delete_cmd_postfix": ") ",
     "delete_cmd_prefix": "rm(",
     "library": "var_list.r",
     "varRefreshCmd": "cat(var_dic_list()) "
    }
   },
   "types_to_exclude": [
    "module",
    "function",
    "builtin_function_or_method",
    "instance",
    "_Feature"
   ],
   "window_display": false
  }
 },
 "nbformat": 4,
 "nbformat_minor": 4
}
