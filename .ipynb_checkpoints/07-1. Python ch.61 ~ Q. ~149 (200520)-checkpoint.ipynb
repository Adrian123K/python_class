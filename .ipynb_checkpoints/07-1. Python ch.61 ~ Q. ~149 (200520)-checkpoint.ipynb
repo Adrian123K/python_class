{
 "cells": [
  {
   "cell_type": "markdown",
   "metadata": {},
   "source": [
    "### ■예제61. 자료형 확인하기 (type)\n",
    "#### 파이썬의 자료형은 하나의 클래스. 파이썬은 숫자나 문자, 문자열, 리스트, 튜플, 사전, 함수 등을 각각 하나의 클래스로 취급\n",
    "#### 코드를 작성하다가 변수 이름만 보고 이 자료가 어떤 자료형인지 확인해야 하는 경우 type()을 활용하면 쉽게 확인 가능"
   ]
  },
  {
   "cell_type": "code",
   "execution_count": 12,
   "metadata": {
    "ExecuteTime": {
     "end_time": "2020-05-20T01:02:11.025313Z",
     "start_time": "2020-05-20T01:02:11.021315Z"
    }
   },
   "outputs": [
    {
     "name": "stdout",
     "output_type": "stream",
     "text": [
      "<class 'int'>\n",
      "<class 'str'>\n",
      "<class 'list'>\n"
     ]
    }
   ],
   "source": [
    "# 예제\n",
    "numdata=57\n",
    "print(type(numdata))\n",
    "strdata='파이썬'\n",
    "print(type(strdata))\n",
    "listdata=[1,2,3]\n",
    "print(type(listdata))"
   ]
  },
  {
   "cell_type": "markdown",
   "metadata": {},
   "source": [
    "### ※ 문제135. 딕셔너리 자료형을 만들고 위와 같이 type을 확인하시오~"
   ]
  },
  {
   "cell_type": "code",
   "execution_count": 13,
   "metadata": {
    "ExecuteTime": {
     "end_time": "2020-05-20T01:04:02.070362Z",
     "start_time": "2020-05-20T01:04:02.066364Z"
    }
   },
   "outputs": [
    {
     "name": "stdout",
     "output_type": "stream",
     "text": [
      "<class 'dict'>\n"
     ]
    }
   ],
   "source": [
    "dictdata={1:'a',2:'b',3:'c'}\n",
    "print(type(dictdata))"
   ]
  },
  {
   "cell_type": "markdown",
   "metadata": {},
   "source": [
    "### ■ 예제62. 나눗셈에서 나머지만 구하기(%)\n",
    "#### 나누기 연산에서 나머지만 구하는 연산을 모듈(module)로 연산이라 하며 기호는 mod로 표시"
   ]
  },
  {
   "cell_type": "code",
   "execution_count": 14,
   "metadata": {
    "ExecuteTime": {
     "end_time": "2020-05-20T01:07:26.781036Z",
     "start_time": "2020-05-20T01:07:26.777038Z"
    }
   },
   "outputs": [
    {
     "name": "stdout",
     "output_type": "stream",
     "text": [
      "0\n",
      "2\n"
     ]
    }
   ],
   "source": [
    "# 예시\n",
    "print(12%3)\n",
    "print(12%5)"
   ]
  },
  {
   "cell_type": "markdown",
   "metadata": {},
   "source": [
    "### ※ 문제136. 아래와 같이 두개의 숫자를 각각 물어보게하고 아래의 메세지가 출력되게 하시오\n",
    "    첫번째 숫자를 입력하세요 ~ 1113  \n",
    "    두번째 숫자를 입력하세요 ~ 23  \n",
    "    1113을 23으로 나누면 9가 나머지로 남습니다."
   ]
  },
  {
   "cell_type": "code",
   "execution_count": 15,
   "metadata": {
    "ExecuteTime": {
     "end_time": "2020-05-20T01:09:30.904809Z",
     "start_time": "2020-05-20T01:09:28.116105Z"
    }
   },
   "outputs": [
    {
     "name": "stdout",
     "output_type": "stream",
     "text": [
      "1113\n",
      "23\n",
      "1113을 23로 나누면 9가 나머지로 남습니다.\n"
     ]
    }
   ],
   "source": [
    "n1=int(input(''))\n",
    "n2=int(input(''))\n",
    "print(f'{n1}을 {n2}로 나누면 {n1%n2}가 나머지로 남습니다.')"
   ]
  },
  {
   "cell_type": "markdown",
   "metadata": {},
   "source": [
    "### ■ 예제63. 몫과 나머지 구하기 (divmod)"
   ]
  },
  {
   "cell_type": "code",
   "execution_count": 16,
   "metadata": {
    "ExecuteTime": {
     "end_time": "2020-05-20T01:14:37.707197Z",
     "start_time": "2020-05-20T01:14:37.701202Z"
    }
   },
   "outputs": [
    {
     "name": "stdout",
     "output_type": "stream",
     "text": [
      "48 9\n"
     ]
    }
   ],
   "source": [
    "# 예제\n",
    "n1=1113\n",
    "n2=23\n",
    "q ,r =divmod(n1,n2)\n",
    "print(q, r)"
   ]
  },
  {
   "cell_type": "markdown",
   "metadata": {},
   "source": [
    "#### ※ divmod 함수가 리턴하는 값이 2개여서 변수를 2개 사용함"
   ]
  },
  {
   "cell_type": "markdown",
   "metadata": {},
   "source": [
    "### ■ 예제64. Pandas를 이용한 데이터 검색\n",
    "      SQL  -----------> Pandas\n",
    "    Pandas ----------->   SQL"
   ]
  },
  {
   "cell_type": "markdown",
   "metadata": {},
   "source": [
    "#### 예제\n",
    "```python\n",
    "import pandas as pd\n",
    "emp[['ename','sal']][emp['ename']=='SCOTT']\n",
    "         열                 행\n",
    "```\n"
   ]
  },
  {
   "cell_type": "code",
   "execution_count": 18,
   "metadata": {
    "ExecuteTime": {
     "end_time": "2020-05-20T01:19:33.530619Z",
     "start_time": "2020-05-20T01:19:33.509631Z"
    }
   },
   "outputs": [
    {
     "name": "stdout",
     "output_type": "stream",
     "text": [
      "    ename   sal\n",
      "0    KING  5000\n",
      "9    FORD  3000\n",
      "11  SCOTT  3000\n"
     ]
    }
   ],
   "source": [
    "import pandas as pd\n",
    "emp=pd.read_csv('K:\\\\Itwill\\\\2. Python\\\\자료\\\\emp3.csv')\n",
    "print(emp[['ename','sal']][emp['sal']>=3000])\n",
    "                "
   ]
  },
  {
   "cell_type": "markdown",
   "metadata": {},
   "source": [
    "### ※ 문제137. 부서번호가 10번의 부서위치를 출력하시오"
   ]
  },
  {
   "cell_type": "code",
   "execution_count": 22,
   "metadata": {
    "ExecuteTime": {
     "end_time": "2020-05-20T01:22:08.533362Z",
     "start_time": "2020-05-20T01:22:08.524366Z"
    }
   },
   "outputs": [
    {
     "name": "stdout",
     "output_type": "stream",
     "text": [
      "        loc\n",
      "0  NEW YORK\n"
     ]
    }
   ],
   "source": [
    "dept=pd.read_csv('K:/Itwill/2. Python/자료/dept3.csv')\n",
    "print(dept[['loc']][dept['deptno']==10])"
   ]
  },
  {
   "cell_type": "markdown",
   "metadata": {},
   "source": [
    "### ■ 예제65. Pandas를 이용한 join\n",
    "```sql\n",
    "select e.ename, d.loc\n",
    "    from emp e, dept d\n",
    "    where e.deptno=d.deptno;\n",
    "    ```\n",
    "```python\n",
    "import pandas as pd\n",
    "\n",
    "emp=pd.read_csv('K:/Itwill/2. Python/자료/emp3.csv')\n",
    "dept=pd.read_csv('K:/Itwill/2. Python/자료/dept3.csv')\n",
    "result=pd.merge(emp, dept, on=\"deptno\") # on절에 join조건 작성\n",
    "print(result[['ename','loc']])\n",
    "```"
   ]
  },
  {
   "cell_type": "code",
   "execution_count": 23,
   "metadata": {
    "ExecuteTime": {
     "end_time": "2020-05-20T01:44:24.735716Z",
     "start_time": "2020-05-20T01:44:24.611005Z"
    }
   },
   "outputs": [
    {
     "name": "stdout",
     "output_type": "stream",
     "text": [
      "     ename       loc\n",
      "0     KING  NEW YORK\n",
      "1    CLARK  NEW YORK\n",
      "2   MILLER  NEW YORK\n",
      "3    BLAKE   CHICAGO\n",
      "4   MARTIN   CHICAGO\n",
      "5    ALLEN   CHICAGO\n",
      "6   TURNER   CHICAGO\n",
      "7    JAMES   CHICAGO\n",
      "8     WARD   CHICAGO\n",
      "9    JONES    DALLAS\n",
      "10    FORD    DALLAS\n",
      "11   SMITH    DALLAS\n",
      "12   SCOTT    DALLAS\n",
      "13   ADAMS    DALLAS\n"
     ]
    }
   ],
   "source": [
    "import pandas as pd\n",
    "\n",
    "emp=pd.read_csv('K:/Itwill/2. Python/자료/emp3.csv')\n",
    "dept=pd.read_csv('K:/Itwill/2. Python/자료/dept3.csv')\n",
    "result=pd.merge(emp, dept, on=\"deptno\")\n",
    "print(result[['ename','loc']])"
   ]
  },
  {
   "cell_type": "markdown",
   "metadata": {},
   "source": [
    "### ※ 문제138. 아래의 SQL을 Pandas로 구현하시오\n",
    "```sql\n",
    "select e.ename, d.loc\n",
    "    from emp e, dept d\n",
    "    where e.deptno=d.deptno\n",
    "        and d.loc='DALLAS'\n",
    "        ```"
   ]
  },
  {
   "cell_type": "code",
   "execution_count": 26,
   "metadata": {
    "ExecuteTime": {
     "end_time": "2020-05-20T01:46:54.682723Z",
     "start_time": "2020-05-20T01:46:54.669731Z"
    }
   },
   "outputs": [
    {
     "name": "stdout",
     "output_type": "stream",
     "text": [
      "    ename     loc\n",
      "9   JONES  DALLAS\n",
      "10   FORD  DALLAS\n",
      "11  SMITH  DALLAS\n",
      "12  SCOTT  DALLAS\n",
      "13  ADAMS  DALLAS\n"
     ]
    }
   ],
   "source": [
    "result=pd.merge(emp, dept, on='deptno')\n",
    "print(result[['ename','loc']][result['loc']=='dallas'.upper()])"
   ]
  },
  {
   "cell_type": "markdown",
   "metadata": {},
   "source": [
    "### ※ 문제139. 아래의 SQL을 Pandas로 구현하시오\n",
    "```sql\n",
    "select e.ename, d.loc\n",
    "    from emp e, dept d\n",
    "    where e.deptno = d.deptno(+)\n",
    "    ```"
   ]
  },
  {
   "cell_type": "code",
   "execution_count": 31,
   "metadata": {
    "ExecuteTime": {
     "end_time": "2020-05-20T01:51:18.518479Z",
     "start_time": "2020-05-20T01:51:18.506486Z"
    }
   },
   "outputs": [
    {
     "name": "stdout",
     "output_type": "stream",
     "text": [
      "     ename       loc\n",
      "0     KING  NEW YORK\n",
      "1    BLAKE   CHICAGO\n",
      "2    CLARK  NEW YORK\n",
      "3    JONES    DALLAS\n",
      "4   MARTIN   CHICAGO\n",
      "5    ALLEN   CHICAGO\n",
      "6   TURNER   CHICAGO\n",
      "7    JAMES   CHICAGO\n",
      "8     WARD   CHICAGO\n",
      "9     FORD    DALLAS\n",
      "10   SMITH    DALLAS\n",
      "11   SCOTT    DALLAS\n",
      "12   ADAMS    DALLAS\n",
      "13  MILLER  NEW YORK\n"
     ]
    }
   ],
   "source": [
    "result=pd.merge(emp, dept, on='deptno', how='left')\n",
    "print(result[['ename','loc']])"
   ]
  },
  {
   "cell_type": "markdown",
   "metadata": {},
   "source": [
    "### ※ 문제140. 아래의 SQL을 Pandas로 구현하시오\n",
    "```sql\n",
    "select e.ename, d.loc\n",
    "    from emp e full outer join dept d\n",
    "    on (e.deptno = d.deptno);\n",
    "    ```"
   ]
  },
  {
   "cell_type": "code",
   "execution_count": 34,
   "metadata": {
    "ExecuteTime": {
     "end_time": "2020-05-20T01:52:48.460713Z",
     "start_time": "2020-05-20T01:52:48.447721Z"
    }
   },
   "outputs": [
    {
     "name": "stdout",
     "output_type": "stream",
     "text": [
      "     ename       loc\n",
      "0     KING  NEW YORK\n",
      "1    CLARK  NEW YORK\n",
      "2   MILLER  NEW YORK\n",
      "3    BLAKE   CHICAGO\n",
      "4   MARTIN   CHICAGO\n",
      "5    ALLEN   CHICAGO\n",
      "6   TURNER   CHICAGO\n",
      "7    JAMES   CHICAGO\n",
      "8     WARD   CHICAGO\n",
      "9    JONES    DALLAS\n",
      "10    FORD    DALLAS\n",
      "11   SMITH    DALLAS\n",
      "12   SCOTT    DALLAS\n",
      "13   ADAMS    DALLAS\n",
      "14     NaN    BOSTON\n"
     ]
    }
   ],
   "source": [
    "result=pd.merge(emp, dept, on='deptno',how='outer')\n",
    "print(result[['ename','loc']])"
   ]
  },
  {
   "cell_type": "markdown",
   "metadata": {},
   "source": [
    "### ■ 예제66. Pandas를 이용한 서브쿼리\n",
    "```sql\n",
    "select ename, sal\n",
    "    from emp\n",
    "    where sal = (select max(sal)\n",
    "                     from emp);\n",
    "                     ```\n",
    " ```python\n",
    "import pandas as pd\n",
    "\n",
    "emp=pd.read_csv('K:/Itwill/2. Python/자료/emp3.csv')\n",
    "maxsal=emp['sal'].max()\n",
    "print(maxsal)\n",
    "```\n"
   ]
  },
  {
   "cell_type": "code",
   "execution_count": 37,
   "metadata": {
    "ExecuteTime": {
     "end_time": "2020-05-20T01:56:10.878884Z",
     "start_time": "2020-05-20T01:56:10.866893Z"
    }
   },
   "outputs": [
    {
     "name": "stdout",
     "output_type": "stream",
     "text": [
      "  ename   sal\n",
      "0  KING  5000\n"
     ]
    }
   ],
   "source": [
    "import pandas as pd\n",
    "\n",
    "emp=pd.read_csv('K:/Itwill/2. Python/자료/emp3.csv')\n",
    "maxsal=emp['sal'].max()\n",
    "result=emp[['ename','sal']][emp['sal']==maxsal]\n",
    "print(result)"
   ]
  },
  {
   "cell_type": "markdown",
   "metadata": {},
   "source": [
    "### ※ 문제141. 아래의 SQL을 Pandas로 구현하시오\n",
    "```sql\n",
    "select ename, sal\n",
    "    from emp\n",
    "    where sal > (select sal\n",
    "                     from emp\n",
    "                     where ename='JONES')\n",
    "                     ```"
   ]
  },
  {
   "cell_type": "code",
   "execution_count": 43,
   "metadata": {
    "ExecuteTime": {
     "end_time": "2020-05-20T02:00:59.500738Z",
     "start_time": "2020-05-20T02:00:59.475754Z"
    }
   },
   "outputs": [
    {
     "data": {
      "text/html": [
       "<div>\n",
       "<style scoped>\n",
       "    .dataframe tbody tr th:only-of-type {\n",
       "        vertical-align: middle;\n",
       "    }\n",
       "\n",
       "    .dataframe tbody tr th {\n",
       "        vertical-align: top;\n",
       "    }\n",
       "\n",
       "    .dataframe thead th {\n",
       "        text-align: right;\n",
       "    }\n",
       "</style>\n",
       "<table border=\"1\" class=\"dataframe\">\n",
       "  <thead>\n",
       "    <tr style=\"text-align: right;\">\n",
       "      <th></th>\n",
       "      <th>ename</th>\n",
       "      <th>sal</th>\n",
       "    </tr>\n",
       "  </thead>\n",
       "  <tbody>\n",
       "    <tr>\n",
       "      <th>0</th>\n",
       "      <td>KING</td>\n",
       "      <td>5000</td>\n",
       "    </tr>\n",
       "    <tr>\n",
       "      <th>9</th>\n",
       "      <td>FORD</td>\n",
       "      <td>3000</td>\n",
       "    </tr>\n",
       "    <tr>\n",
       "      <th>11</th>\n",
       "      <td>SCOTT</td>\n",
       "      <td>3000</td>\n",
       "    </tr>\n",
       "  </tbody>\n",
       "</table>\n",
       "</div>"
      ],
      "text/plain": [
       "    ename   sal\n",
       "0    KING  5000\n",
       "9    FORD  3000\n",
       "11  SCOTT  3000"
      ]
     },
     "execution_count": 43,
     "metadata": {},
     "output_type": "execute_result"
    }
   ],
   "source": [
    "js=emp['sal'][emp['ename']=='JONES'].values[0]\n",
    "result=emp[['ename','sal']][emp['sal']>js]\n",
    "result"
   ]
  },
  {
   "cell_type": "markdown",
   "metadata": {},
   "source": [
    "### ■ 예제67. Pandas와 Oracle 그룹함수 비교\n",
    "```sql\n",
    "select max(sal)\n",
    "    from emp\n",
    "    ```\n",
    "```python\n",
    "import pandas as pd\n",
    "emp=pd.read_csv('k:/Itwill/2. Python/자료/emp3.csv')\n",
    "emp['sal'].max()\n",
    "          .min()\n",
    "          .sum()\n",
    "          .var()\n",
    "          .std()\n",
    "        ```\n",
    "               "
   ]
  },
  {
   "cell_type": "markdown",
   "metadata": {},
   "source": [
    "### ※ 문제142. 아래의 SQL을 Pandas로 구현하시오\n",
    "```sql\n",
    "select max(sal)\n",
    "    from emp\n",
    "    where deptno=20;\n",
    "    ```"
   ]
  },
  {
   "cell_type": "code",
   "execution_count": 48,
   "metadata": {
    "ExecuteTime": {
     "end_time": "2020-05-20T02:09:09.062379Z",
     "start_time": "2020-05-20T02:09:09.053384Z"
    }
   },
   "outputs": [
    {
     "data": {
      "text/plain": [
       "sal    3000\n",
       "dtype: int64"
      ]
     },
     "execution_count": 48,
     "metadata": {},
     "output_type": "execute_result"
    }
   ],
   "source": [
    "emp[['sal']][emp['deptno']==20].max()"
   ]
  },
  {
   "cell_type": "markdown",
   "metadata": {},
   "source": [
    "### ※ 문제143. 아래의 SQL을 Pandas로 구현하시오\n",
    "```sql\n",
    "select min(sal)\n",
    "    from emp\n",
    "    where job='SALESMAN';\n",
    "    ```"
   ]
  },
  {
   "cell_type": "code",
   "execution_count": 50,
   "metadata": {
    "ExecuteTime": {
     "end_time": "2020-05-20T02:11:52.642988Z",
     "start_time": "2020-05-20T02:11:52.635993Z"
    }
   },
   "outputs": [
    {
     "data": {
      "text/plain": [
       "1250"
      ]
     },
     "execution_count": 50,
     "metadata": {},
     "output_type": "execute_result"
    }
   ],
   "source": [
    "emp['sal'][emp['job']=='SALESMAN'].min()"
   ]
  },
  {
   "cell_type": "markdown",
   "metadata": {},
   "source": [
    "```\n",
    "     오라클       vs      판다스\n",
    "    table              data frame\n",
    "    column             Series\n",
    "    number             int\n",
    " char,varchar2         str\n",
    "    ```"
   ]
  },
  {
   "cell_type": "markdown",
   "metadata": {},
   "source": [
    "### ※ 문제144. 아래의 SQL을 Pandas로 구현하시오\n",
    "```sql\n",
    "select job, max(sal)\n",
    "    from emp\n",
    "    group by job;\n",
    "    ```"
   ]
  },
  {
   "cell_type": "code",
   "execution_count": 58,
   "metadata": {
    "ExecuteTime": {
     "end_time": "2020-05-20T02:20:48.448423Z",
     "start_time": "2020-05-20T02:20:48.438430Z"
    }
   },
   "outputs": [
    {
     "data": {
      "text/html": [
       "<div>\n",
       "<style scoped>\n",
       "    .dataframe tbody tr th:only-of-type {\n",
       "        vertical-align: middle;\n",
       "    }\n",
       "\n",
       "    .dataframe tbody tr th {\n",
       "        vertical-align: top;\n",
       "    }\n",
       "\n",
       "    .dataframe thead th {\n",
       "        text-align: right;\n",
       "    }\n",
       "</style>\n",
       "<table border=\"1\" class=\"dataframe\">\n",
       "  <thead>\n",
       "    <tr style=\"text-align: right;\">\n",
       "      <th></th>\n",
       "      <th>job</th>\n",
       "      <th>sal</th>\n",
       "    </tr>\n",
       "  </thead>\n",
       "  <tbody>\n",
       "    <tr>\n",
       "      <th>0</th>\n",
       "      <td>ANALYST</td>\n",
       "      <td>3000</td>\n",
       "    </tr>\n",
       "    <tr>\n",
       "      <th>1</th>\n",
       "      <td>CLERK</td>\n",
       "      <td>1300</td>\n",
       "    </tr>\n",
       "    <tr>\n",
       "      <th>2</th>\n",
       "      <td>MANAGER</td>\n",
       "      <td>2975</td>\n",
       "    </tr>\n",
       "    <tr>\n",
       "      <th>3</th>\n",
       "      <td>PRESIDENT</td>\n",
       "      <td>5000</td>\n",
       "    </tr>\n",
       "    <tr>\n",
       "      <th>4</th>\n",
       "      <td>SALESMAN</td>\n",
       "      <td>1600</td>\n",
       "    </tr>\n",
       "  </tbody>\n",
       "</table>\n",
       "</div>"
      ],
      "text/plain": [
       "         job   sal\n",
       "0    ANALYST  3000\n",
       "1      CLERK  1300\n",
       "2    MANAGER  2975\n",
       "3  PRESIDENT  5000\n",
       "4   SALESMAN  1600"
      ]
     },
     "execution_count": 58,
     "metadata": {},
     "output_type": "execute_result"
    }
   ],
   "source": [
    "result=emp.groupby('job')['sal'].max().reset_index() # Series -> DF로 변경\n",
    "result"
   ]
  },
  {
   "cell_type": "markdown",
   "metadata": {},
   "source": [
    "#### ※ reset_index는 Series 로 출력하는게 아니라 DataFrame(table)로 출력하는 키워드"
   ]
  },
  {
   "cell_type": "markdown",
   "metadata": {},
   "source": [
    "### ※ 문제145. 아래의 SQL을 Pandas로 구현하시오\n",
    "```sql\n",
    "select deptno, sum(sal)\n",
    "    from emp\n",
    "    group by deptno;\n",
    "    ```"
   ]
  },
  {
   "cell_type": "code",
   "execution_count": 62,
   "metadata": {
    "ExecuteTime": {
     "end_time": "2020-05-20T02:47:02.703547Z",
     "start_time": "2020-05-20T02:47:02.643975Z"
    }
   },
   "outputs": [
    {
     "data": {
      "text/html": [
       "<div>\n",
       "<style scoped>\n",
       "    .dataframe tbody tr th:only-of-type {\n",
       "        vertical-align: middle;\n",
       "    }\n",
       "\n",
       "    .dataframe tbody tr th {\n",
       "        vertical-align: top;\n",
       "    }\n",
       "\n",
       "    .dataframe thead th {\n",
       "        text-align: right;\n",
       "    }\n",
       "</style>\n",
       "<table border=\"1\" class=\"dataframe\">\n",
       "  <thead>\n",
       "    <tr style=\"text-align: right;\">\n",
       "      <th></th>\n",
       "      <th>deptno</th>\n",
       "      <th>sal</th>\n",
       "    </tr>\n",
       "  </thead>\n",
       "  <tbody>\n",
       "    <tr>\n",
       "      <th>0</th>\n",
       "      <td>10</td>\n",
       "      <td>8750</td>\n",
       "    </tr>\n",
       "    <tr>\n",
       "      <th>1</th>\n",
       "      <td>20</td>\n",
       "      <td>10875</td>\n",
       "    </tr>\n",
       "    <tr>\n",
       "      <th>2</th>\n",
       "      <td>30</td>\n",
       "      <td>9400</td>\n",
       "    </tr>\n",
       "  </tbody>\n",
       "</table>\n",
       "</div>"
      ],
      "text/plain": [
       "   deptno    sal\n",
       "0      10   8750\n",
       "1      20  10875\n",
       "2      30   9400"
      ]
     },
     "execution_count": 62,
     "metadata": {},
     "output_type": "execute_result"
    }
   ],
   "source": [
    "import pandas as pd\n",
    "\n",
    "emp=pd.read_csv('k:/Itwill/2. Python/자료/emp3.csv')\n",
    "emp.groupby('deptno')['sal'].sum().reset_index()"
   ]
  },
  {
   "cell_type": "markdown",
   "metadata": {},
   "source": [
    "### ※ 문제146. 아래의 SQL을 Pandas로 구현하시오\n",
    "```sql\n",
    "select deptno, sum(sal)\n",
    "    from emp\n",
    "    where deptno!=20\n",
    "    group by deptno;\n",
    "    ```"
   ]
  },
  {
   "cell_type": "code",
   "execution_count": 67,
   "metadata": {
    "ExecuteTime": {
     "end_time": "2020-05-20T02:51:42.437658Z",
     "start_time": "2020-05-20T02:51:42.424665Z"
    }
   },
   "outputs": [
    {
     "data": {
      "text/html": [
       "<div>\n",
       "<style scoped>\n",
       "    .dataframe tbody tr th:only-of-type {\n",
       "        vertical-align: middle;\n",
       "    }\n",
       "\n",
       "    .dataframe tbody tr th {\n",
       "        vertical-align: top;\n",
       "    }\n",
       "\n",
       "    .dataframe thead th {\n",
       "        text-align: right;\n",
       "    }\n",
       "</style>\n",
       "<table border=\"1\" class=\"dataframe\">\n",
       "  <thead>\n",
       "    <tr style=\"text-align: right;\">\n",
       "      <th></th>\n",
       "      <th>deptno</th>\n",
       "      <th>sal</th>\n",
       "    </tr>\n",
       "  </thead>\n",
       "  <tbody>\n",
       "    <tr>\n",
       "      <th>0</th>\n",
       "      <td>10</td>\n",
       "      <td>8750</td>\n",
       "    </tr>\n",
       "    <tr>\n",
       "      <th>2</th>\n",
       "      <td>30</td>\n",
       "      <td>9400</td>\n",
       "    </tr>\n",
       "  </tbody>\n",
       "</table>\n",
       "</div>"
      ],
      "text/plain": [
       "   deptno   sal\n",
       "0      10  8750\n",
       "2      30  9400"
      ]
     },
     "execution_count": 67,
     "metadata": {},
     "output_type": "execute_result"
    }
   ],
   "source": [
    "result=emp.groupby('deptno')['sal'].sum().reset_index()\n",
    "result[['deptno','sal']][result['deptno']!=20]"
   ]
  },
  {
   "cell_type": "markdown",
   "metadata": {},
   "source": [
    "#### ※ result가 DataFrame이므로 열과 행을 기술할 수 있다."
   ]
  },
  {
   "cell_type": "markdown",
   "metadata": {},
   "source": [
    "### ※ 문제147. 아래의 SQL을 Pandas로 구현하시오\n",
    "```sql\n",
    "select deptno, sum(sal)\n",
    "    from emp\n",
    "    group by deptno\n",
    "    order by sum(sal) desc;\n",
    "    ```"
   ]
  },
  {
   "cell_type": "code",
   "execution_count": 68,
   "metadata": {
    "ExecuteTime": {
     "end_time": "2020-05-20T02:57:06.153917Z",
     "start_time": "2020-05-20T02:57:06.141926Z"
    }
   },
   "outputs": [
    {
     "data": {
      "text/html": [
       "<div>\n",
       "<style scoped>\n",
       "    .dataframe tbody tr th:only-of-type {\n",
       "        vertical-align: middle;\n",
       "    }\n",
       "\n",
       "    .dataframe tbody tr th {\n",
       "        vertical-align: top;\n",
       "    }\n",
       "\n",
       "    .dataframe thead th {\n",
       "        text-align: right;\n",
       "    }\n",
       "</style>\n",
       "<table border=\"1\" class=\"dataframe\">\n",
       "  <thead>\n",
       "    <tr style=\"text-align: right;\">\n",
       "      <th></th>\n",
       "      <th>deptno</th>\n",
       "      <th>sal</th>\n",
       "    </tr>\n",
       "  </thead>\n",
       "  <tbody>\n",
       "    <tr>\n",
       "      <th>0</th>\n",
       "      <td>20</td>\n",
       "      <td>10875</td>\n",
       "    </tr>\n",
       "    <tr>\n",
       "      <th>1</th>\n",
       "      <td>30</td>\n",
       "      <td>9400</td>\n",
       "    </tr>\n",
       "    <tr>\n",
       "      <th>2</th>\n",
       "      <td>10</td>\n",
       "      <td>8750</td>\n",
       "    </tr>\n",
       "  </tbody>\n",
       "</table>\n",
       "</div>"
      ],
      "text/plain": [
       "   deptno    sal\n",
       "0      20  10875\n",
       "1      30   9400\n",
       "2      10   8750"
      ]
     },
     "execution_count": 68,
     "metadata": {},
     "output_type": "execute_result"
    }
   ],
   "source": [
    "result=emp.groupby('deptno')['sal'].sum()\n",
    "result2=result.sort_values(ascending=False).reset_index()\n",
    "result2"
   ]
  },
  {
   "cell_type": "markdown",
   "metadata": {},
   "source": [
    "#### ※ sort_values는 Series에서 사용할 수 있다. \n",
    "```python\n",
    "    Series.sort_values()\n",
    "    ```"
   ]
  },
  {
   "cell_type": "markdown",
   "metadata": {},
   "source": [
    "### ※ 문제148. 아래의 SQL을 판다스로 구현하시오\n",
    "```sql\n",
    "select ename, sal, job\n",
    "    from emp\n",
    "    where job = 'SALESMAN'\n",
    "    order by sal desc;\n",
    "    ```"
   ]
  },
  {
   "cell_type": "code",
   "execution_count": 77,
   "metadata": {
    "ExecuteTime": {
     "end_time": "2020-05-20T03:08:40.404005Z",
     "start_time": "2020-05-20T03:08:40.391014Z"
    }
   },
   "outputs": [
    {
     "data": {
      "text/html": [
       "<div>\n",
       "<style scoped>\n",
       "    .dataframe tbody tr th:only-of-type {\n",
       "        vertical-align: middle;\n",
       "    }\n",
       "\n",
       "    .dataframe tbody tr th {\n",
       "        vertical-align: top;\n",
       "    }\n",
       "\n",
       "    .dataframe thead th {\n",
       "        text-align: right;\n",
       "    }\n",
       "</style>\n",
       "<table border=\"1\" class=\"dataframe\">\n",
       "  <thead>\n",
       "    <tr style=\"text-align: right;\">\n",
       "      <th></th>\n",
       "      <th>index</th>\n",
       "      <th>ename</th>\n",
       "      <th>sal</th>\n",
       "      <th>job</th>\n",
       "    </tr>\n",
       "  </thead>\n",
       "  <tbody>\n",
       "    <tr>\n",
       "      <th>0</th>\n",
       "      <td>5</td>\n",
       "      <td>ALLEN</td>\n",
       "      <td>1600</td>\n",
       "      <td>SALESMAN</td>\n",
       "    </tr>\n",
       "    <tr>\n",
       "      <th>1</th>\n",
       "      <td>6</td>\n",
       "      <td>TURNER</td>\n",
       "      <td>1500</td>\n",
       "      <td>SALESMAN</td>\n",
       "    </tr>\n",
       "    <tr>\n",
       "      <th>2</th>\n",
       "      <td>4</td>\n",
       "      <td>MARTIN</td>\n",
       "      <td>1250</td>\n",
       "      <td>SALESMAN</td>\n",
       "    </tr>\n",
       "    <tr>\n",
       "      <th>3</th>\n",
       "      <td>8</td>\n",
       "      <td>WARD</td>\n",
       "      <td>1250</td>\n",
       "      <td>SALESMAN</td>\n",
       "    </tr>\n",
       "  </tbody>\n",
       "</table>\n",
       "</div>"
      ],
      "text/plain": [
       "   index   ename   sal       job\n",
       "0      5   ALLEN  1600  SALESMAN\n",
       "1      6  TURNER  1500  SALESMAN\n",
       "2      4  MARTIN  1250  SALESMAN\n",
       "3      8    WARD  1250  SALESMAN"
      ]
     },
     "execution_count": 77,
     "metadata": {},
     "output_type": "execute_result"
    }
   ],
   "source": [
    "result=emp[['ename','sal','job']][emp['job']=='SALESMAN']\n",
    "result2=result.sort_values('sal',ascending=False).reset_index() # sort_values('정렬할 column', 정렬방식) ∵ DataFrame\n",
    "result2"
   ]
  },
  {
   "cell_type": "markdown",
   "metadata": {},
   "source": [
    "#### ※ 설명\n",
    "```python\n",
    "Series.sort_values(asceding= )\n",
    "DataFrame.sort_values('column',ascending= )\n",
    "```"
   ]
  },
  {
   "cell_type": "markdown",
   "metadata": {},
   "source": [
    "### ※ 문제149.(점심시간 문제) 아래의 SQL을 Pandas로 구현하시오\n",
    "```sql\n",
    "select job, sum(sal)\n",
    "    from emp\n",
    "    where job='SALESMAN'\n",
    "    group by job\n",
    "    order by sum(sal) desc;\n",
    "    ```"
   ]
  },
  {
   "cell_type": "code",
   "execution_count": 81,
   "metadata": {
    "ExecuteTime": {
     "end_time": "2020-05-20T03:14:13.247979Z",
     "start_time": "2020-05-20T03:14:13.232988Z"
    }
   },
   "outputs": [
    {
     "data": {
      "text/html": [
       "<div>\n",
       "<style scoped>\n",
       "    .dataframe tbody tr th:only-of-type {\n",
       "        vertical-align: middle;\n",
       "    }\n",
       "\n",
       "    .dataframe tbody tr th {\n",
       "        vertical-align: top;\n",
       "    }\n",
       "\n",
       "    .dataframe thead th {\n",
       "        text-align: right;\n",
       "    }\n",
       "</style>\n",
       "<table border=\"1\" class=\"dataframe\">\n",
       "  <thead>\n",
       "    <tr style=\"text-align: right;\">\n",
       "      <th></th>\n",
       "      <th>job</th>\n",
       "      <th>sal</th>\n",
       "    </tr>\n",
       "  </thead>\n",
       "  <tbody>\n",
       "    <tr>\n",
       "      <th>2</th>\n",
       "      <td>SALESMAN</td>\n",
       "      <td>5600</td>\n",
       "    </tr>\n",
       "  </tbody>\n",
       "</table>\n",
       "</div>"
      ],
      "text/plain": [
       "        job   sal\n",
       "2  SALESMAN  5600"
      ]
     },
     "execution_count": 81,
     "metadata": {},
     "output_type": "execute_result"
    }
   ],
   "source": [
    "result=emp.groupby('job')['sal'].sum()\n",
    "result2=result.sort_values(ascending=False).reset_index()\n",
    "result2[['job','sal']][result2['job']=='SALESMAN']"
   ]
  },
  {
   "cell_type": "code",
   "execution_count": null,
   "metadata": {},
   "outputs": [],
   "source": []
  },
  {
   "cell_type": "code",
   "execution_count": null,
   "metadata": {},
   "outputs": [],
   "source": []
  },
  {
   "cell_type": "markdown",
   "metadata": {},
   "source": [
    "### ※(점심시간 문제)(파이썬 알고리즘 문제 28번) 확률밀도함수 수학 공식을 이용하여 확률을 구하시오\n",
    "#### 확률변수 $X$가 정규분포 $N(5,2^2)$ 를 따를 때, 확률 $P(3 \\leq X \\leq 7)$ 의 값을  무엇인가? "
   ]
  },
  {
   "cell_type": "code",
   "execution_count": 5,
   "metadata": {
    "ExecuteTime": {
     "end_time": "2020-05-20T00:54:25.994689Z",
     "start_time": "2020-05-20T00:54:21.117648Z"
    },
    "scrolled": true
   },
   "outputs": [
    {
     "data": {
      "image/png": "[encoded data removed]",
      "text/plain": [
       "<Figure size 432x288 with 1 Axes>"
      ]
     },
     "metadata": {
      "needs_background": "light"
     },
     "output_type": "display_data"
    }
   ],
   "source": [
    "from sympy import exp, sqrt, pi, Integral, Symbol, S\n",
    "from scipy.stats import norm\n",
    "import numpy as np\n",
    "import matplotlib.pyplot as plt\n",
    "\n",
    "x= np.arange(140,160,0.001)\n",
    "plt.plot(x, norm.pdf(x,150,5))\n",
    "plt.show()"
   ]
  },
  {
   "cell_type": "code",
   "execution_count": 8,
   "metadata": {
    "ExecuteTime": {
     "end_time": "2020-05-20T00:56:03.413088Z",
     "start_time": "2020-05-20T00:56:02.828447Z"
    }
   },
   "outputs": [
    {
     "name": "stdout",
     "output_type": "stream",
     "text": [
      "0.682689492137086\n",
      "1.00000000000000\n"
     ]
    }
   ],
   "source": [
    "x = Symbol('x')\n",
    "f = exp(-(x-5)**2/(2*2**2))/(2*sqrt(2*pi))\n",
    "result = Integral(f,(x,3,7)).doit().evalf()\n",
    "result1= Integral(f,(x,S.NegativeInfinity,S.Infinity)).doit().evalf() # 전체확률 확인하는 방법\n",
    "print(result)\n",
    "print(result1)"
   ]
  },
  {
   "cell_type": "code",
   "execution_count": null,
   "metadata": {},
   "outputs": [],
   "source": []
  }
 ],
 "metadata": {
  "kernelspec": {
   "display_name": "Python 3",
   "language": "python",
   "name": "python3"
  },
  "language_info": {
   "codemirror_mode": {
    "name": "ipython",
    "version": 3
   },
   "file_extension": ".py",
   "mimetype": "text/x-python",
   "name": "python",
   "nbconvert_exporter": "python",
   "pygments_lexer": "ipython3",
   "version": "3.7.6"
  },
  "varInspector": {
   "cols": {
    "lenName": 16,
    "lenType": 16,
    "lenVar": 40
   },
   "kernels_config": {
    "python": {
     "delete_cmd_postfix": "",
     "delete_cmd_prefix": "del ",
     "library": "var_list.py",
     "varRefreshCmd": "print(var_dic_list())"
    },
    "r": {
     "delete_cmd_postfix": ") ",
     "delete_cmd_prefix": "rm(",
     "library": "var_list.r",
     "varRefreshCmd": "cat(var_dic_list()) "
    }
   },
   "types_to_exclude": [
    "module",
    "function",
    "builtin_function_or_method",
    "instance",
    "_Feature"
   ],
   "window_display": false
  }
 },
 "nbformat": 4,
 "nbformat_minor": 4
}
