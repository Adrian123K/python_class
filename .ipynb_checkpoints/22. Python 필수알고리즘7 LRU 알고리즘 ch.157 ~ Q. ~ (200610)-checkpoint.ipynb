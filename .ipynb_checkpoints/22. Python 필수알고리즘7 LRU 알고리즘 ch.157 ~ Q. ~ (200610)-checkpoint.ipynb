{
 "cells": [
  {
   "cell_type": "markdown",
   "metadata": {},
   "source": [
    "### ■ 예제157. LRU 알고리즘\n",
    "#### Least Recent Used\n",
    "#### LRU 알고리즘이란 DB의 메모리 관리를 효율적으로 하기 위해 고안된 대표적인 알고리즘으로 최신 데이터를 메모리에 유지시키고 오래된 데이터는 메모리에 내보내게 하는 알고리즘"
   ]
  },
  {
   "cell_type": "markdown",
   "metadata": {},
   "source": [
    "```python\n",
    "cacheProcess(['Jeju', 'Pangyo', 'Seoul', 'NewYork', 'LA', 'Jeju', 'Pangyo', 'Seoul', 'NewYork', 'LA'],3)\n",
    "cacheProcess(['Jeju', 'Pangyo', 'Seoul', 'Jeju', 'Pangyo','Seoul', 'Jeju', 'Pangyo','Seoul'],3)\n",
    "cacheProcess(['Jeju', 'Pangyo', 'Seoul', 'NewYork', 'LA', 'SanFrancisco', 'Seoul', 'Rome', 'Paris', 'Jeju', 'NewYork', 'Rome'],2)\n",
    "cacheProcess(['Jeju', 'Pangyo', 'Seoul', 'NewYork', 'LA', 'SanFrancisco', 'Seoul', 'Rome', 'Paris', 'Jeju', 'NewYork', 'Rome'],5)\n",
    "cacheProcess(['Jeju', 'Pangyo', 'NewYork', 'newyork'],2)\n",
    "cacheProcess(['Jeju', 'Pangyo', 'Seoul', 'NewYork', 'LA'],0)\n",
    "```"
   ]
  },
  {
   "cell_type": "markdown",
   "metadata": {},
   "source": [
    "### ※ 문제344. 아래와 같이 결과를 출력하시오\n",
    "```\n",
    "[None,None,None]\n",
    "```"
   ]
  },
  {
   "cell_type": "code",
   "execution_count": 8,
   "metadata": {
    "ExecuteTime": {
     "end_time": "2020-06-10T07:45:42.100745Z",
     "start_time": "2020-06-10T07:45:42.094885Z"
    }
   },
   "outputs": [
    {
     "data": {
      "text/plain": [
       "[None, None, None]"
      ]
     },
     "execution_count": 8,
     "metadata": {},
     "output_type": "execute_result"
    }
   ],
   "source": [
    "cache=[None for _ in range(3)]\n",
    "cache"
   ]
  },
  {
   "cell_type": "markdown",
   "metadata": {},
   "source": [
    "### ※ 문제345. cache에 data를 append해서 아래와 같이 결과를 출력하시오\n",
    "```\n",
    "[None, None, None, 'jeju']\n",
    "```"
   ]
  },
  {
   "cell_type": "code",
   "execution_count": 9,
   "metadata": {
    "ExecuteTime": {
     "end_time": "2020-06-10T07:47:40.698580Z",
     "start_time": "2020-06-10T07:47:40.693699Z"
    }
   },
   "outputs": [
    {
     "data": {
      "text/plain": [
       "[None, None, None, 'jeju']"
      ]
     },
     "execution_count": 9,
     "metadata": {},
     "output_type": "execute_result"
    }
   ],
   "source": [
    "cache.append('jeju')\n",
    "cache"
   ]
  },
  {
   "cell_type": "markdown",
   "metadata": {},
   "source": [
    "### ※ 문제346. 위의 cache 리스트를 아래와 같이 출력하시오"
   ]
  },
  {
   "cell_type": "code",
   "execution_count": 12,
   "metadata": {
    "ExecuteTime": {
     "end_time": "2020-06-10T07:50:38.147239Z",
     "start_time": "2020-06-10T07:50:38.141381Z"
    }
   },
   "outputs": [
    {
     "data": {
      "text/plain": [
       "[None, None, 'jeju']"
      ]
     },
     "execution_count": 12,
     "metadata": {},
     "output_type": "execute_result"
    }
   ],
   "source": [
    "del cache[0]\n",
    "cache"
   ]
  },
  {
   "cell_type": "markdown",
   "metadata": {},
   "source": [
    "### ※ 문제347. 아래와 같이  cache list를 만드시오\n",
    "```\n",
    "[None,'jeju','pangyo']\n",
    "```"
   ]
  },
  {
   "cell_type": "code",
   "execution_count": 13,
   "metadata": {
    "ExecuteTime": {
     "end_time": "2020-06-10T07:52:13.711777Z",
     "start_time": "2020-06-10T07:52:13.705919Z"
    }
   },
   "outputs": [
    {
     "data": {
      "text/plain": [
       "[None, 'jeju', 'pangyo']"
      ]
     },
     "execution_count": 13,
     "metadata": {},
     "output_type": "execute_result"
    }
   ],
   "source": [
    "del cache[0]\n",
    "cache.append('pangyo')\n",
    "cache"
   ]
  },
  {
   "cell_type": "markdown",
   "metadata": {},
   "source": [
    "### ※ 문제348. 아래와 같이 결과를 출력하시오\n",
    "```\n",
    "['jeju','pangyo','LA']\n",
    "```"
   ]
  },
  {
   "cell_type": "code",
   "execution_count": 14,
   "metadata": {
    "ExecuteTime": {
     "end_time": "2020-06-10T07:54:44.744676Z",
     "start_time": "2020-06-10T07:54:44.738817Z"
    }
   },
   "outputs": [
    {
     "data": {
      "text/plain": [
       "['jeju', 'pangyo', 'LA']"
      ]
     },
     "execution_count": 14,
     "metadata": {},
     "output_type": "execute_result"
    }
   ],
   "source": [
    "del cache[0]\n",
    "cache.append('LA')\n",
    "cache"
   ]
  },
  {
   "cell_type": "markdown",
   "metadata": {},
   "source": [
    "### ※ 문제349. 위의 상태에서 jeju를 엑세스해서 cache hit를 시키고 아래와 같이 결과를 출력하시오\n",
    "```\n",
    "['jeju','pangyo','LA']\n",
    "    ↓\n",
    "['pangyo','LA','jeju']\n",
    "```"
   ]
  },
  {
   "cell_type": "code",
   "execution_count": 15,
   "metadata": {
    "ExecuteTime": {
     "end_time": "2020-06-10T07:57:55.574083Z",
     "start_time": "2020-06-10T07:57:55.569202Z"
    }
   },
   "outputs": [
    {
     "data": {
      "text/plain": [
       "['pangyo', 'LA', 'jeju']"
      ]
     },
     "execution_count": 15,
     "metadata": {},
     "output_type": "execute_result"
    }
   ],
   "source": [
    "cache.append(cache.pop(cache.index('jeju')))\n",
    "cache"
   ]
  },
  {
   "cell_type": "markdown",
   "metadata": {},
   "source": [
    "### ※ 문제350. (오늘의 마지막 문제) 아래의 cacheProcess 함수를 생성하시오"
   ]
  },
  {
   "cell_type": "code",
   "execution_count": 16,
   "metadata": {
    "ExecuteTime": {
     "end_time": "2020-06-10T07:58:51.051354Z",
     "start_time": "2020-06-10T07:58:51.038662Z"
    }
   },
   "outputs": [
    {
     "name": "stdout",
     "output_type": "stream",
     "text": [
      "50\n",
      "21\n",
      "60\n",
      "52\n",
      "16\n",
      "25\n",
      "7\n"
     ]
    }
   ],
   "source": [
    "def cacheProcess(cities,size):\n",
    "    \"\"\"\n",
    "    cities : list of cities\n",
    "    size : cache size\n",
    "    \"\"\"\n",
    "    cache=[]\n",
    "    time=0\n",
    "    for i in cities:\n",
    "        if i.upper() in cache:\n",
    "            time += 1            \n",
    "            cache.append(cache.pop(cache.index(i.upper())))\n",
    "        else:\n",
    "            if len(cache) == size and size != 0:\n",
    "                cache.pop(0)\n",
    "                time += 5\n",
    "                cache.append(i.upper())\n",
    "            else:\n",
    "                time += 5\n",
    "                cache.append(i.upper())\n",
    "    else:\n",
    "        return time\n",
    "print(cacheProcess(['Jeju', 'Pangyo', 'Seoul', 'NewYork', 'LA', 'Jeju', 'Pangyo', 'Seoul', 'NewYork', 'LA'],3))\n",
    "print(cacheProcess(['Jeju', 'Pangyo', 'Seoul', 'Jeju', 'Pangyo','Seoul', 'Jeju', 'Pangyo','Seoul'],3))\n",
    "print(cacheProcess(['Jeju', 'Pangyo', 'Seoul', 'NewYork', 'LA', 'SanFrancisco', 'Seoul', 'Rome', 'Paris', 'Jeju', 'NewYork', 'Rome'],2))\n",
    "print(cacheProcess(['Jeju', 'Pangyo', 'Seoul', 'NewYork', 'LA', 'SanFrancisco', 'Seoul', 'Rome', 'Paris', 'Jeju', 'NewYork', 'Rome'],5))\n",
    "print(cacheProcess(['Jeju', 'Pangyo', 'NewYork', 'newyork'],2))\n",
    "print(cacheProcess(['Jeju', 'Pangyo', 'Seoul', 'NewYork', 'LA'],0))\n",
    "print(cacheProcess(['Jeju','Jeju','Jeju'],0))"
   ]
  },
  {
   "cell_type": "code",
   "execution_count": null,
   "metadata": {},
   "outputs": [],
   "source": []
  },
  {
   "cell_type": "code",
   "execution_count": null,
   "metadata": {},
   "outputs": [],
   "source": []
  },
  {
   "cell_type": "markdown",
   "metadata": {},
   "source": [
    "### ※ (점심시간 문제) 최소공배수 재귀함수로 구현하시오"
   ]
  },
  {
   "cell_type": "code",
   "execution_count": 12,
   "metadata": {
    "ExecuteTime": {
     "end_time": "2020-06-10T01:40:25.891499Z",
     "start_time": "2020-06-10T01:40:25.883689Z"
    }
   },
   "outputs": [
    {
     "data": {
      "text/plain": [
       "48"
      ]
     },
     "execution_count": 12,
     "metadata": {},
     "output_type": "execute_result"
    }
   ],
   "source": [
    "def gcd(n1, n2):\n",
    "    if n2 == 0:\n",
    "        return n1\n",
    "    else:\n",
    "        n1, n2 = n2, n1 % n2\n",
    "        return gcd(n1, n2)\n",
    "\n",
    "\n",
    "def lcm(n1, n2):\n",
    "    return int(n1*n2/gcd(n1, n2))\n",
    "\n",
    "\n",
    "lcm(16, 24)"
   ]
  },
  {
   "cell_type": "code",
   "execution_count": 13,
   "metadata": {
    "ExecuteTime": {
     "end_time": "2020-06-10T01:41:43.945705Z",
     "start_time": "2020-06-10T01:41:43.937893Z"
    }
   },
   "outputs": [
    {
     "data": {
      "text/plain": [
       "48"
      ]
     },
     "execution_count": 13,
     "metadata": {},
     "output_type": "execute_result"
    }
   ],
   "source": [
    "def lcm_2(x, y):\n",
    "    i = min(abs(x-y), x, y)\n",
    "    if x % i == 0 and y % i == 0:\n",
    "        return int(x * y / i)\n",
    "    else:\n",
    "        lcm_2(y, x % y)\n",
    "\n",
    "\n",
    "lcm_2(16, 24)"
   ]
  }
 ],
 "metadata": {
  "kernelspec": {
   "display_name": "Python 3",
   "language": "python",
   "name": "python3"
  },
  "language_info": {
   "codemirror_mode": {
    "name": "ipython",
    "version": 3
   },
   "file_extension": ".py",
   "mimetype": "text/x-python",
   "name": "python",
   "nbconvert_exporter": "python",
   "pygments_lexer": "ipython3",
   "version": "3.7.6"
  },
  "toc": {
   "base_numbering": 1,
   "nav_menu": {},
   "number_sections": true,
   "sideBar": true,
   "skip_h1_title": false,
   "title_cell": "Table of Contents",
   "title_sidebar": "Contents",
   "toc_cell": false,
   "toc_position": {},
   "toc_section_display": true,
   "toc_window_display": false
  },
  "varInspector": {
   "cols": {
    "lenName": 16,
    "lenType": 16,
    "lenVar": 40
   },
   "kernels_config": {
    "python": {
     "delete_cmd_postfix": "",
     "delete_cmd_prefix": "del ",
     "library": "var_list.py",
     "varRefreshCmd": "print(var_dic_list())"
    },
    "r": {
     "delete_cmd_postfix": ") ",
     "delete_cmd_prefix": "rm(",
     "library": "var_list.r",
     "varRefreshCmd": "cat(var_dic_list()) "
    }
   },
   "types_to_exclude": [
    "module",
    "function",
    "builtin_function_or_method",
    "instance",
    "_Feature"
   ],
   "window_display": false
  }
 },
 "nbformat": 4,
 "nbformat_minor": 4
}
