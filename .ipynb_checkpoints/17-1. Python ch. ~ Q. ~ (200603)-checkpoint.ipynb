{
 "cells": [
  {
   "cell_type": "markdown",
   "metadata": {},
   "source": [
    "### ※(점심시간 문제) 주사위의 확률분포를 막대그래프로 시각화하세요\n",
    "\n",
    "6월3일 점심시간 문제. 확률분포\n",
    "\n",
    "\n",
    "\n",
    "주사위를 던졌을때 특정 주사위의 눈이 나올 확률을 구할때 주사위의 눈이 확률변수 X라고 하고 그 특정 주사위의 눈이나오는 확룰은 0 ~1 사이의 실수로 나옵니다. 주사위의 눈이 1부터 6까지 나오는 확률변수를 X 축으로 하고 특정 주사위의 눈이  나오는 확률을 Y축으로 해서 다음의 막대그래프를 그리시오 \n",
    "\n"
   ]
  },
  {
   "cell_type": "code",
   "execution_count": 47,
   "metadata": {
    "ExecuteTime": {
     "end_time": "2020-06-03T01:06:44.990837Z",
     "start_time": "2020-06-03T01:06:44.695022Z"
    }
   },
   "outputs": [
    {
     "data": {
      "image/png": "[encoded data removed]",
      "text/plain": [
       "<Figure size 432x288 with 1 Axes>"
      ]
     },
     "metadata": {
      "needs_background": "light"
     },
     "output_type": "display_data"
    }
   ],
   "source": [
    "import random\n",
    "import numpy as np\n",
    "from matplotlib import pyplot as plt\n",
    "\n",
    "def dice_prb(n,N=100_000):\n",
    "    \"\"\"\n",
    "    n : 확률을 찾고싶은 숫자\n",
    "    N : 시행횟수, default=100000\n",
    "    \"\"\"\n",
    "    dice=[random.randint(1,6) for _ in range(N)]\n",
    "    prob=[dice.count(i)/N for i in range(1,7)]\n",
    "\n",
    "    index = np.arange(1,7) \n",
    "\n",
    "    plt.bar(index, prob, align='center', color='blue') \n",
    "    plt.xlabel('dice') \n",
    "    plt.ylabel('probability') \n",
    "    plt.title('Dice probability') \n",
    "    plt.xlim(0, 7) \n",
    "    plt.ylim( 0, 0.25) \n",
    "    plt.scatter(index[n-1],prob[n-1], s=100, c='red',alpha=1)\n",
    "    plt.show() \n",
    "    \n",
    "dice_prb(4)"
   ]
  },
  {
   "cell_type": "code",
   "execution_count": null,
   "metadata": {},
   "outputs": [],
   "source": []
  },
  {
   "cell_type": "code",
   "execution_count": null,
   "metadata": {},
   "outputs": [],
   "source": []
  },
  {
   "cell_type": "code",
   "execution_count": null,
   "metadata": {},
   "outputs": [],
   "source": []
  },
  {
   "cell_type": "code",
   "execution_count": null,
   "metadata": {},
   "outputs": [],
   "source": []
  },
  {
   "cell_type": "code",
   "execution_count": null,
   "metadata": {},
   "outputs": [],
   "source": []
  }
 ],
 "metadata": {
  "kernelspec": {
   "display_name": "Python 3",
   "language": "python",
   "name": "python3"
  },
  "language_info": {
   "codemirror_mode": {
    "name": "ipython",
    "version": 3
   },
   "file_extension": ".py",
   "mimetype": "text/x-python",
   "name": "python",
   "nbconvert_exporter": "python",
   "pygments_lexer": "ipython3",
   "version": "3.7.6"
  },
  "varInspector": {
   "cols": {
    "lenName": 16,
    "lenType": 16,
    "lenVar": 40
   },
   "kernels_config": {
    "python": {
     "delete_cmd_postfix": "",
     "delete_cmd_prefix": "del ",
     "library": "var_list.py",
     "varRefreshCmd": "print(var_dic_list())"
    },
    "r": {
     "delete_cmd_postfix": ") ",
     "delete_cmd_prefix": "rm(",
     "library": "var_list.r",
     "varRefreshCmd": "cat(var_dic_list()) "
    }
   },
   "types_to_exclude": [
    "module",
    "function",
    "builtin_function_or_method",
    "instance",
    "_Feature"
   ],
   "window_display": false
  }
 },
 "nbformat": 4,
 "nbformat_minor": 4
}
