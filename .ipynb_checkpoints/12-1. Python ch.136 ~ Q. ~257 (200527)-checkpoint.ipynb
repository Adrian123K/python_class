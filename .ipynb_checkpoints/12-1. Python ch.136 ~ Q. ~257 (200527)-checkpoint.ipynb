{
 "cells": [
  {
   "cell_type": "markdown",
   "metadata": {},
   "source": [
    "### ■ 예제136. 텍스트 파일에 한 줄씩 쓰기(writelines)\n",
    "#### 파일 객체의 writelines()는 텍스트 문자열이나 텍스트 문자열이 요소로 되어있는 리스트를 인자로 받아 파일에 한 줄씩 기록\n",
    "#### 리스트가 인자인 경우 writelines()는 리스트의 요소를 하나의 문자열로 결합하여 파일을 한꺼번에 기록\n",
    "※ writelines는 리스트 자료형도 파일에 저장할 수 있다."
   ]
  },
  {
   "cell_type": "code",
   "execution_count": 33,
   "metadata": {
    "ExecuteTime": {
     "end_time": "2020-05-27T01:09:17.422341Z",
     "start_time": "2020-05-27T01:09:17.399356Z"
    }
   },
   "outputs": [
    {
     "name": "stdout",
     "output_type": "stream",
     "text": [
      "[1, 2, 2, 3, 5, 7, 8]\n"
     ]
    }
   ],
   "source": [
    "ls=[2,2,1,3,8,5,7]\n",
    "rs=sorted(ls)\n",
    "print(rs) # [1, 2, 2, 3, 5, 7, 8]\n",
    "f=open('k:/Itwill/2. Python/자료/mydata3.txt','w')\n",
    "f.write(str(rs)) # 문자형으로 변환해서 저장\n",
    "f.close() # 파일 닫기"
   ]
  },
  {
   "cell_type": "markdown",
   "metadata": {},
   "source": [
    "#### ※ write로 파일을 생성할 때는 문자형으로 변환해야한다"
   ]
  },
  {
   "cell_type": "markdown",
   "metadata": {},
   "source": [
    "### ※ 문제257. 아래의 리스트를 mydata9.txt로 저장하시오"
   ]
  },
  {
   "cell_type": "code",
   "execution_count": 54,
   "metadata": {
    "ExecuteTime": {
     "end_time": "2020-05-27T01:13:51.381109Z",
     "start_time": "2020-05-27T01:13:51.367118Z"
    }
   },
   "outputs": [],
   "source": [
    "ls2=['a','b','c','d','e','f','g']\n",
    "f=open('k:/Itwill/2. Python/자료/mydata9.txt','w')\n",
    "f.write(str(ls2)) # 리스트 형태로 담으려면 str 형변환 사용\n",
    "f.close()"
   ]
  },
  {
   "cell_type": "code",
   "execution_count": 59,
   "metadata": {
    "ExecuteTime": {
     "end_time": "2020-05-27T01:19:49.355000Z",
     "start_time": "2020-05-27T01:19:49.341009Z"
    }
   },
   "outputs": [],
   "source": [
    "ls2=['a','b','c','d','e','f','g']\n",
    "f=open('k:/Itwill/2. Python/자료/mydata10.txt','w')\n",
    "f.writelines(ls2) # 리스트 안의 데이터를 추출해서 작성 : 리스트 해제\n",
    "f.close()"
   ]
  },
  {
   "cell_type": "markdown",
   "metadata": {},
   "source": [
    "#### 웹에서 데이터를 스크롤링하고 저장할 때 wirte를 사용"
   ]
  },
  {
   "cell_type": "markdown",
   "metadata": {},
   "source": [
    "### ■ 예제137. 텍스트 파일 복사하기(read, write)\n",
    "#### 텍스트 파일을 복사하는 방법은 매우 간단. \n",
    "#### 일반적으로 텍스트 파일의 크기는 대용량이 아니므로 원본 텍스트 파일의 모든 내용을 read()로 읽고 다른 파일 이름으로 텍스트 쓰기 모드로 오픈한 후 \n",
    "#### write()로 읽은 내용을 기록"
   ]
  },
  {
   "cell_type": "code",
   "execution_count": 60,
   "metadata": {
    "ExecuteTime": {
     "end_time": "2020-05-27T01:23:43.223704Z",
     "start_time": "2020-05-27T01:23:43.199718Z"
    }
   },
   "outputs": [],
   "source": [
    "# 예제\n",
    "f=open('k:/Itwill/2. Python/자료/mydata.txt','r')\n",
    "h=open('k:/Itwill/2. Python/자료/mydata_cp.txt','w')\n",
    "data=f.read()\n",
    "h.write(data)\n",
    "f.close()\n",
    "h.close()"
   ]
  },
  {
   "cell_type": "markdown",
   "metadata": {},
   "source": [
    "### ■ 예제138. 바이너리 파일 복사하기 (read, write)\n",
    "#### 일반적으로 바이너리 파일은 용량이 큰 경우가 많다.\n",
    "#### 예를들어, 고화질 영화를 담은 동영상 파일의 경우 10Gb가 넘기도 한다.\n",
    "#### 대용량 파일의 내용을 한 번에 읽고 쓰는 것은 메모리 용량의 한계로 불가능 할 때가 있고 성능적인 면에서 비효율적.\n",
    "#### 이러한 경우 파일을 처음부터 끝까지 일정한 크기 단위로 읽고 쓰면 메모리 문제를 해결할 수 있다."
   ]
  },
  {
   "cell_type": "code",
   "execution_count": 72,
   "metadata": {
    "ExecuteTime": {
     "end_time": "2020-05-27T01:45:38.162136Z",
     "start_time": "2020-05-27T01:45:37.882814Z"
    }
   },
   "outputs": [],
   "source": [
    "# 예시\n",
    "bufsize = 1024 # 읽는 단위 지정\n",
    "f = open('k:/Itwill/2. Python/lena.png','rb')\n",
    "h = open('k:/Itwill/2. Python/lena_cp.png','wb')\n",
    "data=f.read(bufsize) # 1kb를 읽는다\n",
    "while data:\n",
    "    h.write(data) # h로 지정한 파일에 쓴다\n",
    "    data = f.read(bufsize) # 1kb를 읽는다\n",
    "f.close()\n",
    "h.close()"
   ]
  },
  {
   "cell_type": "markdown",
   "metadata": {},
   "source": [
    "### ■ 예제139. 파일을 열고 자동으로 닫기(with ~ as)\n",
    "#### with ~ as절을 사용하게 되면 f.close()를 명시하지 않아도 되므로 프로그래머가 실수로 f.close()를 작성하지 않아서 코드를 실행할 때 \n",
    "#### 메모리 부족 오류가 나는 것을 예방할 수 있다."
   ]
  },
  {
   "cell_type": "code",
   "execution_count": 74,
   "metadata": {
    "ExecuteTime": {
     "end_time": "2020-05-27T01:54:42.624177Z",
     "start_time": "2020-05-27T01:54:42.618181Z"
    }
   },
   "outputs": [
    {
     "name": "stdout",
     "output_type": "stream",
     "text": [
      "['5/26 신경치료 -외출 1회']\n"
     ]
    }
   ],
   "source": [
    "# 1. with ~ as절을 사용 안했을 때\n",
    "f=open('k:/Itwill/2. Python/자료/mydata.txt','r')\n",
    "data=f.readlines()\n",
    "print(data)\n",
    "f.close()"
   ]
  },
  {
   "cell_type": "code",
   "execution_count": 75,
   "metadata": {
    "ExecuteTime": {
     "end_time": "2020-05-27T01:54:50.747406Z",
     "start_time": "2020-05-27T01:54:50.742409Z"
    }
   },
   "outputs": [
    {
     "name": "stdout",
     "output_type": "stream",
     "text": [
      "5/26 신경치료 -외출 1회"
     ]
    }
   ],
   "source": [
    "# 2. with ~ as절을 사용했을 때\n",
    "with open('k:/Itwill/2. Python/자료/mydata.txt','r') as f:\n",
    "    for i in f.readlines():\n",
    "        print(i, end='')"
   ]
  },
  {
   "cell_type": "code",
   "execution_count": null,
   "metadata": {},
   "outputs": [],
   "source": []
  },
  {
   "cell_type": "code",
   "execution_count": null,
   "metadata": {},
   "outputs": [],
   "source": []
  },
  {
   "cell_type": "markdown",
   "metadata": {},
   "source": [
    "### ※(점심시간 문제) 소녀시대의 노래가 3곡이고 방탄소년단의 노래가 2곡이어도 잘 shuffle 되려면?"
   ]
  },
  {
   "cell_type": "code",
   "execution_count": 160,
   "metadata": {
    "ExecuteTime": {
     "end_time": "2020-05-27T05:32:40.545802Z",
     "start_time": "2020-05-27T05:32:40.532809Z"
    }
   },
   "outputs": [
    {
     "data": {
      "text/plain": [
       "['다시만난세계', 'DNA', 'Gee', 'Fire', '소원을 말해봐']"
      ]
     },
     "execution_count": 160,
     "metadata": {},
     "output_type": "execute_result"
    }
   ],
   "source": [
    "import numpy as np\n",
    "from random import shuffle\n",
    "from collections import defaultdict\n",
    "\n",
    "artist = ['소녀시대', '소녀시대', '방탄소년단', '방탄소년단', '소녀시대']\n",
    "music = ['다시만난세계', 'Gee', 'DNA', 'Fire', '소원을 말해봐']\n",
    "\n",
    "box=defaultdict(list)\n",
    "for i, j in enumerate(artist):\n",
    "    box[j].append(music[i]) # {'소녀시대': ['다시만난세계', 'Gee', '소원을 말해봐'], '방탄소년단': ['DNA', 'Fire']}\n",
    "\n",
    "song=[]\n",
    "for i in box.values():\n",
    "    shuffle(i)\n",
    "    song.append(i)\n",
    "for i in range(len(song)-1):\n",
    "    if len(song[i]) > len(song[i+1]):\n",
    "        song[i+1].append('0')\n",
    "        \n",
    "song=np.array(song)\n",
    "# print(song) # [['다시만난세계', '소원을 말해봐', 'Gee'], ['DNA', 'Fire','0']]\n",
    "\n",
    "song=song.T\n",
    "ls=[]\n",
    "for i in range(len(song)):\n",
    "    for j in range(len(song[i])):\n",
    "        if song[i][j]!='0':\n",
    "            ls.append(song[i][j])      \n",
    "ls"
   ]
  },
  {
   "cell_type": "code",
   "execution_count": null,
   "metadata": {},
   "outputs": [],
   "source": []
  },
  {
   "cell_type": "code",
   "execution_count": null,
   "metadata": {},
   "outputs": [],
   "source": []
  },
  {
   "cell_type": "code",
   "execution_count": null,
   "metadata": {},
   "outputs": [],
   "source": []
  }
 ],
 "metadata": {
  "kernelspec": {
   "display_name": "Python 3",
   "language": "python",
   "name": "python3"
  },
  "language_info": {
   "codemirror_mode": {
    "name": "ipython",
    "version": 3
   },
   "file_extension": ".py",
   "mimetype": "text/x-python",
   "name": "python",
   "nbconvert_exporter": "python",
   "pygments_lexer": "ipython3",
   "version": "3.7.6"
  },
  "varInspector": {
   "cols": {
    "lenName": 16,
    "lenType": 16,
    "lenVar": 40
   },
   "kernels_config": {
    "python": {
     "delete_cmd_postfix": "",
     "delete_cmd_prefix": "del ",
     "library": "var_list.py",
     "varRefreshCmd": "print(var_dic_list())"
    },
    "r": {
     "delete_cmd_postfix": ") ",
     "delete_cmd_prefix": "rm(",
     "library": "var_list.r",
     "varRefreshCmd": "cat(var_dic_list()) "
    }
   },
   "types_to_exclude": [
    "module",
    "function",
    "builtin_function_or_method",
    "instance",
    "_Feature"
   ],
   "window_display": false
  }
 },
 "nbformat": 4,
 "nbformat_minor": 4
}
