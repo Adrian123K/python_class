{
 "cells": [
  {
   "cell_type": "code",
   "execution_count": null,
   "metadata": {},
   "outputs": [],
   "source": []
  },
  {
   "cell_type": "code",
   "execution_count": null,
   "metadata": {},
   "outputs": [],
   "source": []
  },
  {
   "cell_type": "code",
   "execution_count": null,
   "metadata": {},
   "outputs": [],
   "source": []
  },
  {
   "cell_type": "markdown",
   "metadata": {},
   "source": [
    "### ※ (점심시간 문제) 키와 체중간의 상관관계를 출력하는 파이썬 코드로 작성하시오 !\n",
    "    번호   키     체중 \n",
    "      1   147.9   41.7          \n",
    "      2   163.5   60.2           \n",
    "      3   159.8   47.0             \n",
    "      4   155.1   53.2\n",
    "      5   163.3   48.3\n",
    "      6   158.7   55.2\n",
    "      7   172.0   58.5\n",
    "      8   161.2   49.0\n",
    "      9   153.9   46.7\n",
    "     10   161.6   52.5"
   ]
  },
  {
   "cell_type": "code",
   "execution_count": 8,
   "metadata": {
    "ExecuteTime": {
     "end_time": "2020-06-16T00:40:27.375726Z",
     "start_time": "2020-06-16T00:40:27.363734Z"
    }
   },
   "outputs": [
    {
     "data": {
      "text/plain": [
       "0.7063055714476304"
      ]
     },
     "execution_count": 8,
     "metadata": {},
     "output_type": "execute_result"
    }
   ],
   "source": [
    "import math\n",
    "h=[147.9,163.5,159.8,155.1,163.3,158.7,172.0,161.2,153.9,161.6]\n",
    "w=[41.7,60.2,47.0,53.2,48.3,55.2,58.5,49.0,46.7,52.5]\n",
    "avg_h=sum(h)/len(h) # 키 평균\n",
    "avg_w=sum(w)/len(w) # 몸무게 평균\n",
    "avg_sqh=sum([i**2 for i in h])/len(h) # 키 제곱 평균\n",
    "avg_sqw=sum([i**2 for i in w])/len(w) # 몸무게 제곱 평균\n",
    "var_h=avg_sqh-avg_h**2 # 키 분산\n",
    "var_w=avg_sqw-avg_w**2 # 몸무게 분산\n",
    "std_h=[(i-avg_h) for i in h] # 키-평균 : 키 편차\n",
    "std_w=[(i-avg_w) for i in w] # 몸무게-평균 : 몸무게 편차\n",
    "cov_hw=sum([i*j for i,j in zip(std_h, std_w)])/len(h) # 키-몸무게 공분산\n",
    "cor_hw=cov_hw/(math.sqrt(var_h)*math.sqrt(var_w)) # 공분산/키 표준편차*몸무게 표준편차\n",
    "cor_hw"
   ]
  },
  {
   "cell_type": "code",
   "execution_count": null,
   "metadata": {},
   "outputs": [],
   "source": []
  },
  {
   "cell_type": "code",
   "execution_count": null,
   "metadata": {},
   "outputs": [],
   "source": []
  }
 ],
 "metadata": {
  "kernelspec": {
   "display_name": "Python 3",
   "language": "python",
   "name": "python3"
  },
  "language_info": {
   "codemirror_mode": {
    "name": "ipython",
    "version": 3
   },
   "file_extension": ".py",
   "mimetype": "text/x-python",
   "name": "python",
   "nbconvert_exporter": "python",
   "pygments_lexer": "ipython3",
   "version": "3.7.6"
  },
  "toc": {
   "base_numbering": 1,
   "nav_menu": {},
   "number_sections": true,
   "sideBar": true,
   "skip_h1_title": false,
   "title_cell": "Table of Contents",
   "title_sidebar": "Contents",
   "toc_cell": false,
   "toc_position": {},
   "toc_section_display": true,
   "toc_window_display": false
  },
  "varInspector": {
   "cols": {
    "lenName": 16,
    "lenType": 16,
    "lenVar": 40
   },
   "kernels_config": {
    "python": {
     "delete_cmd_postfix": "",
     "delete_cmd_prefix": "del ",
     "library": "var_list.py",
     "varRefreshCmd": "print(var_dic_list())"
    },
    "r": {
     "delete_cmd_postfix": ") ",
     "delete_cmd_prefix": "rm(",
     "library": "var_list.r",
     "varRefreshCmd": "cat(var_dic_list()) "
    }
   },
   "types_to_exclude": [
    "module",
    "function",
    "builtin_function_or_method",
    "instance",
    "_Feature"
   ],
   "window_display": false
  }
 },
 "nbformat": 4,
 "nbformat_minor": 4
}
