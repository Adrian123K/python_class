{
 "cells": [
  {
   "cell_type": "markdown",
   "metadata": {},
   "source": [
    "#### ※ 문제190 리뷰"
   ]
  },
  {
   "cell_type": "code",
   "execution_count": 4,
   "metadata": {
    "ExecuteTime": {
     "end_time": "2020-05-22T04:54:20.019071Z",
     "start_time": "2020-05-22T04:54:19.732412Z"
    }
   },
   "outputs": [
    {
     "name": "stdout",
     "output_type": "stream",
     "text": [
      "12\n",
      "10\n",
      "8\n",
      "7\n",
      "9\n",
      "9\n",
      "9\n",
      "7\n",
      "11\n",
      "7\n",
      "12\n",
      "6\n",
      "12\n",
      "8\n",
      "12\n",
      "9\n",
      "7\n",
      "9\n",
      "10\n",
      "10\n",
      "8\n",
      "9\n",
      "10\n",
      "6\n",
      "8\n",
      "6\n",
      "6\n",
      "8\n",
      "11\n",
      "9\n"
     ]
    }
   ],
   "source": [
    "import csv\n",
    "import pandas as pd\n",
    "\n",
    "emp11=pd.read_csv('k:/Itwill/2. Python/자료/emp11.csv')\n",
    "rs2=emp11['email']\n",
    "for i in rs2:\n",
    "    print(i.find('@'))"
   ]
  },
  {
   "cell_type": "code",
   "execution_count": 6,
   "metadata": {
    "ExecuteTime": {
     "end_time": "2020-05-22T04:55:40.331306Z",
     "start_time": "2020-05-22T04:55:40.320313Z"
    },
    "scrolled": true
   },
   "outputs": [
    {
     "name": "stdout",
     "output_type": "stream",
     "text": [
      "emai ema\n",
      "naver \n",
      "naver \n",
      "gmail \n",
      "gmail \n",
      "gmail \n",
      "gmail \n",
      "hanmail \n",
      "naver \n",
      "gmail \n",
      "naver \n",
      "naver \n",
      "hanmail \n",
      " gmail\n",
      "gmail \n",
      "gmail \n",
      "naver \n",
      "naver \n",
      "naver \n",
      "hanmai \n",
      "naver \n",
      "naver \n",
      "naver \n",
      "naver \n",
      "naver \n",
      "icloud \n",
      "gmail \n",
      "naver \n",
      "naver \n",
      "naver \n",
      "gmail \n"
     ]
    }
   ],
   "source": [
    "\n",
    "file = open('k:/Itwill/2. Python/자료/emp11.csv','r',encoding='UTF-8')\n",
    "emp_csv=csv.reader(file)\n",
    "for i in emp_csv:\n",
    "    data = i[7]\n",
    "    a = data.find('@')\n",
    "    b = data.find('.')\n",
    "    print(data[a+1:b],data[a+1:-b+2])"
   ]
  },
  {
   "cell_type": "code",
   "execution_count": 5,
   "metadata": {
    "ExecuteTime": {
     "end_time": "2020-05-22T04:54:31.273008Z",
     "start_time": "2020-05-22T04:54:31.269010Z"
    }
   },
   "outputs": [
    {
     "name": "stdout",
     "output_type": "stream",
     "text": [
      "naver\n",
      "naver\n",
      "gmail\n",
      "gmail\n",
      "gmail\n",
      "gmail\n",
      "hanmail\n",
      "naver\n",
      "gmail\n",
      "naver\n",
      "naver\n",
      "hanmail\n",
      "gmail\n",
      "gmail\n",
      "gmail\n",
      "naver\n",
      "naver\n",
      "naver\n",
      "hanmai\n",
      "naver\n",
      "naver\n",
      "naver\n",
      "naver\n",
      "naver\n",
      "icloud\n",
      "gmail\n",
      "naver\n",
      "naver\n",
      "naver\n",
      "gmail\n"
     ]
    }
   ],
   "source": [
    "for i in rs2:\n",
    "    print(i[i.find('@')+1:i.rfind('.')])"
   ]
  },
  {
   "cell_type": "markdown",
   "metadata": {},
   "source": [
    "### ■ 예제91. 문자열을 특정 문자(열)로 분리하기(split)\n",
    "#### 코드를 작성할 때 가장 많이 접하게 되는 경우가 구분자(separator)로 구분되어 있는 문자열 파싱(parsing)하는 일\n",
    "#### 이때 문자열 객체의 split()을 활용하면 구분자를 기준으로 문자열을 쉽게 분리하여 파싱"
   ]
  },
  {
   "cell_type": "code",
   "execution_count": 7,
   "metadata": {
    "ExecuteTime": {
     "end_time": "2020-05-22T04:58:23.745503Z",
     "start_time": "2020-05-22T04:58:23.734511Z"
    }
   },
   "outputs": [
    {
     "data": {
      "text/plain": [
       "['http:', '', 'www.naver.com', 'news', 'today=20191204']"
      ]
     },
     "execution_count": 7,
     "metadata": {},
     "output_type": "execute_result"
    }
   ],
   "source": [
    "# 예제\n",
    "url='http://www.naver.com/news/today=20191204'\n",
    "result=url.split('/') # 문자열에서 /로 구분해서 문자를 리스트화\n",
    "result"
   ]
  },
  {
   "cell_type": "markdown",
   "metadata": {},
   "source": [
    "### ※ 문제191. 웹로그와 같은 log 데이터를 데이터 분석가들이 분석할 일이 많이 있는데 아래의 log 데이터에서 아래의 데이터를 추출하시오\n",
    "```\n",
    "log='name:홍길동 age:17 major:경영학 nation:한국' \n",
    "결과: ['name:홍길동','...']\n",
    "```"
   ]
  },
  {
   "cell_type": "code",
   "execution_count": 8,
   "metadata": {
    "ExecuteTime": {
     "end_time": "2020-05-22T05:01:57.617256Z",
     "start_time": "2020-05-22T05:01:57.611260Z"
    }
   },
   "outputs": [
    {
     "data": {
      "text/plain": [
       "['name:홍길동', 'age:17', 'major:경영학', 'nation:한국']"
      ]
     },
     "execution_count": 8,
     "metadata": {},
     "output_type": "execute_result"
    }
   ],
   "source": [
    "log='name:홍길동 age:17 major:경영학 nation:한국' # 결과: ['name:홍길동','...']\n",
    "log.split(' ')"
   ]
  },
  {
   "cell_type": "markdown",
   "metadata": {},
   "source": [
    "### ※ 문제192. 아래의 log 문자열에서 아래의 데이터만 추출하시오\n",
    "```\n",
    "log='name:홍길동 age:17 major:경영학 nation:한국' \n",
    "결과: ['홍길동','17',...]\n",
    "```"
   ]
  },
  {
   "cell_type": "code",
   "execution_count": 22,
   "metadata": {
    "ExecuteTime": {
     "end_time": "2020-05-22T05:12:25.911774Z",
     "start_time": "2020-05-22T05:12:25.906776Z"
    }
   },
   "outputs": [
    {
     "data": {
      "text/plain": [
       "['홍길동', '17', '경영학', '한국']"
      ]
     },
     "execution_count": 22,
     "metadata": {},
     "output_type": "execute_result"
    }
   ],
   "source": [
    "rs=log.split()\n",
    "ls=[j[1] for j in [i.split(':') for i in rs]]\n",
    "ls"
   ]
  },
  {
   "cell_type": "markdown",
   "metadata": {},
   "source": [
    "### ■ 예제92. 문자열을 특정 문자(열)로 결합하기 (join)\n",
    "#### 문자열 객체의 join() 메소드는 split()과는 반대로 문자열이 요소인 리스트를 인자로 받아 리스트 모든 요소를 특정 문자열로 연결하여 새로운 문자열로 만들어 리턴"
   ]
  },
  {
   "cell_type": "code",
   "execution_count": 23,
   "metadata": {
    "ExecuteTime": {
     "end_time": "2020-05-22T05:14:18.620132Z",
     "start_time": "2020-05-22T05:14:18.614135Z"
    }
   },
   "outputs": [
    {
     "data": {
      "text/plain": [
       "'2020/05/22:200:ok:이준호'"
      ]
     },
     "execution_count": 23,
     "metadata": {},
     "output_type": "execute_result"
    }
   ],
   "source": [
    "# 예제\n",
    "loglist=['2020/05/22','200','ok','이준호']\n",
    "bond=':'\n",
    "log=bond.join(loglist)\n",
    "log"
   ]
  },
  {
   "cell_type": "markdown",
   "metadata": {},
   "source": [
    "### ※ 문제193. 위에서 배운 join을 이용해서 우리반 데이터(emp11.csv)의 데이터 중 이름을 아래와 같이 출력하시오(성씨로 정렬해서)\n",
    "```\n",
    "힌트 : a.sort()\n",
    "강혜리,권민준,김명환,김서준,김소애,김유진,김은주,김지석,....\n",
    "```"
   ]
  },
  {
   "cell_type": "code",
   "execution_count": 35,
   "metadata": {
    "ExecuteTime": {
     "end_time": "2020-05-22T05:44:44.410906Z",
     "start_time": "2020-05-22T05:44:44.402911Z"
    }
   },
   "outputs": [
    {
     "data": {
      "text/plain": [
       "'강혜리,권민준,김명환,김서준,김소애,김유진,김은주,김지석,김태환,김현수,박민호,박상희,박지성,서동혁,안태형,양선종,위주희,이서지,이승혁,이예라,이준호,이태환,전지연,정주희,조성원,조원기,최민혁,최유리,한태현,홍승희'"
      ]
     },
     "execution_count": 35,
     "metadata": {},
     "output_type": "execute_result"
    }
   ],
   "source": [
    "file=open('k:/Itwill/2. Python/자료/emp11_2.csv','r',encoding='UTF-8')\n",
    "name=csv.reader(file)\n",
    "ls=[]\n",
    "for i in name:\n",
    "    ls.append(i[1]) # ls에 이름을 추가\n",
    "ls.sort() # 정렬\n",
    "bond=',' \n",
    "rs=bond.join(ls) # ls의 요소를 bond안의 값으로 join\n",
    "rs"
   ]
  },
  {
   "cell_type": "code",
   "execution_count": 36,
   "metadata": {
    "ExecuteTime": {
     "end_time": "2020-05-22T05:44:44.919536Z",
     "start_time": "2020-05-22T05:44:44.913539Z"
    }
   },
   "outputs": [
    {
     "name": "stdout",
     "output_type": "stream",
     "text": [
      "강혜리,권민준,김명환,김서준,김소애,김유진,김은주,김지석,김태환,김현수,박민호,박상희,박지성,서동혁,안태형,양선종,위주희,이서지,이승혁,이예라,이준호,이태환,전지연,정주희,조성원,조원기,최민혁,최유리,한태현,홍승희\n"
     ]
    }
   ],
   "source": [
    "file=open('k:/Itwill/2. Python/자료/emp11_2.csv','r',encoding='UTF-8')\n",
    "name=csv.reader(file)\n",
    "print(','.join(sorted([i[1] for i in name])))"
   ]
  },
  {
   "cell_type": "markdown",
   "metadata": {},
   "source": [
    "### ■ 예제93. 문자열에서 특정 문자(열)을 다른 문자(열)로 바꾸기 (replace)\n",
    "#### 문자열 객체의 replace() 메소드는 문자열에서 특정 문자나 문자열을 다른 문자나 문자열로 변경"
   ]
  },
  {
   "cell_type": "code",
   "execution_count": 38,
   "metadata": {
    "ExecuteTime": {
     "end_time": "2020-05-22T05:48:03.209534Z",
     "start_time": "2020-05-22T05:48:03.204537Z"
    }
   },
   "outputs": [
    {
     "data": {
      "text/plain": [
       "'My password is 0234'"
      ]
     },
     "execution_count": 38,
     "metadata": {},
     "output_type": "execute_result"
    }
   ],
   "source": [
    "# 예제\n",
    "txt='My password is 1234'\n",
    "rs=txt.replace('1','0') # 문자열 변수 txt의 문자중 1을 0으로 바꿈\n",
    "rs"
   ]
  },
  {
   "cell_type": "markdown",
   "metadata": {},
   "source": [
    "### ※ 문제194. 아래의 리스트의 결과를 아래와 같이 출력하시오\n",
    "```\n",
    "result=['name:홍길동 age:17 major:경영학 nation:한국']\n",
    "결과: \n",
    "name ---> 홍길동\n",
    "age ---> 17\n",
    "major ---> 경영학\n",
    "nation ---> 한국\n",
    "```"
   ]
  },
  {
   "cell_type": "code",
   "execution_count": 43,
   "metadata": {
    "ExecuteTime": {
     "end_time": "2020-05-22T05:53:21.669746Z",
     "start_time": "2020-05-22T05:53:21.664750Z"
    }
   },
   "outputs": [
    {
     "name": "stdout",
     "output_type": "stream",
     "text": [
      "name ---> 홍길동\n",
      "age ---> 17\n",
      "major ---> 경영학\n",
      "nation ---> 한국\n"
     ]
    }
   ],
   "source": [
    "result=['name:홍길동', 'age:17', 'major:경영학', 'nation:한국']\n",
    "for i in result:\n",
    "    print(i.replace(':',' ---> '))\n"
   ]
  },
  {
   "cell_type": "code",
   "execution_count": 45,
   "metadata": {
    "ExecuteTime": {
     "end_time": "2020-05-22T05:54:27.796228Z",
     "start_time": "2020-05-22T05:54:27.791231Z"
    }
   },
   "outputs": [
    {
     "name": "stdout",
     "output_type": "stream",
     "text": [
      "name ---> 홍길동\n",
      "age ---> 17\n",
      "major ---> 경영학\n",
      "nation ---> 한국\n"
     ]
    }
   ],
   "source": [
    "print('\\n'.join([i.replace(':',' ---> ') for i in result]))"
   ]
  },
  {
   "cell_type": "markdown",
   "metadata": {},
   "source": [
    "### ■ 예제94. 문자열을 바이트 객체로 바꾸기 (encode)\n",
    "#### 인코딩(encoding)이란?\n",
    "```\n",
    "사람이 인지할 수 있는 형태의 데이터를 약속된 규칙에 의해 컴퓨터가 사용하는 0과 1로 변환하는 과정.\n",
    "컴퓨터의 발명, 발전이 미국의 학계와 기업을 중심으로 이루어지다보니 문자 집합도 미국을 기준으로 제정.\n",
    "미국에서는 제정된 ASCII(미국 정보 교환 표준 부호)는 1960년대에 제정된 문자 집합으로 이후 개발된 문자 집합의 토대를 이루고 있다.\n",
    "ASCII는 7비트만을 이용해서 음이 아닌 수(0~127)의 문자 집합내의 문자 할당 약속\n",
    "```\n",
    "```\n",
    "사람이 알아 볼 수 있는 언어 --(변경)--> 컴퓨터가 알아볼 수 있는 숫자\n",
    "```\n"
   ]
  },
  {
   "cell_type": "markdown",
   "metadata": {},
   "source": [
    "### ※ 문제195. chr을 이용해서 숫자 65부터 127까지 어떤 문자인지 출력하시오"
   ]
  },
  {
   "cell_type": "code",
   "execution_count": 47,
   "metadata": {
    "ExecuteTime": {
     "end_time": "2020-05-22T06:04:20.308175Z",
     "start_time": "2020-05-22T06:04:20.299180Z"
    },
    "hide_input": false
   },
   "outputs": [
    {
     "name": "stdout",
     "output_type": "stream",
     "text": [
      "65 --> A\n",
      "66 --> B\n",
      "67 --> C\n",
      "68 --> D\n",
      "69 --> E\n",
      "70 --> F\n",
      "71 --> G\n",
      "72 --> H\n",
      "73 --> I\n",
      "74 --> J\n",
      "75 --> K\n",
      "76 --> L\n",
      "77 --> M\n",
      "78 --> N\n",
      "79 --> O\n",
      "80 --> P\n",
      "81 --> Q\n",
      "82 --> R\n",
      "83 --> S\n",
      "84 --> T\n",
      "85 --> U\n",
      "86 --> V\n",
      "87 --> W\n",
      "88 --> X\n",
      "89 --> Y\n",
      "90 --> Z\n",
      "91 --> [\n",
      "92 --> \\\n",
      "93 --> ]\n",
      "94 --> ^\n",
      "95 --> _\n",
      "96 --> `\n",
      "97 --> a\n",
      "98 --> b\n",
      "99 --> c\n",
      "100 --> d\n",
      "101 --> e\n",
      "102 --> f\n",
      "103 --> g\n",
      "104 --> h\n",
      "105 --> i\n",
      "106 --> j\n",
      "107 --> k\n",
      "108 --> l\n",
      "109 --> m\n",
      "110 --> n\n",
      "111 --> o\n",
      "112 --> p\n",
      "113 --> q\n",
      "114 --> r\n",
      "115 --> s\n",
      "116 --> t\n",
      "117 --> u\n",
      "118 --> v\n",
      "119 --> w\n",
      "120 --> x\n",
      "121 --> y\n",
      "122 --> z\n",
      "123 --> {\n",
      "124 --> |\n",
      "125 --> }\n",
      "126 --> ~\n",
      "127 --> \n"
     ]
    }
   ],
   "source": [
    "# 예제: A는 숫자 65. a는 숫자 97\n",
    "for i in range(65,128):\n",
    "    print(i,'-->',chr(i))"
   ]
  },
  {
   "cell_type": "markdown",
   "metadata": {},
   "source": [
    "#### ASCII 코드표 -> 미국 엔지니어들은 편하게 사용 but 다른 나라는 불편\n",
    "```\n",
    "1. 서유럽 \n",
    "    - 독일어의 움라우트, 스페인어의 물결표, 터키어의 시딜러, 프랑스어의 악센트는 7비트로는 표현 불가\n",
    "    - 미국 표준을 보완한 새로운 국제 표준이 등장\n",
    "    - 미국 표준인 0~127 영역은 그대로 유지하고 128~255 영역의 서유럽어에 필요한 문자를 추가\n",
    "    - 129에 256인 8비트로 표현하는 문자 집합을 추가해서 서유럽어도 컴퓨터로 구현가능하게 됨\n",
    "```\n",
    "```\n",
    "2. 아시아\n",
    "    - 한자, 일본어, 한글이 8비트에 들어맞지 않음\n",
    "    - 아시아를 위해서 더블 캐릭터 셋 16비트로된 문자 집합을 제공해서 해결\n",
    "    - 65536의 문자를 할당할 수 있게 함\n",
    "    - EUC-KR, CP949가 여기에 해당\n",
    "        - 포스코 더 샾 아파트가 오라클 DB에 insert되면 ??로 보이게 된다\n",
    "    - 이 문제를 해결하기 위해 나온 것이 유니코드\n",
    "        - UTF-7, UTF-8, UTF-6, UTF-32 이 중 UTF-8을 가장 많이 사용  \n",
    "```  \n",
    "##### 파이썬에서 한글이 ??로 출력 안되려면 인코딩 UTF-8로 맞춰줘야 한다\n",
    "    "
   ]
  },
  {
   "cell_type": "markdown",
   "metadata": {},
   "source": [
    "### ■ 예제95. 바이트 객체를 문자열로 바꾸기(decode)\n",
    "#### 디코딩(decoding)\n",
    "```\n",
    "컴퓨터가 알아볼 수 있는 언어 ------------> 사람이 알아볼 수 있는 언어\n",
    "```"
   ]
  },
  {
   "cell_type": "code",
   "execution_count": 52,
   "metadata": {
    "ExecuteTime": {
     "end_time": "2020-05-22T06:48:58.781934Z",
     "start_time": "2020-05-22T06:48:58.776936Z"
    }
   },
   "outputs": [
    {
     "name": "stdout",
     "output_type": "stream",
     "text": [
      "A\n",
      "b'A'\n",
      "A\n"
     ]
    }
   ],
   "source": [
    "# 예제\n",
    "u_txt='A'\n",
    "b_txt=u_txt.encode()\n",
    "print(u_txt)\n",
    "print(b_txt) # b'A' : binary 'A'\n",
    "c_txt=b_txt.decode()\n",
    "print(c_txt)"
   ]
  },
  {
   "cell_type": "markdown",
   "metadata": {},
   "source": [
    "### ■ 예제96. 순차적인 정수 리스트 만들기(range)\n",
    "#### [0,1,2,3]이나 [100,101,102,103]과 같이 순차적인 정수 리스트를 만드는 가장 간단한 방법은 파이썬 내장함수 range()를 이용"
   ]
  },
  {
   "cell_type": "code",
   "execution_count": 55,
   "metadata": {
    "ExecuteTime": {
     "end_time": "2020-05-22T06:52:03.163155Z",
     "start_time": "2020-05-22T06:52:03.158159Z"
    }
   },
   "outputs": [
    {
     "name": "stdout",
     "output_type": "stream",
     "text": [
      "1\n",
      "2\n",
      "3\n",
      "4\n",
      "5\n",
      "6\n",
      "7\n",
      "8\n",
      "9\n",
      "10\n"
     ]
    }
   ],
   "source": [
    "# 예제\n",
    "for i in range(1,11):\n",
    "    print(i)"
   ]
  },
  {
   "cell_type": "markdown",
   "metadata": {},
   "source": [
    "### ※ 문제196. 아래의 결과를 출력하시오\n",
    "```\n",
    "[2,4,6,8,10,12,14,16,18]\n",
    "```"
   ]
  },
  {
   "cell_type": "code",
   "execution_count": 63,
   "metadata": {
    "ExecuteTime": {
     "end_time": "2020-05-22T06:56:10.657678Z",
     "start_time": "2020-05-22T06:56:10.651683Z"
    }
   },
   "outputs": [
    {
     "data": {
      "text/plain": [
       "[2, 4, 6, 8, 10, 12, 14, 16, 18]"
      ]
     },
     "execution_count": 63,
     "metadata": {},
     "output_type": "execute_result"
    }
   ],
   "source": [
    "[i for i in range(2,20,2)]        "
   ]
  },
  {
   "cell_type": "code",
   "execution_count": 61,
   "metadata": {
    "ExecuteTime": {
     "end_time": "2020-05-22T06:54:13.503825Z",
     "start_time": "2020-05-22T06:54:13.497829Z"
    }
   },
   "outputs": [
    {
     "data": {
      "text/plain": [
       "[2, 4, 6, 8, 10, 12, 14, 16, 18]"
      ]
     },
     "execution_count": 61,
     "metadata": {},
     "output_type": "execute_result"
    }
   ],
   "source": [
    "list(range(2,20,2))"
   ]
  },
  {
   "cell_type": "markdown",
   "metadata": {},
   "source": [
    "### ■ 예제97. 리스트에서 특정 요소 얻기\n",
    "#### 리스트의 특정 위치에 있는 요소값을 구하려면 인덱싱을 이용\n",
    "#### 인덱스는 0부터 시작"
   ]
  },
  {
   "cell_type": "code",
   "execution_count": 66,
   "metadata": {
    "ExecuteTime": {
     "end_time": "2020-05-22T06:58:48.192947Z",
     "start_time": "2020-05-22T06:58:48.186951Z"
    }
   },
   "outputs": [
    {
     "data": {
      "text/plain": [
       "2"
      ]
     },
     "execution_count": 66,
     "metadata": {},
     "output_type": "execute_result"
    }
   ],
   "source": [
    "a=[1,2,'a','b','c',[4,5,6]]\n",
    "a[1]"
   ]
  },
  {
   "cell_type": "markdown",
   "metadata": {},
   "source": [
    "### ※ 문제197. 위의 a 리스트에서 숫자 4를 출력하시오"
   ]
  },
  {
   "cell_type": "code",
   "execution_count": 67,
   "metadata": {
    "ExecuteTime": {
     "end_time": "2020-05-22T06:59:27.484691Z",
     "start_time": "2020-05-22T06:59:27.480693Z"
    }
   },
   "outputs": [
    {
     "data": {
      "text/plain": [
       "4"
      ]
     },
     "execution_count": 67,
     "metadata": {},
     "output_type": "execute_result"
    }
   ],
   "source": [
    "a[5][0]"
   ]
  },
  {
   "cell_type": "markdown",
   "metadata": {},
   "source": [
    "### ※ 문제198. 아래의 리스트에서 숫자 7을 출력하시오"
   ]
  },
  {
   "cell_type": "code",
   "execution_count": 68,
   "metadata": {
    "ExecuteTime": {
     "end_time": "2020-05-22T07:01:10.976001Z",
     "start_time": "2020-05-22T07:01:10.969005Z"
    }
   },
   "outputs": [
    {
     "data": {
      "text/plain": [
       "7"
      ]
     },
     "execution_count": 68,
     "metadata": {},
     "output_type": "execute_result"
    }
   ],
   "source": [
    "b=[2,3,4,[5,6,[7,8],9],10]\n",
    "b[3][2][0]"
   ]
  },
  {
   "cell_type": "markdown",
   "metadata": {},
   "source": [
    "### ※ 문제199. 주머니속에 노란공 6개와 파란공 4개 총 10개의 공이 들어있는 리스트를 만드시오"
   ]
  },
  {
   "cell_type": "code",
   "execution_count": 83,
   "metadata": {
    "ExecuteTime": {
     "end_time": "2020-05-22T07:12:45.247853Z",
     "start_time": "2020-05-22T07:12:45.243854Z"
    }
   },
   "outputs": [
    {
     "data": {
      "text/plain": [
       "['y', 'y', 'y', 'y', 'y', 'y', 'b', 'b', 'b', 'b']"
      ]
     },
     "execution_count": 83,
     "metadata": {},
     "output_type": "execute_result"
    }
   ],
   "source": [
    "ls=['y']*6+['b']*4\n",
    "ls"
   ]
  },
  {
   "cell_type": "markdown",
   "metadata": {},
   "source": [
    "### ※ 문제200. 위의 주머니에서 공을 하나 임의로 꺼내보시오"
   ]
  },
  {
   "cell_type": "code",
   "execution_count": 75,
   "metadata": {
    "ExecuteTime": {
     "end_time": "2020-05-22T07:07:04.510324Z",
     "start_time": "2020-05-22T07:07:04.506323Z"
    }
   },
   "outputs": [
    {
     "name": "stdout",
     "output_type": "stream",
     "text": [
      "['b']\n"
     ]
    }
   ],
   "source": [
    "import random\n",
    "print(random.sample(ls,1)) # random.sample : 리스트로 출력"
   ]
  },
  {
   "cell_type": "markdown",
   "metadata": {},
   "source": [
    "### ※ 문제201. 위의 주머니에서 임의로 3개의 공을 꺼낼 경우 이 중에 2개의 공이 파란공일 확률을 구하시오(비복원)"
   ]
  },
  {
   "cell_type": "code",
   "execution_count": 96,
   "metadata": {
    "ExecuteTime": {
     "end_time": "2020-05-22T07:22:28.672827Z",
     "start_time": "2020-05-22T07:22:28.155359Z"
    }
   },
   "outputs": [
    {
     "name": "stdout",
     "output_type": "stream",
     "text": [
      "0.30088\n"
     ]
    }
   ],
   "source": [
    "cnt=0\n",
    "for _ in range(100000):\n",
    "    ls=['y']*6+['b']*4\n",
    "    pick=[]\n",
    "    for i in range(3):\n",
    "        pick.append(ls.pop(ls.index(random.choice(ls))))\n",
    "    if pick.count('b')==2:\n",
    "        cnt += 1\n",
    "print(cnt/100000)"
   ]
  },
  {
   "cell_type": "code",
   "execution_count": 97,
   "metadata": {
    "ExecuteTime": {
     "end_time": "2020-05-22T07:31:16.909978Z",
     "start_time": "2020-05-22T07:31:16.372687Z"
    }
   },
   "outputs": [
    {
     "name": "stdout",
     "output_type": "stream",
     "text": [
      "0.30035\n"
     ]
    }
   ],
   "source": [
    "ls=['y']*6+['b']*4\n",
    "cnt=0\n",
    "for i in range(100000):\n",
    "    pick=random.sample(ls,3)\n",
    "    if pick.count('b')==2:\n",
    "        cnt += 1\n",
    "print(cnt/100000)"
   ]
  },
  {
   "cell_type": "code",
   "execution_count": 103,
   "metadata": {
    "ExecuteTime": {
     "end_time": "2020-05-22T07:42:43.341565Z",
     "start_time": "2020-05-22T07:42:42.824649Z"
    }
   },
   "outputs": [
    {
     "data": {
      "text/plain": [
       "0.3007"
      ]
     },
     "execution_count": 103,
     "metadata": {},
     "output_type": "execute_result"
    }
   ],
   "source": [
    "sum([random.sample(ls,3).count('b')==2 for i in range(100000)])/100000"
   ]
  },
  {
   "cell_type": "markdown",
   "metadata": {},
   "source": [
    "### ※ 문제202. 아래의 a 리스트에서 랜덤으로 추출되는 3개의 숫자값의 평균값을 출력하시오"
   ]
  },
  {
   "cell_type": "code",
   "execution_count": 143,
   "metadata": {
    "ExecuteTime": {
     "end_time": "2020-05-22T07:44:32.660594Z",
     "start_time": "2020-05-22T07:44:32.656596Z"
    }
   },
   "outputs": [
    {
     "name": "stdout",
     "output_type": "stream",
     "text": [
      "4.666666666666667\n"
     ]
    }
   ],
   "source": [
    "a=[1,2,3,4,5,6,7]\n",
    "b=random.sample(a,3)\n",
    "print(sum(b)/len(b))"
   ]
  },
  {
   "cell_type": "markdown",
   "metadata": {},
   "source": [
    "### ※ 문제203. 위의 코드를 numpy로 구현하시오"
   ]
  },
  {
   "cell_type": "code",
   "execution_count": 171,
   "metadata": {
    "ExecuteTime": {
     "end_time": "2020-05-22T07:47:43.195068Z",
     "start_time": "2020-05-22T07:47:43.189071Z"
    }
   },
   "outputs": [
    {
     "data": {
      "text/plain": [
       "5.333333333333333"
      ]
     },
     "execution_count": 171,
     "metadata": {},
     "output_type": "execute_result"
    }
   ],
   "source": [
    "np.random.choice(a,3).mean()"
   ]
  },
  {
   "cell_type": "code",
   "execution_count": 160,
   "metadata": {
    "ExecuteTime": {
     "end_time": "2020-05-22T07:46:52.812989Z",
     "start_time": "2020-05-22T07:46:52.806994Z"
    }
   },
   "outputs": [
    {
     "data": {
      "text/plain": [
       "5.0"
      ]
     },
     "execution_count": 160,
     "metadata": {},
     "output_type": "execute_result"
    }
   ],
   "source": [
    "np.mean(random.sample(a,3))"
   ]
  },
  {
   "cell_type": "markdown",
   "metadata": {},
   "source": [
    "### ※ 문제204. 아래와 같이 초등학생 십만명을 구성하는데 평균키를 148.5로 하고 표준편차를 7.8로 해서 구성하고 이 초등학생들 중 랜덤으로 100명을 추출해서 평균키를 출력하시오"
   ]
  },
  {
   "cell_type": "code",
   "execution_count": 172,
   "metadata": {
    "ExecuteTime": {
     "end_time": "2020-05-22T07:50:44.756385Z",
     "start_time": "2020-05-22T07:50:44.734397Z"
    }
   },
   "outputs": [
    {
     "data": {
      "text/plain": [
       "148.54899892360692"
      ]
     },
     "execution_count": 172,
     "metadata": {},
     "output_type": "execute_result"
    }
   ],
   "source": [
    "avg=148.5\n",
    "std=7.8\n",
    "N=100000\n",
    "height=np.random.randn(N)*std+avg\n",
    "np.random.choice(height,100).mean()"
   ]
  },
  {
   "cell_type": "markdown",
   "metadata": {},
   "source": [
    "### ■ 가설검정이란?\n",
    "#### 가설이란 두 개 이상의 변수 또는 현상간의 관계를 검정 가능한 형태로 서술한 문장으로 과학적 조사에 의하여 검정이 가능한 사실을 말한다.\n",
    "```\n",
    "가설에는 연구자가 새로이 주장하여 검정하고자 하는 연구가설(대립가설)과 이에 반하여 기존에 일반적인 사실로 받아들여지고 있는 내용을 나타내는 귀무가설이 있다.\n",
    "```\n",
    "#### 일반적으로 귀무가설은 $H_0$으로 표기하고 연구가설은 $H_1$로 표기한다.\n",
    "```\n",
    "통상적으로 연구가설이 먼저 설정되면, 귀무가설은 연구가설에서 주장하는 내용과 반대되는 모든 내용을 포함하는 것이 된다.\n",
    "```\n",
    "#### 일반적으로 새로운 주장(연구가설)은 그것이 객관적으로 명백하게 입증되지 않으면 쉽게 받아들여지지 않는다.\n",
    "#### 따라서 귀무가설을 기각하고 연구가설이 채택되는 위해서는 기존 지식을 나타내는 귀무가설이 분명하게 잘못되었음을 입증해야 한다"
   ]
  },
  {
   "cell_type": "markdown",
   "metadata": {},
   "source": [
    "### ■ 가설검정의 중요한 용어 4개\n",
    "1. 유의수준($\\alpha$) : 귀무가설이 옳다는 전제하에 어느정도 극단적인 표본 통계량값이 나오면 귀무가설이 잘못되었다고 판단하여 귀무가설을 기각할 최대의 확률  \n",
    "2. 임계치 : 검정의 종류(양측/단측)와 유의수준을 고려해서 산출한 값으로 가설의 채택 여부를 결정짓는 경계값  \n",
    "3. 검정통계량 : 표본으로부터 추출한 통계량이나 검정에 사용할 분포에 따라 그에 맞는 값으로 치환한 통계량  \n",
    "4. $p$-Value : 표본으로부터 얻은 통계량 혹은 이를 치환한 검정 통계량의 절댓값보다 더 큰 절댓값을 또다른 표본으로부터 얻을 수 있는 확률"
   ]
  },
  {
   "cell_type": "markdown",
   "metadata": {},
   "source": [
    "### ※ (오늘의 마지막 문제)(파이썬 알고리즘 문제 34번)\n",
    "```\n",
    "2000 년 초등학교 5학년 어린이들의 전국 평균키는 148.5cm , 표준오차는 7.8 이였습니다.\n",
    "식생활의 변화로 인해 어린이들의 성장에 변화가 일어났다고 생각됩니다. 그래서 현대의 초등학교 5학년 어린이들을 100명을\n",
    "무작위로 추출해 조사했더니 그 평균키가 150cm 였습니다. 초등학교 5학년 어린이들의 평균 키가 늘어났다는 것을\n",
    "유의수준 5%로 검정해보세요 ~ ( 단측검정)\n",
    "```"
   ]
  },
  {
   "cell_type": "markdown",
   "metadata": {
    "ExecuteTime": {
     "end_time": "2020-05-22T07:50:44.756385Z",
     "start_time": "2020-05-22T07:50:44.734397Z"
    }
   },
   "source": [
    "```python\n",
    "avg=148.5\n",
    "std=7.8\n",
    "N=100000\n",
    "height=np.random.randn(N)*std+avg\n",
    "np.random.choice(height,100).mean()\n",
    "```"
   ]
  },
  {
   "cell_type": "code",
   "execution_count": 176,
   "metadata": {
    "ExecuteTime": {
     "end_time": "2020-05-22T08:09:26.121120Z",
     "start_time": "2020-05-22T08:09:26.111126Z"
    }
   },
   "outputs": [
    {
     "data": {
      "text/plain": [
       "149.1947234602117"
      ]
     },
     "execution_count": 176,
     "metadata": {},
     "output_type": "execute_result"
    }
   ],
   "source": [
    "avg5=150\n",
    "std5=7.8\n",
    "N5=100000\n",
    "height5=np.random.randn(N)*std+avg5\n",
    "sample_avg=np.random.choice(height5,100).mean()\n",
    "sample_avg"
   ]
  },
  {
   "cell_type": "markdown",
   "metadata": {},
   "source": [
    "#### tall_pvalue()를 생성하고 평균키 값을 넣었을 때 p-value값이 출력되게 하시오"
   ]
  },
  {
   "cell_type": "code",
   "execution_count": 195,
   "metadata": {
    "ExecuteTime": {
     "end_time": "2020-05-22T08:43:59.564276Z",
     "start_time": "2020-05-22T08:43:59.556281Z"
    }
   },
   "outputs": [],
   "source": [
    "def tall_pvalue(n):\n",
    "    from sympy import exp, sqrt, pi, Integral, Symbol, S\n",
    "    import numpy as np\n",
    "        \n",
    "    avg=148.5\n",
    "    std=7.8\n",
    "    N=100000\n",
    "    height=np.random.randn(N)*std+avg\n",
    "       \n",
    "    s_std=np.array([np.random.choice(height,100).mean() for _ in range(100000)]).std()\n",
    "        \n",
    "    data=n\n",
    "            \n",
    "    x = Symbol('x')\n",
    "    f = exp(-(x-avg)**2/(2*s_std**2))/(s_std*sqrt(2*pi))\n",
    "    \n",
    "    return f'{round(n_pvalue,1)}%'"
   ]
  },
  {
   "cell_type": "code",
   "execution_count": 196,
   "metadata": {
    "ExecuteTime": {
     "end_time": "2020-05-22T08:44:07.685714Z",
     "start_time": "2020-05-22T08:44:02.237522Z"
    }
   },
   "outputs": [
    {
     "data": {
      "text/plain": [
       "'2.7%'"
      ]
     },
     "execution_count": 196,
     "metadata": {},
     "output_type": "execute_result"
    }
   ],
   "source": [
    "tall_pvalue(150)"
   ]
  }
 ],
 "metadata": {
  "kernelspec": {
   "display_name": "Python 3",
   "language": "python",
   "name": "python3"
  },
  "language_info": {
   "codemirror_mode": {
    "name": "ipython",
    "version": 3
   },
   "file_extension": ".py",
   "mimetype": "text/x-python",
   "name": "python",
   "nbconvert_exporter": "python",
   "pygments_lexer": "ipython3",
   "version": "3.7.6"
  },
  "varInspector": {
   "cols": {
    "lenName": 16,
    "lenType": 16,
    "lenVar": 40
   },
   "kernels_config": {
    "python": {
     "delete_cmd_postfix": "",
     "delete_cmd_prefix": "del ",
     "library": "var_list.py",
     "varRefreshCmd": "print(var_dic_list())"
    },
    "r": {
     "delete_cmd_postfix": ") ",
     "delete_cmd_prefix": "rm(",
     "library": "var_list.r",
     "varRefreshCmd": "cat(var_dic_list()) "
    }
   },
   "types_to_exclude": [
    "module",
    "function",
    "builtin_function_or_method",
    "instance",
    "_Feature"
   ],
   "window_display": false
  }
 },
 "nbformat": 4,
 "nbformat_minor": 4
}
