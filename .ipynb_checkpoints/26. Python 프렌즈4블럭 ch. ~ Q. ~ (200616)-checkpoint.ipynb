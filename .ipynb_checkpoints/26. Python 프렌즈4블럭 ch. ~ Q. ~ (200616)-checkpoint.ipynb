{
 "cells": [
  {
   "cell_type": "markdown",
   "metadata": {},
   "source": [
    "■ 카카오 프랜즈 4블럭 게임을 구현하기 위한 기능들 6가지\n",
    "```python\n",
    "    1. 1차원을 2차원으로 변환하는 기능\n",
    "                                                             CCBDE\n",
    "     1. ['CCBDE','AAADE','AAABF','CCBBE'] →                 AAADE   변환하는 기능\n",
    "                                                             AAABF\n",
    "                                                             CCBBF\n",
    "\n",
    "                 ↓\n",
    "x =  [['C','C','B','D','E'],['A','A','A','D','E'],['A','A','A','B','F'],['C','C','B','B','E'] ]\n",
    "     1차원을 2차원으로 변환하는 기능\n",
    "\n",
    "2. board = [[0,0,0,0,0],[0,0,0,0,0],[0,0,0,0,0],[0,0,0,0,0]]   보드판을 만드는 기능\n",
    "\n",
    "3.   CCBDE     2차원으로 변환한 리스트에서 4개의 원소가 같은 것을 찾는 기능\n",
    "     AAADE   \n",
    "     AAABF\n",
    "     CCBBF\n",
    "\n",
    "      00  01  02  03  04\n",
    "      10  11  12  13  14\n",
    "      20  21  22  23  24\n",
    "      30  31  32  33  34 \n",
    "\n",
    "for i  in range(가로길이):\n",
    "    for j in range(세로길이):\n",
    "        if x[0][0] == x[0][1] and x[0][0] == x[1][0] and x[0][0] == x[1][1]:\n",
    "\n",
    "  4개의 블럭이 같은 위치의 board 리스트의 원소를 1로 변경해준다\n",
    "\n",
    "  board = [[0,0,0,0,0],[1,1,1,0,0],[1,1,1,0,0],[0,0,0,0,0]]\n",
    "\n",
    "4. board 리스트의 원소중 1이 몇개있는지 count 한다.\n",
    "   (리스트 메소드의 board.count(1) 를 이용하면 된다)\n",
    "\n",
    "5. 게임판 x 리스트의 같은 원소를 숫자 9 로 변경하는 기능\n",
    "  ( 첫번째는 알파벳 A 가 숫자 9 로 변경된다)\n",
    "\n",
    "      CCBDE                  CCBDE\n",
    "      AAADE      --------->  999DE\n",
    "      AAABF                  999BF\n",
    "      CCBBF                  CCBBF\n",
    "\n",
    "6. 숫자 9 자리와 숫자 9 위의 원소를 바꾸는 기능 \n",
    "\n",
    "      CCBDE                       DE                  DE\n",
    "      999DE      --------->    CCBDE  --------->      DE\n",
    "      999BF                    999BF               CCBBE\n",
    "      CCBBF                    CCBBF               CCBBF\n",
    "\n",
    "  만약에 그 자리가 9 라면 윗자리의 요소랑 바꿔치기를 해라 !\n",
    "  ```"
   ]
  },
  {
   "cell_type": "code",
   "execution_count": null,
   "metadata": {},
   "outputs": [],
   "source": []
  },
  {
   "cell_type": "code",
   "execution_count": null,
   "metadata": {},
   "outputs": [],
   "source": []
  },
  {
   "cell_type": "code",
   "execution_count": null,
   "metadata": {},
   "outputs": [],
   "source": []
  },
  {
   "cell_type": "code",
   "execution_count": null,
   "metadata": {},
   "outputs": [],
   "source": [
    "def friend4_block(ls):\n",
    "    block=[[i.split()] for i in ls]"
   ]
  },
  {
   "cell_type": "code",
   "execution_count": 31,
   "metadata": {
    "ExecuteTime": {
     "end_time": "2020-06-16T08:04:15.314200Z",
     "start_time": "2020-06-16T08:04:15.305204Z"
    }
   },
   "outputs": [
    {
     "data": {
      "text/plain": [
       "([[0, 0, 0, 0, 0], [0, 0, 0, 0, 0], [0, 0, 0, 0, 0], [0, 0, 0, 0, 0]],\n",
       " [['C', 'C', 'B', 'D', 'E'],\n",
       "  ['A', 'A', 'A', 'D', 'E'],\n",
       "  ['A', 'A', 'A', 'B', 'F'],\n",
       "  ['C', 'C', 'B', 'B', 'E']])"
      ]
     },
     "execution_count": 31,
     "metadata": {},
     "output_type": "execute_result"
    }
   ],
   "source": [
    "ls=['CCBDE','AAADE','AAABF','CCBBE']\n",
    "block=[]\n",
    "for i in ls:\n",
    "    temp=[]\n",
    "    for j in range(len(i)):\n",
    "        temp.append(i[j])\n",
    "    block.append(temp)\n",
    "board=[]\n",
    "for i in range(len(ls)):\n",
    "    temp=[]\n",
    "    for j in range(len(ls[i])):\n",
    "        temp.append(0)\n",
    "    board.append(temp)\n",
    "board, block"
   ]
  },
  {
   "cell_type": "code",
   "execution_count": 105,
   "metadata": {
    "ExecuteTime": {
     "end_time": "2020-06-16T08:44:06.686787Z",
     "start_time": "2020-06-16T08:44:06.657804Z"
    }
   },
   "outputs": [
    {
     "name": "stdout",
     "output_type": "stream",
     "text": [
      "i j b l>>\n",
      "0 0 0 C\n",
      "0 1 0 C\n",
      "0 2 0 B\n",
      "0 3 0 D\n",
      "0 4 0 E\n",
      "i j b l>>\n",
      "1 0 1 A\n",
      "1 1 1 A\n",
      "1 2 1 A\n",
      "1 3 0 D\n",
      "1 4 0 E\n",
      "i j b l>>\n",
      "2 0 1 A\n",
      "2 1 1 A\n",
      "2 2 1 A\n",
      "2 3 0 B\n",
      "2 4 0 F\n",
      "i j b l>>\n",
      "3 0 0 C\n",
      "3 1 0 C\n",
      "3 2 0 B\n",
      "3 3 0 B\n",
      "3 4 0 E\n"
     ]
    },
    {
     "data": {
      "text/plain": [
       "([['C', 'C', 'B', 'D', 'E'],\n",
       "  ['9', '9', '9', 'D', 'E'],\n",
       "  ['9', '9', '9', 'B', 'F'],\n",
       "  ['C', 'C', 'B', 'B', 'E']],\n",
       " [[0, 0, 0, 0, 0], [1, 1, 1, 0, 0], [1, 1, 1, 0, 0], [0, 0, 0, 0, 0]])"
      ]
     },
     "execution_count": 105,
     "metadata": {},
     "output_type": "execute_result"
    }
   ],
   "source": [
    "ls=['CCBDE','AAADE','AAABF','CCBBE']\n",
    "block=[]\n",
    "board=[]\n",
    "for i in ls:\n",
    "    temp=[]\n",
    "    for j in range(len(i)):\n",
    "        temp.append(i[j])\n",
    "    block.append(temp)\n",
    "for i in range(len(ls)):\n",
    "    temp=[]\n",
    "    for j in range(len(ls[i])):\n",
    "        temp.append(0)\n",
    "    board.append(temp)\n",
    "    \n",
    "for i in range(len(block)-1):\n",
    "    for j in range(1,len(block[0])):\n",
    "        if block[i][j-1]==block[i][j] and block[i][j]==block[i+1][j] and block[i][j]==block[i+1][j-1]:\n",
    "            board[i+1][j],board[i+1][j-1],board[i][j-1],board[i][j] = 1,1,1,1\n",
    "            \n",
    "for i in range(len(board)):\n",
    "    print('i j b l>>')\n",
    "    for j in range(len(board[0])):\n",
    "        print(i,j,board[i][j],block[i][j])        \n",
    "        if board[i][j]==1:\n",
    "            block[i][j]='9'\n",
    "\n",
    "block, board\n"
   ]
  },
  {
   "cell_type": "code",
   "execution_count": null,
   "metadata": {},
   "outputs": [],
   "source": []
  },
  {
   "cell_type": "code",
   "execution_count": null,
   "metadata": {},
   "outputs": [],
   "source": []
  },
  {
   "cell_type": "code",
   "execution_count": null,
   "metadata": {},
   "outputs": [],
   "source": []
  },
  {
   "cell_type": "markdown",
   "metadata": {},
   "source": [
    "### ※ (점심시간 문제) 키와 체중간의 상관관계를 출력하는 파이썬 코드로 작성하시오 !\n",
    "    번호   키     체중 \n",
    "      1   147.9   41.7          \n",
    "      2   163.5   60.2           \n",
    "      3   159.8   47.0             \n",
    "      4   155.1   53.2\n",
    "      5   163.3   48.3\n",
    "      6   158.7   55.2\n",
    "      7   172.0   58.5\n",
    "      8   161.2   49.0\n",
    "      9   153.9   46.7\n",
    "     10   161.6   52.5"
   ]
  },
  {
   "cell_type": "code",
   "execution_count": 8,
   "metadata": {
    "ExecuteTime": {
     "end_time": "2020-06-16T00:40:27.375726Z",
     "start_time": "2020-06-16T00:40:27.363734Z"
    }
   },
   "outputs": [
    {
     "data": {
      "text/plain": [
       "0.7063055714476304"
      ]
     },
     "execution_count": 8,
     "metadata": {},
     "output_type": "execute_result"
    }
   ],
   "source": [
    "import math\n",
    "h=[147.9,163.5,159.8,155.1,163.3,158.7,172.0,161.2,153.9,161.6]\n",
    "w=[41.7,60.2,47.0,53.2,48.3,55.2,58.5,49.0,46.7,52.5]\n",
    "avg_h=sum(h)/len(h) # 키 평균\n",
    "avg_w=sum(w)/len(w) # 몸무게 평균\n",
    "avg_sqh=sum([i**2 for i in h])/len(h) # 키 제곱 평균\n",
    "avg_sqw=sum([i**2 for i in w])/len(w) # 몸무게 제곱 평균\n",
    "var_h=avg_sqh-avg_h**2 # 키 분산\n",
    "var_w=avg_sqw-avg_w**2 # 몸무게 분산\n",
    "std_h=[(i-avg_h) for i in h] # 키-평균 : 키 편차\n",
    "std_w=[(i-avg_w) for i in w] # 몸무게-평균 : 몸무게 편차\n",
    "cov_hw=sum([i*j for i,j in zip(std_h, std_w)])/len(h) # 키-몸무게 공분산\n",
    "cor_hw=cov_hw/(math.sqrt(var_h)*math.sqrt(var_w)) # 공분산/키 표준편차*몸무게 표준편차\n",
    "cor_hw"
   ]
  },
  {
   "cell_type": "code",
   "execution_count": null,
   "metadata": {},
   "outputs": [],
   "source": []
  },
  {
   "cell_type": "code",
   "execution_count": null,
   "metadata": {},
   "outputs": [],
   "source": []
  }
 ],
 "metadata": {
  "kernelspec": {
   "display_name": "Python 3",
   "language": "python",
   "name": "python3"
  },
  "language_info": {
   "codemirror_mode": {
    "name": "ipython",
    "version": 3
   },
   "file_extension": ".py",
   "mimetype": "text/x-python",
   "name": "python",
   "nbconvert_exporter": "python",
   "pygments_lexer": "ipython3",
   "version": "3.7.6"
  },
  "toc": {
   "base_numbering": 1,
   "nav_menu": {},
   "number_sections": true,
   "sideBar": true,
   "skip_h1_title": false,
   "title_cell": "Table of Contents",
   "title_sidebar": "Contents",
   "toc_cell": false,
   "toc_position": {},
   "toc_section_display": true,
   "toc_window_display": false
  },
  "varInspector": {
   "cols": {
    "lenName": 16,
    "lenType": 16,
    "lenVar": 40
   },
   "kernels_config": {
    "python": {
     "delete_cmd_postfix": "",
     "delete_cmd_prefix": "del ",
     "library": "var_list.py",
     "varRefreshCmd": "print(var_dic_list())"
    },
    "r": {
     "delete_cmd_postfix": ") ",
     "delete_cmd_prefix": "rm(",
     "library": "var_list.r",
     "varRefreshCmd": "cat(var_dic_list()) "
    }
   },
   "types_to_exclude": [
    "module",
    "function",
    "builtin_function_or_method",
    "instance",
    "_Feature"
   ],
   "window_display": false
  }
 },
 "nbformat": 4,
 "nbformat_minor": 4
}
