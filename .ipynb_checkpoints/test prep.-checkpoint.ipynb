{
 "cells": [
  {
   "cell_type": "markdown",
   "metadata": {},
   "source": [
    "# 탐욕"
   ]
  },
  {
   "cell_type": "code",
   "execution_count": 8,
   "metadata": {
    "ExecuteTime": {
     "end_time": "2020-06-12T01:51:52.369908Z",
     "start_time": "2020-06-12T01:51:47.336681Z"
    }
   },
   "outputs": [
    {
     "name": "stdout",
     "output_type": "stream",
     "text": [
      "거슬러줄 금액을 입력하세요:14\n",
      "거슬러줄 동전을 입력하세요:10 7 1\n",
      "1 0 원   1 개\n",
      "7 원   0 개\n",
      "1 원   4 개\n"
     ]
    }
   ],
   "source": [
    "def greed():\n",
    "    coin=int(input('거슬러줄 금액을 입력하세요:'))\n",
    "    change=sorted(list(map(int,input('거슬러줄 동전을 입력하세요:').split(' '))),reverse=True)\n",
    "    \n",
    "    while coin!=0:\n",
    "        for i in change:\n",
    "            q=coin//i\n",
    "            print(' '.join(f'{i}원 {q}개'))\n",
    "            coin-=q*i    \n",
    "greed()"
   ]
  },
  {
   "cell_type": "markdown",
   "metadata": {},
   "source": [
    "# 이진탐색"
   ]
  },
  {
   "cell_type": "code",
   "execution_count": null,
   "metadata": {},
   "outputs": [],
   "source": [
    "def bi_search(a,n,cnt=0):\n",
    "    \"\"\"\n",
    "    a=리스트\n",
    "    n=찾고싶은 숫자\n",
    "    \"\"\"\n",
    "    import numpy as np\n",
    "    \n",
    "    cnt+=1\n",
    "    if len(a)==1:\n",
    "        if a[0]==n:\n",
    "            return f'{n}은 이진탐색 {cnt}번 만에 찾았습니다.'\n",
    "        else:\n",
    "            return f'{n}은 a 리스트에서 검색되지 않습니다.'\n",
    "        \n",
    "    a0=np.array(a)\n",
    "    if np.median(a0)==n:        \n",
    "        return f'{n}은 이진탐색 {cnt}번 만에 찾았습니다.'\n",
    "    \n",
    "    a_m=np.median(a0)\n",
    "    if a_m > n:\n",
    "        a=[i for i in a if i < a_m]\n",
    "    else:\n",
    "        a=[i for i in a if i > a_m]\n",
    "           \n",
    "    return bi_search(a, n, cnt)\n",
    "        \n",
    "a=[1,7,11,12,14,23,33,47,51,64,67,77,129,672,871]\n",
    "bi_search(sorted(a),12)"
   ]
  },
  {
   "cell_type": "markdown",
   "metadata": {},
   "source": [
    "# 합성곱"
   ]
  },
  {
   "cell_type": "code",
   "execution_count": 15,
   "metadata": {
    "ExecuteTime": {
     "end_time": "2020-06-12T04:19:16.555497Z",
     "start_time": "2020-06-12T04:19:16.542506Z"
    }
   },
   "outputs": [
    {
     "name": "stdout",
     "output_type": "stream",
     "text": [
      "[[15 16 46]\n",
      " [ 6 15 47]\n",
      " [31 24 43]]\n",
      "[[15 16]\n",
      " [ 6 15]]\n"
     ]
    }
   ],
   "source": [
    "def convolution(A,f,stride=1):\n",
    "    x=[]\n",
    "    \n",
    "    Ar, Ac=np.shape(A)\n",
    "    fr, fc=np.shape(f)\n",
    "    \n",
    "    cntr=int((Ar-fr)/stride+1)\n",
    "    cntc=int((Ac-fc)/stride+1)\n",
    "    \n",
    "    for i in range(cntr):\n",
    "        for j in range(cntc):\n",
    "            x.append(np.sum(A[i:fr+i,j:fc+j]*f))\n",
    "    return np.array(x).reshape(cntr,cntc)\n",
    "\n",
    "A=np.array([[1,2,3,0,6],[0,1,2,3,7],[3,0,1,2,8],[2,3,0,1,9],[5,6,8,7,3]])\n",
    "A2=np.array([[1,2,3,0],[0,1,2,3],[3,0,1,2],[2,3,0,1]])\n",
    "f=np.array([[2,0,1],[0,1,2],[1,0,2]])\n",
    "\n",
    "print(convolution(A,f))\n",
    "print(convolution(A2,f))"
   ]
  },
  {
   "cell_type": "markdown",
   "metadata": {},
   "source": [
    "# 삽입"
   ]
  },
  {
   "cell_type": "code",
   "execution_count": 31,
   "metadata": {
    "ExecuteTime": {
     "end_time": "2020-06-12T04:28:41.269087Z",
     "start_time": "2020-06-12T04:28:41.260093Z"
    }
   },
   "outputs": [
    {
     "data": {
      "text/plain": [
       "[1, 2, 3, 4, 5, 8, 9, 10]"
      ]
     },
     "execution_count": 31,
     "metadata": {},
     "output_type": "execute_result"
    }
   ],
   "source": [
    "import random\n",
    "import time\n",
    "def insert_sort(a):\n",
    "    \"\"\"\n",
    "    a=any kind of list\n",
    "    \"\"\"\n",
    "    for i in range(1,len(a)):\n",
    "        for j in range(i):\n",
    "            if a[i]<a[j]:            \n",
    "                a.insert(a.index(a[j]),a.pop(i))                \n",
    "    return a\n",
    "\n",
    "a=[5,4,3,2,1,8,9,10]\n",
    "insert_sort(a)"
   ]
  },
  {
   "cell_type": "markdown",
   "metadata": {},
   "source": [
    "# 버블"
   ]
  },
  {
   "cell_type": "code",
   "execution_count": 33,
   "metadata": {
    "ExecuteTime": {
     "end_time": "2020-06-12T04:34:19.210468Z",
     "start_time": "2020-06-12T04:34:19.200475Z"
    }
   },
   "outputs": [
    {
     "data": {
      "text/plain": [
       "[1, 5, 8, 9, 18, 20, 46, 47, 56, 75, 86, 98, 99, 102]"
      ]
     },
     "execution_count": 33,
     "metadata": {},
     "output_type": "execute_result"
    }
   ],
   "source": [
    "def bubble_sort(a):\n",
    "    \"\"\"\n",
    "    a = list\n",
    "    \"\"\"\n",
    "    n=len(a)\n",
    "    for i in range(1,n-1):\n",
    "        for j in range(n-i):\n",
    "            if a[j]>a[j+1]:\n",
    "                a[j],a[j+1]=a[j+1],a[j]\n",
    "    return a\n",
    "a=[5,102,99,56,75,1,8,9,18,20,46,47,98,86]                \n",
    "bubble_sort(a)"
   ]
  },
  {
   "cell_type": "code",
   "execution_count": null,
   "metadata": {},
   "outputs": [],
   "source": []
  },
  {
   "cell_type": "code",
   "execution_count": null,
   "metadata": {},
   "outputs": [],
   "source": []
  },
  {
   "cell_type": "code",
   "execution_count": null,
   "metadata": {},
   "outputs": [],
   "source": []
  }
 ],
 "metadata": {
  "kernelspec": {
   "display_name": "Python 3",
   "language": "python",
   "name": "python3"
  },
  "language_info": {
   "codemirror_mode": {
    "name": "ipython",
    "version": 3
   },
   "file_extension": ".py",
   "mimetype": "text/x-python",
   "name": "python",
   "nbconvert_exporter": "python",
   "pygments_lexer": "ipython3",
   "version": "3.7.6"
  },
  "toc": {
   "base_numbering": 1,
   "nav_menu": {},
   "number_sections": true,
   "sideBar": true,
   "skip_h1_title": false,
   "title_cell": "Table of Contents",
   "title_sidebar": "Contents",
   "toc_cell": false,
   "toc_position": {},
   "toc_section_display": true,
   "toc_window_display": false
  },
  "varInspector": {
   "cols": {
    "lenName": 16,
    "lenType": 16,
    "lenVar": 40
   },
   "kernels_config": {
    "python": {
     "delete_cmd_postfix": "",
     "delete_cmd_prefix": "del ",
     "library": "var_list.py",
     "varRefreshCmd": "print(var_dic_list())"
    },
    "r": {
     "delete_cmd_postfix": ") ",
     "delete_cmd_prefix": "rm(",
     "library": "var_list.r",
     "varRefreshCmd": "cat(var_dic_list()) "
    }
   },
   "types_to_exclude": [
    "module",
    "function",
    "builtin_function_or_method",
    "instance",
    "_Feature"
   ],
   "window_display": false
  }
 },
 "nbformat": 4,
 "nbformat_minor": 4
}
