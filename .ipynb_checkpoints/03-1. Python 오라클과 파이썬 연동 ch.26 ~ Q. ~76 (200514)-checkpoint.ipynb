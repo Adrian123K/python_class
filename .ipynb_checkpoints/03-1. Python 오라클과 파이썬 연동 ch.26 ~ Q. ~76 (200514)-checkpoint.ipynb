{
 "cells": [
  {
   "cell_type": "markdown",
   "metadata": {},
   "source": [
    "### ※ (점심시간 문제) emp2.csv, dept2.csv를 파이썬으로 로드하여 이중 루프문을 사용하여 오라클의 nl join을 수행.\n",
    "### 이름과 부서위치를 출력"
   ]
  },
  {
   "cell_type": "code",
   "execution_count": 22,
   "metadata": {},
   "outputs": [
    {
     "name": "stdout",
     "output_type": "stream",
     "text": [
      "KING NEW YORK\n",
      "CLARK NEW YORK\n",
      "MILLER NEW YORK\n",
      "JONES DALLAS\n",
      "FORD DALLAS\n",
      "SMITH DALLAS\n",
      "SCOTT DALLAS\n",
      "ADAMS DALLAS\n",
      "BLAKE CHICAGO\n",
      "MARTIN CHICAGO\n",
      "ALLEN CHICAGO\n",
      "TURNER CHICAGO\n",
      "JAMES CHICAGO\n",
      "WARD CHICAGO\n"
     ]
    }
   ],
   "source": [
    "import csv\n",
    "file=open('K:\\\\Itwill\\\\2. Python\\\\자료\\\\emp2.csv','r')\n",
    "emp_csv=csv.reader(file)\n",
    "    \n",
    "file2=open('K:\\\\Itwill\\\\2. Python\\\\자료\\\\dept2.csv','r')\n",
    "dept_csv=csv.reader(file2)\n",
    "\n",
    "    \n",
    "for i in dept_csv:\n",
    "    for j in emp_csv:\n",
    "        if i[0]==j[7]:\n",
    "            print(j[1],i[2])\n",
    "        file=open('K:\\\\Itwill\\\\2. Python\\\\자료\\\\emp2.csv','r')\n",
    "        emp_csv=csv.reader(file)\n",
    "    file2=open('K:\\\\Itwill\\\\2. Python\\\\자료\\\\dept2.csv','r')\n",
    "    dept_csv=csv.reader(file2)      "
   ]
  },
  {
   "cell_type": "code",
   "execution_count": 8,
   "metadata": {},
   "outputs": [
    {
     "name": "stdout",
     "output_type": "stream",
     "text": [
      "Variable   Type             Data/Info\n",
      "-------------------------------------\n",
      "csv        module           <module 'csv' from 'C:\\\\U<...>\\anaconda3\\\\lib\\\\csv.py'>\n",
      "dept_csv   reader           <_csv.reader object at 0x000001D483BD4B38>\n",
      "emp        DataFrame            index  empno   ename <...>2      20  \\n13      10  \n",
      "emp_csv    reader           <_csv.reader object at 0x000001D483BD4F98>\n",
      "file       TextIOWrapper    <_io.TextIOWrapper name='<...>ode='r' encoding='cp949'>\n",
      "file2      TextIOWrapper    <_io.TextIOWrapper name='<...>ode='r' encoding='cp949'>\n",
      "i          list             n=3\n",
      "pd         module           <module 'pandas' from 'C:<...>es\\\\pandas\\\\__init__.py'>\n"
     ]
    }
   ],
   "source": [
    "%whos"
   ]
  },
  {
   "cell_type": "markdown",
   "metadata": {},
   "source": [
    "### 어제까지 배운 파이썬 수업내용 복습\n",
    "1. 파이썬의 자료형 5가지 : 숫자형, 문자형, 리스트, 사전, 튜플\n",
    "2. 파이썬에서의 산술 연산자 : +, -, *, /\n",
    "3. 파이썬에서의 비교 연산자 : >, <, <=, >=, ==, !=\n",
    "4. 파이썬에서의 논리 연산자 : and, or, not\n",
    "5. 판다스를 이용한 데이터 검색\n",
    "    - database와 연동해서 데이터를 검색할 때 아주 유용\n",
    "    - 엑셀 데이터를 파이썬에서 검색할 때 빠르게 검색할 수 있어서 유용"
   ]
  },
  {
   "cell_type": "markdown",
   "metadata": {},
   "source": [
    "### 오라클의 기타 비교 연산자를 파이썬 판다스와 비교\n",
    "#### 오라클　　　　　　　　　　　　　판다스  \n",
    "between ~ and　　　　　　　 emp['sal'].between(1000,3000)  \n",
    "in　　　　　　　　　　　　　　isin  \n",
    "is null　　　　　　　　　　　isnull()  \n",
    "like　　　　　　　　　　　　 apply 함수\n"
   ]
  },
  {
   "cell_type": "markdown",
   "metadata": {},
   "source": [
    "### ※ 문제46. 월급이 1000에서 3000사이인 사원들의 이름, 월급을 출력 \n",
    "#### (SQL->pandas)"
   ]
  },
  {
   "cell_type": "code",
   "execution_count": 14,
   "metadata": {},
   "outputs": [
    {
     "name": "stdout",
     "output_type": "stream",
     "text": [
      "     ename   sal\n",
      "1    BLAKE  2850\n",
      "2    CLARK  2450\n",
      "3    JONES  2975\n",
      "4   MARTIN  1250\n",
      "5    ALLEN  1600\n",
      "6   TURNER  1500\n",
      "8     WARD  1250\n",
      "9     FORD  3000\n",
      "11   SCOTT  3000\n",
      "12   ADAMS  1100\n",
      "13  MILLER  1300\n"
     ]
    }
   ],
   "source": [
    "import pandas as pd\n",
    "\n",
    "emp=pd.read_csv('K:\\\\Itwill\\\\2. Python\\\\자료\\\\emp3.csv')\n",
    "print(emp[['ename','sal']][emp['sal'].between(1000,3000)])\n",
    "    "
   ]
  },
  {
   "cell_type": "markdown",
   "metadata": {},
   "source": [
    "### ※ 문제47. 월급이 1000에서 3000사이가 아닌 사원들의 이름과 월급을 출력"
   ]
  },
  {
   "cell_type": "code",
   "execution_count": 19,
   "metadata": {},
   "outputs": [
    {
     "name": "stdout",
     "output_type": "stream",
     "text": [
      "    ename   sal\n",
      "0    KING  5000\n",
      "7   JAMES   950\n",
      "10  SMITH   800\n"
     ]
    }
   ],
   "source": [
    "print(emp[['ename','sal']][~emp['sal'].between(1000,3000)])"
   ]
  },
  {
   "cell_type": "markdown",
   "metadata": {},
   "source": [
    "### ※ 문제48. 직업이 SALESMAN, ANALYST인 사원들의 이름과 직업을 출력"
   ]
  },
  {
   "cell_type": "code",
   "execution_count": 29,
   "metadata": {
    "scrolled": false
   },
   "outputs": [
    {
     "name": "stdout",
     "output_type": "stream",
     "text": [
      "     ename       job\n",
      "4   MARTIN  SALESMAN\n",
      "5    ALLEN  SALESMAN\n",
      "6   TURNER  SALESMAN\n",
      "8     WARD  SALESMAN\n",
      "9     FORD   ANALYST\n",
      "11   SCOTT   ANALYST\n"
     ]
    }
   ],
   "source": [
    "print(emp[['ename','job']][emp['job'].isin(['SALESMAN','ANALYST'])])"
   ]
  },
  {
   "cell_type": "markdown",
   "metadata": {},
   "source": [
    "### ※ 문제49. 직업이 SALESMAN, ANALYST가 아닌 사원들의 이름과 직업을 출력"
   ]
  },
  {
   "cell_type": "code",
   "execution_count": 5,
   "metadata": {},
   "outputs": [
    {
     "name": "stdout",
     "output_type": "stream",
     "text": [
      "     ename        job\n",
      "0     KING  PRESIDENT\n",
      "1    BLAKE    MANAGER\n",
      "2    CLARK    MANAGER\n",
      "3    JONES    MANAGER\n",
      "7    JAMES      CLERK\n",
      "10   SMITH      CLERK\n",
      "12   ADAMS      CLERK\n",
      "13  MILLER      CLERK\n"
     ]
    }
   ],
   "source": [
    "import pandas as pd\n",
    "\n",
    "emp=pd.read_csv('K:\\\\Itwill\\\\2. Python\\\\자료\\\\emp3.csv')\n",
    "print(emp[['ename','job']][~emp['job'].isin(['SALESMAN','ANALYST'])])"
   ]
  },
  {
   "cell_type": "markdown",
   "metadata": {},
   "source": [
    "### ※ 문제50. 커미션이 null인 사원들의 이름과 커미션을 출력"
   ]
  },
  {
   "cell_type": "code",
   "execution_count": 9,
   "metadata": {},
   "outputs": [
    {
     "name": "stdout",
     "output_type": "stream",
     "text": [
      "     ename  comm\n",
      "0     KING   NaN\n",
      "1    BLAKE   NaN\n",
      "2    CLARK   NaN\n",
      "3    JONES   NaN\n",
      "7    JAMES   NaN\n",
      "9     FORD   NaN\n",
      "10   SMITH   NaN\n",
      "11   SCOTT   NaN\n",
      "12   ADAMS   NaN\n",
      "13  MILLER   NaN\n"
     ]
    }
   ],
   "source": [
    "print(emp[['ename','comm']][emp['comm'].isnull()])"
   ]
  },
  {
   "cell_type": "markdown",
   "metadata": {},
   "source": [
    "### ※ 문제51. 커미션이 null이 아닌 사원들의 이름과 커미션을 출력"
   ]
  },
  {
   "cell_type": "code",
   "execution_count": 15,
   "metadata": {},
   "outputs": [
    {
     "name": "stdout",
     "output_type": "stream",
     "text": [
      "    ename    comm\n",
      "4  MARTIN  1400.0\n",
      "5   ALLEN   300.0\n",
      "6  TURNER     0.0\n",
      "8    WARD   500.0\n"
     ]
    }
   ],
   "source": [
    "print(emp[['ename','comm']][~emp['comm'].isnull()])"
   ]
  },
  {
   "cell_type": "code",
   "execution_count": 28,
   "metadata": {},
   "outputs": [
    {
     "name": "stdout",
     "output_type": "stream",
     "text": [
      "KING NEW YORK\n",
      "CLARK NEW YORK\n",
      "MILLER NEW YORK\n",
      "JONES DALLAS\n",
      "FORD DALLAS\n",
      "SMITH DALLAS\n",
      "SCOTT DALLAS\n",
      "ADAMS DALLAS\n",
      "BLAKE CHICAGO\n",
      "MARTIN CHICAGO\n",
      "ALLEN CHICAGO\n",
      "TURNER CHICAGO\n",
      "JAMES CHICAGO\n",
      "WARD CHICAGO\n"
     ]
    }
   ],
   "source": [
    "# 점심시간 문제\n",
    "import csv\n",
    "file=open('K:\\\\Itwill\\\\2. Python\\\\자료\\\\emp2.csv','r')\n",
    "emp_csv=list(csv.reader(file))\n",
    "file2=open('K:\\\\Itwill\\\\2. Python\\\\자료\\\\dept2.csv','r')\n",
    "dept_csv=list(csv.reader(file2))\n",
    "    \n",
    "for i in dept_csv:\n",
    "    for j in emp_csv:\n",
    "        if i[0]==j[7]:\n",
    "            print(j[1],i[2])"
   ]
  },
  {
   "cell_type": "markdown",
   "metadata": {},
   "source": [
    "### ■ 예제26. 시퀀스 자료형 이해하기\n",
    "#### 시퀀스 자료형은 어떤 객체가 순서를 가지고 나열되어 있는 것을 말한다. \n",
    "예를 들어 문자열 'abcd'는 문자 a,b,c,d가 순서를 가지고 차례대로 나열되어 있는 것"
   ]
  },
  {
   "cell_type": "code",
   "execution_count": 30,
   "metadata": {},
   "outputs": [
    {
     "name": "stdout",
     "output_type": "stream",
     "text": [
      "s\n",
      "t\n"
     ]
    }
   ],
   "source": [
    "a='scott'\n",
    "print(a[0])\n",
    "print(a[-1])"
   ]
  },
  {
   "cell_type": "markdown",
   "metadata": {},
   "source": [
    "### ※ 문제52. 이름의 첫번째 글자가 S로 시작하는 사원들의 이름을 출력하시오"
   ]
  },
  {
   "cell_type": "markdown",
   "metadata": {},
   "source": [
    "### ※ 문제53. emp2.csv에서 이름의 첫번째 철자만 출력하시오"
   ]
  },
  {
   "cell_type": "code",
   "execution_count": 37,
   "metadata": {},
   "outputs": [
    {
     "name": "stdout",
     "output_type": "stream",
     "text": [
      "K\n",
      "B\n",
      "C\n",
      "J\n",
      "M\n",
      "A\n",
      "T\n",
      "J\n",
      "W\n",
      "F\n",
      "S\n",
      "S\n",
      "A\n",
      "M\n"
     ]
    }
   ],
   "source": [
    "file=open('K:\\\\Itwill\\\\2. Python\\\\자료\\\\emp2.csv','r')\n",
    "emp_csv=list(csv.reader(file))\n",
    "for i in emp_csv:\n",
    "    print(i[1][0])"
   ]
  },
  {
   "cell_type": "markdown",
   "metadata": {},
   "source": [
    "### ※ 문제54. 문제 52번을 판다스를 이용하지 않고 파이썬으로 구현하시오"
   ]
  },
  {
   "cell_type": "code",
   "execution_count": 38,
   "metadata": {},
   "outputs": [
    {
     "name": "stdout",
     "output_type": "stream",
     "text": [
      "SMITH\n",
      "SCOTT\n"
     ]
    }
   ],
   "source": [
    "file=open('K:\\\\Itwill\\\\2. Python\\\\자료\\\\emp2.csv','r')\n",
    "emp_csv=list(csv.reader(file))\n",
    "for i in emp_csv:\n",
    "    if 'S' in i[1][0]:\n",
    "        print(i[1])"
   ]
  },
  {
   "cell_type": "markdown",
   "metadata": {},
   "source": [
    "### ※ 문제55. 위의 문제를 pandas를 이용해서 수행"
   ]
  },
  {
   "cell_type": "code",
   "execution_count": 45,
   "metadata": {},
   "outputs": [
    {
     "name": "stdout",
     "output_type": "stream",
     "text": [
      "    ename\n",
      "10  SMITH\n",
      "11  SCOTT\n"
     ]
    }
   ],
   "source": [
    "import pandas as pd\n",
    "\n",
    "emp=pd.read_csv('K:\\\\Itwill\\\\2. Python\\\\자료\\\\emp3.csv')\n",
    "result=emp['ename'].apply(lambda x:x[0]=='S')\n",
    "result2=emp[['ename']][result==True]\n",
    "print(result2)\n"
   ]
  },
  {
   "cell_type": "markdown",
   "metadata": {},
   "source": [
    "#### *apply 함수는 emp['ename'].apply(조건) → ename중에 조건에 만족한 ename만 True가 된다."
   ]
  },
  {
   "cell_type": "markdown",
   "metadata": {},
   "source": [
    "### ※ 문제56. 이름의 끝글자가 T로 끝나는 사원들의 이름을 출력"
   ]
  },
  {
   "cell_type": "code",
   "execution_count": 46,
   "metadata": {},
   "outputs": [
    {
     "name": "stdout",
     "output_type": "stream",
     "text": [
      "    ename\n",
      "11  SCOTT\n"
     ]
    }
   ],
   "source": [
    "result=emp['ename'].apply(lambda x:x[-1]=='T')\n",
    "result2=emp[['ename']][result==True]\n",
    "print(result2)"
   ]
  },
  {
   "cell_type": "code",
   "execution_count": 47,
   "metadata": {},
   "outputs": [
    {
     "name": "stdout",
     "output_type": "stream",
     "text": [
      "SCOTT\n"
     ]
    }
   ],
   "source": [
    "for i in emp_csv:\n",
    "    if 'T' in i[1][-1]:\n",
    "        print(i[1])"
   ]
  },
  {
   "cell_type": "markdown",
   "metadata": {},
   "source": [
    "### ■ 예제27. 시퀀스 자료 인덱싱 이해하기\n",
    "    \n",
    "#### 인덱싱(indexing)이란 시퀀스 자료형에서 인덱스를 통해 해당하는 값을 얻는 방법.\n",
    "#### 파이썬에서는 인덱스를 0부터 시작하며 음수인 인덱스도 사용 가능\n",
    "\n",
    "#### 음수 인덱스는 '끝에서 몇 번째'라는 의미"
   ]
  },
  {
   "cell_type": "code",
   "execution_count": 49,
   "metadata": {},
   "outputs": [
    {
     "name": "stdout",
     "output_type": "stream",
     "text": [
      "L\n"
     ]
    }
   ],
   "source": [
    "a='SALESMAN'\n",
    "print(a[2]) # L이 출력됨"
   ]
  },
  {
   "cell_type": "markdown",
   "metadata": {},
   "source": [
    "### ※ 문제57. 아래의 listdata 변수에 숫자 4를 출력하시오"
   ]
  },
  {
   "cell_type": "code",
   "execution_count": 50,
   "metadata": {},
   "outputs": [
    {
     "name": "stdout",
     "output_type": "stream",
     "text": [
      "4\n"
     ]
    }
   ],
   "source": [
    "listdata=[1,2,3,4]\n",
    "print(listdata[3])"
   ]
  },
  {
   "cell_type": "markdown",
   "metadata": {},
   "source": [
    "### ※ 문제58. 아래의 listdata 변수에 숫자 4를 출력하시오"
   ]
  },
  {
   "cell_type": "code",
   "execution_count": 52,
   "metadata": {},
   "outputs": [
    {
     "name": "stdout",
     "output_type": "stream",
     "text": [
      "4\n"
     ]
    }
   ],
   "source": [
    "listdata=[1,2,[4,5,6]]\n",
    "print(listdata[2][0])"
   ]
  },
  {
   "cell_type": "markdown",
   "metadata": {},
   "source": [
    "### ■ 예제28. 시퀀스 자료 슬라이싱 이해하기\n",
    "#### 인덱싱은 인덱스에 해당하는 요소 하나를 취하는 방법이지만\n",
    "#### 슬라이싱은 시퀀스 자료에서 일정 범위에 해당하는 부분을 취하는 방법"
   ]
  },
  {
   "cell_type": "code",
   "execution_count": 54,
   "metadata": {},
   "outputs": [
    {
     "name": "stdout",
     "output_type": "stream",
     "text": [
      "co\n"
     ]
    }
   ],
   "source": [
    "a='scott'\n",
    "print(a[1:3])"
   ]
  },
  {
   "cell_type": "markdown",
   "metadata": {},
   "source": [
    "### ※ 문제59. emp2.csv에서 이름을 출력하는 데 아래의 SQL을 파이썬으로 구현하시오\n",
    "```sql\n",
    "select substr(ename,1,3)\n",
    "    from emp;\n",
    "```"
   ]
  },
  {
   "cell_type": "code",
   "execution_count": 56,
   "metadata": {},
   "outputs": [
    {
     "name": "stdout",
     "output_type": "stream",
     "text": [
      "KIN\n",
      "BLA\n",
      "CLA\n",
      "JON\n",
      "MAR\n",
      "ALL\n",
      "TUR\n",
      "JAM\n",
      "WAR\n",
      "FOR\n",
      "SMI\n",
      "SCO\n",
      "ADA\n",
      "MIL\n"
     ]
    }
   ],
   "source": [
    "file=open('K:\\\\Itwill\\\\2. Python\\\\자료\\\\emp2.csv','r')\n",
    "emp_csv=list(csv.reader(file))\n",
    "\n",
    "for i in emp_csv:\n",
    "    print(i[1][0:3])"
   ]
  },
  {
   "cell_type": "markdown",
   "metadata": {},
   "source": [
    "### ※ 문제60. 아래의 SQL을 파이썬으로 구현하시오\n",
    "```sql\n",
    "select substr(ename,-3)\n",
    "    from emp;\n",
    "```"
   ]
  },
  {
   "cell_type": "code",
   "execution_count": 61,
   "metadata": {},
   "outputs": [
    {
     "name": "stdout",
     "output_type": "stream",
     "text": [
      "ING\n",
      "AKE\n",
      "ARK\n",
      "NES\n",
      "TIN\n",
      "LEN\n",
      "NER\n",
      "MES\n",
      "ARD\n",
      "ORD\n",
      "ITH\n",
      "OTT\n",
      "AMS\n",
      "LER\n"
     ]
    }
   ],
   "source": [
    "file=open('K:\\\\Itwill\\\\2. Python\\\\자료\\\\emp2.csv','r')\n",
    "emp_csv=list(csv.reader(file))\n",
    "for i in emp_csv:\n",
    "    print(i[1][-3:])"
   ]
  },
  {
   "cell_type": "markdown",
   "metadata": {},
   "source": [
    "### ■ 예제29. 시퀀스 자료 연결 이해하기 (+)\n",
    "#### 자료형이 동일한 두 개의 시퀀스 자료는 + 연산자로 순서 있게 연결하여 새로운 시퀀스 자료를 만들 수 있다.\n",
    "#### 문자열+문자열, 리스트+리스트, 튜플+튜플과 같이 두 개의 동일한 시퀀스 자료형에 대해 '+' 연산자로 연결이 가능"
   ]
  },
  {
   "cell_type": "code",
   "execution_count": 62,
   "metadata": {},
   "outputs": [
    {
     "name": "stdout",
     "output_type": "stream",
     "text": [
      "i love Python\n"
     ]
    }
   ],
   "source": [
    "a='i love '\n",
    "b='Python'\n",
    "print(a+b)"
   ]
  },
  {
   "cell_type": "markdown",
   "metadata": {},
   "source": [
    "### ※ 문제61. 아래의 두 개의 리스트를 연결하여 아래와 같이 출력하시오\n",
    "[2,3,4,5]  \n",
    "[9,2,4,8]  \n",
    "[2,3,4,5,9,2,4,8]"
   ]
  },
  {
   "cell_type": "code",
   "execution_count": 63,
   "metadata": {},
   "outputs": [
    {
     "name": "stdout",
     "output_type": "stream",
     "text": [
      "[2, 3, 4, 5, 9, 2, 4, 8]\n"
     ]
    }
   ],
   "source": [
    "a=[2,3,4,5]\n",
    "b=[9,2,4,8]\n",
    "print(a+b)"
   ]
  },
  {
   "cell_type": "markdown",
   "metadata": {},
   "source": [
    "### ※ 문제62. 아래의 SQL을 파이썬으로 구현하시오\n",
    "```sql\n",
    "select initcap(ename)\n",
    "    from emp;\n",
    "```\n",
    "힌트: emp_list[1].upper()"
   ]
  },
  {
   "cell_type": "code",
   "execution_count": 65,
   "metadata": {},
   "outputs": [
    {
     "name": "stdout",
     "output_type": "stream",
     "text": [
      "KING\n",
      "BLAKE\n",
      "CLARK\n",
      "JONES\n",
      "MARTIN\n",
      "ALLEN\n",
      "TURNER\n",
      "JAMES\n",
      "WARD\n",
      "FORD\n",
      "SMITH\n",
      "SCOTT\n",
      "ADAMS\n",
      "MILLER\n"
     ]
    }
   ],
   "source": [
    "file=open('K:\\\\Itwill\\\\2. Python\\\\자료\\\\emp2.csv','r')\n",
    "emp_csv=list(csv.reader(file))\n",
    "for i in emp_csv:\n",
    "    print(i[1][0].upper()+i[1][1:])"
   ]
  },
  {
   "cell_type": "markdown",
   "metadata": {},
   "source": [
    "### ■ 예제30. 시퀀스 자료 반복 이해하기(*)\n",
    "#### 동일한 시퀀스 자료를 반복하여 새로운 시퀀스 자료를 만들고자 하면 별표(*)를 연산자로 사용"
   ]
  },
  {
   "cell_type": "code",
   "execution_count": 67,
   "metadata": {},
   "outputs": [
    {
     "name": "stdout",
     "output_type": "stream",
     "text": [
      "aaaaaaa\n",
      "[1, 2, 3, 1, 2, 3, 1, 2, 3, 1, 2, 3, 1, 2, 3]\n"
     ]
    }
   ],
   "source": [
    "print('a'*7)\n",
    "print([1,2,3]*5)"
   ]
  },
  {
   "cell_type": "markdown",
   "metadata": {},
   "source": [
    "### ※ 문제64.(파이썬 알고리즘 문제 14번) 아래의 결과를 출력하시오\n",
    "#### 숫자를 입력하세요 ~ 5\n",
    "```\n",
    "         ★\n",
    "       ★★\n",
    "     ★★★\n",
    "   ★★★★\n",
    " ★★★★★\n",
    " ```"
   ]
  },
  {
   "cell_type": "code",
   "execution_count": 74,
   "metadata": {},
   "outputs": [
    {
     "name": "stdout",
     "output_type": "stream",
     "text": [
      "        ★\n",
      "      ★★\n",
      "    ★★★\n",
      "  ★★★★\n",
      "★★★★★\n"
     ]
    }
   ],
   "source": [
    "for i in range(1,6):\n",
    "    print('  '*(5-i)+'★'*i)"
   ]
  },
  {
   "cell_type": "markdown",
   "metadata": {},
   "source": [
    "### ■ 예제31. 시퀀스 자료 크기 이해하기(len)\n",
    "#### 모든 시퀀스 자료는 고정된 길이 또는 크기를 가지고 있다. \n",
    "#### 시퀀스 자료의 크기는 시퀀스 자료를 구성하는 요소의 개수"
   ]
  },
  {
   "cell_type": "code",
   "execution_count": 76,
   "metadata": {},
   "outputs": [
    {
     "name": "stdout",
     "output_type": "stream",
     "text": [
      "7\n",
      "5\n"
     ]
    }
   ],
   "source": [
    "strdata='abcdefg'\n",
    "listdata=['a','b','c','d','e']\n",
    "print(len(strdata))\n",
    "print(len(listdata))"
   ]
  },
  {
   "cell_type": "markdown",
   "metadata": {},
   "source": [
    "### ※ 문제64. 아래의 SQL을 파이썬으로 구현하시오\n",
    "```sql\n",
    "select ename, length(ename)\n",
    "    from emp;\n",
    "```    "
   ]
  },
  {
   "cell_type": "code",
   "execution_count": 77,
   "metadata": {},
   "outputs": [
    {
     "name": "stdout",
     "output_type": "stream",
     "text": [
      "KING 4\n",
      "BLAKE 5\n",
      "CLARK 5\n",
      "JONES 5\n",
      "MARTIN 6\n",
      "ALLEN 5\n",
      "TURNER 6\n",
      "JAMES 5\n",
      "WARD 4\n",
      "FORD 4\n",
      "SMITH 5\n",
      "SCOTT 5\n",
      "ADAMS 5\n",
      "MILLER 6\n"
     ]
    }
   ],
   "source": [
    "for i in emp_csv:\n",
    "    print(i[1],len(i[1]))"
   ]
  },
  {
   "cell_type": "markdown",
   "metadata": {},
   "source": [
    "### □ 오라클과 파이썬을 연동하는 방법\n",
    "```\n",
    " 오라클 database ---------------------- 파이썬\n",
    "  코로나 데이터                         1. data 시각화\n",
    "   삼성 데이터                          2. 여러 data분석 패키지를 활용\n",
    " SQL로 파생변수 생성\n",
    "```\n",
    "1. 오라클의 리스터의 상태를 확인\n",
    "    - cmd\n",
    "    - 리스너 상태를 확인하는 명령어를 작성하고 수행\n",
    "         1. ip주소 : localhost\n",
    "         2. port번호 : 1521\n",
    "         3. 서비스 이름 : orcl\n",
    "2. cx_Oracle 모듈을 설치 (*cs_Oracle : 오라클과 파이썬을 연동시키기 위한 코드가 있는 모듈)\n",
    "    - 아나콘다 prompt\n",
    "    - conda install 명령어로 cx_Oracle 모듈을 설치한다  \n",
    "           - conda install cx_Oracle\n",
    "    - cx_Oralce 모듈이 잘 설치되었는지 확인한다.\n",
    "           - conda list\n",
    "```python\n",
    "        import cx_Oracle\n",
    "        import pandas as pd\n",
    "\n",
    "        dsn=cx_Oracle.makedsn('localhost',1521,'orcl') # 오라클에 대한 주소정보\n",
    "        db=cx_Oracle.connect('scott','tiger',dsn) # 오라클 접속 유저 정보\n",
    "        cursor=db.cursor()       # 데이터를 담을 메모리 이름을 cursor로 선언\n",
    "        cursor.execute(\"\"\"select * from emp\"\"\")  # 실행할 SQL문 작성하여 cursor 메모리에 담음\n",
    "        row=cursor.fetchall()  # cursor메모리에 담긴 데이터를 1개 row씩 가져오기\n",
    "        emp=pd.DataFrame(row)  # pandas의 DataFrame으로 옮김\n",
    "        print(emp)\n",
    "```"
   ]
  },
  {
   "cell_type": "code",
   "execution_count": 82,
   "metadata": {},
   "outputs": [
    {
     "name": "stdout",
     "output_type": "stream",
     "text": [
      "       0       1          2       3          4       5       6   7\n",
      "0   7839    KING  PRESIDENT     NaN 1981-11-17     0.0     NaN  10\n",
      "1   7698   BLAKE    MANAGER  7839.0 1981-05-01  2850.0     NaN  30\n",
      "2   7782   CLARK    MANAGER  7839.0 1981-05-09     0.0     NaN  10\n",
      "3   7566   JONES    MANAGER  7839.0 1981-04-01  2975.0     NaN  20\n",
      "4   7654  MARTIN   SALESMAN  7698.0 1981-09-10  1250.0  1400.0  30\n",
      "5   7499   ALLEN   SALESMAN  7698.0 1981-02-11  1600.0   300.0  30\n",
      "6   7844  TURNER   SALESMAN  7698.0 1981-08-21  1500.0     0.0  30\n",
      "7   7900   JAMES      CLERK  7698.0 1981-12-11   950.0     NaN  30\n",
      "8   7521    WARD   SALESMAN  7698.0 1981-02-23  1250.0   500.0  30\n",
      "9   7902    FORD    ANALYST  7566.0 1981-12-11  3000.0     NaN  20\n",
      "10  7369   SMITH      CLERK  7902.0 1980-12-09   800.0     NaN  20\n",
      "11  7788   SCOTT    ANALYST  7566.0 1982-12-22  3000.0     NaN  20\n",
      "12  7876   ADAMS      CLERK  7788.0 1983-01-15  1100.0     NaN  20\n",
      "13  7934  MILLER      CLERK  7782.0 1982-01-11     0.0     NaN  10\n"
     ]
    }
   ],
   "source": [
    "import cx_Oracle\n",
    "import pandas as pd\n",
    "\n",
    "dsn=cx_Oracle.makedsn('localhost',1521,'orcl')\n",
    "db=cx_Oracle.connect('scott','tiger',dsn)\n",
    "cursor=db.cursor()\n",
    "cursor.execute(\"\"\"select * from emp\"\"\")\n",
    "row=cursor.fetchall()\n",
    "emp=pd.DataFrame(row)\n",
    "print(emp)"
   ]
  },
  {
   "cell_type": "markdown",
   "metadata": {},
   "source": [
    "### ※ 문제65. 오라클 DB에 있는 dept 테이블 전체를 파이썬에서 쿼리하시오"
   ]
  },
  {
   "cell_type": "code",
   "execution_count": 83,
   "metadata": {},
   "outputs": [
    {
     "name": "stdout",
     "output_type": "stream",
     "text": [
      "    0           1         2\n",
      "0  10  ACCOUNTING  NEW YORK\n",
      "1  20    RESEARCH    DALLAS\n",
      "2  30       SALES   CHICAGO\n",
      "3  40  OPERATIONS    BOSTON\n"
     ]
    }
   ],
   "source": [
    "cursor.execute(\"\"\"select * from dept\"\"\")\n",
    "row=cursor.fetchall()\n",
    "dept=pd.DataFrame(row)\n",
    "print(dept)"
   ]
  },
  {
   "cell_type": "markdown",
   "metadata": {},
   "source": [
    "### ※ 문제66. 위의 결과에 column명도 같이 출력되게 하시오"
   ]
  },
  {
   "cell_type": "code",
   "execution_count": 87,
   "metadata": {},
   "outputs": [
    {
     "name": "stdout",
     "output_type": "stream",
     "text": [
      "   DEPTNO       DNAME       LOC\n",
      "0      10  ACCOUNTING  NEW YORK\n",
      "1      20    RESEARCH    DALLAS\n",
      "2      30       SALES   CHICAGO\n",
      "3      40  OPERATIONS    BOSTON\n"
     ]
    }
   ],
   "source": [
    "dsn=cx_Oracle.makedsn('localhost',1521,'orcl')\n",
    "db=cx_Oracle.connect('scott','tiger',dsn)\n",
    "cursor=db.cursor()\n",
    "cursor.execute(\"\"\"select * from dept\"\"\")\n",
    "row=cursor.fetchall()\n",
    "colname=cursor.description # 위에서 select 한 테이블의 column명 가져오기\n",
    "cursor.close()  # cursor 메모리를 닫는다\n",
    "col=[] # col 이라는 이름의 비어있는 리스트를 생성\n",
    "for i in colname:  # loop문이 돌면서 비어있는 col 리스트에 dept테이블의 column명을 채워 넣는다\n",
    "    col.append(i[0])\n",
    "dept=pd.DataFrame(row, columns=col)\n",
    "print(dept)"
   ]
  },
  {
   "cell_type": "markdown",
   "metadata": {},
   "source": [
    "### ■ 코드 디버깅하기\n",
    "#### loop문이 있는 코드를 한 단계씩 수행하면서 변수에 있는 값을 확인하는 유용한 방법"
   ]
  },
  {
   "cell_type": "code",
   "execution_count": 94,
   "metadata": {},
   "outputs": [
    {
     "name": "stdout",
     "output_type": "stream",
     "text": [
      "KING NEW YORK\n",
      "CLARK NEW YORK\n",
      "MILLER NEW YORK\n"
     ]
    }
   ],
   "source": [
    "\n",
    "import csv\n",
    "import copy\n",
    "\n",
    "file=open(\"K:\\\\Itwill\\\\2. Python\\\\자료\\\\emp2.csv\",'r')\n",
    "emp=csv.reader(file)\n",
    "file=open(\"K:\\\\Itwill\\\\2. Python\\\\자료\\\\dept2.csv\",\"r\")\n",
    "dept=csv.reader(file)\n",
    "\n",
    "for dept_list in dept:\n",
    "    for emp_list in emp:\n",
    "        if dept_list[0]==emp_list[7]:\n",
    "            print(emp_list[1], dept_list[2])"
   ]
  },
  {
   "cell_type": "markdown",
   "metadata": {},
   "source": [
    "### ※ 문제67. 오라클과 파이썬을 연동해서 emp테이블에서 월급이 1200 이상인 사원들의 이름, 월급을 출력"
   ]
  },
  {
   "cell_type": "code",
   "execution_count": 1,
   "metadata": {},
   "outputs": [
    {
     "data": {
      "text/html": [
       "<div>\n",
       "<style scoped>\n",
       "    .dataframe tbody tr th:only-of-type {\n",
       "        vertical-align: middle;\n",
       "    }\n",
       "\n",
       "    .dataframe tbody tr th {\n",
       "        vertical-align: top;\n",
       "    }\n",
       "\n",
       "    .dataframe thead th {\n",
       "        text-align: right;\n",
       "    }\n",
       "</style>\n",
       "<table border=\"1\" class=\"dataframe\">\n",
       "  <thead>\n",
       "    <tr style=\"text-align: right;\">\n",
       "      <th></th>\n",
       "      <th>ENAME</th>\n",
       "      <th>SAL</th>\n",
       "    </tr>\n",
       "  </thead>\n",
       "  <tbody>\n",
       "    <tr>\n",
       "      <th>0</th>\n",
       "      <td>KING</td>\n",
       "      <td>5000.0</td>\n",
       "    </tr>\n",
       "    <tr>\n",
       "      <th>1</th>\n",
       "      <td>BLAKE</td>\n",
       "      <td>2850.0</td>\n",
       "    </tr>\n",
       "    <tr>\n",
       "      <th>2</th>\n",
       "      <td>CLARK</td>\n",
       "      <td>2450.0</td>\n",
       "    </tr>\n",
       "    <tr>\n",
       "      <th>3</th>\n",
       "      <td>JONES</td>\n",
       "      <td>2975.0</td>\n",
       "    </tr>\n",
       "    <tr>\n",
       "      <th>4</th>\n",
       "      <td>MARTIN</td>\n",
       "      <td>1250.0</td>\n",
       "    </tr>\n",
       "    <tr>\n",
       "      <th>5</th>\n",
       "      <td>ALLEN</td>\n",
       "      <td>1600.0</td>\n",
       "    </tr>\n",
       "    <tr>\n",
       "      <th>6</th>\n",
       "      <td>TURNER</td>\n",
       "      <td>1500.0</td>\n",
       "    </tr>\n",
       "    <tr>\n",
       "      <th>8</th>\n",
       "      <td>WARD</td>\n",
       "      <td>1250.0</td>\n",
       "    </tr>\n",
       "    <tr>\n",
       "      <th>9</th>\n",
       "      <td>FORD</td>\n",
       "      <td>3000.0</td>\n",
       "    </tr>\n",
       "    <tr>\n",
       "      <th>11</th>\n",
       "      <td>SCOTT</td>\n",
       "      <td>3000.0</td>\n",
       "    </tr>\n",
       "    <tr>\n",
       "      <th>13</th>\n",
       "      <td>MILLER</td>\n",
       "      <td>1300.0</td>\n",
       "    </tr>\n",
       "  </tbody>\n",
       "</table>\n",
       "</div>"
      ],
      "text/plain": [
       "     ENAME     SAL\n",
       "0     KING  5000.0\n",
       "1    BLAKE  2850.0\n",
       "2    CLARK  2450.0\n",
       "3    JONES  2975.0\n",
       "4   MARTIN  1250.0\n",
       "5    ALLEN  1600.0\n",
       "6   TURNER  1500.0\n",
       "8     WARD  1250.0\n",
       "9     FORD  3000.0\n",
       "11   SCOTT  3000.0\n",
       "13  MILLER  1300.0"
      ]
     },
     "execution_count": 1,
     "metadata": {},
     "output_type": "execute_result"
    }
   ],
   "source": [
    "import cx_Oracle\n",
    "import pandas as pd\n",
    "\n",
    "dsn=cx_Oracle.makedsn('localhost',1521,'orcl')\n",
    "db=cx_Oracle.connect('scott','tiger',dsn)\n",
    "cursor=db.cursor()\n",
    "cursor.execute(\"\"\" select * from emp  \"\"\")\n",
    "row=cursor.fetchall()\n",
    "colname=cursor.description \n",
    "cursor.close()  \n",
    "col=[] \n",
    "for i in colname:  \n",
    "    col.append(i[0])\n",
    "emp=pd.DataFrame(row, columns=col)\n",
    "emp[['ENAME','SAL']][emp['SAL']>=1200]"
   ]
  },
  {
   "cell_type": "markdown",
   "metadata": {},
   "source": [
    "### ※ 문제68. 부서번호가 10번인 사원들의 이름, 월급, 부서번호를 출력"
   ]
  },
  {
   "cell_type": "code",
   "execution_count": 7,
   "metadata": {},
   "outputs": [
    {
     "data": {
      "text/html": [
       "<div>\n",
       "<style scoped>\n",
       "    .dataframe tbody tr th:only-of-type {\n",
       "        vertical-align: middle;\n",
       "    }\n",
       "\n",
       "    .dataframe tbody tr th {\n",
       "        vertical-align: top;\n",
       "    }\n",
       "\n",
       "    .dataframe thead th {\n",
       "        text-align: right;\n",
       "    }\n",
       "</style>\n",
       "<table border=\"1\" class=\"dataframe\">\n",
       "  <thead>\n",
       "    <tr style=\"text-align: right;\">\n",
       "      <th></th>\n",
       "      <th>ENAME</th>\n",
       "      <th>SAL</th>\n",
       "      <th>DEPTNO</th>\n",
       "    </tr>\n",
       "  </thead>\n",
       "  <tbody>\n",
       "    <tr>\n",
       "      <th>0</th>\n",
       "      <td>KING</td>\n",
       "      <td>5000.0</td>\n",
       "      <td>10</td>\n",
       "    </tr>\n",
       "    <tr>\n",
       "      <th>1</th>\n",
       "      <td>CLARK</td>\n",
       "      <td>2450.0</td>\n",
       "      <td>10</td>\n",
       "    </tr>\n",
       "    <tr>\n",
       "      <th>2</th>\n",
       "      <td>MILLER</td>\n",
       "      <td>1300.0</td>\n",
       "      <td>10</td>\n",
       "    </tr>\n",
       "  </tbody>\n",
       "</table>\n",
       "</div>"
      ],
      "text/plain": [
       "    ENAME     SAL  DEPTNO\n",
       "0    KING  5000.0      10\n",
       "1   CLARK  2450.0      10\n",
       "2  MILLER  1300.0      10"
      ]
     },
     "execution_count": 7,
     "metadata": {},
     "output_type": "execute_result"
    }
   ],
   "source": [
    "dsn=cx_Oracle.makedsn('localhost',1521,'orcl')\n",
    "db=cx_Oracle.connect('scott','tiger',dsn)\n",
    "cursor=db.cursor()\n",
    "cursor.execute(\"\"\" select ename, sal,deptno from emp where deptno in (10,20) \"\"\")\n",
    "row=cursor.fetchall()\n",
    "colname=cursor.description \n",
    "cursor.close()  \n",
    "col=[] \n",
    "for i in colname:  \n",
    "    col.append(i[0])\n",
    "emp=pd.DataFrame(row, columns=col)\n",
    "emp[['ENAME','SAL','DEPTNO']][emp['DEPTNO']==10]"
   ]
  },
  {
   "cell_type": "markdown",
   "metadata": {},
   "source": [
    "### ■ 예제32. 멤버 체크 이해하기 (in)\n",
    "#### in은 자료에 어떤 값이 있는지 없는지 확인할 때 사용하는 키워드.\n",
    "```python\n",
    "값 in 자료\n",
    "```\n",
    "값이 자료에 있으면 결과가 True이고 없으면 False"
   ]
  },
  {
   "cell_type": "code",
   "execution_count": 12,
   "metadata": {},
   "outputs": [
    {
     "name": "stdout",
     "output_type": "stream",
     "text": [
      "False\n",
      "True\n"
     ]
    }
   ],
   "source": [
    "listdata=[1,2,3,4]\n",
    "a=5 in listdata\n",
    "b=4 in listdata\n",
    "print(a)\n",
    "print(b)"
   ]
  },
  {
   "cell_type": "markdown",
   "metadata": {},
   "source": [
    "### ※ 문제69. 오라클과 파이썬을 연동해서 부서번호가 10번, 20번인 사원들의 이름, 월급, 부서번호를 출력"
   ]
  },
  {
   "cell_type": "code",
   "execution_count": 2,
   "metadata": {},
   "outputs": [
    {
     "data": {
      "text/html": [
       "<div>\n",
       "<style scoped>\n",
       "    .dataframe tbody tr th:only-of-type {\n",
       "        vertical-align: middle;\n",
       "    }\n",
       "\n",
       "    .dataframe tbody tr th {\n",
       "        vertical-align: top;\n",
       "    }\n",
       "\n",
       "    .dataframe thead th {\n",
       "        text-align: right;\n",
       "    }\n",
       "</style>\n",
       "<table border=\"1\" class=\"dataframe\">\n",
       "  <thead>\n",
       "    <tr style=\"text-align: right;\">\n",
       "      <th></th>\n",
       "      <th>ENAME</th>\n",
       "      <th>SAL</th>\n",
       "      <th>DEPTNO</th>\n",
       "    </tr>\n",
       "  </thead>\n",
       "  <tbody>\n",
       "    <tr>\n",
       "      <th>0</th>\n",
       "      <td>KING</td>\n",
       "      <td>5000.0</td>\n",
       "      <td>10</td>\n",
       "    </tr>\n",
       "    <tr>\n",
       "      <th>2</th>\n",
       "      <td>CLARK</td>\n",
       "      <td>2450.0</td>\n",
       "      <td>10</td>\n",
       "    </tr>\n",
       "    <tr>\n",
       "      <th>3</th>\n",
       "      <td>JONES</td>\n",
       "      <td>2975.0</td>\n",
       "      <td>20</td>\n",
       "    </tr>\n",
       "    <tr>\n",
       "      <th>9</th>\n",
       "      <td>FORD</td>\n",
       "      <td>3000.0</td>\n",
       "      <td>20</td>\n",
       "    </tr>\n",
       "    <tr>\n",
       "      <th>10</th>\n",
       "      <td>SMITH</td>\n",
       "      <td>800.0</td>\n",
       "      <td>20</td>\n",
       "    </tr>\n",
       "    <tr>\n",
       "      <th>11</th>\n",
       "      <td>SCOTT</td>\n",
       "      <td>3000.0</td>\n",
       "      <td>20</td>\n",
       "    </tr>\n",
       "    <tr>\n",
       "      <th>12</th>\n",
       "      <td>ADAMS</td>\n",
       "      <td>1100.0</td>\n",
       "      <td>20</td>\n",
       "    </tr>\n",
       "    <tr>\n",
       "      <th>13</th>\n",
       "      <td>MILLER</td>\n",
       "      <td>1300.0</td>\n",
       "      <td>10</td>\n",
       "    </tr>\n",
       "  </tbody>\n",
       "</table>\n",
       "</div>"
      ],
      "text/plain": [
       "     ENAME     SAL  DEPTNO\n",
       "0     KING  5000.0      10\n",
       "2    CLARK  2450.0      10\n",
       "3    JONES  2975.0      20\n",
       "9     FORD  3000.0      20\n",
       "10   SMITH   800.0      20\n",
       "11   SCOTT  3000.0      20\n",
       "12   ADAMS  1100.0      20\n",
       "13  MILLER  1300.0      10"
      ]
     },
     "execution_count": 2,
     "metadata": {},
     "output_type": "execute_result"
    }
   ],
   "source": [
    "emp[['ENAME','SAL','DEPTNO']][emp['DEPTNO'].isin([10,20])]"
   ]
  },
  {
   "cell_type": "markdown",
   "metadata": {},
   "source": [
    "### ■ 예제33. 문자열 이해하기\n",
    "#### 문자열은 문자나 기호 순서로 나열되어 있는 시퀀스 자료\n",
    "```python\n",
    "※ 문자열을 선언하는 방법 3가지\n",
    "    1. '문자열' <- 싱글 쿼테이션 마크 1개\n",
    "    2. \"문자열\" <- 더블 쿼테이션 마크 1개\n",
    "    3. \"\"\"문자열\"\"\" <- 더블 쿼테이션 마크 3개\n",
    "문자에 아래와 같이 싱글 쿼테이션 마크가 포함되어 있으면 2번의 더블 쿼테이션 마크를 사용\n",
    "a=\"My son's name is John\"\n",
    "\n",
    "문자에 아래와 같이 더블 쿼테이션 마크가 있으면 3번의 더블 쿼테이션 마크를 사용\n",
    "b=\"\"\" my son's name is \"john\" \"\"\"\n",
    "```"
   ]
  },
  {
   "cell_type": "markdown",
   "metadata": {},
   "source": [
    "### ※ 문제70. 직업이 SALESMAN이고 월급이 1000이상인 사원들의 이름, 월급, 직업을 출력하시오"
   ]
  },
  {
   "cell_type": "code",
   "execution_count": 18,
   "metadata": {},
   "outputs": [
    {
     "data": {
      "text/html": [
       "<div>\n",
       "<style scoped>\n",
       "    .dataframe tbody tr th:only-of-type {\n",
       "        vertical-align: middle;\n",
       "    }\n",
       "\n",
       "    .dataframe tbody tr th {\n",
       "        vertical-align: top;\n",
       "    }\n",
       "\n",
       "    .dataframe thead th {\n",
       "        text-align: right;\n",
       "    }\n",
       "</style>\n",
       "<table border=\"1\" class=\"dataframe\">\n",
       "  <thead>\n",
       "    <tr style=\"text-align: right;\">\n",
       "      <th></th>\n",
       "      <th>ENAME</th>\n",
       "      <th>SAL</th>\n",
       "      <th>JOB</th>\n",
       "    </tr>\n",
       "  </thead>\n",
       "  <tbody>\n",
       "    <tr>\n",
       "      <th>4</th>\n",
       "      <td>MARTIN</td>\n",
       "      <td>1250.0</td>\n",
       "      <td>SALESMAN</td>\n",
       "    </tr>\n",
       "    <tr>\n",
       "      <th>5</th>\n",
       "      <td>ALLEN</td>\n",
       "      <td>1600.0</td>\n",
       "      <td>SALESMAN</td>\n",
       "    </tr>\n",
       "    <tr>\n",
       "      <th>6</th>\n",
       "      <td>TURNER</td>\n",
       "      <td>1500.0</td>\n",
       "      <td>SALESMAN</td>\n",
       "    </tr>\n",
       "    <tr>\n",
       "      <th>8</th>\n",
       "      <td>WARD</td>\n",
       "      <td>1250.0</td>\n",
       "      <td>SALESMAN</td>\n",
       "    </tr>\n",
       "  </tbody>\n",
       "</table>\n",
       "</div>"
      ],
      "text/plain": [
       "    ENAME     SAL       JOB\n",
       "4  MARTIN  1250.0  SALESMAN\n",
       "5   ALLEN  1600.0  SALESMAN\n",
       "6  TURNER  1500.0  SALESMAN\n",
       "8    WARD  1250.0  SALESMAN"
      ]
     },
     "execution_count": 18,
     "metadata": {},
     "output_type": "execute_result"
    }
   ],
   "source": [
    "emp[['ENAME','SAL','JOB']][(emp['JOB']=='SALESMAN')&(emp['SAL']>=1000)]"
   ]
  },
  {
   "cell_type": "markdown",
   "metadata": {},
   "source": [
    "### ■ 예제34. 문자열 포맷팅 이해하기\n",
    "#### 문자열 포맷팅 변하는 값을 포함하는 문자열을 표현하기 위해 하나의 양식으로 문자열을 만드는 것\n",
    "#### 문자열 포맷팅에서는 변하는 값을 타나내기 위해 사용하는 기호를 '포맷 문자열'\n",
    "```\n",
    "      포맷 문자열                     설명\n",
    "         %s                       문자열에 대응됨\n",
    "         %c                       문자나 기호 한 개에 대응됨\n",
    "         %f                       실수에 대응\n",
    "         %d                       정수에 대응\n",
    "         %%                       %라는 기호 자체를 표시\n",
    "```"
   ]
  },
  {
   "cell_type": "code",
   "execution_count": 20,
   "metadata": {},
   "outputs": [
    {
     "name": "stdout",
     "output_type": "stream",
     "text": [
      "나는 파이썬보다 자바에 더 익숙합니다.\n"
     ]
    }
   ],
   "source": [
    "txt1='자바'\n",
    "txt2='파이썬'\n",
    "num1=5\n",
    "num2=10\n",
    "print('나는 %s보다 %s에 더 익숙합니다.' %(txt2, txt1))"
   ]
  },
  {
   "cell_type": "markdown",
   "metadata": {},
   "source": [
    "### ※ 문제71. 위의 예제를 가지고 아래와 같이 결과를 출력하시오\n",
    "```\n",
    "5는 10보다 작습니다\n",
    "```"
   ]
  },
  {
   "cell_type": "code",
   "execution_count": 21,
   "metadata": {},
   "outputs": [
    {
     "name": "stdout",
     "output_type": "stream",
     "text": [
      "5는 10보다 작습니다\n"
     ]
    }
   ],
   "source": [
    "print('%d는 %d보다 작습니다' %(num1, num2))"
   ]
  },
  {
   "cell_type": "code",
   "execution_count": 24,
   "metadata": {},
   "outputs": [
    {
     "name": "stdout",
     "output_type": "stream",
     "text": [
      "5는 10보다 작습니다\n"
     ]
    }
   ],
   "source": [
    "print('{}는 {}보다 작습니다'.format(num1, num2))"
   ]
  },
  {
   "cell_type": "code",
   "execution_count": 25,
   "metadata": {},
   "outputs": [
    {
     "name": "stdout",
     "output_type": "stream",
     "text": [
      "5는 10보다 작습니다\n"
     ]
    }
   ],
   "source": [
    "print(f'{num1}는 {num2}보다 작습니다')"
   ]
  },
  {
   "cell_type": "markdown",
   "metadata": {},
   "source": [
    "### ※ 문제72. 문자열 포맷팅을 사용해서 아래와 같이 결과를 출력하시오\n",
    "```\n",
    "        KING의 월급은 5000 입니다.\n",
    "        ...\n",
    "        ```"
   ]
  },
  {
   "cell_type": "code",
   "execution_count": 57,
   "metadata": {},
   "outputs": [
    {
     "name": "stdout",
     "output_type": "stream",
     "text": [
      "KING의 월급은 5000입니다\n",
      "BLAKE의 월급은 2850입니다\n",
      "CLARK의 월급은 2450입니다\n",
      "JONES의 월급은 2975입니다\n",
      "MARTIN의 월급은 1250입니다\n",
      "ALLEN의 월급은 1600입니다\n",
      "TURNER의 월급은 1500입니다\n",
      "JAMES의 월급은 950입니다\n",
      "WARD의 월급은 1250입니다\n",
      "FORD의 월급은 3000입니다\n",
      "SMITH의 월급은 800입니다\n",
      "SCOTT의 월급은 3000입니다\n",
      "ADAMS의 월급은 1100입니다\n",
      "MILLER의 월급은 1300입니다\n"
     ]
    }
   ],
   "source": [
    "for i in range(len(emp)):\n",
    "    print('%s의 월급은 %d입니다' %(emp['ENAME'][i], emp['SAL'][i]) )\n",
    "    "
   ]
  },
  {
   "cell_type": "markdown",
   "metadata": {},
   "source": [
    "### ■ 예제35. 이스케이프 문자 이해하기\n",
    "#### 이스케이프 문자는 키보드로 입력하기 어려운 기호를 나타내기 위해 역슬래쉬 '\\'로 시작하는 문자\n",
    "#### 파이썬에서 자주 사용되는 이스케이프 문자는 다음과 같다\n",
    "```\n",
    "    이스케이프 문자                   설명\n",
    "        \\n                         줄 바꾸기\n",
    "        \\t                            탭\n",
    "        \\엔터                       줄 계속\n",
    "        \\\\                           \\자체\n",
    "     \\' 또는 \\\"               '기호 또는 \"기호 자체\n",
    "     ```"
   ]
  },
  {
   "cell_type": "code",
   "execution_count": 58,
   "metadata": {},
   "outputs": [
    {
     "name": "stdout",
     "output_type": "stream",
     "text": [
      "나는 파이썬을 배웁니다 \n",
      " 파이썬은 자바보다 훨씬 쉽습니다.\n"
     ]
    }
   ],
   "source": [
    "print('나는 파이썬을 배웁니다 \\n 파이썬은 자바보다 \\\n",
    "훨씬 쉽습니다.')"
   ]
  },
  {
   "cell_type": "markdown",
   "metadata": {},
   "source": [
    "### ※ 문제73. 아래와 같이 결과를 출력하시오\n",
    "```\n",
    "나는 '파이썬'을 배웁니다\n",
    "```"
   ]
  },
  {
   "cell_type": "code",
   "execution_count": 60,
   "metadata": {
    "ExecuteTime": {
     "end_time": "2020-05-14T07:15:04.866731Z",
     "start_time": "2020-05-14T07:15:04.863732Z"
    }
   },
   "outputs": [
    {
     "name": "stdout",
     "output_type": "stream",
     "text": [
      "나는 '파이썬'을 배웁니다\n"
     ]
    }
   ],
   "source": [
    "print('나는 \\'파이썬\\'을 배웁니다')"
   ]
  },
  {
   "cell_type": "markdown",
   "metadata": {},
   "source": [
    "### ■ 예제36. 리스트 이해하기([])\n",
    "#### 리스트는 파이썬에서 가장 많이 활용되는 시퀀스 자료형 중 하나\n",
    "#### 리스트는 [ ]로 표시하며 [ ] 안의 요소를 ,로 구분하여 순서있게 나열"
   ]
  },
  {
   "cell_type": "code",
   "execution_count": 61,
   "metadata": {
    "ExecuteTime": {
     "end_time": "2020-05-14T07:17:46.779469Z",
     "start_time": "2020-05-14T07:17:46.775472Z"
    }
   },
   "outputs": [
    {
     "name": "stdout",
     "output_type": "stream",
     "text": [
      "1\n"
     ]
    }
   ],
   "source": [
    "a=[1,2,3,4,5]\n",
    "print(a[0])"
   ]
  },
  {
   "cell_type": "markdown",
   "metadata": {},
   "source": [
    "### ※ 문제74. 아래의 b 리스트에서 숫자 2를 출력하시오"
   ]
  },
  {
   "cell_type": "code",
   "execution_count": 62,
   "metadata": {
    "ExecuteTime": {
     "end_time": "2020-05-14T07:18:24.835161Z",
     "start_time": "2020-05-14T07:18:24.831164Z"
    }
   },
   "outputs": [
    {
     "name": "stdout",
     "output_type": "stream",
     "text": [
      "2\n"
     ]
    }
   ],
   "source": [
    "b=[[1,2],[3,4]]\n",
    "print(b[0][1])"
   ]
  },
  {
   "cell_type": "markdown",
   "metadata": {},
   "source": [
    "### ※ 문제75. 아래의 b리스트의 요소를 아래와 같이 전부 출력하시오\n",
    "```python\n",
    "b=[[2,4],[6,7]]\n",
    "결과:\n",
    "    2\n",
    "    4\n",
    "    6\n",
    "    7\n",
    "    ```"
   ]
  },
  {
   "cell_type": "code",
   "execution_count": 66,
   "metadata": {
    "ExecuteTime": {
     "end_time": "2020-05-14T07:22:21.357579Z",
     "start_time": "2020-05-14T07:22:21.353581Z"
    }
   },
   "outputs": [
    {
     "name": "stdout",
     "output_type": "stream",
     "text": [
      "2\n",
      "4\n",
      "6\n",
      "7\n"
     ]
    }
   ],
   "source": [
    "b=[[2,4],[6,7]]\n",
    "for i in range(len(b)):\n",
    "    for j in range(len(b[i])):\n",
    "        print(b[i][j])"
   ]
  },
  {
   "cell_type": "code",
   "execution_count": 69,
   "metadata": {
    "ExecuteTime": {
     "end_time": "2020-05-14T07:47:56.703807Z",
     "start_time": "2020-05-14T07:47:56.699808Z"
    }
   },
   "outputs": [
    {
     "name": "stdout",
     "output_type": "stream",
     "text": [
      "2\n",
      "4\n",
      "6\n",
      "7\n"
     ]
    }
   ],
   "source": [
    "b=[[2,4],[6,7]]\n",
    "for i in range(2):\n",
    "    for j in range(2):\n",
    "        print(b[i][j])"
   ]
  },
  {
   "cell_type": "markdown",
   "metadata": {},
   "source": [
    "### ※ 문제76.(파이썬 알고리즘 문제 15번) 아래의 행렬의 합을 파이썬으로 구현하시오\n",
    "$$\n",
    "    \\begin{pmatrix}\n",
    "    2&4\\\\\n",
    "    1&3\\\\\n",
    "    \\end{pmatrix}\n",
    "    +\n",
    "    \\begin{pmatrix}\n",
    "    1&3\\\\\n",
    "    4&2\\\\\n",
    "    \\end{pmatrix}\n",
    "$$"
   ]
  },
  {
   "cell_type": "code",
   "execution_count": 76,
   "metadata": {
    "ExecuteTime": {
     "end_time": "2020-05-14T08:06:39.180022Z",
     "start_time": "2020-05-14T08:06:39.171027Z"
    }
   },
   "outputs": [
    {
     "name": "stdout",
     "output_type": "stream",
     "text": [
      "3 7 \n",
      "\n",
      "9 9 \n",
      "\n"
     ]
    },
    {
     "data": {
      "text/plain": [
       "[2, 4, 1, 3]"
      ]
     },
     "execution_count": 76,
     "metadata": {},
     "output_type": "execute_result"
    }
   ],
   "source": [
    "a=[[2,4],[5,7]]\n",
    "b=[[1,3],[4,2]]\n",
    "c=[]\n",
    "\n",
    "for i in range(len(a)):\n",
    "    for j in range(len(b)):\n",
    "        c.append(a[i][j]+b[i][j])\n",
    "        print(a[i][j]+b[i][j], end=' ')\n",
    "    print('\\n')    "
   ]
  },
  {
   "cell_type": "code",
   "execution_count": 76,
   "metadata": {
    "ExecuteTime": {
     "end_time": "2020-05-14T08:06:39.180022Z",
     "start_time": "2020-05-14T08:06:39.171027Z"
    }
   },
   "outputs": [
    {
     "name": "stdout",
     "output_type": "stream",
     "text": [
      "3 7 \n",
      "\n",
      "9 9 \n",
      "\n"
     ]
    },
    {
     "data": {
      "text/plain": [
       "[2, 4, 1, 3]"
      ]
     },
     "execution_count": 76,
     "metadata": {},
     "output_type": "execute_result"
    }
   ],
   "source": [
    "a=[[2,4],[5,7]]\n",
    "b=[[1,3],[4,2]]\n",
    "c=[]\n",
    "d=[]\n",
    "\n",
    "for i in range(len(a)):\n",
    "    for j in range(len(b)):\n",
    "        c.append(a[i][j]+b[i][j])\n"
   ]
  }
 ],
 "metadata": {
  "kernelspec": {
   "display_name": "Python 3",
   "language": "python",
   "name": "python3"
  },
  "language_info": {
   "codemirror_mode": {
    "name": "ipython",
    "version": 3
   },
   "file_extension": ".py",
   "mimetype": "text/x-python",
   "name": "python",
   "nbconvert_exporter": "python",
   "pygments_lexer": "ipython3",
   "version": "3.7.6"
  },
  "varInspector": {
   "cols": {
    "lenName": 16,
    "lenType": 16,
    "lenVar": 40
   },
   "kernels_config": {
    "python": {
     "delete_cmd_postfix": "",
     "delete_cmd_prefix": "del ",
     "library": "var_list.py",
     "varRefreshCmd": "print(var_dic_list())"
    },
    "r": {
     "delete_cmd_postfix": ") ",
     "delete_cmd_prefix": "rm(",
     "library": "var_list.r",
     "varRefreshCmd": "cat(var_dic_list()) "
    }
   },
   "position": {
    "height": "542px",
    "left": "1349px",
    "right": "20px",
    "top": "91px",
    "width": "557px"
   },
   "types_to_exclude": [
    "module",
    "function",
    "builtin_function_or_method",
    "instance",
    "_Feature"
   ],
   "window_display": true
  }
 },
 "nbformat": 4,
 "nbformat_minor": 4
}
