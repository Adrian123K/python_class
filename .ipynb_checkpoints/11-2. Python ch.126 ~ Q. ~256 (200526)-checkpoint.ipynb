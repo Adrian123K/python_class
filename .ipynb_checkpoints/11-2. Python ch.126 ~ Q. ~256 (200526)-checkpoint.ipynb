{
 "cells": [
  {
   "cell_type": "markdown",
   "metadata": {},
   "source": [
    "### ※ 문제245. 카카오 문제처럼 음악을 아티스트들이 겹치지 않도록 구현하시오"
   ]
  },
  {
   "cell_type": "code",
   "execution_count": 44,
   "metadata": {
    "ExecuteTime": {
     "end_time": "2020-05-26T06:15:05.543957Z",
     "start_time": "2020-05-26T06:15:05.536961Z"
    }
   },
   "outputs": [
    {
     "name": "stdout",
     "output_type": "stream",
     "text": [
      "다시만난세계, DNA, Gee, Fire\n"
     ]
    }
   ],
   "source": [
    "dict2={'소녀시대':['다시만난세계','Gee','소원을 말해봐'],'BTS':['DNA','Fire','피땀눈물']}\n",
    "d=list(dict2.values())\n",
    "\n",
    "song=[]\n",
    "for i in range(len(d)):\n",
    "    for j in dict2.values():\n",
    "        song.append(j[i])\n",
    "print(', '.join(song))"
   ]
  },
  {
   "cell_type": "markdown",
   "metadata": {},
   "source": [
    "### ※ 문제246. 위의 코드에서 shuffle을 어디에 넣어서 수행할 때 마다 노래가 랜덤으로 섞이게 하시오"
   ]
  },
  {
   "cell_type": "code",
   "execution_count": 46,
   "metadata": {
    "ExecuteTime": {
     "end_time": "2020-05-26T06:15:28.205633Z",
     "start_time": "2020-05-26T06:15:28.198639Z"
    }
   },
   "outputs": [
    {
     "name": "stdout",
     "output_type": "stream",
     "text": [
      "다시만난세계, DNA, Gee, Fire\n"
     ]
    }
   ],
   "source": [
    "from random import shuffle\n",
    "\n",
    "dict2={'소녀시대':['다시만난세계','Gee'],'BTS':['DNA','Fire']}\n",
    "d=list(dict2.values())\n",
    "\n",
    "shuffle(d)\n",
    "song=[]\n",
    "for i in range(len(d)):\n",
    "    for j in range(len(d[i])):\n",
    "        song.append(d[j][i])\n",
    "print(', '.join(song))"
   ]
  },
  {
   "cell_type": "markdown",
   "metadata": {},
   "source": [
    "### ※ 문제247. 아티스트의 음악이 3개여도 잘 shuffle 되는지 확인하시오"
   ]
  },
  {
   "cell_type": "code",
   "execution_count": 53,
   "metadata": {
    "ExecuteTime": {
     "end_time": "2020-05-26T06:34:49.325096Z",
     "start_time": "2020-05-26T06:34:49.318100Z"
    }
   },
   "outputs": [
    {
     "name": "stdout",
     "output_type": "stream",
     "text": [
      "Gee, Fire, 소원을 말해봐, 피땀눈물, 다시만난세계, DNA\n"
     ]
    }
   ],
   "source": [
    "from random import shuffle\n",
    "\n",
    "dict2={'소녀시대':['다시만난세계','Gee','소원을 말해봐'],'BTS':['DNA','Fire','피땀눈물']}\n",
    "\n",
    "song=[]\n",
    "for i in dict2.values():\n",
    "    shuffle(i)\n",
    "    song.append(i)\n",
    "    \n",
    "a=[]\n",
    "for i in range(len(song[0])):\n",
    "    for j in range(len(song)):\n",
    "        a.append(song[j][i])\n",
    "print(', '.join(a))"
   ]
  },
  {
   "cell_type": "markdown",
   "metadata": {},
   "source": [
    "### ■ 예제126. 사전 요소를 모두 추출하기(items)\n",
    "#### 딕셔너리 자료형에서 데이터를 추출하는 방법\n",
    "    1. key만 추출 : dict.keys()\n",
    "    2. value만 추출 : dict.values()\n",
    "    3. 둘 다 추출 : dict.items()"
   ]
  },
  {
   "cell_type": "code",
   "execution_count": 5,
   "metadata": {
    "ExecuteTime": {
     "end_time": "2020-05-26T05:49:01.237187Z",
     "start_time": "2020-05-26T05:49:01.232191Z"
    }
   },
   "outputs": [
    {
     "name": "stdout",
     "output_type": "stream",
     "text": [
      "dict_keys(['소녀시대', 'BTS'])\n",
      "dict_values([['다시만난세계', 'Gee', '소원을 말해봐'], ['DNA', 'Fire', '피땀눈물']])\n",
      "dict_items([('소녀시대', ['다시만난세계', 'Gee', '소원을 말해봐']), ('BTS', ['DNA', 'Fire', '피땀눈물'])])\n"
     ]
    }
   ],
   "source": [
    "# 예제\n",
    "dict2={'소녀시대':['다시만난세계','Gee','소원을 말해봐'],'BTS':['DNA','Fire','피땀눈물']}\n",
    "print(dict2.keys())\n",
    "print(dict2.values())\n",
    "print(dict2.items())"
   ]
  },
  {
   "cell_type": "markdown",
   "metadata": {},
   "source": [
    "### ■ 예제127. 사전 정렬하기(sorted)\n",
    "#### 파이썬 내장함수 sorted()는 사전 자료를 인자로 입력받아 정렬할 수 있다\n",
    "#### 사전의 각 요소는 키:값\n",
    "#### sorted() 함수에 사전을 인자로 입력하면 기본적으로 사전의 키를 오름차순으로 정렬한 결과를 리스트로 리턴"
   ]
  },
  {
   "cell_type": "code",
   "execution_count": 7,
   "metadata": {
    "ExecuteTime": {
     "end_time": "2020-05-26T05:50:47.121970Z",
     "start_time": "2020-05-26T05:50:47.114973Z"
    }
   },
   "outputs": [
    {
     "name": "stdout",
     "output_type": "stream",
     "text": [
      "dict_keys(['소녀시대', 'BTS', '오마이걸'])\n",
      "['소녀시대', 'BTS', '오마이걸']\n",
      "['BTS', '소녀시대', '오마이걸']\n"
     ]
    }
   ],
   "source": [
    "dict2={'소녀시대':['다시만난세계','Gee','소원을 말해봐'],'BTS':['DNA','Fire','피땀눈물'],'오마이걸':['비밀정원','한발짝 두발짝','다섯번째 계절']}\n",
    "print(dict2.keys())\n",
    "print(list(dict2.keys()))\n",
    "print(sorted(dict2.keys()))"
   ]
  },
  {
   "cell_type": "markdown",
   "metadata": {},
   "source": [
    "### ※ 문제248. 위의 결과를 reverse해서 나오게 하시오"
   ]
  },
  {
   "cell_type": "code",
   "execution_count": 8,
   "metadata": {
    "ExecuteTime": {
     "end_time": "2020-05-26T05:52:22.561532Z",
     "start_time": "2020-05-26T05:52:22.556536Z"
    }
   },
   "outputs": [
    {
     "name": "stdout",
     "output_type": "stream",
     "text": [
      "['오마이걸', '소녀시대', 'BTS']\n"
     ]
    }
   ],
   "source": [
    "print(sorted(dict2.keys(), reverse=True))"
   ]
  },
  {
   "cell_type": "markdown",
   "metadata": {},
   "source": [
    "### ■ 예제128. 문자 코드값 구하기(ord)\n",
    "#### 파이썬 내장함수 ord()는 문자를 컴퓨터가 인식하는 코드값으로 변환"
   ]
  },
  {
   "cell_type": "markdown",
   "metadata": {},
   "source": [
    "### ※ 문제249. 아래와 같이 결과를 출력하시오\n",
    "```\n",
    "A -----> 65\n",
    "\n",
    "\n",
    "Z -----> 90\n",
    "```"
   ]
  },
  {
   "cell_type": "code",
   "execution_count": 27,
   "metadata": {
    "ExecuteTime": {
     "end_time": "2020-05-26T05:59:58.300329Z",
     "start_time": "2020-05-26T05:59:58.295331Z"
    }
   },
   "outputs": [
    {
     "name": "stdout",
     "output_type": "stream",
     "text": [
      "65\n",
      "A ----> 65\n",
      "B ----> 66\n",
      "C ----> 67\n",
      "D ----> 68\n",
      "E ----> 69\n",
      "F ----> 70\n",
      "G ----> 71\n",
      "H ----> 72\n",
      "I ----> 73\n",
      "J ----> 74\n",
      "K ----> 75\n",
      "L ----> 76\n",
      "M ----> 77\n",
      "N ----> 78\n",
      "O ----> 79\n",
      "P ----> 80\n",
      "Q ----> 81\n",
      "R ----> 82\n",
      "S ----> 83\n",
      "T ----> 84\n",
      "U ----> 85\n",
      "V ----> 86\n",
      "W ----> 87\n",
      "X ----> 88\n",
      "Y ----> 89\n",
      "Z ----> 90\n"
     ]
    }
   ],
   "source": [
    "# 예제 : A -----> 65\n",
    "#         인코딩\n",
    "print(ord('A'))\n",
    "import string\n",
    "print('\\n'.join(f'{i} ----> {ord(i)}' for i in string.ascii_uppercase))"
   ]
  },
  {
   "cell_type": "markdown",
   "metadata": {},
   "source": [
    "### ■ 예제129. 코드값에 대응하는 문자 얻기(chr)\n",
    "#### 파이썬 내장함수 chr()은 ord()의 반대 기능을 수행\n",
    "#### chr()의 인자로 정수값을 입력하면 이 정수값이 해당하는 문자를 리턴"
   ]
  },
  {
   "cell_type": "code",
   "execution_count": 28,
   "metadata": {
    "ExecuteTime": {
     "end_time": "2020-05-26T06:00:53.481544Z",
     "start_time": "2020-05-26T06:00:53.476547Z"
    }
   },
   "outputs": [
    {
     "data": {
      "text/plain": [
       "'A'"
      ]
     },
     "execution_count": 28,
     "metadata": {},
     "output_type": "execute_result"
    }
   ],
   "source": [
    "# 예제\n",
    "chr(65)"
   ]
  },
  {
   "cell_type": "markdown",
   "metadata": {},
   "source": [
    "### ※ 문제250. 아래와 같이 결과를 출력하시오\n",
    "```\n",
    "65 -----> A\n",
    "\n",
    "90 -----> Z\n",
    "```"
   ]
  },
  {
   "cell_type": "code",
   "execution_count": 32,
   "metadata": {
    "ExecuteTime": {
     "end_time": "2020-05-26T06:03:02.141314Z",
     "start_time": "2020-05-26T06:03:02.137317Z"
    }
   },
   "outputs": [
    {
     "name": "stdout",
     "output_type": "stream",
     "text": [
      "65 ---> A\n",
      "66 ---> B\n",
      "67 ---> C\n",
      "68 ---> D\n",
      "69 ---> E\n",
      "70 ---> F\n",
      "71 ---> G\n",
      "72 ---> H\n",
      "73 ---> I\n",
      "74 ---> J\n",
      "75 ---> K\n",
      "76 ---> L\n",
      "77 ---> M\n",
      "78 ---> N\n",
      "79 ---> O\n",
      "80 ---> P\n",
      "81 ---> Q\n",
      "82 ---> R\n",
      "83 ---> S\n",
      "84 ---> T\n",
      "85 ---> U\n",
      "86 ---> V\n",
      "87 ---> W\n",
      "88 ---> X\n",
      "89 ---> Y\n",
      "90 ---> Z\n"
     ]
    }
   ],
   "source": [
    "print('\\n'.join(f'{i} ---> {chr(i)}' for i in range(65,91)))"
   ]
  },
  {
   "cell_type": "markdown",
   "metadata": {},
   "source": [
    "### ■ 예제130. 문자열로 된 식을 실행하기(eval)\n",
    "#### 코드를 작성하다보면 파일에서 읽은 수식이나 문자열을 그대로 실행해야하는 경우가 있다.\n",
    "#### 예를들어, '2+3'과 같이 두 개의 숫자를 더하는 문자열을 텍스트 파일에서 읽어 이를 실행하여 이 수식의 결과인 5를 구하는 경우"
   ]
  },
  {
   "cell_type": "code",
   "execution_count": 34,
   "metadata": {
    "ExecuteTime": {
     "end_time": "2020-05-26T06:05:24.795126Z",
     "start_time": "2020-05-26T06:05:24.791127Z"
    }
   },
   "outputs": [
    {
     "name": "stdout",
     "output_type": "stream",
     "text": [
      "2+3\n",
      "5\n"
     ]
    }
   ],
   "source": [
    "a='2+3'\n",
    "print(a)\n",
    "print(eval(a))"
   ]
  },
  {
   "cell_type": "markdown",
   "metadata": {},
   "source": [
    "#### ※ 파이썬 내장함수인 eval()은 파이썬 코드로 실행 가능한 문자열을 인자로 받아 실행하는 함수"
   ]
  },
  {
   "cell_type": "markdown",
   "metadata": {},
   "source": [
    "### ※ 문제251. eval을 이용해서 구구단 2단을 출력하시오"
   ]
  },
  {
   "cell_type": "code",
   "execution_count": 38,
   "metadata": {
    "ExecuteTime": {
     "end_time": "2020-05-26T06:10:34.564174Z",
     "start_time": "2020-05-26T06:10:34.559177Z"
    }
   },
   "outputs": [
    {
     "name": "stdout",
     "output_type": "stream",
     "text": [
      "2 * 1 =  2\n",
      "2 * 2 =  4\n",
      "2 * 3 =  6\n",
      "2 * 4 =  8\n",
      "2 * 5 =  10\n",
      "2 * 6 =  12\n",
      "2 * 7 =  14\n",
      "2 * 8 =  16\n",
      "2 * 9 =  18\n"
     ]
    }
   ],
   "source": [
    "for i in range(1,10):\n",
    "    b='2 * %d' %i\n",
    "    print(b+' = ',eval(b))"
   ]
  },
  {
   "cell_type": "markdown",
   "metadata": {},
   "source": [
    "### ※ 문제252. 구구단 전체를 출력하시오"
   ]
  },
  {
   "cell_type": "code",
   "execution_count": 42,
   "metadata": {
    "ExecuteTime": {
     "end_time": "2020-05-26T06:13:36.508995Z",
     "start_time": "2020-05-26T06:13:36.500001Z"
    }
   },
   "outputs": [
    {
     "name": "stdout",
     "output_type": "stream",
     "text": [
      "2 * 1 = 2\n",
      "2 * 2 = 4\n",
      "2 * 3 = 6\n",
      "2 * 4 = 8\n",
      "2 * 5 = 10\n",
      "2 * 6 = 12\n",
      "2 * 7 = 14\n",
      "2 * 8 = 16\n",
      "2 * 9 = 18\n",
      "3 * 1 = 3\n",
      "3 * 2 = 6\n",
      "3 * 3 = 9\n",
      "3 * 4 = 12\n",
      "3 * 5 = 15\n",
      "3 * 6 = 18\n",
      "3 * 7 = 21\n",
      "3 * 8 = 24\n",
      "3 * 9 = 27\n",
      "4 * 1 = 4\n",
      "4 * 2 = 8\n",
      "4 * 3 = 12\n",
      "4 * 4 = 16\n",
      "4 * 5 = 20\n",
      "4 * 6 = 24\n",
      "4 * 7 = 28\n",
      "4 * 8 = 32\n",
      "4 * 9 = 36\n",
      "5 * 1 = 5\n",
      "5 * 2 = 10\n",
      "5 * 3 = 15\n",
      "5 * 4 = 20\n",
      "5 * 5 = 25\n",
      "5 * 6 = 30\n",
      "5 * 7 = 35\n",
      "5 * 8 = 40\n",
      "5 * 9 = 45\n",
      "6 * 1 = 6\n",
      "6 * 2 = 12\n",
      "6 * 3 = 18\n",
      "6 * 4 = 24\n",
      "6 * 5 = 30\n",
      "6 * 6 = 36\n",
      "6 * 7 = 42\n",
      "6 * 8 = 48\n",
      "6 * 9 = 54\n",
      "7 * 1 = 7\n",
      "7 * 2 = 14\n",
      "7 * 3 = 21\n",
      "7 * 4 = 28\n",
      "7 * 5 = 35\n",
      "7 * 6 = 42\n",
      "7 * 7 = 49\n",
      "7 * 8 = 56\n",
      "7 * 9 = 63\n",
      "8 * 1 = 8\n",
      "8 * 2 = 16\n",
      "8 * 3 = 24\n",
      "8 * 4 = 32\n",
      "8 * 5 = 40\n",
      "8 * 6 = 48\n",
      "8 * 7 = 56\n",
      "8 * 8 = 64\n",
      "8 * 9 = 72\n",
      "9 * 1 = 9\n",
      "9 * 2 = 18\n",
      "9 * 3 = 27\n",
      "9 * 4 = 36\n",
      "9 * 5 = 45\n",
      "9 * 6 = 54\n",
      "9 * 7 = 63\n",
      "9 * 8 = 72\n",
      "9 * 9 = 81\n"
     ]
    }
   ],
   "source": [
    "for i in range(2,10):\n",
    "    for j in range(1,10):\n",
    "        f='%d * %d' %(i,j)\n",
    "        print(f'{i} * {j} = {eval(f)}')"
   ]
  },
  {
   "cell_type": "markdown",
   "metadata": {},
   "source": [
    "### ■ 예제131. 이름없는 한줄짜기 함수 만들기(lambda)\n",
    "#### 파이썬에서 함수를 정의하는 방법은 일반적으로 다음과 같다\n",
    "```\n",
    "def 함수이름(인자):            vs            lambda 인자 : 실행코드\n",
    "    실행코드\n",
    "```\n",
    "#### lambda 함수는 위에서 설명한 함수의 정의 방법과는 다르게 함수 이름 없이 한줄로 간단하게 정의되는 함수"
   ]
  },
  {
   "cell_type": "code",
   "execution_count": 47,
   "metadata": {
    "ExecuteTime": {
     "end_time": "2020-05-26T06:17:30.048891Z",
     "start_time": "2020-05-26T06:17:30.044893Z"
    }
   },
   "outputs": [
    {
     "name": "stdout",
     "output_type": "stream",
     "text": [
      "[1, 4, 9, 16, 25]\n"
     ]
    }
   ],
   "source": [
    "# 예제 \n",
    "a=[1,2,3,4,5]\n",
    "gob=lambda x : x*x\n",
    "print([gob(i) for i in a])"
   ]
  },
  {
   "cell_type": "markdown",
   "metadata": {},
   "source": [
    "### ※ 문제253. lambda를 이용해서 아래의 리스트를 받아 아래와 같이 결과를 출력하시오"
   ]
  },
  {
   "cell_type": "code",
   "execution_count": 52,
   "metadata": {
    "ExecuteTime": {
     "end_time": "2020-05-26T06:20:21.408600Z",
     "start_time": "2020-05-26T06:20:21.403604Z"
    }
   },
   "outputs": [
    {
     "name": "stdout",
     "output_type": "stream",
     "text": [
      "[1, 8, 27, 64, 125]\n"
     ]
    }
   ],
   "source": [
    "fn=lambda x: pow(x,3)\n",
    "print([fn(i) for i in a])"
   ]
  },
  {
   "cell_type": "markdown",
   "metadata": {},
   "source": [
    "### ■ 예제132. 인자를 바꾸어 함수를 반복 호출하여 결과값 얻기(map)\n",
    "#### 파이썬 내장함수 map()은 리스트 A와 함수 f가 주어지면 리스트 A의 요소를 함수 f에 입력해서 출력하는 결과를 간단하게 출력\n",
    "```python\n",
    "문법\n",
    "map(함수명, 함수에 제공할 매개변수 값들)\n",
    "```\n",
    "#### 매개변수의 값들을 바꿔가면서 함수를 반복실행 때 사용"
   ]
  },
  {
   "cell_type": "code",
   "execution_count": 54,
   "metadata": {
    "ExecuteTime": {
     "end_time": "2020-05-26T06:44:00.256937Z",
     "start_time": "2020-05-26T06:44:00.249940Z"
    }
   },
   "outputs": [
    {
     "data": {
      "text/plain": [
       "[1, 4, 9, 16, 25]"
      ]
     },
     "execution_count": 54,
     "metadata": {},
     "output_type": "execute_result"
    }
   ],
   "source": [
    "# 예제\n",
    "def gob(x):\n",
    "    return x*x\n",
    "a=[1,2,3,4,5]\n",
    "rs=list(map(gob, a))\n",
    "rs"
   ]
  },
  {
   "cell_type": "markdown",
   "metadata": {},
   "source": [
    "### ※ 문제254. 몬테카를로 알고리즘으로 원주율을 구하는 코드를 가져와서 함수로 생성하시오"
   ]
  },
  {
   "cell_type": "code",
   "execution_count": 80,
   "metadata": {
    "ExecuteTime": {
     "end_time": "2020-05-26T06:50:54.647181Z",
     "start_time": "2020-05-26T06:50:54.635189Z"
    }
   },
   "outputs": [
    {
     "name": "stdout",
     "output_type": "stream",
     "text": [
      "3.1572\n"
     ]
    }
   ],
   "source": [
    "def monte(n):\n",
    "    import random\n",
    "    \n",
    "    cnt=0\n",
    "    for i in range(n):\n",
    "        if random.random()**2+random.random()**2 <= 1:\n",
    "            cnt += 1\n",
    "    return 4*cnt/n\n",
    "print(monte(10000))"
   ]
  },
  {
   "cell_type": "markdown",
   "metadata": {},
   "source": [
    "### ※ 문제255. 위에서 만든 monte 함수와 아래의 리스트와 map을 이용해서 숫자가 클수록 더 원주율에 근사해지는지 확인하시오"
   ]
  },
  {
   "cell_type": "code",
   "execution_count": 82,
   "metadata": {
    "ExecuteTime": {
     "end_time": "2020-05-26T06:54:36.264707Z",
     "start_time": "2020-05-26T06:54:30.096512Z"
    }
   },
   "outputs": [
    {
     "name": "stdout",
     "output_type": "stream",
     "text": [
      "[3.2, 3.172, 3.1248, 3.135, 3.141228, 3.1413888]\n"
     ]
    }
   ],
   "source": [
    "pi_num=[100,1000,10_000,100_000,1_000_000,10_000_000]\n",
    "rs=list(map(monte, pi_num))\n",
    "print(rs)"
   ]
  },
  {
   "cell_type": "markdown",
   "metadata": {},
   "source": [
    "### ■ 예제133. 텍스트 파일을 읽고 출력하기\n",
    "#### 텍스트 파일을 읽고 그 내용을 화면에 출력하고자 하면 제일 먼저 텍스트 읽기 모드로 파일을 연다.\n",
    "#### 텍스트 파일을 오픈하면 텍스트 파일을 읽어 내용을 화면에 출력"
   ]
  },
  {
   "cell_type": "code",
   "execution_count": 84,
   "metadata": {
    "ExecuteTime": {
     "end_time": "2020-05-26T07:06:29.673260Z",
     "start_time": "2020-05-26T07:06:29.651275Z"
    }
   },
   "outputs": [
    {
     "name": "stdout",
     "output_type": "stream",
     "text": [
      "down\tup\n",
      "20\t23\n",
      "15\t16\n",
      "10\t10\n",
      "5\t4\n",
      "20\t22\n",
      "15\t15\n",
      "10\t12\n",
      "5\t7\n",
      "20\t21\n",
      "15\t16\n",
      "10\t11\n",
      "5\t5\n",
      "20\t22\n",
      "15\t14\n",
      "10\t10\n",
      "5\t6\n",
      "\n"
     ]
    }
   ],
   "source": [
    "f=open('k:/Itwill/2. Python/자료/stream.txt','r')\n",
    "data=f.read()\n",
    "print(data)\n",
    "f.close()"
   ]
  },
  {
   "cell_type": "markdown",
   "metadata": {},
   "source": [
    "#### ※ 텍스트 파일의 용량이 매우 클 경우 read()로 한꺼번에 파일의 내용을 읽어들이는 것은 메모리 문제를 야기할 수 있음"
   ]
  },
  {
   "cell_type": "markdown",
   "metadata": {},
   "source": [
    "### ■ 예제134. 텍스트 파일을 한 줄씩 읽고 출력하기(readline)\n",
    "#### 텍스트 파일의 용량이 매우 클 경우 read()로 한꺼번에 파일의 내용을 읽어들이는 것은 메모리 문제를 야기할 수 있음\n",
    "#### 이 경우 텍스트 파일 내용을 한 줄 단위로 읽고 작업을 수행\n",
    "#### readline()은 텍스트 파일에서 한 줄을 읽고나면 파일을 읽기 시작하는 위치는 그 다음줄의 맨 처음"
   ]
  },
  {
   "cell_type": "code",
   "execution_count": 90,
   "metadata": {
    "ExecuteTime": {
     "end_time": "2020-05-26T07:12:37.068292Z",
     "start_time": "2020-05-26T07:12:37.062295Z"
    }
   },
   "outputs": [
    {
     "name": "stdout",
     "output_type": "stream",
     "text": [
      "down\tup\n",
      "\n"
     ]
    }
   ],
   "source": [
    "f=open('k:/Itwill/2. Python/자료/stream.txt','r')\n",
    "data=f.readline()\n",
    "print(data)"
   ]
  },
  {
   "cell_type": "markdown",
   "metadata": {},
   "source": [
    "### ※ 문제256. 위의 코드에 loop문을 써서 텍스트 파일의 내용이 전부 다 출력되게 하시오"
   ]
  },
  {
   "cell_type": "code",
   "execution_count": 101,
   "metadata": {
    "ExecuteTime": {
     "end_time": "2020-05-26T07:16:49.068325Z",
     "start_time": "2020-05-26T07:16:49.061329Z"
    }
   },
   "outputs": [
    {
     "name": "stdout",
     "output_type": "stream",
     "text": [
      "down\tup\n",
      "20\t23\n",
      "15\t16\n",
      "10\t10\n",
      "5\t4\n",
      "20\t22\n",
      "15\t15\n",
      "10\t12\n",
      "5\t7\n",
      "20\t21\n",
      "15\t16\n",
      "10\t11\n",
      "5\t5\n",
      "20\t22\n",
      "15\t14\n",
      "10\t10\n",
      "5\t6\n"
     ]
    }
   ],
   "source": [
    "f=open('k:/Itwill/2. Python/자료/stream.txt','r')\n",
    "data=f.readline() # 한 번에 전부 읽어오는게 아니라 한 라인을 읽어오기\n",
    "\n",
    "while data:\n",
    "    print(data, end='')\n",
    "    data=f.readline()\n",
    "f.close()"
   ]
  },
  {
   "cell_type": "markdown",
   "metadata": {},
   "source": [
    "### ■ 예제135. 화면에서 사용자 입력을 받고 파일로 쓰기(write)\n",
    "#### 사용자로 부터 입력 받은 텍스트를 파일로 저장하려면 파일을 텍스트 쓰기 모드로 오픈하고 파일 객체의 write()를 이용해 데이터를 파일에 기록"
   ]
  },
  {
   "cell_type": "code",
   "execution_count": 102,
   "metadata": {
    "ExecuteTime": {
     "end_time": "2020-05-26T07:19:50.197045Z",
     "start_time": "2020-05-26T07:19:34.313431Z"
    }
   },
   "outputs": [
    {
     "name": "stdout",
     "output_type": "stream",
     "text": [
      "파일에 저장할 내용을 입력하세요 ~ 5/26 신경치료 -외출 1회\n"
     ]
    }
   ],
   "source": [
    "text=input('파일에 저장할 내용을 입력하세요 ~ ')\n",
    "f=open('k:/Itwill/2. Python/자료/mydata.txt','w')\n",
    "f.write(text)\n",
    "f.close()"
   ]
  },
  {
   "cell_type": "markdown",
   "metadata": {},
   "source": [
    "### ※ (오늘의 마지막 문제) 오늘 점심시간 문제의 그래프를 히스토그램 그래프가 아니라 확률밀도함수 그래프로 그리시오"
   ]
  },
  {
   "cell_type": "code",
   "execution_count": 107,
   "metadata": {
    "ExecuteTime": {
     "end_time": "2020-05-26T07:51:09.494677Z",
     "start_time": "2020-05-26T07:51:04.023159Z"
    }
   },
   "outputs": [
    {
     "data": {
      "text/plain": [
       "(array([0., 0., 0., 0., 0., 0., 0., 0., 0., 0., 0., 0., 0., 0., 0., 0., 0.,\n",
       "        0., 0.]),\n",
       " array([140, 141, 142, 143, 144, 145, 146, 147, 148, 149, 150, 151, 152,\n",
       "        153, 154, 155, 156, 157, 158, 159]),\n",
       " <a list of 19 Patch objects>)"
      ]
     },
     "execution_count": 107,
     "metadata": {},
     "output_type": "execute_result"
    },
    {
     "data": {
      "image/png": "[encoded data removed]",
      "text/plain": [
       "<Figure size 432x288 with 1 Axes>"
      ]
     },
     "metadata": {
      "needs_background": "light"
     },
     "output_type": "display_data"
    }
   ],
   "source": [
    "import matplotlib.pyplot as plt\n",
    "import numpy as np\n",
    "\n",
    "avg=148.5\n",
    "std=30\n",
    "N=1_000_000\n",
    "\n",
    "height=np.random.randn(100_100)*std+avg\n",
    "a=[np.random.choice(height,100).mean() for i in range(int(N/10))]\n",
    "\n",
    "bins=np.arange(140,160,1) \n",
    "hist, bins=np.histogram(height/N, bins)\n",
    "\n",
    "plt.grid() \n",
    "plt.hist(hist, bins, rwidth=0.8, color='grey') \n"
   ]
  },
  {
   "cell_type": "code",
   "execution_count": 147,
   "metadata": {
    "ExecuteTime": {
     "end_time": "2020-05-26T08:16:58.615681Z",
     "start_time": "2020-05-26T08:16:04.434293Z"
    },
    "scrolled": true
   },
   "outputs": [
    {
     "data": {
      "image/png": "[encoded data removed]",
      "text/plain": [
       "<Figure size 432x288 with 1 Axes>"
      ]
     },
     "metadata": {
      "needs_background": "light"
     },
     "output_type": "display_data"
    },
    {
     "data": {
      "text/plain": [
       "<matplotlib.collections.PolyCollection at 0x226a3d99d08>"
      ]
     },
     "execution_count": 147,
     "metadata": {},
     "output_type": "execute_result"
    },
    {
     "data": {
      "image/png": "[encoded data removed]",
      "text/plain": [
       "<Figure size 432x288 with 1 Axes>"
      ]
     },
     "metadata": {
      "needs_background": "light"
     },
     "output_type": "display_data"
    }
   ],
   "source": [
    "import numpy as np\n",
    "from scipy.stats import norm\n",
    "import matplotlib.pyplot as plt\n",
    "import random\n",
    "\n",
    "o_avg=148.5\n",
    "o_std=30\n",
    "N=1_000_000\n",
    "\n",
    "# height_c=['0','1']\n",
    "# height_range=[0 for i in range(21)]\n",
    "\n",
    "# for i in range(int(100_000)):\n",
    "#     cnt = 0\n",
    "#     for j in range(140,161,1):\n",
    "#         cnt += int(random.choice(height_c))\n",
    "#     height_range[cnt] += 1\n",
    "# result=[i/100_000 for i in height_range]\n",
    "\n",
    "height=np.random.randn(1_000_000)*std+avg\n",
    "a=[np.random.choice(height,100).mean() for i in range(N)]\n",
    "\n",
    "mean=np.mean(a)\n",
    "std=np.std(a)\n",
    "\n",
    "# y_value = result\n",
    "x_name=tuple(str(i) for i in range(140,161,1)) \n",
    "n_groups = len(x_name) \n",
    "index = np.arange(n_groups) \n",
    "\n",
    "# plt.bar(index, y_value, tick_label=x_name, align='center',color='red')\n",
    "# plt.xlabel('avg_height')\n",
    "# plt.ylabel('Probability')\n",
    "# plt.title('Element. height')\n",
    "plt.xlim( -1, n_groups) \n",
    "plt.ylim( 0, 0.3,0.03)\n",
    "# plt.show()\n",
    "\n",
    "x=np.arange(140,160,1)\n",
    "y=norm.pdf(x,mean,std)\n",
    "\n",
    "plt.plot(x,y,color='red')\n",
    "plt.fill_between(x, y, interpolate=True, color='green', alpha=0.7)\n",
    "import numpy as np\n",
    "from scipy.stats import norm\n",
    "import matplotlib.pyplot as plt\n",
    "import randomplt.show()"
   ]
  },
  {
   "cell_type": "code",
   "execution_count": 161,
   "metadata": {
    "ExecuteTime": {
     "end_time": "2020-05-26T08:24:41.187762Z",
     "start_time": "2020-05-26T08:24:35.593139Z"
    },
    "scrolled": true
   },
   "outputs": [
    {
     "data": {
      "image/png": "[encoded data removed]",
      "text/plain": [
       "<Figure size 432x288 with 1 Axes>"
      ]
     },
     "metadata": {
      "needs_background": "light"
     },
     "output_type": "display_data"
    }
   ],
   "source": [
    "import numpy as np\n",
    "from scipy.stats import norm\n",
    "import matplotlib.pyplot as plt\n",
    "import random\n",
    "\n",
    "o_avg=148.5\n",
    "o_std=30\n",
    "N=1_000_000\n",
    "\n",
    "height=np.random.randn(1_000_000)*o_std+o_avg # 모집단에서 임의 추출할 샘플 1백만개\n",
    "a=[np.random.choice(height,100).mean() for i in range(int(N/10))] # 표본의 크기 100인 샘플 10만개\n",
    "\n",
    "s_mean=np.mean(a) # 표본평균\n",
    "s_std=np.std(a) # 표본표준편차\n",
    "\n",
    "x=np.arange(135,163,0.001)\n",
    "y=norm.pdf(x,s_mean,s_std) # 표본값으로 정규분포 확률밀도함수\n",
    "\n",
    "plt.plot(x,y,color='red')\n",
    "plt.fill_between(x, y, interpolate=True, color='blue', alpha=0.7)\n",
    "plt.show()"
   ]
  }
 ],
 "metadata": {
  "kernelspec": {
   "display_name": "Python 3",
   "language": "python",
   "name": "python3"
  },
  "language_info": {
   "codemirror_mode": {
    "name": "ipython",
    "version": 3
   },
   "file_extension": ".py",
   "mimetype": "text/x-python",
   "name": "python",
   "nbconvert_exporter": "python",
   "pygments_lexer": "ipython3",
   "version": "3.7.6"
  },
  "varInspector": {
   "cols": {
    "lenName": 16,
    "lenType": 16,
    "lenVar": 40
   },
   "kernels_config": {
    "python": {
     "delete_cmd_postfix": "",
     "delete_cmd_prefix": "del ",
     "library": "var_list.py",
     "varRefreshCmd": "print(var_dic_list())"
    },
    "r": {
     "delete_cmd_postfix": ") ",
     "delete_cmd_prefix": "rm(",
     "library": "var_list.r",
     "varRefreshCmd": "cat(var_dic_list()) "
    }
   },
   "types_to_exclude": [
    "module",
    "function",
    "builtin_function_or_method",
    "instance",
    "_Feature"
   ],
   "window_display": false
  }
 },
 "nbformat": 4,
 "nbformat_minor": 4
}
