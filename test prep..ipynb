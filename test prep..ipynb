{
 "cells": [
  {
   "cell_type": "markdown",
   "metadata": {},
   "source": [
    "# 탐욕"
   ]
  },
  {
   "cell_type": "code",
   "execution_count": 34,
   "metadata": {
    "ExecuteTime": {
     "end_time": "2020-06-12T04:34:50.795065Z",
     "start_time": "2020-06-12T04:34:47.728141Z"
    }
   },
   "outputs": [
    {
     "name": "stdout",
     "output_type": "stream",
     "text": [
      "거슬러줄 금액을 입력하세요:14\n",
      "거슬러줄 동전을 입력하세요:10 7 1\n",
      "10원 1개\n",
      "7원 0개\n",
      "1원 4개\n"
     ]
    }
   ],
   "source": [
    "def greed():\n",
    "    coin=int(input('거슬러줄 금액을 입력하세요:'))\n",
    "    change=sorted(list(map(int,input('거슬러줄 동전을 입력하세요:').split(' '))),reverse=True)\n",
    "    \n",
    "    while coin!=0:\n",
    "        for i in change:\n",
    "            q=coin//i\n",
    "            print(''.join(f'{i}원 {q}개'))\n",
    "            coin-=q*i    \n",
    "greed()"
   ]
  },
  {
   "cell_type": "markdown",
   "metadata": {},
   "source": [
    "# 이진탐색"
   ]
  },
  {
   "cell_type": "code",
   "execution_count": null,
   "metadata": {},
   "outputs": [],
   "source": [
    "def bi_search(a,n,cnt=0):\n",
    "    \"\"\"\n",
    "    a=리스트\n",
    "    n=찾고싶은 숫자\n",
    "    \"\"\"\n",
    "    import numpy as np\n",
    "    \n",
    "    cnt+=1\n",
    "    if len(a)==1:\n",
    "        if a[0]==n:\n",
    "            return f'{n}은 이진탐색 {cnt}번 만에 찾았습니다.'\n",
    "        else:\n",
    "            return f'{n}은 a 리스트에서 검색되지 않습니다.'\n",
    "        \n",
    "    a0=np.array(a)\n",
    "    if np.median(a0)==n:        \n",
    "        return f'{n}은 이진탐색 {cnt}번 만에 찾았습니다.'\n",
    "    \n",
    "    a_m=np.median(a0)\n",
    "    if a_m > n:\n",
    "        a=[i for i in a if i < a_m]\n",
    "    else:\n",
    "        a=[i for i in a if i > a_m]\n",
    "           \n",
    "    return bi_search(a, n, cnt)\n",
    "        \n",
    "a=[1,7,11,12,14,23,33,47,51,64,67,77,129,672,871]\n",
    "bi_search(sorted(a),12)"
   ]
  },
  {
   "cell_type": "markdown",
   "metadata": {},
   "source": [
    "# 합성곱"
   ]
  },
  {
   "cell_type": "code",
   "execution_count": 15,
   "metadata": {
    "ExecuteTime": {
     "end_time": "2020-06-12T04:19:16.555497Z",
     "start_time": "2020-06-12T04:19:16.542506Z"
    }
   },
   "outputs": [
    {
     "name": "stdout",
     "output_type": "stream",
     "text": [
      "[[15 16 46]\n",
      " [ 6 15 47]\n",
      " [31 24 43]]\n",
      "[[15 16]\n",
      " [ 6 15]]\n"
     ]
    }
   ],
   "source": [
    "def convolution(A,f,stride=1):\n",
    "    x=[]\n",
    "    \n",
    "    Ar, Ac=np.shape(A)\n",
    "    fr, fc=np.shape(f)\n",
    "    \n",
    "    cntr=int((Ar-fr)/stride+1)\n",
    "    cntc=int((Ac-fc)/stride+1)\n",
    "    \n",
    "    for i in range(cntr):\n",
    "        for j in range(cntc):\n",
    "            x.append(np.sum(A[i:fr+i,j:fc+j]*f))\n",
    "    return np.array(x).reshape(cntr,cntc)\n",
    "\n",
    "A=np.array([[1,2,3,0,6],[0,1,2,3,7],[3,0,1,2,8],[2,3,0,1,9],[5,6,8,7,3]])\n",
    "A2=np.array([[1,2,3,0],[0,1,2,3],[3,0,1,2],[2,3,0,1]])\n",
    "f=np.array([[2,0,1],[0,1,2],[1,0,2]])\n",
    "\n",
    "print(convolution(A,f))\n",
    "print(convolution(A2,f))"
   ]
  },
  {
   "cell_type": "markdown",
   "metadata": {},
   "source": [
    "# 삽입"
   ]
  },
  {
   "cell_type": "code",
   "execution_count": 31,
   "metadata": {
    "ExecuteTime": {
     "end_time": "2020-06-12T04:28:41.269087Z",
     "start_time": "2020-06-12T04:28:41.260093Z"
    }
   },
   "outputs": [
    {
     "data": {
      "text/plain": [
       "[1, 2, 3, 4, 5, 8, 9, 10]"
      ]
     },
     "execution_count": 31,
     "metadata": {},
     "output_type": "execute_result"
    }
   ],
   "source": [
    "import random\n",
    "import time\n",
    "def insert_sort(a):\n",
    "    \"\"\"\n",
    "    a=any kind of list\n",
    "    \"\"\"\n",
    "    for i in range(1,len(a)):\n",
    "        for j in range(i):\n",
    "            if a[i]<a[j]:            \n",
    "                a.insert(a.index(a[j]),a.pop(i))                \n",
    "    return a\n",
    "\n",
    "a=[5,4,3,2,1,8,9,10]\n",
    "insert_sort(a)"
   ]
  },
  {
   "cell_type": "markdown",
   "metadata": {},
   "source": [
    "# 버블"
   ]
  },
  {
   "cell_type": "code",
   "execution_count": 33,
   "metadata": {
    "ExecuteTime": {
     "end_time": "2020-06-12T04:34:19.210468Z",
     "start_time": "2020-06-12T04:34:19.200475Z"
    }
   },
   "outputs": [
    {
     "data": {
      "text/plain": [
       "[1, 5, 8, 9, 18, 20, 46, 47, 56, 75, 86, 98, 99, 102]"
      ]
     },
     "execution_count": 33,
     "metadata": {},
     "output_type": "execute_result"
    }
   ],
   "source": [
    "def bubble_sort(a):\n",
    "    \"\"\"\n",
    "    a = list\n",
    "    \"\"\"\n",
    "    n=len(a)\n",
    "    for i in range(1,n-1):\n",
    "        for j in range(n-i):\n",
    "            if a[j]>a[j+1]:\n",
    "                a[j],a[j+1]=a[j+1],a[j]\n",
    "    return a\n",
    "a=[5,102,99,56,75,1,8,9,18,20,46,47,98,86]                \n",
    "bubble_sort(a)"
   ]
  },
  {
   "cell_type": "markdown",
   "metadata": {},
   "source": [
    "# 자카드 유사도"
   ]
  },
  {
   "cell_type": "code",
   "execution_count": 37,
   "metadata": {
    "ExecuteTime": {
     "end_time": "2020-06-12T04:40:03.100353Z",
     "start_time": "2020-06-12T04:40:03.088360Z"
    }
   },
   "outputs": [
    {
     "name": "stdout",
     "output_type": "stream",
     "text": [
      "16384\n",
      "65536\n",
      "43690\n",
      "65536\n"
     ]
    }
   ],
   "source": [
    "def jacade(a, b):\n",
    "    str1 = a.lower()\n",
    "    str2 = b.lower()\n",
    "    ls1 = []\n",
    "    ls2 = []\n",
    "    for i in range(len(str1)-1):\n",
    "        if str1[i].isalpha() and str1[i+1].isalpha():\n",
    "            ls1.append(str1[i:i+2])\n",
    "    for i in range(len(str2)-1):\n",
    "        if str2[i].isalpha() and str2[i+1].isalpha():\n",
    "            ls2.append(str2[i:i+2])\n",
    "\n",
    "    union = []\n",
    "    inter = []\n",
    "    rs = set(ls1+ls2)\n",
    "\n",
    "    for i in rs:\n",
    "        for _ in range(min(ls1.count(i), ls2.count(i))):\n",
    "            inter.append(i)\n",
    "        for _ in range(max(ls1.count(i), ls2.count(i))):\n",
    "            union.append(i)\n",
    "\n",
    "    if len(ls1) == 0 and len(ls2) == 0:\n",
    "        return 65536\n",
    "    else:\n",
    "        return int(len(inter)/len(union)*65536)\n",
    "\n",
    "\n",
    "print(jacade('FRANCE', 'french'))\n",
    "print(jacade('handshake', 'shake hands'))\n",
    "print(jacade('aa1+aa2', 'AAAA12'))\n",
    "print(jacade('E=M*C^2', 'e=m*c^2'))"
   ]
  },
  {
   "cell_type": "markdown",
   "metadata": {},
   "source": [
    "# 재귀"
   ]
  },
  {
   "cell_type": "code",
   "execution_count": 38,
   "metadata": {
    "ExecuteTime": {
     "end_time": "2020-06-12T04:43:42.332066Z",
     "start_time": "2020-06-12T04:43:42.327067Z"
    }
   },
   "outputs": [
    {
     "name": "stdout",
     "output_type": "stream",
     "text": [
      "2 x 1 = 2\n",
      "2 x 2 = 4\n",
      "2 x 3 = 6\n",
      "2 x 4 = 8\n",
      "2 x 5 = 10\n",
      "2 x 6 = 12\n",
      "2 x 7 = 14\n",
      "2 x 8 = 16\n",
      "2 x 9 = 18\n"
     ]
    }
   ],
   "source": [
    "def multi_table_2(n):\n",
    "    if n==0:\n",
    "        return\n",
    "    else:\n",
    "        print(f'2 x {10-n} = {2*(10-n)}')\n",
    "        return multi_table_2(n-1)\n",
    "multi_table_2(9)"
   ]
  },
  {
   "cell_type": "markdown",
   "metadata": {},
   "source": [
    "# LRU"
   ]
  },
  {
   "cell_type": "code",
   "execution_count": 39,
   "metadata": {
    "ExecuteTime": {
     "end_time": "2020-06-12T04:45:17.310507Z",
     "start_time": "2020-06-12T04:45:17.296516Z"
    }
   },
   "outputs": [
    {
     "name": "stdout",
     "output_type": "stream",
     "text": [
      "50\n",
      "21\n",
      "60\n",
      "52\n",
      "16\n",
      "25\n",
      "7\n"
     ]
    }
   ],
   "source": [
    "def cacheProcess(cities,size):\n",
    "    \"\"\"\n",
    "    cities : list of cities\n",
    "    size : cache size\n",
    "    \"\"\"\n",
    "    cache=[]\n",
    "    cache_empty=[]\n",
    "    time=0\n",
    "    for i in cities:\n",
    "        if i.upper() in cache:\n",
    "            time += 1            \n",
    "            cache.append(cache.pop(cache.index(i.upper())))\n",
    "#             print(cache,'1')\n",
    "        else:\n",
    "            if len(cache) == size and size != 0:\n",
    "                cache.pop(0)\n",
    "                time += 5\n",
    "                cache.append(i.upper())\n",
    "#                 print(cache,'2')\n",
    "            elif size==0:\n",
    "                time += 5\n",
    "#                 print(cache,'0')\n",
    "            else:\n",
    "                time += 5\n",
    "                cache.append(i.upper())\n",
    "#                 print(cache,'3')\n",
    "    else:\n",
    "        return time\n",
    "print(cacheProcess(['Jeju', 'Pangyo', 'Seoul', 'NewYork', 'LA', 'Jeju', 'Pangyo', 'Seoul', 'NewYork', 'LA'],3))\n",
    "print(cacheProcess(['Jeju', 'Pangyo', 'Seoul', 'Jeju', 'Pangyo','Seoul', 'Jeju', 'Pangyo','Seoul'],3))\n",
    "print(cacheProcess(['Jeju', 'Pangyo', 'Seoul', 'NewYork', 'LA', 'SanFrancisco', 'Seoul', 'Rome', 'Paris', 'Jeju', 'NewYork', 'Rome'],2))\n",
    "print(cacheProcess(['Jeju', 'Pangyo', 'Seoul', 'NewYork', 'LA', 'SanFrancisco', 'Seoul', 'Rome', 'Paris', 'Jeju', 'NewYork', 'Rome'],5))\n",
    "print(cacheProcess(['Jeju', 'Pangyo', 'NewYork', 'newyork'],2))\n",
    "print(cacheProcess(['Jeju', 'Pangyo', 'Seoul', 'NewYork', 'LA'],0))\n",
    "print(cacheProcess(['Jeju','Jeju','Jeju'],3))"
   ]
  },
  {
   "cell_type": "markdown",
   "metadata": {},
   "source": [
    "# 버블재귀"
   ]
  },
  {
   "cell_type": "code",
   "execution_count": 41,
   "metadata": {
    "ExecuteTime": {
     "end_time": "2020-06-12T05:42:32.542885Z",
     "start_time": "2020-06-12T05:42:32.529892Z"
    }
   },
   "outputs": [
    {
     "data": {
      "text/plain": [
       "[1, 2, 3, 4, 5, 7, 8, 9, 10]"
      ]
     },
     "execution_count": 41,
     "metadata": {},
     "output_type": "execute_result"
    }
   ],
   "source": [
    "def bubble_sort(a, n=0, cnt=0, rs=[]):\n",
    "\n",
    "    cnt = len(a)\n",
    "    if len(a)==1:\n",
    "        rs.insert(0, a[len(a)-1])\n",
    "        return rs\n",
    "    elif a[n+1] < a[n]:\n",
    "        a[n], a[n+1] = a[n+1], a[n]\n",
    "    if a[len(a)-1] == max(a):\n",
    "        rs.insert(0, a[len(a)-1])\n",
    "        del a[-1]\n",
    "    n += 1\n",
    "    cnt += 1\n",
    "    if len(a) == n:            \n",
    "        n = 0\n",
    "\n",
    "    return bubble_sort(a, n, cnt, rs)\n",
    "    \n",
    "a = [5, 4, 3, 9 ,2, 1, 8, 7, 10]\n",
    "bubble_sort(a)"
   ]
  }
 ],
 "metadata": {
  "kernelspec": {
   "display_name": "Python 3",
   "language": "python",
   "name": "python3"
  },
  "language_info": {
   "codemirror_mode": {
    "name": "ipython",
    "version": 3
   },
   "file_extension": ".py",
   "mimetype": "text/x-python",
   "name": "python",
   "nbconvert_exporter": "python",
   "pygments_lexer": "ipython3",
   "version": "3.7.6"
  },
  "toc": {
   "base_numbering": 1,
   "nav_menu": {},
   "number_sections": true,
   "sideBar": true,
   "skip_h1_title": false,
   "title_cell": "Table of Contents",
   "title_sidebar": "Contents",
   "toc_cell": false,
   "toc_position": {},
   "toc_section_display": true,
   "toc_window_display": false
  },
  "varInspector": {
   "cols": {
    "lenName": 16,
    "lenType": 16,
    "lenVar": 40
   },
   "kernels_config": {
    "python": {
     "delete_cmd_postfix": "",
     "delete_cmd_prefix": "del ",
     "library": "var_list.py",
     "varRefreshCmd": "print(var_dic_list())"
    },
    "r": {
     "delete_cmd_postfix": ") ",
     "delete_cmd_prefix": "rm(",
     "library": "var_list.r",
     "varRefreshCmd": "cat(var_dic_list()) "
    }
   },
   "types_to_exclude": [
    "module",
    "function",
    "builtin_function_or_method",
    "instance",
    "_Feature"
   ],
   "window_display": false
  }
 },
 "nbformat": 4,
 "nbformat_minor": 4
}
