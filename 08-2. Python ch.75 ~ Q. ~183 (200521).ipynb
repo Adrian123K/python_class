{
 "cells": [
  {
   "cell_type": "code",
   "execution_count": 3,
   "metadata": {
    "ExecuteTime": {
     "end_time": "2020-05-21T04:52:17.000304Z",
     "start_time": "2020-05-21T04:52:16.777183Z"
    }
   },
   "outputs": [],
   "source": [
    "from my_loc import oracle as oc\n",
    "import pandas as pd\n",
    "\n",
    "emp=oc.connect('emp')\n",
    "dept=oc.connect('dept')"
   ]
  },
  {
   "cell_type": "markdown",
   "metadata": {},
   "source": [
    "### ※ 문제171. emp DF에 dname column을 추가하고 해당 사원의 부서명으로 값을 갱신하시오"
   ]
  },
  {
   "cell_type": "code",
   "execution_count": 6,
   "metadata": {
    "ExecuteTime": {
     "end_time": "2020-05-21T04:57:21.718581Z",
     "start_time": "2020-05-21T04:57:21.695595Z"
    }
   },
   "outputs": [
    {
     "data": {
      "text/html": [
       "<div>\n",
       "<style scoped>\n",
       "    .dataframe tbody tr th:only-of-type {\n",
       "        vertical-align: middle;\n",
       "    }\n",
       "\n",
       "    .dataframe tbody tr th {\n",
       "        vertical-align: top;\n",
       "    }\n",
       "\n",
       "    .dataframe thead th {\n",
       "        text-align: right;\n",
       "    }\n",
       "</style>\n",
       "<table border=\"1\" class=\"dataframe\">\n",
       "  <thead>\n",
       "    <tr style=\"text-align: right;\">\n",
       "      <th></th>\n",
       "      <th>EMPNO</th>\n",
       "      <th>ENAME</th>\n",
       "      <th>JOB</th>\n",
       "      <th>MGR</th>\n",
       "      <th>HIREDATE</th>\n",
       "      <th>SAL</th>\n",
       "      <th>COMM</th>\n",
       "      <th>DEPTNO</th>\n",
       "      <th>dname</th>\n",
       "    </tr>\n",
       "  </thead>\n",
       "  <tbody>\n",
       "    <tr>\n",
       "      <th>0</th>\n",
       "      <td>7839</td>\n",
       "      <td>KING</td>\n",
       "      <td>PRESIDENT</td>\n",
       "      <td>NaN</td>\n",
       "      <td>1981-11-17</td>\n",
       "      <td>5000.0</td>\n",
       "      <td>NaN</td>\n",
       "      <td>10</td>\n",
       "      <td>ACCOUNTING</td>\n",
       "    </tr>\n",
       "    <tr>\n",
       "      <th>1</th>\n",
       "      <td>7698</td>\n",
       "      <td>BLAKE</td>\n",
       "      <td>MANAGER</td>\n",
       "      <td>7839.0</td>\n",
       "      <td>1981-05-01</td>\n",
       "      <td>2850.0</td>\n",
       "      <td>NaN</td>\n",
       "      <td>30</td>\n",
       "      <td>SALES</td>\n",
       "    </tr>\n",
       "    <tr>\n",
       "      <th>2</th>\n",
       "      <td>7782</td>\n",
       "      <td>CLARK</td>\n",
       "      <td>MANAGER</td>\n",
       "      <td>7839.0</td>\n",
       "      <td>1981-05-09</td>\n",
       "      <td>2450.0</td>\n",
       "      <td>NaN</td>\n",
       "      <td>10</td>\n",
       "      <td>ACCOUNTING</td>\n",
       "    </tr>\n",
       "    <tr>\n",
       "      <th>3</th>\n",
       "      <td>7566</td>\n",
       "      <td>JONES</td>\n",
       "      <td>MANAGER</td>\n",
       "      <td>7839.0</td>\n",
       "      <td>1981-04-01</td>\n",
       "      <td>2975.0</td>\n",
       "      <td>NaN</td>\n",
       "      <td>20</td>\n",
       "      <td>RESEARCH</td>\n",
       "    </tr>\n",
       "    <tr>\n",
       "      <th>4</th>\n",
       "      <td>7654</td>\n",
       "      <td>MARTIN</td>\n",
       "      <td>SALESMAN</td>\n",
       "      <td>7698.0</td>\n",
       "      <td>1981-09-10</td>\n",
       "      <td>1250.0</td>\n",
       "      <td>1400.0</td>\n",
       "      <td>30</td>\n",
       "      <td>SALES</td>\n",
       "    </tr>\n",
       "    <tr>\n",
       "      <th>5</th>\n",
       "      <td>7499</td>\n",
       "      <td>ALLEN</td>\n",
       "      <td>SALESMAN</td>\n",
       "      <td>7698.0</td>\n",
       "      <td>1981-02-11</td>\n",
       "      <td>1600.0</td>\n",
       "      <td>300.0</td>\n",
       "      <td>30</td>\n",
       "      <td>SALES</td>\n",
       "    </tr>\n",
       "    <tr>\n",
       "      <th>6</th>\n",
       "      <td>7844</td>\n",
       "      <td>TURNER</td>\n",
       "      <td>SALESMAN</td>\n",
       "      <td>7698.0</td>\n",
       "      <td>1981-08-21</td>\n",
       "      <td>1500.0</td>\n",
       "      <td>0.0</td>\n",
       "      <td>30</td>\n",
       "      <td>SALES</td>\n",
       "    </tr>\n",
       "    <tr>\n",
       "      <th>7</th>\n",
       "      <td>7900</td>\n",
       "      <td>JAMES</td>\n",
       "      <td>CLERK</td>\n",
       "      <td>7698.0</td>\n",
       "      <td>1981-12-11</td>\n",
       "      <td>950.0</td>\n",
       "      <td>NaN</td>\n",
       "      <td>30</td>\n",
       "      <td>SALES</td>\n",
       "    </tr>\n",
       "    <tr>\n",
       "      <th>8</th>\n",
       "      <td>7521</td>\n",
       "      <td>WARD</td>\n",
       "      <td>SALESMAN</td>\n",
       "      <td>7698.0</td>\n",
       "      <td>1981-02-23</td>\n",
       "      <td>1250.0</td>\n",
       "      <td>500.0</td>\n",
       "      <td>30</td>\n",
       "      <td>SALES</td>\n",
       "    </tr>\n",
       "    <tr>\n",
       "      <th>9</th>\n",
       "      <td>7902</td>\n",
       "      <td>FORD</td>\n",
       "      <td>ANALYST</td>\n",
       "      <td>7566.0</td>\n",
       "      <td>1981-12-11</td>\n",
       "      <td>3000.0</td>\n",
       "      <td>NaN</td>\n",
       "      <td>20</td>\n",
       "      <td>RESEARCH</td>\n",
       "    </tr>\n",
       "    <tr>\n",
       "      <th>10</th>\n",
       "      <td>7369</td>\n",
       "      <td>SMITH</td>\n",
       "      <td>CLERK</td>\n",
       "      <td>7902.0</td>\n",
       "      <td>1980-12-09</td>\n",
       "      <td>800.0</td>\n",
       "      <td>NaN</td>\n",
       "      <td>20</td>\n",
       "      <td>RESEARCH</td>\n",
       "    </tr>\n",
       "    <tr>\n",
       "      <th>11</th>\n",
       "      <td>7788</td>\n",
       "      <td>SCOTT</td>\n",
       "      <td>ANALYST</td>\n",
       "      <td>7566.0</td>\n",
       "      <td>1982-12-22</td>\n",
       "      <td>3000.0</td>\n",
       "      <td>NaN</td>\n",
       "      <td>20</td>\n",
       "      <td>RESEARCH</td>\n",
       "    </tr>\n",
       "    <tr>\n",
       "      <th>12</th>\n",
       "      <td>7876</td>\n",
       "      <td>ADAMS</td>\n",
       "      <td>CLERK</td>\n",
       "      <td>7788.0</td>\n",
       "      <td>1983-01-15</td>\n",
       "      <td>1100.0</td>\n",
       "      <td>NaN</td>\n",
       "      <td>20</td>\n",
       "      <td>RESEARCH</td>\n",
       "    </tr>\n",
       "    <tr>\n",
       "      <th>13</th>\n",
       "      <td>7934</td>\n",
       "      <td>MILLER</td>\n",
       "      <td>CLERK</td>\n",
       "      <td>7782.0</td>\n",
       "      <td>1982-01-11</td>\n",
       "      <td>1300.0</td>\n",
       "      <td>NaN</td>\n",
       "      <td>10</td>\n",
       "      <td>ACCOUNTING</td>\n",
       "    </tr>\n",
       "  </tbody>\n",
       "</table>\n",
       "</div>"
      ],
      "text/plain": [
       "    EMPNO   ENAME        JOB     MGR   HIREDATE     SAL    COMM  DEPTNO  \\\n",
       "0    7839    KING  PRESIDENT     NaN 1981-11-17  5000.0     NaN      10   \n",
       "1    7698   BLAKE    MANAGER  7839.0 1981-05-01  2850.0     NaN      30   \n",
       "2    7782   CLARK    MANAGER  7839.0 1981-05-09  2450.0     NaN      10   \n",
       "3    7566   JONES    MANAGER  7839.0 1981-04-01  2975.0     NaN      20   \n",
       "4    7654  MARTIN   SALESMAN  7698.0 1981-09-10  1250.0  1400.0      30   \n",
       "5    7499   ALLEN   SALESMAN  7698.0 1981-02-11  1600.0   300.0      30   \n",
       "6    7844  TURNER   SALESMAN  7698.0 1981-08-21  1500.0     0.0      30   \n",
       "7    7900   JAMES      CLERK  7698.0 1981-12-11   950.0     NaN      30   \n",
       "8    7521    WARD   SALESMAN  7698.0 1981-02-23  1250.0   500.0      30   \n",
       "9    7902    FORD    ANALYST  7566.0 1981-12-11  3000.0     NaN      20   \n",
       "10   7369   SMITH      CLERK  7902.0 1980-12-09   800.0     NaN      20   \n",
       "11   7788   SCOTT    ANALYST  7566.0 1982-12-22  3000.0     NaN      20   \n",
       "12   7876   ADAMS      CLERK  7788.0 1983-01-15  1100.0     NaN      20   \n",
       "13   7934  MILLER      CLERK  7782.0 1982-01-11  1300.0     NaN      10   \n",
       "\n",
       "         dname  \n",
       "0   ACCOUNTING  \n",
       "1        SALES  \n",
       "2   ACCOUNTING  \n",
       "3     RESEARCH  \n",
       "4        SALES  \n",
       "5        SALES  \n",
       "6        SALES  \n",
       "7        SALES  \n",
       "8        SALES  \n",
       "9     RESEARCH  \n",
       "10    RESEARCH  \n",
       "11    RESEARCH  \n",
       "12    RESEARCH  \n",
       "13  ACCOUNTING  "
      ]
     },
     "execution_count": 6,
     "metadata": {},
     "output_type": "execute_result"
    }
   ],
   "source": [
    "emp['dname']=pd.merge(emp, dept, on='DEPTNO',how='left')['DNAME']\n",
    "emp"
   ]
  },
  {
   "cell_type": "markdown",
   "metadata": {},
   "source": [
    "### ■ 예제75. 문자열에서 특정 위치의 문자얻기\n",
    "#### 문자열에서 특정 위치의 문자를 얻는 방법은 indexing을 이용\n",
    "#### index는 0부터 시작\n",
    "#### 파이썬 index는 음수도 가능"
   ]
  },
  {
   "cell_type": "code",
   "execution_count": 7,
   "metadata": {
    "ExecuteTime": {
     "end_time": "2020-05-21T05:01:03.891959Z",
     "start_time": "2020-05-21T05:01:03.885962Z"
    }
   },
   "outputs": [
    {
     "data": {
      "text/plain": [
       "'e'"
      ]
     },
     "execution_count": 7,
     "metadata": {},
     "output_type": "execute_result"
    }
   ],
   "source": [
    "# 예제\n",
    "txt1='A tale that was not right'\n",
    "txt1[5]"
   ]
  },
  {
   "cell_type": "markdown",
   "metadata": {},
   "source": [
    "### ※ 문제172. 위의 txt1 변수에서 끝의 글자 g를 출력하시오"
   ]
  },
  {
   "cell_type": "code",
   "execution_count": 9,
   "metadata": {
    "ExecuteTime": {
     "end_time": "2020-05-21T05:02:21.146047Z",
     "start_time": "2020-05-21T05:02:21.142050Z"
    }
   },
   "outputs": [
    {
     "data": {
      "text/plain": [
       "'g'"
      ]
     },
     "execution_count": 9,
     "metadata": {},
     "output_type": "execute_result"
    }
   ],
   "source": [
    "txt1[-3]"
   ]
  },
  {
   "cell_type": "markdown",
   "metadata": {},
   "source": [
    "### ※ 문제173. 이름을 출력하고 이름의 첫번째 철자를 출력하시오"
   ]
  },
  {
   "cell_type": "code",
   "execution_count": 29,
   "metadata": {
    "ExecuteTime": {
     "end_time": "2020-05-21T05:10:24.480314Z",
     "start_time": "2020-05-21T05:10:24.473318Z"
    }
   },
   "outputs": [
    {
     "name": "stdout",
     "output_type": "stream",
     "text": [
      "KING K\n",
      "BLAKE B\n",
      "CLARK C\n",
      "JONES J\n",
      "MARTIN M\n",
      "ALLEN A\n",
      "TURNER T\n",
      "JAMES J\n",
      "WARD W\n",
      "FORD F\n",
      "SMITH S\n",
      "SCOTT S\n",
      "ADAMS A\n",
      "MILLER M\n"
     ]
    }
   ],
   "source": [
    "import csv\n",
    "\n",
    "file=open('k:/Itwill/2. Python/자료/emp2.csv','r')\n",
    "emp_csv=csv.reader(file)\n",
    "for i in emp_csv:\n",
    "    print(i[1],i[1][0])"
   ]
  },
  {
   "cell_type": "code",
   "execution_count": 27,
   "metadata": {
    "ExecuteTime": {
     "end_time": "2020-05-21T05:08:15.186499Z",
     "start_time": "2020-05-21T05:08:15.181501Z"
    }
   },
   "outputs": [
    {
     "name": "stdout",
     "output_type": "stream",
     "text": [
      "KING K\n",
      "BLAKE B\n",
      "CLARK C\n",
      "JONES J\n",
      "MARTIN M\n",
      "ALLEN A\n",
      "TURNER T\n",
      "JAMES J\n",
      "WARD W\n",
      "FORD F\n",
      "SMITH S\n",
      "SCOTT S\n",
      "ADAMS A\n",
      "MILLER M\n"
     ]
    }
   ],
   "source": [
    "for i in emp['ENAME']:\n",
    "    print(i, i[0])"
   ]
  },
  {
   "cell_type": "code",
   "execution_count": 35,
   "metadata": {
    "ExecuteTime": {
     "end_time": "2020-05-21T05:19:35.916440Z",
     "start_time": "2020-05-21T05:19:35.906446Z"
    }
   },
   "outputs": [
    {
     "data": {
      "text/plain": [
       "0       (KING, K)\n",
       "1      (BLAKE, B)\n",
       "2      (CLARK, C)\n",
       "3      (JONES, J)\n",
       "4     (MARTIN, M)\n",
       "5      (ALLEN, A)\n",
       "6     (TURNER, T)\n",
       "7      (JAMES, J)\n",
       "8       (WARD, W)\n",
       "9       (FORD, F)\n",
       "10     (SMITH, S)\n",
       "11     (SCOTT, S)\n",
       "12     (ADAMS, A)\n",
       "13    (MILLER, M)\n",
       "Name: ENAME, dtype: object"
      ]
     },
     "execution_count": 35,
     "metadata": {},
     "output_type": "execute_result"
    }
   ],
   "source": [
    "emp['ENAME'].apply(lambda x:(x, x[0])) # apply(함수)\n",
    "                  # lambda 입력:출력"
   ]
  },
  {
   "cell_type": "markdown",
   "metadata": {},
   "source": [
    "#### ※ 설명\n",
    "```python\n",
    "1. PandasSeries.apply(함수) : Pandas Series 값들을(column 값) 함수가 받아서 출력\n",
    "2. lambda 표현식 : 여러줄의 코드를 딱 한 줄로 만들어주는 인자.\n",
    "    Oracle → 이름없는 함수\n",
    "예시,\n",
    "        def hap(x,y): # hap: 함수명\n",
    "            return x+y\n",
    "\n",
    "        print(hap(10,20))\n",
    "        # 위의 코드를 lambda 표현식으로 하면\n",
    "        print((lambda x,y:x+y)(10,20))\n",
    "```"
   ]
  },
  {
   "cell_type": "code",
   "execution_count": 32,
   "metadata": {
    "ExecuteTime": {
     "end_time": "2020-05-21T05:17:42.301213Z",
     "start_time": "2020-05-21T05:17:42.296216Z"
    }
   },
   "outputs": [
    {
     "name": "stdout",
     "output_type": "stream",
     "text": [
      "30\n"
     ]
    }
   ],
   "source": [
    "print((lambda x,y:x+y)(10,20))"
   ]
  },
  {
   "cell_type": "markdown",
   "metadata": {},
   "source": [
    "### ※ 문제174. 이름의 첫번째 철자가 S로 시작하는 사원들의 이름을 출력하시오\n",
    "#### 1. 판다스를 이용하지 않았을 때\n",
    "#### 2. 판다스를 이용했을 때"
   ]
  },
  {
   "cell_type": "code",
   "execution_count": 47,
   "metadata": {
    "ExecuteTime": {
     "end_time": "2020-05-21T05:27:58.015570Z",
     "start_time": "2020-05-21T05:27:58.010572Z"
    }
   },
   "outputs": [
    {
     "name": "stdout",
     "output_type": "stream",
     "text": [
      "SMITH\n",
      "SCOTT\n"
     ]
    }
   ],
   "source": [
    "file=open('k:/Itwill/2. Python/자료/emp2.csv','r')\n",
    "emp_csv=csv.reader(file)\n",
    "for i in emp_csv:\n",
    "    if i[1][0]=='S':\n",
    "        print(i[1])"
   ]
  },
  {
   "cell_type": "code",
   "execution_count": 40,
   "metadata": {
    "ExecuteTime": {
     "end_time": "2020-05-21T05:24:19.743690Z",
     "start_time": "2020-05-21T05:24:19.739691Z"
    }
   },
   "outputs": [
    {
     "name": "stdout",
     "output_type": "stream",
     "text": [
      "SMITH\n",
      "SCOTT\n"
     ]
    }
   ],
   "source": [
    "for i in emp['ENAME']:\n",
    "    if i[0]=='S':\n",
    "        print(i)"
   ]
  },
  {
   "cell_type": "markdown",
   "metadata": {},
   "source": [
    "### ■ 예제76. 문자열에서 지정한 구간의 문자열 얻기\n",
    "#### 문자열에서 특정 구간에 있는 문자열을 얻으려면 슬라이싱을 이용"
   ]
  },
  {
   "cell_type": "code",
   "execution_count": 52,
   "metadata": {
    "ExecuteTime": {
     "end_time": "2020-05-21T05:51:51.603331Z",
     "start_time": "2020-05-21T05:51:51.599333Z"
    }
   },
   "outputs": [
    {
     "name": "stdout",
     "output_type": "stream",
     "text": [
      "tale\n",
      "tale that was not right\n",
      "A tale\n"
     ]
    }
   ],
   "source": [
    "print(txt1[2:6])\n",
    "print(txt1[2:])\n",
    "print(txt1[:6])"
   ]
  },
  {
   "cell_type": "markdown",
   "metadata": {},
   "source": [
    "### ※ 문제175. 아래의 SQL을 파이썬으로 구현하시오\n",
    "```sql\n",
    "select ename, substr(ename,1,3)\n",
    "    from emp;\n",
    "   ```"
   ]
  },
  {
   "cell_type": "code",
   "execution_count": 74,
   "metadata": {
    "ExecuteTime": {
     "end_time": "2020-05-21T06:00:40.046528Z",
     "start_time": "2020-05-21T06:00:40.040530Z"
    }
   },
   "outputs": [
    {
     "name": "stdout",
     "output_type": "stream",
     "text": [
      "0       KING KIN\n",
      "1      BLAKE BLA\n",
      "2      CLARK CLA\n",
      "3      JONES JON\n",
      "4     MARTIN MAR\n",
      "5      ALLEN ALL\n",
      "6     TURNER TUR\n",
      "7      JAMES JAM\n",
      "8       WARD WAR\n",
      "9       FORD FOR\n",
      "10     SMITH SMI\n",
      "11     SCOTT SCO\n",
      "12     ADAMS ADA\n",
      "13    MILLER MIL\n",
      "Name: ENAME, dtype: object\n"
     ]
    }
   ],
   "source": [
    "print(emp['ENAME']+' '+emp['ENAME'].apply(lambda x:x[:3]))"
   ]
  },
  {
   "cell_type": "markdown",
   "metadata": {},
   "source": [
    "### ■ 예제77. 문자열에서 홀수번 째 문자만 출력하기\n",
    "#### 주어진 문자열에서 홀수번째 문자만 추출하는 방법은 슬라이싱의 스텝을 이용"
   ]
  },
  {
   "cell_type": "code",
   "execution_count": 75,
   "metadata": {
    "ExecuteTime": {
     "end_time": "2020-05-21T06:00:48.477223Z",
     "start_time": "2020-05-21T06:00:48.472225Z"
    }
   },
   "outputs": [
    {
     "data": {
      "text/plain": [
       "'abcdefghijk'"
      ]
     },
     "execution_count": 75,
     "metadata": {},
     "output_type": "execute_result"
    }
   ],
   "source": [
    "txt='aAbBcCdDeEfFgGhHiIjJkK'\n",
    "txt[::2]"
   ]
  },
  {
   "cell_type": "markdown",
   "metadata": {},
   "source": [
    "### ■ 예제78. 문자열 거꾸로 만들기\n",
    "#### 슬라이싱을 이용하면 매우 간단하게 거꾸로 된 문자열을 얻을 수 있다\n",
    "#### 문자열 txt의 처음부터 끝까지 스텝 -1로 슬라이싱"
   ]
  },
  {
   "cell_type": "code",
   "execution_count": 76,
   "metadata": {
    "ExecuteTime": {
     "end_time": "2020-05-21T06:02:26.258885Z",
     "start_time": "2020-05-21T06:02:26.252888Z"
    }
   },
   "outputs": [
    {
     "data": {
      "text/plain": [
       "'KkJjIiHhGgFfEeDdCcBbAa'"
      ]
     },
     "execution_count": 76,
     "metadata": {},
     "output_type": "execute_result"
    }
   ],
   "source": [
    "txt[::-1]"
   ]
  },
  {
   "cell_type": "markdown",
   "metadata": {},
   "source": [
    "### ※ 문제176. txt문자열을 거꾸로 출력하는데 홀수번째 문자만 추출하시오"
   ]
  },
  {
   "cell_type": "code",
   "execution_count": 93,
   "metadata": {
    "ExecuteTime": {
     "end_time": "2020-05-21T06:07:16.775921Z",
     "start_time": "2020-05-21T06:07:16.771924Z"
    }
   },
   "outputs": [
    {
     "data": {
      "text/plain": [
       "'KJIHGFEDCBA'"
      ]
     },
     "execution_count": 93,
     "metadata": {},
     "output_type": "execute_result"
    }
   ],
   "source": [
    "txt[::-2]"
   ]
  },
  {
   "cell_type": "markdown",
   "metadata": {},
   "source": [
    "### ※ 문제177. txt문자열을 거꾸로 출력하는데 짝수번째 문자만 추출하시오"
   ]
  },
  {
   "cell_type": "code",
   "execution_count": 94,
   "metadata": {
    "ExecuteTime": {
     "end_time": "2020-05-21T06:07:17.094456Z",
     "start_time": "2020-05-21T06:07:17.089458Z"
    }
   },
   "outputs": [
    {
     "data": {
      "text/plain": [
       "'kjihgfedcba'"
      ]
     },
     "execution_count": 94,
     "metadata": {},
     "output_type": "execute_result"
    }
   ],
   "source": [
    "txt[-2::-2]"
   ]
  },
  {
   "cell_type": "markdown",
   "metadata": {},
   "source": [
    "### ■ 예제79. 두 개의 문자열 합치기(+)\n",
    "#### 두 개의 문자열을 합치는 방법은 + 연산자를 이용"
   ]
  },
  {
   "cell_type": "markdown",
   "metadata": {},
   "source": [
    "### ■ 예제80. 문자열을 반복해서 새로운 문자열로 만들기 (*)\n",
    "#### 주어진 문자열을 반복하고자 할 때 * 연산자를 이용"
   ]
  },
  {
   "cell_type": "code",
   "execution_count": 96,
   "metadata": {
    "ExecuteTime": {
     "end_time": "2020-05-21T06:10:47.386128Z",
     "start_time": "2020-05-21T06:10:47.381132Z"
    }
   },
   "outputs": [
    {
     "name": "stdout",
     "output_type": "stream",
     "text": [
      "여러분 ~ 여러분 ~ 여러분 ~ \n"
     ]
    }
   ],
   "source": [
    "print('여러분 ~ '*3)"
   ]
  },
  {
   "cell_type": "markdown",
   "metadata": {},
   "source": [
    "### ■ 예제81. 문자열에서 특정 문자가 있는지 확인하기(in)\n",
    "#### 문자열에서 특정 문자가 있는지 없는지 확인할 때 in 키워드를 이용"
   ]
  },
  {
   "cell_type": "code",
   "execution_count": 97,
   "metadata": {
    "ExecuteTime": {
     "end_time": "2020-05-21T06:12:43.174386Z",
     "start_time": "2020-05-21T06:12:43.170388Z"
    }
   },
   "outputs": [
    {
     "name": "stdout",
     "output_type": "stream",
     "text": [
      "exist\n"
     ]
    }
   ],
   "source": [
    "msg='abcdefghijklmnop'\n",
    "if 'b' in msg:\n",
    "    print('exist')\n",
    "else:\n",
    "    print('not exist')"
   ]
  },
  {
   "cell_type": "markdown",
   "metadata": {},
   "source": [
    "### ■ 예제82. 문자열에서 특정 문자열이 있는지 확인하기(in)"
   ]
  },
  {
   "cell_type": "code",
   "execution_count": 98,
   "metadata": {
    "ExecuteTime": {
     "end_time": "2020-05-21T06:14:47.776393Z",
     "start_time": "2020-05-21T06:14:47.771395Z"
    }
   },
   "outputs": [
    {
     "name": "stdout",
     "output_type": "stream",
     "text": [
      "exist\n"
     ]
    }
   ],
   "source": [
    "msg='I am a boy'\n",
    "if 'boy' in msg:\n",
    "    print('exist')\n",
    "else:\n",
    "    print('not exist')"
   ]
  },
  {
   "cell_type": "markdown",
   "metadata": {},
   "source": [
    "### ■ 예제83. 파이썬 comprehension\n",
    "#### 파이썬에서 Comprehension을 이용해서 파이썬 코드를 더 간결하고 심플하게 작성할 수 있다.\n",
    "```\n",
    "1. list comprehension\n",
    "2. set comprehension\n",
    "3. dictionary comprehension\n",
    "```"
   ]
  },
  {
   "cell_type": "code",
   "execution_count": 104,
   "metadata": {
    "ExecuteTime": {
     "end_time": "2020-05-21T06:20:47.207029Z",
     "start_time": "2020-05-21T06:20:47.200032Z"
    }
   },
   "outputs": [
    {
     "data": {
      "text/plain": [
       "[1, 2, 3]"
      ]
     },
     "execution_count": 104,
     "metadata": {},
     "output_type": "execute_result"
    }
   ],
   "source": [
    "# list comprehension\n",
    "# 예제. 아래의 a 리스트에서 숫자만 추출해서 리스트에 담아 출력하시오\n",
    "a=[1,2,'A',False,3]# 결과 :[1,2,3]\n",
    "ls=[]\n",
    "for i in a:\n",
    "    if type(i)==int:\n",
    "        ls.append(i)\n",
    "ls"
   ]
  },
  {
   "cell_type": "code",
   "execution_count": 105,
   "metadata": {
    "ExecuteTime": {
     "end_time": "2020-05-21T06:21:21.132741Z",
     "start_time": "2020-05-21T06:21:21.127744Z"
    }
   },
   "outputs": [
    {
     "data": {
      "text/plain": [
       "[1, 2, 3]"
      ]
     },
     "execution_count": 105,
     "metadata": {},
     "output_type": "execute_result"
    }
   ],
   "source": [
    "a=[1,2,'A',False,3]# 결과 :[1,2,3]\n",
    "[i for i in a if type(i)==int]"
   ]
  },
  {
   "cell_type": "markdown",
   "metadata": {},
   "source": [
    "```python\n",
    "※ 문법 : 출력표현식 for 요소 in 입력시퀀스 if 조건식\n",
    "             i    for  i   in  a       if type(i)==int\n",
    "        ```"
   ]
  },
  {
   "cell_type": "markdown",
   "metadata": {},
   "source": [
    "### ※ 문제178. list comprehension을 이용해서 아래의 결과를 출력하시오\n",
    "```\n",
    "[1, 3, 5, 7, 9, 11, 13, 15, 17, 19]\n",
    "```"
   ]
  },
  {
   "cell_type": "code",
   "execution_count": 106,
   "metadata": {
    "ExecuteTime": {
     "end_time": "2020-05-21T06:44:16.191994Z",
     "start_time": "2020-05-21T06:44:16.184998Z"
    }
   },
   "outputs": [
    {
     "data": {
      "text/plain": [
       "[1, 3, 5, 7, 9, 11, 13, 15, 17, 19]"
      ]
     },
     "execution_count": 106,
     "metadata": {},
     "output_type": "execute_result"
    }
   ],
   "source": [
    "[i for i in range(20) if i%2==1]"
   ]
  },
  {
   "cell_type": "markdown",
   "metadata": {},
   "source": [
    "### ※ 문제179. 아래의 리스트의 데이터의 중복을 제거해서 결과를 출력하시오\n",
    "a=[1,1,2,2,3,3,3,4]\n",
    "[1,2,3,4]"
   ]
  },
  {
   "cell_type": "code",
   "execution_count": 117,
   "metadata": {
    "ExecuteTime": {
     "end_time": "2020-05-21T06:51:37.722269Z",
     "start_time": "2020-05-21T06:51:37.716273Z"
    }
   },
   "outputs": [
    {
     "data": {
      "text/plain": [
       "[1, 2, 3, 4]"
      ]
     },
     "execution_count": 117,
     "metadata": {},
     "output_type": "execute_result"
    }
   ],
   "source": [
    "a=[1,1,2,2,3,3,3,4]\n",
    "# comprehension 사용 안한 코드\n",
    "list(set(a))"
   ]
  },
  {
   "cell_type": "markdown",
   "metadata": {},
   "source": [
    "### ※ 문제180. set comprehension을 이용해서 위의 결과를 출력하시오"
   ]
  },
  {
   "cell_type": "code",
   "execution_count": 125,
   "metadata": {
    "ExecuteTime": {
     "end_time": "2020-05-21T06:53:47.657548Z",
     "start_time": "2020-05-21T06:53:47.651551Z"
    }
   },
   "outputs": [
    {
     "data": {
      "text/plain": [
       "[1, 2, 3, 4]"
      ]
     },
     "execution_count": 125,
     "metadata": {},
     "output_type": "execute_result"
    }
   ],
   "source": [
    "a=[1,1,2,2,3,3,3,4]\n",
    "# set comprehension\n",
    "list({i for i in a})"
   ]
  },
  {
   "cell_type": "markdown",
   "metadata": {
    "ExecuteTime": {
     "end_time": "2020-05-21T06:55:53.688294Z",
     "start_time": "2020-05-21T06:55:53.684296Z"
    }
   },
   "source": [
    "#### 3. dict comprehension\n",
    "```python\n",
    " {key : value for 요소 in 입력시퀀스 if 조건식}\n",
    "    ```"
   ]
  },
  {
   "cell_type": "code",
   "execution_count": 129,
   "metadata": {
    "ExecuteTime": {
     "end_time": "2020-05-21T06:58:47.746529Z",
     "start_time": "2020-05-21T06:58:47.740532Z"
    }
   },
   "outputs": [
    {
     "data": {
      "text/plain": [
       "{1: 'Kim', 2: 'Seojun', 3: 'Adrian', 4: 'Jeans'}"
      ]
     },
     "execution_count": 129,
     "metadata": {},
     "output_type": "execute_result"
    }
   ],
   "source": [
    "id_name={1:'Kim',2:'Seojun',3:'Adrian',4:'Jeans'}\n",
    "# print(type(id_name))\n",
    "a={key:val for key, val in id_name.items()}\n",
    "a"
   ]
  },
  {
   "cell_type": "markdown",
   "metadata": {},
   "source": [
    "#### * Pandas를 이용한 파생변수 추가(여러개의 문자로 추가하는 방법)"
   ]
  },
  {
   "cell_type": "markdown",
   "metadata": {},
   "source": [
    "### ※ 문제181. emp DF에 income이라는 파생변수를 추가하는데 월급이 3000이상이면 고소득자여서 h로 갱신되게 하고 월급이 3000보다 작으면 p로 갱신"
   ]
  },
  {
   "cell_type": "code",
   "execution_count": 133,
   "metadata": {
    "ExecuteTime": {
     "end_time": "2020-05-21T07:03:16.335533Z",
     "start_time": "2020-05-21T07:03:16.260558Z"
    }
   },
   "outputs": [
    {
     "data": {
      "text/html": [
       "<div>\n",
       "<style scoped>\n",
       "    .dataframe tbody tr th:only-of-type {\n",
       "        vertical-align: middle;\n",
       "    }\n",
       "\n",
       "    .dataframe tbody tr th {\n",
       "        vertical-align: top;\n",
       "    }\n",
       "\n",
       "    .dataframe thead th {\n",
       "        text-align: right;\n",
       "    }\n",
       "</style>\n",
       "<table border=\"1\" class=\"dataframe\">\n",
       "  <thead>\n",
       "    <tr style=\"text-align: right;\">\n",
       "      <th></th>\n",
       "      <th>EMPNO</th>\n",
       "      <th>ENAME</th>\n",
       "      <th>JOB</th>\n",
       "      <th>MGR</th>\n",
       "      <th>HIREDATE</th>\n",
       "      <th>SAL</th>\n",
       "      <th>COMM</th>\n",
       "      <th>DEPTNO</th>\n",
       "      <th>INCOME</th>\n",
       "    </tr>\n",
       "  </thead>\n",
       "  <tbody>\n",
       "    <tr>\n",
       "      <th>0</th>\n",
       "      <td>7839</td>\n",
       "      <td>KING</td>\n",
       "      <td>PRESIDENT</td>\n",
       "      <td>NaN</td>\n",
       "      <td>1981-11-17</td>\n",
       "      <td>5000.0</td>\n",
       "      <td>NaN</td>\n",
       "      <td>10</td>\n",
       "      <td>h</td>\n",
       "    </tr>\n",
       "    <tr>\n",
       "      <th>1</th>\n",
       "      <td>7698</td>\n",
       "      <td>BLAKE</td>\n",
       "      <td>MANAGER</td>\n",
       "      <td>7839.0</td>\n",
       "      <td>1981-05-01</td>\n",
       "      <td>2850.0</td>\n",
       "      <td>NaN</td>\n",
       "      <td>30</td>\n",
       "      <td>g</td>\n",
       "    </tr>\n",
       "    <tr>\n",
       "      <th>2</th>\n",
       "      <td>7782</td>\n",
       "      <td>CLARK</td>\n",
       "      <td>MANAGER</td>\n",
       "      <td>7839.0</td>\n",
       "      <td>1981-05-09</td>\n",
       "      <td>2450.0</td>\n",
       "      <td>NaN</td>\n",
       "      <td>10</td>\n",
       "      <td>g</td>\n",
       "    </tr>\n",
       "    <tr>\n",
       "      <th>3</th>\n",
       "      <td>7566</td>\n",
       "      <td>JONES</td>\n",
       "      <td>MANAGER</td>\n",
       "      <td>7839.0</td>\n",
       "      <td>1981-04-01</td>\n",
       "      <td>2975.0</td>\n",
       "      <td>NaN</td>\n",
       "      <td>20</td>\n",
       "      <td>g</td>\n",
       "    </tr>\n",
       "    <tr>\n",
       "      <th>4</th>\n",
       "      <td>7654</td>\n",
       "      <td>MARTIN</td>\n",
       "      <td>SALESMAN</td>\n",
       "      <td>7698.0</td>\n",
       "      <td>1981-09-10</td>\n",
       "      <td>1250.0</td>\n",
       "      <td>1400.0</td>\n",
       "      <td>30</td>\n",
       "      <td>g</td>\n",
       "    </tr>\n",
       "    <tr>\n",
       "      <th>5</th>\n",
       "      <td>7499</td>\n",
       "      <td>ALLEN</td>\n",
       "      <td>SALESMAN</td>\n",
       "      <td>7698.0</td>\n",
       "      <td>1981-02-11</td>\n",
       "      <td>1600.0</td>\n",
       "      <td>300.0</td>\n",
       "      <td>30</td>\n",
       "      <td>g</td>\n",
       "    </tr>\n",
       "    <tr>\n",
       "      <th>6</th>\n",
       "      <td>7844</td>\n",
       "      <td>TURNER</td>\n",
       "      <td>SALESMAN</td>\n",
       "      <td>7698.0</td>\n",
       "      <td>1981-08-21</td>\n",
       "      <td>1500.0</td>\n",
       "      <td>0.0</td>\n",
       "      <td>30</td>\n",
       "      <td>g</td>\n",
       "    </tr>\n",
       "    <tr>\n",
       "      <th>7</th>\n",
       "      <td>7900</td>\n",
       "      <td>JAMES</td>\n",
       "      <td>CLERK</td>\n",
       "      <td>7698.0</td>\n",
       "      <td>1981-12-11</td>\n",
       "      <td>950.0</td>\n",
       "      <td>NaN</td>\n",
       "      <td>30</td>\n",
       "      <td>g</td>\n",
       "    </tr>\n",
       "    <tr>\n",
       "      <th>8</th>\n",
       "      <td>7521</td>\n",
       "      <td>WARD</td>\n",
       "      <td>SALESMAN</td>\n",
       "      <td>7698.0</td>\n",
       "      <td>1981-02-23</td>\n",
       "      <td>1250.0</td>\n",
       "      <td>500.0</td>\n",
       "      <td>30</td>\n",
       "      <td>g</td>\n",
       "    </tr>\n",
       "    <tr>\n",
       "      <th>9</th>\n",
       "      <td>7902</td>\n",
       "      <td>FORD</td>\n",
       "      <td>ANALYST</td>\n",
       "      <td>7566.0</td>\n",
       "      <td>1981-12-11</td>\n",
       "      <td>3000.0</td>\n",
       "      <td>NaN</td>\n",
       "      <td>20</td>\n",
       "      <td>h</td>\n",
       "    </tr>\n",
       "    <tr>\n",
       "      <th>10</th>\n",
       "      <td>7369</td>\n",
       "      <td>SMITH</td>\n",
       "      <td>CLERK</td>\n",
       "      <td>7902.0</td>\n",
       "      <td>1980-12-09</td>\n",
       "      <td>800.0</td>\n",
       "      <td>NaN</td>\n",
       "      <td>20</td>\n",
       "      <td>g</td>\n",
       "    </tr>\n",
       "    <tr>\n",
       "      <th>11</th>\n",
       "      <td>7788</td>\n",
       "      <td>SCOTT</td>\n",
       "      <td>ANALYST</td>\n",
       "      <td>7566.0</td>\n",
       "      <td>1982-12-22</td>\n",
       "      <td>3000.0</td>\n",
       "      <td>NaN</td>\n",
       "      <td>20</td>\n",
       "      <td>h</td>\n",
       "    </tr>\n",
       "    <tr>\n",
       "      <th>12</th>\n",
       "      <td>7876</td>\n",
       "      <td>ADAMS</td>\n",
       "      <td>CLERK</td>\n",
       "      <td>7788.0</td>\n",
       "      <td>1983-01-15</td>\n",
       "      <td>1100.0</td>\n",
       "      <td>NaN</td>\n",
       "      <td>20</td>\n",
       "      <td>g</td>\n",
       "    </tr>\n",
       "    <tr>\n",
       "      <th>13</th>\n",
       "      <td>7934</td>\n",
       "      <td>MILLER</td>\n",
       "      <td>CLERK</td>\n",
       "      <td>7782.0</td>\n",
       "      <td>1982-01-11</td>\n",
       "      <td>1300.0</td>\n",
       "      <td>NaN</td>\n",
       "      <td>10</td>\n",
       "      <td>g</td>\n",
       "    </tr>\n",
       "  </tbody>\n",
       "</table>\n",
       "</div>"
      ],
      "text/plain": [
       "    EMPNO   ENAME        JOB     MGR   HIREDATE     SAL    COMM  DEPTNO INCOME\n",
       "0    7839    KING  PRESIDENT     NaN 1981-11-17  5000.0     NaN      10      h\n",
       "1    7698   BLAKE    MANAGER  7839.0 1981-05-01  2850.0     NaN      30      g\n",
       "2    7782   CLARK    MANAGER  7839.0 1981-05-09  2450.0     NaN      10      g\n",
       "3    7566   JONES    MANAGER  7839.0 1981-04-01  2975.0     NaN      20      g\n",
       "4    7654  MARTIN   SALESMAN  7698.0 1981-09-10  1250.0  1400.0      30      g\n",
       "5    7499   ALLEN   SALESMAN  7698.0 1981-02-11  1600.0   300.0      30      g\n",
       "6    7844  TURNER   SALESMAN  7698.0 1981-08-21  1500.0     0.0      30      g\n",
       "7    7900   JAMES      CLERK  7698.0 1981-12-11   950.0     NaN      30      g\n",
       "8    7521    WARD   SALESMAN  7698.0 1981-02-23  1250.0   500.0      30      g\n",
       "9    7902    FORD    ANALYST  7566.0 1981-12-11  3000.0     NaN      20      h\n",
       "10   7369   SMITH      CLERK  7902.0 1980-12-09   800.0     NaN      20      g\n",
       "11   7788   SCOTT    ANALYST  7566.0 1982-12-22  3000.0     NaN      20      h\n",
       "12   7876   ADAMS      CLERK  7788.0 1983-01-15  1100.0     NaN      20      g\n",
       "13   7934  MILLER      CLERK  7782.0 1982-01-11  1300.0     NaN      10      g"
      ]
     },
     "execution_count": 133,
     "metadata": {},
     "output_type": "execute_result"
    }
   ],
   "source": [
    "import numpy as np\n",
    "\n",
    "emp=oc.connect('emp')\n",
    "emp['INCOME']=np.where(emp['SAL']>=3000,'h','g')\n",
    "emp"
   ]
  },
  {
   "cell_type": "code",
   "execution_count": 134,
   "metadata": {
    "ExecuteTime": {
     "end_time": "2020-05-21T07:05:30.370145Z",
     "start_time": "2020-05-21T07:05:30.338165Z"
    }
   },
   "outputs": [
    {
     "name": "stdout",
     "output_type": "stream",
     "text": [
      "  Type Set   color\n",
      "0    A   Z  yellow\n",
      "1    B   Z    blue\n",
      "2    B   X  purple\n",
      "3    C   Y   black\n"
     ]
    }
   ],
   "source": [
    "df = pd.DataFrame({'Type':list('ABBC'), 'Set':list('ZZXY')})\n",
    "conditions = [\n",
    "    (df['Set'] == 'Z') & (df['Type'] == 'A'),\n",
    "    (df['Set'] == 'Z') & (df['Type'] == 'B'),\n",
    "    (df['Type'] == 'B')]\n",
    "choices = ['yellow', 'blue', 'purple']\n",
    "df['color'] = np.select(conditions, choices, default='black')\n",
    "\n",
    "print(df)"
   ]
  },
  {
   "cell_type": "markdown",
   "metadata": {},
   "source": [
    "### ※ 문제182. emp DF에 income2라는 파생변수를 추가하는데 아래와 같이 갱신되게 하시오\n",
    "```\n",
    "    월급 >= 3000 -> A\n",
    "    월급 >= 2000 -> B\n",
    "    월급 >= 1000 -> C\n",
    "    나머지 D\n",
    "```"
   ]
  },
  {
   "cell_type": "code",
   "execution_count": 140,
   "metadata": {
    "ExecuteTime": {
     "end_time": "2020-05-21T07:14:31.920697Z",
     "start_time": "2020-05-21T07:14:31.898709Z"
    }
   },
   "outputs": [
    {
     "data": {
      "text/html": [
       "<div>\n",
       "<style scoped>\n",
       "    .dataframe tbody tr th:only-of-type {\n",
       "        vertical-align: middle;\n",
       "    }\n",
       "\n",
       "    .dataframe tbody tr th {\n",
       "        vertical-align: top;\n",
       "    }\n",
       "\n",
       "    .dataframe thead th {\n",
       "        text-align: right;\n",
       "    }\n",
       "</style>\n",
       "<table border=\"1\" class=\"dataframe\">\n",
       "  <thead>\n",
       "    <tr style=\"text-align: right;\">\n",
       "      <th></th>\n",
       "      <th>EMPNO</th>\n",
       "      <th>ENAME</th>\n",
       "      <th>JOB</th>\n",
       "      <th>MGR</th>\n",
       "      <th>HIREDATE</th>\n",
       "      <th>SAL</th>\n",
       "      <th>COMM</th>\n",
       "      <th>DEPTNO</th>\n",
       "      <th>INCOME</th>\n",
       "      <th>INCOME2</th>\n",
       "    </tr>\n",
       "  </thead>\n",
       "  <tbody>\n",
       "    <tr>\n",
       "      <th>0</th>\n",
       "      <td>7839</td>\n",
       "      <td>KING</td>\n",
       "      <td>PRESIDENT</td>\n",
       "      <td>NaN</td>\n",
       "      <td>1981-11-17</td>\n",
       "      <td>5000.0</td>\n",
       "      <td>NaN</td>\n",
       "      <td>10</td>\n",
       "      <td>h</td>\n",
       "      <td>A</td>\n",
       "    </tr>\n",
       "    <tr>\n",
       "      <th>1</th>\n",
       "      <td>7698</td>\n",
       "      <td>BLAKE</td>\n",
       "      <td>MANAGER</td>\n",
       "      <td>7839.0</td>\n",
       "      <td>1981-05-01</td>\n",
       "      <td>2850.0</td>\n",
       "      <td>NaN</td>\n",
       "      <td>30</td>\n",
       "      <td>g</td>\n",
       "      <td>B</td>\n",
       "    </tr>\n",
       "    <tr>\n",
       "      <th>2</th>\n",
       "      <td>7782</td>\n",
       "      <td>CLARK</td>\n",
       "      <td>MANAGER</td>\n",
       "      <td>7839.0</td>\n",
       "      <td>1981-05-09</td>\n",
       "      <td>2450.0</td>\n",
       "      <td>NaN</td>\n",
       "      <td>10</td>\n",
       "      <td>g</td>\n",
       "      <td>B</td>\n",
       "    </tr>\n",
       "    <tr>\n",
       "      <th>3</th>\n",
       "      <td>7566</td>\n",
       "      <td>JONES</td>\n",
       "      <td>MANAGER</td>\n",
       "      <td>7839.0</td>\n",
       "      <td>1981-04-01</td>\n",
       "      <td>2975.0</td>\n",
       "      <td>NaN</td>\n",
       "      <td>20</td>\n",
       "      <td>g</td>\n",
       "      <td>B</td>\n",
       "    </tr>\n",
       "    <tr>\n",
       "      <th>4</th>\n",
       "      <td>7654</td>\n",
       "      <td>MARTIN</td>\n",
       "      <td>SALESMAN</td>\n",
       "      <td>7698.0</td>\n",
       "      <td>1981-09-10</td>\n",
       "      <td>1250.0</td>\n",
       "      <td>1400.0</td>\n",
       "      <td>30</td>\n",
       "      <td>g</td>\n",
       "      <td>C</td>\n",
       "    </tr>\n",
       "    <tr>\n",
       "      <th>5</th>\n",
       "      <td>7499</td>\n",
       "      <td>ALLEN</td>\n",
       "      <td>SALESMAN</td>\n",
       "      <td>7698.0</td>\n",
       "      <td>1981-02-11</td>\n",
       "      <td>1600.0</td>\n",
       "      <td>300.0</td>\n",
       "      <td>30</td>\n",
       "      <td>g</td>\n",
       "      <td>C</td>\n",
       "    </tr>\n",
       "    <tr>\n",
       "      <th>6</th>\n",
       "      <td>7844</td>\n",
       "      <td>TURNER</td>\n",
       "      <td>SALESMAN</td>\n",
       "      <td>7698.0</td>\n",
       "      <td>1981-08-21</td>\n",
       "      <td>1500.0</td>\n",
       "      <td>0.0</td>\n",
       "      <td>30</td>\n",
       "      <td>g</td>\n",
       "      <td>C</td>\n",
       "    </tr>\n",
       "    <tr>\n",
       "      <th>7</th>\n",
       "      <td>7900</td>\n",
       "      <td>JAMES</td>\n",
       "      <td>CLERK</td>\n",
       "      <td>7698.0</td>\n",
       "      <td>1981-12-11</td>\n",
       "      <td>950.0</td>\n",
       "      <td>NaN</td>\n",
       "      <td>30</td>\n",
       "      <td>g</td>\n",
       "      <td>D</td>\n",
       "    </tr>\n",
       "    <tr>\n",
       "      <th>8</th>\n",
       "      <td>7521</td>\n",
       "      <td>WARD</td>\n",
       "      <td>SALESMAN</td>\n",
       "      <td>7698.0</td>\n",
       "      <td>1981-02-23</td>\n",
       "      <td>1250.0</td>\n",
       "      <td>500.0</td>\n",
       "      <td>30</td>\n",
       "      <td>g</td>\n",
       "      <td>C</td>\n",
       "    </tr>\n",
       "    <tr>\n",
       "      <th>9</th>\n",
       "      <td>7902</td>\n",
       "      <td>FORD</td>\n",
       "      <td>ANALYST</td>\n",
       "      <td>7566.0</td>\n",
       "      <td>1981-12-11</td>\n",
       "      <td>3000.0</td>\n",
       "      <td>NaN</td>\n",
       "      <td>20</td>\n",
       "      <td>h</td>\n",
       "      <td>A</td>\n",
       "    </tr>\n",
       "    <tr>\n",
       "      <th>10</th>\n",
       "      <td>7369</td>\n",
       "      <td>SMITH</td>\n",
       "      <td>CLERK</td>\n",
       "      <td>7902.0</td>\n",
       "      <td>1980-12-09</td>\n",
       "      <td>800.0</td>\n",
       "      <td>NaN</td>\n",
       "      <td>20</td>\n",
       "      <td>g</td>\n",
       "      <td>D</td>\n",
       "    </tr>\n",
       "    <tr>\n",
       "      <th>11</th>\n",
       "      <td>7788</td>\n",
       "      <td>SCOTT</td>\n",
       "      <td>ANALYST</td>\n",
       "      <td>7566.0</td>\n",
       "      <td>1982-12-22</td>\n",
       "      <td>3000.0</td>\n",
       "      <td>NaN</td>\n",
       "      <td>20</td>\n",
       "      <td>h</td>\n",
       "      <td>A</td>\n",
       "    </tr>\n",
       "    <tr>\n",
       "      <th>12</th>\n",
       "      <td>7876</td>\n",
       "      <td>ADAMS</td>\n",
       "      <td>CLERK</td>\n",
       "      <td>7788.0</td>\n",
       "      <td>1983-01-15</td>\n",
       "      <td>1100.0</td>\n",
       "      <td>NaN</td>\n",
       "      <td>20</td>\n",
       "      <td>g</td>\n",
       "      <td>C</td>\n",
       "    </tr>\n",
       "    <tr>\n",
       "      <th>13</th>\n",
       "      <td>7934</td>\n",
       "      <td>MILLER</td>\n",
       "      <td>CLERK</td>\n",
       "      <td>7782.0</td>\n",
       "      <td>1982-01-11</td>\n",
       "      <td>1300.0</td>\n",
       "      <td>NaN</td>\n",
       "      <td>10</td>\n",
       "      <td>g</td>\n",
       "      <td>C</td>\n",
       "    </tr>\n",
       "  </tbody>\n",
       "</table>\n",
       "</div>"
      ],
      "text/plain": [
       "    EMPNO   ENAME        JOB     MGR   HIREDATE     SAL    COMM  DEPTNO  \\\n",
       "0    7839    KING  PRESIDENT     NaN 1981-11-17  5000.0     NaN      10   \n",
       "1    7698   BLAKE    MANAGER  7839.0 1981-05-01  2850.0     NaN      30   \n",
       "2    7782   CLARK    MANAGER  7839.0 1981-05-09  2450.0     NaN      10   \n",
       "3    7566   JONES    MANAGER  7839.0 1981-04-01  2975.0     NaN      20   \n",
       "4    7654  MARTIN   SALESMAN  7698.0 1981-09-10  1250.0  1400.0      30   \n",
       "5    7499   ALLEN   SALESMAN  7698.0 1981-02-11  1600.0   300.0      30   \n",
       "6    7844  TURNER   SALESMAN  7698.0 1981-08-21  1500.0     0.0      30   \n",
       "7    7900   JAMES      CLERK  7698.0 1981-12-11   950.0     NaN      30   \n",
       "8    7521    WARD   SALESMAN  7698.0 1981-02-23  1250.0   500.0      30   \n",
       "9    7902    FORD    ANALYST  7566.0 1981-12-11  3000.0     NaN      20   \n",
       "10   7369   SMITH      CLERK  7902.0 1980-12-09   800.0     NaN      20   \n",
       "11   7788   SCOTT    ANALYST  7566.0 1982-12-22  3000.0     NaN      20   \n",
       "12   7876   ADAMS      CLERK  7788.0 1983-01-15  1100.0     NaN      20   \n",
       "13   7934  MILLER      CLERK  7782.0 1982-01-11  1300.0     NaN      10   \n",
       "\n",
       "   INCOME INCOME2  \n",
       "0       h       A  \n",
       "1       g       B  \n",
       "2       g       B  \n",
       "3       g       B  \n",
       "4       g       C  \n",
       "5       g       C  \n",
       "6       g       C  \n",
       "7       g       D  \n",
       "8       g       C  \n",
       "9       h       A  \n",
       "10      g       D  \n",
       "11      h       A  \n",
       "12      g       C  \n",
       "13      g       C  "
      ]
     },
     "execution_count": 140,
     "metadata": {},
     "output_type": "execute_result"
    }
   ],
   "source": [
    "condition=[\n",
    "    (emp['SAL']>=3000),\n",
    "    (emp['SAL']>=2000) & (emp['SAL']<3000),\n",
    "    (emp['SAL']>=1000) & (emp['SAL']<2000),\n",
    "    ]\n",
    "grade=['A','B','C']\n",
    "emp['INCOME2']=np.select(condition, grade,default='D')\n",
    "emp"
   ]
  },
  {
   "cell_type": "markdown",
   "metadata": {},
   "source": [
    "### ■ 예제84. 문자열이 알파벳인지 검사하기(isalpha)\n",
    "#### 문자열은 문자나 숫자, 기호들로 구성. \n",
    "#### 코드를 작성하다 보면 특정 문자열이 한글이나 알파벳과 같이 사람의 언어를 표현하기 위해 사용되는 문자로만 구성되어 있는지 확인할 경우가 있다.\n",
    "#### 파이썬 문자열 객체가 제공하는 method인 isalpha()는 주어진 문자열이 사람의 언어 문자로만 구성되어 있는지 확인"
   ]
  },
  {
   "cell_type": "code",
   "execution_count": 142,
   "metadata": {
    "ExecuteTime": {
     "end_time": "2020-05-21T07:21:07.841100Z",
     "start_time": "2020-05-21T07:21:07.835103Z"
    }
   },
   "outputs": [
    {
     "name": "stdout",
     "output_type": "stream",
     "text": [
      "False\n",
      "True\n",
      "False\n"
     ]
    }
   ],
   "source": [
    "# 예제. \n",
    "txt1='Warcraft three'\n",
    "txt2='안녕'\n",
    "txt3='3PO'\n",
    "print(txt1.isalpha())\n",
    "print(txt2.isalpha())\n",
    "print(txt3.isalpha())"
   ]
  },
  {
   "cell_type": "markdown",
   "metadata": {},
   "source": [
    "### ※ 문제183. 겨울왕국 대본에는 알파벳 문자의 개수가 몇 개 인가?"
   ]
  },
  {
   "cell_type": "code",
   "execution_count": 150,
   "metadata": {
    "ExecuteTime": {
     "end_time": "2020-05-21T07:27:33.613859Z",
     "start_time": "2020-05-21T07:27:33.594871Z"
    }
   },
   "outputs": [
    {
     "data": {
      "text/plain": [
       "82180"
      ]
     },
     "execution_count": 150,
     "metadata": {},
     "output_type": "execute_result"
    }
   ],
   "source": [
    "txt_file=open('k:/Itwill/2. Python/자료/winter.txt')\n",
    "lines=txt_file.readlines()\n",
    "sum([k.isalpha() for i in lines for k in i])"
   ]
  },
  {
   "cell_type": "code",
   "execution_count": null,
   "metadata": {},
   "outputs": [],
   "source": []
  },
  {
   "cell_type": "code",
   "execution_count": 1,
   "metadata": {
    "ExecuteTime": {
     "end_time": "2020-05-21T07:44:23.752793Z",
     "start_time": "2020-05-21T07:44:22.866754Z"
    }
   },
   "outputs": [
    {
     "data": {
      "image/png": "[encoded data removed]",
      "text/plain": [
       "<Figure size 432x288 with 1 Axes>"
      ]
     },
     "metadata": {
      "needs_background": "light"
     },
     "output_type": "display_data"
    }
   ],
   "source": [
    "from scipy.stats import norm\n",
    "import numpy as np\n",
    "import matplotlib.pyplot as plt\n",
    "\n",
    "# 정규분포 그리기\n",
    "x= np.arange(120,180,0.001)\n",
    "y = norm.pdf(x,148.5,7.8) \n",
    "plt.plot(x, y, color=\"red\") \n",
    "\n",
    "# P-value 시각화 (상한)\n",
    "x1 = np.arange(160,180,0.001)\n",
    "y1 = norm.pdf(x1,148.5, 7.8)\n",
    "plt.fill_between(x1, y1, interpolate=True, color='Orange', alpha=0.5)\n",
    "\n",
    "# 검정 통계량값이 기각역에 있는 표시\n",
    "plt.scatter(165, 0,  c='red', alpha=0.9)\n",
    "\n",
    "plt.show()"
   ]
  },
  {
   "cell_type": "markdown",
   "metadata": {},
   "source": [
    "### ※ (오늘의 마지막문제)(파이썬 알고리즘 문제 31번) 오늘 점심시간 문제에 위의 코드를 이용해서 시각화도 같이 출력되게 하시오"
   ]
  },
  {
   "cell_type": "code",
   "execution_count": 1,
   "metadata": {
    "ExecuteTime": {
     "end_time": "2020-05-21T08:20:41.495547Z",
     "start_time": "2020-05-21T08:20:40.683813Z"
    }
   },
   "outputs": [
    {
     "name": "stdout",
     "output_type": "stream",
     "text": [
      "신뢰구간 95% 안에 존재하지 않습니다.\n"
     ]
    },
    {
     "data": {
      "image/png": "[encoded data removed]",
      "text/plain": [
       "<Figure size 432x288 with 1 Axes>"
      ]
     },
     "metadata": {
      "needs_background": "light"
     },
     "output_type": "display_data"
    }
   ],
   "source": [
    "def child_tall(n):\n",
    "    import numpy as np\n",
    "    from scipy.stats import norm\n",
    "    import matplotlib.pyplot as plt\n",
    "\n",
    "    x=np.arange(120,180,0.001)\n",
    "    y=norm.pdf(x,148.5,7.8) # 평균 148.5, 표준편차 7.8\n",
    "    a1=148.5+1.96*7.8\n",
    "    a2=148.5-1.96*7.8\n",
    "    plt.plot(x,y,color='red')\n",
    "    plt.fill_between(x, y, where= (x>a2) & (x<a1), interpolate=True, color='green', alpha=0.5)\n",
    "    \n",
    "    x1=np.arange(148.5+7.8*1.96,180,0.001)\n",
    "    y1=norm.pdf(x1,148.5,7.8)\n",
    "\n",
    "    plt.fill_between(x1, y1, where= (x1<a2) | (x1>a1), color='orange', alpha=0.5)\n",
    "    plt.scatter(n,0,c='r',alpha=0.8)\n",
    "    \n",
    "    if abs(148.5-n)<1.96*7.8:\n",
    "        return '신뢰구간 95% 안에 존재합니다.'\n",
    "    else:\n",
    "        return '신뢰구간 95% 안에 존재하지 않습니다.'\n",
    "    \n",
    "print(child_tall(178))   "
   ]
  },
  {
   "cell_type": "code",
   "execution_count": null,
   "metadata": {},
   "outputs": [],
   "source": []
  },
  {
   "cell_type": "code",
   "execution_count": null,
   "metadata": {},
   "outputs": [],
   "source": []
  }
 ],
 "metadata": {
  "kernelspec": {
   "display_name": "Python 3",
   "language": "python",
   "name": "python3"
  },
  "language_info": {
   "codemirror_mode": {
    "name": "ipython",
    "version": 3
   },
   "file_extension": ".py",
   "mimetype": "text/x-python",
   "name": "python",
   "nbconvert_exporter": "python",
   "pygments_lexer": "ipython3",
   "version": "3.7.6"
  },
  "varInspector": {
   "cols": {
    "lenName": 16,
    "lenType": 16,
    "lenVar": 40
   },
   "kernels_config": {
    "python": {
     "delete_cmd_postfix": "",
     "delete_cmd_prefix": "del ",
     "library": "var_list.py",
     "varRefreshCmd": "print(var_dic_list())"
    },
    "r": {
     "delete_cmd_postfix": ") ",
     "delete_cmd_prefix": "rm(",
     "library": "var_list.r",
     "varRefreshCmd": "cat(var_dic_list()) "
    }
   },
   "types_to_exclude": [
    "module",
    "function",
    "builtin_function_or_method",
    "instance",
    "_Feature"
   ],
   "window_display": false
  }
 },
 "nbformat": 4,
 "nbformat_minor": 4
}
