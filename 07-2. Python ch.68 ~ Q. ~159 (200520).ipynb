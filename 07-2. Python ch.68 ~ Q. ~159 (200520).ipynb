{
 "cells": [
  {
   "cell_type": "markdown",
   "metadata": {},
   "source": [
    "### *Pandas를 이용해서 순위를 출력하는 방법\n",
    "```sql\n",
    "select ename, sal, rank() over (order by sal desc) 순위\n",
    "    from emp;\n",
    "    ```\n",
    "*Pandas를 이용해서 파생변수 생성하는 방법 (column추가)   \n",
    "```python\n",
    "import pandas as pd\n",
    "emp=pd.read_csv('k:/Itwill/2. Python/자료/emp3.csv')\n",
    "\n",
    "emp['rnk']=emp['sal'].rank(ascending=False).apply(int)\n",
    "emp\n",
    "```"
   ]
  },
  {
   "cell_type": "code",
   "execution_count": 11,
   "metadata": {
    "ExecuteTime": {
     "end_time": "2020-05-20T04:56:21.645019Z",
     "start_time": "2020-05-20T04:56:21.621035Z"
    }
   },
   "outputs": [
    {
     "data": {
      "text/html": [
       "<div>\n",
       "<style scoped>\n",
       "    .dataframe tbody tr th:only-of-type {\n",
       "        vertical-align: middle;\n",
       "    }\n",
       "\n",
       "    .dataframe tbody tr th {\n",
       "        vertical-align: top;\n",
       "    }\n",
       "\n",
       "    .dataframe thead th {\n",
       "        text-align: right;\n",
       "    }\n",
       "</style>\n",
       "<table border=\"1\" class=\"dataframe\">\n",
       "  <thead>\n",
       "    <tr style=\"text-align: right;\">\n",
       "      <th></th>\n",
       "      <th>index</th>\n",
       "      <th>empno</th>\n",
       "      <th>ename</th>\n",
       "      <th>job</th>\n",
       "      <th>mgr</th>\n",
       "      <th>hiredate</th>\n",
       "      <th>sal</th>\n",
       "      <th>comm</th>\n",
       "      <th>deptno</th>\n",
       "      <th>rnk</th>\n",
       "    </tr>\n",
       "  </thead>\n",
       "  <tbody>\n",
       "    <tr>\n",
       "      <th>0</th>\n",
       "      <td>1</td>\n",
       "      <td>7839</td>\n",
       "      <td>KING</td>\n",
       "      <td>PRESIDENT</td>\n",
       "      <td>NaN</td>\n",
       "      <td>1981-11-17 0:00</td>\n",
       "      <td>5000</td>\n",
       "      <td>NaN</td>\n",
       "      <td>10</td>\n",
       "      <td>1</td>\n",
       "    </tr>\n",
       "    <tr>\n",
       "      <th>9</th>\n",
       "      <td>10</td>\n",
       "      <td>7902</td>\n",
       "      <td>FORD</td>\n",
       "      <td>ANALYST</td>\n",
       "      <td>7566.0</td>\n",
       "      <td>1981-12-11 0:00</td>\n",
       "      <td>3000</td>\n",
       "      <td>NaN</td>\n",
       "      <td>20</td>\n",
       "      <td>2</td>\n",
       "    </tr>\n",
       "    <tr>\n",
       "      <th>11</th>\n",
       "      <td>12</td>\n",
       "      <td>7788</td>\n",
       "      <td>SCOTT</td>\n",
       "      <td>ANALYST</td>\n",
       "      <td>7566.0</td>\n",
       "      <td>1982-12-22 0:00</td>\n",
       "      <td>3000</td>\n",
       "      <td>NaN</td>\n",
       "      <td>20</td>\n",
       "      <td>2</td>\n",
       "    </tr>\n",
       "    <tr>\n",
       "      <th>3</th>\n",
       "      <td>4</td>\n",
       "      <td>7566</td>\n",
       "      <td>JONES</td>\n",
       "      <td>MANAGER</td>\n",
       "      <td>7839.0</td>\n",
       "      <td>1981-04-01 0:00</td>\n",
       "      <td>2975</td>\n",
       "      <td>NaN</td>\n",
       "      <td>20</td>\n",
       "      <td>4</td>\n",
       "    </tr>\n",
       "    <tr>\n",
       "      <th>1</th>\n",
       "      <td>2</td>\n",
       "      <td>7698</td>\n",
       "      <td>BLAKE</td>\n",
       "      <td>MANAGER</td>\n",
       "      <td>7839.0</td>\n",
       "      <td>1981-05-01 0:00</td>\n",
       "      <td>2850</td>\n",
       "      <td>NaN</td>\n",
       "      <td>30</td>\n",
       "      <td>5</td>\n",
       "    </tr>\n",
       "    <tr>\n",
       "      <th>2</th>\n",
       "      <td>3</td>\n",
       "      <td>7782</td>\n",
       "      <td>CLARK</td>\n",
       "      <td>MANAGER</td>\n",
       "      <td>7839.0</td>\n",
       "      <td>1981-05-09 0:00</td>\n",
       "      <td>2450</td>\n",
       "      <td>NaN</td>\n",
       "      <td>10</td>\n",
       "      <td>6</td>\n",
       "    </tr>\n",
       "    <tr>\n",
       "      <th>5</th>\n",
       "      <td>6</td>\n",
       "      <td>7499</td>\n",
       "      <td>ALLEN</td>\n",
       "      <td>SALESMAN</td>\n",
       "      <td>7698.0</td>\n",
       "      <td>1981-02-11 0:00</td>\n",
       "      <td>1600</td>\n",
       "      <td>300.0</td>\n",
       "      <td>30</td>\n",
       "      <td>7</td>\n",
       "    </tr>\n",
       "    <tr>\n",
       "      <th>6</th>\n",
       "      <td>7</td>\n",
       "      <td>7844</td>\n",
       "      <td>TURNER</td>\n",
       "      <td>SALESMAN</td>\n",
       "      <td>7698.0</td>\n",
       "      <td>1981-08-21 0:00</td>\n",
       "      <td>1500</td>\n",
       "      <td>0.0</td>\n",
       "      <td>30</td>\n",
       "      <td>8</td>\n",
       "    </tr>\n",
       "    <tr>\n",
       "      <th>13</th>\n",
       "      <td>14</td>\n",
       "      <td>7934</td>\n",
       "      <td>MILLER</td>\n",
       "      <td>CLERK</td>\n",
       "      <td>7782.0</td>\n",
       "      <td>1982-01-11 0:00</td>\n",
       "      <td>1300</td>\n",
       "      <td>NaN</td>\n",
       "      <td>10</td>\n",
       "      <td>9</td>\n",
       "    </tr>\n",
       "    <tr>\n",
       "      <th>4</th>\n",
       "      <td>5</td>\n",
       "      <td>7654</td>\n",
       "      <td>MARTIN</td>\n",
       "      <td>SALESMAN</td>\n",
       "      <td>7698.0</td>\n",
       "      <td>1981-09-10 0:00</td>\n",
       "      <td>1250</td>\n",
       "      <td>1400.0</td>\n",
       "      <td>30</td>\n",
       "      <td>10</td>\n",
       "    </tr>\n",
       "    <tr>\n",
       "      <th>8</th>\n",
       "      <td>9</td>\n",
       "      <td>7521</td>\n",
       "      <td>WARD</td>\n",
       "      <td>SALESMAN</td>\n",
       "      <td>7698.0</td>\n",
       "      <td>1981-02-23 0:00</td>\n",
       "      <td>1250</td>\n",
       "      <td>500.0</td>\n",
       "      <td>30</td>\n",
       "      <td>10</td>\n",
       "    </tr>\n",
       "    <tr>\n",
       "      <th>12</th>\n",
       "      <td>13</td>\n",
       "      <td>7876</td>\n",
       "      <td>ADAMS</td>\n",
       "      <td>CLERK</td>\n",
       "      <td>7788.0</td>\n",
       "      <td>1983-01-15 0:00</td>\n",
       "      <td>1100</td>\n",
       "      <td>NaN</td>\n",
       "      <td>20</td>\n",
       "      <td>12</td>\n",
       "    </tr>\n",
       "    <tr>\n",
       "      <th>7</th>\n",
       "      <td>8</td>\n",
       "      <td>7900</td>\n",
       "      <td>JAMES</td>\n",
       "      <td>CLERK</td>\n",
       "      <td>7698.0</td>\n",
       "      <td>1981-12-11 0:00</td>\n",
       "      <td>950</td>\n",
       "      <td>NaN</td>\n",
       "      <td>30</td>\n",
       "      <td>13</td>\n",
       "    </tr>\n",
       "    <tr>\n",
       "      <th>10</th>\n",
       "      <td>11</td>\n",
       "      <td>7369</td>\n",
       "      <td>SMITH</td>\n",
       "      <td>CLERK</td>\n",
       "      <td>7902.0</td>\n",
       "      <td>1980-12-09 0:00</td>\n",
       "      <td>800</td>\n",
       "      <td>NaN</td>\n",
       "      <td>20</td>\n",
       "      <td>14</td>\n",
       "    </tr>\n",
       "  </tbody>\n",
       "</table>\n",
       "</div>"
      ],
      "text/plain": [
       "    index  empno   ename        job     mgr         hiredate   sal    comm  \\\n",
       "0       1   7839    KING  PRESIDENT     NaN  1981-11-17 0:00  5000     NaN   \n",
       "9      10   7902    FORD    ANALYST  7566.0  1981-12-11 0:00  3000     NaN   \n",
       "11     12   7788   SCOTT    ANALYST  7566.0  1982-12-22 0:00  3000     NaN   \n",
       "3       4   7566   JONES    MANAGER  7839.0  1981-04-01 0:00  2975     NaN   \n",
       "1       2   7698   BLAKE    MANAGER  7839.0  1981-05-01 0:00  2850     NaN   \n",
       "2       3   7782   CLARK    MANAGER  7839.0  1981-05-09 0:00  2450     NaN   \n",
       "5       6   7499   ALLEN   SALESMAN  7698.0  1981-02-11 0:00  1600   300.0   \n",
       "6       7   7844  TURNER   SALESMAN  7698.0  1981-08-21 0:00  1500     0.0   \n",
       "13     14   7934  MILLER      CLERK  7782.0  1982-01-11 0:00  1300     NaN   \n",
       "4       5   7654  MARTIN   SALESMAN  7698.0  1981-09-10 0:00  1250  1400.0   \n",
       "8       9   7521    WARD   SALESMAN  7698.0  1981-02-23 0:00  1250   500.0   \n",
       "12     13   7876   ADAMS      CLERK  7788.0  1983-01-15 0:00  1100     NaN   \n",
       "7       8   7900   JAMES      CLERK  7698.0  1981-12-11 0:00   950     NaN   \n",
       "10     11   7369   SMITH      CLERK  7902.0  1980-12-09 0:00   800     NaN   \n",
       "\n",
       "    deptno  rnk  \n",
       "0       10    1  \n",
       "9       20    2  \n",
       "11      20    2  \n",
       "3       20    4  \n",
       "1       30    5  \n",
       "2       10    6  \n",
       "5       30    7  \n",
       "6       30    8  \n",
       "13      10    9  \n",
       "4       30   10  \n",
       "8       30   10  \n",
       "12      20   12  \n",
       "7       30   13  \n",
       "10      20   14  "
      ]
     },
     "execution_count": 11,
     "metadata": {},
     "output_type": "execute_result"
    }
   ],
   "source": [
    "import pandas as pd\n",
    "emp=pd.read_csv('k:/Itwill/2. Python/자료/emp3.csv')\n",
    "\n",
    "emp['rnk']=emp['sal'].rank(ascending=False).apply(int)\n",
    "emp.sort_values('rnk',ascending=True) # 순위를 1등부터 나오게 정렬"
   ]
  },
  {
   "cell_type": "markdown",
   "metadata": {},
   "source": [
    "### ※ 문제150. 아래의 SQL을 Pandas로 구현하시오\n",
    "```sql\n",
    "select ename, sal, job, rank() over (order by sal desc)\n",
    "    from emp\n",
    "    where job='SALESMAN';\n",
    "    ```"
   ]
  },
  {
   "cell_type": "code",
   "execution_count": 13,
   "metadata": {
    "ExecuteTime": {
     "end_time": "2020-05-20T05:00:53.104683Z",
     "start_time": "2020-05-20T05:00:53.089694Z"
    }
   },
   "outputs": [
    {
     "data": {
      "text/html": [
       "<div>\n",
       "<style scoped>\n",
       "    .dataframe tbody tr th:only-of-type {\n",
       "        vertical-align: middle;\n",
       "    }\n",
       "\n",
       "    .dataframe tbody tr th {\n",
       "        vertical-align: top;\n",
       "    }\n",
       "\n",
       "    .dataframe thead th {\n",
       "        text-align: right;\n",
       "    }\n",
       "</style>\n",
       "<table border=\"1\" class=\"dataframe\">\n",
       "  <thead>\n",
       "    <tr style=\"text-align: right;\">\n",
       "      <th></th>\n",
       "      <th>ename</th>\n",
       "      <th>sal</th>\n",
       "      <th>job</th>\n",
       "      <th>rank</th>\n",
       "    </tr>\n",
       "  </thead>\n",
       "  <tbody>\n",
       "    <tr>\n",
       "      <th>5</th>\n",
       "      <td>ALLEN</td>\n",
       "      <td>1600</td>\n",
       "      <td>SALESMAN</td>\n",
       "      <td>1</td>\n",
       "    </tr>\n",
       "    <tr>\n",
       "      <th>6</th>\n",
       "      <td>TURNER</td>\n",
       "      <td>1500</td>\n",
       "      <td>SALESMAN</td>\n",
       "      <td>2</td>\n",
       "    </tr>\n",
       "    <tr>\n",
       "      <th>4</th>\n",
       "      <td>MARTIN</td>\n",
       "      <td>1250</td>\n",
       "      <td>SALESMAN</td>\n",
       "      <td>3</td>\n",
       "    </tr>\n",
       "    <tr>\n",
       "      <th>8</th>\n",
       "      <td>WARD</td>\n",
       "      <td>1250</td>\n",
       "      <td>SALESMAN</td>\n",
       "      <td>3</td>\n",
       "    </tr>\n",
       "  </tbody>\n",
       "</table>\n",
       "</div>"
      ],
      "text/plain": [
       "    ename   sal       job  rank\n",
       "5   ALLEN  1600  SALESMAN     1\n",
       "6  TURNER  1500  SALESMAN     2\n",
       "4  MARTIN  1250  SALESMAN     3\n",
       "8    WARD  1250  SALESMAN     3"
      ]
     },
     "execution_count": 13,
     "metadata": {},
     "output_type": "execute_result"
    }
   ],
   "source": [
    "result=emp[['ename','sal','job']][emp['job']=='SALESMAN']\n",
    "result['rank']=result['sal'].rank(ascending=False).apply(int)\n",
    "result.sort_values('rank',ascending=True)"
   ]
  },
  {
   "cell_type": "markdown",
   "metadata": {},
   "source": [
    "### ※ 문제151. 아래의 SQL을 판다스로 구현하시오\n",
    "```sql\n",
    "select deptno, job, sum(sal)\n",
    "    from emp\n",
    "    group by deptno, job;\n",
    "    ```"
   ]
  },
  {
   "cell_type": "code",
   "execution_count": 47,
   "metadata": {
    "ExecuteTime": {
     "end_time": "2020-05-20T05:16:47.641942Z",
     "start_time": "2020-05-20T05:16:47.619955Z"
    }
   },
   "outputs": [
    {
     "data": {
      "text/html": [
       "<div>\n",
       "<style scoped>\n",
       "    .dataframe tbody tr th:only-of-type {\n",
       "        vertical-align: middle;\n",
       "    }\n",
       "\n",
       "    .dataframe tbody tr th {\n",
       "        vertical-align: top;\n",
       "    }\n",
       "\n",
       "    .dataframe thead th {\n",
       "        text-align: right;\n",
       "    }\n",
       "</style>\n",
       "<table border=\"1\" class=\"dataframe\">\n",
       "  <thead>\n",
       "    <tr style=\"text-align: right;\">\n",
       "      <th></th>\n",
       "      <th>deptno</th>\n",
       "      <th>job</th>\n",
       "      <th>sal</th>\n",
       "    </tr>\n",
       "  </thead>\n",
       "  <tbody>\n",
       "    <tr>\n",
       "      <th>0</th>\n",
       "      <td>10</td>\n",
       "      <td>CLERK</td>\n",
       "      <td>1300</td>\n",
       "    </tr>\n",
       "    <tr>\n",
       "      <th>1</th>\n",
       "      <td>10</td>\n",
       "      <td>MANAGER</td>\n",
       "      <td>2450</td>\n",
       "    </tr>\n",
       "    <tr>\n",
       "      <th>2</th>\n",
       "      <td>10</td>\n",
       "      <td>PRESIDENT</td>\n",
       "      <td>5000</td>\n",
       "    </tr>\n",
       "    <tr>\n",
       "      <th>3</th>\n",
       "      <td>20</td>\n",
       "      <td>ANALYST</td>\n",
       "      <td>6000</td>\n",
       "    </tr>\n",
       "    <tr>\n",
       "      <th>4</th>\n",
       "      <td>20</td>\n",
       "      <td>CLERK</td>\n",
       "      <td>1900</td>\n",
       "    </tr>\n",
       "    <tr>\n",
       "      <th>5</th>\n",
       "      <td>20</td>\n",
       "      <td>MANAGER</td>\n",
       "      <td>2975</td>\n",
       "    </tr>\n",
       "    <tr>\n",
       "      <th>6</th>\n",
       "      <td>30</td>\n",
       "      <td>CLERK</td>\n",
       "      <td>950</td>\n",
       "    </tr>\n",
       "    <tr>\n",
       "      <th>7</th>\n",
       "      <td>30</td>\n",
       "      <td>MANAGER</td>\n",
       "      <td>2850</td>\n",
       "    </tr>\n",
       "    <tr>\n",
       "      <th>8</th>\n",
       "      <td>30</td>\n",
       "      <td>SALESMAN</td>\n",
       "      <td>5600</td>\n",
       "    </tr>\n",
       "  </tbody>\n",
       "</table>\n",
       "</div>"
      ],
      "text/plain": [
       "   deptno        job   sal\n",
       "0      10      CLERK  1300\n",
       "1      10    MANAGER  2450\n",
       "2      10  PRESIDENT  5000\n",
       "3      20    ANALYST  6000\n",
       "4      20      CLERK  1900\n",
       "5      20    MANAGER  2975\n",
       "6      30      CLERK   950\n",
       "7      30    MANAGER  2850\n",
       "8      30   SALESMAN  5600"
      ]
     },
     "execution_count": 47,
     "metadata": {},
     "output_type": "execute_result"
    }
   ],
   "source": [
    "import pandas as pd\n",
    "emp=pd.read_csv('k:/Itwill/2. Python/자료/emp3.csv')\n",
    "emp2=emp.groupby(['deptno','job'])['sal'].sum().reset_index()\n",
    "emp2.sort_values(['deptno','job'])"
   ]
  },
  {
   "cell_type": "markdown",
   "metadata": {},
   "source": [
    "### ※ 문제152. 위에 출력된 column명 sal이 한글로 토탈월급으로 출력되게 하시오"
   ]
  },
  {
   "cell_type": "code",
   "execution_count": 49,
   "metadata": {
    "ExecuteTime": {
     "end_time": "2020-05-20T05:17:56.058947Z",
     "start_time": "2020-05-20T05:17:56.043955Z"
    }
   },
   "outputs": [
    {
     "data": {
      "text/html": [
       "<div>\n",
       "<style scoped>\n",
       "    .dataframe tbody tr th:only-of-type {\n",
       "        vertical-align: middle;\n",
       "    }\n",
       "\n",
       "    .dataframe tbody tr th {\n",
       "        vertical-align: top;\n",
       "    }\n",
       "\n",
       "    .dataframe thead th {\n",
       "        text-align: right;\n",
       "    }\n",
       "</style>\n",
       "<table border=\"1\" class=\"dataframe\">\n",
       "  <thead>\n",
       "    <tr style=\"text-align: right;\">\n",
       "      <th></th>\n",
       "      <th>deptno</th>\n",
       "      <th>job</th>\n",
       "      <th>토탈월급</th>\n",
       "    </tr>\n",
       "  </thead>\n",
       "  <tbody>\n",
       "    <tr>\n",
       "      <th>0</th>\n",
       "      <td>10</td>\n",
       "      <td>CLERK</td>\n",
       "      <td>1300</td>\n",
       "    </tr>\n",
       "    <tr>\n",
       "      <th>1</th>\n",
       "      <td>10</td>\n",
       "      <td>MANAGER</td>\n",
       "      <td>2450</td>\n",
       "    </tr>\n",
       "    <tr>\n",
       "      <th>2</th>\n",
       "      <td>10</td>\n",
       "      <td>PRESIDENT</td>\n",
       "      <td>5000</td>\n",
       "    </tr>\n",
       "    <tr>\n",
       "      <th>3</th>\n",
       "      <td>20</td>\n",
       "      <td>ANALYST</td>\n",
       "      <td>6000</td>\n",
       "    </tr>\n",
       "    <tr>\n",
       "      <th>4</th>\n",
       "      <td>20</td>\n",
       "      <td>CLERK</td>\n",
       "      <td>1900</td>\n",
       "    </tr>\n",
       "    <tr>\n",
       "      <th>5</th>\n",
       "      <td>20</td>\n",
       "      <td>MANAGER</td>\n",
       "      <td>2975</td>\n",
       "    </tr>\n",
       "    <tr>\n",
       "      <th>6</th>\n",
       "      <td>30</td>\n",
       "      <td>CLERK</td>\n",
       "      <td>950</td>\n",
       "    </tr>\n",
       "    <tr>\n",
       "      <th>7</th>\n",
       "      <td>30</td>\n",
       "      <td>MANAGER</td>\n",
       "      <td>2850</td>\n",
       "    </tr>\n",
       "    <tr>\n",
       "      <th>8</th>\n",
       "      <td>30</td>\n",
       "      <td>SALESMAN</td>\n",
       "      <td>5600</td>\n",
       "    </tr>\n",
       "  </tbody>\n",
       "</table>\n",
       "</div>"
      ],
      "text/plain": [
       "   deptno        job  토탈월급\n",
       "0      10      CLERK  1300\n",
       "1      10    MANAGER  2450\n",
       "2      10  PRESIDENT  5000\n",
       "3      20    ANALYST  6000\n",
       "4      20      CLERK  1900\n",
       "5      20    MANAGER  2975\n",
       "6      30      CLERK   950\n",
       "7      30    MANAGER  2850\n",
       "8      30   SALESMAN  5600"
      ]
     },
     "execution_count": 49,
     "metadata": {},
     "output_type": "execute_result"
    }
   ],
   "source": [
    "emp2=emp.groupby(['deptno','job'])['sal'].sum().reset_index()\n",
    "emp2.columns.values[2]='토탈월급'\n",
    "emp2"
   ]
  },
  {
   "cell_type": "markdown",
   "metadata": {},
   "source": [
    "### ※ 문제153. 아래의 SQL을 Pandas로 구현하시오\n",
    "```sql\n",
    "select job, sum(sal)\n",
    "    from emp\n",
    "    group by job\n",
    "    having sum(sal) >= 6000\n",
    "    order by sum(sal) desc;\n",
    "    ```"
   ]
  },
  {
   "cell_type": "code",
   "execution_count": 50,
   "metadata": {
    "ExecuteTime": {
     "end_time": "2020-05-20T05:21:59.705949Z",
     "start_time": "2020-05-20T05:21:59.689960Z"
    }
   },
   "outputs": [
    {
     "data": {
      "text/html": [
       "<div>\n",
       "<style scoped>\n",
       "    .dataframe tbody tr th:only-of-type {\n",
       "        vertical-align: middle;\n",
       "    }\n",
       "\n",
       "    .dataframe tbody tr th {\n",
       "        vertical-align: top;\n",
       "    }\n",
       "\n",
       "    .dataframe thead th {\n",
       "        text-align: right;\n",
       "    }\n",
       "</style>\n",
       "<table border=\"1\" class=\"dataframe\">\n",
       "  <thead>\n",
       "    <tr style=\"text-align: right;\">\n",
       "      <th></th>\n",
       "      <th>job</th>\n",
       "      <th>sal</th>\n",
       "    </tr>\n",
       "  </thead>\n",
       "  <tbody>\n",
       "    <tr>\n",
       "      <th>2</th>\n",
       "      <td>MANAGER</td>\n",
       "      <td>8275</td>\n",
       "    </tr>\n",
       "    <tr>\n",
       "      <th>0</th>\n",
       "      <td>ANALYST</td>\n",
       "      <td>6000</td>\n",
       "    </tr>\n",
       "  </tbody>\n",
       "</table>\n",
       "</div>"
      ],
      "text/plain": [
       "       job   sal\n",
       "2  MANAGER  8275\n",
       "0  ANALYST  6000"
      ]
     },
     "execution_count": 50,
     "metadata": {},
     "output_type": "execute_result"
    }
   ],
   "source": [
    "emp2=emp.groupby('job')['sal'].sum().reset_index()\n",
    "emp3=emp2[['job','sal']][emp2['sal']>=6000].sort_values('sal',ascending=False)\n",
    "emp3"
   ]
  },
  {
   "cell_type": "markdown",
   "metadata": {},
   "source": [
    "### ■ 예제68. 반올림수 구하기(round)\n",
    "#### 파이썬 내장함수 round()는 인자로 입력된 수치형 자릿수에서 반올림한 결과를 리턴"
   ]
  },
  {
   "cell_type": "code",
   "execution_count": 54,
   "metadata": {
    "ExecuteTime": {
     "end_time": "2020-05-20T05:48:49.202230Z",
     "start_time": "2020-05-20T05:48:49.196232Z"
    }
   },
   "outputs": [
    {
     "name": "stdout",
     "output_type": "stream",
     "text": [
      "17\n",
      "17.0\n",
      "16.6\n",
      "16.55\n",
      "142\n"
     ]
    }
   ],
   "source": [
    "# 예제\n",
    "print(round(16.554)) # 첫째자리에서 반올림\n",
    "print(round(16.554,0))\n",
    "print(round(16.554,1)) # 둘째자리에서 반올림 16.6\n",
    "print(round(16.554,2)) # 셋째자리에서 반올림 16.55\n",
    "\n",
    "print(round(142.5)) # 142 출력"
   ]
  },
  {
   "cell_type": "markdown",
   "metadata": {},
   "source": [
    "#### R과 파이썬은 짝수를 좋아함\n",
    "    142.5 ---------> 142\n",
    "    187.5 ---------> 188\n",
    "    2    <-    2.5          3\n",
    "    7          7.5    ->    8\n",
    "#### 파이썬은 기본적으로 이것을 해결하는 함수가 없다.\n",
    "0.5일 때는 짝수를 좋아하게끔 반올림되고 0.51일 때는 반올림된다"
   ]
  },
  {
   "cell_type": "markdown",
   "metadata": {},
   "source": [
    "### ■ 예제69. 실수형 자료를 정수형 자료로 변환하기(int())\n",
    "- 파이썬의 변환 함수 정리\n",
    "```\n",
    "                데이터 유형       변환함수\n",
    "    - 정수형        int            int()\n",
    "    - 문자형        str            str()\n",
    "    - 실수형        float          float()\n",
    "    - 리스트형      list           list()\n",
    "    - 튜플형        tuple          tuple()\n",
    "```"
   ]
  },
  {
   "cell_type": "markdown",
   "metadata": {},
   "source": [
    "#### 코드 작성시 수학 연산을 하다보면 정수끼리만 계산해야하는 경우가 있는데 데이터가 실수형이라면 정수형으로 변환 후 계산\n",
    "#### 파이썬 내장함수 int()는 인자로 입력된 실수형 자료를 정수형 자료로 변환\n",
    "#### int()는 입력된 실수형 자료의 소수부분은 버리고 정수부분만 취하여 정수값으로 리턴"
   ]
  },
  {
   "cell_type": "code",
   "execution_count": 55,
   "metadata": {
    "ExecuteTime": {
     "end_time": "2020-05-20T05:57:27.939840Z",
     "start_time": "2020-05-20T05:57:27.934842Z"
    }
   },
   "outputs": [
    {
     "name": "stdout",
     "output_type": "stream",
     "text": [
      "-5\n"
     ]
    }
   ],
   "source": [
    "# 예제\n",
    "print(int(-5.4))"
   ]
  },
  {
   "cell_type": "markdown",
   "metadata": {},
   "source": [
    "### ※ 문제154. 이름, 월급을 출력하는데 월급을 출력할 때 소숫점 이하가 나오게 하시오"
   ]
  },
  {
   "cell_type": "code",
   "execution_count": 67,
   "metadata": {
    "ExecuteTime": {
     "end_time": "2020-05-20T06:03:48.201621Z",
     "start_time": "2020-05-20T06:03:48.189628Z"
    }
   },
   "outputs": [
    {
     "data": {
      "text/html": [
       "<div>\n",
       "<style scoped>\n",
       "    .dataframe tbody tr th:only-of-type {\n",
       "        vertical-align: middle;\n",
       "    }\n",
       "\n",
       "    .dataframe tbody tr th {\n",
       "        vertical-align: top;\n",
       "    }\n",
       "\n",
       "    .dataframe thead th {\n",
       "        text-align: right;\n",
       "    }\n",
       "</style>\n",
       "<table border=\"1\" class=\"dataframe\">\n",
       "  <thead>\n",
       "    <tr style=\"text-align: right;\">\n",
       "      <th></th>\n",
       "      <th>ename</th>\n",
       "      <th>sal</th>\n",
       "    </tr>\n",
       "  </thead>\n",
       "  <tbody>\n",
       "    <tr>\n",
       "      <th>0</th>\n",
       "      <td>KING</td>\n",
       "      <td>5000.0</td>\n",
       "    </tr>\n",
       "    <tr>\n",
       "      <th>1</th>\n",
       "      <td>BLAKE</td>\n",
       "      <td>2850.0</td>\n",
       "    </tr>\n",
       "    <tr>\n",
       "      <th>2</th>\n",
       "      <td>CLARK</td>\n",
       "      <td>2450.0</td>\n",
       "    </tr>\n",
       "    <tr>\n",
       "      <th>3</th>\n",
       "      <td>JONES</td>\n",
       "      <td>2975.0</td>\n",
       "    </tr>\n",
       "    <tr>\n",
       "      <th>4</th>\n",
       "      <td>MARTIN</td>\n",
       "      <td>1250.0</td>\n",
       "    </tr>\n",
       "    <tr>\n",
       "      <th>5</th>\n",
       "      <td>ALLEN</td>\n",
       "      <td>1600.0</td>\n",
       "    </tr>\n",
       "    <tr>\n",
       "      <th>6</th>\n",
       "      <td>TURNER</td>\n",
       "      <td>1500.0</td>\n",
       "    </tr>\n",
       "    <tr>\n",
       "      <th>7</th>\n",
       "      <td>JAMES</td>\n",
       "      <td>950.0</td>\n",
       "    </tr>\n",
       "    <tr>\n",
       "      <th>8</th>\n",
       "      <td>WARD</td>\n",
       "      <td>1250.0</td>\n",
       "    </tr>\n",
       "    <tr>\n",
       "      <th>9</th>\n",
       "      <td>FORD</td>\n",
       "      <td>3000.0</td>\n",
       "    </tr>\n",
       "    <tr>\n",
       "      <th>10</th>\n",
       "      <td>SMITH</td>\n",
       "      <td>800.0</td>\n",
       "    </tr>\n",
       "    <tr>\n",
       "      <th>11</th>\n",
       "      <td>SCOTT</td>\n",
       "      <td>3000.0</td>\n",
       "    </tr>\n",
       "    <tr>\n",
       "      <th>12</th>\n",
       "      <td>ADAMS</td>\n",
       "      <td>1100.0</td>\n",
       "    </tr>\n",
       "    <tr>\n",
       "      <th>13</th>\n",
       "      <td>MILLER</td>\n",
       "      <td>1300.0</td>\n",
       "    </tr>\n",
       "  </tbody>\n",
       "</table>\n",
       "</div>"
      ],
      "text/plain": [
       "     ename     sal\n",
       "0     KING  5000.0\n",
       "1    BLAKE  2850.0\n",
       "2    CLARK  2450.0\n",
       "3    JONES  2975.0\n",
       "4   MARTIN  1250.0\n",
       "5    ALLEN  1600.0\n",
       "6   TURNER  1500.0\n",
       "7    JAMES   950.0\n",
       "8     WARD  1250.0\n",
       "9     FORD  3000.0\n",
       "10   SMITH   800.0\n",
       "11   SCOTT  3000.0\n",
       "12   ADAMS  1100.0\n",
       "13  MILLER  1300.0"
      ]
     },
     "execution_count": 67,
     "metadata": {},
     "output_type": "execute_result"
    }
   ],
   "source": [
    "emp['sal']=emp['sal'].apply(float)\n",
    "emp[['ename','sal']]"
   ]
  },
  {
   "cell_type": "markdown",
   "metadata": {},
   "source": [
    "### ■ 예제70. 정수형 자료를 실수형 자료로 변환하기(float)\n",
    "#### 이미지 처리나 공학용 프로그램을 작성할 때 실수형 끼리만 계산해야하는 경우가 많다\n",
    "#### 데이터가 정수형이라면 정수형 자료를 실수형 자료로 변환한 후에 계산\n",
    "#### 파이썬 내장함수 float()은 인자로 입력된 정수형 자료를 실수형으로 변환"
   ]
  },
  {
   "cell_type": "code",
   "execution_count": 69,
   "metadata": {
    "ExecuteTime": {
     "end_time": "2020-05-20T06:06:33.410219Z",
     "start_time": "2020-05-20T06:06:33.407221Z"
    }
   },
   "outputs": [
    {
     "name": "stdout",
     "output_type": "stream",
     "text": [
      "10.0\n"
     ]
    }
   ],
   "source": [
    "# 예제\n",
    "print(float(10))"
   ]
  },
  {
   "cell_type": "markdown",
   "metadata": {},
   "source": [
    "### ※ 문제155. a=['1','2','3','4'] 리스트를 전부 숫자로 출력되게 하시오"
   ]
  },
  {
   "cell_type": "code",
   "execution_count": 73,
   "metadata": {
    "ExecuteTime": {
     "end_time": "2020-05-20T06:09:57.631781Z",
     "start_time": "2020-05-20T06:09:57.626784Z"
    }
   },
   "outputs": [
    {
     "name": "stdout",
     "output_type": "stream",
     "text": [
      "[1, 2, 3, 4]\n"
     ]
    }
   ],
   "source": [
    "a=['1','2','3','4']\n",
    "for i in range(len(a)):\n",
    "    a[i]=int(a[i])\n",
    "print(a)    "
   ]
  },
  {
   "cell_type": "code",
   "execution_count": 74,
   "metadata": {
    "ExecuteTime": {
     "end_time": "2020-05-20T06:15:10.649869Z",
     "start_time": "2020-05-20T06:15:10.644873Z"
    }
   },
   "outputs": [
    {
     "data": {
      "text/plain": [
       "[1, 2, 3, 4]"
      ]
     },
     "execution_count": 74,
     "metadata": {},
     "output_type": "execute_result"
    }
   ],
   "source": [
    "a=['1','2','3','4']\n",
    "list(map(int,a)) # a list의 요소를 하나씩 int() 적용"
   ]
  },
  {
   "cell_type": "markdown",
   "metadata": {},
   "source": [
    "### ※ 문제156. 아래의 리스트를 아래의 리스트로 변환하시오\n",
    "    a=[1,2,3,4] -> a=['1','2','3','4']"
   ]
  },
  {
   "cell_type": "code",
   "execution_count": 75,
   "metadata": {
    "ExecuteTime": {
     "end_time": "2020-05-20T06:17:15.414101Z",
     "start_time": "2020-05-20T06:17:15.409105Z"
    }
   },
   "outputs": [
    {
     "name": "stdout",
     "output_type": "stream",
     "text": [
      "['1', '2', '3', '4']\n"
     ]
    }
   ],
   "source": [
    "a=[1,2,3,4]\n",
    "for i in range(len(a)):\n",
    "    a[i]=str(a[i])\n",
    "print(a)  "
   ]
  },
  {
   "cell_type": "code",
   "execution_count": 76,
   "metadata": {
    "ExecuteTime": {
     "end_time": "2020-05-20T06:17:26.758666Z",
     "start_time": "2020-05-20T06:17:26.754667Z"
    }
   },
   "outputs": [
    {
     "data": {
      "text/plain": [
       "['1', '2', '3', '4']"
      ]
     },
     "execution_count": 76,
     "metadata": {},
     "output_type": "execute_result"
    }
   ],
   "source": [
    "a=[1,2,3,4]\n",
    "list(map(str,a))"
   ]
  },
  {
   "cell_type": "markdown",
   "metadata": {},
   "source": [
    "### ■ 예제71. 정수형 리스트에서 짝수만 걸러내기(filter)\n",
    "#### 파이썬 내장함수인 filter()는 리스트와 같이 반복 가능한 자료에서 특정 조건을 만족하는 값 만을 편리하게 추출할 수 있는 방법을 제공\n",
    "```python\n",
    "filter(param1,param2)\n",
    "    param1 : 특정 조건의 값을 추출하는 함수 입력\n",
    "    param2 : 리스트와 같이 반복 가능한 자료가 입력\n",
    "        ```\n",
    "#### 예제 : 숫자를 입력, 짝수이면 리턴, 홀수이면 값을 리턴하지 않는 함수를 get_even이라는 이름으로 생성"
   ]
  },
  {
   "cell_type": "code",
   "execution_count": 77,
   "metadata": {
    "ExecuteTime": {
     "end_time": "2020-05-20T06:22:11.714198Z",
     "start_time": "2020-05-20T06:22:11.709201Z"
    }
   },
   "outputs": [],
   "source": [
    "def get_even(n):\n",
    "    if n%2==0:\n",
    "        return n\n",
    "    else:\n",
    "        return\n"
   ]
  },
  {
   "cell_type": "code",
   "execution_count": 79,
   "metadata": {
    "ExecuteTime": {
     "end_time": "2020-05-20T06:22:26.846501Z",
     "start_time": "2020-05-20T06:22:26.841505Z"
    }
   },
   "outputs": [
    {
     "name": "stdout",
     "output_type": "stream",
     "text": [
      "None\n",
      "10\n"
     ]
    }
   ],
   "source": [
    "print(get_even(3))\n",
    "print(get_even(10))"
   ]
  },
  {
   "cell_type": "code",
   "execution_count": 83,
   "metadata": {
    "ExecuteTime": {
     "end_time": "2020-05-20T06:24:57.614828Z",
     "start_time": "2020-05-20T06:24:57.608833Z"
    }
   },
   "outputs": [
    {
     "data": {
      "text/plain": [
       "[2, 4, 6, 8, 10]"
      ]
     },
     "execution_count": 83,
     "metadata": {},
     "output_type": "execute_result"
    }
   ],
   "source": [
    "listdata=[1,2,3,4,5,6,7,8,9,10]\n",
    "result=filter(get_even,listdata)\n",
    "               #함수    처리해야할 리스트\n",
    "list(result)"
   ]
  },
  {
   "cell_type": "markdown",
   "metadata": {},
   "source": [
    "### ※ 문제157. 아래의 리스트에서 홀수만 추출하시오\n",
    "```\n",
    "listdata=[1,2,3,4,5,6,7,8,9,10]\n",
    "```"
   ]
  },
  {
   "cell_type": "code",
   "execution_count": 88,
   "metadata": {
    "ExecuteTime": {
     "end_time": "2020-05-20T06:44:27.887878Z",
     "start_time": "2020-05-20T06:44:27.880882Z"
    }
   },
   "outputs": [
    {
     "data": {
      "text/plain": [
       "[1, 3, 5, 7, 9]"
      ]
     },
     "execution_count": 88,
     "metadata": {},
     "output_type": "execute_result"
    }
   ],
   "source": [
    "def get_odd(n):\n",
    "    if n%2==1:\n",
    "        return n\n",
    "    else:\n",
    "        return\n",
    "listdata=[1,2,3,4,5,6,7,8,9,10]\n",
    "list(filter(get_odd, listdata))"
   ]
  },
  {
   "cell_type": "markdown",
   "metadata": {},
   "source": [
    "### ※ 문제158. (파이썬 알고리즘 문제 29) 아래의 리스트에서 소수만 걸러내시오\n",
    "```\n",
    "listdata=[1,2,3,4,5,6,7,8,9,10]\n",
    "```"
   ]
  },
  {
   "cell_type": "code",
   "execution_count": 122,
   "metadata": {
    "ExecuteTime": {
     "end_time": "2020-05-20T07:06:15.531682Z",
     "start_time": "2020-05-20T07:06:15.523687Z"
    }
   },
   "outputs": [
    {
     "data": {
      "text/plain": [
       "[2, 3, 5, 7]"
      ]
     },
     "execution_count": 122,
     "metadata": {},
     "output_type": "execute_result"
    }
   ],
   "source": [
    "def get_prime(n):\n",
    "    cnt=0\n",
    "    for i in range(1,n+1):\n",
    "        if n%i==0:\n",
    "            cnt += 1\n",
    "    if cnt==2:\n",
    "        return n\n",
    "    else:\n",
    "        return \n",
    "listdata=[1,2,3,4,5,6,7,8,9,10]\n",
    "list(filter(get_prime, listdata))"
   ]
  },
  {
   "cell_type": "code",
   "execution_count": 121,
   "metadata": {
    "ExecuteTime": {
     "end_time": "2020-05-20T07:05:35.619386Z",
     "start_time": "2020-05-20T07:05:35.616388Z"
    }
   },
   "outputs": [],
   "source": [
    "get_prime(8)"
   ]
  },
  {
   "cell_type": "markdown",
   "metadata": {},
   "source": [
    "### ■ 예제72. 최댓값, 최솟값 구하기(max,min)\n",
    "#### max(), min()은 인자로 입력된 자료에서 최대, 최솟값을 구해주는 함수\n",
    "#### max()와 min()의 인자로 리스트와 같은 시퀀스 자료가 입력되면 시퀀스 자료의 요소 가운데 최댓값 또는 최솟값을 구하여 리턴\n",
    "```\n",
    "         오라클       vs       파이썬\n",
    "          max                  max\n",
    "          min                  min\n",
    "          count                len\n",
    "          sum                  sum\n",
    "          avg                  mean\n",
    "          ```"
   ]
  },
  {
   "cell_type": "code",
   "execution_count": 123,
   "metadata": {
    "ExecuteTime": {
     "end_time": "2020-05-20T07:08:21.068138Z",
     "start_time": "2020-05-20T07:08:21.063141Z"
    }
   },
   "outputs": [
    {
     "data": {
      "text/plain": [
       "55"
      ]
     },
     "execution_count": 123,
     "metadata": {},
     "output_type": "execute_result"
    }
   ],
   "source": [
    "# 예제\n",
    "listdata=[8,7,12,55,21,34,15,9,22]\n",
    "max(listdata)"
   ]
  },
  {
   "cell_type": "markdown",
   "metadata": {},
   "source": [
    "### ※ 문제159. 우리반 테이블을 Pandas의 DataFrame을 만들고 통신사를 뽑고 통신사별 최대 나이를 출력"
   ]
  },
  {
   "cell_type": "code",
   "execution_count": 127,
   "metadata": {
    "ExecuteTime": {
     "end_time": "2020-05-20T07:12:39.434528Z",
     "start_time": "2020-05-20T07:12:39.418538Z"
    }
   },
   "outputs": [
    {
     "data": {
      "text/html": [
       "<div>\n",
       "<style scoped>\n",
       "    .dataframe tbody tr th:only-of-type {\n",
       "        vertical-align: middle;\n",
       "    }\n",
       "\n",
       "    .dataframe tbody tr th {\n",
       "        vertical-align: top;\n",
       "    }\n",
       "\n",
       "    .dataframe thead th {\n",
       "        text-align: right;\n",
       "    }\n",
       "</style>\n",
       "<table border=\"1\" class=\"dataframe\">\n",
       "  <thead>\n",
       "    <tr style=\"text-align: right;\">\n",
       "      <th></th>\n",
       "      <th>telecom</th>\n",
       "      <th>age</th>\n",
       "    </tr>\n",
       "  </thead>\n",
       "  <tbody>\n",
       "    <tr>\n",
       "      <th>0</th>\n",
       "      <td>kt</td>\n",
       "      <td>31</td>\n",
       "    </tr>\n",
       "    <tr>\n",
       "      <th>1</th>\n",
       "      <td>lg</td>\n",
       "      <td>28</td>\n",
       "    </tr>\n",
       "    <tr>\n",
       "      <th>2</th>\n",
       "      <td>sk</td>\n",
       "      <td>35</td>\n",
       "    </tr>\n",
       "  </tbody>\n",
       "</table>\n",
       "</div>"
      ],
      "text/plain": [
       "  telecom  age\n",
       "0      kt   31\n",
       "1      lg   28\n",
       "2      sk   35"
      ]
     },
     "execution_count": 127,
     "metadata": {},
     "output_type": "execute_result"
    }
   ],
   "source": [
    "import pandas as pd\n",
    "emp11=pd.read_csv('k:/Itwill/2. Python/자료/emp11.csv')\n",
    "rs=emp11[['telecom','age']]\n",
    "rs1=rs.groupby('telecom')['age'].max().reset_index()\n",
    "rs1"
   ]
  },
  {
   "cell_type": "code",
   "execution_count": 132,
   "metadata": {
    "ExecuteTime": {
     "end_time": "2020-05-20T07:48:44.674017Z",
     "start_time": "2020-05-20T07:48:44.566084Z"
    }
   },
   "outputs": [
    {
     "data": {
      "text/html": [
       "<div>\n",
       "<style scoped>\n",
       "    .dataframe tbody tr th:only-of-type {\n",
       "        vertical-align: middle;\n",
       "    }\n",
       "\n",
       "    .dataframe tbody tr th {\n",
       "        vertical-align: top;\n",
       "    }\n",
       "\n",
       "    .dataframe thead th {\n",
       "        text-align: right;\n",
       "    }\n",
       "</style>\n",
       "<table border=\"1\" class=\"dataframe\">\n",
       "  <thead>\n",
       "    <tr style=\"text-align: right;\">\n",
       "      <th></th>\n",
       "      <th>empno</th>\n",
       "      <th>ename</th>\n",
       "      <th>birth</th>\n",
       "      <th>age</th>\n",
       "      <th>telecom</th>\n",
       "      <th>major</th>\n",
       "      <th>address</th>\n",
       "      <th>email</th>\n",
       "      <th>t_price</th>\n",
       "    </tr>\n",
       "  </thead>\n",
       "  <tbody>\n",
       "    <tr>\n",
       "      <th>0</th>\n",
       "      <td>9</td>\n",
       "      <td>양선종</td>\n",
       "      <td>94/07/26</td>\n",
       "      <td>27</td>\n",
       "      <td>kt</td>\n",
       "      <td>전자공학</td>\n",
       "      <td>서울특별시 강남구 역삼동</td>\n",
       "      <td>cloudstrifey@naver.com</td>\n",
       "      <td>16500</td>\n",
       "    </tr>\n",
       "    <tr>\n",
       "      <th>1</th>\n",
       "      <td>2</td>\n",
       "      <td>박민호</td>\n",
       "      <td>94/08/21</td>\n",
       "      <td>27</td>\n",
       "      <td>kt</td>\n",
       "      <td>전자공학과</td>\n",
       "      <td>서울시 노원구 상계동</td>\n",
       "      <td>qkdkralsgh@naver.com</td>\n",
       "      <td>16500</td>\n",
       "    </tr>\n",
       "    <tr>\n",
       "      <th>2</th>\n",
       "      <td>7</td>\n",
       "      <td>강혜리</td>\n",
       "      <td>90/05/20</td>\n",
       "      <td>31</td>\n",
       "      <td>sk</td>\n",
       "      <td>광고홍보학과</td>\n",
       "      <td>서울시 노원구 공릉동</td>\n",
       "      <td>hyeri520@gmail.com</td>\n",
       "      <td>18000</td>\n",
       "    </tr>\n",
       "    <tr>\n",
       "      <th>3</th>\n",
       "      <td>17</td>\n",
       "      <td>위주희</td>\n",
       "      <td>86/08/19</td>\n",
       "      <td>35</td>\n",
       "      <td>sk</td>\n",
       "      <td>Forensic</td>\n",
       "      <td>서울시 강동구 상일동</td>\n",
       "      <td>wejuhee@gmail.com</td>\n",
       "      <td>18000</td>\n",
       "    </tr>\n",
       "    <tr>\n",
       "      <th>4</th>\n",
       "      <td>22</td>\n",
       "      <td>김유진</td>\n",
       "      <td>90/08/10</td>\n",
       "      <td>31</td>\n",
       "      <td>kt</td>\n",
       "      <td>국제회의통역</td>\n",
       "      <td>서울시 강동구 천호동</td>\n",
       "      <td>eujin2030@gmail.com</td>\n",
       "      <td>16500</td>\n",
       "    </tr>\n",
       "    <tr>\n",
       "      <th>5</th>\n",
       "      <td>10</td>\n",
       "      <td>김명환</td>\n",
       "      <td>94/01/07</td>\n",
       "      <td>27</td>\n",
       "      <td>kt</td>\n",
       "      <td>산공</td>\n",
       "      <td>경기도 수원시 율천동</td>\n",
       "      <td>kimmh6017@gmail.com</td>\n",
       "      <td>16500</td>\n",
       "    </tr>\n",
       "    <tr>\n",
       "      <th>6</th>\n",
       "      <td>3</td>\n",
       "      <td>최민혁</td>\n",
       "      <td>89/07/26</td>\n",
       "      <td>32</td>\n",
       "      <td>sk</td>\n",
       "      <td>방사선학과</td>\n",
       "      <td>서울시은평구</td>\n",
       "      <td>check5657@hanmail.net</td>\n",
       "      <td>18000</td>\n",
       "    </tr>\n",
       "    <tr>\n",
       "      <th>7</th>\n",
       "      <td>5</td>\n",
       "      <td>최유리</td>\n",
       "      <td>96/12/10</td>\n",
       "      <td>25</td>\n",
       "      <td>sk</td>\n",
       "      <td>통계학과</td>\n",
       "      <td>서울시 강서구 내발산동</td>\n",
       "      <td>gowrasd@naver.com</td>\n",
       "      <td>18000</td>\n",
       "    </tr>\n",
       "    <tr>\n",
       "      <th>8</th>\n",
       "      <td>1</td>\n",
       "      <td>김태환</td>\n",
       "      <td>89/08/17</td>\n",
       "      <td>32</td>\n",
       "      <td>sk</td>\n",
       "      <td>전자전기학과</td>\n",
       "      <td>경기도 하남시 풍산동</td>\n",
       "      <td>taewhan7725@gmail.com</td>\n",
       "      <td>18000</td>\n",
       "    </tr>\n",
       "    <tr>\n",
       "      <th>9</th>\n",
       "      <td>23</td>\n",
       "      <td>김지석</td>\n",
       "      <td>93/08/25</td>\n",
       "      <td>28</td>\n",
       "      <td>lg</td>\n",
       "      <td>신학과</td>\n",
       "      <td>경기도 평택시 지산동</td>\n",
       "      <td>yng1240@naver.com</td>\n",
       "      <td>17000</td>\n",
       "    </tr>\n",
       "    <tr>\n",
       "      <th>10</th>\n",
       "      <td>8</td>\n",
       "      <td>서동혁</td>\n",
       "      <td>95/09/29</td>\n",
       "      <td>26</td>\n",
       "      <td>sk</td>\n",
       "      <td>통계학과</td>\n",
       "      <td>서울시 강남구</td>\n",
       "      <td>tjehdgur0929@naver.com</td>\n",
       "      <td>18000</td>\n",
       "    </tr>\n",
       "    <tr>\n",
       "      <th>11</th>\n",
       "      <td>29</td>\n",
       "      <td>한태현</td>\n",
       "      <td>91/12/21</td>\n",
       "      <td>30</td>\n",
       "      <td>sk</td>\n",
       "      <td>행정학과</td>\n",
       "      <td>서울시 송파구 풍납동</td>\n",
       "      <td>thhan1@hanmail.net</td>\n",
       "      <td>18000</td>\n",
       "    </tr>\n",
       "    <tr>\n",
       "      <th>12</th>\n",
       "      <td>27</td>\n",
       "      <td>김서준</td>\n",
       "      <td>87/02/18</td>\n",
       "      <td>34</td>\n",
       "      <td>sk</td>\n",
       "      <td>수학</td>\n",
       "      <td>경기도 용인시 수지구</td>\n",
       "      <td>seojun.a.kim@gmail.com</td>\n",
       "      <td>18000</td>\n",
       "    </tr>\n",
       "    <tr>\n",
       "      <th>13</th>\n",
       "      <td>6</td>\n",
       "      <td>이준호</td>\n",
       "      <td>93/06/21</td>\n",
       "      <td>28</td>\n",
       "      <td>lg</td>\n",
       "      <td>경영학과</td>\n",
       "      <td>경기도 군포시 산본동</td>\n",
       "      <td>junho621@gmail.com</td>\n",
       "      <td>17000</td>\n",
       "    </tr>\n",
       "    <tr>\n",
       "      <th>14</th>\n",
       "      <td>16</td>\n",
       "      <td>조성원</td>\n",
       "      <td>89/02/09</td>\n",
       "      <td>32</td>\n",
       "      <td>sk</td>\n",
       "      <td>금융위험관리</td>\n",
       "      <td>서울특별시 광진구 자양동</td>\n",
       "      <td>seongwoncho2@gmail.com</td>\n",
       "      <td>18000</td>\n",
       "    </tr>\n",
       "    <tr>\n",
       "      <th>15</th>\n",
       "      <td>24</td>\n",
       "      <td>김은주</td>\n",
       "      <td>95/01/04</td>\n",
       "      <td>27</td>\n",
       "      <td>sk</td>\n",
       "      <td>디자인과</td>\n",
       "      <td>경기도 용인시 기흥구</td>\n",
       "      <td>dmswn0691@naver.com</td>\n",
       "      <td>18000</td>\n",
       "    </tr>\n",
       "    <tr>\n",
       "      <th>16</th>\n",
       "      <td>11</td>\n",
       "      <td>박상희</td>\n",
       "      <td>96/06/10</td>\n",
       "      <td>25</td>\n",
       "      <td>kt</td>\n",
       "      <td>컴퓨터공학과</td>\n",
       "      <td>경기도 용인시</td>\n",
       "      <td>estherp@naver.com</td>\n",
       "      <td>16500</td>\n",
       "    </tr>\n",
       "    <tr>\n",
       "      <th>17</th>\n",
       "      <td>12</td>\n",
       "      <td>조원기</td>\n",
       "      <td>95/11/09</td>\n",
       "      <td>26</td>\n",
       "      <td>sk</td>\n",
       "      <td>정보통신공학</td>\n",
       "      <td>서울특별시 마포구</td>\n",
       "      <td>chowk1109@naver.com</td>\n",
       "      <td>18000</td>\n",
       "    </tr>\n",
       "    <tr>\n",
       "      <th>18</th>\n",
       "      <td>4</td>\n",
       "      <td>안태형</td>\n",
       "      <td>92/12/02</td>\n",
       "      <td>29</td>\n",
       "      <td>sk</td>\n",
       "      <td>상담심리학과</td>\n",
       "      <td>서울시 서초구 방배본동</td>\n",
       "      <td>anntae1202@hanmai.net</td>\n",
       "      <td>18000</td>\n",
       "    </tr>\n",
       "    <tr>\n",
       "      <th>19</th>\n",
       "      <td>13</td>\n",
       "      <td>권민준</td>\n",
       "      <td>94/04/12</td>\n",
       "      <td>27</td>\n",
       "      <td>kt</td>\n",
       "      <td>전자전기학과</td>\n",
       "      <td>경기도 수원시 영통구</td>\n",
       "      <td>kmj1342567@naver.com</td>\n",
       "      <td>16500</td>\n",
       "    </tr>\n",
       "    <tr>\n",
       "      <th>20</th>\n",
       "      <td>26</td>\n",
       "      <td>이예라</td>\n",
       "      <td>94/10/14</td>\n",
       "      <td>27</td>\n",
       "      <td>sk</td>\n",
       "      <td>수학</td>\n",
       "      <td>서울시 강서구</td>\n",
       "      <td>yela2w2w@naver.com</td>\n",
       "      <td>18000</td>\n",
       "    </tr>\n",
       "    <tr>\n",
       "      <th>21</th>\n",
       "      <td>19</td>\n",
       "      <td>이서지</td>\n",
       "      <td>96/04/21</td>\n",
       "      <td>25</td>\n",
       "      <td>sk</td>\n",
       "      <td>게임공학과</td>\n",
       "      <td>경기도 광주시</td>\n",
       "      <td>dltjwl421@naver.com</td>\n",
       "      <td>18000</td>\n",
       "    </tr>\n",
       "    <tr>\n",
       "      <th>22</th>\n",
       "      <td>28</td>\n",
       "      <td>전지연</td>\n",
       "      <td>94/10/08</td>\n",
       "      <td>27</td>\n",
       "      <td>kt</td>\n",
       "      <td>수학과</td>\n",
       "      <td>인천광역시 부평구 갈산동</td>\n",
       "      <td>jeonjiy2on@naver.com</td>\n",
       "      <td>16500</td>\n",
       "    </tr>\n",
       "    <tr>\n",
       "      <th>23</th>\n",
       "      <td>20</td>\n",
       "      <td>박지성</td>\n",
       "      <td>91/07/06</td>\n",
       "      <td>30</td>\n",
       "      <td>sk</td>\n",
       "      <td>통계학과</td>\n",
       "      <td>서울시 관악구 신림로</td>\n",
       "      <td>ticano@naver.com</td>\n",
       "      <td>18000</td>\n",
       "    </tr>\n",
       "    <tr>\n",
       "      <th>24</th>\n",
       "      <td>15</td>\n",
       "      <td>정주희</td>\n",
       "      <td>97/03/02</td>\n",
       "      <td>24</td>\n",
       "      <td>lg</td>\n",
       "      <td>전정통</td>\n",
       "      <td>서울시 중랑구 중화동</td>\n",
       "      <td>dewy0302@icloud.com</td>\n",
       "      <td>17000</td>\n",
       "    </tr>\n",
       "    <tr>\n",
       "      <th>25</th>\n",
       "      <td>21</td>\n",
       "      <td>이승혁</td>\n",
       "      <td>95/02/28</td>\n",
       "      <td>26</td>\n",
       "      <td>kt</td>\n",
       "      <td>항공sw공학</td>\n",
       "      <td>경기도 화성시 반송동</td>\n",
       "      <td>sh2463@gmail.com</td>\n",
       "      <td>16500</td>\n",
       "    </tr>\n",
       "    <tr>\n",
       "      <th>26</th>\n",
       "      <td>18</td>\n",
       "      <td>김소애</td>\n",
       "      <td>92/01/20</td>\n",
       "      <td>29</td>\n",
       "      <td>kt</td>\n",
       "      <td>보건학</td>\n",
       "      <td>서울시 송파구</td>\n",
       "      <td>jazz_6@naver.com</td>\n",
       "      <td>16500</td>\n",
       "    </tr>\n",
       "    <tr>\n",
       "      <th>27</th>\n",
       "      <td>30</td>\n",
       "      <td>김현수</td>\n",
       "      <td>93/04/15</td>\n",
       "      <td>28</td>\n",
       "      <td>lg</td>\n",
       "      <td>식품생명과</td>\n",
       "      <td>경기도 의정부시 민락동</td>\n",
       "      <td>khs0415p@naver.com</td>\n",
       "      <td>17000</td>\n",
       "    </tr>\n",
       "    <tr>\n",
       "      <th>28</th>\n",
       "      <td>14</td>\n",
       "      <td>홍승희</td>\n",
       "      <td>94/06/20</td>\n",
       "      <td>27</td>\n",
       "      <td>kt</td>\n",
       "      <td>금융보험학과</td>\n",
       "      <td>서울시 화곡동</td>\n",
       "      <td>likebird888@naver.com</td>\n",
       "      <td>16500</td>\n",
       "    </tr>\n",
       "    <tr>\n",
       "      <th>29</th>\n",
       "      <td>25</td>\n",
       "      <td>이태환</td>\n",
       "      <td>92/07/22</td>\n",
       "      <td>29</td>\n",
       "      <td>sk</td>\n",
       "      <td>반도체공학과</td>\n",
       "      <td>서울시 구로구 항동</td>\n",
       "      <td>blush0722@gmail.com</td>\n",
       "      <td>18000</td>\n",
       "    </tr>\n",
       "  </tbody>\n",
       "</table>\n",
       "</div>"
      ],
      "text/plain": [
       "    empno ename     birth  age telecom     major        address  \\\n",
       "0       9   양선종  94/07/26   27      kt      전자공학  서울특별시 강남구 역삼동   \n",
       "1       2   박민호  94/08/21   27      kt     전자공학과    서울시 노원구 상계동   \n",
       "2       7   강혜리  90/05/20   31      sk    광고홍보학과    서울시 노원구 공릉동   \n",
       "3      17   위주희  86/08/19   35      sk  Forensic    서울시 강동구 상일동   \n",
       "4      22   김유진  90/08/10   31      kt    국제회의통역    서울시 강동구 천호동   \n",
       "5      10   김명환  94/01/07   27      kt        산공    경기도 수원시 율천동   \n",
       "6       3   최민혁  89/07/26   32      sk     방사선학과         서울시은평구   \n",
       "7       5   최유리  96/12/10   25      sk      통계학과   서울시 강서구 내발산동   \n",
       "8       1   김태환  89/08/17   32      sk    전자전기학과    경기도 하남시 풍산동   \n",
       "9      23   김지석  93/08/25   28      lg       신학과    경기도 평택시 지산동   \n",
       "10      8   서동혁  95/09/29   26      sk      통계학과        서울시 강남구   \n",
       "11     29   한태현  91/12/21   30      sk      행정학과    서울시 송파구 풍납동   \n",
       "12     27   김서준  87/02/18   34      sk        수학    경기도 용인시 수지구   \n",
       "13      6   이준호  93/06/21   28      lg      경영학과    경기도 군포시 산본동   \n",
       "14     16   조성원  89/02/09   32      sk    금융위험관리  서울특별시 광진구 자양동   \n",
       "15     24   김은주  95/01/04   27      sk      디자인과    경기도 용인시 기흥구   \n",
       "16     11   박상희  96/06/10   25      kt    컴퓨터공학과        경기도 용인시   \n",
       "17     12   조원기  95/11/09   26      sk    정보통신공학      서울특별시 마포구   \n",
       "18      4   안태형  92/12/02   29      sk    상담심리학과   서울시 서초구 방배본동   \n",
       "19     13   권민준  94/04/12   27      kt    전자전기학과    경기도 수원시 영통구   \n",
       "20     26   이예라  94/10/14   27      sk        수학        서울시 강서구   \n",
       "21     19   이서지  96/04/21   25      sk     게임공학과        경기도 광주시   \n",
       "22     28   전지연  94/10/08   27      kt       수학과  인천광역시 부평구 갈산동   \n",
       "23     20   박지성  91/07/06   30      sk      통계학과    서울시 관악구 신림로   \n",
       "24     15   정주희  97/03/02   24      lg       전정통    서울시 중랑구 중화동   \n",
       "25     21   이승혁  95/02/28   26      kt    항공sw공학    경기도 화성시 반송동   \n",
       "26     18   김소애  92/01/20   29      kt       보건학        서울시 송파구   \n",
       "27     30   김현수  93/04/15   28      lg     식품생명과   경기도 의정부시 민락동   \n",
       "28     14   홍승희  94/06/20   27      kt    금융보험학과        서울시 화곡동   \n",
       "29     25   이태환  92/07/22   29      sk    반도체공학과     서울시 구로구 항동   \n",
       "\n",
       "                     email  t_price  \n",
       "0   cloudstrifey@naver.com    16500  \n",
       "1     qkdkralsgh@naver.com    16500  \n",
       "2       hyeri520@gmail.com    18000  \n",
       "3        wejuhee@gmail.com    18000  \n",
       "4      eujin2030@gmail.com    16500  \n",
       "5      kimmh6017@gmail.com    16500  \n",
       "6    check5657@hanmail.net    18000  \n",
       "7        gowrasd@naver.com    18000  \n",
       "8    taewhan7725@gmail.com    18000  \n",
       "9        yng1240@naver.com    17000  \n",
       "10  tjehdgur0929@naver.com    18000  \n",
       "11      thhan1@hanmail.net    18000  \n",
       "12  seojun.a.kim@gmail.com    18000  \n",
       "13      junho621@gmail.com    17000  \n",
       "14  seongwoncho2@gmail.com    18000  \n",
       "15     dmswn0691@naver.com    18000  \n",
       "16       estherp@naver.com    16500  \n",
       "17     chowk1109@naver.com    18000  \n",
       "18   anntae1202@hanmai.net    18000  \n",
       "19    kmj1342567@naver.com    16500  \n",
       "20      yela2w2w@naver.com    18000  \n",
       "21     dltjwl421@naver.com    18000  \n",
       "22    jeonjiy2on@naver.com    16500  \n",
       "23        ticano@naver.com    18000  \n",
       "24     dewy0302@icloud.com    17000  \n",
       "25        sh2463@gmail.com    16500  \n",
       "26        jazz_6@naver.com    16500  \n",
       "27      khs0415p@naver.com    17000  \n",
       "28   likebird888@naver.com    16500  \n",
       "29     blush0722@gmail.com    18000  "
      ]
     },
     "execution_count": 132,
     "metadata": {},
     "output_type": "execute_result"
    }
   ],
   "source": [
    "from my_loc import oracle as oc\n",
    "oc.connect('emp11')\n",
    "emp11"
   ]
  },
  {
   "cell_type": "markdown",
   "metadata": {},
   "source": [
    "### ※(오늘의 마지막 문제) 아래의 SQL을 Pandas로 구현하시오\n",
    "```sql\n",
    "select job, count(*) as 인원수\n",
    "    from emp\n",
    "    group by job\n",
    "    ```"
   ]
  },
  {
   "cell_type": "code",
   "execution_count": 163,
   "metadata": {
    "ExecuteTime": {
     "end_time": "2020-05-20T07:56:59.356865Z",
     "start_time": "2020-05-20T07:56:59.340875Z"
    }
   },
   "outputs": [
    {
     "data": {
      "text/html": [
       "<div>\n",
       "<style scoped>\n",
       "    .dataframe tbody tr th:only-of-type {\n",
       "        vertical-align: middle;\n",
       "    }\n",
       "\n",
       "    .dataframe tbody tr th {\n",
       "        vertical-align: top;\n",
       "    }\n",
       "\n",
       "    .dataframe thead th {\n",
       "        text-align: right;\n",
       "    }\n",
       "</style>\n",
       "<table border=\"1\" class=\"dataframe\">\n",
       "  <thead>\n",
       "    <tr style=\"text-align: right;\">\n",
       "      <th></th>\n",
       "      <th>job</th>\n",
       "      <th>인원수</th>\n",
       "    </tr>\n",
       "  </thead>\n",
       "  <tbody>\n",
       "    <tr>\n",
       "      <th>0</th>\n",
       "      <td>ANALYST</td>\n",
       "      <td>2</td>\n",
       "    </tr>\n",
       "    <tr>\n",
       "      <th>1</th>\n",
       "      <td>CLERK</td>\n",
       "      <td>4</td>\n",
       "    </tr>\n",
       "    <tr>\n",
       "      <th>2</th>\n",
       "      <td>MANAGER</td>\n",
       "      <td>3</td>\n",
       "    </tr>\n",
       "    <tr>\n",
       "      <th>3</th>\n",
       "      <td>PRESIDENT</td>\n",
       "      <td>1</td>\n",
       "    </tr>\n",
       "    <tr>\n",
       "      <th>4</th>\n",
       "      <td>SALESMAN</td>\n",
       "      <td>4</td>\n",
       "    </tr>\n",
       "  </tbody>\n",
       "</table>\n",
       "</div>"
      ],
      "text/plain": [
       "         job  인원수\n",
       "0    ANALYST    2\n",
       "1      CLERK    4\n",
       "2    MANAGER    3\n",
       "3  PRESIDENT    1\n",
       "4   SALESMAN    4"
      ]
     },
     "execution_count": 163,
     "metadata": {},
     "output_type": "execute_result"
    }
   ],
   "source": [
    "emp=pd.read_csv('k:/Itwill/2. Python/자료/emp3.csv')\n",
    "rs=emp[['empno','job']]\n",
    "rs1=rs.groupby('job')['empno'].count().reset_index()\n",
    "rs1.columns.values[1]='인원수'\n",
    "rs1"
   ]
  },
  {
   "cell_type": "code",
   "execution_count": 162,
   "metadata": {
    "ExecuteTime": {
     "end_time": "2020-05-20T07:56:52.574101Z",
     "start_time": "2020-05-20T07:56:52.499147Z"
    }
   },
   "outputs": [
    {
     "data": {
      "text/html": [
       "<div>\n",
       "<style scoped>\n",
       "    .dataframe tbody tr th:only-of-type {\n",
       "        vertical-align: middle;\n",
       "    }\n",
       "\n",
       "    .dataframe tbody tr th {\n",
       "        vertical-align: top;\n",
       "    }\n",
       "\n",
       "    .dataframe thead th {\n",
       "        text-align: right;\n",
       "    }\n",
       "</style>\n",
       "<table border=\"1\" class=\"dataframe\">\n",
       "  <thead>\n",
       "    <tr style=\"text-align: right;\">\n",
       "      <th></th>\n",
       "      <th>JOB</th>\n",
       "      <th>인원수</th>\n",
       "    </tr>\n",
       "  </thead>\n",
       "  <tbody>\n",
       "    <tr>\n",
       "      <th>0</th>\n",
       "      <td>ANALYST</td>\n",
       "      <td>2</td>\n",
       "    </tr>\n",
       "    <tr>\n",
       "      <th>1</th>\n",
       "      <td>CLERK</td>\n",
       "      <td>4</td>\n",
       "    </tr>\n",
       "    <tr>\n",
       "      <th>2</th>\n",
       "      <td>MANAGER</td>\n",
       "      <td>3</td>\n",
       "    </tr>\n",
       "    <tr>\n",
       "      <th>3</th>\n",
       "      <td>PRESIDENT</td>\n",
       "      <td>1</td>\n",
       "    </tr>\n",
       "    <tr>\n",
       "      <th>4</th>\n",
       "      <td>SALESMAN</td>\n",
       "      <td>4</td>\n",
       "    </tr>\n",
       "  </tbody>\n",
       "</table>\n",
       "</div>"
      ],
      "text/plain": [
       "         JOB  인원수\n",
       "0    ANALYST    2\n",
       "1      CLERK    4\n",
       "2    MANAGER    3\n",
       "3  PRESIDENT    1\n",
       "4   SALESMAN    4"
      ]
     },
     "execution_count": 162,
     "metadata": {},
     "output_type": "execute_result"
    }
   ],
   "source": [
    "from my_loc import oracle as oc\n",
    "emp=oc.connect('emp')\n",
    "rs=emp[['EMPNO','JOB']]\n",
    "rs1=rs.groupby('JOB')['EMPNO'].count().reset_index()\n",
    "rs1.columns.values[1]='인원수'\n",
    "rs1"
   ]
  }
 ],
 "metadata": {
  "kernelspec": {
   "display_name": "Python 3",
   "language": "python",
   "name": "python3"
  },
  "language_info": {
   "codemirror_mode": {
    "name": "ipython",
    "version": 3
   },
   "file_extension": ".py",
   "mimetype": "text/x-python",
   "name": "python",
   "nbconvert_exporter": "python",
   "pygments_lexer": "ipython3",
   "version": "3.7.4"
  },
  "toc": {
   "base_numbering": 1,
   "nav_menu": {},
   "number_sections": true,
   "sideBar": true,
   "skip_h1_title": false,
   "title_cell": "Table of Contents",
   "title_sidebar": "Contents",
   "toc_cell": false,
   "toc_position": {},
   "toc_section_display": true,
   "toc_window_display": true
  },
  "varInspector": {
   "cols": {
    "lenName": 16,
    "lenType": 16,
    "lenVar": 40
   },
   "kernels_config": {
    "python": {
     "delete_cmd_postfix": "",
     "delete_cmd_prefix": "del ",
     "library": "var_list.py",
     "varRefreshCmd": "print(var_dic_list())"
    },
    "r": {
     "delete_cmd_postfix": ") ",
     "delete_cmd_prefix": "rm(",
     "library": "var_list.r",
     "varRefreshCmd": "cat(var_dic_list()) "
    }
   },
   "types_to_exclude": [
    "module",
    "function",
    "builtin_function_or_method",
    "instance",
    "_Feature"
   ],
   "window_display": false
  }
 },
 "nbformat": 4,
 "nbformat_minor": 4
}
