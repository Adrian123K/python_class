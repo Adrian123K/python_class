{
 "cells": [
  {
   "cell_type": "markdown",
   "metadata": {},
   "source": [
    "### ■ 예제156. 탐욕 알고리즘\n",
    "#### 탐욕 알고리즘은 매 순간마다 최선의 선택을 하는 것. 선택할 때마다 가장 좋다고 생각되는 것을 선택해 나가며 최종적인 해답을 구하는 알고리즘. \n",
    "#### 이 알고리즘을 설계할 때 주의할 점은 전체를 고려하는게 아니라 문제를 부분적으로 나누어 나누어진 문제에 대한 최적의 해답을 구하게끔 해야한다는 것."
   ]
  },
  {
   "cell_type": "markdown",
   "metadata": {},
   "source": [
    "##### 예시\n",
    "    14원의 잔돈을 줘야하는데 잔돈의 종류가 10, 7, 1원이 있으면 잔돈을 가장 빨리 줄 수 있는 방법 -> 7원 2개\n",
    "    탐욕 알고리즘은 10원 동전1개 1원 동전 4개"
   ]
  },
  {
   "cell_type": "markdown",
   "metadata": {},
   "source": [
    "### ※ (오늘의 마지막 문제) 잔돈을 가장 빨리 나눠주는 방법으로 코드를 구현\n",
    "    잔돈을 입력하세요 : 14\n",
    "    10원 동전 0개, 7원 동전 2개, 1원 동전 0개로 줍니다"
   ]
  },
  {
   "cell_type": "code",
   "execution_count": 42,
   "metadata": {
    "ExecuteTime": {
     "end_time": "2020-06-08T01:52:15.653540Z",
     "start_time": "2020-06-08T01:52:13.908893Z"
    }
   },
   "outputs": [
    {
     "name": "stdout",
     "output_type": "stream",
     "text": [
      "거스름돈으로 사용할 동전 종류: 10 7 1\n",
      "7원 5개 1원,3개\n"
     ]
    }
   ],
   "source": [
    "def change(n):\n",
    "    coin=sorted(list(map(int, input('거스름돈으로 사용할 동전 종류: ').split())),reverse=True)\n",
    "    change=[0]*len(coin)\n",
    "    remain=[]\n",
    "    rs=[]\n",
    "    cnt=[]\n",
    "    for i in range(len(coin)):\n",
    "        change[i]=n//coin[i] # 처음 나눈 몫 (개수)\n",
    "        remain.append(n%coin[i]) # 처음 나눈 나머지\n",
    "    for k in range(len(coin)):\n",
    "        temp=[]\n",
    "        for j in range(len(coin)):\n",
    "            temp.append(remain[k]//coin[j])\n",
    "        rs.append(temp) # 나머지를 다시 나눈 몫 (개수)\n",
    "    for l in range(len(rs)):\n",
    "        cnt.append(change[l]+sum(rs[l]))\n",
    "    if remain[cnt.index(min(cnt))] != 0:\n",
    "        print(f'{coin[cnt.index(min(cnt))]}원 {change[cnt.index(min(cnt))]+rs[cnt.index(min(cnt))][cnt.index(min(cnt))]}개 {coin[-1]}원,{remain[cnt.index(min(cnt))]}개')\n",
    "    elif remain[cnt.index(min(cnt))] == 0:\n",
    "        print(f'{coin[cnt.index(min(cnt))]}원 {change[cnt.index(min(cnt))]+rs[cnt.index(min(cnt))][cnt.index(min(cnt))]}개')\n",
    "            \n",
    "change(38)"
   ]
  },
  {
   "cell_type": "code",
   "execution_count": 60,
   "metadata": {
    "ExecuteTime": {
     "end_time": "2020-06-08T04:45:05.539888Z",
     "start_time": "2020-06-08T04:45:05.524266Z"
    }
   },
   "outputs": [
    {
     "name": "stdout",
     "output_type": "stream",
     "text": [
      "10원 2개, 1원 4개\n"
     ]
    }
   ],
   "source": [
    "coin=[10,7,1]\n",
    "change=[0]*len(coin)\n",
    "remain=[]\n",
    "rs=[]\n",
    "rs_rm=[]\n",
    "cnt=[]\n",
    "for i in range(len(coin)):\n",
    "    change[i]=24//coin[i] # 처음 나눈 몫 (개수)\n",
    "    remain.append(24%coin[i]) # 처음 나눈 나머지\n",
    "for k in range(len(coin)):\n",
    "    temp=[]\n",
    "    temp_r=[]\n",
    "    for j in range(len(coin)):\n",
    "        temp.append(remain[k]//coin[j])\n",
    "        temp_r.append(remain[k]%coin[j])\n",
    "#     for l in range(len(rs)):\n",
    "#         if temp_r[l] != 0:\n",
    "#             print(temp_r[l])\n",
    "#             temp[l]=temp[l] + temp_r[l]//coin[l]\n",
    "#             temp_r[l]=temp_r[l] + temp_r[l]//coin[l]\n",
    "    rs.append(temp) # 나머지를 다시 나눈 몫 (개수)\n",
    "    rs_rm.append(temp_r)\n",
    "# print(rs)\n",
    "# print(rs_rm)\n",
    "for l in range(len(rs)):\n",
    "    cnt.append(change[l]+sum(rs[l]))\n",
    "if remain[cnt.index(min(cnt))] != 0:\n",
    "    print(f'{coin[cnt.index(min(cnt))]}원 {change[cnt.index(min(cnt))]+rs[cnt.index(min(cnt))][cnt.index(min(cnt))]}개, {coin[-1]}원 {remain[cnt.index(min(cnt))]}개')\n",
    "elif remain[cnt.index(min(cnt))] == 0:\n",
    "    print(f'{coin[cnt.index(min(cnt))]}원 {change[cnt.index(min(cnt))]+rs[cnt.index(min(cnt))][cnt.index(min(cnt))]}개')\n",
    "\n",
    "# coin, change, remain, rs"
   ]
  },
  {
   "cell_type": "code",
   "execution_count": null,
   "metadata": {},
   "outputs": [],
   "source": []
  },
  {
   "cell_type": "code",
   "execution_count": null,
   "metadata": {},
   "outputs": [],
   "source": []
  },
  {
   "cell_type": "code",
   "execution_count": null,
   "metadata": {},
   "outputs": [],
   "source": []
  },
  {
   "cell_type": "markdown",
   "metadata": {},
   "source": [
    "### ※ (점심시간 문제) 동전던지기  도박사의 주장을 반론하기 위한  함수를 생성하는데 함수에  인자값을 아래와 같이 3개로 해서 생성하시오~ "
   ]
  },
  {
   "cell_type": "code",
   "execution_count": 10,
   "metadata": {
    "ExecuteTime": {
     "end_time": "2020-06-05T03:14:04.530963Z",
     "start_time": "2020-06-05T03:14:03.124127Z"
    }
   },
   "outputs": [
    {
     "data": {
      "image/png": "[encoded data removed]",
      "text/plain": [
       "<Figure size 792x576 with 1 Axes>"
      ]
     },
     "metadata": {
      "needs_background": "light"
     },
     "output_type": "display_data"
    },
    {
     "name": "stdout",
     "output_type": "stream",
     "text": [
      "동전을 8 번 던졌을 때 뒷면이 나오는 횟수가 7 번 나올 확률은 신뢰구간 68% 안에 없습니다.\n"
     ]
    }
   ],
   "source": [
    "def coin_hypo(coin, num, brief=68) : \n",
    "\n",
    "    import random\n",
    "    import numpy as np\n",
    "    import math\n",
    "    from scipy.stats import norm\n",
    "    import matplotlib.pyplot as plt\n",
    "\n",
    "    x = [i for i in range(coin +1)]\n",
    "    y = [0 for i in range(len(x))]\n",
    "\n",
    "    for i in range(100000):\n",
    "        sum=0\n",
    "        for j in range(coin):\n",
    "            sum+=random.randint(0,1)\n",
    "        y[sum]+=1\n",
    "\n",
    "    for i in range(coin+1):\n",
    "        y[i]/=100000\n",
    "\n",
    "    m = []\n",
    "    for k in range(len(x)) :\n",
    "        m.append( x[k] * y[k] )\n",
    "    mu = np.sum(m)\n",
    "    mu\n",
    "    var = []\n",
    "    for k in range(len(x)) :\n",
    "        var.append(((x[k] - mu)**2)*y[k])\n",
    "    var_s = np.sum(var)\n",
    "    sd = math.sqrt(var_s)\n",
    "    \n",
    "    if brief == 68:\n",
    "        z=1.02\n",
    "    elif brief == 95:\n",
    "        z=1.96\n",
    "    elif brief == 99:\n",
    "        z=2.58\n",
    "    \n",
    "    x_1 = mu - z * sd\n",
    "    x_2 = mu + z * sd\n",
    "\n",
    "    plt.rcParams[\"figure.figsize\"] = (11, 8)\n",
    "    plt.bar(x, y,  align='center', color='red', alpha = 0.7)  # 막대그래프 시각화\n",
    "    plt.fill_between(x , y,  where = (x_1 < x) & (x < x_2) , color = 'blue', alpha = 0.3)\n",
    "    plt.plot(x, y, color = 'blue', alpha = 0.4)\n",
    "    plt.xlabel('# of T', fontsize = 15) # x축 이름\n",
    "    plt.ylabel('Probability', fontsize = 15) # y축 이름\n",
    "    plt.title('Coin Probability', fontsize = 20)  # 그래프 제목\n",
    "    plt.show()\n",
    "    if x_1 <= num <=  x_2 :\n",
    "        return f'동전을 {coin} 번 던졌을 때 뒷면이 나오는 횟수가 {num} 번 나올 확률은 신뢰구간 {brief}% 안에 있습니다.'\n",
    "    else :\n",
    "        return f'동전을 {coin} 번 던졌을 때 뒷면이 나오는 횟수가 {num} 번 나올 확률은 신뢰구간 {brief}% 안에 없습니다.'\n",
    "\n",
    "print(coin_hypo(coin = 8, num = 7))"
   ]
  },
  {
   "cell_type": "markdown",
   "metadata": {},
   "source": [
    "### ※ 이미지 스크롤링"
   ]
  },
  {
   "cell_type": "code",
   "execution_count": 7,
   "metadata": {
    "ExecuteTime": {
     "end_time": "2020-06-05T02:39:18.301266Z",
     "start_time": "2020-06-05T02:36:30.373541Z"
    }
   },
   "outputs": [],
   "source": [
    "import urllib.request\n",
    "from bs4 import BeautifulSoup\n",
    "from selenium import webdriver  # 웹 애플리케이션의 테스트를 자동화하기 위한 프레임 워크\n",
    "from selenium.webdriver.common.keys import Keys\n",
    "import time                     # 중간중간 sleep 을 걸어야 해서 time 모듈 import\n",
    "\n",
    "# 웹브라우져로 크롬을 사용할거라서 크롬 드라이버를 다운받아 위의 위치에 둔다\n",
    "# 팬텀 js로 하면 백그라운드로 실행할 수 있음\n",
    "binary = 'D:/chromedriver/chromedriver.exe'\n",
    "\n",
    "# 브라우져를 인스턴스화\n",
    "browser = webdriver.Chrome(binary)\n",
    "\n",
    "# 구글의 이미지 검색 url 받아옴(아무것도 안 쳤을때의 url)\n",
    "browser.get(\n",
    "    \"https://www.google.co.kr/imghp?hl=ko&tab=wi&ogbl\")\n",
    "\n",
    "# 구글의 이미지 검색에 해당하는 input 창의 id 가 '  ?  ' 임(검색창에 해당하는 html코드를 찾아서 elem 사용하도록 설정)\n",
    "# input창 찾는 방법은 원노트에 있음\n",
    "\n",
    "#elem = browser.find_elements_by_class_name('gLFyf gsfi')\n",
    "\n",
    "elem = browser.find_element_by_xpath(\"//*[@id='sbtc']/div/div[2]/input\")\n",
    "\n",
    "########################### 검색어 입력 ###########################\n",
    "\n",
    "# elem 이 input 창과 연결되어 스스로 햄버거를 검색\n",
    "elem.send_keys(\"nightview\")\n",
    "\n",
    "# 웹에서의 submit 은 엔터의 역할을 함\n",
    "elem.submit()\n",
    "\n",
    "########################### 반복할 횟수 ###########################\n",
    "\n",
    "# 스크롤을 내리려면 브라우져 이미지 검색결과 부분(바디부분)에 마우스 클릭 한번 하고 End키를 눌러야함\n",
    "for i in range(1, 5):\n",
    "    browser.find_element_by_xpath(\"//body\").send_keys(Keys.END)\n",
    "    time.sleep(15)                  # END 키 누르고 내려가는데 시간이 걸려서 sleep 해줌\n",
    "\n",
    "time.sleep(10)                      # 네트워크 느릴까봐 안정성 위해 sleep 해줌\n",
    "html = browser.page_source         # 크롬브라우져에서 현재 불러온 소스 가져옴\n",
    "soup = BeautifulSoup(html, \"lxml\")  # html 코드를 검색할 수 있도록 설정\n",
    "\n",
    "\n",
    "########################### 그림파일 저장 ###########################\n",
    "\n",
    "def fetch_list_url():\n",
    "    params = []\n",
    "    # 구글 이미지 url 이 있는 img 태그의 _img 클래스에 가서\n",
    "    imgList = soup.find_all(\"img\", class_=\"rg_i\")\n",
    "    for im in imgList:\n",
    "        try:\n",
    "            # params 리스트에 image url 을 담음\n",
    "            params.append(im[\"src\"])\n",
    "        except KeyError:\n",
    "            params.append(im[\"data-src\"])\n",
    "    return params\n",
    "\n",
    "# 이미지의 상세 url 의 값이 있는 src 가 없을 경우\n",
    "# data-src 로 가져오시오 ~\n",
    "\n",
    "\n",
    "def fetch_detail_url():\n",
    "    params = fetch_list_url()\n",
    "\n",
    "    for idx, p in enumerate(params, 1):\n",
    "        # 다운받을 폴더경로 입력\n",
    "        urllib.request.urlretrieve(p, \"d:/nightview/\" + str(idx) + \".jpg\")\n",
    "\n",
    "# enumerate 는 리스트의 모든 요소를 인덱스와 쌍으로 추출\n",
    "# 하는 함수 . 숫자 1은 인덱스를 1부터 시작해라 ~\n",
    "\n",
    "\n",
    "fetch_detail_url()\n",
    "\n",
    "# 끝나면 브라우져 닫기\n",
    "browser.quit()"
   ]
  },
  {
   "cell_type": "code",
   "execution_count": null,
   "metadata": {},
   "outputs": [],
   "source": []
  },
  {
   "cell_type": "code",
   "execution_count": null,
   "metadata": {},
   "outputs": [],
   "source": []
  }
 ],
 "metadata": {
  "kernelspec": {
   "display_name": "Python 3",
   "language": "python",
   "name": "python3"
  },
  "language_info": {
   "codemirror_mode": {
    "name": "ipython",
    "version": 3
   },
   "file_extension": ".py",
   "mimetype": "text/x-python",
   "name": "python",
   "nbconvert_exporter": "python",
   "pygments_lexer": "ipython3",
   "version": "3.7.6"
  },
  "toc": {
   "base_numbering": 1,
   "nav_menu": {},
   "number_sections": true,
   "sideBar": true,
   "skip_h1_title": false,
   "title_cell": "Table of Contents",
   "title_sidebar": "Contents",
   "toc_cell": false,
   "toc_position": {},
   "toc_section_display": true,
   "toc_window_display": false
  },
  "varInspector": {
   "cols": {
    "lenName": 16,
    "lenType": 16,
    "lenVar": 40
   },
   "kernels_config": {
    "python": {
     "delete_cmd_postfix": "",
     "delete_cmd_prefix": "del ",
     "library": "var_list.py",
     "varRefreshCmd": "print(var_dic_list())"
    },
    "r": {
     "delete_cmd_postfix": ") ",
     "delete_cmd_prefix": "rm(",
     "library": "var_list.r",
     "varRefreshCmd": "cat(var_dic_list()) "
    }
   },
   "types_to_exclude": [
    "module",
    "function",
    "builtin_function_or_method",
    "instance",
    "_Feature"
   ],
   "window_display": false
  }
 },
 "nbformat": 4,
 "nbformat_minor": 4
}
